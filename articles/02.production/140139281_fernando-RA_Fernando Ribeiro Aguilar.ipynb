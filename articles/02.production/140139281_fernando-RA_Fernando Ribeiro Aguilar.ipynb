{
 "cells": [
  {
   "cell_type": "code",
   "execution_count": null,
   "metadata": {},
   "outputs": [],
   "source": [
    "# From Model To Production\n",
    "\n",
    "# https://course.fast.ai/Lessons/lesson2.html\n",
    "# https://github.com/fastai/fastbook/blob/master/02_production.ipynb\n",
    "# "
   ]
  },
  {
   "cell_type": "markdown",
   "metadata": {},
   "source": [
    "Dataset Idea\n",
    "\n",
    "* train model to tests which supercar it is\n",
    "\n",
    "* options: \n",
    "    * GP cars\n",
    "        1. formula one\n",
    "        2. formula indy\n",
    "        3. nascar\n",
    "        4. gp lemans prototype\n",
    "        5. gp lemans turismo \n"
   ]
  }
 ],
 "metadata": {
  "kernelspec": {
   "display_name": "Python 3.9.10 64-bit",
   "language": "python",
   "name": "python3"
  },
  "language_info": {
   "name": "python",
   "version": "3.9.10"
  },
  "orig_nbformat": 4,
  "vscode": {
   "interpreter": {
    "hash": "aee8b7b246df8f9039afb4144a1f6fd8d2ca17a180786b69acc140d282b71a49"
   }
  }
 },
 "nbformat": 4,
 "nbformat_minor": 2
}
