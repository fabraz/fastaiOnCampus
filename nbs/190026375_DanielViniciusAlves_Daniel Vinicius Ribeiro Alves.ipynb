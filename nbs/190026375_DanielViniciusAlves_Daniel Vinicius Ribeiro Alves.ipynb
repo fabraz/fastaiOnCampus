{
 "cells": [
  {
   "cell_type": "markdown",
   "id": "087f243e",
   "metadata": {
    "editable": false,
    "papermill": {
     "duration": 0.014105,
     "end_time": "2023-01-17T16:19:19.230429",
     "exception": false,
     "start_time": "2023-01-17T16:19:19.216324",
     "status": "completed"
    },
    "tags": []
   },
   "source": [
    "Na lição 6 do FastAI Jeremy ensina a fazer um random forest do zero. Para fazer isso eu irei escolher um Dataset do Kaggle que permite prever a partir de informações médicas se uma pessoa tem diabetes.\n",
    "Inicialmente temos que importar algumas bibliotecas e definir o pathing do dataset no notebook."
   ]
  },
  {
   "cell_type": "code",
   "execution_count": 1,
   "id": "495bab9a",
   "metadata": {
    "_cell_guid": "b1076dfc-b9ad-4769-8c92-a6c4dae69d19",
    "_uuid": "8f2839f25d086af736a60e9eeb907d3b93b6e0e5",
    "editable": false,
    "execution": {
     "iopub.execute_input": "2023-01-17T16:19:19.258818Z",
     "iopub.status.busy": "2023-01-17T16:19:19.258310Z",
     "iopub.status.idle": "2023-01-17T16:19:19.543948Z",
     "shell.execute_reply": "2023-01-17T16:19:19.542788Z"
    },
    "papermill": {
     "duration": 0.303939,
     "end_time": "2023-01-17T16:19:19.546804",
     "exception": false,
     "start_time": "2023-01-17T16:19:19.242865",
     "status": "completed"
    },
    "tags": []
   },
   "outputs": [],
   "source": [
    "from fastai.imports import *\n",
    "np.set_printoptions(linewidth=130)\n",
    "\n",
    "import pandas as pd\n",
    "import numpy as np\n",
    "\n",
    "from pathlib import Path\n",
    "path = Path('../input/predict-diabities')"
   ]
  },
  {
   "cell_type": "markdown",
   "id": "ac8af21e",
   "metadata": {
    "editable": false,
    "papermill": {
     "duration": 0.011993,
     "end_time": "2023-01-17T16:19:19.571223",
     "exception": false,
     "start_time": "2023-01-17T16:19:19.559230",
     "status": "completed"
    },
    "tags": []
   },
   "source": [
    "Após feito isso podemos observar que esse Dataset possui 768 linhas e 9 colunas, sendo a coluna target a \"Outcome\", que indica 1 caso a pessoa tenha diabetes e 0 caso contrário."
   ]
  },
  {
   "cell_type": "code",
   "execution_count": 2,
   "id": "36fe0115",
   "metadata": {
    "editable": false,
    "execution": {
     "iopub.execute_input": "2023-01-17T16:19:19.598036Z",
     "iopub.status.busy": "2023-01-17T16:19:19.597407Z",
     "iopub.status.idle": "2023-01-17T16:19:19.646820Z",
     "shell.execute_reply": "2023-01-17T16:19:19.646028Z"
    },
    "papermill": {
     "duration": 0.068678,
     "end_time": "2023-01-17T16:19:19.652255",
     "exception": false,
     "start_time": "2023-01-17T16:19:19.583577",
     "status": "completed"
    },
    "tags": []
   },
   "outputs": [
    {
     "data": {
      "text/html": [
       "<div>\n",
       "<style scoped>\n",
       "    .dataframe tbody tr th:only-of-type {\n",
       "        vertical-align: middle;\n",
       "    }\n",
       "\n",
       "    .dataframe tbody tr th {\n",
       "        vertical-align: top;\n",
       "    }\n",
       "\n",
       "    .dataframe thead th {\n",
       "        text-align: right;\n",
       "    }\n",
       "</style>\n",
       "<table border=\"1\" class=\"dataframe\">\n",
       "  <thead>\n",
       "    <tr style=\"text-align: right;\">\n",
       "      <th></th>\n",
       "      <th>Pregnancies</th>\n",
       "      <th>Glucose</th>\n",
       "      <th>BloodPressure</th>\n",
       "      <th>SkinThickness</th>\n",
       "      <th>Insulin</th>\n",
       "      <th>BMI</th>\n",
       "      <th>DiabetesPedigreeFunction</th>\n",
       "      <th>Age</th>\n",
       "      <th>Outcome</th>\n",
       "    </tr>\n",
       "  </thead>\n",
       "  <tbody>\n",
       "    <tr>\n",
       "      <th>0</th>\n",
       "      <td>6</td>\n",
       "      <td>148</td>\n",
       "      <td>72</td>\n",
       "      <td>35</td>\n",
       "      <td>0</td>\n",
       "      <td>33.6</td>\n",
       "      <td>0.627</td>\n",
       "      <td>50</td>\n",
       "      <td>1</td>\n",
       "    </tr>\n",
       "    <tr>\n",
       "      <th>1</th>\n",
       "      <td>1</td>\n",
       "      <td>85</td>\n",
       "      <td>66</td>\n",
       "      <td>29</td>\n",
       "      <td>0</td>\n",
       "      <td>26.6</td>\n",
       "      <td>0.351</td>\n",
       "      <td>31</td>\n",
       "      <td>0</td>\n",
       "    </tr>\n",
       "    <tr>\n",
       "      <th>2</th>\n",
       "      <td>8</td>\n",
       "      <td>183</td>\n",
       "      <td>64</td>\n",
       "      <td>0</td>\n",
       "      <td>0</td>\n",
       "      <td>23.3</td>\n",
       "      <td>0.672</td>\n",
       "      <td>32</td>\n",
       "      <td>1</td>\n",
       "    </tr>\n",
       "    <tr>\n",
       "      <th>3</th>\n",
       "      <td>1</td>\n",
       "      <td>89</td>\n",
       "      <td>66</td>\n",
       "      <td>23</td>\n",
       "      <td>94</td>\n",
       "      <td>28.1</td>\n",
       "      <td>0.167</td>\n",
       "      <td>21</td>\n",
       "      <td>0</td>\n",
       "    </tr>\n",
       "    <tr>\n",
       "      <th>4</th>\n",
       "      <td>0</td>\n",
       "      <td>137</td>\n",
       "      <td>40</td>\n",
       "      <td>35</td>\n",
       "      <td>168</td>\n",
       "      <td>43.1</td>\n",
       "      <td>2.288</td>\n",
       "      <td>33</td>\n",
       "      <td>1</td>\n",
       "    </tr>\n",
       "    <tr>\n",
       "      <th>...</th>\n",
       "      <td>...</td>\n",
       "      <td>...</td>\n",
       "      <td>...</td>\n",
       "      <td>...</td>\n",
       "      <td>...</td>\n",
       "      <td>...</td>\n",
       "      <td>...</td>\n",
       "      <td>...</td>\n",
       "      <td>...</td>\n",
       "    </tr>\n",
       "    <tr>\n",
       "      <th>763</th>\n",
       "      <td>10</td>\n",
       "      <td>101</td>\n",
       "      <td>76</td>\n",
       "      <td>48</td>\n",
       "      <td>180</td>\n",
       "      <td>32.9</td>\n",
       "      <td>0.171</td>\n",
       "      <td>63</td>\n",
       "      <td>0</td>\n",
       "    </tr>\n",
       "    <tr>\n",
       "      <th>764</th>\n",
       "      <td>2</td>\n",
       "      <td>122</td>\n",
       "      <td>70</td>\n",
       "      <td>27</td>\n",
       "      <td>0</td>\n",
       "      <td>36.8</td>\n",
       "      <td>0.340</td>\n",
       "      <td>27</td>\n",
       "      <td>0</td>\n",
       "    </tr>\n",
       "    <tr>\n",
       "      <th>765</th>\n",
       "      <td>5</td>\n",
       "      <td>121</td>\n",
       "      <td>72</td>\n",
       "      <td>23</td>\n",
       "      <td>112</td>\n",
       "      <td>26.2</td>\n",
       "      <td>0.245</td>\n",
       "      <td>30</td>\n",
       "      <td>0</td>\n",
       "    </tr>\n",
       "    <tr>\n",
       "      <th>766</th>\n",
       "      <td>1</td>\n",
       "      <td>126</td>\n",
       "      <td>60</td>\n",
       "      <td>0</td>\n",
       "      <td>0</td>\n",
       "      <td>30.1</td>\n",
       "      <td>0.349</td>\n",
       "      <td>47</td>\n",
       "      <td>1</td>\n",
       "    </tr>\n",
       "    <tr>\n",
       "      <th>767</th>\n",
       "      <td>1</td>\n",
       "      <td>93</td>\n",
       "      <td>70</td>\n",
       "      <td>31</td>\n",
       "      <td>0</td>\n",
       "      <td>30.4</td>\n",
       "      <td>0.315</td>\n",
       "      <td>23</td>\n",
       "      <td>0</td>\n",
       "    </tr>\n",
       "  </tbody>\n",
       "</table>\n",
       "<p>768 rows × 9 columns</p>\n",
       "</div>"
      ],
      "text/plain": [
       "     Pregnancies  Glucose  BloodPressure  SkinThickness  Insulin   BMI  \\\n",
       "0              6      148             72             35        0  33.6   \n",
       "1              1       85             66             29        0  26.6   \n",
       "2              8      183             64              0        0  23.3   \n",
       "3              1       89             66             23       94  28.1   \n",
       "4              0      137             40             35      168  43.1   \n",
       "..           ...      ...            ...            ...      ...   ...   \n",
       "763           10      101             76             48      180  32.9   \n",
       "764            2      122             70             27        0  36.8   \n",
       "765            5      121             72             23      112  26.2   \n",
       "766            1      126             60              0        0  30.1   \n",
       "767            1       93             70             31        0  30.4   \n",
       "\n",
       "     DiabetesPedigreeFunction  Age  Outcome  \n",
       "0                       0.627   50        1  \n",
       "1                       0.351   31        0  \n",
       "2                       0.672   32        1  \n",
       "3                       0.167   21        0  \n",
       "4                       2.288   33        1  \n",
       "..                        ...  ...      ...  \n",
       "763                     0.171   63        0  \n",
       "764                     0.340   27        0  \n",
       "765                     0.245   30        0  \n",
       "766                     0.349   47        1  \n",
       "767                     0.315   23        0  \n",
       "\n",
       "[768 rows x 9 columns]"
      ]
     },
     "execution_count": 2,
     "metadata": {},
     "output_type": "execute_result"
    }
   ],
   "source": [
    "df = pd.read_csv(path/'diabetes.csv')\n",
    "df"
   ]
  },
  {
   "cell_type": "markdown",
   "id": "4c5246c4",
   "metadata": {
    "editable": false,
    "papermill": {
     "duration": 0.012329,
     "end_time": "2023-01-17T16:19:19.678954",
     "exception": false,
     "start_time": "2023-01-17T16:19:19.666625",
     "status": "completed"
    },
    "tags": []
   },
   "source": [
    "Para o tratamento dos dados podemos observar que existe certa discrepancia entre o mínimo e o máximo de alguns dados, logo será necessário usar uma função logarítimica para tratar esses dados que possuem uma cauda longa, pois acaba afetando a performance do modelo."
   ]
  },
  {
   "cell_type": "code",
   "execution_count": 3,
   "id": "9e20576b",
   "metadata": {
    "editable": false,
    "execution": {
     "iopub.execute_input": "2023-01-17T16:19:19.705565Z",
     "iopub.status.busy": "2023-01-17T16:19:19.705140Z",
     "iopub.status.idle": "2023-01-17T16:19:19.751793Z",
     "shell.execute_reply": "2023-01-17T16:19:19.750967Z"
    },
    "papermill": {
     "duration": 0.062822,
     "end_time": "2023-01-17T16:19:19.754225",
     "exception": false,
     "start_time": "2023-01-17T16:19:19.691403",
     "status": "completed"
    },
    "tags": []
   },
   "outputs": [
    {
     "data": {
      "text/html": [
       "<div>\n",
       "<style scoped>\n",
       "    .dataframe tbody tr th:only-of-type {\n",
       "        vertical-align: middle;\n",
       "    }\n",
       "\n",
       "    .dataframe tbody tr th {\n",
       "        vertical-align: top;\n",
       "    }\n",
       "\n",
       "    .dataframe thead th {\n",
       "        text-align: right;\n",
       "    }\n",
       "</style>\n",
       "<table border=\"1\" class=\"dataframe\">\n",
       "  <thead>\n",
       "    <tr style=\"text-align: right;\">\n",
       "      <th></th>\n",
       "      <th>Pregnancies</th>\n",
       "      <th>Glucose</th>\n",
       "      <th>BloodPressure</th>\n",
       "      <th>SkinThickness</th>\n",
       "      <th>Insulin</th>\n",
       "      <th>BMI</th>\n",
       "      <th>DiabetesPedigreeFunction</th>\n",
       "      <th>Age</th>\n",
       "      <th>Outcome</th>\n",
       "    </tr>\n",
       "  </thead>\n",
       "  <tbody>\n",
       "    <tr>\n",
       "      <th>count</th>\n",
       "      <td>768.000000</td>\n",
       "      <td>768.000000</td>\n",
       "      <td>768.000000</td>\n",
       "      <td>768.000000</td>\n",
       "      <td>768.000000</td>\n",
       "      <td>768.000000</td>\n",
       "      <td>768.000000</td>\n",
       "      <td>768.000000</td>\n",
       "      <td>768.000000</td>\n",
       "    </tr>\n",
       "    <tr>\n",
       "      <th>mean</th>\n",
       "      <td>3.845052</td>\n",
       "      <td>120.894531</td>\n",
       "      <td>69.105469</td>\n",
       "      <td>20.536458</td>\n",
       "      <td>79.799479</td>\n",
       "      <td>31.992578</td>\n",
       "      <td>0.471876</td>\n",
       "      <td>33.240885</td>\n",
       "      <td>0.348958</td>\n",
       "    </tr>\n",
       "    <tr>\n",
       "      <th>std</th>\n",
       "      <td>3.369578</td>\n",
       "      <td>31.972618</td>\n",
       "      <td>19.355807</td>\n",
       "      <td>15.952218</td>\n",
       "      <td>115.244002</td>\n",
       "      <td>7.884160</td>\n",
       "      <td>0.331329</td>\n",
       "      <td>11.760232</td>\n",
       "      <td>0.476951</td>\n",
       "    </tr>\n",
       "    <tr>\n",
       "      <th>min</th>\n",
       "      <td>0.000000</td>\n",
       "      <td>0.000000</td>\n",
       "      <td>0.000000</td>\n",
       "      <td>0.000000</td>\n",
       "      <td>0.000000</td>\n",
       "      <td>0.000000</td>\n",
       "      <td>0.078000</td>\n",
       "      <td>21.000000</td>\n",
       "      <td>0.000000</td>\n",
       "    </tr>\n",
       "    <tr>\n",
       "      <th>25%</th>\n",
       "      <td>1.000000</td>\n",
       "      <td>99.000000</td>\n",
       "      <td>62.000000</td>\n",
       "      <td>0.000000</td>\n",
       "      <td>0.000000</td>\n",
       "      <td>27.300000</td>\n",
       "      <td>0.243750</td>\n",
       "      <td>24.000000</td>\n",
       "      <td>0.000000</td>\n",
       "    </tr>\n",
       "    <tr>\n",
       "      <th>50%</th>\n",
       "      <td>3.000000</td>\n",
       "      <td>117.000000</td>\n",
       "      <td>72.000000</td>\n",
       "      <td>23.000000</td>\n",
       "      <td>30.500000</td>\n",
       "      <td>32.000000</td>\n",
       "      <td>0.372500</td>\n",
       "      <td>29.000000</td>\n",
       "      <td>0.000000</td>\n",
       "    </tr>\n",
       "    <tr>\n",
       "      <th>75%</th>\n",
       "      <td>6.000000</td>\n",
       "      <td>140.250000</td>\n",
       "      <td>80.000000</td>\n",
       "      <td>32.000000</td>\n",
       "      <td>127.250000</td>\n",
       "      <td>36.600000</td>\n",
       "      <td>0.626250</td>\n",
       "      <td>41.000000</td>\n",
       "      <td>1.000000</td>\n",
       "    </tr>\n",
       "    <tr>\n",
       "      <th>max</th>\n",
       "      <td>17.000000</td>\n",
       "      <td>199.000000</td>\n",
       "      <td>122.000000</td>\n",
       "      <td>99.000000</td>\n",
       "      <td>846.000000</td>\n",
       "      <td>67.100000</td>\n",
       "      <td>2.420000</td>\n",
       "      <td>81.000000</td>\n",
       "      <td>1.000000</td>\n",
       "    </tr>\n",
       "  </tbody>\n",
       "</table>\n",
       "</div>"
      ],
      "text/plain": [
       "       Pregnancies     Glucose  BloodPressure  SkinThickness     Insulin  \\\n",
       "count   768.000000  768.000000     768.000000     768.000000  768.000000   \n",
       "mean      3.845052  120.894531      69.105469      20.536458   79.799479   \n",
       "std       3.369578   31.972618      19.355807      15.952218  115.244002   \n",
       "min       0.000000    0.000000       0.000000       0.000000    0.000000   \n",
       "25%       1.000000   99.000000      62.000000       0.000000    0.000000   \n",
       "50%       3.000000  117.000000      72.000000      23.000000   30.500000   \n",
       "75%       6.000000  140.250000      80.000000      32.000000  127.250000   \n",
       "max      17.000000  199.000000     122.000000      99.000000  846.000000   \n",
       "\n",
       "              BMI  DiabetesPedigreeFunction         Age     Outcome  \n",
       "count  768.000000                768.000000  768.000000  768.000000  \n",
       "mean    31.992578                  0.471876   33.240885    0.348958  \n",
       "std      7.884160                  0.331329   11.760232    0.476951  \n",
       "min      0.000000                  0.078000   21.000000    0.000000  \n",
       "25%     27.300000                  0.243750   24.000000    0.000000  \n",
       "50%     32.000000                  0.372500   29.000000    0.000000  \n",
       "75%     36.600000                  0.626250   41.000000    1.000000  \n",
       "max     67.100000                  2.420000   81.000000    1.000000  "
      ]
     },
     "execution_count": 3,
     "metadata": {},
     "output_type": "execute_result"
    }
   ],
   "source": [
    "df.describe(include=(np.number))"
   ]
  },
  {
   "cell_type": "markdown",
   "id": "3f1d538d",
   "metadata": {
    "editable": false,
    "papermill": {
     "duration": 0.012604,
     "end_time": "2023-01-17T16:19:19.779956",
     "exception": false,
     "start_time": "2023-01-17T16:19:19.767352",
     "status": "completed"
    },
    "tags": []
   },
   "source": [
    "Após o tratamento devemos definir os dados de treinamento e de validação, para isso basta usar a biblioteca SKlearn que ira dividir o dado base para ser utilizado pelo modelo."
   ]
  },
  {
   "cell_type": "code",
   "execution_count": 4,
   "id": "8942c638",
   "metadata": {
    "editable": false,
    "execution": {
     "iopub.execute_input": "2023-01-17T16:19:19.807898Z",
     "iopub.status.busy": "2023-01-17T16:19:19.806867Z",
     "iopub.status.idle": "2023-01-17T16:19:20.509403Z",
     "shell.execute_reply": "2023-01-17T16:19:20.508322Z"
    },
    "papermill": {
     "duration": 0.71913,
     "end_time": "2023-01-17T16:19:20.511931",
     "exception": false,
     "start_time": "2023-01-17T16:19:19.792801",
     "status": "completed"
    },
    "tags": []
   },
   "outputs": [],
   "source": [
    "from numpy import random\n",
    "from sklearn.model_selection import train_test_split\n",
    "\n",
    "X = df.drop(columns='Outcome')\n",
    "y = df['Outcome']\n",
    "X_train, X_test, y_train, y_test = train_test_split(X, y, test_size=0.2, random_state=42)"
   ]
  },
  {
   "cell_type": "markdown",
   "id": "bec273b7",
   "metadata": {
    "editable": false,
    "papermill": {
     "duration": 0.012475,
     "end_time": "2023-01-17T16:19:20.537477",
     "exception": false,
     "start_time": "2023-01-17T16:19:20.525002",
     "status": "completed"
    },
    "tags": []
   },
   "source": [
    "# Divisão binária"
   ]
  },
  {
   "cell_type": "markdown",
   "id": "30d66ba7",
   "metadata": {
    "editable": false,
    "papermill": {
     "duration": 0.01248,
     "end_time": "2023-01-17T16:19:20.562879",
     "exception": false,
     "start_time": "2023-01-17T16:19:20.550399",
     "status": "completed"
    },
    "tags": []
   },
   "source": [
    "Um importante passo de uma random tree é como são definidas as funções que dividem os dados em dois grupos, como por exemplo escolher uma idade e dividir os dados entre maior e menor que esse valor. Porém esse valor não é escolhido de forma arbitrária, deve ser realizado uma verificação da qualidade do modelo a cada valor único do Dataset para que seja encontrado a menor quantidade de erros no modelo com determinado valor."
   ]
  },
  {
   "cell_type": "markdown",
   "id": "2bcc1ff0",
   "metadata": {
    "editable": false,
    "papermill": {
     "duration": 0.012614,
     "end_time": "2023-01-17T16:19:20.588340",
     "exception": false,
     "start_time": "2023-01-17T16:19:20.575726",
     "status": "completed"
    },
    "tags": []
   },
   "source": [
    "O próximo passo agora seria implementar alguma função que consiga definir a qualidade do modelo, para fazer isso iremos utilizar, ao inves do mean absolute error, uma função que consiga identificar o nível de impureza do dados. Ou seja, quão diferente será os dados a esquerda comparados com os da direita, após a divisão binária."
   ]
  },
  {
   "cell_type": "markdown",
   "id": "7b2c8bae",
   "metadata": {
    "editable": false,
    "papermill": {
     "duration": 0.012482,
     "end_time": "2023-01-17T16:19:20.613711",
     "exception": false,
     "start_time": "2023-01-17T16:19:20.601229",
     "status": "completed"
    },
    "tags": []
   },
   "source": [
    "Essa função tera como obejetivo calcular o desvio padrão da coluna dependente e então mutiplicar pelo valor de linhas que o lado possue, isso é feito pois quanto maior o grupo mais importate ele será para a precisão do modelo, após feito isso será obtido o score de um lado da divisão binária."
   ]
  },
  {
   "cell_type": "code",
   "execution_count": 5,
   "id": "4920c337",
   "metadata": {
    "editable": false,
    "execution": {
     "iopub.execute_input": "2023-01-17T16:19:20.642245Z",
     "iopub.status.busy": "2023-01-17T16:19:20.640987Z",
     "iopub.status.idle": "2023-01-17T16:19:20.647554Z",
     "shell.execute_reply": "2023-01-17T16:19:20.646645Z"
    },
    "papermill": {
     "duration": 0.023388,
     "end_time": "2023-01-17T16:19:20.649959",
     "exception": false,
     "start_time": "2023-01-17T16:19:20.626571",
     "status": "completed"
    },
    "tags": []
   },
   "outputs": [],
   "source": [
    "def _side_score(side, y):\n",
    "    tot = side.sum()\n",
    "    if tot<=1: return 0\n",
    "    return y[side].std()*tot"
   ]
  },
  {
   "cell_type": "markdown",
   "id": "bb57d51e",
   "metadata": {
    "editable": false,
    "papermill": {
     "duration": 0.012581,
     "end_time": "2023-01-17T16:19:20.675546",
     "exception": false,
     "start_time": "2023-01-17T16:19:20.662965",
     "status": "completed"
    },
    "tags": []
   },
   "source": [
    "Então será definida a fução score que ira pegar a coluna, vai dividir e calcular o score para cada lado. Após feito isso será realizada uma soma dos dois scores e dividido pelo tamanho da coluna target do dataset."
   ]
  },
  {
   "cell_type": "code",
   "execution_count": 6,
   "id": "302609b5",
   "metadata": {
    "editable": false,
    "execution": {
     "iopub.execute_input": "2023-01-17T16:19:20.703603Z",
     "iopub.status.busy": "2023-01-17T16:19:20.702406Z",
     "iopub.status.idle": "2023-01-17T16:19:20.708470Z",
     "shell.execute_reply": "2023-01-17T16:19:20.707641Z"
    },
    "papermill": {
     "duration": 0.022423,
     "end_time": "2023-01-17T16:19:20.710757",
     "exception": false,
     "start_time": "2023-01-17T16:19:20.688334",
     "status": "completed"
    },
    "tags": []
   },
   "outputs": [],
   "source": [
    "def score(col, y, split):\n",
    "    lhs = col<=split\n",
    "    return (_side_score(lhs,y) + _side_score(~lhs,y))/len(y)"
   ]
  },
  {
   "cell_type": "markdown",
   "id": "e57413ef",
   "metadata": {
    "editable": false,
    "papermill": {
     "duration": 0.012899,
     "end_time": "2023-01-17T16:19:20.736964",
     "exception": false,
     "start_time": "2023-01-17T16:19:20.724065",
     "status": "completed"
    },
    "tags": []
   },
   "source": [
    "Aqui podemos observar de forma simplista como funciona a decisão de qual valor será utilizado para fazer a divisão binária. Cada valor de divisão tera um score, o modelo ira fazer essa análise e escolher o valor com o melhor resultado para fazer o split."
   ]
  },
  {
   "cell_type": "code",
   "execution_count": 7,
   "id": "f35b8bac",
   "metadata": {
    "editable": false,
    "execution": {
     "iopub.execute_input": "2023-01-17T16:19:20.765521Z",
     "iopub.status.busy": "2023-01-17T16:19:20.764405Z",
     "iopub.status.idle": "2023-01-17T16:19:20.919816Z",
     "shell.execute_reply": "2023-01-17T16:19:20.918858Z"
    },
    "papermill": {
     "duration": 0.17241,
     "end_time": "2023-01-17T16:19:20.922337",
     "exception": false,
     "start_time": "2023-01-17T16:19:20.749927",
     "status": "completed"
    },
    "tags": []
   },
   "outputs": [
    {
     "data": {
      "application/vnd.jupyter.widget-view+json": {
       "model_id": "4f96a3be146c4898b731e935b9424214",
       "version_major": 2,
       "version_minor": 0
      },
      "text/plain": [
       "interactive(children=(Dropdown(description='nm', options=('Pregnancies', 'Glucose', 'BloodPressure', 'SkinThic…"
      ]
     },
     "metadata": {},
     "output_type": "display_data"
    }
   ],
   "source": [
    "conts=['Pregnancies', 'Glucose', 'BloodPressure', 'SkinThickness',\"Insulin\", \"BMI\", \"DiabetesPedigreeFunction\", \"Age\"]\n",
    "def iscore(nm, split):\n",
    "    col = X_train[nm]\n",
    "    return score(col, y_train, split)\n",
    "\n",
    "from ipywidgets import interact\n",
    "interact(nm=conts, split=2)(iscore);"
   ]
  },
  {
   "cell_type": "markdown",
   "id": "5c3debf4",
   "metadata": {
    "editable": false,
    "papermill": {
     "duration": 0.013549,
     "end_time": "2023-01-17T16:19:20.950418",
     "exception": false,
     "start_time": "2023-01-17T16:19:20.936869",
     "status": "completed"
    },
    "tags": []
   },
   "source": [
    "Claro que esse processo será automatizado, para fazer isso precisamos pegar todos os valores únicos de um dataset para melhorar a eficiência e após feito isso analisar qual obtem o melhor resultado."
   ]
  },
  {
   "cell_type": "code",
   "execution_count": 8,
   "id": "eb4ad405",
   "metadata": {
    "editable": false,
    "execution": {
     "iopub.execute_input": "2023-01-17T16:19:20.979320Z",
     "iopub.status.busy": "2023-01-17T16:19:20.978488Z",
     "iopub.status.idle": "2023-01-17T16:19:20.987858Z",
     "shell.execute_reply": "2023-01-17T16:19:20.986800Z"
    },
    "papermill": {
     "duration": 0.026339,
     "end_time": "2023-01-17T16:19:20.990225",
     "exception": false,
     "start_time": "2023-01-17T16:19:20.963886",
     "status": "completed"
    },
    "tags": []
   },
   "outputs": [
    {
     "data": {
      "text/plain": [
       "array([21, 22, 23, 24, 25, 26, 27, 28, 29, 30, 31, 32, 33, 34, 35, 36, 37, 38, 39, 40, 41, 42, 43, 44, 45, 46, 47, 48, 49, 50,\n",
       "       51, 52, 53, 54, 55, 56, 57, 58, 59, 60, 61, 62, 63, 64, 65, 66, 67, 68, 69, 70, 72, 81])"
      ]
     },
     "execution_count": 8,
     "metadata": {},
     "output_type": "execute_result"
    }
   ],
   "source": [
    "nm = \"Age\"\n",
    "col = X_train[nm]\n",
    "unq = col.unique()\n",
    "unq.sort()\n",
    "unq"
   ]
  },
  {
   "cell_type": "markdown",
   "id": "c818fbbc",
   "metadata": {
    "editable": false,
    "papermill": {
     "duration": 0.013843,
     "end_time": "2023-01-17T16:19:21.017733",
     "exception": false,
     "start_time": "2023-01-17T16:19:21.003890",
     "status": "completed"
    },
    "tags": []
   },
   "source": [
    "Portanto iremos gerar uma array com todos os scores de cada valor único da idade demonstrada acima. Podemos ver que a idade que irá obter o menor valor será o 28."
   ]
  },
  {
   "cell_type": "markdown",
   "id": "66980153",
   "metadata": {
    "editable": false,
    "papermill": {
     "duration": 0.012804,
     "end_time": "2023-01-17T16:19:21.044320",
     "exception": false,
     "start_time": "2023-01-17T16:19:21.031516",
     "status": "completed"
    },
    "tags": []
   },
   "source": [
    "Esse código abaixo ira calcular o score de cada valor da coluna (nesse caso a coluna Age), e irá dizer qual foi o valor que obteve o menor score, ou seja o menor nível de impureza dos dados."
   ]
  },
  {
   "cell_type": "code",
   "execution_count": 9,
   "id": "9c4cbd37",
   "metadata": {
    "editable": false,
    "execution": {
     "iopub.execute_input": "2023-01-17T16:19:21.073260Z",
     "iopub.status.busy": "2023-01-17T16:19:21.072681Z",
     "iopub.status.idle": "2023-01-17T16:19:21.134055Z",
     "shell.execute_reply": "2023-01-17T16:19:21.132919Z"
    },
    "papermill": {
     "duration": 0.07922,
     "end_time": "2023-01-17T16:19:21.136596",
     "exception": false,
     "start_time": "2023-01-17T16:19:21.057376",
     "status": "completed"
    },
    "tags": []
   },
   "outputs": [
    {
     "data": {
      "text/plain": [
       "28"
      ]
     },
     "execution_count": 9,
     "metadata": {},
     "output_type": "execute_result"
    }
   ],
   "source": [
    "scores = np.array([score(col, y_train, o) for o in unq if not np.isnan(o)])\n",
    "unq[scores.argmin()]"
   ]
  },
  {
   "cell_type": "markdown",
   "id": "70a4b914",
   "metadata": {
    "editable": false,
    "papermill": {
     "duration": 0.013705,
     "end_time": "2023-01-17T16:19:21.164108",
     "exception": false,
     "start_time": "2023-01-17T16:19:21.150403",
     "status": "completed"
    },
    "tags": []
   },
   "source": [
    "Para facilitar o processo de decisão do Random Forest podemos implementar uma função que irá fazer esse processos automaticamente, retornando o valor de divisão e seu score."
   ]
  },
  {
   "cell_type": "code",
   "execution_count": 10,
   "id": "a317e6d4",
   "metadata": {
    "editable": false,
    "execution": {
     "iopub.execute_input": "2023-01-17T16:19:21.193311Z",
     "iopub.status.busy": "2023-01-17T16:19:21.192884Z",
     "iopub.status.idle": "2023-01-17T16:19:21.257284Z",
     "shell.execute_reply": "2023-01-17T16:19:21.256081Z"
    },
    "papermill": {
     "duration": 0.082389,
     "end_time": "2023-01-17T16:19:21.260023",
     "exception": false,
     "start_time": "2023-01-17T16:19:21.177634",
     "status": "completed"
    },
    "tags": []
   },
   "outputs": [
    {
     "data": {
      "text/plain": [
       "(28, 0.4468062256678062)"
      ]
     },
     "execution_count": 10,
     "metadata": {},
     "output_type": "execute_result"
    }
   ],
   "source": [
    "def min_col(df, y_df, nm):\n",
    "    col,y = df[nm],y_df\n",
    "    unq = col.dropna().unique()\n",
    "    scores = np.array([score(col, y, o) for o in unq if not np.isnan(o)])\n",
    "    idx = scores.argmin()\n",
    "    return unq[idx],scores[idx]\n",
    "\n",
    "min_col(X_train, y_train, \"Age\")"
   ]
  },
  {
   "cell_type": "markdown",
   "id": "f6a0a77a",
   "metadata": {
    "editable": false,
    "papermill": {
     "duration": 0.013318,
     "end_time": "2023-01-17T16:19:21.287121",
     "exception": false,
     "start_time": "2023-01-17T16:19:21.273803",
     "status": "completed"
    },
    "tags": []
   },
   "source": [
    "Utilizando a função definida acima podemos observar quais serão os melhores valores para fazer o split dos dados, além disso podemos observar que a melhor coluna para ser feito o split seria a de glucose, uma vez que é a que obteve menor score de impureza dentre todas as colunas independentes do dataset."
   ]
  },
  {
   "cell_type": "code",
   "execution_count": 11,
   "id": "e554d580",
   "metadata": {
    "editable": false,
    "execution": {
     "iopub.execute_input": "2023-01-17T16:19:21.315463Z",
     "iopub.status.busy": "2023-01-17T16:19:21.315026Z",
     "iopub.status.idle": "2023-01-17T16:19:22.508932Z",
     "shell.execute_reply": "2023-01-17T16:19:22.507742Z"
    },
    "papermill": {
     "duration": 1.210966,
     "end_time": "2023-01-17T16:19:22.511341",
     "exception": false,
     "start_time": "2023-01-17T16:19:21.300375",
     "status": "completed"
    },
    "tags": []
   },
   "outputs": [
    {
     "data": {
      "text/plain": [
       "{'Pregnancies': (6, 0.46488171408085904),\n",
       " 'Glucose': (127, 0.43012522624255795),\n",
       " 'BloodPressure': (68, 0.4714911140006278),\n",
       " 'SkinThickness': (31, 0.47103850241079925),\n",
       " 'Insulin': (120, 0.467880206917403),\n",
       " 'BMI': (29.6, 0.44496180220368925),\n",
       " 'DiabetesPedigreeFunction': (0.318, 0.4697845905814917),\n",
       " 'Age': (28, 0.4468062256678062)}"
      ]
     },
     "execution_count": 11,
     "metadata": {},
     "output_type": "execute_result"
    }
   ],
   "source": [
    "{o:min_col(X_train, y_train, o) for o in conts}"
   ]
  },
  {
   "cell_type": "markdown",
   "id": "5e6f09df",
   "metadata": {
    "editable": false,
    "papermill": {
     "duration": 0.01347,
     "end_time": "2023-01-17T16:19:22.538346",
     "exception": false,
     "start_time": "2023-01-17T16:19:22.524876",
     "status": "completed"
    },
    "tags": []
   },
   "source": [
    "# Decision Tree"
   ]
  },
  {
   "cell_type": "markdown",
   "id": "f36f8afe",
   "metadata": {
    "editable": false,
    "papermill": {
     "duration": 0.013258,
     "end_time": "2023-01-17T16:19:22.565064",
     "exception": false,
     "start_time": "2023-01-17T16:19:22.551806",
     "status": "completed"
    },
    "tags": []
   },
   "source": [
    "Com a informação que obtivemos anteriormente a cerca de qual a melhor coluna e valor para fazer o split iremos fazer essa divisão e decidir para cada lado do dataset splitado qual o próximo valor que dever ser feita a divisão binária."
   ]
  },
  {
   "cell_type": "code",
   "execution_count": 12,
   "id": "4e508e56",
   "metadata": {
    "editable": false,
    "execution": {
     "iopub.execute_input": "2023-01-17T16:19:22.594440Z",
     "iopub.status.busy": "2023-01-17T16:19:22.594025Z",
     "iopub.status.idle": "2023-01-17T16:19:22.600207Z",
     "shell.execute_reply": "2023-01-17T16:19:22.599269Z"
    },
    "papermill": {
     "duration": 0.023913,
     "end_time": "2023-01-17T16:19:22.602333",
     "exception": false,
     "start_time": "2023-01-17T16:19:22.578420",
     "status": "completed"
    },
    "tags": []
   },
   "outputs": [],
   "source": [
    "conts.remove(\"Glucose\")\n",
    "lower = X_train.Glucose<127\n",
    "lower_g,higher_g = X_train[lower],X_train[~lower]"
   ]
  },
  {
   "cell_type": "markdown",
   "id": "24493200",
   "metadata": {
    "editable": false,
    "papermill": {
     "duration": 0.013437,
     "end_time": "2023-01-17T16:19:22.629579",
     "exception": false,
     "start_time": "2023-01-17T16:19:22.616142",
     "status": "completed"
    },
    "tags": []
   },
   "source": [
    "Portanto podemos observar que para valores abaixo da glucose com 127, o melhor split seria na idade com valor igual a 28."
   ]
  },
  {
   "cell_type": "code",
   "execution_count": 13,
   "id": "37bb50f7",
   "metadata": {
    "editable": false,
    "execution": {
     "iopub.execute_input": "2023-01-17T16:19:22.660320Z",
     "iopub.status.busy": "2023-01-17T16:19:22.659900Z",
     "iopub.status.idle": "2023-01-17T16:19:23.421295Z",
     "shell.execute_reply": "2023-01-17T16:19:23.420122Z"
    },
    "papermill": {
     "duration": 0.781621,
     "end_time": "2023-01-17T16:19:23.425118",
     "exception": false,
     "start_time": "2023-01-17T16:19:22.643497",
     "status": "completed"
    },
    "tags": []
   },
   "outputs": [
    {
     "data": {
      "text/plain": [
       "{'Pregnancies': (6.0, 0.4290811307894852),\n",
       " 'BloodPressure': (122.0, 0.43315599170950986),\n",
       " 'SkinThickness': (60.0, 0.43315599170950986),\n",
       " 'Insulin': (402.0, 0.432173063192773),\n",
       " 'BMI': (45.3, 0.42908425021060664),\n",
       " 'DiabetesPedigreeFunction': (1.096, 0.432313922426186),\n",
       " 'Age': (28.0, 0.418858385257196)}"
      ]
     },
     "execution_count": 13,
     "metadata": {},
     "output_type": "execute_result"
    }
   ],
   "source": [
    "lower_g = lower_g.reindex(lower.index)\n",
    "{o:min_col(lower_g, y_train, o) for o in conts}"
   ]
  },
  {
   "cell_type": "markdown",
   "id": "262503c9",
   "metadata": {
    "editable": false,
    "papermill": {
     "duration": 0.013925,
     "end_time": "2023-01-17T16:19:23.459953",
     "exception": false,
     "start_time": "2023-01-17T16:19:23.446028",
     "status": "completed"
    },
    "tags": []
   },
   "source": [
    "Porém para valores maiores que 127 isso não é verdade. O valor com menor impureza seria o BMI, sendo o valor de split o 67.1."
   ]
  },
  {
   "cell_type": "code",
   "execution_count": 14,
   "id": "117024c7",
   "metadata": {
    "editable": false,
    "execution": {
     "iopub.execute_input": "2023-01-17T16:19:23.490993Z",
     "iopub.status.busy": "2023-01-17T16:19:23.490542Z",
     "iopub.status.idle": "2023-01-17T16:19:24.088949Z",
     "shell.execute_reply": "2023-01-17T16:19:24.087684Z"
    },
    "papermill": {
     "duration": 0.616595,
     "end_time": "2023-01-17T16:19:24.091194",
     "exception": false,
     "start_time": "2023-01-17T16:19:23.474599",
     "status": "completed"
    },
    "tags": []
   },
   "outputs": [
    {
     "data": {
      "text/plain": [
       "{'Pregnancies': (17.0, 0.43315599170950986),\n",
       " 'BloodPressure': (110.0, 0.43315599170950986),\n",
       " 'SkinThickness': (63.0, 0.43315599170950986),\n",
       " 'Insulin': (543.0, 0.4323450600649874),\n",
       " 'BMI': (67.1, 0.43315599170950986),\n",
       " 'DiabetesPedigreeFunction': (2.42, 0.43315599170950986),\n",
       " 'Age': (61.0, 0.43125157282059795)}"
      ]
     },
     "execution_count": 14,
     "metadata": {},
     "output_type": "execute_result"
    }
   ],
   "source": [
    "higher=X_train.Glucose>127\n",
    "higher = higher_g.reindex(higher.index)\n",
    "{o:min_col(higher, y_train, o) for o in conts}"
   ]
  },
  {
   "cell_type": "markdown",
   "id": "e4127e44",
   "metadata": {
    "editable": false,
    "papermill": {
     "duration": 0.013411,
     "end_time": "2023-01-17T16:19:24.118356",
     "exception": false,
     "start_time": "2023-01-17T16:19:24.104945",
     "status": "completed"
    },
    "tags": []
   },
   "source": [
    "Isso poderia ser feito quantas vezes necessária afim de obter uma árvore de decisão, porém a biblioteca SKlearn possui uma funcionalidade que constroi uma árvore de decisão. No primeiro caso iremos criar uma árvore com 4 folhas e que iŕa utilizar o dataset de treino ddefinido anteriormente."
   ]
  },
  {
   "cell_type": "code",
   "execution_count": 15,
   "id": "4f17f990",
   "metadata": {
    "execution": {
     "iopub.execute_input": "2023-01-17T16:19:24.148175Z",
     "iopub.status.busy": "2023-01-17T16:19:24.147739Z",
     "iopub.status.idle": "2023-01-17T16:19:24.291231Z",
     "shell.execute_reply": "2023-01-17T16:19:24.289609Z"
    },
    "papermill": {
     "duration": 0.162307,
     "end_time": "2023-01-17T16:19:24.294322",
     "exception": false,
     "start_time": "2023-01-17T16:19:24.132015",
     "status": "completed"
    },
    "tags": []
   },
   "outputs": [],
   "source": [
    "from sklearn.tree import DecisionTreeClassifier, export_graphviz\n",
    "\n",
    "final = DecisionTreeClassifier(max_leaf_nodes=4).fit(X_train, y_train);"
   ]
  },
  {
   "cell_type": "code",
   "execution_count": 16,
   "id": "9c139d5d",
   "metadata": {
    "editable": false,
    "execution": {
     "iopub.execute_input": "2023-01-17T16:19:24.326252Z",
     "iopub.status.busy": "2023-01-17T16:19:24.324972Z",
     "iopub.status.idle": "2023-01-17T16:19:24.341982Z",
     "shell.execute_reply": "2023-01-17T16:19:24.341035Z"
    },
    "papermill": {
     "duration": 0.036482,
     "end_time": "2023-01-17T16:19:24.344588",
     "exception": false,
     "start_time": "2023-01-17T16:19:24.308106",
     "status": "completed"
    },
    "tags": []
   },
   "outputs": [],
   "source": [
    "import graphviz\n",
    "\n",
    "def draw_tree(t, df, size=10, ratio=0.6, precision=2, **kwargs):\n",
    "    s=export_graphviz(t, out_file=None, feature_names=df.columns, filled=True, rounded=True,\n",
    "                      special_characters=True, rotate=False, precision=precision, **kwargs)\n",
    "    return graphviz.Source(re.sub('Tree {', f'Tree {{ size={size}; ratio={ratio}', s))"
   ]
  },
  {
   "cell_type": "markdown",
   "id": "3b154fb7",
   "metadata": {
    "editable": false,
    "papermill": {
     "duration": 0.013257,
     "end_time": "2023-01-17T16:19:24.371542",
     "exception": false,
     "start_time": "2023-01-17T16:19:24.358285",
     "status": "completed"
    },
    "tags": []
   },
   "source": [
    "Aqui podemos observar as decisões tomadas pelo DecisionTreeClassifier. Importante notar que as decisões de split tomadas seguiram as mesmas colunas definidas anteriorment, com glucose, BMI e idade, porém os valores da divisão foram um pouco diferentes, isso se deve a forma como é analisada o nível de impureza."
   ]
  },
  {
   "cell_type": "code",
   "execution_count": 17,
   "id": "1c00604c",
   "metadata": {
    "execution": {
     "iopub.execute_input": "2023-01-17T16:19:24.401473Z",
     "iopub.status.busy": "2023-01-17T16:19:24.400187Z",
     "iopub.status.idle": "2023-01-17T16:19:25.431620Z",
     "shell.execute_reply": "2023-01-17T16:19:25.428245Z"
    },
    "papermill": {
     "duration": 1.049361,
     "end_time": "2023-01-17T16:19:25.434643",
     "exception": false,
     "start_time": "2023-01-17T16:19:24.385282",
     "status": "completed"
    },
    "tags": []
   },
   "outputs": [
    {
     "data": {
      "image/svg+xml": [
       "<?xml version=\"1.0\" encoding=\"UTF-8\" standalone=\"no\"?>\n",
       "<!DOCTYPE svg PUBLIC \"-//W3C//DTD SVG 1.1//EN\"\n",
       " \"http://www.w3.org/Graphics/SVG/1.1/DTD/svg11.dtd\">\n",
       "<!-- Generated by graphviz version 5.0.0 (20220707.2338)\n",
       " -->\n",
       "<!-- Title: Tree Pages: 1 -->\n",
       "<svg width=\"616pt\" height=\"373pt\"\n",
       " viewBox=\"0.00 0.00 616.00 372.80\" xmlns=\"http://www.w3.org/2000/svg\" xmlns:xlink=\"http://www.w3.org/1999/xlink\">\n",
       "<g id=\"graph0\" class=\"graph\" transform=\"scale(1 1) rotate(0) translate(4 368.8)\">\n",
       "<title>Tree</title>\n",
       "<polygon fill=\"white\" stroke=\"transparent\" points=\"-4,4 -4,-368.8 612,-368.8 612,4 -4,4\"/>\n",
       "<!-- 0 -->\n",
       "<g id=\"node1\" class=\"node\">\n",
       "<title>0</title>\n",
       "<path fill=\"#f3c4a2\" stroke=\"black\" d=\"M368.5,-351C368.5,-351 243.5,-351 243.5,-351 237.5,-351 231.5,-345 231.5,-339 231.5,-339 231.5,-295 231.5,-295 231.5,-289 237.5,-283 243.5,-283 243.5,-283 368.5,-283 368.5,-283 374.5,-283 380.5,-289 380.5,-295 380.5,-295 380.5,-339 380.5,-339 380.5,-345 374.5,-351 368.5,-351\"/>\n",
       "<text text-anchor=\"start\" x=\"247.5\" y=\"-335.8\" font-family=\"Helvetica,sans-Serif\" font-size=\"14.00\">Glucose ≤ 127.5</text>\n",
       "<text text-anchor=\"start\" x=\"266.5\" y=\"-320.8\" font-family=\"Helvetica,sans-Serif\" font-size=\"14.00\">gini = 0.45</text>\n",
       "<text text-anchor=\"start\" x=\"253\" y=\"-305.8\" font-family=\"Helvetica,sans-Serif\" font-size=\"14.00\">samples = 614</text>\n",
       "<text text-anchor=\"start\" x=\"239.5\" y=\"-290.8\" font-family=\"Helvetica,sans-Serif\" font-size=\"14.00\">value = [401, 213]</text>\n",
       "</g>\n",
       "<!-- 1 -->\n",
       "<g id=\"node2\" class=\"node\">\n",
       "<title>1</title>\n",
       "<path fill=\"#eb9f69\" stroke=\"black\" d=\"M285,-206C285,-206 169,-206 169,-206 163,-206 157,-200 157,-194 157,-194 157,-150 157,-150 157,-144 163,-138 169,-138 169,-138 285,-138 285,-138 291,-138 297,-144 297,-150 297,-150 297,-194 297,-194 297,-200 291,-206 285,-206\"/>\n",
       "<text text-anchor=\"start\" x=\"187\" y=\"-190.8\" font-family=\"Helvetica,sans-Serif\" font-size=\"14.00\">Age ≤ 28.5</text>\n",
       "<text text-anchor=\"start\" x=\"187.5\" y=\"-175.8\" font-family=\"Helvetica,sans-Serif\" font-size=\"14.00\">gini = 0.31</text>\n",
       "<text text-anchor=\"start\" x=\"174\" y=\"-160.8\" font-family=\"Helvetica,sans-Serif\" font-size=\"14.00\">samples = 390</text>\n",
       "<text text-anchor=\"start\" x=\"165\" y=\"-145.8\" font-family=\"Helvetica,sans-Serif\" font-size=\"14.00\">value = [314, 76]</text>\n",
       "</g>\n",
       "<!-- 0&#45;&gt;1 -->\n",
       "<g id=\"edge1\" class=\"edge\">\n",
       "<title>0&#45;&gt;1</title>\n",
       "<path fill=\"none\" stroke=\"black\" d=\"M287.68,-282.83C276.59,-262.76 262.34,-236.97 250.44,-215.43\"/>\n",
       "<polygon fill=\"black\" stroke=\"black\" points=\"253.4,-213.54 245.5,-206.48 247.27,-216.93 253.4,-213.54\"/>\n",
       "<text text-anchor=\"middle\" x=\"238.57\" y=\"-226.8\" font-family=\"Helvetica,sans-Serif\" font-size=\"14.00\">True</text>\n",
       "</g>\n",
       "<!-- 2 -->\n",
       "<g id=\"node5\" class=\"node\">\n",
       "<title>2</title>\n",
       "<path fill=\"#b7dbf6\" stroke=\"black\" d=\"M443,-206C443,-206 327,-206 327,-206 321,-206 315,-200 315,-194 315,-194 315,-150 315,-150 315,-144 321,-138 327,-138 327,-138 443,-138 443,-138 449,-138 455,-144 455,-150 455,-150 455,-194 455,-194 455,-200 449,-206 443,-206\"/>\n",
       "<text text-anchor=\"start\" x=\"341\" y=\"-190.8\" font-family=\"Helvetica,sans-Serif\" font-size=\"14.00\">BMI ≤ 29.95</text>\n",
       "<text text-anchor=\"start\" x=\"345.5\" y=\"-175.8\" font-family=\"Helvetica,sans-Serif\" font-size=\"14.00\">gini = 0.48</text>\n",
       "<text text-anchor=\"start\" x=\"332\" y=\"-160.8\" font-family=\"Helvetica,sans-Serif\" font-size=\"14.00\">samples = 224</text>\n",
       "<text text-anchor=\"start\" x=\"323\" y=\"-145.8\" font-family=\"Helvetica,sans-Serif\" font-size=\"14.00\">value = [87, 137]</text>\n",
       "</g>\n",
       "<!-- 0&#45;&gt;2 -->\n",
       "<g id=\"edge4\" class=\"edge\">\n",
       "<title>0&#45;&gt;2</title>\n",
       "<path fill=\"none\" stroke=\"black\" d=\"M324.32,-282.83C335.41,-262.76 349.66,-236.97 361.56,-215.43\"/>\n",
       "<polygon fill=\"black\" stroke=\"black\" points=\"364.73,-216.93 366.5,-206.48 358.6,-213.54 364.73,-216.93\"/>\n",
       "<text text-anchor=\"middle\" x=\"373.43\" y=\"-226.8\" font-family=\"Helvetica,sans-Serif\" font-size=\"14.00\">False</text>\n",
       "</g>\n",
       "<!-- 5 -->\n",
       "<g id=\"node3\" class=\"node\">\n",
       "<title>5</title>\n",
       "<path fill=\"#e78c49\" stroke=\"black\" d=\"M128,-63.5C128,-63.5 12,-63.5 12,-63.5 6,-63.5 0,-57.5 0,-51.5 0,-51.5 0,-22.5 0,-22.5 0,-16.5 6,-10.5 12,-10.5 12,-10.5 128,-10.5 128,-10.5 134,-10.5 140,-16.5 140,-22.5 140,-22.5 140,-51.5 140,-51.5 140,-57.5 134,-63.5 128,-63.5\"/>\n",
       "<text text-anchor=\"start\" x=\"30.5\" y=\"-48.3\" font-family=\"Helvetica,sans-Serif\" font-size=\"14.00\">gini = 0.14</text>\n",
       "<text text-anchor=\"start\" x=\"17\" y=\"-33.3\" font-family=\"Helvetica,sans-Serif\" font-size=\"14.00\">samples = 221</text>\n",
       "<text text-anchor=\"start\" x=\"8\" y=\"-18.3\" font-family=\"Helvetica,sans-Serif\" font-size=\"14.00\">value = [204, 17]</text>\n",
       "</g>\n",
       "<!-- 1&#45;&gt;5 -->\n",
       "<g id=\"edge2\" class=\"edge\">\n",
       "<title>1&#45;&gt;5</title>\n",
       "<path fill=\"none\" stroke=\"black\" d=\"M187.79,-137.78C163.47,-117.18 132.38,-90.84 108.24,-70.4\"/>\n",
       "<polygon fill=\"black\" stroke=\"black\" points=\"110.24,-67.5 100.35,-63.71 105.71,-72.84 110.24,-67.5\"/>\n",
       "</g>\n",
       "<!-- 6 -->\n",
       "<g id=\"node4\" class=\"node\">\n",
       "<title>6</title>\n",
       "<path fill=\"#f3c5a3\" stroke=\"black\" d=\"M286,-63.5C286,-63.5 170,-63.5 170,-63.5 164,-63.5 158,-57.5 158,-51.5 158,-51.5 158,-22.5 158,-22.5 158,-16.5 164,-10.5 170,-10.5 170,-10.5 286,-10.5 286,-10.5 292,-10.5 298,-16.5 298,-22.5 298,-22.5 298,-51.5 298,-51.5 298,-57.5 292,-63.5 286,-63.5\"/>\n",
       "<text text-anchor=\"start\" x=\"188.5\" y=\"-48.3\" font-family=\"Helvetica,sans-Serif\" font-size=\"14.00\">gini = 0.45</text>\n",
       "<text text-anchor=\"start\" x=\"175\" y=\"-33.3\" font-family=\"Helvetica,sans-Serif\" font-size=\"14.00\">samples = 169</text>\n",
       "<text text-anchor=\"start\" x=\"166\" y=\"-18.3\" font-family=\"Helvetica,sans-Serif\" font-size=\"14.00\">value = [110, 59]</text>\n",
       "</g>\n",
       "<!-- 1&#45;&gt;6 -->\n",
       "<g id=\"edge3\" class=\"edge\">\n",
       "<title>1&#45;&gt;6</title>\n",
       "<path fill=\"none\" stroke=\"black\" d=\"M227.25,-137.78C227.4,-118.35 227.58,-93.8 227.73,-73.92\"/>\n",
       "<polygon fill=\"black\" stroke=\"black\" points=\"231.23,-73.73 227.81,-63.71 224.23,-73.68 231.23,-73.73\"/>\n",
       "</g>\n",
       "<!-- 3 -->\n",
       "<g id=\"node6\" class=\"node\">\n",
       "<title>3</title>\n",
       "<path fill=\"#f1ba93\" stroke=\"black\" d=\"M437.5,-63.5C437.5,-63.5 330.5,-63.5 330.5,-63.5 324.5,-63.5 318.5,-57.5 318.5,-51.5 318.5,-51.5 318.5,-22.5 318.5,-22.5 318.5,-16.5 324.5,-10.5 330.5,-10.5 330.5,-10.5 437.5,-10.5 437.5,-10.5 443.5,-10.5 449.5,-16.5 449.5,-22.5 449.5,-22.5 449.5,-51.5 449.5,-51.5 449.5,-57.5 443.5,-63.5 437.5,-63.5\"/>\n",
       "<text text-anchor=\"start\" x=\"344.5\" y=\"-48.3\" font-family=\"Helvetica,sans-Serif\" font-size=\"14.00\">gini = 0.43</text>\n",
       "<text text-anchor=\"start\" x=\"335.5\" y=\"-33.3\" font-family=\"Helvetica,sans-Serif\" font-size=\"14.00\">samples = 61</text>\n",
       "<text text-anchor=\"start\" x=\"326.5\" y=\"-18.3\" font-family=\"Helvetica,sans-Serif\" font-size=\"14.00\">value = [42, 19]</text>\n",
       "</g>\n",
       "<!-- 2&#45;&gt;3 -->\n",
       "<g id=\"edge5\" class=\"edge\">\n",
       "<title>2&#45;&gt;3</title>\n",
       "<path fill=\"none\" stroke=\"black\" d=\"M384.75,-137.78C384.6,-118.35 384.42,-93.8 384.27,-73.92\"/>\n",
       "<polygon fill=\"black\" stroke=\"black\" points=\"387.77,-73.68 384.19,-63.71 380.77,-73.73 387.77,-73.68\"/>\n",
       "</g>\n",
       "<!-- 4 -->\n",
       "<g id=\"node7\" class=\"node\">\n",
       "<title>4</title>\n",
       "<path fill=\"#85c2ef\" stroke=\"black\" d=\"M596,-63.5C596,-63.5 480,-63.5 480,-63.5 474,-63.5 468,-57.5 468,-51.5 468,-51.5 468,-22.5 468,-22.5 468,-16.5 474,-10.5 480,-10.5 480,-10.5 596,-10.5 596,-10.5 602,-10.5 608,-16.5 608,-22.5 608,-22.5 608,-51.5 608,-51.5 608,-57.5 602,-63.5 596,-63.5\"/>\n",
       "<text text-anchor=\"start\" x=\"503\" y=\"-48.3\" font-family=\"Helvetica,sans-Serif\" font-size=\"14.00\">gini = 0.4</text>\n",
       "<text text-anchor=\"start\" x=\"485\" y=\"-33.3\" font-family=\"Helvetica,sans-Serif\" font-size=\"14.00\">samples = 163</text>\n",
       "<text text-anchor=\"start\" x=\"476\" y=\"-18.3\" font-family=\"Helvetica,sans-Serif\" font-size=\"14.00\">value = [45, 118]</text>\n",
       "</g>\n",
       "<!-- 2&#45;&gt;4 -->\n",
       "<g id=\"edge6\" class=\"edge\">\n",
       "<title>2&#45;&gt;4</title>\n",
       "<path fill=\"none\" stroke=\"black\" d=\"M423.21,-137.78C446.91,-117.18 477.21,-90.84 500.73,-70.4\"/>\n",
       "<polygon fill=\"black\" stroke=\"black\" points=\"503.18,-72.91 508.43,-63.71 498.58,-67.63 503.18,-72.91\"/>\n",
       "</g>\n",
       "</g>\n",
       "</svg>\n"
      ],
      "text/plain": [
       "<graphviz.files.Source at 0x7fe7ac467890>"
      ]
     },
     "execution_count": 17,
     "metadata": {},
     "output_type": "execute_result"
    }
   ],
   "source": [
    "draw_tree(final, X_train, size=10)"
   ]
  },
  {
   "cell_type": "markdown",
   "id": "55bcb62e",
   "metadata": {
    "editable": false,
    "papermill": {
     "duration": 0.014575,
     "end_time": "2023-01-17T16:19:25.464014",
     "exception": false,
     "start_time": "2023-01-17T16:19:25.449439",
     "status": "completed"
    },
    "tags": []
   },
   "source": [
    "O gini é um pouco diferente do score definido anteriormente, ele faz a medição de impureza a partir da média ao quadrado menos um. E isso acabou gerando uma certa diferença nos valores de decisão, apesar de não ter tido uma diferença em quais coluna deveriam ser utilizadas para realizar a divisão."
   ]
  },
  {
   "cell_type": "code",
   "execution_count": 18,
   "id": "2327a9ce",
   "metadata": {
    "editable": false,
    "execution": {
     "iopub.execute_input": "2023-01-17T16:19:25.494518Z",
     "iopub.status.busy": "2023-01-17T16:19:25.493654Z",
     "iopub.status.idle": "2023-01-17T16:19:25.500019Z",
     "shell.execute_reply": "2023-01-17T16:19:25.498915Z"
    },
    "papermill": {
     "duration": 0.024239,
     "end_time": "2023-01-17T16:19:25.502312",
     "exception": false,
     "start_time": "2023-01-17T16:19:25.478073",
     "status": "completed"
    },
    "tags": []
   },
   "outputs": [],
   "source": [
    "def gini(cond):\n",
    "    act = df.loc[cond, \"Outcome\"]\n",
    "    return 1 - act.mean()**2 - (1-act).mean()**2"
   ]
  },
  {
   "cell_type": "markdown",
   "id": "eb701e1c",
   "metadata": {
    "editable": false,
    "papermill": {
     "duration": 0.013737,
     "end_time": "2023-01-17T16:19:25.530029",
     "exception": false,
     "start_time": "2023-01-17T16:19:25.516292",
     "status": "completed"
    },
    "tags": []
   },
   "source": [
    "Aqui podemos observar o nível de impureza do dataset com glucose acima de 127 e abaixo de 127."
   ]
  },
  {
   "cell_type": "code",
   "execution_count": 19,
   "id": "7632b270",
   "metadata": {
    "editable": false,
    "execution": {
     "iopub.execute_input": "2023-01-17T16:19:25.559509Z",
     "iopub.status.busy": "2023-01-17T16:19:25.559113Z",
     "iopub.status.idle": "2023-01-17T16:19:25.570608Z",
     "shell.execute_reply": "2023-01-17T16:19:25.569404Z"
    },
    "papermill": {
     "duration": 0.028973,
     "end_time": "2023-01-17T16:19:25.573005",
     "exception": false,
     "start_time": "2023-01-17T16:19:25.544032",
     "status": "completed"
    },
    "tags": []
   },
   "outputs": [
    {
     "data": {
      "text/plain": [
       "(0.47362309430758276, 0.3149652777777777)"
      ]
     },
     "execution_count": 19,
     "metadata": {},
     "output_type": "execute_result"
    }
   ],
   "source": [
    "gini(df.Glucose>127), gini(df.Glucose<127)"
   ]
  },
  {
   "cell_type": "markdown",
   "id": "1408c382",
   "metadata": {
    "editable": false,
    "papermill": {
     "duration": 0.013665,
     "end_time": "2023-01-17T16:19:25.600658",
     "exception": false,
     "start_time": "2023-01-17T16:19:25.586993",
     "status": "completed"
    },
    "tags": []
   },
   "source": [
    "Analizando o error da decision tree podemos observar que obtive um error rate de 22%."
   ]
  },
  {
   "cell_type": "code",
   "execution_count": 20,
   "id": "835374a1",
   "metadata": {
    "execution": {
     "iopub.execute_input": "2023-01-17T16:19:25.631108Z",
     "iopub.status.busy": "2023-01-17T16:19:25.629961Z",
     "iopub.status.idle": "2023-01-17T16:19:25.641157Z",
     "shell.execute_reply": "2023-01-17T16:19:25.639968Z"
    },
    "papermill": {
     "duration": 0.028872,
     "end_time": "2023-01-17T16:19:25.643456",
     "exception": false,
     "start_time": "2023-01-17T16:19:25.614584",
     "status": "completed"
    },
    "tags": []
   },
   "outputs": [
    {
     "data": {
      "text/plain": [
       "0.22727272727272727"
      ]
     },
     "execution_count": 20,
     "metadata": {},
     "output_type": "execute_result"
    }
   ],
   "source": [
    "from sklearn.metrics import mean_absolute_error\n",
    "mean_absolute_error(y_test, final.predict(X_test))"
   ]
  },
  {
   "cell_type": "markdown",
   "id": "712aadd8",
   "metadata": {
    "editable": false,
    "papermill": {
     "duration": 0.013953,
     "end_time": "2023-01-17T16:19:25.671670",
     "exception": false,
     "start_time": "2023-01-17T16:19:25.657717",
     "status": "completed"
    },
    "tags": []
   },
   "source": [
    "Vamos tentar melhor a perfornce utilizando uma maior quantidade de folhas na aŕvore gerada."
   ]
  },
  {
   "cell_type": "code",
   "execution_count": 21,
   "id": "15449e19",
   "metadata": {
    "editable": false,
    "execution": {
     "iopub.execute_input": "2023-01-17T16:19:25.703000Z",
     "iopub.status.busy": "2023-01-17T16:19:25.701907Z",
     "iopub.status.idle": "2023-01-17T16:19:25.750500Z",
     "shell.execute_reply": "2023-01-17T16:19:25.749082Z"
    },
    "papermill": {
     "duration": 0.066736,
     "end_time": "2023-01-17T16:19:25.753153",
     "exception": false,
     "start_time": "2023-01-17T16:19:25.686417",
     "status": "completed"
    },
    "tags": []
   },
   "outputs": [
    {
     "data": {
      "image/svg+xml": [
       "<?xml version=\"1.0\" encoding=\"UTF-8\" standalone=\"no\"?>\n",
       "<!DOCTYPE svg PUBLIC \"-//W3C//DTD SVG 1.1//EN\"\n",
       " \"http://www.w3.org/Graphics/SVG/1.1/DTD/svg11.dtd\">\n",
       "<!-- Generated by graphviz version 5.0.0 (20220707.2338)\n",
       " -->\n",
       "<!-- Title: Tree Pages: 1 -->\n",
       "<svg width=\"864pt\" height=\"521pt\"\n",
       " viewBox=\"0.00 0.00 864.00 520.86\" xmlns=\"http://www.w3.org/2000/svg\" xmlns:xlink=\"http://www.w3.org/1999/xlink\">\n",
       "<g id=\"graph0\" class=\"graph\" transform=\"scale(0.847474 0.847474) rotate(0) translate(4 610.6)\">\n",
       "<title>Tree</title>\n",
       "<polygon fill=\"white\" stroke=\"transparent\" points=\"-4,4 -4,-610.6 1015.5,-610.6 1015.5,4 -4,4\"/>\n",
       "<!-- 0 -->\n",
       "<g id=\"node1\" class=\"node\">\n",
       "<title>0</title>\n",
       "<path fill=\"#f3c4a2\" stroke=\"black\" d=\"M633.5,-597C633.5,-597 508.5,-597 508.5,-597 502.5,-597 496.5,-591 496.5,-585 496.5,-585 496.5,-541 496.5,-541 496.5,-535 502.5,-529 508.5,-529 508.5,-529 633.5,-529 633.5,-529 639.5,-529 645.5,-535 645.5,-541 645.5,-541 645.5,-585 645.5,-585 645.5,-591 639.5,-597 633.5,-597\"/>\n",
       "<text text-anchor=\"start\" x=\"512.5\" y=\"-581.8\" font-family=\"Helvetica,sans-Serif\" font-size=\"14.00\">Glucose ≤ 127.5</text>\n",
       "<text text-anchor=\"start\" x=\"531.5\" y=\"-566.8\" font-family=\"Helvetica,sans-Serif\" font-size=\"14.00\">gini = 0.45</text>\n",
       "<text text-anchor=\"start\" x=\"518\" y=\"-551.8\" font-family=\"Helvetica,sans-Serif\" font-size=\"14.00\">samples = 614</text>\n",
       "<text text-anchor=\"start\" x=\"504.5\" y=\"-536.8\" font-family=\"Helvetica,sans-Serif\" font-size=\"14.00\">value = [401, 213]</text>\n",
       "</g>\n",
       "<!-- 1 -->\n",
       "<g id=\"node2\" class=\"node\">\n",
       "<title>1</title>\n",
       "<path fill=\"#eb9f69\" stroke=\"black\" d=\"M550,-462C550,-462 434,-462 434,-462 428,-462 422,-456 422,-450 422,-450 422,-406 422,-406 422,-400 428,-394 434,-394 434,-394 550,-394 550,-394 556,-394 562,-400 562,-406 562,-406 562,-450 562,-450 562,-456 556,-462 550,-462\"/>\n",
       "<text text-anchor=\"start\" x=\"452\" y=\"-446.8\" font-family=\"Helvetica,sans-Serif\" font-size=\"14.00\">Age ≤ 28.5</text>\n",
       "<text text-anchor=\"start\" x=\"452.5\" y=\"-431.8\" font-family=\"Helvetica,sans-Serif\" font-size=\"14.00\">gini = 0.31</text>\n",
       "<text text-anchor=\"start\" x=\"439\" y=\"-416.8\" font-family=\"Helvetica,sans-Serif\" font-size=\"14.00\">samples = 390</text>\n",
       "<text text-anchor=\"start\" x=\"430\" y=\"-401.8\" font-family=\"Helvetica,sans-Serif\" font-size=\"14.00\">value = [314, 76]</text>\n",
       "</g>\n",
       "<!-- 0&#45;&gt;1 -->\n",
       "<g id=\"edge1\" class=\"edge\">\n",
       "<title>0&#45;&gt;1</title>\n",
       "<path fill=\"none\" stroke=\"black\" d=\"M551.27,-528.78C540.85,-511.25 527.97,-489.55 516.87,-470.87\"/>\n",
       "<polygon fill=\"black\" stroke=\"black\" points=\"519.87,-469.07 511.75,-462.26 513.85,-472.64 519.87,-469.07\"/>\n",
       "<text text-anchor=\"middle\" x=\"505.58\" y=\"-482.78\" font-family=\"Helvetica,sans-Serif\" font-size=\"14.00\">True</text>\n",
       "</g>\n",
       "<!-- 12 -->\n",
       "<g id=\"node13\" class=\"node\">\n",
       "<title>12</title>\n",
       "<path fill=\"#b7dbf6\" stroke=\"black\" d=\"M708,-462C708,-462 592,-462 592,-462 586,-462 580,-456 580,-450 580,-450 580,-406 580,-406 580,-400 586,-394 592,-394 592,-394 708,-394 708,-394 714,-394 720,-400 720,-406 720,-406 720,-450 720,-450 720,-456 714,-462 708,-462\"/>\n",
       "<text text-anchor=\"start\" x=\"606\" y=\"-446.8\" font-family=\"Helvetica,sans-Serif\" font-size=\"14.00\">BMI ≤ 29.95</text>\n",
       "<text text-anchor=\"start\" x=\"610.5\" y=\"-431.8\" font-family=\"Helvetica,sans-Serif\" font-size=\"14.00\">gini = 0.48</text>\n",
       "<text text-anchor=\"start\" x=\"597\" y=\"-416.8\" font-family=\"Helvetica,sans-Serif\" font-size=\"14.00\">samples = 224</text>\n",
       "<text text-anchor=\"start\" x=\"588\" y=\"-401.8\" font-family=\"Helvetica,sans-Serif\" font-size=\"14.00\">value = [87, 137]</text>\n",
       "</g>\n",
       "<!-- 0&#45;&gt;12 -->\n",
       "<g id=\"edge12\" class=\"edge\">\n",
       "<title>0&#45;&gt;12</title>\n",
       "<path fill=\"none\" stroke=\"black\" d=\"M590.73,-528.78C601.15,-511.25 614.03,-489.55 625.13,-470.87\"/>\n",
       "<polygon fill=\"black\" stroke=\"black\" points=\"628.15,-472.64 630.25,-462.26 622.13,-469.07 628.15,-472.64\"/>\n",
       "<text text-anchor=\"middle\" x=\"636.42\" y=\"-482.78\" font-family=\"Helvetica,sans-Serif\" font-size=\"14.00\">False</text>\n",
       "</g>\n",
       "<!-- 2 -->\n",
       "<g id=\"node3\" class=\"node\">\n",
       "<title>2</title>\n",
       "<path fill=\"#e78c49\" stroke=\"black\" d=\"M393,-328C393,-328 277,-328 277,-328 271,-328 265,-322 265,-316 265,-316 265,-272 265,-272 265,-266 271,-260 277,-260 277,-260 393,-260 393,-260 399,-260 405,-266 405,-272 405,-272 405,-316 405,-316 405,-322 399,-328 393,-328\"/>\n",
       "<text text-anchor=\"start\" x=\"291\" y=\"-312.8\" font-family=\"Helvetica,sans-Serif\" font-size=\"14.00\">BMI ≤ 30.95</text>\n",
       "<text text-anchor=\"start\" x=\"295.5\" y=\"-297.8\" font-family=\"Helvetica,sans-Serif\" font-size=\"14.00\">gini = 0.14</text>\n",
       "<text text-anchor=\"start\" x=\"282\" y=\"-282.8\" font-family=\"Helvetica,sans-Serif\" font-size=\"14.00\">samples = 221</text>\n",
       "<text text-anchor=\"start\" x=\"273\" y=\"-267.8\" font-family=\"Helvetica,sans-Serif\" font-size=\"14.00\">value = [204, 17]</text>\n",
       "</g>\n",
       "<!-- 1&#45;&gt;2 -->\n",
       "<g id=\"edge2\" class=\"edge\">\n",
       "<title>1&#45;&gt;2</title>\n",
       "<path fill=\"none\" stroke=\"black\" d=\"M452.38,-393.69C431.01,-375.72 404.5,-353.43 382.08,-334.58\"/>\n",
       "<polygon fill=\"black\" stroke=\"black\" points=\"384.24,-331.83 374.33,-328.07 379.73,-337.18 384.24,-331.83\"/>\n",
       "</g>\n",
       "<!-- 7 -->\n",
       "<g id=\"node8\" class=\"node\">\n",
       "<title>7</title>\n",
       "<path fill=\"#f3c5a3\" stroke=\"black\" d=\"M551,-328C551,-328 435,-328 435,-328 429,-328 423,-322 423,-316 423,-316 423,-272 423,-272 423,-266 429,-260 435,-260 435,-260 551,-260 551,-260 557,-260 563,-266 563,-272 563,-272 563,-316 563,-316 563,-322 557,-328 551,-328\"/>\n",
       "<text text-anchor=\"start\" x=\"439\" y=\"-312.8\" font-family=\"Helvetica,sans-Serif\" font-size=\"14.00\">Glucose ≤ 99.5</text>\n",
       "<text text-anchor=\"start\" x=\"453.5\" y=\"-297.8\" font-family=\"Helvetica,sans-Serif\" font-size=\"14.00\">gini = 0.45</text>\n",
       "<text text-anchor=\"start\" x=\"440\" y=\"-282.8\" font-family=\"Helvetica,sans-Serif\" font-size=\"14.00\">samples = 169</text>\n",
       "<text text-anchor=\"start\" x=\"431\" y=\"-267.8\" font-family=\"Helvetica,sans-Serif\" font-size=\"14.00\">value = [110, 59]</text>\n",
       "</g>\n",
       "<!-- 1&#45;&gt;7 -->\n",
       "<g id=\"edge7\" class=\"edge\">\n",
       "<title>1&#45;&gt;7</title>\n",
       "<path fill=\"none\" stroke=\"black\" d=\"M492.25,-393.69C492.38,-376.96 492.53,-356.49 492.67,-338.53\"/>\n",
       "<polygon fill=\"black\" stroke=\"black\" points=\"496.17,-338.32 492.75,-328.3 489.17,-338.27 496.17,-338.32\"/>\n",
       "</g>\n",
       "<!-- 3 -->\n",
       "<g id=\"node4\" class=\"node\">\n",
       "<title>3</title>\n",
       "<path fill=\"#e5823b\" stroke=\"black\" d=\"M243.5,-193C243.5,-193 18.5,-193 18.5,-193 12.5,-193 6.5,-187 6.5,-181 6.5,-181 6.5,-137 6.5,-137 6.5,-131 12.5,-125 18.5,-125 18.5,-125 243.5,-125 243.5,-125 249.5,-125 255.5,-131 255.5,-137 255.5,-137 255.5,-181 255.5,-181 255.5,-187 249.5,-193 243.5,-193\"/>\n",
       "<text text-anchor=\"start\" x=\"14.5\" y=\"-177.8\" font-family=\"Helvetica,sans-Serif\" font-size=\"14.00\">DiabetesPedigreeFunction ≤ 0.41</text>\n",
       "<text text-anchor=\"start\" x=\"91.5\" y=\"-162.8\" font-family=\"Helvetica,sans-Serif\" font-size=\"14.00\">gini = 0.02</text>\n",
       "<text text-anchor=\"start\" x=\"78\" y=\"-147.8\" font-family=\"Helvetica,sans-Serif\" font-size=\"14.00\">samples = 124</text>\n",
       "<text text-anchor=\"start\" x=\"73.5\" y=\"-132.8\" font-family=\"Helvetica,sans-Serif\" font-size=\"14.00\">value = [123, 1]</text>\n",
       "</g>\n",
       "<!-- 2&#45;&gt;3 -->\n",
       "<g id=\"edge3\" class=\"edge\">\n",
       "<title>2&#45;&gt;3</title>\n",
       "<path fill=\"none\" stroke=\"black\" d=\"M284.31,-259.95C255.85,-241.4 220.18,-218.14 190.41,-198.73\"/>\n",
       "<polygon fill=\"black\" stroke=\"black\" points=\"192.07,-195.64 181.78,-193.11 188.25,-201.5 192.07,-195.64\"/>\n",
       "</g>\n",
       "<!-- 6 -->\n",
       "<g id=\"node7\" class=\"node\">\n",
       "<title>6</title>\n",
       "<path fill=\"#ea9a60\" stroke=\"black\" d=\"M392.5,-185.5C392.5,-185.5 285.5,-185.5 285.5,-185.5 279.5,-185.5 273.5,-179.5 273.5,-173.5 273.5,-173.5 273.5,-144.5 273.5,-144.5 273.5,-138.5 279.5,-132.5 285.5,-132.5 285.5,-132.5 392.5,-132.5 392.5,-132.5 398.5,-132.5 404.5,-138.5 404.5,-144.5 404.5,-144.5 404.5,-173.5 404.5,-173.5 404.5,-179.5 398.5,-185.5 392.5,-185.5\"/>\n",
       "<text text-anchor=\"start\" x=\"299.5\" y=\"-170.3\" font-family=\"Helvetica,sans-Serif\" font-size=\"14.00\">gini = 0.28</text>\n",
       "<text text-anchor=\"start\" x=\"290.5\" y=\"-155.3\" font-family=\"Helvetica,sans-Serif\" font-size=\"14.00\">samples = 97</text>\n",
       "<text text-anchor=\"start\" x=\"281.5\" y=\"-140.3\" font-family=\"Helvetica,sans-Serif\" font-size=\"14.00\">value = [81, 16]</text>\n",
       "</g>\n",
       "<!-- 2&#45;&gt;6 -->\n",
       "<g id=\"edge6\" class=\"edge\">\n",
       "<title>2&#45;&gt;6</title>\n",
       "<path fill=\"none\" stroke=\"black\" d=\"M336,-259.78C336.58,-240.35 337.32,-215.8 337.92,-195.92\"/>\n",
       "<polygon fill=\"black\" stroke=\"black\" points=\"341.42,-195.81 338.23,-185.71 334.43,-195.6 341.42,-195.81\"/>\n",
       "</g>\n",
       "<!-- 4 -->\n",
       "<g id=\"node5\" class=\"node\">\n",
       "<title>4</title>\n",
       "<path fill=\"#e58139\" stroke=\"black\" d=\"M110,-60.5C110,-60.5 12,-60.5 12,-60.5 6,-60.5 0,-54.5 0,-48.5 0,-48.5 0,-19.5 0,-19.5 0,-13.5 6,-7.5 12,-7.5 12,-7.5 110,-7.5 110,-7.5 116,-7.5 122,-13.5 122,-19.5 122,-19.5 122,-48.5 122,-48.5 122,-54.5 116,-60.5 110,-60.5\"/>\n",
       "<text text-anchor=\"start\" x=\"26\" y=\"-45.3\" font-family=\"Helvetica,sans-Serif\" font-size=\"14.00\">gini = 0.0</text>\n",
       "<text text-anchor=\"start\" x=\"12.5\" y=\"-30.3\" font-family=\"Helvetica,sans-Serif\" font-size=\"14.00\">samples = 74</text>\n",
       "<text text-anchor=\"start\" x=\"8\" y=\"-15.3\" font-family=\"Helvetica,sans-Serif\" font-size=\"14.00\">value = [74, 0]</text>\n",
       "</g>\n",
       "<!-- 3&#45;&gt;4 -->\n",
       "<g id=\"edge4\" class=\"edge\">\n",
       "<title>3&#45;&gt;4</title>\n",
       "<path fill=\"none\" stroke=\"black\" d=\"M112.06,-124.71C102.26,-107.51 90.33,-86.54 80.46,-69.2\"/>\n",
       "<polygon fill=\"black\" stroke=\"black\" points=\"83.5,-67.47 75.52,-60.51 77.42,-70.93 83.5,-67.47\"/>\n",
       "</g>\n",
       "<!-- 5 -->\n",
       "<g id=\"node6\" class=\"node\">\n",
       "<title>5</title>\n",
       "<path fill=\"#e6843d\" stroke=\"black\" d=\"M250,-60.5C250,-60.5 152,-60.5 152,-60.5 146,-60.5 140,-54.5 140,-48.5 140,-48.5 140,-19.5 140,-19.5 140,-13.5 146,-7.5 152,-7.5 152,-7.5 250,-7.5 250,-7.5 256,-7.5 262,-13.5 262,-19.5 262,-19.5 262,-48.5 262,-48.5 262,-54.5 256,-60.5 250,-60.5\"/>\n",
       "<text text-anchor=\"start\" x=\"161.5\" y=\"-45.3\" font-family=\"Helvetica,sans-Serif\" font-size=\"14.00\">gini = 0.04</text>\n",
       "<text text-anchor=\"start\" x=\"152.5\" y=\"-30.3\" font-family=\"Helvetica,sans-Serif\" font-size=\"14.00\">samples = 50</text>\n",
       "<text text-anchor=\"start\" x=\"148\" y=\"-15.3\" font-family=\"Helvetica,sans-Serif\" font-size=\"14.00\">value = [49, 1]</text>\n",
       "</g>\n",
       "<!-- 3&#45;&gt;5 -->\n",
       "<g id=\"edge5\" class=\"edge\">\n",
       "<title>3&#45;&gt;5</title>\n",
       "<path fill=\"none\" stroke=\"black\" d=\"M149.94,-124.71C159.74,-107.51 171.67,-86.54 181.54,-69.2\"/>\n",
       "<polygon fill=\"black\" stroke=\"black\" points=\"184.58,-70.93 186.48,-60.51 178.5,-67.47 184.58,-70.93\"/>\n",
       "</g>\n",
       "<!-- 8 -->\n",
       "<g id=\"node9\" class=\"node\">\n",
       "<title>8</title>\n",
       "<path fill=\"#ea975c\" stroke=\"black\" d=\"M539,-185.5C539,-185.5 441,-185.5 441,-185.5 435,-185.5 429,-179.5 429,-173.5 429,-173.5 429,-144.5 429,-144.5 429,-138.5 435,-132.5 441,-132.5 441,-132.5 539,-132.5 539,-132.5 545,-132.5 551,-138.5 551,-144.5 551,-144.5 551,-173.5 551,-173.5 551,-179.5 545,-185.5 539,-185.5\"/>\n",
       "<text text-anchor=\"start\" x=\"450.5\" y=\"-170.3\" font-family=\"Helvetica,sans-Serif\" font-size=\"14.00\">gini = 0.26</text>\n",
       "<text text-anchor=\"start\" x=\"441.5\" y=\"-155.3\" font-family=\"Helvetica,sans-Serif\" font-size=\"14.00\">samples = 53</text>\n",
       "<text text-anchor=\"start\" x=\"437\" y=\"-140.3\" font-family=\"Helvetica,sans-Serif\" font-size=\"14.00\">value = [45, 8]</text>\n",
       "</g>\n",
       "<!-- 7&#45;&gt;8 -->\n",
       "<g id=\"edge8\" class=\"edge\">\n",
       "<title>7&#45;&gt;8</title>\n",
       "<path fill=\"none\" stroke=\"black\" d=\"M492.25,-259.78C491.81,-240.35 491.26,-215.8 490.81,-195.92\"/>\n",
       "<polygon fill=\"black\" stroke=\"black\" points=\"494.3,-195.63 490.58,-185.71 487.31,-195.78 494.3,-195.63\"/>\n",
       "</g>\n",
       "<!-- 9 -->\n",
       "<g id=\"node10\" class=\"node\">\n",
       "<title>9</title>\n",
       "<path fill=\"#f9e4d4\" stroke=\"black\" d=\"M688.5,-193C688.5,-193 581.5,-193 581.5,-193 575.5,-193 569.5,-187 569.5,-181 569.5,-181 569.5,-137 569.5,-137 569.5,-131 575.5,-125 581.5,-125 581.5,-125 688.5,-125 688.5,-125 694.5,-125 700.5,-131 700.5,-137 700.5,-137 700.5,-181 700.5,-181 700.5,-187 694.5,-193 688.5,-193\"/>\n",
       "<text text-anchor=\"start\" x=\"591\" y=\"-177.8\" font-family=\"Helvetica,sans-Serif\" font-size=\"14.00\">BMI ≤ 30.05</text>\n",
       "<text text-anchor=\"start\" x=\"595.5\" y=\"-162.8\" font-family=\"Helvetica,sans-Serif\" font-size=\"14.00\">gini = 0.49</text>\n",
       "<text text-anchor=\"start\" x=\"582\" y=\"-147.8\" font-family=\"Helvetica,sans-Serif\" font-size=\"14.00\">samples = 116</text>\n",
       "<text text-anchor=\"start\" x=\"577.5\" y=\"-132.8\" font-family=\"Helvetica,sans-Serif\" font-size=\"14.00\">value = [65, 51]</text>\n",
       "</g>\n",
       "<!-- 7&#45;&gt;9 -->\n",
       "<g id=\"edge9\" class=\"edge\">\n",
       "<title>7&#45;&gt;9</title>\n",
       "<path fill=\"none\" stroke=\"black\" d=\"M528.47,-259.78C547.78,-241.69 571.82,-219.17 592.18,-200.11\"/>\n",
       "<polygon fill=\"black\" stroke=\"black\" points=\"594.59,-202.65 599.49,-193.26 589.8,-197.54 594.59,-202.65\"/>\n",
       "</g>\n",
       "<!-- 10 -->\n",
       "<g id=\"node11\" class=\"node\">\n",
       "<title>10</title>\n",
       "<path fill=\"#f3c4a2\" stroke=\"black\" d=\"M544.5,-60.5C544.5,-60.5 437.5,-60.5 437.5,-60.5 431.5,-60.5 425.5,-54.5 425.5,-48.5 425.5,-48.5 425.5,-19.5 425.5,-19.5 425.5,-13.5 431.5,-7.5 437.5,-7.5 437.5,-7.5 544.5,-7.5 544.5,-7.5 550.5,-7.5 556.5,-13.5 556.5,-19.5 556.5,-19.5 556.5,-48.5 556.5,-48.5 556.5,-54.5 550.5,-60.5 544.5,-60.5\"/>\n",
       "<text text-anchor=\"start\" x=\"451.5\" y=\"-45.3\" font-family=\"Helvetica,sans-Serif\" font-size=\"14.00\">gini = 0.45</text>\n",
       "<text text-anchor=\"start\" x=\"442.5\" y=\"-30.3\" font-family=\"Helvetica,sans-Serif\" font-size=\"14.00\">samples = 52</text>\n",
       "<text text-anchor=\"start\" x=\"433.5\" y=\"-15.3\" font-family=\"Helvetica,sans-Serif\" font-size=\"14.00\">value = [34, 18]</text>\n",
       "</g>\n",
       "<!-- 9&#45;&gt;10 -->\n",
       "<g id=\"edge10\" class=\"edge\">\n",
       "<title>9&#45;&gt;10</title>\n",
       "<path fill=\"none\" stroke=\"black\" d=\"M596.03,-124.71C575.06,-106.8 549.31,-84.8 528.55,-67.07\"/>\n",
       "<polygon fill=\"black\" stroke=\"black\" points=\"530.74,-64.34 520.86,-60.51 526.19,-69.66 530.74,-64.34\"/>\n",
       "</g>\n",
       "<!-- 11 -->\n",
       "<g id=\"node12\" class=\"node\">\n",
       "<title>11</title>\n",
       "<path fill=\"#f3f9fd\" stroke=\"black\" d=\"M693.5,-60.5C693.5,-60.5 586.5,-60.5 586.5,-60.5 580.5,-60.5 574.5,-54.5 574.5,-48.5 574.5,-48.5 574.5,-19.5 574.5,-19.5 574.5,-13.5 580.5,-7.5 586.5,-7.5 586.5,-7.5 693.5,-7.5 693.5,-7.5 699.5,-7.5 705.5,-13.5 705.5,-19.5 705.5,-19.5 705.5,-48.5 705.5,-48.5 705.5,-54.5 699.5,-60.5 693.5,-60.5\"/>\n",
       "<text text-anchor=\"start\" x=\"605\" y=\"-45.3\" font-family=\"Helvetica,sans-Serif\" font-size=\"14.00\">gini = 0.5</text>\n",
       "<text text-anchor=\"start\" x=\"591.5\" y=\"-30.3\" font-family=\"Helvetica,sans-Serif\" font-size=\"14.00\">samples = 64</text>\n",
       "<text text-anchor=\"start\" x=\"582.5\" y=\"-15.3\" font-family=\"Helvetica,sans-Serif\" font-size=\"14.00\">value = [31, 33]</text>\n",
       "</g>\n",
       "<!-- 9&#45;&gt;11 -->\n",
       "<g id=\"edge11\" class=\"edge\">\n",
       "<title>9&#45;&gt;11</title>\n",
       "<path fill=\"none\" stroke=\"black\" d=\"M636.35,-124.71C637.03,-107.98 637.86,-87.69 638.55,-70.64\"/>\n",
       "<polygon fill=\"black\" stroke=\"black\" points=\"642.05,-70.64 638.96,-60.51 635.06,-70.36 642.05,-70.64\"/>\n",
       "</g>\n",
       "<!-- 13 -->\n",
       "<g id=\"node14\" class=\"node\">\n",
       "<title>13</title>\n",
       "<path fill=\"#f1ba93\" stroke=\"black\" d=\"M702.5,-320.5C702.5,-320.5 595.5,-320.5 595.5,-320.5 589.5,-320.5 583.5,-314.5 583.5,-308.5 583.5,-308.5 583.5,-279.5 583.5,-279.5 583.5,-273.5 589.5,-267.5 595.5,-267.5 595.5,-267.5 702.5,-267.5 702.5,-267.5 708.5,-267.5 714.5,-273.5 714.5,-279.5 714.5,-279.5 714.5,-308.5 714.5,-308.5 714.5,-314.5 708.5,-320.5 702.5,-320.5\"/>\n",
       "<text text-anchor=\"start\" x=\"609.5\" y=\"-305.3\" font-family=\"Helvetica,sans-Serif\" font-size=\"14.00\">gini = 0.43</text>\n",
       "<text text-anchor=\"start\" x=\"600.5\" y=\"-290.3\" font-family=\"Helvetica,sans-Serif\" font-size=\"14.00\">samples = 61</text>\n",
       "<text text-anchor=\"start\" x=\"591.5\" y=\"-275.3\" font-family=\"Helvetica,sans-Serif\" font-size=\"14.00\">value = [42, 19]</text>\n",
       "</g>\n",
       "<!-- 12&#45;&gt;13 -->\n",
       "<g id=\"edge13\" class=\"edge\">\n",
       "<title>12&#45;&gt;13</title>\n",
       "<path fill=\"none\" stroke=\"black\" d=\"M649.75,-393.69C649.6,-374.53 649.42,-350.45 649.27,-330.87\"/>\n",
       "<polygon fill=\"black\" stroke=\"black\" points=\"652.77,-330.78 649.2,-320.8 645.77,-330.83 652.77,-330.78\"/>\n",
       "</g>\n",
       "<!-- 14 -->\n",
       "<g id=\"node15\" class=\"node\">\n",
       "<title>14</title>\n",
       "<path fill=\"#85c2ef\" stroke=\"black\" d=\"M861,-328C861,-328 745,-328 745,-328 739,-328 733,-322 733,-316 733,-316 733,-272 733,-272 733,-266 739,-260 745,-260 745,-260 861,-260 861,-260 867,-260 873,-266 873,-272 873,-272 873,-316 873,-316 873,-322 867,-328 861,-328\"/>\n",
       "<text text-anchor=\"start\" x=\"744.5\" y=\"-312.8\" font-family=\"Helvetica,sans-Serif\" font-size=\"14.00\">Glucose ≤ 165.5</text>\n",
       "<text text-anchor=\"start\" x=\"768\" y=\"-297.8\" font-family=\"Helvetica,sans-Serif\" font-size=\"14.00\">gini = 0.4</text>\n",
       "<text text-anchor=\"start\" x=\"750\" y=\"-282.8\" font-family=\"Helvetica,sans-Serif\" font-size=\"14.00\">samples = 163</text>\n",
       "<text text-anchor=\"start\" x=\"741\" y=\"-267.8\" font-family=\"Helvetica,sans-Serif\" font-size=\"14.00\">value = [45, 118]</text>\n",
       "</g>\n",
       "<!-- 12&#45;&gt;14 -->\n",
       "<g id=\"edge14\" class=\"edge\">\n",
       "<title>12&#45;&gt;14</title>\n",
       "<path fill=\"none\" stroke=\"black\" d=\"M688.61,-393.69C709.34,-375.8 735.05,-353.62 756.84,-334.83\"/>\n",
       "<polygon fill=\"black\" stroke=\"black\" points=\"759.38,-337.25 764.67,-328.07 754.81,-331.95 759.38,-337.25\"/>\n",
       "</g>\n",
       "<!-- 15 -->\n",
       "<g id=\"node16\" class=\"node\">\n",
       "<title>15</title>\n",
       "<path fill=\"#add7f4\" stroke=\"black\" d=\"M853.5,-193C853.5,-193 746.5,-193 746.5,-193 740.5,-193 734.5,-187 734.5,-181 734.5,-181 734.5,-137 734.5,-137 734.5,-131 740.5,-125 746.5,-125 746.5,-125 853.5,-125 853.5,-125 859.5,-125 865.5,-131 865.5,-137 865.5,-137 865.5,-181 865.5,-181 865.5,-187 859.5,-193 853.5,-193\"/>\n",
       "<text text-anchor=\"start\" x=\"760\" y=\"-177.8\" font-family=\"Helvetica,sans-Serif\" font-size=\"14.00\">Age ≤ 31.5</text>\n",
       "<text text-anchor=\"start\" x=\"760.5\" y=\"-162.8\" font-family=\"Helvetica,sans-Serif\" font-size=\"14.00\">gini = 0.47</text>\n",
       "<text text-anchor=\"start\" x=\"747\" y=\"-147.8\" font-family=\"Helvetica,sans-Serif\" font-size=\"14.00\">samples = 108</text>\n",
       "<text text-anchor=\"start\" x=\"742.5\" y=\"-132.8\" font-family=\"Helvetica,sans-Serif\" font-size=\"14.00\">value = [40, 68]</text>\n",
       "</g>\n",
       "<!-- 14&#45;&gt;15 -->\n",
       "<g id=\"edge15\" class=\"edge\">\n",
       "<title>14&#45;&gt;15</title>\n",
       "<path fill=\"none\" stroke=\"black\" d=\"M802.25,-259.78C801.87,-242.72 801.39,-221.73 800.98,-203.4\"/>\n",
       "<polygon fill=\"black\" stroke=\"black\" points=\"804.47,-203.17 800.75,-193.26 797.48,-203.33 804.47,-203.17\"/>\n",
       "</g>\n",
       "<!-- 18 -->\n",
       "<g id=\"node19\" class=\"node\">\n",
       "<title>18</title>\n",
       "<path fill=\"#4da7e8\" stroke=\"black\" d=\"M994,-185.5C994,-185.5 896,-185.5 896,-185.5 890,-185.5 884,-179.5 884,-173.5 884,-173.5 884,-144.5 884,-144.5 884,-138.5 890,-132.5 896,-132.5 896,-132.5 994,-132.5 994,-132.5 1000,-132.5 1006,-138.5 1006,-144.5 1006,-144.5 1006,-173.5 1006,-173.5 1006,-179.5 1000,-185.5 994,-185.5\"/>\n",
       "<text text-anchor=\"start\" x=\"905.5\" y=\"-170.3\" font-family=\"Helvetica,sans-Serif\" font-size=\"14.00\">gini = 0.17</text>\n",
       "<text text-anchor=\"start\" x=\"896.5\" y=\"-155.3\" font-family=\"Helvetica,sans-Serif\" font-size=\"14.00\">samples = 55</text>\n",
       "<text text-anchor=\"start\" x=\"892\" y=\"-140.3\" font-family=\"Helvetica,sans-Serif\" font-size=\"14.00\">value = [5, 50]</text>\n",
       "</g>\n",
       "<!-- 14&#45;&gt;18 -->\n",
       "<g id=\"edge18\" class=\"edge\">\n",
       "<title>14&#45;&gt;18</title>\n",
       "<path fill=\"none\" stroke=\"black\" d=\"M838.47,-259.78C860.36,-239.27 888.34,-213.07 910.13,-192.66\"/>\n",
       "<polygon fill=\"black\" stroke=\"black\" points=\"912.65,-195.1 917.55,-185.71 907.86,-189.99 912.65,-195.1\"/>\n",
       "</g>\n",
       "<!-- 16 -->\n",
       "<g id=\"node17\" class=\"node\">\n",
       "<title>16</title>\n",
       "<path fill=\"#ffffff\" stroke=\"black\" d=\"M850.5,-60.5C850.5,-60.5 743.5,-60.5 743.5,-60.5 737.5,-60.5 731.5,-54.5 731.5,-48.5 731.5,-48.5 731.5,-19.5 731.5,-19.5 731.5,-13.5 737.5,-7.5 743.5,-7.5 743.5,-7.5 850.5,-7.5 850.5,-7.5 856.5,-7.5 862.5,-13.5 862.5,-19.5 862.5,-19.5 862.5,-48.5 862.5,-48.5 862.5,-54.5 856.5,-60.5 850.5,-60.5\"/>\n",
       "<text text-anchor=\"start\" x=\"762\" y=\"-45.3\" font-family=\"Helvetica,sans-Serif\" font-size=\"14.00\">gini = 0.5</text>\n",
       "<text text-anchor=\"start\" x=\"748.5\" y=\"-30.3\" font-family=\"Helvetica,sans-Serif\" font-size=\"14.00\">samples = 50</text>\n",
       "<text text-anchor=\"start\" x=\"739.5\" y=\"-15.3\" font-family=\"Helvetica,sans-Serif\" font-size=\"14.00\">value = [25, 25]</text>\n",
       "</g>\n",
       "<!-- 15&#45;&gt;16 -->\n",
       "<g id=\"edge16\" class=\"edge\">\n",
       "<title>15&#45;&gt;16</title>\n",
       "<path fill=\"none\" stroke=\"black\" d=\"M799.19,-124.71C798.78,-107.98 798.29,-87.69 797.87,-70.64\"/>\n",
       "<polygon fill=\"black\" stroke=\"black\" points=\"801.36,-70.42 797.62,-60.51 794.37,-70.59 801.36,-70.42\"/>\n",
       "</g>\n",
       "<!-- 17 -->\n",
       "<g id=\"node18\" class=\"node\">\n",
       "<title>17</title>\n",
       "<path fill=\"#7ebfee\" stroke=\"black\" d=\"M999.5,-60.5C999.5,-60.5 892.5,-60.5 892.5,-60.5 886.5,-60.5 880.5,-54.5 880.5,-48.5 880.5,-48.5 880.5,-19.5 880.5,-19.5 880.5,-13.5 886.5,-7.5 892.5,-7.5 892.5,-7.5 999.5,-7.5 999.5,-7.5 1005.5,-7.5 1011.5,-13.5 1011.5,-19.5 1011.5,-19.5 1011.5,-48.5 1011.5,-48.5 1011.5,-54.5 1005.5,-60.5 999.5,-60.5\"/>\n",
       "<text text-anchor=\"start\" x=\"906.5\" y=\"-45.3\" font-family=\"Helvetica,sans-Serif\" font-size=\"14.00\">gini = 0.38</text>\n",
       "<text text-anchor=\"start\" x=\"897.5\" y=\"-30.3\" font-family=\"Helvetica,sans-Serif\" font-size=\"14.00\">samples = 58</text>\n",
       "<text text-anchor=\"start\" x=\"888.5\" y=\"-15.3\" font-family=\"Helvetica,sans-Serif\" font-size=\"14.00\">value = [15, 43]</text>\n",
       "</g>\n",
       "<!-- 15&#45;&gt;17 -->\n",
       "<g id=\"edge17\" class=\"edge\">\n",
       "<title>15&#45;&gt;17</title>\n",
       "<path fill=\"none\" stroke=\"black\" d=\"M839.51,-124.71C860.78,-106.8 886.89,-84.8 907.93,-67.07\"/>\n",
       "<polygon fill=\"black\" stroke=\"black\" points=\"910.33,-69.63 915.72,-60.51 905.82,-64.27 910.33,-69.63\"/>\n",
       "</g>\n",
       "</g>\n",
       "</svg>\n"
      ],
      "text/plain": [
       "<graphviz.files.Source at 0x7fe7ac45db50>"
      ]
     },
     "execution_count": 21,
     "metadata": {},
     "output_type": "execute_result"
    }
   ],
   "source": [
    "m = DecisionTreeClassifier(min_samples_leaf=50)\n",
    "m.fit(X_train, y_train)\n",
    "draw_tree(m, X_train, size=12)"
   ]
  },
  {
   "cell_type": "markdown",
   "id": "f8f12c2c",
   "metadata": {
    "papermill": {
     "duration": 0.014534,
     "end_time": "2023-01-17T16:19:25.782997",
     "exception": false,
     "start_time": "2023-01-17T16:19:25.768463",
     "status": "completed"
    },
    "tags": []
   },
   "source": [
    "Podemos observar que apesar de ter uma quantidade maior de divisões isso não se traduziu em uma melhora de performance, acredito que isso se deve ao fato de haver um overfitting da árvore, no caso da decision tree isso ocorre pois a árvore vai continuar a divisão binária dos subdataset mesmo tendo um nível de pureza muito alto, fazendo com que o modelo fique muito específico para esse tipo de dado, logo quando for testado com outro dataset acaba tendo uma performance menor."
   ]
  },
  {
   "cell_type": "code",
   "execution_count": 22,
   "id": "e193fc4a",
   "metadata": {
    "editable": false,
    "execution": {
     "iopub.execute_input": "2023-01-17T16:19:25.815115Z",
     "iopub.status.busy": "2023-01-17T16:19:25.814593Z",
     "iopub.status.idle": "2023-01-17T16:19:25.825975Z",
     "shell.execute_reply": "2023-01-17T16:19:25.824894Z"
    },
    "papermill": {
     "duration": 0.030288,
     "end_time": "2023-01-17T16:19:25.828208",
     "exception": false,
     "start_time": "2023-01-17T16:19:25.797920",
     "status": "completed"
    },
    "tags": []
   },
   "outputs": [
    {
     "data": {
      "text/plain": [
       "0.2792207792207792"
      ]
     },
     "execution_count": 22,
     "metadata": {},
     "output_type": "execute_result"
    }
   ],
   "source": [
    "mean_absolute_error(y_test, m.predict(X_test))"
   ]
  },
  {
   "cell_type": "markdown",
   "id": "03844d6d",
   "metadata": {
    "papermill": {
     "duration": 0.015426,
     "end_time": "2023-01-17T16:19:25.859238",
     "exception": false,
     "start_time": "2023-01-17T16:19:25.843812",
     "status": "completed"
    },
    "tags": []
   },
   "source": [
    "# Radom Forest"
   ]
  },
  {
   "cell_type": "markdown",
   "id": "d66a7b51",
   "metadata": {
    "papermill": {
     "duration": 0.014835,
     "end_time": "2023-01-17T16:19:25.890774",
     "exception": false,
     "start_time": "2023-01-17T16:19:25.875939",
     "status": "completed"
    },
    "tags": []
   },
   "source": [
    "Uma Radom Forest consiste na média da previsão de um  monte de árvore de decisão, criando dessa forma uma floresta, então iremos definir uma função que ira pegar um subdataset de tamanho aleatório e irá fazer uma árvore a partir dele."
   ]
  },
  {
   "cell_type": "markdown",
   "id": "80a143ae",
   "metadata": {
    "papermill": {
     "duration": 0.014926,
     "end_time": "2023-01-17T16:19:25.920724",
     "exception": false,
     "start_time": "2023-01-17T16:19:25.905798",
     "status": "completed"
    },
    "tags": []
   },
   "source": [
    "Definida essa função iremos criar uma floresta, que será a array trees, com 100 árvores de decisão, cada uma com um subdataset aleatório definido pela função acima"
   ]
  },
  {
   "cell_type": "code",
   "execution_count": 23,
   "id": "274438cb",
   "metadata": {
    "execution": {
     "iopub.execute_input": "2023-01-17T16:19:25.953582Z",
     "iopub.status.busy": "2023-01-17T16:19:25.952933Z",
     "iopub.status.idle": "2023-01-17T16:19:25.958404Z",
     "shell.execute_reply": "2023-01-17T16:19:25.957387Z"
    },
    "papermill": {
     "duration": 0.024937,
     "end_time": "2023-01-17T16:19:25.960949",
     "exception": false,
     "start_time": "2023-01-17T16:19:25.936012",
     "status": "completed"
    },
    "tags": []
   },
   "outputs": [],
   "source": [
    "def get_tree(prop=0.75):\n",
    "    n = len(y_train)\n",
    "    idxs = random.choice(n, int(n*prop))\n",
    "    return DecisionTreeClassifier(min_samples_leaf=5).fit(X_train.iloc[idxs], y_train.iloc[idxs])"
   ]
  },
  {
   "cell_type": "code",
   "execution_count": 24,
   "id": "606eceb0",
   "metadata": {
    "editable": false,
    "execution": {
     "iopub.execute_input": "2023-01-17T16:19:25.992758Z",
     "iopub.status.busy": "2023-01-17T16:19:25.992009Z",
     "iopub.status.idle": "2023-01-17T16:19:26.342528Z",
     "shell.execute_reply": "2023-01-17T16:19:26.341311Z"
    },
    "papermill": {
     "duration": 0.369728,
     "end_time": "2023-01-17T16:19:26.345663",
     "exception": false,
     "start_time": "2023-01-17T16:19:25.975935",
     "status": "completed"
    },
    "tags": []
   },
   "outputs": [],
   "source": [
    "trees = [get_tree() for t in range(100)]"
   ]
  },
  {
   "cell_type": "markdown",
   "id": "c0652e1a",
   "metadata": {
    "papermill": {
     "duration": 0.014632,
     "end_time": "2023-01-17T16:19:26.375255",
     "exception": false,
     "start_time": "2023-01-17T16:19:26.360623",
     "status": "completed"
    },
    "tags": []
   },
   "source": [
    "A partir desses valores será feita a predição a partir da média de previsão de todas as árvores. Podemos observar que apesar de ter utilizado o conceito de Random Forest a performance do modelo foi menor, acredito que isso se deve pelo fato da árvore de decisão dos subdatasets estarem dado um valor muito alto de importância para dados irrelevantes ao dataset. Ou seja, a informação que é encontrada pela análise do subdataset não representa da melhor forma o dataset como um todo."
   ]
  },
  {
   "cell_type": "code",
   "execution_count": 25,
   "id": "a4ad190b",
   "metadata": {
    "editable": false,
    "execution": {
     "iopub.execute_input": "2023-01-17T16:19:26.407209Z",
     "iopub.status.busy": "2023-01-17T16:19:26.406404Z",
     "iopub.status.idle": "2023-01-17T16:19:26.546873Z",
     "shell.execute_reply": "2023-01-17T16:19:26.545490Z"
    },
    "papermill": {
     "duration": 0.159644,
     "end_time": "2023-01-17T16:19:26.549894",
     "exception": false,
     "start_time": "2023-01-17T16:19:26.390250",
     "status": "completed"
    },
    "tags": []
   },
   "outputs": [
    {
     "data": {
      "text/plain": [
       "0.30948051948051947"
      ]
     },
     "execution_count": 25,
     "metadata": {},
     "output_type": "execute_result"
    }
   ],
   "source": [
    "all_probs = [t.predict(X_test) for t in trees]\n",
    "avg_probs = np.stack(all_probs).mean(0)\n",
    "\n",
    "mean_absolute_error(y_test, avg_probs)"
   ]
  },
  {
   "cell_type": "markdown",
   "id": "2fe44080",
   "metadata": {
    "papermill": {
     "duration": 0.014969,
     "end_time": "2023-01-17T16:19:26.580369",
     "exception": false,
     "start_time": "2023-01-17T16:19:26.565400",
     "status": "completed"
    },
    "tags": []
   },
   "source": [
    "Utilizando o RandomForestClassifier obtive um melhor resultado. A principal diferença entre a forma feita anteriormente e a com o RandomForestClassifier é o fato de além de escolher um subdataset para as árvores de dado também é feita a escolha de forma aleatória das colunas para cada divisão binária."
   ]
  },
  {
   "cell_type": "code",
   "execution_count": 26,
   "id": "c328eece",
   "metadata": {
    "execution": {
     "iopub.execute_input": "2023-01-17T16:19:26.612871Z",
     "iopub.status.busy": "2023-01-17T16:19:26.612443Z",
     "iopub.status.idle": "2023-01-17T16:19:26.886512Z",
     "shell.execute_reply": "2023-01-17T16:19:26.885396Z"
    },
    "papermill": {
     "duration": 0.29334,
     "end_time": "2023-01-17T16:19:26.889017",
     "exception": false,
     "start_time": "2023-01-17T16:19:26.595677",
     "status": "completed"
    },
    "tags": []
   },
   "outputs": [
    {
     "data": {
      "text/plain": [
       "0.2597402597402597"
      ]
     },
     "execution_count": 26,
     "metadata": {},
     "output_type": "execute_result"
    }
   ],
   "source": [
    "from sklearn.ensemble import RandomForestClassifier\n",
    "\n",
    "rf = RandomForestClassifier(100, min_samples_leaf=5)\n",
    "rf.fit(X_train, y_train);\n",
    "mean_absolute_error(y_test, rf.predict(X_test))"
   ]
  },
  {
   "cell_type": "markdown",
   "id": "eb80c40e",
   "metadata": {
    "papermill": {
     "duration": 0.015817,
     "end_time": "2023-01-17T16:19:26.920100",
     "exception": false,
     "start_time": "2023-01-17T16:19:26.904283",
     "status": "completed"
    },
    "tags": []
   },
   "source": [
    "A partir desse gráfico podemos observar a importância de cada coluna para o dataset como um todo."
   ]
  },
  {
   "cell_type": "code",
   "execution_count": 27,
   "id": "1627be5d",
   "metadata": {
    "editable": false,
    "execution": {
     "iopub.execute_input": "2023-01-17T16:19:26.954106Z",
     "iopub.status.busy": "2023-01-17T16:19:26.953314Z",
     "iopub.status.idle": "2023-01-17T16:19:27.261900Z",
     "shell.execute_reply": "2023-01-17T16:19:27.260825Z"
    },
    "papermill": {
     "duration": 0.328701,
     "end_time": "2023-01-17T16:19:27.264496",
     "exception": false,
     "start_time": "2023-01-17T16:19:26.935795",
     "status": "completed"
    },
    "tags": []
   },
   "outputs": [
    {
     "data": {
      "image/png": "[encoded data removed]",
      "text/plain": [
       "<Figure size 432x288 with 1 Axes>"
      ]
     },
     "metadata": {
      "needs_background": "light"
     },
     "output_type": "display_data"
    }
   ],
   "source": [
    "pd.DataFrame(dict(cols=X_train.columns, imp=m.feature_importances_)).plot('cols', 'imp', 'barh');"
   ]
  },
  {
   "cell_type": "markdown",
   "id": "8c3fec66",
   "metadata": {
    "papermill": {
     "duration": 0.015909,
     "end_time": "2023-01-17T16:19:27.296722",
     "exception": false,
     "start_time": "2023-01-17T16:19:27.280813",
     "status": "completed"
    },
    "tags": []
   },
   "source": [
    "Testando o modelo com dados aleatório é possível observar a predição:"
   ]
  },
  {
   "cell_type": "code",
   "execution_count": 28,
   "id": "563b3f22",
   "metadata": {
    "editable": false,
    "execution": {
     "iopub.execute_input": "2023-01-17T16:19:27.330012Z",
     "iopub.status.busy": "2023-01-17T16:19:27.329580Z",
     "iopub.status.idle": "2023-01-17T16:19:27.341160Z",
     "shell.execute_reply": "2023-01-17T16:19:27.339655Z"
    },
    "papermill": {
     "duration": 0.031319,
     "end_time": "2023-01-17T16:19:27.343535",
     "exception": false,
     "start_time": "2023-01-17T16:19:27.312216",
     "status": "completed"
    },
    "tags": []
   },
   "outputs": [
    {
     "name": "stdout",
     "output_type": "stream",
     "text": [
      "Tem diabetes\n"
     ]
    }
   ],
   "source": [
    "data=[[1, 126, 60, 0, 0, 30.1, 0.349, 47]] \n",
    "\n",
    "row_df=pd.DataFrame(data,columns=['Pregnancies', 'Glucose', 'BloodPressure', 'SkinThickness',\"Insulin\", \"BMI\", \"DiabetesPedigreeFunction\", \"Age\"])\n",
    "y_pred = m.predict(row_df)\n",
    "if y_pred[0] == 1:\n",
    "    print(\"Tem diabetes\")\n",
    "else:\n",
    "    print(\"Não tem diabetes\")"
   ]
  },
  {
   "cell_type": "markdown",
   "id": "7da5a9b6",
   "metadata": {
    "papermill": {
     "duration": 0.015258,
     "end_time": "2023-01-17T16:19:27.374471",
     "exception": false,
     "start_time": "2023-01-17T16:19:27.359213",
     "status": "completed"
    },
    "tags": []
   },
   "source": [
    "Para finalizar devemos subir o modelo para o Hugginfaces, primeiramente devemos criar o pickle do modelo, uma vez feito isso basta baixar o arquivo e subir manualmente para o hugginfaces, o espaço está disponível na seguinte URL: https://huggingface.co/spaces/DanielViniciusAlves/AM_Lesson_3"
   ]
  },
  {
   "cell_type": "code",
   "execution_count": 29,
   "id": "0b8ca06b",
   "metadata": {
    "execution": {
     "iopub.execute_input": "2023-01-17T16:19:27.407886Z",
     "iopub.status.busy": "2023-01-17T16:19:27.406790Z",
     "iopub.status.idle": "2023-01-17T16:19:27.413044Z",
     "shell.execute_reply": "2023-01-17T16:19:27.412019Z"
    },
    "papermill": {
     "duration": 0.025446,
     "end_time": "2023-01-17T16:19:27.415602",
     "exception": false,
     "start_time": "2023-01-17T16:19:27.390156",
     "status": "completed"
    },
    "tags": []
   },
   "outputs": [],
   "source": [
    "import pickle\n",
    "\n",
    "# Carregar o modelo treinado\n",
    "with open(\"model.pkl\", \"wb\") as f:\n",
    "    pickle.dump(final, f)"
   ]
  }
 ],
 "metadata": {
  "kernelspec": {
   "display_name": "Python 3",
   "language": "python",
   "name": "python3"
  },
  "language_info": {
   "codemirror_mode": {
    "name": "ipython",
    "version": 3
   },
   "file_extension": ".py",
   "mimetype": "text/x-python",
   "name": "python",
   "nbconvert_exporter": "python",
   "pygments_lexer": "ipython3",
   "version": "3.7.12"
  },
  "papermill": {
   "default_parameters": {},
   "duration": 17.491522,
   "end_time": "2023-01-17T16:19:28.254349",
   "environment_variables": {},
   "exception": null,
   "input_path": "__notebook__.ipynb",
   "output_path": "__notebook__.ipynb",
   "parameters": {},
   "start_time": "2023-01-17T16:19:10.762827",
   "version": "2.3.4"
  },
  "widgets": {
   "application/vnd.jupyter.widget-state+json": {
    "state": {
     "121d00588a074c26842e1cee4205bc5e": {
      "model_module": "@jupyter-widgets/controls",
      "model_module_version": "1.5.0",
      "model_name": "DropdownModel",
      "state": {
       "_dom_classes": [],
       "_model_module": "@jupyter-widgets/controls",
       "_model_module_version": "1.5.0",
       "_model_name": "DropdownModel",
       "_options_labels": [
        "Pregnancies",
        "Glucose",
        "BloodPressure",
        "SkinThickness",
        "Insulin",
        "BMI",
        "DiabetesPedigreeFunction",
        "Age"
       ],
       "_view_count": null,
       "_view_module": "@jupyter-widgets/controls",
       "_view_module_version": "1.5.0",
       "_view_name": "DropdownView",
       "description": "nm",
       "description_tooltip": null,
       "disabled": false,
       "index": 0,
       "layout": "IPY_MODEL_b547c066942f49b5ab92e1dc8f62c899",
       "style": "IPY_MODEL_43c029a82a9d4c74a7157818cbcd5d9a"
      }
     },
     "13133e8f0ce04bffb55a83bcc85ecd2b": {
      "model_module": "@jupyter-widgets/controls",
      "model_module_version": "1.5.0",
      "model_name": "SliderStyleModel",
      "state": {
       "_model_module": "@jupyter-widgets/controls",
       "_model_module_version": "1.5.0",
       "_model_name": "SliderStyleModel",
       "_view_count": null,
       "_view_module": "@jupyter-widgets/base",
       "_view_module_version": "1.2.0",
       "_view_name": "StyleView",
       "description_width": "",
       "handle_color": null
      }
     },
     "200348df586646169e0b51716037bba1": {
      "model_module": "@jupyter-widgets/base",
      "model_module_version": "1.2.0",
      "model_name": "LayoutModel",
      "state": {
       "_model_module": "@jupyter-widgets/base",
       "_model_module_version": "1.2.0",
       "_model_name": "LayoutModel",
       "_view_count": null,
       "_view_module": "@jupyter-widgets/base",
       "_view_module_version": "1.2.0",
       "_view_name": "LayoutView",
       "align_content": null,
       "align_items": null,
       "align_self": null,
       "border": null,
       "bottom": null,
       "display": null,
       "flex": null,
       "flex_flow": null,
       "grid_area": null,
       "grid_auto_columns": null,
       "grid_auto_flow": null,
       "grid_auto_rows": null,
       "grid_column": null,
       "grid_gap": null,
       "grid_row": null,
       "grid_template_areas": null,
       "grid_template_columns": null,
       "grid_template_rows": null,
       "height": null,
       "justify_content": null,
       "justify_items": null,
       "left": null,
       "margin": null,
       "max_height": null,
       "max_width": null,
       "min_height": null,
       "min_width": null,
       "object_fit": null,
       "object_position": null,
       "order": null,
       "overflow": null,
       "overflow_x": null,
       "overflow_y": null,
       "padding": null,
       "right": null,
       "top": null,
       "visibility": null,
       "width": null
      }
     },
     "43c029a82a9d4c74a7157818cbcd5d9a": {
      "model_module": "@jupyter-widgets/controls",
      "model_module_version": "1.5.0",
      "model_name": "DescriptionStyleModel",
      "state": {
       "_model_module": "@jupyter-widgets/controls",
       "_model_module_version": "1.5.0",
       "_model_name": "DescriptionStyleModel",
       "_view_count": null,
       "_view_module": "@jupyter-widgets/base",
       "_view_module_version": "1.2.0",
       "_view_name": "StyleView",
       "description_width": ""
      }
     },
     "4f96a3be146c4898b731e935b9424214": {
      "model_module": "@jupyter-widgets/controls",
      "model_module_version": "1.5.0",
      "model_name": "VBoxModel",
      "state": {
       "_dom_classes": [
        "widget-interact"
       ],
       "_model_module": "@jupyter-widgets/controls",
       "_model_module_version": "1.5.0",
       "_model_name": "VBoxModel",
       "_view_count": null,
       "_view_module": "@jupyter-widgets/controls",
       "_view_module_version": "1.5.0",
       "_view_name": "VBoxView",
       "box_style": "",
       "children": [
        "IPY_MODEL_121d00588a074c26842e1cee4205bc5e",
        "IPY_MODEL_5d28bc15561047a68ac2eb97524ef903",
        "IPY_MODEL_e9be176a7588432284c69bddb2c3ae96"
       ],
       "layout": "IPY_MODEL_88d1bebcaa5c41c78de6a9b301c22464"
      }
     },
     "5d28bc15561047a68ac2eb97524ef903": {
      "model_module": "@jupyter-widgets/controls",
      "model_module_version": "1.5.0",
      "model_name": "IntSliderModel",
      "state": {
       "_dom_classes": [],
       "_model_module": "@jupyter-widgets/controls",
       "_model_module_version": "1.5.0",
       "_model_name": "IntSliderModel",
       "_view_count": null,
       "_view_module": "@jupyter-widgets/controls",
       "_view_module_version": "1.5.0",
       "_view_name": "IntSliderView",
       "continuous_update": true,
       "description": "split",
       "description_tooltip": null,
       "disabled": false,
       "layout": "IPY_MODEL_dda0aa40dfdd44c2ad18e77f3abfa37e",
       "max": 6,
       "min": -2,
       "orientation": "horizontal",
       "readout": true,
       "readout_format": "d",
       "step": 1,
       "style": "IPY_MODEL_13133e8f0ce04bffb55a83bcc85ecd2b",
       "value": 2
      }
     },
     "88d1bebcaa5c41c78de6a9b301c22464": {
      "model_module": "@jupyter-widgets/base",
      "model_module_version": "1.2.0",
      "model_name": "LayoutModel",
      "state": {
       "_model_module": "@jupyter-widgets/base",
       "_model_module_version": "1.2.0",
       "_model_name": "LayoutModel",
       "_view_count": null,
       "_view_module": "@jupyter-widgets/base",
       "_view_module_version": "1.2.0",
       "_view_name": "LayoutView",
       "align_content": null,
       "align_items": null,
       "align_self": null,
       "border": null,
       "bottom": null,
       "display": null,
       "flex": null,
       "flex_flow": null,
       "grid_area": null,
       "grid_auto_columns": null,
       "grid_auto_flow": null,
       "grid_auto_rows": null,
       "grid_column": null,
       "grid_gap": null,
       "grid_row": null,
       "grid_template_areas": null,
       "grid_template_columns": null,
       "grid_template_rows": null,
       "height": null,
       "justify_content": null,
       "justify_items": null,
       "left": null,
       "margin": null,
       "max_height": null,
       "max_width": null,
       "min_height": null,
       "min_width": null,
       "object_fit": null,
       "object_position": null,
       "order": null,
       "overflow": null,
       "overflow_x": null,
       "overflow_y": null,
       "padding": null,
       "right": null,
       "top": null,
       "visibility": null,
       "width": null
      }
     },
     "b547c066942f49b5ab92e1dc8f62c899": {
      "model_module": "@jupyter-widgets/base",
      "model_module_version": "1.2.0",
      "model_name": "LayoutModel",
      "state": {
       "_model_module": "@jupyter-widgets/base",
       "_model_module_version": "1.2.0",
       "_model_name": "LayoutModel",
       "_view_count": null,
       "_view_module": "@jupyter-widgets/base",
       "_view_module_version": "1.2.0",
       "_view_name": "LayoutView",
       "align_content": null,
       "align_items": null,
       "align_self": null,
       "border": null,
       "bottom": null,
       "display": null,
       "flex": null,
       "flex_flow": null,
       "grid_area": null,
       "grid_auto_columns": null,
       "grid_auto_flow": null,
       "grid_auto_rows": null,
       "grid_column": null,
       "grid_gap": null,
       "grid_row": null,
       "grid_template_areas": null,
       "grid_template_columns": null,
       "grid_template_rows": null,
       "height": null,
       "justify_content": null,
       "justify_items": null,
       "left": null,
       "margin": null,
       "max_height": null,
       "max_width": null,
       "min_height": null,
       "min_width": null,
       "object_fit": null,
       "object_position": null,
       "order": null,
       "overflow": null,
       "overflow_x": null,
       "overflow_y": null,
       "padding": null,
       "right": null,
       "top": null,
       "visibility": null,
       "width": null
      }
     },
     "dda0aa40dfdd44c2ad18e77f3abfa37e": {
      "model_module": "@jupyter-widgets/base",
      "model_module_version": "1.2.0",
      "model_name": "LayoutModel",
      "state": {
       "_model_module": "@jupyter-widgets/base",
       "_model_module_version": "1.2.0",
       "_model_name": "LayoutModel",
       "_view_count": null,
       "_view_module": "@jupyter-widgets/base",
       "_view_module_version": "1.2.0",
       "_view_name": "LayoutView",
       "align_content": null,
       "align_items": null,
       "align_self": null,
       "border": null,
       "bottom": null,
       "display": null,
       "flex": null,
       "flex_flow": null,
       "grid_area": null,
       "grid_auto_columns": null,
       "grid_auto_flow": null,
       "grid_auto_rows": null,
       "grid_column": null,
       "grid_gap": null,
       "grid_row": null,
       "grid_template_areas": null,
       "grid_template_columns": null,
       "grid_template_rows": null,
       "height": null,
       "justify_content": null,
       "justify_items": null,
       "left": null,
       "margin": null,
       "max_height": null,
       "max_width": null,
       "min_height": null,
       "min_width": null,
       "object_fit": null,
       "object_position": null,
       "order": null,
       "overflow": null,
       "overflow_x": null,
       "overflow_y": null,
       "padding": null,
       "right": null,
       "top": null,
       "visibility": null,
       "width": null
      }
     },
     "e9be176a7588432284c69bddb2c3ae96": {
      "model_module": "@jupyter-widgets/output",
      "model_module_version": "1.0.0",
      "model_name": "OutputModel",
      "state": {
       "_dom_classes": [],
       "_model_module": "@jupyter-widgets/output",
       "_model_module_version": "1.0.0",
       "_model_name": "OutputModel",
       "_view_count": null,
       "_view_module": "@jupyter-widgets/output",
       "_view_module_version": "1.0.0",
       "_view_name": "OutputView",
       "layout": "IPY_MODEL_200348df586646169e0b51716037bba1",
       "msg_id": "",
       "outputs": [
        {
         "data": {
          "text/plain": "0.4669106863847456"
         },
         "metadata": {},
         "output_type": "display_data"
        }
       ]
      }
     }
    },
    "version_major": 2,
    "version_minor": 0
   }
  }
 },
 "nbformat": 4,
 "nbformat_minor": 5
}
