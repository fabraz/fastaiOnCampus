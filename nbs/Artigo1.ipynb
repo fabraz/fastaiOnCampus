{
  "metadata": {
    "language_info": {
      "codemirror_mode": {
        "name": "python",
        "version": 3
      },
      "file_extension": ".py",
      "mimetype": "text/x-python",
      "name": "python",
      "nbconvert_exporter": "python",
      "pygments_lexer": "ipython3",
      "version": "3.8"
    },
    "kernelspec": {
      "name": "python",
      "display_name": "Python (Pyodide)",
      "language": "python"
    }
  },
  "nbformat_minor": 4,
  "nbformat": 4,
  "cells": [
    {
      "cell_type": "markdown",
      "source": "# Reconhecimento de flores e árvores\n\n## Autora\n* Isabella Carneiro Godinho de Morais Sá\n* Matrícula: 18/0019066\n* Github: isabellacgmsa\n\n## Objetivo\nO propósito do presente artigo é demonstrar o conhecimento adquirido através da primeira lição e os passos que foram realizados para treinar a identificação de flores através de imagens.\n\n## Dependências\nPara alcançar o objetivo, o primeiro passo tomado foi a instalação das dependências necessárias com os seguintes comandos:\n\n```pip install -U duckduckgo_search```\n\n```pip install fastai\"```\n\nLembrando que, antes de iniciar o processo é necessário fazer a instalação do PyTorch.\n\n## Baixando imagens\nPara fazer a instalação das imagens foi utilizado o ddg_images, como mostra o código a seguir:  \n\n\n",
      "metadata": {
        "tags": []
      }
    },
    {
      "cell_type": "markdown",
      "source": "```\nfrom duckduckgo_search import ddg_images\nfrom fastcore.all import *\n\ndef search_images(term: str, max_images=30):\n    print(f\"Searching for '{term}'\")\n    return L(ddg_images(term, max_results=max_images)).itemgot('image')\n    \n```",
      "metadata": {}
    },
    {
      "cell_type": "markdown",
      "source": "O primeiro teste será feito baixando apenas uma imagem de flor:",
      "metadata": {}
    },
    {
      "cell_type": "markdown",
      "source": "```\nurls = search_images('flower', max_images=1)\nurls[2]\n```",
      "metadata": {}
    },
    {
      "cell_type": "markdown",
      "source": "O download será realizado utilizando a biblioteca fastdownload:",
      "metadata": {}
    },
    {
      "cell_type": "markdown",
      "source": "```\nfrom fastdownload import download_url\ndest = 'oneflower.jpg'\ndownload_url(urls[0], dest, show_progress=False)\n\nfrom fastai.vision.all import *\nim = Image.open(dest)\nim.to_thumb(256,256)\n```",
      "metadata": {}
    },
    {
      "cell_type": "markdown",
      "source": "![texto](https://s3.static.brasilescola.uol.com.br/be/2020/12/girassol.jpg)",
      "metadata": {}
    },
    {
      "cell_type": "markdown",
      "source": "Ao constatar que está funcionando todo o processo é possível fazer o download de dados mais numerosos:\n```\nsearches = 'tree', 'flower'\npath = Path('tree_flower')\nfrom time import sleep\n\nfor o in searches:\n    dest = (path/o)\n    dest.mkdir(exist_ok=True, parents=True)\n    download_images(dest, urls=search_images(f'{o} tree'))\n    sleep(10)\n    download_images(dest, urls=search_images(f'{o} flower'))\n    sleep(10)\n    resize_images(path/o, max_size=400, dest= path/o)\n```\n\nFoi utilizado o sleep para que não haja problemas no tráfego de informações.\n\nEssas imagens serão salvas em uma pasta cujo caminho está definido no path.\n",
      "metadata": {}
    },
    {
      "cell_type": "markdown",
      "source": "## Treinamento\n### Passo 1\nAntes de iniciar o treinamento do modelo de fato é necessário garantir que não haja imagens com erro para evitar futuros problemas:\n\n```\nfailed = verify_images(get_image_files(path))\nfailed.map(Path.unlink)\nlen(failed)\n```\n### Passo 2\n\nPara treinar modelos de aprendizado de máquina com conjuntos de dados volumosos, é necessário dividir os dados em lotes menores para evitar sobrecarregar a memória RAM do computador. O Dataloader é uma classe que oferece essa funcionalidade de forma eficiente. Ele carrega e processa os dados em lotes menores, tornando o processo de treinamento escalável.\n\nO fastai é um framework de aprendizado de máquina que permite o uso do datablock, uma ferramenta que facilita a personalização do processamento e organização dos dados em lotes para treinamento do modelo. Com o datablock, é possível definir etapas como leitura, pré-processamento e organização dos dados de forma mais simples. Isso permite que os usuários criem fluxos de trabalho personalizados e experimentem diferentes abordagens para melhorar a precisão do modelo.\n\n```\ndls = DataBlock(\n    blocks=(ImageBlock, CategoryBlock), \n    get_items=get_image_files, \n    splitter=RandomSplitter(valid_pct=0.2, seed=42),\n    get_y=parent_label,\n    item_tfms=[Resize(192, method='squish')]\n).dataloaders(path, bs=32)\n\ndls.show_batch(max_n=6)\n```\n![texto](https://i.ibb.co/T4XzYk1/flores.png)\n\nFoi especificado que há o ImageBlock, que é uma classe do fastai que permite a criação de blocos para processar as imagens no modelo, e o CategoryBlock que cria blocos para processar variáveis categóricas, nesse caso árvore ou flor. Nesse trecho também especifica o tamanho que as imagens terão, já que precisa ser o mesmo para todas.\n\n### Passo 3\nApós criar o Datablock, o modelo é treinado com a ajuda do objeto \"Learner\". Ele é configurado com três argumentos: o primeiro é um DataLoader (dls) que contém o conjunto de dados de treinamento do modelo; o segundo é a arquitetura ResNet18 que será usada como base para o modelo; e o terceiro é a métrica usada para avaliar a performance do modelo, que neste caso é a taxa de erro.\n\nPara realizar o ajuste fino do modelo, é utilizado o método \"fine_tune()\". Esse método realiza um treinamento adicional do modelo usando os pesos pré-treinados da ResNet18 como ponto de partida.\n```\nlearn = vision_learner(dls, resnet18, metrics=error_rate)\nlearn.fine_tune(8)\n```\n\n### Passo 4\nPor fim, foi usada uma imagem de uma flor para testar. O retorno foi:\n\n```\nÉ uma flor.\nProbabilidade de ser uma flor: 96.37%\n```\n\n## Conclusão\nA fastai torna mais simples e eficiente o processo de treinar um modelo para reconhecimento através de imagens. O principal problema foi uma dificuldade pessoal sobre a linguagem utilizada, visto que não tinha conhecimento prévio, porém utilizei da semana inicial que não havia recebido ainda as instruções de como funcionaria a disciplina para focar em entender Python.\nApós superar esse contratempo gostei muito do material disponibilizado e com o mesmo foi possível compreender e ter um ótimo contato inicial com aprendizado de máquina.",
      "metadata": {}
    },
    {
      "cell_type": "code",
      "source": "",
      "metadata": {},
      "execution_count": null,
      "outputs": []
    }
  ]
}