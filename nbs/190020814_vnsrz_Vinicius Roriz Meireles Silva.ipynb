{
 "cells": [
  {
   "cell_type": "code",
   "execution_count": 7,
   "metadata": {},
   "outputs": [],
   "source": [
    "from sklearn.tree import DecisionTreeClassifier, export_graphviz\n",
    "from sklearn.model_selection import train_test_split\n",
    "from sklearn.ensemble import RandomForestClassifier\n",
    "from sklearn.metrics import mean_absolute_error\n",
    "import numpy as np, pandas as pd\n",
    "from fastai.imports import *\n",
    "import seaborn as sns\n",
    "import graphviz"
   ]
  },
  {
   "cell_type": "code",
   "execution_count": 8,
   "metadata": {},
   "outputs": [],
   "source": [
    "np.set_printoptions(linewidth=130)"
   ]
  },
  {
   "attachments": {},
   "cell_type": "markdown",
   "metadata": {},
   "source": [
    "# Artigo 6 - Random Forests"
   ]
  },
  {
   "attachments": {},
   "cell_type": "markdown",
   "metadata": {},
   "source": [
    "## 1. Introdução\n",
    "\n",
    "O tema da aula 6 é *Random Forests*, e nesse artigo vamos aprender o que são, como criá-las, e como interpretá-las."
   ]
  },
  {
   "attachments": {},
   "cell_type": "markdown",
   "metadata": {},
   "source": [
    "## 2. Objetivo\n",
    "\n",
    "Entender os passos necessários para criar uma *random forest* e colocá-los em prática. "
   ]
  },
  {
   "attachments": {},
   "cell_type": "markdown",
   "metadata": {},
   "source": [
    "## 3. Inspiração\n",
    "\n"
   ]
  },
  {
   "attachments": {},
   "cell_type": "markdown",
   "metadata": {},
   "source": [
    "Usei um dataset que contém a idade e salário estimado de pessoas que compraram (ou não) um produto após ver um anúncio em redes sociais, feito por Shubham Singh no [Kaggle](https://www.kaggle.com/datasets/shub99/social-network-ads).\n",
    "\n",
    "<img src=\"assets/dataset.png\" alt=\"\" width=\"700\" /><br>"
   ]
  },
  {
   "attachments": {},
   "cell_type": "markdown",
   "metadata": {},
   "source": [
    "## 4. Execução\n",
    "\n",
    "### 4.1 Processamento dos dados\n",
    "\n",
    "Vamos começar criando um dataframe com nossos dados:"
   ]
  },
  {
   "cell_type": "code",
   "execution_count": 9,
   "metadata": {},
   "outputs": [
    {
     "data": {
      "text/html": [
       "<div>\n",
       "<style scoped>\n",
       "    .dataframe tbody tr th:only-of-type {\n",
       "        vertical-align: middle;\n",
       "    }\n",
       "\n",
       "    .dataframe tbody tr th {\n",
       "        vertical-align: top;\n",
       "    }\n",
       "\n",
       "    .dataframe thead th {\n",
       "        text-align: right;\n",
       "    }\n",
       "</style>\n",
       "<table border=\"1\" class=\"dataframe\">\n",
       "  <thead>\n",
       "    <tr style=\"text-align: right;\">\n",
       "      <th></th>\n",
       "      <th>Age</th>\n",
       "      <th>EstimatedSalary</th>\n",
       "      <th>Purchased</th>\n",
       "    </tr>\n",
       "  </thead>\n",
       "  <tbody>\n",
       "    <tr>\n",
       "      <th>0</th>\n",
       "      <td>19</td>\n",
       "      <td>19000</td>\n",
       "      <td>0</td>\n",
       "    </tr>\n",
       "    <tr>\n",
       "      <th>1</th>\n",
       "      <td>35</td>\n",
       "      <td>20000</td>\n",
       "      <td>0</td>\n",
       "    </tr>\n",
       "    <tr>\n",
       "      <th>2</th>\n",
       "      <td>26</td>\n",
       "      <td>43000</td>\n",
       "      <td>0</td>\n",
       "    </tr>\n",
       "    <tr>\n",
       "      <th>3</th>\n",
       "      <td>27</td>\n",
       "      <td>57000</td>\n",
       "      <td>0</td>\n",
       "    </tr>\n",
       "    <tr>\n",
       "      <th>4</th>\n",
       "      <td>19</td>\n",
       "      <td>76000</td>\n",
       "      <td>0</td>\n",
       "    </tr>\n",
       "    <tr>\n",
       "      <th>...</th>\n",
       "      <td>...</td>\n",
       "      <td>...</td>\n",
       "      <td>...</td>\n",
       "    </tr>\n",
       "    <tr>\n",
       "      <th>395</th>\n",
       "      <td>46</td>\n",
       "      <td>41000</td>\n",
       "      <td>1</td>\n",
       "    </tr>\n",
       "    <tr>\n",
       "      <th>396</th>\n",
       "      <td>51</td>\n",
       "      <td>23000</td>\n",
       "      <td>1</td>\n",
       "    </tr>\n",
       "    <tr>\n",
       "      <th>397</th>\n",
       "      <td>50</td>\n",
       "      <td>20000</td>\n",
       "      <td>1</td>\n",
       "    </tr>\n",
       "    <tr>\n",
       "      <th>398</th>\n",
       "      <td>36</td>\n",
       "      <td>33000</td>\n",
       "      <td>0</td>\n",
       "    </tr>\n",
       "    <tr>\n",
       "      <th>399</th>\n",
       "      <td>49</td>\n",
       "      <td>36000</td>\n",
       "      <td>1</td>\n",
       "    </tr>\n",
       "  </tbody>\n",
       "</table>\n",
       "<p>400 rows × 3 columns</p>\n",
       "</div>"
      ],
      "text/plain": [
       "     Age  EstimatedSalary  Purchased\n",
       "0     19            19000          0\n",
       "1     35            20000          0\n",
       "2     26            43000          0\n",
       "3     27            57000          0\n",
       "4     19            76000          0\n",
       "..   ...              ...        ...\n",
       "395   46            41000          1\n",
       "396   51            23000          1\n",
       "397   50            20000          1\n",
       "398   36            33000          0\n",
       "399   49            36000          1\n",
       "\n",
       "[400 rows x 3 columns]"
      ]
     },
     "execution_count": 9,
     "metadata": {},
     "output_type": "execute_result"
    }
   ],
   "source": [
    "df = pd.read_csv('Social_Network_Ads.csv')\n",
    "df"
   ]
  },
  {
   "attachments": {},
   "cell_type": "markdown",
   "metadata": {},
   "source": [
    "Para este exercício, queremos transformar a coluna idade (*Age*) em um variável categórica, então vamos dividir as entradas no meio. Para isso precisamos dos valores máximo e mínimo dessa coluna:"
   ]
  },
  {
   "cell_type": "code",
   "execution_count": 10,
   "metadata": {},
   "outputs": [
    {
     "data": {
      "text/plain": [
       "Age                    60\n",
       "EstimatedSalary    108000\n",
       "Purchased               1\n",
       "Name: 215, dtype: int64"
      ]
     },
     "execution_count": 10,
     "metadata": {},
     "output_type": "execute_result"
    }
   ],
   "source": [
    "df.loc[df['Age'].idxmax()]"
   ]
  },
  {
   "cell_type": "code",
   "execution_count": 11,
   "metadata": {},
   "outputs": [
    {
     "data": {
      "text/plain": [
       "Age                   18\n",
       "EstimatedSalary    82000\n",
       "Purchased              0\n",
       "Name: 14, dtype: int64"
      ]
     },
     "execution_count": 11,
     "metadata": {},
     "output_type": "execute_result"
    }
   ],
   "source": [
    "df.loc[df['Age'].idxmin()]"
   ]
  },
  {
   "attachments": {},
   "cell_type": "markdown",
   "metadata": {},
   "source": [
    "Tendo os valores máximo e mínimo, podemos identificar o meio, que no nosso caso é 38. Vamos dividir as entradas entre maiores e menores de 38 anos:"
   ]
  },
  {
   "cell_type": "code",
   "execution_count": 12,
   "metadata": {},
   "outputs": [
    {
     "data": {
      "text/html": [
       "<div>\n",
       "<style scoped>\n",
       "    .dataframe tbody tr th:only-of-type {\n",
       "        vertical-align: middle;\n",
       "    }\n",
       "\n",
       "    .dataframe tbody tr th {\n",
       "        vertical-align: top;\n",
       "    }\n",
       "\n",
       "    .dataframe thead th {\n",
       "        text-align: right;\n",
       "    }\n",
       "</style>\n",
       "<table border=\"1\" class=\"dataframe\">\n",
       "  <thead>\n",
       "    <tr style=\"text-align: right;\">\n",
       "      <th></th>\n",
       "      <th>Age</th>\n",
       "      <th>EstimatedSalary</th>\n",
       "      <th>Purchased</th>\n",
       "      <th>Aged_18_to_38</th>\n",
       "    </tr>\n",
       "  </thead>\n",
       "  <tbody>\n",
       "    <tr>\n",
       "      <th>0</th>\n",
       "      <td>19</td>\n",
       "      <td>19000</td>\n",
       "      <td>0</td>\n",
       "      <td>1</td>\n",
       "    </tr>\n",
       "    <tr>\n",
       "      <th>1</th>\n",
       "      <td>35</td>\n",
       "      <td>20000</td>\n",
       "      <td>0</td>\n",
       "      <td>1</td>\n",
       "    </tr>\n",
       "    <tr>\n",
       "      <th>2</th>\n",
       "      <td>26</td>\n",
       "      <td>43000</td>\n",
       "      <td>0</td>\n",
       "      <td>1</td>\n",
       "    </tr>\n",
       "    <tr>\n",
       "      <th>3</th>\n",
       "      <td>27</td>\n",
       "      <td>57000</td>\n",
       "      <td>0</td>\n",
       "      <td>1</td>\n",
       "    </tr>\n",
       "    <tr>\n",
       "      <th>4</th>\n",
       "      <td>19</td>\n",
       "      <td>76000</td>\n",
       "      <td>0</td>\n",
       "      <td>1</td>\n",
       "    </tr>\n",
       "    <tr>\n",
       "      <th>...</th>\n",
       "      <td>...</td>\n",
       "      <td>...</td>\n",
       "      <td>...</td>\n",
       "      <td>...</td>\n",
       "    </tr>\n",
       "    <tr>\n",
       "      <th>395</th>\n",
       "      <td>46</td>\n",
       "      <td>41000</td>\n",
       "      <td>1</td>\n",
       "      <td>0</td>\n",
       "    </tr>\n",
       "    <tr>\n",
       "      <th>396</th>\n",
       "      <td>51</td>\n",
       "      <td>23000</td>\n",
       "      <td>1</td>\n",
       "      <td>0</td>\n",
       "    </tr>\n",
       "    <tr>\n",
       "      <th>397</th>\n",
       "      <td>50</td>\n",
       "      <td>20000</td>\n",
       "      <td>1</td>\n",
       "      <td>0</td>\n",
       "    </tr>\n",
       "    <tr>\n",
       "      <th>398</th>\n",
       "      <td>36</td>\n",
       "      <td>33000</td>\n",
       "      <td>0</td>\n",
       "      <td>1</td>\n",
       "    </tr>\n",
       "    <tr>\n",
       "      <th>399</th>\n",
       "      <td>49</td>\n",
       "      <td>36000</td>\n",
       "      <td>1</td>\n",
       "      <td>0</td>\n",
       "    </tr>\n",
       "  </tbody>\n",
       "</table>\n",
       "<p>400 rows × 4 columns</p>\n",
       "</div>"
      ],
      "text/plain": [
       "     Age  EstimatedSalary  Purchased  Aged_18_to_38\n",
       "0     19            19000          0              1\n",
       "1     35            20000          0              1\n",
       "2     26            43000          0              1\n",
       "3     27            57000          0              1\n",
       "4     19            76000          0              1\n",
       "..   ...              ...        ...            ...\n",
       "395   46            41000          1              0\n",
       "396   51            23000          1              0\n",
       "397   50            20000          1              0\n",
       "398   36            33000          0              1\n",
       "399   49            36000          1              0\n",
       "\n",
       "[400 rows x 4 columns]"
      ]
     },
     "execution_count": 12,
     "metadata": {},
     "output_type": "execute_result"
    }
   ],
   "source": [
    "df['Aged_18_to_38'] = df['Age'].between(18,38)\n",
    "df['Aged_18_to_38'] = df['Aged_18_to_38'].astype(int)\n",
    "df"
   ]
  },
  {
   "attachments": {},
   "cell_type": "markdown",
   "metadata": {},
   "source": [
    "O método `between(min, max)` retorna um *boolean* para cada item do dataframe, **True** caso o valor esteja entre *min* e *max*, incluso, e **False** caso contrário.\n",
    "\n",
    "Passamos os valores para *int* através do método `.astype(int)`."
   ]
  },
  {
   "cell_type": "code",
   "execution_count": 13,
   "metadata": {},
   "outputs": [
    {
     "data": {
      "text/html": [
       "<div>\n",
       "<style scoped>\n",
       "    .dataframe tbody tr th:only-of-type {\n",
       "        vertical-align: middle;\n",
       "    }\n",
       "\n",
       "    .dataframe tbody tr th {\n",
       "        vertical-align: top;\n",
       "    }\n",
       "\n",
       "    .dataframe thead th {\n",
       "        text-align: right;\n",
       "    }\n",
       "</style>\n",
       "<table border=\"1\" class=\"dataframe\">\n",
       "  <thead>\n",
       "    <tr style=\"text-align: right;\">\n",
       "      <th></th>\n",
       "      <th>Age</th>\n",
       "      <th>EstimatedSalary</th>\n",
       "      <th>Purchased</th>\n",
       "      <th>Aged_18_to_38</th>\n",
       "    </tr>\n",
       "  </thead>\n",
       "  <tbody>\n",
       "    <tr>\n",
       "      <th>count</th>\n",
       "      <td>400.000000</td>\n",
       "      <td>400.000000</td>\n",
       "      <td>400.000000</td>\n",
       "      <td>400.000000</td>\n",
       "    </tr>\n",
       "    <tr>\n",
       "      <th>mean</th>\n",
       "      <td>37.655000</td>\n",
       "      <td>69742.500000</td>\n",
       "      <td>0.357500</td>\n",
       "      <td>0.557500</td>\n",
       "    </tr>\n",
       "    <tr>\n",
       "      <th>std</th>\n",
       "      <td>10.482877</td>\n",
       "      <td>34096.960282</td>\n",
       "      <td>0.479864</td>\n",
       "      <td>0.497305</td>\n",
       "    </tr>\n",
       "    <tr>\n",
       "      <th>min</th>\n",
       "      <td>18.000000</td>\n",
       "      <td>15000.000000</td>\n",
       "      <td>0.000000</td>\n",
       "      <td>0.000000</td>\n",
       "    </tr>\n",
       "    <tr>\n",
       "      <th>25%</th>\n",
       "      <td>29.750000</td>\n",
       "      <td>43000.000000</td>\n",
       "      <td>0.000000</td>\n",
       "      <td>0.000000</td>\n",
       "    </tr>\n",
       "    <tr>\n",
       "      <th>50%</th>\n",
       "      <td>37.000000</td>\n",
       "      <td>70000.000000</td>\n",
       "      <td>0.000000</td>\n",
       "      <td>1.000000</td>\n",
       "    </tr>\n",
       "    <tr>\n",
       "      <th>75%</th>\n",
       "      <td>46.000000</td>\n",
       "      <td>88000.000000</td>\n",
       "      <td>1.000000</td>\n",
       "      <td>1.000000</td>\n",
       "    </tr>\n",
       "    <tr>\n",
       "      <th>max</th>\n",
       "      <td>60.000000</td>\n",
       "      <td>150000.000000</td>\n",
       "      <td>1.000000</td>\n",
       "      <td>1.000000</td>\n",
       "    </tr>\n",
       "  </tbody>\n",
       "</table>\n",
       "</div>"
      ],
      "text/plain": [
       "              Age  EstimatedSalary   Purchased  Aged_18_to_38\n",
       "count  400.000000       400.000000  400.000000     400.000000\n",
       "mean    37.655000     69742.500000    0.357500       0.557500\n",
       "std     10.482877     34096.960282    0.479864       0.497305\n",
       "min     18.000000     15000.000000    0.000000       0.000000\n",
       "25%     29.750000     43000.000000    0.000000       0.000000\n",
       "50%     37.000000     70000.000000    0.000000       1.000000\n",
       "75%     46.000000     88000.000000    1.000000       1.000000\n",
       "max     60.000000    150000.000000    1.000000       1.000000"
      ]
     },
     "execution_count": 13,
     "metadata": {},
     "output_type": "execute_result"
    }
   ],
   "source": [
    "df.describe()"
   ]
  },
  {
   "attachments": {},
   "cell_type": "markdown",
   "metadata": {},
   "source": [
    "Através do `describe()` podemos ver que o salário varia entre 15,000 e 150,000. Podemos usar um histograma para visualizar sua distribuição:"
   ]
  },
  {
   "cell_type": "code",
   "execution_count": 14,
   "metadata": {},
   "outputs": [
    {
     "data": {
      "image/png": "[encoded data removed]",
      "text/plain": [
       "<Figure size 640x480 with 1 Axes>"
      ]
     },
     "metadata": {},
     "output_type": "display_data"
    }
   ],
   "source": [
    "df['EstimatedSalary'].hist();"
   ]
  },
  {
   "attachments": {},
   "cell_type": "markdown",
   "metadata": {},
   "source": [
    "Vamos passar essa coluna por uma função logarítmica para reduzir a discrepância."
   ]
  },
  {
   "cell_type": "code",
   "execution_count": 15,
   "metadata": {},
   "outputs": [
    {
     "data": {
      "image/png": "[encoded data removed]",
      "text/plain": [
       "<Figure size 640x480 with 1 Axes>"
      ]
     },
     "metadata": {},
     "output_type": "display_data"
    }
   ],
   "source": [
    "df['LogSalary'] = np.log(df['EstimatedSalary']+1)\n",
    "df['LogSalary'].hist();"
   ]
  },
  {
   "attachments": {},
   "cell_type": "markdown",
   "metadata": {},
   "source": [
    "A seguir, removemos as colunas que não nos interessam mais."
   ]
  },
  {
   "cell_type": "code",
   "execution_count": 16,
   "metadata": {},
   "outputs": [
    {
     "data": {
      "text/html": [
       "<div>\n",
       "<style scoped>\n",
       "    .dataframe tbody tr th:only-of-type {\n",
       "        vertical-align: middle;\n",
       "    }\n",
       "\n",
       "    .dataframe tbody tr th {\n",
       "        vertical-align: top;\n",
       "    }\n",
       "\n",
       "    .dataframe thead th {\n",
       "        text-align: right;\n",
       "    }\n",
       "</style>\n",
       "<table border=\"1\" class=\"dataframe\">\n",
       "  <thead>\n",
       "    <tr style=\"text-align: right;\">\n",
       "      <th></th>\n",
       "      <th>Purchased</th>\n",
       "      <th>Aged_18_to_38</th>\n",
       "      <th>LogSalary</th>\n",
       "    </tr>\n",
       "  </thead>\n",
       "  <tbody>\n",
       "    <tr>\n",
       "      <th>0</th>\n",
       "      <td>0</td>\n",
       "      <td>1</td>\n",
       "      <td>9.852247</td>\n",
       "    </tr>\n",
       "    <tr>\n",
       "      <th>1</th>\n",
       "      <td>0</td>\n",
       "      <td>1</td>\n",
       "      <td>9.903538</td>\n",
       "    </tr>\n",
       "    <tr>\n",
       "      <th>2</th>\n",
       "      <td>0</td>\n",
       "      <td>1</td>\n",
       "      <td>10.668979</td>\n",
       "    </tr>\n",
       "    <tr>\n",
       "      <th>3</th>\n",
       "      <td>0</td>\n",
       "      <td>1</td>\n",
       "      <td>10.950824</td>\n",
       "    </tr>\n",
       "    <tr>\n",
       "      <th>4</th>\n",
       "      <td>0</td>\n",
       "      <td>1</td>\n",
       "      <td>11.238502</td>\n",
       "    </tr>\n",
       "  </tbody>\n",
       "</table>\n",
       "</div>"
      ],
      "text/plain": [
       "   Purchased  Aged_18_to_38  LogSalary\n",
       "0          0              1   9.852247\n",
       "1          0              1   9.903538\n",
       "2          0              1  10.668979\n",
       "3          0              1  10.950824\n",
       "4          0              1  11.238502"
      ]
     },
     "execution_count": 16,
     "metadata": {},
     "output_type": "execute_result"
    }
   ],
   "source": [
    "df.drop(['Age', 'EstimatedSalary'], axis=1 ,inplace=True)\n",
    "df.head()"
   ]
  },
  {
   "attachments": {},
   "cell_type": "markdown",
   "metadata": {},
   "source": [
    "Seguindo em frente, vamos separar nossas variáveis em três tipos:\n",
    "\n",
    "<img src=\"assets/variaveis.jpg\" alt=\"\" width=\"500\" /><br>\n",
    "\n",
    "Vamos listar as variáveis contínuas, categoricas, e dependentes:"
   ]
  },
  {
   "cell_type": "code",
   "execution_count": 6,
   "metadata": {},
   "outputs": [],
   "source": [
    "cat = ['Aged_18_to_38',]\n",
    "cont = ['LogSalary',]\n",
    "dep = 'Purchased'"
   ]
  },
  {
   "attachments": {},
   "cell_type": "markdown",
   "metadata": {},
   "source": [
    "### 4.2 *Binary splits*"
   ]
  },
  {
   "attachments": {},
   "cell_type": "markdown",
   "metadata": {},
   "source": [
    "Antes de criar uma floresta aleatória, precisamos criar uma árvore de decisão para compô-la, e para criar a árvore precisamos de uma divisão binária.\n",
    "\n",
    "Uma divisão binária separa todas as linhas em dois grupos, com base se o valor daquela linha está acima ou abaixo de um limiar. Por exemplo, aqui vamos separar os dados entre aqueles de 18-38 anos e aqueles com 39 ou mais, e como na nossa coluna de idade as pessoas de 18-38 anos tem o valor `1` e as outras `0`, podemos definir o limiar como `0.5`, assim dividindo os dois.\n",
    "\n",
    "Vamos construir um gráfico da biblioteca `Seaborn` para visualizar melhor nossa divisão:\n"
   ]
  },
  {
   "cell_type": "code",
   "execution_count": 12,
   "metadata": {},
   "outputs": [
    {
     "data": {
      "image/png": "[encoded data removed]",
      "text/plain": [
       "<Figure size 1100x500 with 2 Axes>"
      ]
     },
     "metadata": {},
     "output_type": "display_data"
    }
   ],
   "source": [
    "fig,axs = plt.subplots(1,2, figsize=(11,5))\n",
    "sns.barplot(data=df, y=dep, x=\"Aged_18_to_38\", ax=axs[0]).set(title=\"Purchase rate\")\n",
    "sns.countplot(data=df, x=\"Aged_18_to_38\", ax=axs[1]).set(title=\"Histogram\");"
   ]
  },
  {
   "attachments": {},
   "cell_type": "markdown",
   "metadata": {},
   "source": [
    "Podemos ver que aqueles com 38 anos ou menos, demonstrados em laranja, tem uma taxa de compra muito baixa (<15%) quando comparado aos maiores de 38 anos (>60%), apesar da quantidade de ambos os grupos ser comparável, como visto no histograma.\n",
    "\n",
    "Podemos criar um simples \"modelo\" que prediz que todos os *>38* compraram o produto, e todos os *<=38* não. Para isso devemos separar nossos dados entre treino e validação primeiro:"
   ]
  },
  {
   "cell_type": "code",
   "execution_count": 18,
   "metadata": {},
   "outputs": [],
   "source": [
    "trn_df,val_df = train_test_split(df, test_size=0.25)"
   ]
  },
  {
   "attachments": {},
   "cell_type": "markdown",
   "metadata": {},
   "source": [
    "Vamos então criar as variáveis independentes (chamadas de **x**), e a dependente (**y**):"
   ]
  },
  {
   "cell_type": "code",
   "execution_count": 19,
   "metadata": {},
   "outputs": [],
   "source": [
    "def xs_y(df):\n",
    "    xs = df[cat+cont].copy()\n",
    "    return xs,df[dep] if dep in df else None\n",
    "\n",
    "trn_xs,trn_y = xs_y(trn_df)\n",
    "val_xs,val_y = xs_y(val_df)"
   ]
  },
  {
   "attachments": {},
   "cell_type": "markdown",
   "metadata": {},
   "source": [
    "Aqui estão as inferências para o nosso modelo, onde os *>38* estão marcados como 0:"
   ]
  },
  {
   "cell_type": "code",
   "execution_count": 15,
   "metadata": {},
   "outputs": [],
   "source": [
    "preds = val_xs.Aged_18_to_38==0"
   ]
  },
  {
   "attachments": {},
   "cell_type": "markdown",
   "metadata": {},
   "source": [
    "Podemos ver o quão precisas são as inferências através do erro médio absoluto:"
   ]
  },
  {
   "cell_type": "code",
   "execution_count": 16,
   "metadata": {},
   "outputs": [
    {
     "data": {
      "text/plain": [
       "0.28"
      ]
     },
     "execution_count": 16,
     "metadata": {},
     "output_type": "execute_result"
    }
   ],
   "source": [
    "mean_absolute_error(val_y, preds)"
   ]
  },
  {
   "attachments": {},
   "cell_type": "markdown",
   "metadata": {},
   "source": [
    "A seguir vamos dar uma olhada no `LogSalary` através de alguns gráficos:"
   ]
  },
  {
   "cell_type": "code",
   "execution_count": 17,
   "metadata": {},
   "outputs": [
    {
     "data": {
      "image/png": "[encoded data removed]",
      "text/plain": [
       "<Figure size 1100x500 with 2 Axes>"
      ]
     },
     "metadata": {},
     "output_type": "display_data"
    }
   ],
   "source": [
    "df_salary = trn_df[trn_df.LogSalary>0]\n",
    "fig,axs = plt.subplots(1,2, figsize=(11,5))\n",
    "sns.boxenplot(data=df_salary, x=dep, y=\"LogSalary\", ax=axs[0])\n",
    "sns.kdeplot(data=df_salary, x=\"LogSalary\", ax=axs[1]);"
   ]
  },
  {
   "attachments": {},
   "cell_type": "markdown",
   "metadata": {},
   "source": [
    "Pelo gráfico da esquerda podemos notar que a média do `LogSalary` das pessoas que compraram o produto (demonstrado em laranja) é por volta de 11.5, enquanto a média daqueles que não compraram é 11.0. Já o gráfico da direita nos mostra que a maior parte dos participantes tem o `LogSalary` por volta de 11.2."
   ]
  },
  {
   "attachments": {},
   "cell_type": "markdown",
   "metadata": {},
   "source": [
    "Vamos criar um modelo baseado nessas observações:"
   ]
  },
  {
   "cell_type": "code",
   "execution_count": 18,
   "metadata": {},
   "outputs": [
    {
     "data": {
      "text/plain": [
       "0.36"
      ]
     },
     "execution_count": 18,
     "metadata": {},
     "output_type": "execute_result"
    }
   ],
   "source": [
    "preds = val_xs.LogSalary>11.2\n",
    "mean_absolute_error(val_y, preds)"
   ]
  },
  {
   "attachments": {},
   "cell_type": "markdown",
   "metadata": {},
   "source": [
    "Como podemos ver, o erro aumentou bastante quando comparado ao modelo que infere baseado na idade.\n",
    "\n",
    "Vamos criar uma função `score` para medir o quão bom cada modelo é. Essa função vai calcular o grau de impureza, ou seja, a semelhança entre os elementos de cada grupo.\n",
    "\n",
    "Podemos medir a similaridade através do desvio padrão da variável dependente. Se for maior, as linhas são mais diferentes entre si. Então vamos multiplicar esse número pela quantidade de linhas, já que um grupo maior tem mais impacto do que um menor."
   ]
  },
  {
   "cell_type": "code",
   "execution_count": 19,
   "metadata": {},
   "outputs": [],
   "source": [
    "def _side_score(side, y):\n",
    "    tot = side.sum()\n",
    "    if tot<=1: return 0\n",
    "    return y[side].std()*tot"
   ]
  },
  {
   "attachments": {},
   "cell_type": "markdown",
   "metadata": {},
   "source": [
    "Podemos calcular o `score` de uma divisão binária somandos os `scores` do lado esquerdo (lhs) e direito (rhs)."
   ]
  },
  {
   "cell_type": "code",
   "execution_count": 20,
   "metadata": {},
   "outputs": [],
   "source": [
    "def score(col, y, split):\n",
    "    lhs = col<=split\n",
    "    return (_side_score(lhs,y) + _side_score(~lhs,y))/len(y)"
   ]
  },
  {
   "attachments": {},
   "cell_type": "markdown",
   "metadata": {},
   "source": [
    "Vamos ver o grau de impureza para os grupos gerados por idade:"
   ]
  },
  {
   "cell_type": "code",
   "execution_count": 21,
   "metadata": {},
   "outputs": [
    {
     "data": {
      "text/plain": [
       "0.3923495968261936"
      ]
     },
     "execution_count": 21,
     "metadata": {},
     "output_type": "execute_result"
    }
   ],
   "source": [
    "score(trn_xs[\"Aged_18_to_38\"], trn_y, 0.5)"
   ]
  },
  {
   "attachments": {},
   "cell_type": "markdown",
   "metadata": {},
   "source": [
    "E por salário:"
   ]
  },
  {
   "cell_type": "code",
   "execution_count": 22,
   "metadata": {},
   "outputs": [
    {
     "data": {
      "text/plain": [
       "0.4523081909897375"
      ]
     },
     "execution_count": 22,
     "metadata": {},
     "output_type": "execute_result"
    }
   ],
   "source": [
    "score(trn_xs[\"LogSalary\"], trn_y, 11.2)"
   ]
  },
  {
   "attachments": {},
   "cell_type": "markdown",
   "metadata": {},
   "source": [
    "Queremos agora achar o melhor limiar para cada coluna, ou seja, o valor que melhor divide os dados entre aqueles que compraram e não compraram o produto.\n",
    "\n",
    "Para isso podemos criar uma função que pega todos os valores únicos de cada coluna e calcula os `scores` em busca do menor."
   ]
  },
  {
   "cell_type": "code",
   "execution_count": 23,
   "metadata": {},
   "outputs": [],
   "source": [
    "def min_col(df, nm):\n",
    "    col,y = df[nm],df[dep]\n",
    "    unq = col.dropna().unique()\n",
    "    scores = np.array([score(col, y, o) for o in unq if not np.isnan(o)])\n",
    "    idx = scores.argmin()\n",
    "    return unq[idx],scores[idx]"
   ]
  },
  {
   "attachments": {},
   "cell_type": "markdown",
   "metadata": {},
   "source": [
    "Vamos testar a função nas nossas colunas:"
   ]
  },
  {
   "cell_type": "code",
   "execution_count": 24,
   "metadata": {},
   "outputs": [
    {
     "data": {
      "text/plain": [
       "{'Aged_18_to_38': (0, 0.3923495968261936),\n",
       " 'LogSalary': (11.39640288460621, 0.39668954050590766)}"
      ]
     },
     "execution_count": 24,
     "metadata": {},
     "output_type": "execute_result"
    }
   ],
   "source": [
    "cols = cat+cont\n",
    "{o:min_col(trn_df, o) for o in cols}"
   ]
  },
  {
   "attachments": {},
   "cell_type": "markdown",
   "metadata": {},
   "source": [
    "De acordo com o resultado, Aged_18_to_38 <= 0 é a melhor divisão que podemos fazer, com impureza de **0.392**, enquanto LogSalary <= 11.39 tem uma impureza de **0.396**. "
   ]
  },
  {
   "attachments": {},
   "cell_type": "markdown",
   "metadata": {},
   "source": [
    "### 4.3 Decision Tree"
   ]
  },
  {
   "attachments": {},
   "cell_type": "markdown",
   "metadata": {},
   "source": [
    "Para melhorar nosso modelo rudimentar, vamos pegar nossos dois grupos, `<=38` e `>38` e criar outra divisão binária para eles, ou seja, achar o melhor limiar de salário para cada grupo.\n",
    "\n",
    "Para isso removemos a coluna de idade da lista de divisões, e criamos os dois grupos, chamados aqui de `young` para os <=38 e `old` para os >38."
   ]
  },
  {
   "cell_type": "code",
   "execution_count": 25,
   "metadata": {},
   "outputs": [],
   "source": [
    "cols.remove(\"Aged_18_to_38\")\n",
    "is_young = trn_df.Aged_18_to_38==1\n",
    "young,old = trn_df[is_young],trn_df[~is_young]"
   ]
  },
  {
   "cell_type": "code",
   "execution_count": 26,
   "metadata": {},
   "outputs": [
    {
     "data": {
      "text/plain": [
       "{'LogSalary': (11.407576060361786, 0.17988165972931766)}"
      ]
     },
     "execution_count": 26,
     "metadata": {},
     "output_type": "execute_result"
    }
   ],
   "source": [
    "{o:min_col(young, o) for o in cols}"
   ]
  },
  {
   "cell_type": "code",
   "execution_count": 27,
   "metadata": {},
   "outputs": [
    {
     "data": {
      "text/plain": [
       "{'LogSalary': (11.326607934898927, 0.39943177387231577)}"
      ]
     },
     "execution_count": 27,
     "metadata": {},
     "output_type": "execute_result"
    }
   ],
   "source": [
    "{o:min_col(old, o) for o in cols}"
   ]
  },
  {
   "attachments": {},
   "cell_type": "markdown",
   "metadata": {},
   "source": [
    "De acordo com os resultados, os `<=38` como o limiar 11.4 tem um grau de impureza de 0.17 apenas, enquanto para os >38 com limiar 11.3 o grau de impureza é quase 0.4. Isso significa que o salário não é tão relevante na decisão de comprar ou não um produto para esse grupo."
   ]
  },
  {
   "attachments": {},
   "cell_type": "markdown",
   "metadata": {},
   "source": [
    "Dessa forma, criamos uma árvore de decisão, onde o modelo checa se a idade é menor ou maior do que 38, e depois aplica os limiares definidos acima. Esse processo poderia ser repetido, criando novos limiares para os 4 grupos gerados e assim por diante.\n",
    "\n",
    "O módulo `sklearn` nos provê uma função para fazer exatemente isso:"
   ]
  },
  {
   "cell_type": "code",
   "execution_count": 23,
   "metadata": {},
   "outputs": [],
   "source": [
    "m = DecisionTreeClassifier(max_leaf_nodes=4).fit(trn_xs, trn_y);"
   ]
  },
  {
   "attachments": {},
   "cell_type": "markdown",
   "metadata": {},
   "source": [
    "Vamos usar a biblioteca `graphviz` para visualizar nossa árvore:"
   ]
  },
  {
   "cell_type": "code",
   "execution_count": 22,
   "metadata": {},
   "outputs": [],
   "source": [
    "def draw_tree(t, df, size=10, ratio=0.6, precision=2, **kwargs):\n",
    "    s=export_graphviz(t, out_file=None, feature_names=df.columns, filled=True, rounded=True,\n",
    "                      special_characters=True, rotate=False, precision=precision, **kwargs)\n",
    "    return graphviz.Source(re.sub('Tree {', f'Tree {{ size={size}; ratio={ratio}', s))"
   ]
  },
  {
   "cell_type": "code",
   "execution_count": 30,
   "metadata": {},
   "outputs": [
    {
     "data": {
      "image/svg+xml": "<?xml version=\"1.0\" encoding=\"UTF-8\" standalone=\"no\"?>\n<!DOCTYPE svg PUBLIC \"-//W3C//DTD SVG 1.1//EN\"\n \"http://www.w3.org/Graphics/SVG/1.1/DTD/svg11.dtd\">\n<!-- Generated by graphviz version 6.0.2 (20221126.1951)\n -->\n<!-- Title: Tree Pages: 1 -->\n<svg width=\"616pt\" height=\"373pt\"\n viewBox=\"0.00 0.00 616.33 373.00\" xmlns=\"http://www.w3.org/2000/svg\" xmlns:xlink=\"http://www.w3.org/1999/xlink\">\n<g id=\"graph0\" class=\"graph\" transform=\"scale(1 1) rotate(0) translate(4 369)\">\n<title>Tree</title>\n<polygon fill=\"white\" stroke=\"none\" points=\"-4,4 -4,-369 612.33,-369 612.33,4 -4,4\"/>\n<!-- 0 -->\n<g id=\"node1\" class=\"node\">\n<title>0</title>\n<path fill=\"#f3c6a5\" stroke=\"black\" d=\"M471.52,-365C471.52,-365 346.52,-365 346.52,-365 340.52,-365 334.52,-359 334.52,-353 334.52,-353 334.52,-309 334.52,-309 334.52,-303 340.52,-297 346.52,-297 346.52,-297 471.52,-297 471.52,-297 477.52,-297 483.52,-303 483.52,-309 483.52,-309 483.52,-353 483.52,-353 483.52,-359 477.52,-365 471.52,-365\"/>\n<text text-anchor=\"start\" x=\"348.52\" y=\"-349.8\" font-family=\"Helvetica,sans-Serif\" font-size=\"14.00\">LogSalary ≤ 11.4</text>\n<text text-anchor=\"start\" x=\"369.52\" y=\"-334.8\" font-family=\"Helvetica,sans-Serif\" font-size=\"14.00\">gini = 0.46</text>\n<text text-anchor=\"start\" x=\"356.02\" y=\"-319.8\" font-family=\"Helvetica,sans-Serif\" font-size=\"14.00\">samples = 300</text>\n<text text-anchor=\"start\" x=\"342.52\" y=\"-304.8\" font-family=\"Helvetica,sans-Serif\" font-size=\"14.00\">value = [194, 106]</text>\n</g>\n<!-- 1 -->\n<g id=\"node2\" class=\"node\">\n<title>1</title>\n<path fill=\"#eca36f\" stroke=\"black\" d=\"M367.02,-261C367.02,-261 225.02,-261 225.02,-261 219.02,-261 213.02,-255 213.02,-249 213.02,-249 213.02,-205 213.02,-205 213.02,-199 219.02,-193 225.02,-193 225.02,-193 367.02,-193 367.02,-193 373.02,-193 379.02,-199 379.02,-205 379.02,-205 379.02,-249 379.02,-249 379.02,-255 373.02,-261 367.02,-261\"/>\n<text text-anchor=\"start\" x=\"221.02\" y=\"-245.8\" font-family=\"Helvetica,sans-Serif\" font-size=\"14.00\">Aged_18_to_38 ≤ 0.5</text>\n<text text-anchor=\"start\" x=\"256.52\" y=\"-230.8\" font-family=\"Helvetica,sans-Serif\" font-size=\"14.00\">gini = 0.33</text>\n<text text-anchor=\"start\" x=\"243.02\" y=\"-215.8\" font-family=\"Helvetica,sans-Serif\" font-size=\"14.00\">samples = 235</text>\n<text text-anchor=\"start\" x=\"234.02\" y=\"-200.8\" font-family=\"Helvetica,sans-Serif\" font-size=\"14.00\">value = [185, 50]</text>\n</g>\n<!-- 0&#45;&gt;1 -->\n<g id=\"edge1\" class=\"edge\">\n<title>0&#45;&gt;1</title>\n<path fill=\"none\" stroke=\"black\" d=\"M372.34,-296.88C362.17,-287.71 351.03,-277.65 340.47,-268.12\"/>\n<polygon fill=\"black\" stroke=\"black\" points=\"342.68,-265.4 332.91,-261.3 337.99,-270.6 342.68,-265.4\"/>\n<text text-anchor=\"middle\" x=\"334.19\" y=\"-282.57\" font-family=\"Helvetica,sans-Serif\" font-size=\"14.00\">True</text>\n</g>\n<!-- 2 -->\n<g id=\"node7\" class=\"node\">\n<title>2</title>\n<path fill=\"#59ade9\" stroke=\"black\" d=\"M572.02,-253.5C572.02,-253.5 474.02,-253.5 474.02,-253.5 468.02,-253.5 462.02,-247.5 462.02,-241.5 462.02,-241.5 462.02,-212.5 462.02,-212.5 462.02,-206.5 468.02,-200.5 474.02,-200.5 474.02,-200.5 572.02,-200.5 572.02,-200.5 578.02,-200.5 584.02,-206.5 584.02,-212.5 584.02,-212.5 584.02,-241.5 584.02,-241.5 584.02,-247.5 578.02,-253.5 572.02,-253.5\"/>\n<text text-anchor=\"start\" x=\"483.52\" y=\"-238.3\" font-family=\"Helvetica,sans-Serif\" font-size=\"14.00\">gini = 0.24</text>\n<text text-anchor=\"start\" x=\"474.52\" y=\"-223.3\" font-family=\"Helvetica,sans-Serif\" font-size=\"14.00\">samples = 65</text>\n<text text-anchor=\"start\" x=\"470.02\" y=\"-208.3\" font-family=\"Helvetica,sans-Serif\" font-size=\"14.00\">value = [9, 56]</text>\n</g>\n<!-- 0&#45;&gt;2 -->\n<g id=\"edge6\" class=\"edge\">\n<title>0&#45;&gt;2</title>\n<path fill=\"none\" stroke=\"black\" d=\"M446.04,-296.88C459.19,-285.12 473.97,-271.89 487.03,-260.2\"/>\n<polygon fill=\"black\" stroke=\"black\" points=\"489.38,-262.8 494.5,-253.52 484.71,-257.58 489.38,-262.8\"/>\n<text text-anchor=\"middle\" x=\"493.11\" y=\"-274.78\" font-family=\"Helvetica,sans-Serif\" font-size=\"14.00\">False</text>\n</g>\n<!-- 3 -->\n<g id=\"node3\" class=\"node\">\n<title>3</title>\n<path fill=\"#f2f9fd\" stroke=\"black\" d=\"M247.02,-157C247.02,-157 125.02,-157 125.02,-157 119.02,-157 113.02,-151 113.02,-145 113.02,-145 113.02,-101 113.02,-101 113.02,-95 119.02,-89 125.02,-89 125.02,-89 247.02,-89 247.02,-89 253.02,-89 259.02,-95 259.02,-101 259.02,-101 259.02,-145 259.02,-145 259.02,-151 253.02,-157 247.02,-157\"/>\n<text text-anchor=\"start\" x=\"121.02\" y=\"-141.8\" font-family=\"Helvetica,sans-Serif\" font-size=\"14.00\">LogSalary ≤ 10.63</text>\n<text text-anchor=\"start\" x=\"151.02\" y=\"-126.8\" font-family=\"Helvetica,sans-Serif\" font-size=\"14.00\">gini = 0.5</text>\n<text text-anchor=\"start\" x=\"137.52\" y=\"-111.8\" font-family=\"Helvetica,sans-Serif\" font-size=\"14.00\">samples = 91</text>\n<text text-anchor=\"start\" x=\"128.52\" y=\"-96.8\" font-family=\"Helvetica,sans-Serif\" font-size=\"14.00\">value = [44, 47]</text>\n</g>\n<!-- 1&#45;&gt;3 -->\n<g id=\"edge2\" class=\"edge\">\n<title>1&#45;&gt;3</title>\n<path fill=\"none\" stroke=\"black\" d=\"M260.31,-192.88C250.42,-183.71 239.57,-173.65 229.29,-164.12\"/>\n<polygon fill=\"black\" stroke=\"black\" points=\"231.65,-161.53 221.93,-157.3 226.89,-166.67 231.65,-161.53\"/>\n</g>\n<!-- 4 -->\n<g id=\"node6\" class=\"node\">\n<title>4</title>\n<path fill=\"#e6843d\" stroke=\"black\" d=\"M459.52,-149.5C459.52,-149.5 352.52,-149.5 352.52,-149.5 346.52,-149.5 340.52,-143.5 340.52,-137.5 340.52,-137.5 340.52,-108.5 340.52,-108.5 340.52,-102.5 346.52,-96.5 352.52,-96.5 352.52,-96.5 459.52,-96.5 459.52,-96.5 465.52,-96.5 471.52,-102.5 471.52,-108.5 471.52,-108.5 471.52,-137.5 471.52,-137.5 471.52,-143.5 465.52,-149.5 459.52,-149.5\"/>\n<text text-anchor=\"start\" x=\"366.52\" y=\"-134.3\" font-family=\"Helvetica,sans-Serif\" font-size=\"14.00\">gini = 0.04</text>\n<text text-anchor=\"start\" x=\"353.02\" y=\"-119.3\" font-family=\"Helvetica,sans-Serif\" font-size=\"14.00\">samples = 144</text>\n<text text-anchor=\"start\" x=\"348.52\" y=\"-104.3\" font-family=\"Helvetica,sans-Serif\" font-size=\"14.00\">value = [141, 3]</text>\n</g>\n<!-- 1&#45;&gt;4 -->\n<g id=\"edge5\" class=\"edge\">\n<title>1&#45;&gt;4</title>\n<path fill=\"none\" stroke=\"black\" d=\"M331.74,-192.88C344.31,-181.23 358.42,-168.14 370.94,-156.53\"/>\n<polygon fill=\"black\" stroke=\"black\" points=\"373.55,-158.89 378.5,-149.52 368.79,-153.75 373.55,-158.89\"/>\n</g>\n<!-- 5 -->\n<g id=\"node4\" class=\"node\">\n<title>5</title>\n<path fill=\"#50a8e8\" stroke=\"black\" d=\"M134.02,-52.5C134.02,-52.5 36.02,-52.5 36.02,-52.5 30.02,-52.5 24.02,-46.5 24.02,-40.5 24.02,-40.5 24.02,-11.5 24.02,-11.5 24.02,-5.5 30.02,0.5 36.02,0.5 36.02,0.5 134.02,0.5 134.02,0.5 140.02,0.5 146.02,-5.5 146.02,-11.5 146.02,-11.5 146.02,-40.5 146.02,-40.5 146.02,-46.5 140.02,-52.5 134.02,-52.5\"/>\n<text text-anchor=\"start\" x=\"45.52\" y=\"-37.3\" font-family=\"Helvetica,sans-Serif\" font-size=\"14.00\">gini = 0.19</text>\n<text text-anchor=\"start\" x=\"36.52\" y=\"-22.3\" font-family=\"Helvetica,sans-Serif\" font-size=\"14.00\">samples = 29</text>\n<text text-anchor=\"start\" x=\"32.02\" y=\"-7.3\" font-family=\"Helvetica,sans-Serif\" font-size=\"14.00\">value = [3, 26]</text>\n</g>\n<!-- 3&#45;&gt;5 -->\n<g id=\"edge3\" class=\"edge\">\n<title>3&#45;&gt;5</title>\n<path fill=\"none\" stroke=\"black\" d=\"M150.7,-88.77C140.63,-79.31 129.68,-69.01 119.66,-59.58\"/>\n<polygon fill=\"black\" stroke=\"black\" points=\"121.89,-56.87 112.21,-52.57 117.1,-61.97 121.89,-56.87\"/>\n</g>\n<!-- 6 -->\n<g id=\"node5\" class=\"node\">\n<title>6</title>\n<path fill=\"#f2c29e\" stroke=\"black\" d=\"M342.52,-52.5C342.52,-52.5 235.52,-52.5 235.52,-52.5 229.52,-52.5 223.52,-46.5 223.52,-40.5 223.52,-40.5 223.52,-11.5 223.52,-11.5 223.52,-5.5 229.52,0.5 235.52,0.5 235.52,0.5 342.52,0.5 342.52,0.5 348.52,0.5 354.52,-5.5 354.52,-11.5 354.52,-11.5 354.52,-40.5 354.52,-40.5 354.52,-46.5 348.52,-52.5 342.52,-52.5\"/>\n<text text-anchor=\"start\" x=\"249.52\" y=\"-37.3\" font-family=\"Helvetica,sans-Serif\" font-size=\"14.00\">gini = 0.45</text>\n<text text-anchor=\"start\" x=\"240.52\" y=\"-22.3\" font-family=\"Helvetica,sans-Serif\" font-size=\"14.00\">samples = 62</text>\n<text text-anchor=\"start\" x=\"231.52\" y=\"-7.3\" font-family=\"Helvetica,sans-Serif\" font-size=\"14.00\">value = [41, 21]</text>\n</g>\n<!-- 3&#45;&gt;6 -->\n<g id=\"edge4\" class=\"edge\">\n<title>3&#45;&gt;6</title>\n<path fill=\"none\" stroke=\"black\" d=\"M222.05,-88.77C232.31,-79.31 243.48,-69.01 253.7,-59.58\"/>\n<polygon fill=\"black\" stroke=\"black\" points=\"256.32,-61.92 261.3,-52.57 251.57,-56.78 256.32,-61.92\"/>\n</g>\n</g>\n</svg>\n",
      "text/plain": [
       "<graphviz.sources.Source at 0x7f00343d6050>"
      ]
     },
     "execution_count": 30,
     "metadata": {},
     "output_type": "execute_result"
    }
   ],
   "source": [
    "draw_tree(m, trn_xs, size=10)"
   ]
  },
  {
   "attachments": {},
   "cell_type": "markdown",
   "metadata": {},
   "source": [
    "No gráfico podemos ver em laranja os grupos que compraram mais, em azul os que compraram menos, e em branco os divididos igualmente.\n",
    "\n",
    "Também temos o `gini` que similar ao grau de impureza, nos diz a similaridade dos dados em um grupo. Um gini 0 seria para todos os elementos iguais, e 1 seria para todos os elementos diferentes. A seguir sua definição:"
   ]
  },
  {
   "cell_type": "code",
   "execution_count": 31,
   "metadata": {},
   "outputs": [],
   "source": [
    "def gini(cond):\n",
    "    act = df.loc[cond, dep]\n",
    "    return 1 - act.mean()**2 - (1-act).mean()**2"
   ]
  },
  {
   "attachments": {},
   "cell_type": "markdown",
   "metadata": {},
   "source": [
    "Exemplo do gini em ação nas nossas colunas:"
   ]
  },
  {
   "cell_type": "code",
   "execution_count": 32,
   "metadata": {},
   "outputs": [
    {
     "data": {
      "text/plain": [
       "(0.2328621126505661, 0.4616808707587219)"
      ]
     },
     "execution_count": 32,
     "metadata": {},
     "output_type": "execute_result"
    }
   ],
   "source": [
    "gini(df.Aged_18_to_38==1), gini(df.Aged_18_to_38==0)"
   ]
  },
  {
   "attachments": {},
   "cell_type": "markdown",
   "metadata": {},
   "source": [
    "Vamos ver como o novo modelo se compara com o primeiro:"
   ]
  },
  {
   "cell_type": "code",
   "execution_count": 33,
   "metadata": {},
   "outputs": [
    {
     "data": {
      "text/plain": [
       "0.13"
      ]
     },
     "execution_count": 33,
     "metadata": {},
     "output_type": "execute_result"
    }
   ],
   "source": [
    "mean_absolute_error(val_y, m.predict(val_xs))"
   ]
  },
  {
   "attachments": {},
   "cell_type": "markdown",
   "metadata": {},
   "source": [
    "Consideravelmente melhor, mas vamos tentar criar uma árvore maior:"
   ]
  },
  {
   "cell_type": "code",
   "execution_count": 24,
   "metadata": {},
   "outputs": [
    {
     "data": {
      "image/svg+xml": "<?xml version=\"1.0\" encoding=\"UTF-8\" standalone=\"no\"?>\n<!DOCTYPE svg PUBLIC \"-//W3C//DTD SVG 1.1//EN\"\n \"http://www.w3.org/Graphics/SVG/1.1/DTD/svg11.dtd\">\n<!-- Generated by graphviz version 6.0.2 (20221126.1951)\n -->\n<!-- Title: Tree Pages: 1 -->\n<svg width=\"616pt\" height=\"373pt\"\n viewBox=\"0.00 0.00 616.33 373.00\" xmlns=\"http://www.w3.org/2000/svg\" xmlns:xlink=\"http://www.w3.org/1999/xlink\">\n<g id=\"graph0\" class=\"graph\" transform=\"scale(1 1) rotate(0) translate(4 369)\">\n<title>Tree</title>\n<polygon fill=\"white\" stroke=\"none\" points=\"-4,4 -4,-369 612.33,-369 612.33,4 -4,4\"/>\n<!-- 0 -->\n<g id=\"node1\" class=\"node\">\n<title>0</title>\n<path fill=\"#f3c5a4\" stroke=\"black\" d=\"M369.17,-365C369.17,-365 227.17,-365 227.17,-365 221.17,-365 215.17,-359 215.17,-353 215.17,-353 215.17,-309 215.17,-309 215.17,-303 221.17,-297 227.17,-297 227.17,-297 369.17,-297 369.17,-297 375.17,-297 381.17,-303 381.17,-309 381.17,-309 381.17,-353 381.17,-353 381.17,-359 375.17,-365 369.17,-365\"/>\n<text text-anchor=\"start\" x=\"223.17\" y=\"-349.8\" font-family=\"Helvetica,sans-Serif\" font-size=\"14.00\">Aged_18_to_38 ≤ 0.5</text>\n<text text-anchor=\"start\" x=\"258.67\" y=\"-334.8\" font-family=\"Helvetica,sans-Serif\" font-size=\"14.00\">gini = 0.45</text>\n<text text-anchor=\"start\" x=\"245.17\" y=\"-319.8\" font-family=\"Helvetica,sans-Serif\" font-size=\"14.00\">samples = 300</text>\n<text text-anchor=\"start\" x=\"231.67\" y=\"-304.8\" font-family=\"Helvetica,sans-Serif\" font-size=\"14.00\">value = [195, 105]</text>\n</g>\n<!-- 1 -->\n<g id=\"node2\" class=\"node\">\n<title>1</title>\n<path fill=\"#aad5f4\" stroke=\"black\" d=\"M274.17,-261C274.17,-261 152.17,-261 152.17,-261 146.17,-261 140.17,-255 140.17,-249 140.17,-249 140.17,-205 140.17,-205 140.17,-199 146.17,-193 152.17,-193 152.17,-193 274.17,-193 274.17,-193 280.17,-193 286.17,-199 286.17,-205 286.17,-205 286.17,-249 286.17,-249 286.17,-255 280.17,-261 274.17,-261\"/>\n<text text-anchor=\"start\" x=\"148.17\" y=\"-245.8\" font-family=\"Helvetica,sans-Serif\" font-size=\"14.00\">LogSalary ≤ 11.28</text>\n<text text-anchor=\"start\" x=\"173.67\" y=\"-230.8\" font-family=\"Helvetica,sans-Serif\" font-size=\"14.00\">gini = 0.46</text>\n<text text-anchor=\"start\" x=\"160.17\" y=\"-215.8\" font-family=\"Helvetica,sans-Serif\" font-size=\"14.00\">samples = 135</text>\n<text text-anchor=\"start\" x=\"155.67\" y=\"-200.8\" font-family=\"Helvetica,sans-Serif\" font-size=\"14.00\">value = [49, 86]</text>\n</g>\n<!-- 0&#45;&gt;1 -->\n<g id=\"edge1\" class=\"edge\">\n<title>0&#45;&gt;1</title>\n<path fill=\"none\" stroke=\"black\" d=\"M270.58,-296.88C263.23,-288.07 255.2,-278.43 247.53,-269.24\"/>\n<polygon fill=\"black\" stroke=\"black\" points=\"250.01,-266.74 240.92,-261.3 244.63,-271.22 250.01,-266.74\"/>\n<text text-anchor=\"middle\" x=\"238.66\" y=\"-282.5\" font-family=\"Helvetica,sans-Serif\" font-size=\"14.00\">True</text>\n</g>\n<!-- 4 -->\n<g id=\"node5\" class=\"node\">\n<title>4</title>\n<path fill=\"#e89153\" stroke=\"black\" d=\"M443.17,-261C443.17,-261 321.17,-261 321.17,-261 315.17,-261 309.17,-255 309.17,-249 309.17,-249 309.17,-205 309.17,-205 309.17,-199 315.17,-193 321.17,-193 321.17,-193 443.17,-193 443.17,-193 449.17,-193 455.17,-199 455.17,-205 455.17,-205 455.17,-249 455.17,-249 455.17,-255 449.17,-261 443.17,-261\"/>\n<text text-anchor=\"start\" x=\"317.17\" y=\"-245.8\" font-family=\"Helvetica,sans-Serif\" font-size=\"14.00\">LogSalary ≤ 11.26</text>\n<text text-anchor=\"start\" x=\"347.17\" y=\"-230.8\" font-family=\"Helvetica,sans-Serif\" font-size=\"14.00\">gini = 0.2</text>\n<text text-anchor=\"start\" x=\"329.17\" y=\"-215.8\" font-family=\"Helvetica,sans-Serif\" font-size=\"14.00\">samples = 165</text>\n<text text-anchor=\"start\" x=\"320.17\" y=\"-200.8\" font-family=\"Helvetica,sans-Serif\" font-size=\"14.00\">value = [146, 19]</text>\n</g>\n<!-- 0&#45;&gt;4 -->\n<g id=\"edge4\" class=\"edge\">\n<title>0&#45;&gt;4</title>\n<path fill=\"none\" stroke=\"black\" d=\"M325.44,-296.88C332.71,-288.07 340.64,-278.43 348.21,-269.24\"/>\n<polygon fill=\"black\" stroke=\"black\" points=\"351.09,-271.24 354.75,-261.3 345.69,-266.79 351.09,-271.24\"/>\n<text text-anchor=\"middle\" x=\"357.16\" y=\"-282.48\" font-family=\"Helvetica,sans-Serif\" font-size=\"14.00\">False</text>\n</g>\n<!-- 2 -->\n<g id=\"node3\" class=\"node\">\n<title>2</title>\n<path fill=\"#fafdfe\" stroke=\"black\" d=\"M120.67,-149.5C120.67,-149.5 13.67,-149.5 13.67,-149.5 7.67,-149.5 1.67,-143.5 1.67,-137.5 1.67,-137.5 1.67,-108.5 1.67,-108.5 1.67,-102.5 7.67,-96.5 13.67,-96.5 13.67,-96.5 120.67,-96.5 120.67,-96.5 126.67,-96.5 132.67,-102.5 132.67,-108.5 132.67,-108.5 132.67,-137.5 132.67,-137.5 132.67,-143.5 126.67,-149.5 120.67,-149.5\"/>\n<text text-anchor=\"start\" x=\"32.17\" y=\"-134.3\" font-family=\"Helvetica,sans-Serif\" font-size=\"14.00\">gini = 0.5</text>\n<text text-anchor=\"start\" x=\"18.67\" y=\"-119.3\" font-family=\"Helvetica,sans-Serif\" font-size=\"14.00\">samples = 83</text>\n<text text-anchor=\"start\" x=\"9.67\" y=\"-104.3\" font-family=\"Helvetica,sans-Serif\" font-size=\"14.00\">value = [41, 42]</text>\n</g>\n<!-- 1&#45;&gt;2 -->\n<g id=\"edge2\" class=\"edge\">\n<title>1&#45;&gt;2</title>\n<path fill=\"none\" stroke=\"black\" d=\"M165.77,-192.88C148.61,-180.9 129.29,-167.4 112.33,-155.55\"/>\n<polygon fill=\"black\" stroke=\"black\" points=\"113.9,-152.38 103.7,-149.52 109.89,-158.12 113.9,-152.38\"/>\n</g>\n<!-- 3 -->\n<g id=\"node4\" class=\"node\">\n<title>3</title>\n<path fill=\"#5dafea\" stroke=\"black\" d=\"M266.17,-149.5C266.17,-149.5 168.17,-149.5 168.17,-149.5 162.17,-149.5 156.17,-143.5 156.17,-137.5 156.17,-137.5 156.17,-108.5 156.17,-108.5 156.17,-102.5 162.17,-96.5 168.17,-96.5 168.17,-96.5 266.17,-96.5 266.17,-96.5 272.17,-96.5 278.17,-102.5 278.17,-108.5 278.17,-108.5 278.17,-137.5 278.17,-137.5 278.17,-143.5 272.17,-149.5 266.17,-149.5\"/>\n<text text-anchor=\"start\" x=\"177.67\" y=\"-134.3\" font-family=\"Helvetica,sans-Serif\" font-size=\"14.00\">gini = 0.26</text>\n<text text-anchor=\"start\" x=\"168.67\" y=\"-119.3\" font-family=\"Helvetica,sans-Serif\" font-size=\"14.00\">samples = 52</text>\n<text text-anchor=\"start\" x=\"164.17\" y=\"-104.3\" font-family=\"Helvetica,sans-Serif\" font-size=\"14.00\">value = [8, 44]</text>\n</g>\n<!-- 1&#45;&gt;3 -->\n<g id=\"edge3\" class=\"edge\">\n<title>1&#45;&gt;3</title>\n<path fill=\"none\" stroke=\"black\" d=\"M214.47,-192.88C214.89,-182.22 215.35,-170.35 215.78,-159.52\"/>\n<polygon fill=\"black\" stroke=\"black\" points=\"219.28,-159.65 216.17,-149.52 212.28,-159.38 219.28,-159.65\"/>\n</g>\n<!-- 5 -->\n<g id=\"node6\" class=\"node\">\n<title>5</title>\n<path fill=\"#e5823b\" stroke=\"black\" d=\"M440.17,-157C440.17,-157 318.17,-157 318.17,-157 312.17,-157 306.17,-151 306.17,-145 306.17,-145 306.17,-101 306.17,-101 306.17,-95 312.17,-89 318.17,-89 318.17,-89 440.17,-89 440.17,-89 446.17,-89 452.17,-95 452.17,-101 452.17,-101 452.17,-145 452.17,-145 452.17,-151 446.17,-157 440.17,-157\"/>\n<text text-anchor=\"start\" x=\"314.17\" y=\"-141.8\" font-family=\"Helvetica,sans-Serif\" font-size=\"14.00\">LogSalary ≤ 10.85</text>\n<text text-anchor=\"start\" x=\"339.67\" y=\"-126.8\" font-family=\"Helvetica,sans-Serif\" font-size=\"14.00\">gini = 0.02</text>\n<text text-anchor=\"start\" x=\"326.17\" y=\"-111.8\" font-family=\"Helvetica,sans-Serif\" font-size=\"14.00\">samples = 112</text>\n<text text-anchor=\"start\" x=\"321.67\" y=\"-96.8\" font-family=\"Helvetica,sans-Serif\" font-size=\"14.00\">value = [111, 1]</text>\n</g>\n<!-- 4&#45;&gt;5 -->\n<g id=\"edge5\" class=\"edge\">\n<title>4&#45;&gt;5</title>\n<path fill=\"none\" stroke=\"black\" d=\"M381.2,-192.88C380.96,-184.78 380.7,-175.98 380.45,-167.47\"/>\n<polygon fill=\"black\" stroke=\"black\" points=\"383.94,-167.19 380.15,-157.3 376.95,-167.4 383.94,-167.19\"/>\n</g>\n<!-- 8 -->\n<g id=\"node9\" class=\"node\">\n<title>8</title>\n<path fill=\"#f2c29f\" stroke=\"black\" d=\"M594.67,-149.5C594.67,-149.5 487.67,-149.5 487.67,-149.5 481.67,-149.5 475.67,-143.5 475.67,-137.5 475.67,-137.5 475.67,-108.5 475.67,-108.5 475.67,-102.5 481.67,-96.5 487.67,-96.5 487.67,-96.5 594.67,-96.5 594.67,-96.5 600.67,-96.5 606.67,-102.5 606.67,-108.5 606.67,-108.5 606.67,-137.5 606.67,-137.5 606.67,-143.5 600.67,-149.5 594.67,-149.5\"/>\n<text text-anchor=\"start\" x=\"501.67\" y=\"-134.3\" font-family=\"Helvetica,sans-Serif\" font-size=\"14.00\">gini = 0.45</text>\n<text text-anchor=\"start\" x=\"492.67\" y=\"-119.3\" font-family=\"Helvetica,sans-Serif\" font-size=\"14.00\">samples = 53</text>\n<text text-anchor=\"start\" x=\"483.67\" y=\"-104.3\" font-family=\"Helvetica,sans-Serif\" font-size=\"14.00\">value = [35, 18]</text>\n</g>\n<!-- 4&#45;&gt;8 -->\n<g id=\"edge8\" class=\"edge\">\n<title>4&#45;&gt;8</title>\n<path fill=\"none\" stroke=\"black\" d=\"M433.8,-192.88C452.74,-180.73 474.1,-167.03 492.75,-155.06\"/>\n<polygon fill=\"black\" stroke=\"black\" points=\"494.86,-157.87 501.39,-149.52 491.08,-151.97 494.86,-157.87\"/>\n</g>\n<!-- 6 -->\n<g id=\"node7\" class=\"node\">\n<title>6</title>\n<path fill=\"#e58139\" stroke=\"black\" d=\"M356.17,-52.5C356.17,-52.5 258.17,-52.5 258.17,-52.5 252.17,-52.5 246.17,-46.5 246.17,-40.5 246.17,-40.5 246.17,-11.5 246.17,-11.5 246.17,-5.5 252.17,0.5 258.17,0.5 258.17,0.5 356.17,0.5 356.17,0.5 362.17,0.5 368.17,-5.5 368.17,-11.5 368.17,-11.5 368.17,-40.5 368.17,-40.5 368.17,-46.5 362.17,-52.5 356.17,-52.5\"/>\n<text text-anchor=\"start\" x=\"272.17\" y=\"-37.3\" font-family=\"Helvetica,sans-Serif\" font-size=\"14.00\">gini = 0.0</text>\n<text text-anchor=\"start\" x=\"258.67\" y=\"-22.3\" font-family=\"Helvetica,sans-Serif\" font-size=\"14.00\">samples = 61</text>\n<text text-anchor=\"start\" x=\"254.17\" y=\"-7.3\" font-family=\"Helvetica,sans-Serif\" font-size=\"14.00\">value = [61, 0]</text>\n</g>\n<!-- 5&#45;&gt;6 -->\n<g id=\"edge6\" class=\"edge\">\n<title>5&#45;&gt;6</title>\n<path fill=\"none\" stroke=\"black\" d=\"M353.99,-88.77C347.1,-79.68 339.62,-69.82 332.71,-60.69\"/>\n<polygon fill=\"black\" stroke=\"black\" points=\"335.38,-58.43 326.55,-52.57 329.8,-62.66 335.38,-58.43\"/>\n</g>\n<!-- 7 -->\n<g id=\"node8\" class=\"node\">\n<title>7</title>\n<path fill=\"#e6843d\" stroke=\"black\" d=\"M500.17,-52.5C500.17,-52.5 402.17,-52.5 402.17,-52.5 396.17,-52.5 390.17,-46.5 390.17,-40.5 390.17,-40.5 390.17,-11.5 390.17,-11.5 390.17,-5.5 396.17,0.5 402.17,0.5 402.17,0.5 500.17,0.5 500.17,0.5 506.17,0.5 512.17,-5.5 512.17,-11.5 512.17,-11.5 512.17,-40.5 512.17,-40.5 512.17,-46.5 506.17,-52.5 500.17,-52.5\"/>\n<text text-anchor=\"start\" x=\"411.67\" y=\"-37.3\" font-family=\"Helvetica,sans-Serif\" font-size=\"14.00\">gini = 0.04</text>\n<text text-anchor=\"start\" x=\"402.67\" y=\"-22.3\" font-family=\"Helvetica,sans-Serif\" font-size=\"14.00\">samples = 51</text>\n<text text-anchor=\"start\" x=\"398.17\" y=\"-7.3\" font-family=\"Helvetica,sans-Serif\" font-size=\"14.00\">value = [50, 1]</text>\n</g>\n<!-- 5&#45;&gt;7 -->\n<g id=\"edge7\" class=\"edge\">\n<title>5&#45;&gt;7</title>\n<path fill=\"none\" stroke=\"black\" d=\"M404.35,-88.77C411.25,-79.68 418.72,-69.82 425.64,-60.69\"/>\n<polygon fill=\"black\" stroke=\"black\" points=\"428.54,-62.66 431.79,-52.57 422.96,-58.43 428.54,-62.66\"/>\n</g>\n</g>\n</svg>\n",
      "text/plain": [
       "<graphviz.sources.Source at 0x7f9e6b69e950>"
      ]
     },
     "execution_count": 24,
     "metadata": {},
     "output_type": "execute_result"
    }
   ],
   "source": [
    "m = DecisionTreeClassifier(min_samples_leaf=50)\n",
    "m.fit(trn_xs, trn_y)\n",
    "draw_tree(m, trn_xs, size=12)"
   ]
  },
  {
   "cell_type": "code",
   "execution_count": 35,
   "metadata": {},
   "outputs": [
    {
     "data": {
      "text/plain": [
       "0.2"
      ]
     },
     "execution_count": 35,
     "metadata": {},
     "output_type": "execute_result"
    }
   ],
   "source": [
    "mean_absolute_error(val_y, m.predict(val_xs))"
   ]
  },
  {
   "attachments": {},
   "cell_type": "markdown",
   "metadata": {},
   "source": [
    "Dessa vez o erro aumentou, isso se dá porque cada folha acaba tendo poucos dados. Uma árvore profunda demais é propensa a overfit, por isso deve-se evitar criar árvores grandes com um dataset reduzido."
   ]
  },
  {
   "attachments": {},
   "cell_type": "markdown",
   "metadata": {},
   "source": [
    "### 4.4 Random Forest"
   ]
  },
  {
   "attachments": {},
   "cell_type": "markdown",
   "metadata": {},
   "source": [
    "Ao invés de criar uma árvore muito profunda, podemos criar várias árvores profundas e tirar a média de suas inferências. Esse método é conhecido como `bagging`.\n",
    "\n",
    "A ideia é que cada inferência não seja relacionada com as outras, dessa forma, quando tirarmos a média, o resultado vai ser igual ao valor verdadeiro. Isso se dá porque a média entre vários erros não relacionados é zero.\n",
    "\n",
    "Uma forma de criar moodelos não relacionados é treinar cada um em subgrupos diferentes dos dados:"
   ]
  },
  {
   "cell_type": "code",
   "execution_count": 41,
   "metadata": {},
   "outputs": [],
   "source": [
    "def get_tree(prop=0.75):\n",
    "    n = len(trn_y)\n",
    "    idxs = np.random.choice(n, int(n*prop))\n",
    "    x = trn_xs.iloc[idxs]\n",
    "    y = trn_y.iloc[idxs]\n",
    "    return DecisionTreeClassifier(min_samples_leaf=5).fit(x, y)"
   ]
  },
  {
   "attachments": {},
   "cell_type": "markdown",
   "metadata": {},
   "source": [
    "Agora criamos vários modelos:"
   ]
  },
  {
   "cell_type": "code",
   "execution_count": 42,
   "metadata": {},
   "outputs": [],
   "source": [
    "trees = [get_tree() for t in range(100)]"
   ]
  },
  {
   "attachments": {},
   "cell_type": "markdown",
   "metadata": {},
   "source": [
    "E nossa inferência vai ser a média entre todas as inferências:"
   ]
  },
  {
   "cell_type": "code",
   "execution_count": 43,
   "metadata": {},
   "outputs": [
    {
     "data": {
      "text/plain": [
       "0.1565"
      ]
     },
     "execution_count": 43,
     "metadata": {},
     "output_type": "execute_result"
    }
   ],
   "source": [
    "all_probs = [t.predict(val_xs) for t in trees]\n",
    "avg_probs = np.stack(all_probs).mean(0)\n",
    "\n",
    "mean_absolute_error(val_y, avg_probs)"
   ]
  },
  {
   "attachments": {},
   "cell_type": "markdown",
   "metadata": {},
   "source": [
    "O `sklearn` tem uma função para isso, a única diferença sendo que ela seleciona um subgrupo de colunas aleatório para cada divisão."
   ]
  },
  {
   "cell_type": "code",
   "execution_count": 45,
   "metadata": {},
   "outputs": [
    {
     "data": {
      "text/plain": [
       "0.14"
      ]
     },
     "execution_count": 45,
     "metadata": {},
     "output_type": "execute_result"
    }
   ],
   "source": [
    "rf = RandomForestClassifier(100, min_samples_leaf=5)\n",
    "rf.fit(trn_xs, trn_y);\n",
    "mean_absolute_error(val_y, rf.predict(val_xs))"
   ]
  },
  {
   "attachments": {},
   "cell_type": "markdown",
   "metadata": {},
   "source": [
    "Podemos ver a seguir a importância de cada coluna para a inferência:"
   ]
  },
  {
   "cell_type": "code",
   "execution_count": 25,
   "metadata": {},
   "outputs": [
    {
     "data": {
      "image/png": "[encoded data removed]",
      "text/plain": [
       "<Figure size 640x480 with 1 Axes>"
      ]
     },
     "metadata": {},
     "output_type": "display_data"
    }
   ],
   "source": [
    "pd.DataFrame(dict(cols=trn_xs.columns, imp=m.feature_importances_)).plot('cols', 'imp', 'barh');"
   ]
  },
  {
   "attachments": {},
   "cell_type": "markdown",
   "metadata": {},
   "source": [
    "### 4.5 Hugging Face"
   ]
  },
  {
   "attachments": {},
   "cell_type": "markdown",
   "metadata": {},
   "source": [
    "Para exportar o modelo para o Hugging Face, precisamos fazer alguns ajustes.\n",
    "\n",
    "Primeiramente vamos ver o nosso `val_xs` que é usado nas predições:"
   ]
  },
  {
   "cell_type": "code",
   "execution_count": 51,
   "metadata": {},
   "outputs": [
    {
     "data": {
      "text/html": [
       "<div>\n",
       "<style scoped>\n",
       "    .dataframe tbody tr th:only-of-type {\n",
       "        vertical-align: middle;\n",
       "    }\n",
       "\n",
       "    .dataframe tbody tr th {\n",
       "        vertical-align: top;\n",
       "    }\n",
       "\n",
       "    .dataframe thead th {\n",
       "        text-align: right;\n",
       "    }\n",
       "</style>\n",
       "<table border=\"1\" class=\"dataframe\">\n",
       "  <thead>\n",
       "    <tr style=\"text-align: right;\">\n",
       "      <th></th>\n",
       "      <th>Aged_18_to_38</th>\n",
       "      <th>LogSalary</th>\n",
       "    </tr>\n",
       "  </thead>\n",
       "  <tbody>\n",
       "    <tr>\n",
       "      <th>136</th>\n",
       "      <td>1</td>\n",
       "      <td>11.314487</td>\n",
       "    </tr>\n",
       "    <tr>\n",
       "      <th>59</th>\n",
       "      <td>1</td>\n",
       "      <td>11.669938</td>\n",
       "    </tr>\n",
       "    <tr>\n",
       "      <th>280</th>\n",
       "      <td>0</td>\n",
       "      <td>11.385103</td>\n",
       "    </tr>\n",
       "    <tr>\n",
       "      <th>371</th>\n",
       "      <td>0</td>\n",
       "      <td>11.326608</td>\n",
       "    </tr>\n",
       "    <tr>\n",
       "      <th>32</th>\n",
       "      <td>1</td>\n",
       "      <td>9.680406</td>\n",
       "    </tr>\n",
       "    <tr>\n",
       "      <th>...</th>\n",
       "      <td>...</td>\n",
       "      <td>...</td>\n",
       "    </tr>\n",
       "    <tr>\n",
       "      <th>368</th>\n",
       "      <td>1</td>\n",
       "      <td>11.170449</td>\n",
       "    </tr>\n",
       "    <tr>\n",
       "      <th>20</th>\n",
       "      <td>0</td>\n",
       "      <td>9.998843</td>\n",
       "    </tr>\n",
       "    <tr>\n",
       "      <th>208</th>\n",
       "      <td>0</td>\n",
       "      <td>11.863589</td>\n",
       "    </tr>\n",
       "    <tr>\n",
       "      <th>328</th>\n",
       "      <td>1</td>\n",
       "      <td>11.678448</td>\n",
       "    </tr>\n",
       "    <tr>\n",
       "      <th>215</th>\n",
       "      <td>0</td>\n",
       "      <td>11.589896</td>\n",
       "    </tr>\n",
       "  </tbody>\n",
       "</table>\n",
       "<p>100 rows × 2 columns</p>\n",
       "</div>"
      ],
      "text/plain": [
       "     Aged_18_to_38  LogSalary\n",
       "136              1  11.314487\n",
       "59               1  11.669938\n",
       "280              0  11.385103\n",
       "371              0  11.326608\n",
       "32               1   9.680406\n",
       "..             ...        ...\n",
       "368              1  11.170449\n",
       "20               0   9.998843\n",
       "208              0  11.863589\n",
       "328              1  11.678448\n",
       "215              0  11.589896\n",
       "\n",
       "[100 rows x 2 columns]"
      ]
     },
     "execution_count": 51,
     "metadata": {},
     "output_type": "execute_result"
    }
   ],
   "source": [
    "val_xs"
   ]
  },
  {
   "attachments": {},
   "cell_type": "markdown",
   "metadata": {},
   "source": [
    "Vamos criar um DataFrame de exemplo com os dados que precisamos para uma inferência, e fazer as alterações necessárias nele:"
   ]
  },
  {
   "cell_type": "code",
   "execution_count": 89,
   "metadata": {},
   "outputs": [],
   "source": [
    "info = {\n",
    "    'Age': [60,22,39],\n",
    "    'Salary': [100000,60000,90000]\n",
    "}\n",
    "\n",
    "def prep_data(dataframe):\n",
    "    dataframe['Aged_18_to_38'] = dataframe['Age'].between(18,38)\n",
    "    dataframe['Aged_18_to_38'] = dataframe['Aged_18_to_38'].astype(int)\n",
    "    dataframe['LogSalary'] = np.log(dataframe['Salary']+1)\n",
    "    dataframe.drop(['Age', 'Salary'], axis=1 ,inplace=True)\n",
    "\n",
    "test = pd.DataFrame(info)\n"
   ]
  },
  {
   "cell_type": "code",
   "execution_count": 86,
   "metadata": {},
   "outputs": [
    {
     "data": {
      "text/html": [
       "<div>\n",
       "<style scoped>\n",
       "    .dataframe tbody tr th:only-of-type {\n",
       "        vertical-align: middle;\n",
       "    }\n",
       "\n",
       "    .dataframe tbody tr th {\n",
       "        vertical-align: top;\n",
       "    }\n",
       "\n",
       "    .dataframe thead th {\n",
       "        text-align: right;\n",
       "    }\n",
       "</style>\n",
       "<table border=\"1\" class=\"dataframe\">\n",
       "  <thead>\n",
       "    <tr style=\"text-align: right;\">\n",
       "      <th></th>\n",
       "      <th>Age</th>\n",
       "      <th>Salary</th>\n",
       "    </tr>\n",
       "  </thead>\n",
       "  <tbody>\n",
       "    <tr>\n",
       "      <th>0</th>\n",
       "      <td>60</td>\n",
       "      <td>100000</td>\n",
       "    </tr>\n",
       "    <tr>\n",
       "      <th>1</th>\n",
       "      <td>22</td>\n",
       "      <td>60000</td>\n",
       "    </tr>\n",
       "    <tr>\n",
       "      <th>2</th>\n",
       "      <td>39</td>\n",
       "      <td>60000</td>\n",
       "    </tr>\n",
       "  </tbody>\n",
       "</table>\n",
       "</div>"
      ],
      "text/plain": [
       "   Age  Salary\n",
       "0   60  100000\n",
       "1   22   60000\n",
       "2   39   60000"
      ]
     },
     "execution_count": 86,
     "metadata": {},
     "output_type": "execute_result"
    }
   ],
   "source": [
    "test.head()"
   ]
  },
  {
   "cell_type": "code",
   "execution_count": 90,
   "metadata": {},
   "outputs": [
    {
     "data": {
      "text/html": [
       "<div>\n",
       "<style scoped>\n",
       "    .dataframe tbody tr th:only-of-type {\n",
       "        vertical-align: middle;\n",
       "    }\n",
       "\n",
       "    .dataframe tbody tr th {\n",
       "        vertical-align: top;\n",
       "    }\n",
       "\n",
       "    .dataframe thead th {\n",
       "        text-align: right;\n",
       "    }\n",
       "</style>\n",
       "<table border=\"1\" class=\"dataframe\">\n",
       "  <thead>\n",
       "    <tr style=\"text-align: right;\">\n",
       "      <th></th>\n",
       "      <th>Aged_18_to_38</th>\n",
       "      <th>LogSalary</th>\n",
       "    </tr>\n",
       "  </thead>\n",
       "  <tbody>\n",
       "    <tr>\n",
       "      <th>0</th>\n",
       "      <td>0</td>\n",
       "      <td>11.512935</td>\n",
       "    </tr>\n",
       "    <tr>\n",
       "      <th>1</th>\n",
       "      <td>1</td>\n",
       "      <td>11.002117</td>\n",
       "    </tr>\n",
       "    <tr>\n",
       "      <th>2</th>\n",
       "      <td>0</td>\n",
       "      <td>11.407576</td>\n",
       "    </tr>\n",
       "  </tbody>\n",
       "</table>\n",
       "</div>"
      ],
      "text/plain": [
       "   Aged_18_to_38  LogSalary\n",
       "0              0  11.512935\n",
       "1              1  11.002117\n",
       "2              0  11.407576"
      ]
     },
     "execution_count": 90,
     "metadata": {},
     "output_type": "execute_result"
    }
   ],
   "source": [
    "prep_data(test)\n",
    "test.head()"
   ]
  },
  {
   "attachments": {},
   "cell_type": "markdown",
   "metadata": {},
   "source": [
    "Vamos então realizar a inferência para nossos valores de exemplo:"
   ]
  },
  {
   "cell_type": "code",
   "execution_count": 91,
   "metadata": {},
   "outputs": [
    {
     "name": "stdout",
     "output_type": "stream",
     "text": [
      "[1 0 1]\n"
     ]
    }
   ],
   "source": [
    "print(rf.predict(test))"
   ]
  },
  {
   "attachments": {},
   "cell_type": "markdown",
   "metadata": {},
   "source": [
    "Tudo certo. Agora é só exportar o arquivo `.pickle` com nosso modelo, passar o código acima para o `app.py`."
   ]
  },
  {
   "cell_type": "code",
   "execution_count": 46,
   "metadata": {},
   "outputs": [],
   "source": [
    "pickle.dump(rf, open('classifier.pickle', 'wb'))"
   ]
  },
  {
   "attachments": {},
   "cell_type": "markdown",
   "metadata": {},
   "source": [
    "Link para a página do [HuggingFace](https://huggingface.co/spaces/vnsrz/artigo6).\n",
    "\n",
    "<img src=\"assets/hgface.png\" alt=\"\" width=\"800\" /><br>"
   ]
  },
  {
   "attachments": {},
   "cell_type": "markdown",
   "metadata": {},
   "source": [
    "### App.py"
   ]
  },
  {
   "attachments": {},
   "cell_type": "markdown",
   "metadata": {},
   "source": [
    "```python\n",
    "import numpy as np, pandas as pd\n",
    "import gradio as gr\n",
    "import pickle\n",
    "\n",
    "def prep_data(dataframe):\n",
    "    dataframe['Aged_18_to_38'] = dataframe['Age'].between(18,38)\n",
    "    dataframe['Aged_18_to_38'] = dataframe['Aged_18_to_38'].astype(int)\n",
    "    dataframe['LogSalary'] = np.log(dataframe['Salary']+1)\n",
    "    dataframe.drop(['Age', 'Salary'], axis=1 ,inplace=True)\n",
    "\n",
    "def classify(age, salary):\n",
    "    info = {\n",
    "        'Age': [age,],\n",
    "        'Salary': [salary,]\n",
    "    }\n",
    "    df = pd.DataFrame(info)\n",
    "    prep_data(df)\n",
    "    pred = learn.predict(df)\n",
    "    if pred[0]:\n",
    "        return 'Purchased'\n",
    "    else:\n",
    "        return 'Didn\\'t purchase'\n",
    "\n",
    "with open('classifier.pickle', 'rb') as file:\n",
    "    learn = pickle.load(file)\n",
    "\n",
    "examples = [[22, 60_000],[60, 100_000],[39, 90_000]]\n",
    "description ='Random forest that predicts if a user has bought a product or not by viewing the social ads of the product, given his age and estimated salary.'\n",
    "\n",
    "intf = gr.Interface(fn=classify, inputs=['number', 'number'], outputs=['text'], description=description, examples=examples)\n",
    "intf.launch(inline=False)\n",
    "\n",
    "```"
   ]
  },
  {
   "attachments": {},
   "cell_type": "markdown",
   "metadata": {},
   "source": [
    "## 5. Conclusão\n",
    "\n",
    "Achei muito interessante o conceito de Random Forests, que parte de um princípio simples, realizar uma inferência com base em 1 informação, e se torna um modelo viável sem muita complexidade de entendimento.\n",
    "\n",
    "As bibliotecas usadas para gerar gráficos foram muito importantes para dar uma compreensão maior dos dados que estão sendo utilizados. "
   ]
  }
 ],
 "metadata": {
  "kernelspec": {
   "display_name": "Python 3",
   "language": "python",
   "name": "python3"
  },
  "language_info": {
   "codemirror_mode": {
    "name": "ipython",
    "version": 3
   },
   "file_extension": ".py",
   "mimetype": "text/x-python",
   "name": "python",
   "nbconvert_exporter": "python",
   "pygments_lexer": "ipython3",
   "version": "3.8.10 (default, Jun 22 2022, 20:18:18) \n[GCC 9.4.0]"
  },
  "orig_nbformat": 4,
  "vscode": {
   "interpreter": {
    "hash": "916dbcbb3f70747c44a77c7bcd40155683ae19c65e1c03b4aa3499c5328201f1"
   }
  }
 },
 "nbformat": 4,
 "nbformat_minor": 2
}
