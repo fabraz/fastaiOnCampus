{
 "cells": [
  {
   "cell_type": "code",
   "execution_count": 59,
   "metadata": {},
   "outputs": [],
   "source": [
    "from fastai.data.transforms import RandomSplitter\n",
    "from pathlib import Path\n",
    "from torch import tensor\n",
    "import zipfile, kaggle, torch\n",
    "import numpy as np, pandas as pd\n",
    "import sympy\n",
    "import torch.nn.functional as F"
   ]
  },
  {
   "cell_type": "code",
   "execution_count": 4,
   "metadata": {},
   "outputs": [],
   "source": [
    "np.set_printoptions(linewidth=140)\n",
    "torch.set_printoptions(linewidth=140, sci_mode=False, edgeitems=7)\n",
    "pd.set_option('display.width', 140)"
   ]
  },
  {
   "attachments": {},
   "cell_type": "markdown",
   "metadata": {},
   "source": [
    "# Artigo 5 - Modelo linear e rede neural do zero"
   ]
  },
  {
   "attachments": {},
   "cell_type": "markdown",
   "metadata": {},
   "source": [
    "## 1. Introdução\n",
    "\n",
    "Na aula 3 vimos como as redes neurais funcionam em seu nível mais baixo, e agora na aula 5 colocaremos o conhecimento em prática, criando uma rede neural do zero."
   ]
  },
  {
   "attachments": {},
   "cell_type": "markdown",
   "metadata": {},
   "source": [
    "## 2. Objetivo\n",
    "\n",
    "Criar uma rede neural do zero, utilizando as bibliotecas `Pytorch`, `numpy` e `pandas`."
   ]
  },
  {
   "attachments": {},
   "cell_type": "markdown",
   "metadata": {},
   "source": [
    "## 3. Inspiração\n",
    "\n",
    "Nesse artigo será usado o dataset da competição [Spaceship Titanic](https://www.kaggle.com/competitions/spaceship-titanic/overview), que propõe a criação de um modelo capaz de identificar se um passageiro da espaçonave Titanic foi transportado para outra dimensão por um acidente. \n",
    "\n",
    "<img src=\"assets/desc.png\" alt=\"\" width=\"600\" /><br>"
   ]
  },
  {
   "attachments": {},
   "cell_type": "markdown",
   "metadata": {},
   "source": [
    "## 4. Execução\n",
    "### 4.1 Limpando os dados\n",
    "\n",
    "Primeiramente vamos baixar o dataset do Kaggle e extraí-lo:"
   ]
  },
  {
   "cell_type": "code",
   "execution_count": 5,
   "metadata": {},
   "outputs": [],
   "source": [
    "path = Path('spaceship-titanic')\n",
    "if not path.exists():\n",
    "    kaggle.api.competition_download_cli(str(path))\n",
    "    zipfile.ZipFile(f'{path}.zip').extractall(path)"
   ]
  },
  {
   "attachments": {},
   "cell_type": "markdown",
   "metadata": {},
   "source": [
    "Podemos então criar e abrir o dataset de treino para visualizar as colunas e valores com que vamos trabalhar"
   ]
  },
  {
   "cell_type": "code",
   "execution_count": 6,
   "metadata": {},
   "outputs": [
    {
     "data": {
      "text/html": [
       "<div>\n",
       "<style scoped>\n",
       "    .dataframe tbody tr th:only-of-type {\n",
       "        vertical-align: middle;\n",
       "    }\n",
       "\n",
       "    .dataframe tbody tr th {\n",
       "        vertical-align: top;\n",
       "    }\n",
       "\n",
       "    .dataframe thead th {\n",
       "        text-align: right;\n",
       "    }\n",
       "</style>\n",
       "<table border=\"1\" class=\"dataframe\">\n",
       "  <thead>\n",
       "    <tr style=\"text-align: right;\">\n",
       "      <th></th>\n",
       "      <th>PassengerId</th>\n",
       "      <th>HomePlanet</th>\n",
       "      <th>CryoSleep</th>\n",
       "      <th>Cabin</th>\n",
       "      <th>Destination</th>\n",
       "      <th>Age</th>\n",
       "      <th>VIP</th>\n",
       "      <th>RoomService</th>\n",
       "      <th>FoodCourt</th>\n",
       "      <th>ShoppingMall</th>\n",
       "      <th>Spa</th>\n",
       "      <th>VRDeck</th>\n",
       "      <th>Name</th>\n",
       "      <th>Transported</th>\n",
       "    </tr>\n",
       "  </thead>\n",
       "  <tbody>\n",
       "    <tr>\n",
       "      <th>0</th>\n",
       "      <td>0001_01</td>\n",
       "      <td>Europa</td>\n",
       "      <td>False</td>\n",
       "      <td>B/0/P</td>\n",
       "      <td>TRAPPIST-1e</td>\n",
       "      <td>39.0</td>\n",
       "      <td>False</td>\n",
       "      <td>0.0</td>\n",
       "      <td>0.0</td>\n",
       "      <td>0.0</td>\n",
       "      <td>0.0</td>\n",
       "      <td>0.0</td>\n",
       "      <td>Maham Ofracculy</td>\n",
       "      <td>False</td>\n",
       "    </tr>\n",
       "    <tr>\n",
       "      <th>1</th>\n",
       "      <td>0002_01</td>\n",
       "      <td>Earth</td>\n",
       "      <td>False</td>\n",
       "      <td>F/0/S</td>\n",
       "      <td>TRAPPIST-1e</td>\n",
       "      <td>24.0</td>\n",
       "      <td>False</td>\n",
       "      <td>109.0</td>\n",
       "      <td>9.0</td>\n",
       "      <td>25.0</td>\n",
       "      <td>549.0</td>\n",
       "      <td>44.0</td>\n",
       "      <td>Juanna Vines</td>\n",
       "      <td>True</td>\n",
       "    </tr>\n",
       "    <tr>\n",
       "      <th>2</th>\n",
       "      <td>0003_01</td>\n",
       "      <td>Europa</td>\n",
       "      <td>False</td>\n",
       "      <td>A/0/S</td>\n",
       "      <td>TRAPPIST-1e</td>\n",
       "      <td>58.0</td>\n",
       "      <td>True</td>\n",
       "      <td>43.0</td>\n",
       "      <td>3576.0</td>\n",
       "      <td>0.0</td>\n",
       "      <td>6715.0</td>\n",
       "      <td>49.0</td>\n",
       "      <td>Altark Susent</td>\n",
       "      <td>False</td>\n",
       "    </tr>\n",
       "    <tr>\n",
       "      <th>3</th>\n",
       "      <td>0003_02</td>\n",
       "      <td>Europa</td>\n",
       "      <td>False</td>\n",
       "      <td>A/0/S</td>\n",
       "      <td>TRAPPIST-1e</td>\n",
       "      <td>33.0</td>\n",
       "      <td>False</td>\n",
       "      <td>0.0</td>\n",
       "      <td>1283.0</td>\n",
       "      <td>371.0</td>\n",
       "      <td>3329.0</td>\n",
       "      <td>193.0</td>\n",
       "      <td>Solam Susent</td>\n",
       "      <td>False</td>\n",
       "    </tr>\n",
       "    <tr>\n",
       "      <th>4</th>\n",
       "      <td>0004_01</td>\n",
       "      <td>Earth</td>\n",
       "      <td>False</td>\n",
       "      <td>F/1/S</td>\n",
       "      <td>TRAPPIST-1e</td>\n",
       "      <td>16.0</td>\n",
       "      <td>False</td>\n",
       "      <td>303.0</td>\n",
       "      <td>70.0</td>\n",
       "      <td>151.0</td>\n",
       "      <td>565.0</td>\n",
       "      <td>2.0</td>\n",
       "      <td>Willy Santantines</td>\n",
       "      <td>True</td>\n",
       "    </tr>\n",
       "    <tr>\n",
       "      <th>...</th>\n",
       "      <td>...</td>\n",
       "      <td>...</td>\n",
       "      <td>...</td>\n",
       "      <td>...</td>\n",
       "      <td>...</td>\n",
       "      <td>...</td>\n",
       "      <td>...</td>\n",
       "      <td>...</td>\n",
       "      <td>...</td>\n",
       "      <td>...</td>\n",
       "      <td>...</td>\n",
       "      <td>...</td>\n",
       "      <td>...</td>\n",
       "      <td>...</td>\n",
       "    </tr>\n",
       "    <tr>\n",
       "      <th>8688</th>\n",
       "      <td>9276_01</td>\n",
       "      <td>Europa</td>\n",
       "      <td>False</td>\n",
       "      <td>A/98/P</td>\n",
       "      <td>55 Cancri e</td>\n",
       "      <td>41.0</td>\n",
       "      <td>True</td>\n",
       "      <td>0.0</td>\n",
       "      <td>6819.0</td>\n",
       "      <td>0.0</td>\n",
       "      <td>1643.0</td>\n",
       "      <td>74.0</td>\n",
       "      <td>Gravior Noxnuther</td>\n",
       "      <td>False</td>\n",
       "    </tr>\n",
       "    <tr>\n",
       "      <th>8689</th>\n",
       "      <td>9278_01</td>\n",
       "      <td>Earth</td>\n",
       "      <td>True</td>\n",
       "      <td>G/1499/S</td>\n",
       "      <td>PSO J318.5-22</td>\n",
       "      <td>18.0</td>\n",
       "      <td>False</td>\n",
       "      <td>0.0</td>\n",
       "      <td>0.0</td>\n",
       "      <td>0.0</td>\n",
       "      <td>0.0</td>\n",
       "      <td>0.0</td>\n",
       "      <td>Kurta Mondalley</td>\n",
       "      <td>False</td>\n",
       "    </tr>\n",
       "    <tr>\n",
       "      <th>8690</th>\n",
       "      <td>9279_01</td>\n",
       "      <td>Earth</td>\n",
       "      <td>False</td>\n",
       "      <td>G/1500/S</td>\n",
       "      <td>TRAPPIST-1e</td>\n",
       "      <td>26.0</td>\n",
       "      <td>False</td>\n",
       "      <td>0.0</td>\n",
       "      <td>0.0</td>\n",
       "      <td>1872.0</td>\n",
       "      <td>1.0</td>\n",
       "      <td>0.0</td>\n",
       "      <td>Fayey Connon</td>\n",
       "      <td>True</td>\n",
       "    </tr>\n",
       "    <tr>\n",
       "      <th>8691</th>\n",
       "      <td>9280_01</td>\n",
       "      <td>Europa</td>\n",
       "      <td>False</td>\n",
       "      <td>E/608/S</td>\n",
       "      <td>55 Cancri e</td>\n",
       "      <td>32.0</td>\n",
       "      <td>False</td>\n",
       "      <td>0.0</td>\n",
       "      <td>1049.0</td>\n",
       "      <td>0.0</td>\n",
       "      <td>353.0</td>\n",
       "      <td>3235.0</td>\n",
       "      <td>Celeon Hontichre</td>\n",
       "      <td>False</td>\n",
       "    </tr>\n",
       "    <tr>\n",
       "      <th>8692</th>\n",
       "      <td>9280_02</td>\n",
       "      <td>Europa</td>\n",
       "      <td>False</td>\n",
       "      <td>E/608/S</td>\n",
       "      <td>TRAPPIST-1e</td>\n",
       "      <td>44.0</td>\n",
       "      <td>False</td>\n",
       "      <td>126.0</td>\n",
       "      <td>4688.0</td>\n",
       "      <td>0.0</td>\n",
       "      <td>0.0</td>\n",
       "      <td>12.0</td>\n",
       "      <td>Propsh Hontichre</td>\n",
       "      <td>True</td>\n",
       "    </tr>\n",
       "  </tbody>\n",
       "</table>\n",
       "<p>8693 rows × 14 columns</p>\n",
       "</div>"
      ],
      "text/plain": [
       "     PassengerId HomePlanet CryoSleep     Cabin    Destination   Age    VIP  RoomService  FoodCourt  ShoppingMall     Spa  VRDeck  \\\n",
       "0        0001_01     Europa     False     B/0/P    TRAPPIST-1e  39.0  False          0.0        0.0           0.0     0.0     0.0   \n",
       "1        0002_01      Earth     False     F/0/S    TRAPPIST-1e  24.0  False        109.0        9.0          25.0   549.0    44.0   \n",
       "2        0003_01     Europa     False     A/0/S    TRAPPIST-1e  58.0   True         43.0     3576.0           0.0  6715.0    49.0   \n",
       "3        0003_02     Europa     False     A/0/S    TRAPPIST-1e  33.0  False          0.0     1283.0         371.0  3329.0   193.0   \n",
       "4        0004_01      Earth     False     F/1/S    TRAPPIST-1e  16.0  False        303.0       70.0         151.0   565.0     2.0   \n",
       "...          ...        ...       ...       ...            ...   ...    ...          ...        ...           ...     ...     ...   \n",
       "8688     9276_01     Europa     False    A/98/P    55 Cancri e  41.0   True          0.0     6819.0           0.0  1643.0    74.0   \n",
       "8689     9278_01      Earth      True  G/1499/S  PSO J318.5-22  18.0  False          0.0        0.0           0.0     0.0     0.0   \n",
       "8690     9279_01      Earth     False  G/1500/S    TRAPPIST-1e  26.0  False          0.0        0.0        1872.0     1.0     0.0   \n",
       "8691     9280_01     Europa     False   E/608/S    55 Cancri e  32.0  False          0.0     1049.0           0.0   353.0  3235.0   \n",
       "8692     9280_02     Europa     False   E/608/S    TRAPPIST-1e  44.0  False        126.0     4688.0           0.0     0.0    12.0   \n",
       "\n",
       "                   Name  Transported  \n",
       "0       Maham Ofracculy        False  \n",
       "1          Juanna Vines         True  \n",
       "2         Altark Susent        False  \n",
       "3          Solam Susent        False  \n",
       "4     Willy Santantines         True  \n",
       "...                 ...          ...  \n",
       "8688  Gravior Noxnuther        False  \n",
       "8689    Kurta Mondalley        False  \n",
       "8690       Fayey Connon         True  \n",
       "8691   Celeon Hontichre        False  \n",
       "8692   Propsh Hontichre         True  \n",
       "\n",
       "[8693 rows x 14 columns]"
      ]
     },
     "execution_count": 6,
     "metadata": {},
     "output_type": "execute_result"
    }
   ],
   "source": [
    "df = pd.read_csv(path/'train.csv')\n",
    "df"
   ]
  },
  {
   "attachments": {},
   "cell_type": "markdown",
   "metadata": {},
   "source": [
    "Não podemos trabalhar com valores que não existem, então vamos checar se a tabela possui valores **NaN** (*not a number*):"
   ]
  },
  {
   "cell_type": "code",
   "execution_count": 7,
   "metadata": {},
   "outputs": [
    {
     "data": {
      "text/plain": [
       "PassengerId       0\n",
       "HomePlanet      201\n",
       "CryoSleep       217\n",
       "Cabin           199\n",
       "Destination     182\n",
       "Age             179\n",
       "VIP             203\n",
       "RoomService     181\n",
       "FoodCourt       183\n",
       "ShoppingMall    208\n",
       "Spa             183\n",
       "VRDeck          188\n",
       "Name            200\n",
       "Transported       0\n",
       "dtype: int64"
      ]
     },
     "execution_count": 7,
     "metadata": {},
     "output_type": "execute_result"
    }
   ],
   "source": [
    "df.isna().sum()"
   ]
  },
  {
   "attachments": {},
   "cell_type": "markdown",
   "metadata": {},
   "source": [
    "O número na direita é a quantidade de valores **NaN** para cada coluna, para removê-los podemos tirar a moda entre os valores daquela coluna e usar o resultado para preencher o campo **NaN**."
   ]
  },
  {
   "cell_type": "code",
   "execution_count": 8,
   "metadata": {},
   "outputs": [
    {
     "data": {
      "text/plain": [
       "PassengerId                0001_01\n",
       "HomePlanet                   Earth\n",
       "CryoSleep                    False\n",
       "Cabin                      G/734/S\n",
       "Destination            TRAPPIST-1e\n",
       "Age                           24.0\n",
       "VIP                          False\n",
       "RoomService                    0.0\n",
       "FoodCourt                      0.0\n",
       "ShoppingMall                   0.0\n",
       "Spa                            0.0\n",
       "VRDeck                         0.0\n",
       "Name            Alraium Disivering\n",
       "Transported                   True\n",
       "Name: 0, dtype: object"
      ]
     },
     "execution_count": 8,
     "metadata": {},
     "output_type": "execute_result"
    }
   ],
   "source": [
    "modes = df.mode().iloc[0]\n",
    "modes"
   ]
  },
  {
   "cell_type": "code",
   "execution_count": 9,
   "metadata": {},
   "outputs": [
    {
     "data": {
      "text/plain": [
       "PassengerId     0\n",
       "HomePlanet      0\n",
       "CryoSleep       0\n",
       "Cabin           0\n",
       "Destination     0\n",
       "Age             0\n",
       "VIP             0\n",
       "RoomService     0\n",
       "FoodCourt       0\n",
       "ShoppingMall    0\n",
       "Spa             0\n",
       "VRDeck          0\n",
       "Name            0\n",
       "Transported     0\n",
       "dtype: int64"
      ]
     },
     "execution_count": 9,
     "metadata": {},
     "output_type": "execute_result"
    }
   ],
   "source": [
    "df.fillna(modes, inplace=True)\n",
    "df.isna().sum()"
   ]
  },
  {
   "attachments": {},
   "cell_type": "markdown",
   "metadata": {},
   "source": [
    "Vamos checar as colunas com valores numéricos:"
   ]
  },
  {
   "cell_type": "code",
   "execution_count": 10,
   "metadata": {},
   "outputs": [
    {
     "data": {
      "text/html": [
       "<div>\n",
       "<style scoped>\n",
       "    .dataframe tbody tr th:only-of-type {\n",
       "        vertical-align: middle;\n",
       "    }\n",
       "\n",
       "    .dataframe tbody tr th {\n",
       "        vertical-align: top;\n",
       "    }\n",
       "\n",
       "    .dataframe thead th {\n",
       "        text-align: right;\n",
       "    }\n",
       "</style>\n",
       "<table border=\"1\" class=\"dataframe\">\n",
       "  <thead>\n",
       "    <tr style=\"text-align: right;\">\n",
       "      <th></th>\n",
       "      <th>Age</th>\n",
       "      <th>RoomService</th>\n",
       "      <th>FoodCourt</th>\n",
       "      <th>ShoppingMall</th>\n",
       "      <th>Spa</th>\n",
       "      <th>VRDeck</th>\n",
       "    </tr>\n",
       "  </thead>\n",
       "  <tbody>\n",
       "    <tr>\n",
       "      <th>count</th>\n",
       "      <td>8693.000000</td>\n",
       "      <td>8693.000000</td>\n",
       "      <td>8693.000000</td>\n",
       "      <td>8693.000000</td>\n",
       "      <td>8693.000000</td>\n",
       "      <td>8693.000000</td>\n",
       "    </tr>\n",
       "    <tr>\n",
       "      <th>mean</th>\n",
       "      <td>28.728517</td>\n",
       "      <td>220.009318</td>\n",
       "      <td>448.434027</td>\n",
       "      <td>169.572300</td>\n",
       "      <td>304.588865</td>\n",
       "      <td>298.261820</td>\n",
       "    </tr>\n",
       "    <tr>\n",
       "      <th>std</th>\n",
       "      <td>14.355438</td>\n",
       "      <td>660.519050</td>\n",
       "      <td>1595.790627</td>\n",
       "      <td>598.007164</td>\n",
       "      <td>1125.562559</td>\n",
       "      <td>1134.126417</td>\n",
       "    </tr>\n",
       "    <tr>\n",
       "      <th>min</th>\n",
       "      <td>0.000000</td>\n",
       "      <td>0.000000</td>\n",
       "      <td>0.000000</td>\n",
       "      <td>0.000000</td>\n",
       "      <td>0.000000</td>\n",
       "      <td>0.000000</td>\n",
       "    </tr>\n",
       "    <tr>\n",
       "      <th>25%</th>\n",
       "      <td>20.000000</td>\n",
       "      <td>0.000000</td>\n",
       "      <td>0.000000</td>\n",
       "      <td>0.000000</td>\n",
       "      <td>0.000000</td>\n",
       "      <td>0.000000</td>\n",
       "    </tr>\n",
       "    <tr>\n",
       "      <th>50%</th>\n",
       "      <td>27.000000</td>\n",
       "      <td>0.000000</td>\n",
       "      <td>0.000000</td>\n",
       "      <td>0.000000</td>\n",
       "      <td>0.000000</td>\n",
       "      <td>0.000000</td>\n",
       "    </tr>\n",
       "    <tr>\n",
       "      <th>75%</th>\n",
       "      <td>37.000000</td>\n",
       "      <td>41.000000</td>\n",
       "      <td>61.000000</td>\n",
       "      <td>22.000000</td>\n",
       "      <td>53.000000</td>\n",
       "      <td>40.000000</td>\n",
       "    </tr>\n",
       "    <tr>\n",
       "      <th>max</th>\n",
       "      <td>79.000000</td>\n",
       "      <td>14327.000000</td>\n",
       "      <td>29813.000000</td>\n",
       "      <td>23492.000000</td>\n",
       "      <td>22408.000000</td>\n",
       "      <td>24133.000000</td>\n",
       "    </tr>\n",
       "  </tbody>\n",
       "</table>\n",
       "</div>"
      ],
      "text/plain": [
       "               Age   RoomService     FoodCourt  ShoppingMall           Spa        VRDeck\n",
       "count  8693.000000   8693.000000   8693.000000   8693.000000   8693.000000   8693.000000\n",
       "mean     28.728517    220.009318    448.434027    169.572300    304.588865    298.261820\n",
       "std      14.355438    660.519050   1595.790627    598.007164   1125.562559   1134.126417\n",
       "min       0.000000      0.000000      0.000000      0.000000      0.000000      0.000000\n",
       "25%      20.000000      0.000000      0.000000      0.000000      0.000000      0.000000\n",
       "50%      27.000000      0.000000      0.000000      0.000000      0.000000      0.000000\n",
       "75%      37.000000     41.000000     61.000000     22.000000     53.000000     40.000000\n",
       "max      79.000000  14327.000000  29813.000000  23492.000000  22408.000000  24133.000000"
      ]
     },
     "execution_count": 10,
     "metadata": {},
     "output_type": "execute_result"
    }
   ],
   "source": [
    "df.describe(include=(np.number))"
   ]
  },
  {
   "attachments": {},
   "cell_type": "markdown",
   "metadata": {},
   "source": [
    "Temos algumas colunas que representam a quantidade de dinheiro gasta em diversos serviços da espaçonave, mas certos valores são extremamente maiores do que os outros, e como a coluna vai ser multiplicada por um coeficiente, as linhas com valores muito altos vão dominar o resultado. Veja no histograma a seguir: "
   ]
  },
  {
   "cell_type": "code",
   "execution_count": 11,
   "metadata": {},
   "outputs": [
    {
     "data": {
      "image/png": "[encoded data removed]",
      "text/plain": [
       "<Figure size 640x480 with 1 Axes>"
      ]
     },
     "metadata": {},
     "output_type": "display_data"
    }
   ],
   "source": [
    "df['RoomService'].hist();"
   ]
  },
  {
   "attachments": {},
   "cell_type": "markdown",
   "metadata": {},
   "source": [
    "A grande maioria dos valores está entre 0 e 2000, mas existem valores que chegam a 14000. Para mitigar esse problema, podemos usar a função logaritmica para reduzir os números maiores:"
   ]
  },
  {
   "cell_type": "code",
   "execution_count": 12,
   "metadata": {},
   "outputs": [],
   "source": [
    "df['LogRoomService'] = np.log(df['RoomService']+1)\n",
    "df['LogFoodCourt'] = np.log(df['FoodCourt']+1)\n",
    "df['LogShoppingMall'] = np.log(df['ShoppingMall']+1)\n",
    "df['LogSpa'] = np.log(df['Spa']+1)\n",
    "df['LogVRDeck'] = np.log(df['VRDeck']+1)\n",
    "\n",
    "log_colums = ['LogRoomService', 'LogFoodCourt', 'LogShoppingMall', 'LogSpa', 'LogVRDeck']"
   ]
  },
  {
   "cell_type": "code",
   "execution_count": 13,
   "metadata": {},
   "outputs": [
    {
     "data": {
      "image/png": "[encoded data removed]",
      "text/plain": [
       "<Figure size 640x480 with 1 Axes>"
      ]
     },
     "metadata": {},
     "output_type": "display_data"
    }
   ],
   "source": [
    "df['LogRoomService'].hist();"
   ]
  },
  {
   "attachments": {},
   "cell_type": "markdown",
   "metadata": {},
   "source": [
    "Nosso modelo precisa de números para multiplicar por coeficientes, então vamos transformar as colunas booleanas para int."
   ]
  },
  {
   "cell_type": "code",
   "execution_count": 14,
   "metadata": {},
   "outputs": [],
   "source": [
    "df['VIP'] = df['VIP'].astype(int)\n",
    "df['Transported'] = df['Transported'].astype(int)\n",
    "df['CryoSleep'] = df['CryoSleep'].astype(int)"
   ]
  },
  {
   "cell_type": "code",
   "execution_count": 15,
   "metadata": {},
   "outputs": [
    {
     "data": {
      "text/html": [
       "<div>\n",
       "<style scoped>\n",
       "    .dataframe tbody tr th:only-of-type {\n",
       "        vertical-align: middle;\n",
       "    }\n",
       "\n",
       "    .dataframe tbody tr th {\n",
       "        vertical-align: top;\n",
       "    }\n",
       "\n",
       "    .dataframe thead th {\n",
       "        text-align: right;\n",
       "    }\n",
       "</style>\n",
       "<table border=\"1\" class=\"dataframe\">\n",
       "  <thead>\n",
       "    <tr style=\"text-align: right;\">\n",
       "      <th></th>\n",
       "      <th>VIP</th>\n",
       "      <th>Transported</th>\n",
       "      <th>CryoSleep</th>\n",
       "    </tr>\n",
       "  </thead>\n",
       "  <tbody>\n",
       "    <tr>\n",
       "      <th>0</th>\n",
       "      <td>0</td>\n",
       "      <td>0</td>\n",
       "      <td>0</td>\n",
       "    </tr>\n",
       "    <tr>\n",
       "      <th>1</th>\n",
       "      <td>0</td>\n",
       "      <td>1</td>\n",
       "      <td>0</td>\n",
       "    </tr>\n",
       "    <tr>\n",
       "      <th>2</th>\n",
       "      <td>1</td>\n",
       "      <td>0</td>\n",
       "      <td>0</td>\n",
       "    </tr>\n",
       "    <tr>\n",
       "      <th>3</th>\n",
       "      <td>0</td>\n",
       "      <td>0</td>\n",
       "      <td>0</td>\n",
       "    </tr>\n",
       "    <tr>\n",
       "      <th>4</th>\n",
       "      <td>0</td>\n",
       "      <td>1</td>\n",
       "      <td>0</td>\n",
       "    </tr>\n",
       "  </tbody>\n",
       "</table>\n",
       "</div>"
      ],
      "text/plain": [
       "   VIP  Transported  CryoSleep\n",
       "0    0            0          0\n",
       "1    0            1          0\n",
       "2    1            0          0\n",
       "3    0            0          0\n",
       "4    0            1          0"
      ]
     },
     "execution_count": 15,
     "metadata": {},
     "output_type": "execute_result"
    }
   ],
   "source": [
    "df[['VIP','Transported','CryoSleep']].head()"
   ]
  },
  {
   "attachments": {},
   "cell_type": "markdown",
   "metadata": {},
   "source": [
    "Agora vejamos as colunas não-numéricas:"
   ]
  },
  {
   "cell_type": "code",
   "execution_count": 16,
   "metadata": {},
   "outputs": [
    {
     "data": {
      "text/html": [
       "<div>\n",
       "<style scoped>\n",
       "    .dataframe tbody tr th:only-of-type {\n",
       "        vertical-align: middle;\n",
       "    }\n",
       "\n",
       "    .dataframe tbody tr th {\n",
       "        vertical-align: top;\n",
       "    }\n",
       "\n",
       "    .dataframe thead th {\n",
       "        text-align: right;\n",
       "    }\n",
       "</style>\n",
       "<table border=\"1\" class=\"dataframe\">\n",
       "  <thead>\n",
       "    <tr style=\"text-align: right;\">\n",
       "      <th></th>\n",
       "      <th>PassengerId</th>\n",
       "      <th>HomePlanet</th>\n",
       "      <th>Cabin</th>\n",
       "      <th>Destination</th>\n",
       "      <th>Name</th>\n",
       "    </tr>\n",
       "  </thead>\n",
       "  <tbody>\n",
       "    <tr>\n",
       "      <th>count</th>\n",
       "      <td>8693</td>\n",
       "      <td>8693</td>\n",
       "      <td>8693</td>\n",
       "      <td>8693</td>\n",
       "      <td>8693</td>\n",
       "    </tr>\n",
       "    <tr>\n",
       "      <th>unique</th>\n",
       "      <td>8693</td>\n",
       "      <td>3</td>\n",
       "      <td>6560</td>\n",
       "      <td>3</td>\n",
       "      <td>8473</td>\n",
       "    </tr>\n",
       "    <tr>\n",
       "      <th>top</th>\n",
       "      <td>0001_01</td>\n",
       "      <td>Earth</td>\n",
       "      <td>G/734/S</td>\n",
       "      <td>TRAPPIST-1e</td>\n",
       "      <td>Alraium Disivering</td>\n",
       "    </tr>\n",
       "    <tr>\n",
       "      <th>freq</th>\n",
       "      <td>1</td>\n",
       "      <td>4803</td>\n",
       "      <td>207</td>\n",
       "      <td>6097</td>\n",
       "      <td>202</td>\n",
       "    </tr>\n",
       "  </tbody>\n",
       "</table>\n",
       "</div>"
      ],
      "text/plain": [
       "       PassengerId HomePlanet    Cabin  Destination                Name\n",
       "count         8693       8693     8693         8693                8693\n",
       "unique        8693          3     6560            3                8473\n",
       "top        0001_01      Earth  G/734/S  TRAPPIST-1e  Alraium Disivering\n",
       "freq             1       4803      207         6097                 202"
      ]
     },
     "execution_count": 16,
     "metadata": {},
     "output_type": "execute_result"
    }
   ],
   "source": [
    "df.describe(include=[object])"
   ]
  },
  {
   "attachments": {},
   "cell_type": "markdown",
   "metadata": {},
   "source": [
    "*HomePlanet* e *Destination* possuem apenas 3 valores possíveis, então podemos transformar cada um em sua própria coluna contendo 0 ou 1 para podermos utilizá-las."
   ]
  },
  {
   "cell_type": "code",
   "execution_count": 17,
   "metadata": {},
   "outputs": [
    {
     "data": {
      "text/plain": [
       "Index(['PassengerId', 'CryoSleep', 'Cabin', 'Age', 'VIP', 'RoomService', 'FoodCourt', 'ShoppingMall', 'Spa', 'VRDeck', 'Name',\n",
       "       'Transported', 'LogRoomService', 'LogFoodCourt', 'LogShoppingMall', 'LogSpa', 'LogVRDeck', 'HomePlanet_Earth', 'HomePlanet_Europa',\n",
       "       'HomePlanet_Mars', 'Destination_55 Cancri e', 'Destination_PSO J318.5-22', 'Destination_TRAPPIST-1e'],\n",
       "      dtype='object')"
      ]
     },
     "execution_count": 17,
     "metadata": {},
     "output_type": "execute_result"
    }
   ],
   "source": [
    "df = pd.get_dummies(df, columns=['HomePlanet','Destination'])\n",
    "df.columns"
   ]
  },
  {
   "attachments": {},
   "cell_type": "markdown",
   "metadata": {},
   "source": [
    "Vamos visualizar os valores nessas colunas:"
   ]
  },
  {
   "cell_type": "code",
   "execution_count": 18,
   "metadata": {},
   "outputs": [
    {
     "data": {
      "text/html": [
       "<div>\n",
       "<style scoped>\n",
       "    .dataframe tbody tr th:only-of-type {\n",
       "        vertical-align: middle;\n",
       "    }\n",
       "\n",
       "    .dataframe tbody tr th {\n",
       "        vertical-align: top;\n",
       "    }\n",
       "\n",
       "    .dataframe thead th {\n",
       "        text-align: right;\n",
       "    }\n",
       "</style>\n",
       "<table border=\"1\" class=\"dataframe\">\n",
       "  <thead>\n",
       "    <tr style=\"text-align: right;\">\n",
       "      <th></th>\n",
       "      <th>HomePlanet_Earth</th>\n",
       "      <th>HomePlanet_Europa</th>\n",
       "      <th>HomePlanet_Mars</th>\n",
       "      <th>Destination_55 Cancri e</th>\n",
       "      <th>Destination_PSO J318.5-22</th>\n",
       "      <th>Destination_TRAPPIST-1e</th>\n",
       "    </tr>\n",
       "  </thead>\n",
       "  <tbody>\n",
       "    <tr>\n",
       "      <th>0</th>\n",
       "      <td>0</td>\n",
       "      <td>1</td>\n",
       "      <td>0</td>\n",
       "      <td>0</td>\n",
       "      <td>0</td>\n",
       "      <td>1</td>\n",
       "    </tr>\n",
       "    <tr>\n",
       "      <th>1</th>\n",
       "      <td>1</td>\n",
       "      <td>0</td>\n",
       "      <td>0</td>\n",
       "      <td>0</td>\n",
       "      <td>0</td>\n",
       "      <td>1</td>\n",
       "    </tr>\n",
       "    <tr>\n",
       "      <th>2</th>\n",
       "      <td>0</td>\n",
       "      <td>1</td>\n",
       "      <td>0</td>\n",
       "      <td>0</td>\n",
       "      <td>0</td>\n",
       "      <td>1</td>\n",
       "    </tr>\n",
       "    <tr>\n",
       "      <th>3</th>\n",
       "      <td>0</td>\n",
       "      <td>1</td>\n",
       "      <td>0</td>\n",
       "      <td>0</td>\n",
       "      <td>0</td>\n",
       "      <td>1</td>\n",
       "    </tr>\n",
       "    <tr>\n",
       "      <th>4</th>\n",
       "      <td>1</td>\n",
       "      <td>0</td>\n",
       "      <td>0</td>\n",
       "      <td>0</td>\n",
       "      <td>0</td>\n",
       "      <td>1</td>\n",
       "    </tr>\n",
       "  </tbody>\n",
       "</table>\n",
       "</div>"
      ],
      "text/plain": [
       "   HomePlanet_Earth  HomePlanet_Europa  HomePlanet_Mars  Destination_55 Cancri e  Destination_PSO J318.5-22  Destination_TRAPPIST-1e\n",
       "0                 0                  1                0                        0                          0                        1\n",
       "1                 1                  0                0                        0                          0                        1\n",
       "2                 0                  1                0                        0                          0                        1\n",
       "3                 0                  1                0                        0                          0                        1\n",
       "4                 1                  0                0                        0                          0                        1"
      ]
     },
     "execution_count": 18,
     "metadata": {},
     "output_type": "execute_result"
    }
   ],
   "source": [
    "dummy_columns = ['HomePlanet_Earth', 'HomePlanet_Europa','HomePlanet_Mars', 'Destination_55 Cancri e', 'Destination_PSO J318.5-22', 'Destination_TRAPPIST-1e']\n",
    "df[dummy_columns].head()"
   ]
  },
  {
   "attachments": {},
   "cell_type": "markdown",
   "metadata": {},
   "source": [
    "Podemos criar nossas variáveis independentes (usadas na predição) e dependentes (que será inferido). Elas devem ser tensores do PyTorch."
   ]
  },
  {
   "cell_type": "code",
   "execution_count": 19,
   "metadata": {},
   "outputs": [
    {
     "data": {
      "text/plain": [
       "torch.Size([8693, 14])"
      ]
     },
     "execution_count": 19,
     "metadata": {},
     "output_type": "execute_result"
    }
   ],
   "source": [
    "t_dep = tensor(df.Transported)\n",
    "indep_cols = ['Age','CryoSleep','VIP'] + log_colums + dummy_columns \n",
    "\n",
    "t_indep = tensor(df[indep_cols].values, dtype=torch.float)\n",
    "t_indep.shape"
   ]
  },
  {
   "attachments": {},
   "cell_type": "markdown",
   "metadata": {},
   "source": [
    "### 4.2 Criando Modelo Linear\n",
    "\n",
    "Com a matriz de variáveis independentes e o vetor de variável dependente podemos calcular as predições e a perda. Nessa seção vamos fazer manualmente um passo desse cálculo para cada linha.\n",
    "\n",
    "O primeiro modelo será linear, e precisa de um coeficiente para cada coluna, então vamos pegar valores aleatórios entre `(-0.5, 0.5)`."
   ]
  },
  {
   "cell_type": "code",
   "execution_count": 20,
   "metadata": {},
   "outputs": [],
   "source": [
    "n_coeff = t_indep.shape[1]\n",
    "coeffs = torch.rand(n_coeff)-0.5"
   ]
  },
  {
   "cell_type": "code",
   "execution_count": 21,
   "metadata": {},
   "outputs": [
    {
     "data": {
      "text/plain": [
       "tensor([[    17.7160,     -0.0000,     -0.0000,     -0.0000,      0.0000,     -0.0000,      0.0000,     -0.0000,      0.0000,      0.2863,\n",
       "              0.0000,     -0.0000,     -0.0000,      0.4269],\n",
       "        [    10.9021,     -0.0000,     -0.0000,     -0.9122,      0.0217,     -0.1827,      2.0796,     -0.9497,      0.3930,      0.0000,\n",
       "              0.0000,     -0.0000,     -0.0000,      0.4269],\n",
       "        [    26.3468,     -0.0000,     -0.2587,     -0.7343,      0.0772,     -0.0000,      2.9043,     -0.9760,      0.0000,      0.2863,\n",
       "              0.0000,     -0.0000,     -0.0000,      0.4269],\n",
       "        [    14.9904,     -0.0000,     -0.0000,     -0.0000,      0.0675,     -0.3319,      2.6731,     -1.3143,      0.0000,      0.2863,\n",
       "              0.0000,     -0.0000,     -0.0000,      0.4269],\n",
       "        [     7.2681,     -0.0000,     -0.0000,     -1.1094,      0.0402,     -0.2817,      2.0890,     -0.2741,      0.3930,      0.0000,\n",
       "              0.0000,     -0.0000,     -0.0000,      0.4269],\n",
       "        [    19.9872,     -0.0000,     -0.0000,     -0.0000,      0.0583,     -0.0000,      1.8709,     -0.0000,      0.3930,      0.0000,\n",
       "              0.0000,     -0.0000,     -0.3688,      0.0000],\n",
       "        [    11.8106,     -0.0000,     -0.0000,     -0.7299,      0.0692,     -0.0777,      0.0000,     -0.0000,      0.3930,      0.0000,\n",
       "              0.0000,     -0.0000,     -0.0000,      0.4269],\n",
       "        ...,\n",
       "        [    14.5362,     -0.0000,     -0.0000,     -0.1345,      0.0665,     -0.0000,      1.2958,     -0.8870,      0.0000,      0.2863,\n",
       "              0.0000,     -0.0000,     -0.0000,      0.4269],\n",
       "        [    13.6277,     -0.0000,     -0.0000,     -0.0000,      0.0762,     -0.0000,      0.3621,     -1.4476,      0.0000,      0.2863,\n",
       "              0.0000,     -0.0000,     -0.0000,      0.4269],\n",
       "        [    18.6245,     -0.0000,     -0.2587,     -0.0000,      0.0833,     -0.0000,      2.4404,     -1.0772,      0.0000,      0.2863,\n",
       "              0.0000,     -0.0291,     -0.0000,      0.0000],\n",
       "        [     8.1766,     -0.3209,     -0.0000,     -0.0000,      0.0000,     -0.0000,      0.0000,     -0.0000,      0.3930,      0.0000,\n",
       "              0.0000,     -0.0000,     -0.3688,      0.0000],\n",
       "        [    11.8106,     -0.0000,     -0.0000,     -0.0000,      0.0000,     -0.4226,      0.2284,     -0.0000,      0.3930,      0.0000,\n",
       "              0.0000,     -0.0000,     -0.0000,      0.4269],\n",
       "        [    14.5362,     -0.0000,     -0.0000,     -0.0000,      0.0656,     -0.0000,      1.9344,     -2.0164,      0.0000,      0.2863,\n",
       "              0.0000,     -0.0291,     -0.0000,      0.0000],\n",
       "        [    19.9872,     -0.0000,     -0.0000,     -0.9400,      0.0797,     -0.0000,      0.0000,     -0.6399,      0.0000,      0.2863,\n",
       "              0.0000,     -0.0000,     -0.0000,      0.4269]])"
      ]
     },
     "execution_count": 21,
     "metadata": {},
     "output_type": "execute_result"
    }
   ],
   "source": [
    "t_indep*coeffs"
   ]
  },
  {
   "attachments": {},
   "cell_type": "markdown",
   "metadata": {},
   "source": [
    "Podemos ver que a coluna da Idade possui uma média muito maior do que as outras, o que pode afetar nosso modelo, então vamos restringir as colunas a valores de 0 a 1."
   ]
  },
  {
   "cell_type": "code",
   "execution_count": 22,
   "metadata": {},
   "outputs": [
    {
     "data": {
      "text/plain": [
       "tensor([[ 0.2243, -0.0000, -0.0000, -0.0000,  0.0000, -0.0000,  0.0000, -0.0000,  0.0000,  0.2863,  0.0000, -0.0000, -0.0000,  0.4269],\n",
       "        [ 0.1380, -0.0000, -0.0000, -0.0953,  0.0021, -0.0182,  0.2076, -0.0941,  0.3930,  0.0000,  0.0000, -0.0000, -0.0000,  0.4269],\n",
       "        [ 0.3335, -0.0000, -0.2587, -0.0767,  0.0075, -0.0000,  0.2899, -0.0967,  0.0000,  0.2863,  0.0000, -0.0000, -0.0000,  0.4269],\n",
       "        [ 0.1898, -0.0000, -0.0000, -0.0000,  0.0066, -0.0330,  0.2668, -0.1302,  0.0000,  0.2863,  0.0000, -0.0000, -0.0000,  0.4269],\n",
       "        [ 0.0920, -0.0000, -0.0000, -0.1159,  0.0039, -0.0280,  0.2085, -0.0272,  0.3930,  0.0000,  0.0000, -0.0000, -0.0000,  0.4269],\n",
       "        [ 0.2530, -0.0000, -0.0000, -0.0000,  0.0057, -0.0000,  0.1868, -0.0000,  0.3930,  0.0000,  0.0000, -0.0000, -0.3688,  0.0000],\n",
       "        [ 0.1495, -0.0000, -0.0000, -0.0763,  0.0067, -0.0077,  0.0000, -0.0000,  0.3930,  0.0000,  0.0000, -0.0000, -0.0000,  0.4269],\n",
       "        ...,\n",
       "        [ 0.1840, -0.0000, -0.0000, -0.0141,  0.0065, -0.0000,  0.1294, -0.0879,  0.0000,  0.2863,  0.0000, -0.0000, -0.0000,  0.4269],\n",
       "        [ 0.1725, -0.0000, -0.0000, -0.0000,  0.0074, -0.0000,  0.0361, -0.1434,  0.0000,  0.2863,  0.0000, -0.0000, -0.0000,  0.4269],\n",
       "        [ 0.2358, -0.0000, -0.2587, -0.0000,  0.0081, -0.0000,  0.2436, -0.1067,  0.0000,  0.2863,  0.0000, -0.0291, -0.0000,  0.0000],\n",
       "        [ 0.1035, -0.3209, -0.0000, -0.0000,  0.0000, -0.0000,  0.0000, -0.0000,  0.3930,  0.0000,  0.0000, -0.0000, -0.3688,  0.0000],\n",
       "        [ 0.1495, -0.0000, -0.0000, -0.0000,  0.0000, -0.0420,  0.0228, -0.0000,  0.3930,  0.0000,  0.0000, -0.0000, -0.0000,  0.4269],\n",
       "        [ 0.1840, -0.0000, -0.0000, -0.0000,  0.0064, -0.0000,  0.1931, -0.1998,  0.0000,  0.2863,  0.0000, -0.0291, -0.0000,  0.0000],\n",
       "        [ 0.2530, -0.0000, -0.0000, -0.0982,  0.0077, -0.0000,  0.0000, -0.0634,  0.0000,  0.2863,  0.0000, -0.0000, -0.0000,  0.4269]])"
      ]
     },
     "execution_count": 22,
     "metadata": {},
     "output_type": "execute_result"
    }
   ],
   "source": [
    "vals,indices = t_indep.max(dim=0)\n",
    "t_indep = t_indep / vals\n",
    "t_indep*coeffs"
   ]
  },
  {
   "attachments": {},
   "cell_type": "markdown",
   "metadata": {},
   "source": [
    "Podemos então somar as linhas do produto para criar inferências:"
   ]
  },
  {
   "cell_type": "code",
   "execution_count": 23,
   "metadata": {},
   "outputs": [
    {
     "data": {
      "text/plain": [
       "tensor([0.9375, 0.9600, 0.9120, 1.0132, 0.9533, 0.4696, 0.8921, 0.6600, 1.1882, 0.0168])"
      ]
     },
     "execution_count": 23,
     "metadata": {},
     "output_type": "execute_result"
    }
   ],
   "source": [
    "preds = (t_indep*coeffs).sum(axis=1)\n",
    "preds[:10]"
   ]
  },
  {
   "attachments": {},
   "cell_type": "markdown",
   "metadata": {},
   "source": [
    "Para utilizar o método do gradiente devemos ter uma função de perda, então vamos criar uma que representa o erro médio das linhas:"
   ]
  },
  {
   "cell_type": "code",
   "execution_count": 24,
   "metadata": {},
   "outputs": [
    {
     "data": {
      "text/plain": [
       "tensor(0.6029)"
      ]
     },
     "execution_count": 24,
     "metadata": {},
     "output_type": "execute_result"
    }
   ],
   "source": [
    "loss = torch.abs(preds-t_dep).mean()\n",
    "loss"
   ]
  },
  {
   "attachments": {},
   "cell_type": "markdown",
   "metadata": {},
   "source": [
    "Podemos então colocar esses cálculos dentro de funções para usar mais adiante."
   ]
  },
  {
   "cell_type": "code",
   "execution_count": 25,
   "metadata": {},
   "outputs": [],
   "source": [
    "def calc_preds(coeffs, indeps): return (indeps*coeffs).sum(axis=1)\n",
    "def calc_loss(coeffs, indeps, deps): return torch.abs(calc_preds(coeffs, indeps)-deps).mean()"
   ]
  },
  {
   "attachments": {},
   "cell_type": "markdown",
   "metadata": {},
   "source": [
    "### 4.3 Método do gradiente\n",
    "\n",
    "Vamos fazer uma única época do método do gradiente. Para calcular os gradientes, devemos usar `requires_grad_()` nos coeficientes."
   ]
  },
  {
   "cell_type": "code",
   "execution_count": 26,
   "metadata": {},
   "outputs": [
    {
     "data": {
      "text/plain": [
       "tensor(0.6029, grad_fn=<MeanBackward0>)"
      ]
     },
     "execution_count": 26,
     "metadata": {},
     "output_type": "execute_result"
    }
   ],
   "source": [
    "coeffs.requires_grad_()\n",
    "loss = calc_loss(coeffs, t_indep, t_dep)\n",
    "loss"
   ]
  },
  {
   "attachments": {},
   "cell_type": "markdown",
   "metadata": {},
   "source": [
    "Para calcular os gradientes, usamos a função `backward()`:"
   ]
  },
  {
   "cell_type": "code",
   "execution_count": 27,
   "metadata": {},
   "outputs": [
    {
     "data": {
      "text/plain": [
       "tensor([ 0.0310, -0.2479,  0.0022,  0.1009,  0.0628,  0.0568,  0.1237,  0.0907,  0.0926, -0.0632, -0.0121, -0.0465, -0.0423,  0.1062])"
      ]
     },
     "execution_count": 27,
     "metadata": {},
     "output_type": "execute_result"
    }
   ],
   "source": [
    "loss.backward()\n",
    "coeffs.grad"
   ]
  },
  {
   "attachments": {},
   "cell_type": "markdown",
   "metadata": {},
   "source": [
    "A cada chamada do `backward()` os gradientes são somados ao que estiver no atributo `grad`:"
   ]
  },
  {
   "cell_type": "code",
   "execution_count": 28,
   "metadata": {},
   "outputs": [
    {
     "data": {
      "text/plain": [
       "tensor([ 0.0620, -0.4958,  0.0044,  0.2018,  0.1257,  0.1136,  0.2474,  0.1814,  0.1852, -0.1263, -0.0242, -0.0929, -0.0847,  0.2124])"
      ]
     },
     "execution_count": 28,
     "metadata": {},
     "output_type": "execute_result"
    }
   ],
   "source": [
    "loss = calc_loss(coeffs, t_indep, t_dep)\n",
    "loss.backward()\n",
    "coeffs.grad"
   ]
  },
  {
   "attachments": {},
   "cell_type": "markdown",
   "metadata": {},
   "source": [
    "Por isso devemos tornar os gradientes em 0 depois de cada passo.  \n",
    "Vamos realizar um passo e checar se a perda diminui:"
   ]
  },
  {
   "cell_type": "code",
   "execution_count": 29,
   "metadata": {},
   "outputs": [
    {
     "name": "stdout",
     "output_type": "stream",
     "text": [
      "tensor(0.5656)\n"
     ]
    }
   ],
   "source": [
    "loss = calc_loss(coeffs, t_indep, t_dep)\n",
    "loss.backward()\n",
    "with torch.no_grad():\n",
    "    coeffs.sub_(coeffs.grad * 0.1)\n",
    "    coeffs.grad.zero_()\n",
    "    print(calc_loss(coeffs, t_indep, t_dep))"
   ]
  },
  {
   "attachments": {},
   "cell_type": "markdown",
   "metadata": {},
   "source": [
    "Obs: No PyTorch, métodos terminados em `_` realizam a operação *in-place*."
   ]
  },
  {
   "attachments": {},
   "cell_type": "markdown",
   "metadata": {},
   "source": [
    "## 4.4 Treinando o modelo"
   ]
  },
  {
   "attachments": {},
   "cell_type": "markdown",
   "metadata": {},
   "source": [
    "Primeiro vamos separar um conjunto de dados para treino e outro para validação:"
   ]
  },
  {
   "cell_type": "code",
   "execution_count": 30,
   "metadata": {},
   "outputs": [],
   "source": [
    "trn_split, val_split = RandomSplitter(seed=42)(df)"
   ]
  },
  {
   "attachments": {},
   "cell_type": "markdown",
   "metadata": {},
   "source": [
    "A função `RandomSplitter` vai retornar índices para separação dos dados. Esses índices podem então ser aplicados nos nossos valores dependentes e independentes."
   ]
  },
  {
   "cell_type": "code",
   "execution_count": 31,
   "metadata": {},
   "outputs": [
    {
     "data": {
      "text/plain": [
       "(6955, 1738)"
      ]
     },
     "execution_count": 31,
     "metadata": {},
     "output_type": "execute_result"
    }
   ],
   "source": [
    "trn_indep, val_indep = t_indep[trn_split], t_indep[val_split]\n",
    "trn_dep, val_dep = t_dep[trn_split], t_dep[val_split]\n",
    "len(trn_indep), len(val_indep)"
   ]
  },
  {
   "attachments": {},
   "cell_type": "markdown",
   "metadata": {},
   "source": [
    "Vamos criar funções para realizar os passos acima:"
   ]
  },
  {
   "cell_type": "code",
   "execution_count": 32,
   "metadata": {},
   "outputs": [],
   "source": [
    "def update_coeffs(coeffs, lr):\n",
    "    coeffs.sub_(coeffs.grad * lr)\n",
    "    coeffs.grad.zero_()\n",
    "\n",
    "def one_epoch(coeffs, lr):\n",
    "    loss = calc_loss(coeffs, trn_indep, trn_dep)\n",
    "    loss.backward()\n",
    "    with torch.no_grad(): update_coeffs(coeffs, lr)\n",
    "    print(f\"{loss:.3f}\", end=\"; \")\n",
    "\n",
    "def init_coeffs(): return (torch.rand(n_coeff)-0.5).requires_grad_()\n",
    "\n",
    "def train_model(epochs=30, lr=0.01):\n",
    "    torch.manual_seed(442)\n",
    "    coeffs = init_coeffs()\n",
    "    for i in range(epochs): one_epoch(coeffs, lr=lr)\n",
    "    return coeffs"
   ]
  },
  {
   "attachments": {},
   "cell_type": "markdown",
   "metadata": {},
   "source": [
    "E usá-las para treinar o modelo."
   ]
  },
  {
   "cell_type": "code",
   "execution_count": 33,
   "metadata": {},
   "outputs": [
    {
     "name": "stdout",
     "output_type": "stream",
     "text": [
      "0.579; 0.555; 0.534; 0.514; 0.495; 0.476; 0.459; 0.443; 0.429; 0.417; 0.407; 0.398; 0.390; 0.383; 0.377; 0.370; 0.365; 0.360; "
     ]
    }
   ],
   "source": [
    "coeffs = train_model(18, lr=0.2)"
   ]
  },
  {
   "attachments": {},
   "cell_type": "markdown",
   "metadata": {},
   "source": [
    "Podemos ver nosso erro diminuindo a cada época. A seguir vamos printar os coeficientes para cada coluna:"
   ]
  },
  {
   "cell_type": "code",
   "execution_count": 34,
   "metadata": {},
   "outputs": [
    {
     "data": {
      "text/plain": [
       "{'Age': tensor(-0.3305),\n",
       " 'CryoSleep': tensor(0.6607),\n",
       " 'VIP': tensor(0.2288),\n",
       " 'LogRoomService': tensor(-0.3421),\n",
       " 'LogFoodCourt': tensor(-0.2167),\n",
       " 'LogShoppingMall': tensor(-0.2984),\n",
       " 'LogSpa': tensor(0.2199),\n",
       " 'LogVRDeck': tensor(0.1036),\n",
       " 'HomePlanet_Earth': tensor(0.0711),\n",
       " 'HomePlanet_Europa': tensor(0.0077),\n",
       " 'HomePlanet_Mars': tensor(0.1897),\n",
       " 'Destination_55 Cancri e': tensor(0.4476),\n",
       " 'Destination_PSO J318.5-22': tensor(0.2308),\n",
       " 'Destination_TRAPPIST-1e': tensor(0.3062)}"
      ]
     },
     "execution_count": 34,
     "metadata": {},
     "output_type": "execute_result"
    }
   ],
   "source": [
    "def show_coeffs(): return dict(zip(indep_cols, coeffs.requires_grad_(False)))\n",
    "show_coeffs()"
   ]
  },
  {
   "attachments": {},
   "cell_type": "markdown",
   "metadata": {},
   "source": [
    "#### Medindo acurácia"
   ]
  },
  {
   "attachments": {},
   "cell_type": "markdown",
   "metadata": {},
   "source": [
    "Como a métrica pedida na competição é a acurácia (proporção de inferências corretas), vamos ver quão bem nosso modelo se sai. Primeiramente devemos calcular as inferências:"
   ]
  },
  {
   "cell_type": "code",
   "execution_count": 35,
   "metadata": {},
   "outputs": [
    {
     "data": {
      "text/plain": [
       "tensor([ True,  True, False,  True, False,  True, False, False,  True,  True,  True,  True,  True, False,  True,  True])"
      ]
     },
     "execution_count": 35,
     "metadata": {},
     "output_type": "execute_result"
    }
   ],
   "source": [
    "preds = calc_preds(coeffs, val_indep)\n",
    "results = val_dep.bool()==(preds>0.5)\n",
    "results[:16]"
   ]
  },
  {
   "attachments": {},
   "cell_type": "markdown",
   "metadata": {},
   "source": [
    "Acima, consideramos os casos em que a inferência é maior que 0.5 como positiva, ou seja, o passageiro foi transportado.\n",
    "\n",
    "Vamos fazer uma função que calcula as inferências e retorna a acurácia:"
   ]
  },
  {
   "cell_type": "code",
   "execution_count": 40,
   "metadata": {},
   "outputs": [
    {
     "data": {
      "text/plain": [
       "tensor(0.7658)"
      ]
     },
     "execution_count": 40,
     "metadata": {},
     "output_type": "execute_result"
    }
   ],
   "source": [
    "def acc(coeffs): return (val_dep.bool()==(calc_preds(coeffs, val_indep)>0.5)).float().mean()\n",
    "acc(coeffs)"
   ]
  },
  {
   "attachments": {},
   "cell_type": "markdown",
   "metadata": {},
   "source": [
    "### 4.5 Função sigmoide"
   ]
  },
  {
   "attachments": {},
   "cell_type": "markdown",
   "metadata": {},
   "source": [
    "Um problema presente nas nossas predições é que existem valores menores que 0 e maiores que 1."
   ]
  },
  {
   "cell_type": "code",
   "execution_count": 37,
   "metadata": {},
   "outputs": [
    {
     "data": {
      "text/plain": [
       "tensor([ 0.2735,  0.9766,  0.2935,  0.8775, -0.0858,  0.3801,  0.1967,  0.2658,  0.1055,  0.1826, -0.0451,  1.0449,  0.0369,  0.9375,\n",
       "         0.3003,  0.5145,  0.3104,  0.6256,  0.2463,  0.1494,  0.0617,  0.1662,  0.2300,  0.0520,  0.1825,  0.3023, -0.0547,  0.4959])"
      ]
     },
     "execution_count": 37,
     "metadata": {},
     "output_type": "execute_result"
    }
   ],
   "source": [
    "preds[:28]"
   ]
  },
  {
   "attachments": {},
   "cell_type": "markdown",
   "metadata": {},
   "source": [
    "Isso pode ser resolvido passando os valores por uma função sigmoide, que varia entre 0 e 1 de acordo com a entrada:"
   ]
  },
  {
   "cell_type": "code",
   "execution_count": 38,
   "metadata": {},
   "outputs": [
    {
     "data": {
      "image/png": "[encoded data removed]",
      "text/plain": [
       "<Figure size 640x480 with 1 Axes>"
      ]
     },
     "metadata": {},
     "output_type": "display_data"
    }
   ],
   "source": [
    "sympy.plot(\"1/(1+exp(-x))\", xlim=(-5,5));"
   ]
  },
  {
   "attachments": {},
   "cell_type": "markdown",
   "metadata": {},
   "source": [
    "o `PyTorch` já possui essa função, então podemos modificar a `calc_preds` para incluí-la:"
   ]
  },
  {
   "cell_type": "code",
   "execution_count": 55,
   "metadata": {},
   "outputs": [
    {
     "name": "stdout",
     "output_type": "stream",
     "text": [
      "0.511; 0.276; 0.273; 0.271; 0.269; 0.268; 0.267; 0.266; 0.265; 0.264; 0.262; 0.261; 0.260; 0.259; 0.257; 0.256; 0.254; 0.253; 0.251; 0.250; 0.249; 0.248; 0.247; 0.246; 0.245; 0.244; 0.243; 0.243; 0.242; 0.241; "
     ]
    }
   ],
   "source": [
    "def calc_preds(coeffs, indeps): return torch.sigmoid((indeps*coeffs).sum(axis=1))\n",
    "\n",
    "coeffs = train_model(lr=100)"
   ]
  },
  {
   "attachments": {},
   "cell_type": "markdown",
   "metadata": {},
   "source": [
    "A perda diminuiu consideravelmente, agora vejamos a acurácia:"
   ]
  },
  {
   "cell_type": "code",
   "execution_count": 41,
   "metadata": {},
   "outputs": [
    {
     "data": {
      "text/plain": [
       "tensor(0.7658)"
      ]
     },
     "execution_count": 41,
     "metadata": {},
     "output_type": "execute_result"
    }
   ],
   "source": [
    "acc(coeffs)"
   ]
  },
  {
   "attachments": {},
   "cell_type": "markdown",
   "metadata": {},
   "source": [
    "O uso da função sigmoide acarretou em uma melhora de `0.74` para `0.76`.  \n",
    "A seguir os coeficientes do nosso modelo:"
   ]
  },
  {
   "cell_type": "code",
   "execution_count": 42,
   "metadata": {},
   "outputs": [
    {
     "data": {
      "text/plain": [
       "{'Age': tensor(-1.7402),\n",
       " 'CryoSleep': tensor(6.5644),\n",
       " 'VIP': tensor(0.1634),\n",
       " 'LogRoomService': tensor(-6.3714),\n",
       " 'LogFoodCourt': tensor(2.8554),\n",
       " 'LogShoppingMall': tensor(0.9213),\n",
       " 'LogSpa': tensor(-6.5285),\n",
       " 'LogVRDeck': tensor(-6.3461),\n",
       " 'HomePlanet_Earth': tensor(-0.0955),\n",
       " 'HomePlanet_Europa': tensor(2.9568),\n",
       " 'HomePlanet_Mars': tensor(0.6349),\n",
       " 'Destination_55 Cancri e': tensor(1.9058),\n",
       " 'Destination_PSO J318.5-22': tensor(1.0360),\n",
       " 'Destination_TRAPPIST-1e': tensor(1.2704)}"
      ]
     },
     "execution_count": 42,
     "metadata": {},
     "output_type": "execute_result"
    }
   ],
   "source": [
    "show_coeffs()"
   ]
  },
  {
   "attachments": {},
   "cell_type": "markdown",
   "metadata": {},
   "source": [
    "### 4.6 Conjunto de teste e submissão\n",
    "\n",
    "Para gerar o arquivo de inferências e submeter ao kaggle, precisamos ver como o modelo se sai no conjunto de teste:"
   ]
  },
  {
   "cell_type": "code",
   "execution_count": 50,
   "metadata": {},
   "outputs": [],
   "source": [
    "tst_df = pd.read_csv(path/'test.csv')"
   ]
  },
  {
   "attachments": {},
   "cell_type": "markdown",
   "metadata": {},
   "source": [
    "A seguir fazemos as mesmas adaptações da seção de limpeza dos dados:"
   ]
  },
  {
   "cell_type": "code",
   "execution_count": 51,
   "metadata": {},
   "outputs": [],
   "source": [
    "tst_df.fillna(modes, inplace=True)\n",
    "tst_df['LogRoomService'] = np.log(tst_df['RoomService']+1)\n",
    "tst_df['LogFoodCourt'] = np.log(tst_df['FoodCourt']+1)\n",
    "tst_df['LogShoppingMall'] = np.log(tst_df['ShoppingMall']+1)\n",
    "tst_df['LogSpa'] = np.log(tst_df['Spa']+1)\n",
    "tst_df['LogVRDeck'] = np.log(tst_df['VRDeck']+1)\n",
    "tst_df['VIP'] = tst_df['VIP'].astype(int)\n",
    "tst_df['CryoSleep'] = tst_df['CryoSleep'].astype(int)\n",
    "tst_df = pd.get_dummies(tst_df, columns=['HomePlanet','Destination'])\n",
    "\n",
    "tst_indep = tensor(tst_df[indep_cols].values, dtype=torch.float)\n",
    "tst_indep = tst_indep / vals"
   ]
  },
  {
   "attachments": {},
   "cell_type": "markdown",
   "metadata": {},
   "source": [
    "E geramos a coluna *Transported*, que é o nosso alvo, para guardar as inferências."
   ]
  },
  {
   "cell_type": "code",
   "execution_count": 52,
   "metadata": {},
   "outputs": [],
   "source": [
    "tst_df['Transported'] = (calc_preds(tst_indep, coeffs)>0.5)"
   ]
  },
  {
   "attachments": {},
   "cell_type": "markdown",
   "metadata": {},
   "source": [
    "Guardamos as colunas relevantes em outro dataframe, e exportamos ele para um arquivo `.csv`:"
   ]
  },
  {
   "cell_type": "code",
   "execution_count": 53,
   "metadata": {},
   "outputs": [],
   "source": [
    "sub_df = tst_df[['PassengerId','Transported']]\n",
    "sub_df.to_csv('sub.csv', index=False)"
   ]
  },
  {
   "attachments": {},
   "cell_type": "markdown",
   "metadata": {},
   "source": [
    "Aqui estão as primeiras linhas do arquivo:"
   ]
  },
  {
   "cell_type": "code",
   "execution_count": 54,
   "metadata": {},
   "outputs": [
    {
     "name": "stdout",
     "output_type": "stream",
     "text": [
      "PassengerId,Transported\n",
      "0013_01,True\n",
      "0018_01,False\n",
      "0019_01,True\n",
      "0021_01,False\n",
      "0023_01,False\n",
      "0027_01,False\n",
      "0029_01,True\n",
      "0032_01,True\n",
      "0032_02,True\n"
     ]
    }
   ],
   "source": [
    "!head sub.csv"
   ]
  },
  {
   "attachments": {},
   "cell_type": "markdown",
   "metadata": {},
   "source": [
    "Agora é só enviar para o Kaggle."
   ]
  },
  {
   "attachments": {},
   "cell_type": "markdown",
   "metadata": {},
   "source": [
    "#### Otimizações"
   ]
  },
  {
   "attachments": {},
   "cell_type": "markdown",
   "metadata": {},
   "source": [
    "Antes de prosseguir para a próxima parte, podemos fazer algumas otimizações.\n",
    "\n",
    "O código `(indeps*coeffs).sum(axis=1)` nada mais é do que uma multiplicação de matrizes, e essa operação é suportada pelos tensores do PyTorch e representada pelo python através do operador `@`. A sua execução acaba sendo mais eficiente dessa forma, pois produto de matrizes é uma operação bem otimizada no PyTorch."
   ]
  },
  {
   "cell_type": "code",
   "execution_count": 56,
   "metadata": {},
   "outputs": [],
   "source": [
    "def calc_preds(coeffs, indeps): return torch.sigmoid(indeps@coeffs)\n",
    "def init_coeffs(): return (torch.rand(n_coeff, 1)*0.1).requires_grad_()"
   ]
  },
  {
   "attachments": {},
   "cell_type": "markdown",
   "metadata": {},
   "source": [
    "Acima atualizamos o `calc_preds` para utilizar a multiplicação de matrizes, e o `init_coeffs` para gerar nossos coeficientes em forma de um vetor coluna, ou seja, uma matriz com uma única coluna, para podermos realizar produtos entre matrizes na próxima seção.\n",
    "\n",
    "Precisamos também transformar as variáveis dependentes em um vetor coluna. Isso pode ser feito indexando a coluna com o valor `None`, que diz ao PyTorch para adicionar uma dimensão nessa posição: "
   ]
  },
  {
   "cell_type": "code",
   "execution_count": 57,
   "metadata": {},
   "outputs": [],
   "source": [
    "trn_dep = trn_dep[:,None]\n",
    "val_dep = val_dep[:,None]"
   ]
  },
  {
   "attachments": {},
   "cell_type": "markdown",
   "metadata": {},
   "source": [
    "### 4.6 Rede neural"
   ]
  },
  {
   "attachments": {},
   "cell_type": "markdown",
   "metadata": {},
   "source": [
    "Podemos enfim implementar uma rede neural.\n",
    "\n",
    "Primeiramente devem ser criados coeficientes para cada camada. Os primeiros coeficientes vão tomar nossa entrada `n_coeff`, e criar um número de entradas `n_hidden`. Esse número pode ser o que o usuário quiser, sendo que um número maior oferece mais flexibilidade, mas torna a rede mais lenta e difícil de treinar.\n",
    "\n",
    "Então teremos uma matriz de dimensão `n_coeff` por `n_hidden`. Esses coeficientes serão então divididos por `n_hidden` para termos números com a magnitude similar aos nossos iniciais após realizarmos a soma na próxima camada.\n",
    "\n",
    "A segunda camada pegará as entradas `n_hidden` e retornará uma única saída, então precisamos de uma matriz de dimensão `n_hidden` por 1. A segunda camada também precisa de um termo constante adicionado."
   ]
  },
  {
   "cell_type": "code",
   "execution_count": 58,
   "metadata": {},
   "outputs": [],
   "source": [
    "def init_coeffs(n_hidden=20):\n",
    "    layer1 = (torch.rand(n_coeff, n_hidden)-0.5)/n_hidden\n",
    "    layer2 = torch.rand(n_hidden, 1)-0.3\n",
    "    const = torch.rand(1)[0]\n",
    "    return layer1.requires_grad_(),layer2.requires_grad_(),const.requires_grad_()"
   ]
  },
  {
   "attachments": {},
   "cell_type": "markdown",
   "metadata": {},
   "source": [
    "Podemos agora criar a rede neural.\n",
    "\n",
    "Os passos essenciais são os dois produtos de matrizes:\n",
    "1. `indeps@l1`: variáveis independentes * camada 1\n",
    "2. `res@l2`: resultado da operação acima * camada 2\n",
    "\n",
    "A saída da primeira camada é passada por uma função retificada linear, e a da segunda é passada por uma sigmoide.\n",
    "\n",
    "Por fim, criamos um loop para atualizar cada conjunto de coeficientes:"
   ]
  },
  {
   "cell_type": "code",
   "execution_count": 60,
   "metadata": {},
   "outputs": [],
   "source": [
    "def calc_preds(coeffs, indeps):\n",
    "    l1,l2,const = coeffs\n",
    "    res = F.relu(indeps@l1)\n",
    "    res = res@l2 + const\n",
    "    return torch.sigmoid(res)\n",
    "\n",
    "def update_coeffs(coeffs, lr):\n",
    "    for layer in coeffs:\n",
    "        layer.sub_(layer.grad * lr)\n",
    "        layer.grad.zero_()"
   ]
  },
  {
   "attachments": {},
   "cell_type": "markdown",
   "metadata": {},
   "source": [
    "Podemos agora treinar o modelo."
   ]
  },
  {
   "cell_type": "code",
   "execution_count": 68,
   "metadata": {},
   "outputs": [
    {
     "name": "stdout",
     "output_type": "stream",
     "text": [
      "0.497; 0.427; 0.328; 0.285; 0.273; 0.267; 0.263; 0.259; 0.255; 0.250; 0.247; 0.251; 0.255; 0.278; 0.267; 0.255; 0.238; 0.238; 0.247; 0.234; 0.236; 0.236; 0.243; 0.232; 0.233; 0.232; 0.234; 0.231; 0.232; 0.230; "
     ]
    }
   ],
   "source": [
    "coeffs = train_model(lr=20)"
   ]
  },
  {
   "attachments": {},
   "cell_type": "markdown",
   "metadata": {},
   "source": [
    "Nota-se uma melhora na perda. Vejamos a acurácia:"
   ]
  },
  {
   "cell_type": "code",
   "execution_count": 69,
   "metadata": {},
   "outputs": [
    {
     "data": {
      "text/plain": [
       "tensor(0.7647)"
      ]
     },
     "execution_count": 69,
     "metadata": {},
     "output_type": "execute_result"
    }
   ],
   "source": [
    "acc(coeffs)"
   ]
  },
  {
   "attachments": {},
   "cell_type": "markdown",
   "metadata": {},
   "source": [
    "Em termos de acurácia a performance da rede neural em contraste com o modelo linear não melhorou. Isso é de se esperar, visto que nosso dataset é simples e nosso conjunto de validação é pequeno."
   ]
  },
  {
   "attachments": {},
   "cell_type": "markdown",
   "metadata": {},
   "source": [
    "### 5. Conclusão"
   ]
  },
  {
   "attachments": {},
   "cell_type": "markdown",
   "metadata": {},
   "source": [
    "Não é um procedimento muito prático, mas é muito gratificante construir uma rede neural do nada, especialmente após ter feito algumas com a ajuda de uma biblioteca como o fastai.\n",
    "\n",
    "O que mais me chamou atenção nessa aula foi a parte de limpeza dos dados, principalmente as maneiras criativas de se tornar valores inutilizáveis em algo que nosso modelo possa processar."
   ]
  }
 ],
 "metadata": {
  "kernelspec": {
   "display_name": "Python 3",
   "language": "python",
   "name": "python3"
  },
  "language_info": {
   "codemirror_mode": {
    "name": "ipython",
    "version": 3
   },
   "file_extension": ".py",
   "mimetype": "text/x-python",
   "name": "python",
   "nbconvert_exporter": "python",
   "pygments_lexer": "ipython3",
   "version": "3.10.6 (main, Nov  2 2022, 18:53:38) [GCC 11.3.0]"
  },
  "orig_nbformat": 4,
  "vscode": {
   "interpreter": {
    "hash": "916dbcbb3f70747c44a77c7bcd40155683ae19c65e1c03b4aa3499c5328201f1"
   }
  }
 },
 "nbformat": 4,
 "nbformat_minor": 2
}
