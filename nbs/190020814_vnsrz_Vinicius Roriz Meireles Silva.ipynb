{
 "cells": [
  {
   "cell_type": "code",
   "execution_count": 1,
   "metadata": {},
   "outputs": [],
   "source": [
    "from fastai.vision.widgets import *\n",
    "from ipywidgets import interact\n",
    "from fastai.basics import *\n",
    "from fastbook import *\n",
    "import warnings\n",
    "import timm\n",
    "\n",
    "# Código para ignorar avisos de usuário\n",
    "warnings.filterwarnings(\"ignore\", category=UserWarning)"
   ]
  },
  {
   "cell_type": "markdown",
   "metadata": {},
   "source": [
    "# Artigo 3"
   ]
  },
  {
   "cell_type": "markdown",
   "metadata": {},
   "source": [
    "## 1. Introdução\n",
    "\n",
    "A aula 3 explora outros modelos pré-treinados, e como decidir qual o mais apropriado para cada situação, mas seu foco principal é em explicar como as redes neurais funcionam do nível mais baixo até a sua implementação pelo *fastai*."
   ]
  },
  {
   "cell_type": "markdown",
   "metadata": {},
   "source": [
    "## 2. Objetivo\n",
    "\n",
    "Simular uma rede neural com funções quadráticas e retificadoras, comparar o modelo `resnet18` com o `convnext_tiny` e subir um classificador de imagens para o Hugging Face."
   ]
  },
  {
   "cell_type": "markdown",
   "metadata": {},
   "source": [
    "## 3. Inspiração\n",
    "\n",
    "Adquirir um entendimento de como redes neurais são capazes de \"aprendizado\", e verificar a efetividade de outros modelos de imagem no treinamento de um modelo classificador de raças de cavalo. "
   ]
  },
  {
   "cell_type": "markdown",
   "metadata": {},
   "source": [
    "## 4. Diferentes modelos"
   ]
  },
  {
   "cell_type": "markdown",
   "metadata": {},
   "source": [
    "Um dos assuntos abordados na lição 3 foi a existência de outros modelos de imagem pré-treinados que podem ser usados no treinamento de nosso modelo.\n",
    "\n",
    "No caderno do Kaggle [Which image models are best?](https://www.kaggle.com/code/jhoward/which-image-models-are-best/) podemos ver vários modelos na forma de um gráfico, com o eixo X sendo o tempo gasto para treinar e o eixo Y sendo a precisão.\n",
    "\n",
    "<p allign=\"middle\">\n",
    "  <img src=\"assets/resnet.png\" width=\"418\" />\n",
    "  <img src=\"assets/conv.png\" width=\"400\" /> \n",
    "</p>\n",
    "\n",
    "Acima vemos o model o usado até agora (resnet18), e um modelo utilizado na lição 3 (convnext_tiny), que apesar de ser um pouco mais lento, possui uma precisão bem maior.\n",
    "\n",
    "Para testar a diferença em eficácia do `resnet18` para o `convnext_tiny`, vamos treinar um modelo usando ambos.  \n",
    "O dataset utilizado foi o [Horse Breeds](https://www.kaggle.com/datasets/olgabelitskaya/horse-breeds), criado por Olga Belitskaya no Kaggle."
   ]
  },
  {
   "cell_type": "code",
   "execution_count": 2,
   "metadata": {},
   "outputs": [],
   "source": [
    "path = Path('img')\n",
    "\n",
    "dls = DataBlock(\n",
    "    blocks=(ImageBlock, CategoryBlock),\n",
    "    get_items=get_image_files,\n",
    "    splitter=RandomSplitter(valid_pct=0.2, seed=42),\n",
    "    get_y=parent_label,\n",
    "    item_tfms=[RandomResizedCrop(224, min_scale=0.5)],\n",
    "    batch_tfms=aug_transforms()\n",
    ").dataloaders(path, bs=32)"
   ]
  },
  {
   "cell_type": "markdown",
   "metadata": {},
   "source": [
    "O parâmetro `bs` passado para o `dataloader` determina o tamanho do batch, que por padrão é 64, e aqui foi reduzido para 32 para evitar problemas de falta de memória. "
   ]
  },
  {
   "cell_type": "code",
   "execution_count": 3,
   "metadata": {},
   "outputs": [
    {
     "data": {
      "text/html": [
       "<table border=\"1\" class=\"dataframe\">\n",
       "  <thead>\n",
       "    <tr style=\"text-align: left;\">\n",
       "      <th>epoch</th>\n",
       "      <th>train_loss</th>\n",
       "      <th>valid_loss</th>\n",
       "      <th>error_rate</th>\n",
       "      <th>time</th>\n",
       "    </tr>\n",
       "  </thead>\n",
       "  <tbody>\n",
       "    <tr>\n",
       "      <td>0</td>\n",
       "      <td>1.848371</td>\n",
       "      <td>1.130055</td>\n",
       "      <td>0.404762</td>\n",
       "      <td>00:04</td>\n",
       "    </tr>\n",
       "  </tbody>\n",
       "</table>"
      ],
      "text/plain": [
       "<IPython.core.display.HTML object>"
      ]
     },
     "metadata": {},
     "output_type": "display_data"
    },
    {
     "data": {
      "text/html": [
       "<table border=\"1\" class=\"dataframe\">\n",
       "  <thead>\n",
       "    <tr style=\"text-align: left;\">\n",
       "      <th>epoch</th>\n",
       "      <th>train_loss</th>\n",
       "      <th>valid_loss</th>\n",
       "      <th>error_rate</th>\n",
       "      <th>time</th>\n",
       "    </tr>\n",
       "  </thead>\n",
       "  <tbody>\n",
       "    <tr>\n",
       "      <td>0</td>\n",
       "      <td>0.792139</td>\n",
       "      <td>0.593737</td>\n",
       "      <td>0.238095</td>\n",
       "      <td>00:03</td>\n",
       "    </tr>\n",
       "    <tr>\n",
       "      <td>1</td>\n",
       "      <td>0.543827</td>\n",
       "      <td>0.202370</td>\n",
       "      <td>0.083333</td>\n",
       "      <td>00:02</td>\n",
       "    </tr>\n",
       "    <tr>\n",
       "      <td>2</td>\n",
       "      <td>0.428140</td>\n",
       "      <td>0.128498</td>\n",
       "      <td>0.047619</td>\n",
       "      <td>00:02</td>\n",
       "    </tr>\n",
       "    <tr>\n",
       "      <td>3</td>\n",
       "      <td>0.371214</td>\n",
       "      <td>0.126295</td>\n",
       "      <td>0.059524</td>\n",
       "      <td>00:02</td>\n",
       "    </tr>\n",
       "  </tbody>\n",
       "</table>"
      ],
      "text/plain": [
       "<IPython.core.display.HTML object>"
      ]
     },
     "metadata": {},
     "output_type": "display_data"
    }
   ],
   "source": [
    "learn = vision_learner(dls, resnet18, metrics=error_rate)\n",
    "learn.fine_tune(4)"
   ]
  },
  {
   "cell_type": "markdown",
   "metadata": {},
   "source": [
    "Utilizando o `resnet18` a taxa de erro final foi de 5,9%, com o menor valor atingido sendo 4,7%, e a duração das épocas foi de 2 segundos.  \n",
    "\n",
    "A seguir podemos utilizar o método `list_models()` para listar os modelos presentes na biblioteca `timm` que possuem `convnext` em seu nome."
   ]
  },
  {
   "cell_type": "code",
   "execution_count": 6,
   "metadata": {},
   "outputs": [
    {
     "data": {
      "text/plain": [
       "['convnext_atto',\n",
       " 'convnext_atto_ols',\n",
       " 'convnext_base',\n",
       " 'convnext_base_384_in22ft1k',\n",
       " 'convnext_base_in22ft1k',\n",
       " 'convnext_base_in22k',\n",
       " 'convnext_femto',\n",
       " 'convnext_femto_ols',\n",
       " 'convnext_large',\n",
       " 'convnext_large_384_in22ft1k',\n",
       " 'convnext_large_in22ft1k',\n",
       " 'convnext_large_in22k',\n",
       " 'convnext_nano',\n",
       " 'convnext_nano_ols',\n",
       " 'convnext_pico',\n",
       " 'convnext_pico_ols',\n",
       " 'convnext_small',\n",
       " 'convnext_small_384_in22ft1k',\n",
       " 'convnext_small_in22ft1k',\n",
       " 'convnext_small_in22k',\n",
       " 'convnext_tiny',\n",
       " 'convnext_tiny_384_in22ft1k',\n",
       " 'convnext_tiny_hnf',\n",
       " 'convnext_tiny_in22ft1k',\n",
       " 'convnext_tiny_in22k',\n",
       " 'convnext_xlarge_384_in22ft1k',\n",
       " 'convnext_xlarge_in22ft1k',\n",
       " 'convnext_xlarge_in22k']"
      ]
     },
     "execution_count": 6,
     "metadata": {},
     "output_type": "execute_result"
    }
   ],
   "source": [
    "timm.list_models('convnext*')"
   ]
  },
  {
   "cell_type": "markdown",
   "metadata": {},
   "source": [
    "O modelo que vamos utilizar é o `convnext_tiny_in22k`, e seu nome deve ser passado como string, pois não está presente no fastai e será baixado antes de poder ser utilizado."
   ]
  },
  {
   "cell_type": "code",
   "execution_count": 3,
   "metadata": {},
   "outputs": [
    {
     "data": {
      "text/html": [
       "<table border=\"1\" class=\"dataframe\">\n",
       "  <thead>\n",
       "    <tr style=\"text-align: left;\">\n",
       "      <th>epoch</th>\n",
       "      <th>train_loss</th>\n",
       "      <th>valid_loss</th>\n",
       "      <th>error_rate</th>\n",
       "      <th>time</th>\n",
       "    </tr>\n",
       "  </thead>\n",
       "  <tbody>\n",
       "    <tr>\n",
       "      <td>0</td>\n",
       "      <td>1.551015</td>\n",
       "      <td>0.408585</td>\n",
       "      <td>0.142857</td>\n",
       "      <td>00:09</td>\n",
       "    </tr>\n",
       "  </tbody>\n",
       "</table>"
      ],
      "text/plain": [
       "<IPython.core.display.HTML object>"
      ]
     },
     "metadata": {},
     "output_type": "display_data"
    },
    {
     "data": {
      "text/html": [
       "<table border=\"1\" class=\"dataframe\">\n",
       "  <thead>\n",
       "    <tr style=\"text-align: left;\">\n",
       "      <th>epoch</th>\n",
       "      <th>train_loss</th>\n",
       "      <th>valid_loss</th>\n",
       "      <th>error_rate</th>\n",
       "      <th>time</th>\n",
       "    </tr>\n",
       "  </thead>\n",
       "  <tbody>\n",
       "    <tr>\n",
       "      <td>0</td>\n",
       "      <td>0.391352</td>\n",
       "      <td>0.131678</td>\n",
       "      <td>0.059524</td>\n",
       "      <td>00:25</td>\n",
       "    </tr>\n",
       "    <tr>\n",
       "      <td>1</td>\n",
       "      <td>0.273580</td>\n",
       "      <td>0.063855</td>\n",
       "      <td>0.023810</td>\n",
       "      <td>00:25</td>\n",
       "    </tr>\n",
       "    <tr>\n",
       "      <td>2</td>\n",
       "      <td>0.203980</td>\n",
       "      <td>0.052625</td>\n",
       "      <td>0.023810</td>\n",
       "      <td>00:25</td>\n",
       "    </tr>\n",
       "    <tr>\n",
       "      <td>3</td>\n",
       "      <td>0.179815</td>\n",
       "      <td>0.047770</td>\n",
       "      <td>0.023810</td>\n",
       "      <td>00:25</td>\n",
       "    </tr>\n",
       "  </tbody>\n",
       "</table>"
      ],
      "text/plain": [
       "<IPython.core.display.HTML object>"
      ]
     },
     "metadata": {},
     "output_type": "display_data"
    }
   ],
   "source": [
    "learn2 = vision_learner(dls, 'convnext_tiny_in22k', metrics=error_rate)\n",
    "learn2.fine_tune(4)"
   ]
  },
  {
   "cell_type": "markdown",
   "metadata": {},
   "source": [
    "Como podemos ver, a taxa de erro foi de 2,3% e a duração de cada época foi de 25 segundos.\n",
    "\n",
    "Portanto concluímos que apesar de demorar 15 vezes mais para cada época, o `convnext_tiny` gerou uma taxa de erro 2 vezes menor, e considerando que 25 segundos não é tanto tempo assim, seu uso é definitivamente vantajoso nessa aplicação.\n",
    "\n",
    "Vamos então exportar o modelo e criar uma aplicação no HuggingFace."
   ]
  },
  {
   "cell_type": "code",
   "execution_count": 4,
   "metadata": {},
   "outputs": [],
   "source": [
    "learn2.export('modelo.pkl')"
   ]
  },
  {
   "cell_type": "markdown",
   "metadata": {},
   "source": [
    "E utilizando o seguinte `app.py`:"
   ]
  },
  {
   "cell_type": "markdown",
   "metadata": {},
   "source": [
    "```python\n",
    "from fastai.vision.all import *\n",
    "import gradio as gr\n",
    "\n",
    "def classify_image(img):\n",
    "    pred,idx,probs = learn.predict(img)\n",
    "    return dict(zip(categories, map(float,probs)))\n",
    "\n",
    "learn = load_learner('modelo.pkl')\n",
    "categories = ('Akhal-Teke', 'Appaloosa', 'Arabian', 'Friesian')\n",
    "\n",
    "image = gr.Image(shape=(192,192))\n",
    "label = gr.Label()\n",
    "examples = ['img/d.jpg', 'img/m.jpg', 'img/r.jpg', 'img/t.jpg']\n",
    "\n",
    "intf = gr.Interface(fn=classify_image, inputs=image, outputs=label, examples=examples)\n",
    "intf.launch(inline=False)\n",
    "```"
   ]
  },
  {
   "cell_type": "markdown",
   "metadata": {},
   "source": [
    "Aplicação online no seguinte [link](https://huggingface.co/spaces/vnsrz/cavalos).\n",
    "\n",
    "<img src=\"assets/face.png\" alt=\"\" width=\"500\" /><br>"
   ]
  },
  {
   "cell_type": "markdown",
   "metadata": {},
   "source": [
    "##  5. Redes neurais e seu funcionamento"
   ]
  },
  {
   "cell_type": "markdown",
   "metadata": {},
   "source": [
    "### 5.1 *Gradient descent*"
   ]
  },
  {
   "cell_type": "markdown",
   "metadata": {},
   "source": [
    "Uma rede neural nada mais é do que uma função matemática. Em uma rede neural típica, a função:\n",
    "1. Multiplica cada entrada por um conjunto de valores. Esses valores são chamados de *parâmetros*\n",
    "2. Os soma para cada grupo de valores\n",
    "3. Substitui os valores negativos por 0\n",
    "\n",
    "Esse processo representa uma *camada*. Esses passos são então repetidos, usando a saída da camada anterior como entrada da próxima. \n",
    "\n",
    "Os parâmetros inicias são aleatórios, então para a função ser capaz de aprender algo útil, devemos melhorar os parâmetros de alguma forma, é aí que entra o **método do gradiente** (*gradient descent*)."
   ]
  },
  {
   "cell_type": "code",
   "execution_count": 5,
   "metadata": {},
   "outputs": [],
   "source": [
    "plt.rc('figure', dpi=90)\n",
    "\n",
    "def plot_function(f, title=None, min=-2.1, max=2.1, color='r', ylim=None):\n",
    "    x = torch.linspace(min,max, 100)[:,None]\n",
    "    if ylim: plt.ylim(ylim)\n",
    "    plt.plot(x, f(x), color)\n",
    "    if title is not None: plt.title(title)"
   ]
  },
  {
   "cell_type": "markdown",
   "metadata": {},
   "source": [
    "Para explorar a matemática por trás das redes neurais de forma interativa, serão usadas algumas bibliotecas e funções do Python.\n",
    "\n",
    "Para aprender sobre *gradient descent*, vamos começar com uma função quadrática:"
   ]
  },
  {
   "cell_type": "code",
   "execution_count": 6,
   "metadata": {},
   "outputs": [
    {
     "data": {
      "image/png": "[encoded data removed]",
      "text/plain": [
       "<Figure size 576x432 with 1 Axes>"
      ]
     },
     "metadata": {},
     "output_type": "display_data"
    }
   ],
   "source": [
    "def f(x): return 3*x**2 + 2*x + 1\n",
    "\n",
    "plot_function(f, \"$3x^2 + 2x + 1$\")"
   ]
  },
  {
   "cell_type": "markdown",
   "metadata": {},
   "source": [
    "Nossa função quadrática tem 3 parâmetros: $a=3$, $b=2$, $c=1$. Podemos criar uma função para calcular o valor do ponto em qualquer quadrática, e então outra função para fixar os valores de `a, b, c` que passarmos:"
   ]
  },
  {
   "cell_type": "code",
   "execution_count": 7,
   "metadata": {},
   "outputs": [],
   "source": [
    "def quad(a,b,c,x): return a*x**2 + b*x + c\n",
    "def mk_quad(a,b,c): return partial(quad, a,b,c)"
   ]
  },
  {
   "cell_type": "markdown",
   "metadata": {},
   "source": [
    "Pronto, agora podemos criar qualquer quadrática facilmente.\n",
    "Podemos então simular ruído nas medidas da função `f`, e usar o *gradient descent* para tentar recriar a função original."
   ]
  },
  {
   "cell_type": "code",
   "execution_count": 8,
   "metadata": {},
   "outputs": [],
   "source": [
    "def noise(x, scale): return np.random.normal(scale=scale, size=x.shape)\n",
    "def add_noise(x, mult, add): return x * (1+noise(x,mult)) + noise(x,add)"
   ]
  },
  {
   "cell_type": "markdown",
   "metadata": {},
   "source": [
    "A função `np.random.normal()` pega amostras aleatórias de uma distribuição normal (Gaussiana)\n",
    "Então realizamos os 3 passos para criar uma camada através da função `add_noise()`."
   ]
  },
  {
   "cell_type": "code",
   "execution_count": 9,
   "metadata": {},
   "outputs": [],
   "source": [
    "np.random.seed(42)\n",
    "x = torch.linspace(-2, 2, steps=20)[:,None]\n",
    "y = add_noise(f(x), 0.15, 1.5)"
   ]
  },
  {
   "cell_type": "markdown",
   "metadata": {},
   "source": [
    "A função `torch.linspace(start, end, steps)` cria um *tensor* unidimensional que começa em `start`, termina em `end`, e é dividido em espaços iguais na quantidade de `steps`.\n",
    "\n",
    "Um *tensor* pode ser um único número (tensor rank 0), uma lista de números (tensor rank 1), uma tabela de números (tensor rank 2), uma tabela de tabelas de números (tensor rank 3), e etc.\n",
    "\n",
    "Podemos fazer um *scatter plot* para visualizar nossos dados:"
   ]
  },
  {
   "cell_type": "code",
   "execution_count": 10,
   "metadata": {},
   "outputs": [
    {
     "data": {
      "image/png": "[encoded data removed]",
      "text/plain": [
       "<Figure size 576x432 with 1 Axes>"
      ]
     },
     "metadata": {},
     "output_type": "display_data"
    }
   ],
   "source": [
    "plt.scatter(x,y);"
   ]
  },
  {
   "cell_type": "markdown",
   "metadata": {},
   "source": [
    "Como encontrar os valores de `a, b, c` que se encaixam nos dados? Uma alternativa é alterá-los manualmente."
   ]
  },
  {
   "cell_type": "code",
   "execution_count": 11,
   "metadata": {},
   "outputs": [
    {
     "data": {
      "application/vnd.jupyter.widget-view+json": {
       "model_id": "f872fb1f02804a27a4f942315f9586ab",
       "version_major": 2,
       "version_minor": 0
      },
      "text/plain": [
       "interactive(children=(FloatSlider(value=1.1, description='a', max=3.3000000000000003, min=-1.1), FloatSlider(v…"
      ]
     },
     "metadata": {},
     "output_type": "display_data"
    }
   ],
   "source": [
    "@interact(a=1.1, b=1.1, c=1.1)\n",
    "def plot_quad(a, b, c):\n",
    "    plt.scatter(x,y)\n",
    "    plot_function(mk_quad(a,b,c), ylim=(-3,13))"
   ]
  },
  {
   "cell_type": "markdown",
   "metadata": {},
   "source": [
    "Ajustando os valores, a melhor combinação que encontrei foi:\n",
    "\n",
    "$a=2.60$<br>\n",
    "$b=1.40$<br>\n",
    "$c=0.90$<br>\n",
    "\n",
    "Uma desvantagem desse método é que temos que nos basear em nosso julgamento se o *fit* da função está melhorando ou piorando com cada alteração, mas podemos adicionar um valor numérico para nos basearmos, o **erro médio absoluto**, que é a distância de cada ponto para a curva."
   ]
  },
  {
   "cell_type": "code",
   "execution_count": 12,
   "metadata": {},
   "outputs": [],
   "source": [
    "def ema(preds, acts): return (torch.abs(preds-acts)).mean()"
   ]
  },
  {
   "cell_type": "code",
   "execution_count": 13,
   "metadata": {},
   "outputs": [
    {
     "data": {
      "application/vnd.jupyter.widget-view+json": {
       "model_id": "6d2a12aee3b54616bc27044f5b5f8831",
       "version_major": 2,
       "version_minor": 0
      },
      "text/plain": [
       "interactive(children=(FloatSlider(value=1.1, description='a', max=3.3000000000000003, min=-1.1), FloatSlider(v…"
      ]
     },
     "metadata": {},
     "output_type": "display_data"
    }
   ],
   "source": [
    "@interact(a=1.1, b=1.1, c=1.1)\n",
    "def plot_quad(a, b, c):\n",
    "    f = mk_quad(a,b,c)\n",
    "    plt.scatter(x,y)\n",
    "    loss = mae(f(x), y)\n",
    "    plot_function(f, ylim=(-3,12), title=f\"EMA: {loss:.2f}\")"
   ]
  },
  {
   "cell_type": "markdown",
   "metadata": {},
   "source": [
    "Através do EMA, o melhor conjunto de valores foi:\n",
    "\n",
    "$a=2.10$<br>\n",
    "$b=1.30$<br>\n",
    "$c=2.10$<br>"
   ]
  },
  {
   "cell_type": "markdown",
   "metadata": {},
   "source": [
    "Uma rede neural moderna tem milhões de parâmetros para ajustar, e milhares de pontos de dados. Não é possível realizar tudo isso à mão, mas podemos automatizar o processo."
   ]
  },
  {
   "cell_type": "markdown",
   "metadata": {},
   "source": [
    "### 5.2 Automatização"
   ]
  },
  {
   "cell_type": "markdown",
   "metadata": {},
   "source": [
    "A ideia é saber o efeito da alteração de cada parâmetro no EMA, então encontramos o gradiente do EMA para cada parâmetro, e os ajustamos na direção oposta."
   ]
  },
  {
   "cell_type": "code",
   "execution_count": 14,
   "metadata": {},
   "outputs": [],
   "source": [
    "def quad_mae(params):\n",
    "    f = mk_quad(*params)\n",
    "    return mae(f(x), y)"
   ]
  },
  {
   "cell_type": "markdown",
   "metadata": {},
   "source": [
    "Essa função calcula o EMA pra um conjunto de valores qualquer, então podemos selecionar um conjunto de valores de `a,b,c` para colocar em um tensor, e em seguida explicitar ao PyTorch que vamos calcular gradientes para cada parâmetro:"
   ]
  },
  {
   "cell_type": "code",
   "execution_count": 15,
   "metadata": {},
   "outputs": [
    {
     "data": {
      "text/plain": [
       "tensor([1.1000, 1.1000, 1.1000], requires_grad=True)"
      ]
     },
     "execution_count": 15,
     "metadata": {},
     "output_type": "execute_result"
    }
   ],
   "source": [
    "abc = torch.tensor([1.1, 1.1, 1.1])\n",
    "abc.requires_grad_()"
   ]
  },
  {
   "cell_type": "markdown",
   "metadata": {},
   "source": [
    "Podemos então calcular o EMA. Geralmente no *gradient descent* a coisa minimizada é chamada de perda (*loss*)."
   ]
  },
  {
   "cell_type": "code",
   "execution_count": 16,
   "metadata": {},
   "outputs": [
    {
     "data": {
      "text/plain": [
       "TensorBase(2.4219, grad_fn=<AliasBackward0>)"
      ]
     },
     "execution_count": 16,
     "metadata": {},
     "output_type": "execute_result"
    }
   ],
   "source": [
    "loss = quad_mae(abc)\n",
    "loss"
   ]
  },
  {
   "cell_type": "markdown",
   "metadata": {},
   "source": [
    "Vamos calcular os gradientes através da função `backward()`, e eles ficam guardados na variável `grad`."
   ]
  },
  {
   "cell_type": "code",
   "execution_count": 17,
   "metadata": {},
   "outputs": [
    {
     "data": {
      "text/plain": [
       "tensor([-1.3529, -0.0316, -0.5000])"
      ]
     },
     "execution_count": 17,
     "metadata": {},
     "output_type": "execute_result"
    }
   ],
   "source": [
    "loss.backward()\n",
    "abc.grad"
   ]
  },
  {
   "cell_type": "markdown",
   "metadata": {},
   "source": [
    "De acordo com os gradientes devemos aumentar os parâmetros, então podemos subtrair o gradiente multiplicado por um número pequeno para atingir o resultado desejado:"
   ]
  },
  {
   "cell_type": "code",
   "execution_count": 18,
   "metadata": {},
   "outputs": [
    {
     "name": "stdout",
     "output_type": "stream",
     "text": [
      "loss=2.40\n"
     ]
    }
   ],
   "source": [
    "with torch.no_grad():\n",
    "    abc -= abc.grad*0.01\n",
    "    loss = quad_mae(abc)\n",
    "    \n",
    "print(f'loss={loss:.2f}')"
   ]
  },
  {
   "cell_type": "markdown",
   "metadata": {},
   "source": [
    "O pequeno número utilizado na multiplicação é chamado de *taxa de aprendizado*, e é crucial no treinamento de uma rede neural.\n",
    "\n",
    "Podemos repetir o processo para reduzir mais o erro: "
   ]
  },
  {
   "cell_type": "code",
   "execution_count": 19,
   "metadata": {},
   "outputs": [
    {
     "name": "stdout",
     "output_type": "stream",
     "text": [
      "step=0; loss=2.40\n",
      "step=1; loss=2.36\n",
      "step=2; loss=2.30\n",
      "step=3; loss=2.21\n",
      "step=4; loss=2.11\n",
      "step=5; loss=1.98\n",
      "step=6; loss=1.85\n",
      "step=7; loss=1.72\n",
      "step=8; loss=1.58\n",
      "step=9; loss=1.46\n"
     ]
    }
   ],
   "source": [
    "for i in range(10):\n",
    "    loss = quad_mae(abc)\n",
    "    loss.backward()\n",
    "    with torch.no_grad(): abc -= abc.grad*0.01\n",
    "    print(f'step={i}; loss={loss:.2f}')"
   ]
  },
  {
   "cell_type": "markdown",
   "metadata": {},
   "source": [
    "Eventualmente o valor do erro vai começar a subir, pois os valores dos parâmetros vão superar os corretos. Para isso precisamos diminuir a taxa de aprendizado enquanto treinamos. Isso é feito usando uma *rotina de taxa de aprendizado*, e pode ser automatizada pelo seu framework, como o fastai."
   ]
  },
  {
   "cell_type": "markdown",
   "metadata": {},
   "source": [
    "### 5.3 Retificadores"
   ]
  },
  {
   "cell_type": "markdown",
   "metadata": {},
   "source": [
    "Redes neurais são muito mais complexas do que nosso exemplo, porque são capazes de aproximar qualquer função computável desde que possuam parâmetros o suficiente. Isso as torna capazes de entender e traduzir a fala humana, pintar um quadro, escrever uma redação, e muito mais.\n",
    "\n",
    "Para aproximar uma função precisamos combinar dois passos:\n",
    "1. Multiplicação de matrizes\n",
    "2. A função `max(x,0)`, que troca todos números negativos para 0\n",
    "\n",
    "No PyTorch, a função equivalente à `max(x,0)` é a `np.clip(x,0)`.  \n",
    "A combinação desses passos se chama *função retificada linear* e sua implementação é a seguinte:"
   ]
  },
  {
   "cell_type": "code",
   "execution_count": 20,
   "metadata": {},
   "outputs": [
    {
     "data": {
      "image/png": "[encoded data removed]",
      "text/plain": [
       "<Figure size 576x432 with 1 Axes>"
      ]
     },
     "metadata": {},
     "output_type": "display_data"
    }
   ],
   "source": [
    "def rectified_linear(m,b,x):\n",
    "    y = m*x+b\n",
    "    return torch.clip(y, 0.)\n",
    "\n",
    "plot_function(partial(rectified_linear, 1,1))"
   ]
  },
  {
   "cell_type": "markdown",
   "metadata": {},
   "source": [
    "Sozinha a função não faz muito, mas quando somamos duas:"
   ]
  },
  {
   "cell_type": "code",
   "execution_count": 21,
   "metadata": {},
   "outputs": [
    {
     "data": {
      "application/vnd.jupyter.widget-view+json": {
       "model_id": "89a920552e0944fb9083cb79a1df1509",
       "version_major": 2,
       "version_minor": 0
      },
      "text/plain": [
       "interactive(children=(FloatSlider(value=-1.5, description='m1', max=1.5, min=-4.5), FloatSlider(value=-1.5, de…"
      ]
     },
     "metadata": {},
     "output_type": "display_data"
    }
   ],
   "source": [
    "def double_relu(m1,b1,m2,b2,x):\n",
    "    return rectified_linear(m1,b1,x) + rectified_linear(m2,b2,x)\n",
    "\n",
    "@interact(m1=-1.5, b1=-1.5, m2=1.5, b2=1.5)\n",
    "def plot_double_relu(m1, b1, m2, b2):\n",
    "    plot_function(partial(double_relu, m1,b1,m2,b2), ylim=(-1,6))"
   ]
  },
  {
   "cell_type": "markdown",
   "metadata": {},
   "source": [
    "É possível perceber que com uma quantidade suficiente de funções somadas, seríamos capazes de aproximar qualquer função com uma única entrada.\n",
    "\n",
    "Portanto, a diferença entre os experimentos realizados aqui e uma rede neural funcional é a quantidade de tempo e dados fornecidos."
   ]
  },
  {
   "cell_type": "markdown",
   "metadata": {},
   "source": [
    "## 6. Conclusão"
   ]
  },
  {
   "cell_type": "markdown",
   "metadata": {},
   "source": [
    "A resnet18 é uma excelente ferramenta para treinar um modelo rapidamente, mas existem vários modelos de imagem que possuem uma acurácia maior, e vale a pena experimentar com alguns deles antes da decisão final.\n",
    "\n",
    "Redes neurais é um assunto complexo, mas pode ser quebrado em passos pequenos, assim se tornando compreensível."
   ]
  }
 ],
 "metadata": {
  "kernelspec": {
   "display_name": "Python 3.10.4 ('apm-env')",
   "language": "python",
   "name": "python3"
  },
  "language_info": {
   "codemirror_mode": {
    "name": "ipython",
    "version": 3
   },
   "file_extension": ".py",
   "mimetype": "text/x-python",
   "name": "python",
   "nbconvert_exporter": "python",
   "pygments_lexer": "ipython3",
   "version": "3.10.4"
  },
  "orig_nbformat": 4,
  "vscode": {
   "interpreter": {
    "hash": "8388f0e324a661a1e24a1e4615098f6ac16cd6fbf5b043b22490219e60202161"
   }
  }
 },
 "nbformat": 4,
 "nbformat_minor": 2
}
