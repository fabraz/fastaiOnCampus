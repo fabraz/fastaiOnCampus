{
  "nbformat": 4,
  "nbformat_minor": 0,
  "metadata": {
    "colab": {
      "provenance": []
    },
    "kernelspec": {
      "name": "python3",
      "display_name": "Python 3"
    },
    "language_info": {
      "name": "python"
    }
  },
  "cells": [
    {
      "cell_type": "markdown",
      "source": [
        "# 1. Dados do aluno"
      ],
      "metadata": {
        "id": "uU8mfrHjYol5"
      }
    },
    {
      "cell_type": "markdown",
      "source": [
        "Jackes Tiago Ferreira da Fonseca - 190030291"
      ],
      "metadata": {
        "id": "0boRG0cWYq8p"
      }
    },
    {
      "cell_type": "markdown",
      "source": [
        "# 2. Objetivo"
      ],
      "metadata": {
        "id": "1XbgZ5eiYt9W"
      }
    },
    {
      "cell_type": "markdown",
      "source": [
        "Treinar modelo tabular usando [Radom Forest](https://www.kaggle.com/code/jhoward/how-random-forests-really-work)"
      ],
      "metadata": {
        "id": "QHXaIAj0Yv9o"
      }
    },
    {
      "cell_type": "markdown",
      "source": [
        "# 3. Motivação"
      ],
      "metadata": {
        "id": "Hy-1RwbCYwVR"
      }
    },
    {
      "cell_type": "markdown",
      "source": [
        "Estabelecer uma relação entre as características de um telefone celular (por exemplo:- RAM, memória interna, etc.) e seu preço de venda. Neste problema não irei prever o preço real, mas uma faixa de preço que indica quão alto ele é. Utilizarei o Dataset [Mobile Price Classification](https://www.kaggle.com/code/dansbecker/random-forests/data) disponível na plataforma Kaggle.\n",
        "\n",
        "![b](https://user-images.githubusercontent.com/53023400/212959302-fb5e3fe1-43cf-45c5-96dc-9b7f821553af.png)"
      ],
      "metadata": {
        "id": "W6-VyFQ2Y_8a"
      }
    },
    {
      "cell_type": "markdown",
      "source": [
        "# 4. Modelagem"
      ],
      "metadata": {
        "id": "qoWBWicxY4pR"
      }
    },
    {
      "cell_type": "markdown",
      "source": [
        "## 4.1 Importando dependências"
      ],
      "metadata": {
        "id": "-amNYy2Lmmdh"
      }
    },
    {
      "cell_type": "markdown",
      "source": [
        "Nesse artigo serão utilizadas as bibliotecas:\n",
        "\n",
        "- [Pathlib](https://docs.python.org/3/library/pathlib.html)\n",
        "- [PyTorch](https://pytorch.org/docs/stable/index.html)\n",
        "- [Numpy](https://numpy.org/doc/)\n",
        "- [Pandas](https://pandas.pydata.org/docs/)\n",
        "- [Scikit-learn](https://scikit-learn.org/stable/)"
      ],
      "metadata": {
        "id": "XY8AHm3bmpZ7"
      }
    },
    {
      "cell_type": "code",
      "source": [
        "import numpy as np\n",
        "import graphviz\n",
        "import re\n",
        "import pandas as pd\n",
        "import matplotlib.pyplot as plt\n",
        "import seaborn as sns\n",
        "from pathlib import Path\n",
        "from sklearn.ensemble import RandomForestClassifier\n",
        "from sklearn.model_selection import train_test_split\n",
        "from sklearn.tree import DecisionTreeClassifier, export_graphviz"
      ],
      "metadata": {
        "id": "lROGuMHKm0bi"
      },
      "execution_count": null,
      "outputs": []
    },
    {
      "cell_type": "markdown",
      "source": [
        "Primeiramente, crio uma variável que contém o caminho do diretório onde está armazenado o dataset"
      ],
      "metadata": {
        "id": "lRujOXEUnkmh"
      }
    },
    {
      "cell_type": "code",
      "source": [
        "path = Path('/content/drive/MyDrive/Software Engeneering/8th - Semester/ML/mobile-price')\n",
        "path"
      ],
      "metadata": {
        "colab": {
          "base_uri": "https://localhost:8080/"
        },
        "id": "ExuPmJWem-p1",
        "outputId": "e55913b6-94c4-40c6-f5c8-ed47ce6ad2c3"
      },
      "execution_count": null,
      "outputs": [
        {
          "output_type": "execute_result",
          "data": {
            "text/plain": [
              "PosixPath('/content/drive/MyDrive/Software Engeneering/8th - Semester/ML/mobile-price')"
            ]
          },
          "metadata": {},
          "execution_count": 29
        }
      ]
    },
    {
      "cell_type": "markdown",
      "source": [
        "## 4.2 Limpando os dados"
      ],
      "metadata": {
        "id": "Cy6otRx1nxv6"
      }
    },
    {
      "cell_type": "markdown",
      "source": [
        "Este é um dataset de dados tabulares - os dados estão na forma de uma tabela. Ele é fornecido como um arquivo de valores separados por vírgulas (CSV). Podemos abri-lo usando a biblioteca *pandas*. Primeiro, faço a leitura do arquivo de treino"
      ],
      "metadata": {
        "id": "UgpGAg2an7dd"
      }
    },
    {
      "cell_type": "code",
      "source": [
        "train = pd.read_csv(path/\"train.csv\")\n",
        "train.head()"
      ],
      "metadata": {
        "colab": {
          "base_uri": "https://localhost:8080/",
          "height": 300
        },
        "id": "3QW946ednLuM",
        "outputId": "80978377-3f70-4bc2-dd01-7dc9434ea4b0"
      },
      "execution_count": null,
      "outputs": [
        {
          "output_type": "execute_result",
          "data": {
            "text/plain": [
              "   battery_power  blue  clock_speed  dual_sim  fc  four_g  int_memory  m_dep  \\\n",
              "0            842     0          2.2         0   1       0           7    0.6   \n",
              "1           1021     1          0.5         1   0       1          53    0.7   \n",
              "2            563     1          0.5         1   2       1          41    0.9   \n",
              "3            615     1          2.5         0   0       0          10    0.8   \n",
              "4           1821     1          1.2         0  13       1          44    0.6   \n",
              "\n",
              "   mobile_wt  n_cores  ...  px_height  px_width   ram  sc_h  sc_w  talk_time  \\\n",
              "0        188        2  ...         20       756  2549     9     7         19   \n",
              "1        136        3  ...        905      1988  2631    17     3          7   \n",
              "2        145        5  ...       1263      1716  2603    11     2          9   \n",
              "3        131        6  ...       1216      1786  2769    16     8         11   \n",
              "4        141        2  ...       1208      1212  1411     8     2         15   \n",
              "\n",
              "   three_g  touch_screen  wifi  price_range  \n",
              "0        0             0     1            1  \n",
              "1        1             1     0            2  \n",
              "2        1             1     0            2  \n",
              "3        1             0     0            2  \n",
              "4        1             1     0            1  \n",
              "\n",
              "[5 rows x 21 columns]"
            ],
            "text/html": [
              "\n",
              "  <div id=\"df-bda895f3-8031-49c5-9acd-d26bea9fbb15\">\n",
              "    <div class=\"colab-df-container\">\n",
              "      <div>\n",
              "<style scoped>\n",
              "    .dataframe tbody tr th:only-of-type {\n",
              "        vertical-align: middle;\n",
              "    }\n",
              "\n",
              "    .dataframe tbody tr th {\n",
              "        vertical-align: top;\n",
              "    }\n",
              "\n",
              "    .dataframe thead th {\n",
              "        text-align: right;\n",
              "    }\n",
              "</style>\n",
              "<table border=\"1\" class=\"dataframe\">\n",
              "  <thead>\n",
              "    <tr style=\"text-align: right;\">\n",
              "      <th></th>\n",
              "      <th>battery_power</th>\n",
              "      <th>blue</th>\n",
              "      <th>clock_speed</th>\n",
              "      <th>dual_sim</th>\n",
              "      <th>fc</th>\n",
              "      <th>four_g</th>\n",
              "      <th>int_memory</th>\n",
              "      <th>m_dep</th>\n",
              "      <th>mobile_wt</th>\n",
              "      <th>n_cores</th>\n",
              "      <th>...</th>\n",
              "      <th>px_height</th>\n",
              "      <th>px_width</th>\n",
              "      <th>ram</th>\n",
              "      <th>sc_h</th>\n",
              "      <th>sc_w</th>\n",
              "      <th>talk_time</th>\n",
              "      <th>three_g</th>\n",
              "      <th>touch_screen</th>\n",
              "      <th>wifi</th>\n",
              "      <th>price_range</th>\n",
              "    </tr>\n",
              "  </thead>\n",
              "  <tbody>\n",
              "    <tr>\n",
              "      <th>0</th>\n",
              "      <td>842</td>\n",
              "      <td>0</td>\n",
              "      <td>2.2</td>\n",
              "      <td>0</td>\n",
              "      <td>1</td>\n",
              "      <td>0</td>\n",
              "      <td>7</td>\n",
              "      <td>0.6</td>\n",
              "      <td>188</td>\n",
              "      <td>2</td>\n",
              "      <td>...</td>\n",
              "      <td>20</td>\n",
              "      <td>756</td>\n",
              "      <td>2549</td>\n",
              "      <td>9</td>\n",
              "      <td>7</td>\n",
              "      <td>19</td>\n",
              "      <td>0</td>\n",
              "      <td>0</td>\n",
              "      <td>1</td>\n",
              "      <td>1</td>\n",
              "    </tr>\n",
              "    <tr>\n",
              "      <th>1</th>\n",
              "      <td>1021</td>\n",
              "      <td>1</td>\n",
              "      <td>0.5</td>\n",
              "      <td>1</td>\n",
              "      <td>0</td>\n",
              "      <td>1</td>\n",
              "      <td>53</td>\n",
              "      <td>0.7</td>\n",
              "      <td>136</td>\n",
              "      <td>3</td>\n",
              "      <td>...</td>\n",
              "      <td>905</td>\n",
              "      <td>1988</td>\n",
              "      <td>2631</td>\n",
              "      <td>17</td>\n",
              "      <td>3</td>\n",
              "      <td>7</td>\n",
              "      <td>1</td>\n",
              "      <td>1</td>\n",
              "      <td>0</td>\n",
              "      <td>2</td>\n",
              "    </tr>\n",
              "    <tr>\n",
              "      <th>2</th>\n",
              "      <td>563</td>\n",
              "      <td>1</td>\n",
              "      <td>0.5</td>\n",
              "      <td>1</td>\n",
              "      <td>2</td>\n",
              "      <td>1</td>\n",
              "      <td>41</td>\n",
              "      <td>0.9</td>\n",
              "      <td>145</td>\n",
              "      <td>5</td>\n",
              "      <td>...</td>\n",
              "      <td>1263</td>\n",
              "      <td>1716</td>\n",
              "      <td>2603</td>\n",
              "      <td>11</td>\n",
              "      <td>2</td>\n",
              "      <td>9</td>\n",
              "      <td>1</td>\n",
              "      <td>1</td>\n",
              "      <td>0</td>\n",
              "      <td>2</td>\n",
              "    </tr>\n",
              "    <tr>\n",
              "      <th>3</th>\n",
              "      <td>615</td>\n",
              "      <td>1</td>\n",
              "      <td>2.5</td>\n",
              "      <td>0</td>\n",
              "      <td>0</td>\n",
              "      <td>0</td>\n",
              "      <td>10</td>\n",
              "      <td>0.8</td>\n",
              "      <td>131</td>\n",
              "      <td>6</td>\n",
              "      <td>...</td>\n",
              "      <td>1216</td>\n",
              "      <td>1786</td>\n",
              "      <td>2769</td>\n",
              "      <td>16</td>\n",
              "      <td>8</td>\n",
              "      <td>11</td>\n",
              "      <td>1</td>\n",
              "      <td>0</td>\n",
              "      <td>0</td>\n",
              "      <td>2</td>\n",
              "    </tr>\n",
              "    <tr>\n",
              "      <th>4</th>\n",
              "      <td>1821</td>\n",
              "      <td>1</td>\n",
              "      <td>1.2</td>\n",
              "      <td>0</td>\n",
              "      <td>13</td>\n",
              "      <td>1</td>\n",
              "      <td>44</td>\n",
              "      <td>0.6</td>\n",
              "      <td>141</td>\n",
              "      <td>2</td>\n",
              "      <td>...</td>\n",
              "      <td>1208</td>\n",
              "      <td>1212</td>\n",
              "      <td>1411</td>\n",
              "      <td>8</td>\n",
              "      <td>2</td>\n",
              "      <td>15</td>\n",
              "      <td>1</td>\n",
              "      <td>1</td>\n",
              "      <td>0</td>\n",
              "      <td>1</td>\n",
              "    </tr>\n",
              "  </tbody>\n",
              "</table>\n",
              "<p>5 rows × 21 columns</p>\n",
              "</div>\n",
              "      <button class=\"colab-df-convert\" onclick=\"convertToInteractive('df-bda895f3-8031-49c5-9acd-d26bea9fbb15')\"\n",
              "              title=\"Convert this dataframe to an interactive table.\"\n",
              "              style=\"display:none;\">\n",
              "        \n",
              "  <svg xmlns=\"http://www.w3.org/2000/svg\" height=\"24px\"viewBox=\"0 0 24 24\"\n",
              "       width=\"24px\">\n",
              "    <path d=\"M0 0h24v24H0V0z\" fill=\"none\"/>\n",
              "    <path d=\"M18.56 5.44l.94 2.06.94-2.06 2.06-.94-2.06-.94-.94-2.06-.94 2.06-2.06.94zm-11 1L8.5 8.5l.94-2.06 2.06-.94-2.06-.94L8.5 2.5l-.94 2.06-2.06.94zm10 10l.94 2.06.94-2.06 2.06-.94-2.06-.94-.94-2.06-.94 2.06-2.06.94z\"/><path d=\"M17.41 7.96l-1.37-1.37c-.4-.4-.92-.59-1.43-.59-.52 0-1.04.2-1.43.59L10.3 9.45l-7.72 7.72c-.78.78-.78 2.05 0 2.83L4 21.41c.39.39.9.59 1.41.59.51 0 1.02-.2 1.41-.59l7.78-7.78 2.81-2.81c.8-.78.8-2.07 0-2.86zM5.41 20L4 18.59l7.72-7.72 1.47 1.35L5.41 20z\"/>\n",
              "  </svg>\n",
              "      </button>\n",
              "      \n",
              "  <style>\n",
              "    .colab-df-container {\n",
              "      display:flex;\n",
              "      flex-wrap:wrap;\n",
              "      gap: 12px;\n",
              "    }\n",
              "\n",
              "    .colab-df-convert {\n",
              "      background-color: #E8F0FE;\n",
              "      border: none;\n",
              "      border-radius: 50%;\n",
              "      cursor: pointer;\n",
              "      display: none;\n",
              "      fill: #1967D2;\n",
              "      height: 32px;\n",
              "      padding: 0 0 0 0;\n",
              "      width: 32px;\n",
              "    }\n",
              "\n",
              "    .colab-df-convert:hover {\n",
              "      background-color: #E2EBFA;\n",
              "      box-shadow: 0px 1px 2px rgba(60, 64, 67, 0.3), 0px 1px 3px 1px rgba(60, 64, 67, 0.15);\n",
              "      fill: #174EA6;\n",
              "    }\n",
              "\n",
              "    [theme=dark] .colab-df-convert {\n",
              "      background-color: #3B4455;\n",
              "      fill: #D2E3FC;\n",
              "    }\n",
              "\n",
              "    [theme=dark] .colab-df-convert:hover {\n",
              "      background-color: #434B5C;\n",
              "      box-shadow: 0px 1px 3px 1px rgba(0, 0, 0, 0.15);\n",
              "      filter: drop-shadow(0px 1px 2px rgba(0, 0, 0, 0.3));\n",
              "      fill: #FFFFFF;\n",
              "    }\n",
              "  </style>\n",
              "\n",
              "      <script>\n",
              "        const buttonEl =\n",
              "          document.querySelector('#df-bda895f3-8031-49c5-9acd-d26bea9fbb15 button.colab-df-convert');\n",
              "        buttonEl.style.display =\n",
              "          google.colab.kernel.accessAllowed ? 'block' : 'none';\n",
              "\n",
              "        async function convertToInteractive(key) {\n",
              "          const element = document.querySelector('#df-bda895f3-8031-49c5-9acd-d26bea9fbb15');\n",
              "          const dataTable =\n",
              "            await google.colab.kernel.invokeFunction('convertToInteractive',\n",
              "                                                     [key], {});\n",
              "          if (!dataTable) return;\n",
              "\n",
              "          const docLinkHtml = 'Like what you see? Visit the ' +\n",
              "            '<a target=\"_blank\" href=https://colab.research.google.com/notebooks/data_table.ipynb>data table notebook</a>'\n",
              "            + ' to learn more about interactive tables.';\n",
              "          element.innerHTML = '';\n",
              "          dataTable['output_type'] = 'display_data';\n",
              "          await google.colab.output.renderOutput(dataTable, element);\n",
              "          const docLink = document.createElement('div');\n",
              "          docLink.innerHTML = docLinkHtml;\n",
              "          element.appendChild(docLink);\n",
              "        }\n",
              "      </script>\n",
              "    </div>\n",
              "  </div>\n",
              "  "
            ]
          },
          "metadata": {},
          "execution_count": 30
        }
      ]
    },
    {
      "cell_type": "markdown",
      "source": [
        "Podemos observar que temos uma tabela com 21 colunas:\n",
        "- battery_power\n",
        "- blue\n",
        "- clock_speed\n",
        "- dual_sim\n",
        "- fc\n",
        "- four_g\n",
        "- int_memory\n",
        "- m_dep\n",
        "- mobile_wt\n",
        "- n_cores\n",
        "- pc\n",
        "- px_height\n",
        "- px_ẁidth\n",
        "- ram\n",
        "- sc_h\n",
        "- sc_w\n",
        "- talk_time\n",
        "- three_g\n",
        "- touch_screen\n",
        "- wifi\n",
        "- price_range"
      ],
      "metadata": {
        "id": "CGI5hBYeoTVt"
      }
    },
    {
      "cell_type": "markdown",
      "source": [
        "Onde, na coluna *price_range* possue uma escala de **[0 - 3]** indicando que quanto mais a direita, maior será o valor de um telefone"
      ],
      "metadata": {
        "id": "_jI8KNWf6tv2"
      }
    },
    {
      "cell_type": "markdown",
      "source": [
        "Verifico se existem linhas com valores ausentes"
      ],
      "metadata": {
        "id": "IAJ87_4ioPMp"
      }
    },
    {
      "cell_type": "code",
      "source": [
        "train.isna().sum()"
      ],
      "metadata": {
        "colab": {
          "base_uri": "https://localhost:8080/"
        },
        "id": "Rei3wp_S1Fri",
        "outputId": "9568cff3-38cc-4349-d7b7-3662c77ea44f"
      },
      "execution_count": null,
      "outputs": [
        {
          "output_type": "execute_result",
          "data": {
            "text/plain": [
              "battery_power    0\n",
              "blue             0\n",
              "clock_speed      0\n",
              "dual_sim         0\n",
              "fc               0\n",
              "four_g           0\n",
              "int_memory       0\n",
              "m_dep            0\n",
              "mobile_wt        0\n",
              "n_cores          0\n",
              "pc               0\n",
              "px_height        0\n",
              "px_width         0\n",
              "ram              0\n",
              "sc_h             0\n",
              "sc_w             0\n",
              "talk_time        0\n",
              "three_g          0\n",
              "touch_screen     0\n",
              "wifi             0\n",
              "price_range      0\n",
              "dtype: int64"
            ]
          },
          "metadata": {},
          "execution_count": 31
        }
      ]
    },
    {
      "cell_type": "markdown",
      "source": [
        "O pandas nos permite verificar um resumo rápido de todas as colunas numéricas no dataset, como valor mínimo máximo e média"
      ],
      "metadata": {
        "id": "_KalDL5apsUr"
      }
    },
    {
      "cell_type": "code",
      "source": [
        "train.describe(include=(np.number))"
      ],
      "metadata": {
        "colab": {
          "base_uri": "https://localhost:8080/",
          "height": 394
        },
        "id": "NO9Vafyw1j2G",
        "outputId": "2010d1f3-495c-4f09-b3fc-32cf47bec6a6"
      },
      "execution_count": null,
      "outputs": [
        {
          "output_type": "execute_result",
          "data": {
            "text/plain": [
              "       battery_power       blue  clock_speed     dual_sim           fc  \\\n",
              "count    2000.000000  2000.0000  2000.000000  2000.000000  2000.000000   \n",
              "mean     1238.518500     0.4950     1.522250     0.509500     4.309500   \n",
              "std       439.418206     0.5001     0.816004     0.500035     4.341444   \n",
              "min       501.000000     0.0000     0.500000     0.000000     0.000000   \n",
              "25%       851.750000     0.0000     0.700000     0.000000     1.000000   \n",
              "50%      1226.000000     0.0000     1.500000     1.000000     3.000000   \n",
              "75%      1615.250000     1.0000     2.200000     1.000000     7.000000   \n",
              "max      1998.000000     1.0000     3.000000     1.000000    19.000000   \n",
              "\n",
              "            four_g   int_memory        m_dep    mobile_wt      n_cores  ...  \\\n",
              "count  2000.000000  2000.000000  2000.000000  2000.000000  2000.000000  ...   \n",
              "mean      0.521500    32.046500     0.501750   140.249000     4.520500  ...   \n",
              "std       0.499662    18.145715     0.288416    35.399655     2.287837  ...   \n",
              "min       0.000000     2.000000     0.100000    80.000000     1.000000  ...   \n",
              "25%       0.000000    16.000000     0.200000   109.000000     3.000000  ...   \n",
              "50%       1.000000    32.000000     0.500000   141.000000     4.000000  ...   \n",
              "75%       1.000000    48.000000     0.800000   170.000000     7.000000  ...   \n",
              "max       1.000000    64.000000     1.000000   200.000000     8.000000  ...   \n",
              "\n",
              "         px_height     px_width          ram         sc_h         sc_w  \\\n",
              "count  2000.000000  2000.000000  2000.000000  2000.000000  2000.000000   \n",
              "mean    645.108000  1251.515500  2124.213000    12.306500     5.767000   \n",
              "std     443.780811   432.199447  1084.732044     4.213245     4.356398   \n",
              "min       0.000000   500.000000   256.000000     5.000000     0.000000   \n",
              "25%     282.750000   874.750000  1207.500000     9.000000     2.000000   \n",
              "50%     564.000000  1247.000000  2146.500000    12.000000     5.000000   \n",
              "75%     947.250000  1633.000000  3064.500000    16.000000     9.000000   \n",
              "max    1960.000000  1998.000000  3998.000000    19.000000    18.000000   \n",
              "\n",
              "         talk_time      three_g  touch_screen         wifi  price_range  \n",
              "count  2000.000000  2000.000000   2000.000000  2000.000000  2000.000000  \n",
              "mean     11.011000     0.761500      0.503000     0.507000     1.500000  \n",
              "std       5.463955     0.426273      0.500116     0.500076     1.118314  \n",
              "min       2.000000     0.000000      0.000000     0.000000     0.000000  \n",
              "25%       6.000000     1.000000      0.000000     0.000000     0.750000  \n",
              "50%      11.000000     1.000000      1.000000     1.000000     1.500000  \n",
              "75%      16.000000     1.000000      1.000000     1.000000     2.250000  \n",
              "max      20.000000     1.000000      1.000000     1.000000     3.000000  \n",
              "\n",
              "[8 rows x 21 columns]"
            ],
            "text/html": [
              "\n",
              "  <div id=\"df-3435c023-0918-4b87-bcd2-a352d0942ab7\">\n",
              "    <div class=\"colab-df-container\">\n",
              "      <div>\n",
              "<style scoped>\n",
              "    .dataframe tbody tr th:only-of-type {\n",
              "        vertical-align: middle;\n",
              "    }\n",
              "\n",
              "    .dataframe tbody tr th {\n",
              "        vertical-align: top;\n",
              "    }\n",
              "\n",
              "    .dataframe thead th {\n",
              "        text-align: right;\n",
              "    }\n",
              "</style>\n",
              "<table border=\"1\" class=\"dataframe\">\n",
              "  <thead>\n",
              "    <tr style=\"text-align: right;\">\n",
              "      <th></th>\n",
              "      <th>battery_power</th>\n",
              "      <th>blue</th>\n",
              "      <th>clock_speed</th>\n",
              "      <th>dual_sim</th>\n",
              "      <th>fc</th>\n",
              "      <th>four_g</th>\n",
              "      <th>int_memory</th>\n",
              "      <th>m_dep</th>\n",
              "      <th>mobile_wt</th>\n",
              "      <th>n_cores</th>\n",
              "      <th>...</th>\n",
              "      <th>px_height</th>\n",
              "      <th>px_width</th>\n",
              "      <th>ram</th>\n",
              "      <th>sc_h</th>\n",
              "      <th>sc_w</th>\n",
              "      <th>talk_time</th>\n",
              "      <th>three_g</th>\n",
              "      <th>touch_screen</th>\n",
              "      <th>wifi</th>\n",
              "      <th>price_range</th>\n",
              "    </tr>\n",
              "  </thead>\n",
              "  <tbody>\n",
              "    <tr>\n",
              "      <th>count</th>\n",
              "      <td>2000.000000</td>\n",
              "      <td>2000.0000</td>\n",
              "      <td>2000.000000</td>\n",
              "      <td>2000.000000</td>\n",
              "      <td>2000.000000</td>\n",
              "      <td>2000.000000</td>\n",
              "      <td>2000.000000</td>\n",
              "      <td>2000.000000</td>\n",
              "      <td>2000.000000</td>\n",
              "      <td>2000.000000</td>\n",
              "      <td>...</td>\n",
              "      <td>2000.000000</td>\n",
              "      <td>2000.000000</td>\n",
              "      <td>2000.000000</td>\n",
              "      <td>2000.000000</td>\n",
              "      <td>2000.000000</td>\n",
              "      <td>2000.000000</td>\n",
              "      <td>2000.000000</td>\n",
              "      <td>2000.000000</td>\n",
              "      <td>2000.000000</td>\n",
              "      <td>2000.000000</td>\n",
              "    </tr>\n",
              "    <tr>\n",
              "      <th>mean</th>\n",
              "      <td>1238.518500</td>\n",
              "      <td>0.4950</td>\n",
              "      <td>1.522250</td>\n",
              "      <td>0.509500</td>\n",
              "      <td>4.309500</td>\n",
              "      <td>0.521500</td>\n",
              "      <td>32.046500</td>\n",
              "      <td>0.501750</td>\n",
              "      <td>140.249000</td>\n",
              "      <td>4.520500</td>\n",
              "      <td>...</td>\n",
              "      <td>645.108000</td>\n",
              "      <td>1251.515500</td>\n",
              "      <td>2124.213000</td>\n",
              "      <td>12.306500</td>\n",
              "      <td>5.767000</td>\n",
              "      <td>11.011000</td>\n",
              "      <td>0.761500</td>\n",
              "      <td>0.503000</td>\n",
              "      <td>0.507000</td>\n",
              "      <td>1.500000</td>\n",
              "    </tr>\n",
              "    <tr>\n",
              "      <th>std</th>\n",
              "      <td>439.418206</td>\n",
              "      <td>0.5001</td>\n",
              "      <td>0.816004</td>\n",
              "      <td>0.500035</td>\n",
              "      <td>4.341444</td>\n",
              "      <td>0.499662</td>\n",
              "      <td>18.145715</td>\n",
              "      <td>0.288416</td>\n",
              "      <td>35.399655</td>\n",
              "      <td>2.287837</td>\n",
              "      <td>...</td>\n",
              "      <td>443.780811</td>\n",
              "      <td>432.199447</td>\n",
              "      <td>1084.732044</td>\n",
              "      <td>4.213245</td>\n",
              "      <td>4.356398</td>\n",
              "      <td>5.463955</td>\n",
              "      <td>0.426273</td>\n",
              "      <td>0.500116</td>\n",
              "      <td>0.500076</td>\n",
              "      <td>1.118314</td>\n",
              "    </tr>\n",
              "    <tr>\n",
              "      <th>min</th>\n",
              "      <td>501.000000</td>\n",
              "      <td>0.0000</td>\n",
              "      <td>0.500000</td>\n",
              "      <td>0.000000</td>\n",
              "      <td>0.000000</td>\n",
              "      <td>0.000000</td>\n",
              "      <td>2.000000</td>\n",
              "      <td>0.100000</td>\n",
              "      <td>80.000000</td>\n",
              "      <td>1.000000</td>\n",
              "      <td>...</td>\n",
              "      <td>0.000000</td>\n",
              "      <td>500.000000</td>\n",
              "      <td>256.000000</td>\n",
              "      <td>5.000000</td>\n",
              "      <td>0.000000</td>\n",
              "      <td>2.000000</td>\n",
              "      <td>0.000000</td>\n",
              "      <td>0.000000</td>\n",
              "      <td>0.000000</td>\n",
              "      <td>0.000000</td>\n",
              "    </tr>\n",
              "    <tr>\n",
              "      <th>25%</th>\n",
              "      <td>851.750000</td>\n",
              "      <td>0.0000</td>\n",
              "      <td>0.700000</td>\n",
              "      <td>0.000000</td>\n",
              "      <td>1.000000</td>\n",
              "      <td>0.000000</td>\n",
              "      <td>16.000000</td>\n",
              "      <td>0.200000</td>\n",
              "      <td>109.000000</td>\n",
              "      <td>3.000000</td>\n",
              "      <td>...</td>\n",
              "      <td>282.750000</td>\n",
              "      <td>874.750000</td>\n",
              "      <td>1207.500000</td>\n",
              "      <td>9.000000</td>\n",
              "      <td>2.000000</td>\n",
              "      <td>6.000000</td>\n",
              "      <td>1.000000</td>\n",
              "      <td>0.000000</td>\n",
              "      <td>0.000000</td>\n",
              "      <td>0.750000</td>\n",
              "    </tr>\n",
              "    <tr>\n",
              "      <th>50%</th>\n",
              "      <td>1226.000000</td>\n",
              "      <td>0.0000</td>\n",
              "      <td>1.500000</td>\n",
              "      <td>1.000000</td>\n",
              "      <td>3.000000</td>\n",
              "      <td>1.000000</td>\n",
              "      <td>32.000000</td>\n",
              "      <td>0.500000</td>\n",
              "      <td>141.000000</td>\n",
              "      <td>4.000000</td>\n",
              "      <td>...</td>\n",
              "      <td>564.000000</td>\n",
              "      <td>1247.000000</td>\n",
              "      <td>2146.500000</td>\n",
              "      <td>12.000000</td>\n",
              "      <td>5.000000</td>\n",
              "      <td>11.000000</td>\n",
              "      <td>1.000000</td>\n",
              "      <td>1.000000</td>\n",
              "      <td>1.000000</td>\n",
              "      <td>1.500000</td>\n",
              "    </tr>\n",
              "    <tr>\n",
              "      <th>75%</th>\n",
              "      <td>1615.250000</td>\n",
              "      <td>1.0000</td>\n",
              "      <td>2.200000</td>\n",
              "      <td>1.000000</td>\n",
              "      <td>7.000000</td>\n",
              "      <td>1.000000</td>\n",
              "      <td>48.000000</td>\n",
              "      <td>0.800000</td>\n",
              "      <td>170.000000</td>\n",
              "      <td>7.000000</td>\n",
              "      <td>...</td>\n",
              "      <td>947.250000</td>\n",
              "      <td>1633.000000</td>\n",
              "      <td>3064.500000</td>\n",
              "      <td>16.000000</td>\n",
              "      <td>9.000000</td>\n",
              "      <td>16.000000</td>\n",
              "      <td>1.000000</td>\n",
              "      <td>1.000000</td>\n",
              "      <td>1.000000</td>\n",
              "      <td>2.250000</td>\n",
              "    </tr>\n",
              "    <tr>\n",
              "      <th>max</th>\n",
              "      <td>1998.000000</td>\n",
              "      <td>1.0000</td>\n",
              "      <td>3.000000</td>\n",
              "      <td>1.000000</td>\n",
              "      <td>19.000000</td>\n",
              "      <td>1.000000</td>\n",
              "      <td>64.000000</td>\n",
              "      <td>1.000000</td>\n",
              "      <td>200.000000</td>\n",
              "      <td>8.000000</td>\n",
              "      <td>...</td>\n",
              "      <td>1960.000000</td>\n",
              "      <td>1998.000000</td>\n",
              "      <td>3998.000000</td>\n",
              "      <td>19.000000</td>\n",
              "      <td>18.000000</td>\n",
              "      <td>20.000000</td>\n",
              "      <td>1.000000</td>\n",
              "      <td>1.000000</td>\n",
              "      <td>1.000000</td>\n",
              "      <td>3.000000</td>\n",
              "    </tr>\n",
              "  </tbody>\n",
              "</table>\n",
              "<p>8 rows × 21 columns</p>\n",
              "</div>\n",
              "      <button class=\"colab-df-convert\" onclick=\"convertToInteractive('df-3435c023-0918-4b87-bcd2-a352d0942ab7')\"\n",
              "              title=\"Convert this dataframe to an interactive table.\"\n",
              "              style=\"display:none;\">\n",
              "        \n",
              "  <svg xmlns=\"http://www.w3.org/2000/svg\" height=\"24px\"viewBox=\"0 0 24 24\"\n",
              "       width=\"24px\">\n",
              "    <path d=\"M0 0h24v24H0V0z\" fill=\"none\"/>\n",
              "    <path d=\"M18.56 5.44l.94 2.06.94-2.06 2.06-.94-2.06-.94-.94-2.06-.94 2.06-2.06.94zm-11 1L8.5 8.5l.94-2.06 2.06-.94-2.06-.94L8.5 2.5l-.94 2.06-2.06.94zm10 10l.94 2.06.94-2.06 2.06-.94-2.06-.94-.94-2.06-.94 2.06-2.06.94z\"/><path d=\"M17.41 7.96l-1.37-1.37c-.4-.4-.92-.59-1.43-.59-.52 0-1.04.2-1.43.59L10.3 9.45l-7.72 7.72c-.78.78-.78 2.05 0 2.83L4 21.41c.39.39.9.59 1.41.59.51 0 1.02-.2 1.41-.59l7.78-7.78 2.81-2.81c.8-.78.8-2.07 0-2.86zM5.41 20L4 18.59l7.72-7.72 1.47 1.35L5.41 20z\"/>\n",
              "  </svg>\n",
              "      </button>\n",
              "      \n",
              "  <style>\n",
              "    .colab-df-container {\n",
              "      display:flex;\n",
              "      flex-wrap:wrap;\n",
              "      gap: 12px;\n",
              "    }\n",
              "\n",
              "    .colab-df-convert {\n",
              "      background-color: #E8F0FE;\n",
              "      border: none;\n",
              "      border-radius: 50%;\n",
              "      cursor: pointer;\n",
              "      display: none;\n",
              "      fill: #1967D2;\n",
              "      height: 32px;\n",
              "      padding: 0 0 0 0;\n",
              "      width: 32px;\n",
              "    }\n",
              "\n",
              "    .colab-df-convert:hover {\n",
              "      background-color: #E2EBFA;\n",
              "      box-shadow: 0px 1px 2px rgba(60, 64, 67, 0.3), 0px 1px 3px 1px rgba(60, 64, 67, 0.15);\n",
              "      fill: #174EA6;\n",
              "    }\n",
              "\n",
              "    [theme=dark] .colab-df-convert {\n",
              "      background-color: #3B4455;\n",
              "      fill: #D2E3FC;\n",
              "    }\n",
              "\n",
              "    [theme=dark] .colab-df-convert:hover {\n",
              "      background-color: #434B5C;\n",
              "      box-shadow: 0px 1px 3px 1px rgba(0, 0, 0, 0.15);\n",
              "      filter: drop-shadow(0px 1px 2px rgba(0, 0, 0, 0.3));\n",
              "      fill: #FFFFFF;\n",
              "    }\n",
              "  </style>\n",
              "\n",
              "      <script>\n",
              "        const buttonEl =\n",
              "          document.querySelector('#df-3435c023-0918-4b87-bcd2-a352d0942ab7 button.colab-df-convert');\n",
              "        buttonEl.style.display =\n",
              "          google.colab.kernel.accessAllowed ? 'block' : 'none';\n",
              "\n",
              "        async function convertToInteractive(key) {\n",
              "          const element = document.querySelector('#df-3435c023-0918-4b87-bcd2-a352d0942ab7');\n",
              "          const dataTable =\n",
              "            await google.colab.kernel.invokeFunction('convertToInteractive',\n",
              "                                                     [key], {});\n",
              "          if (!dataTable) return;\n",
              "\n",
              "          const docLinkHtml = 'Like what you see? Visit the ' +\n",
              "            '<a target=\"_blank\" href=https://colab.research.google.com/notebooks/data_table.ipynb>data table notebook</a>'\n",
              "            + ' to learn more about interactive tables.';\n",
              "          element.innerHTML = '';\n",
              "          dataTable['output_type'] = 'display_data';\n",
              "          await google.colab.output.renderOutput(dataTable, element);\n",
              "          const docLink = document.createElement('div');\n",
              "          docLink.innerHTML = docLinkHtml;\n",
              "          element.appendChild(docLink);\n",
              "        }\n",
              "      </script>\n",
              "    </div>\n",
              "  </div>\n",
              "  "
            ]
          },
          "metadata": {},
          "execution_count": 32
        }
      ]
    },
    {
      "cell_type": "markdown",
      "source": [
        "Agora fazemos a leitura do dataset de teste"
      ],
      "metadata": {
        "id": "7Rvfot8Fq2lI"
      }
    },
    {
      "cell_type": "code",
      "source": [
        "test = pd.read_csv(path/\"test.csv\")\n",
        "test.head()"
      ],
      "metadata": {
        "colab": {
          "base_uri": "https://localhost:8080/",
          "height": 300
        },
        "id": "J8xUQK742r1-",
        "outputId": "ad273003-85ba-4470-b5c6-b76e367e3f70"
      },
      "execution_count": null,
      "outputs": [
        {
          "output_type": "execute_result",
          "data": {
            "text/plain": [
              "   id  battery_power  blue  clock_speed  dual_sim  fc  four_g  int_memory  \\\n",
              "0   1           1043     1          1.8         1  14       0           5   \n",
              "1   2            841     1          0.5         1   4       1          61   \n",
              "2   3           1807     1          2.8         0   1       0          27   \n",
              "3   4           1546     0          0.5         1  18       1          25   \n",
              "4   5           1434     0          1.4         0  11       1          49   \n",
              "\n",
              "   m_dep  mobile_wt  ...  pc  px_height  px_width   ram  sc_h  sc_w  \\\n",
              "0    0.1        193  ...  16        226      1412  3476    12     7   \n",
              "1    0.8        191  ...  12        746       857  3895     6     0   \n",
              "2    0.9        186  ...   4       1270      1366  2396    17    10   \n",
              "3    0.5         96  ...  20        295      1752  3893    10     0   \n",
              "4    0.5        108  ...  18        749       810  1773    15     8   \n",
              "\n",
              "   talk_time  three_g  touch_screen  wifi  \n",
              "0          2        0             1     0  \n",
              "1          7        1             0     0  \n",
              "2         10        0             1     1  \n",
              "3          7        1             1     0  \n",
              "4          7        1             0     1  \n",
              "\n",
              "[5 rows x 21 columns]"
            ],
            "text/html": [
              "\n",
              "  <div id=\"df-47db5130-f198-4ebe-a807-e3742d0f4679\">\n",
              "    <div class=\"colab-df-container\">\n",
              "      <div>\n",
              "<style scoped>\n",
              "    .dataframe tbody tr th:only-of-type {\n",
              "        vertical-align: middle;\n",
              "    }\n",
              "\n",
              "    .dataframe tbody tr th {\n",
              "        vertical-align: top;\n",
              "    }\n",
              "\n",
              "    .dataframe thead th {\n",
              "        text-align: right;\n",
              "    }\n",
              "</style>\n",
              "<table border=\"1\" class=\"dataframe\">\n",
              "  <thead>\n",
              "    <tr style=\"text-align: right;\">\n",
              "      <th></th>\n",
              "      <th>id</th>\n",
              "      <th>battery_power</th>\n",
              "      <th>blue</th>\n",
              "      <th>clock_speed</th>\n",
              "      <th>dual_sim</th>\n",
              "      <th>fc</th>\n",
              "      <th>four_g</th>\n",
              "      <th>int_memory</th>\n",
              "      <th>m_dep</th>\n",
              "      <th>mobile_wt</th>\n",
              "      <th>...</th>\n",
              "      <th>pc</th>\n",
              "      <th>px_height</th>\n",
              "      <th>px_width</th>\n",
              "      <th>ram</th>\n",
              "      <th>sc_h</th>\n",
              "      <th>sc_w</th>\n",
              "      <th>talk_time</th>\n",
              "      <th>three_g</th>\n",
              "      <th>touch_screen</th>\n",
              "      <th>wifi</th>\n",
              "    </tr>\n",
              "  </thead>\n",
              "  <tbody>\n",
              "    <tr>\n",
              "      <th>0</th>\n",
              "      <td>1</td>\n",
              "      <td>1043</td>\n",
              "      <td>1</td>\n",
              "      <td>1.8</td>\n",
              "      <td>1</td>\n",
              "      <td>14</td>\n",
              "      <td>0</td>\n",
              "      <td>5</td>\n",
              "      <td>0.1</td>\n",
              "      <td>193</td>\n",
              "      <td>...</td>\n",
              "      <td>16</td>\n",
              "      <td>226</td>\n",
              "      <td>1412</td>\n",
              "      <td>3476</td>\n",
              "      <td>12</td>\n",
              "      <td>7</td>\n",
              "      <td>2</td>\n",
              "      <td>0</td>\n",
              "      <td>1</td>\n",
              "      <td>0</td>\n",
              "    </tr>\n",
              "    <tr>\n",
              "      <th>1</th>\n",
              "      <td>2</td>\n",
              "      <td>841</td>\n",
              "      <td>1</td>\n",
              "      <td>0.5</td>\n",
              "      <td>1</td>\n",
              "      <td>4</td>\n",
              "      <td>1</td>\n",
              "      <td>61</td>\n",
              "      <td>0.8</td>\n",
              "      <td>191</td>\n",
              "      <td>...</td>\n",
              "      <td>12</td>\n",
              "      <td>746</td>\n",
              "      <td>857</td>\n",
              "      <td>3895</td>\n",
              "      <td>6</td>\n",
              "      <td>0</td>\n",
              "      <td>7</td>\n",
              "      <td>1</td>\n",
              "      <td>0</td>\n",
              "      <td>0</td>\n",
              "    </tr>\n",
              "    <tr>\n",
              "      <th>2</th>\n",
              "      <td>3</td>\n",
              "      <td>1807</td>\n",
              "      <td>1</td>\n",
              "      <td>2.8</td>\n",
              "      <td>0</td>\n",
              "      <td>1</td>\n",
              "      <td>0</td>\n",
              "      <td>27</td>\n",
              "      <td>0.9</td>\n",
              "      <td>186</td>\n",
              "      <td>...</td>\n",
              "      <td>4</td>\n",
              "      <td>1270</td>\n",
              "      <td>1366</td>\n",
              "      <td>2396</td>\n",
              "      <td>17</td>\n",
              "      <td>10</td>\n",
              "      <td>10</td>\n",
              "      <td>0</td>\n",
              "      <td>1</td>\n",
              "      <td>1</td>\n",
              "    </tr>\n",
              "    <tr>\n",
              "      <th>3</th>\n",
              "      <td>4</td>\n",
              "      <td>1546</td>\n",
              "      <td>0</td>\n",
              "      <td>0.5</td>\n",
              "      <td>1</td>\n",
              "      <td>18</td>\n",
              "      <td>1</td>\n",
              "      <td>25</td>\n",
              "      <td>0.5</td>\n",
              "      <td>96</td>\n",
              "      <td>...</td>\n",
              "      <td>20</td>\n",
              "      <td>295</td>\n",
              "      <td>1752</td>\n",
              "      <td>3893</td>\n",
              "      <td>10</td>\n",
              "      <td>0</td>\n",
              "      <td>7</td>\n",
              "      <td>1</td>\n",
              "      <td>1</td>\n",
              "      <td>0</td>\n",
              "    </tr>\n",
              "    <tr>\n",
              "      <th>4</th>\n",
              "      <td>5</td>\n",
              "      <td>1434</td>\n",
              "      <td>0</td>\n",
              "      <td>1.4</td>\n",
              "      <td>0</td>\n",
              "      <td>11</td>\n",
              "      <td>1</td>\n",
              "      <td>49</td>\n",
              "      <td>0.5</td>\n",
              "      <td>108</td>\n",
              "      <td>...</td>\n",
              "      <td>18</td>\n",
              "      <td>749</td>\n",
              "      <td>810</td>\n",
              "      <td>1773</td>\n",
              "      <td>15</td>\n",
              "      <td>8</td>\n",
              "      <td>7</td>\n",
              "      <td>1</td>\n",
              "      <td>0</td>\n",
              "      <td>1</td>\n",
              "    </tr>\n",
              "  </tbody>\n",
              "</table>\n",
              "<p>5 rows × 21 columns</p>\n",
              "</div>\n",
              "      <button class=\"colab-df-convert\" onclick=\"convertToInteractive('df-47db5130-f198-4ebe-a807-e3742d0f4679')\"\n",
              "              title=\"Convert this dataframe to an interactive table.\"\n",
              "              style=\"display:none;\">\n",
              "        \n",
              "  <svg xmlns=\"http://www.w3.org/2000/svg\" height=\"24px\"viewBox=\"0 0 24 24\"\n",
              "       width=\"24px\">\n",
              "    <path d=\"M0 0h24v24H0V0z\" fill=\"none\"/>\n",
              "    <path d=\"M18.56 5.44l.94 2.06.94-2.06 2.06-.94-2.06-.94-.94-2.06-.94 2.06-2.06.94zm-11 1L8.5 8.5l.94-2.06 2.06-.94-2.06-.94L8.5 2.5l-.94 2.06-2.06.94zm10 10l.94 2.06.94-2.06 2.06-.94-2.06-.94-.94-2.06-.94 2.06-2.06.94z\"/><path d=\"M17.41 7.96l-1.37-1.37c-.4-.4-.92-.59-1.43-.59-.52 0-1.04.2-1.43.59L10.3 9.45l-7.72 7.72c-.78.78-.78 2.05 0 2.83L4 21.41c.39.39.9.59 1.41.59.51 0 1.02-.2 1.41-.59l7.78-7.78 2.81-2.81c.8-.78.8-2.07 0-2.86zM5.41 20L4 18.59l7.72-7.72 1.47 1.35L5.41 20z\"/>\n",
              "  </svg>\n",
              "      </button>\n",
              "      \n",
              "  <style>\n",
              "    .colab-df-container {\n",
              "      display:flex;\n",
              "      flex-wrap:wrap;\n",
              "      gap: 12px;\n",
              "    }\n",
              "\n",
              "    .colab-df-convert {\n",
              "      background-color: #E8F0FE;\n",
              "      border: none;\n",
              "      border-radius: 50%;\n",
              "      cursor: pointer;\n",
              "      display: none;\n",
              "      fill: #1967D2;\n",
              "      height: 32px;\n",
              "      padding: 0 0 0 0;\n",
              "      width: 32px;\n",
              "    }\n",
              "\n",
              "    .colab-df-convert:hover {\n",
              "      background-color: #E2EBFA;\n",
              "      box-shadow: 0px 1px 2px rgba(60, 64, 67, 0.3), 0px 1px 3px 1px rgba(60, 64, 67, 0.15);\n",
              "      fill: #174EA6;\n",
              "    }\n",
              "\n",
              "    [theme=dark] .colab-df-convert {\n",
              "      background-color: #3B4455;\n",
              "      fill: #D2E3FC;\n",
              "    }\n",
              "\n",
              "    [theme=dark] .colab-df-convert:hover {\n",
              "      background-color: #434B5C;\n",
              "      box-shadow: 0px 1px 3px 1px rgba(0, 0, 0, 0.15);\n",
              "      filter: drop-shadow(0px 1px 2px rgba(0, 0, 0, 0.3));\n",
              "      fill: #FFFFFF;\n",
              "    }\n",
              "  </style>\n",
              "\n",
              "      <script>\n",
              "        const buttonEl =\n",
              "          document.querySelector('#df-47db5130-f198-4ebe-a807-e3742d0f4679 button.colab-df-convert');\n",
              "        buttonEl.style.display =\n",
              "          google.colab.kernel.accessAllowed ? 'block' : 'none';\n",
              "\n",
              "        async function convertToInteractive(key) {\n",
              "          const element = document.querySelector('#df-47db5130-f198-4ebe-a807-e3742d0f4679');\n",
              "          const dataTable =\n",
              "            await google.colab.kernel.invokeFunction('convertToInteractive',\n",
              "                                                     [key], {});\n",
              "          if (!dataTable) return;\n",
              "\n",
              "          const docLinkHtml = 'Like what you see? Visit the ' +\n",
              "            '<a target=\"_blank\" href=https://colab.research.google.com/notebooks/data_table.ipynb>data table notebook</a>'\n",
              "            + ' to learn more about interactive tables.';\n",
              "          element.innerHTML = '';\n",
              "          dataTable['output_type'] = 'display_data';\n",
              "          await google.colab.output.renderOutput(dataTable, element);\n",
              "          const docLink = document.createElement('div');\n",
              "          docLink.innerHTML = docLinkHtml;\n",
              "          element.appendChild(docLink);\n",
              "        }\n",
              "      </script>\n",
              "    </div>\n",
              "  </div>\n",
              "  "
            ]
          },
          "metadata": {},
          "execution_count": 33
        }
      ]
    },
    {
      "cell_type": "markdown",
      "source": [
        "Verificamos a existência de valores faltantes"
      ],
      "metadata": {
        "id": "oggjMrczrABB"
      }
    },
    {
      "cell_type": "code",
      "source": [
        "test.isna().sum()"
      ],
      "metadata": {
        "colab": {
          "base_uri": "https://localhost:8080/"
        },
        "id": "ndSYrXbt24pR",
        "outputId": "6beaf199-ee21-4f13-96f2-f912406d0753"
      },
      "execution_count": null,
      "outputs": [
        {
          "output_type": "execute_result",
          "data": {
            "text/plain": [
              "id               0\n",
              "battery_power    0\n",
              "blue             0\n",
              "clock_speed      0\n",
              "dual_sim         0\n",
              "fc               0\n",
              "four_g           0\n",
              "int_memory       0\n",
              "m_dep            0\n",
              "mobile_wt        0\n",
              "n_cores          0\n",
              "pc               0\n",
              "px_height        0\n",
              "px_width         0\n",
              "ram              0\n",
              "sc_h             0\n",
              "sc_w             0\n",
              "talk_time        0\n",
              "three_g          0\n",
              "touch_screen     0\n",
              "wifi             0\n",
              "dtype: int64"
            ]
          },
          "metadata": {},
          "execution_count": 34
        }
      ]
    },
    {
      "cell_type": "markdown",
      "source": [
        "verificar um resumo das colunas numéricas"
      ],
      "metadata": {
        "id": "A5hzpdZVrLPp"
      }
    },
    {
      "cell_type": "code",
      "source": [
        "test.describe(include=(np.number))"
      ],
      "metadata": {
        "colab": {
          "base_uri": "https://localhost:8080/",
          "height": 394
        },
        "id": "PV5Ecus128ts",
        "outputId": "f857b404-4375-408c-8cbd-cfe3df9eb990"
      },
      "execution_count": null,
      "outputs": [
        {
          "output_type": "execute_result",
          "data": {
            "text/plain": [
              "                id  battery_power         blue  clock_speed     dual_sim  \\\n",
              "count  1000.000000    1000.000000  1000.000000  1000.000000  1000.000000   \n",
              "mean    500.500000    1248.510000     0.516000     1.540900     0.517000   \n",
              "std     288.819436     432.458227     0.499994     0.829268     0.499961   \n",
              "min       1.000000     500.000000     0.000000     0.500000     0.000000   \n",
              "25%     250.750000     895.000000     0.000000     0.700000     0.000000   \n",
              "50%     500.500000    1246.500000     1.000000     1.500000     1.000000   \n",
              "75%     750.250000    1629.250000     1.000000     2.300000     1.000000   \n",
              "max    1000.000000    1999.000000     1.000000     3.000000     1.000000   \n",
              "\n",
              "                fc       four_g   int_memory        m_dep   mobile_wt  ...  \\\n",
              "count  1000.000000  1000.000000  1000.000000  1000.000000  1000.00000  ...   \n",
              "mean      4.593000     0.487000    33.652000     0.517500   139.51100  ...   \n",
              "std       4.463325     0.500081    18.128694     0.280861    34.85155  ...   \n",
              "min       0.000000     0.000000     2.000000     0.100000    80.00000  ...   \n",
              "25%       1.000000     0.000000    18.000000     0.300000   109.75000  ...   \n",
              "50%       3.000000     0.000000    34.500000     0.500000   139.00000  ...   \n",
              "75%       7.000000     1.000000    49.000000     0.800000   170.00000  ...   \n",
              "max      19.000000     1.000000    64.000000     1.000000   200.00000  ...   \n",
              "\n",
              "                pc    px_height     px_width          ram         sc_h  \\\n",
              "count  1000.000000  1000.000000  1000.000000  1000.000000  1000.000000   \n",
              "mean     10.054000   627.121000  1239.774000  2138.998000    11.995000   \n",
              "std       6.095099   432.929699   439.670981  1088.092278     4.320607   \n",
              "min       0.000000     0.000000   501.000000   263.000000     5.000000   \n",
              "25%       5.000000   263.750000   831.750000  1237.250000     8.000000   \n",
              "50%      10.000000   564.500000  1250.000000  2153.500000    12.000000   \n",
              "75%      16.000000   903.000000  1637.750000  3065.500000    16.000000   \n",
              "max      20.000000  1907.000000  1998.000000  3989.000000    19.000000   \n",
              "\n",
              "              sc_w    talk_time      three_g  touch_screen         wifi  \n",
              "count  1000.000000  1000.000000  1000.000000    1000.00000  1000.000000  \n",
              "mean      5.316000    11.085000     0.756000       0.50000     0.507000  \n",
              "std       4.240062     5.497636     0.429708       0.50025     0.500201  \n",
              "min       0.000000     2.000000     0.000000       0.00000     0.000000  \n",
              "25%       2.000000     6.750000     1.000000       0.00000     0.000000  \n",
              "50%       5.000000    11.000000     1.000000       0.50000     1.000000  \n",
              "75%       8.000000    16.000000     1.000000       1.00000     1.000000  \n",
              "max      18.000000    20.000000     1.000000       1.00000     1.000000  \n",
              "\n",
              "[8 rows x 21 columns]"
            ],
            "text/html": [
              "\n",
              "  <div id=\"df-3ee8b165-777b-4cc6-9bf5-0e3a3ced716f\">\n",
              "    <div class=\"colab-df-container\">\n",
              "      <div>\n",
              "<style scoped>\n",
              "    .dataframe tbody tr th:only-of-type {\n",
              "        vertical-align: middle;\n",
              "    }\n",
              "\n",
              "    .dataframe tbody tr th {\n",
              "        vertical-align: top;\n",
              "    }\n",
              "\n",
              "    .dataframe thead th {\n",
              "        text-align: right;\n",
              "    }\n",
              "</style>\n",
              "<table border=\"1\" class=\"dataframe\">\n",
              "  <thead>\n",
              "    <tr style=\"text-align: right;\">\n",
              "      <th></th>\n",
              "      <th>id</th>\n",
              "      <th>battery_power</th>\n",
              "      <th>blue</th>\n",
              "      <th>clock_speed</th>\n",
              "      <th>dual_sim</th>\n",
              "      <th>fc</th>\n",
              "      <th>four_g</th>\n",
              "      <th>int_memory</th>\n",
              "      <th>m_dep</th>\n",
              "      <th>mobile_wt</th>\n",
              "      <th>...</th>\n",
              "      <th>pc</th>\n",
              "      <th>px_height</th>\n",
              "      <th>px_width</th>\n",
              "      <th>ram</th>\n",
              "      <th>sc_h</th>\n",
              "      <th>sc_w</th>\n",
              "      <th>talk_time</th>\n",
              "      <th>three_g</th>\n",
              "      <th>touch_screen</th>\n",
              "      <th>wifi</th>\n",
              "    </tr>\n",
              "  </thead>\n",
              "  <tbody>\n",
              "    <tr>\n",
              "      <th>count</th>\n",
              "      <td>1000.000000</td>\n",
              "      <td>1000.000000</td>\n",
              "      <td>1000.000000</td>\n",
              "      <td>1000.000000</td>\n",
              "      <td>1000.000000</td>\n",
              "      <td>1000.000000</td>\n",
              "      <td>1000.000000</td>\n",
              "      <td>1000.000000</td>\n",
              "      <td>1000.000000</td>\n",
              "      <td>1000.00000</td>\n",
              "      <td>...</td>\n",
              "      <td>1000.000000</td>\n",
              "      <td>1000.000000</td>\n",
              "      <td>1000.000000</td>\n",
              "      <td>1000.000000</td>\n",
              "      <td>1000.000000</td>\n",
              "      <td>1000.000000</td>\n",
              "      <td>1000.000000</td>\n",
              "      <td>1000.000000</td>\n",
              "      <td>1000.00000</td>\n",
              "      <td>1000.000000</td>\n",
              "    </tr>\n",
              "    <tr>\n",
              "      <th>mean</th>\n",
              "      <td>500.500000</td>\n",
              "      <td>1248.510000</td>\n",
              "      <td>0.516000</td>\n",
              "      <td>1.540900</td>\n",
              "      <td>0.517000</td>\n",
              "      <td>4.593000</td>\n",
              "      <td>0.487000</td>\n",
              "      <td>33.652000</td>\n",
              "      <td>0.517500</td>\n",
              "      <td>139.51100</td>\n",
              "      <td>...</td>\n",
              "      <td>10.054000</td>\n",
              "      <td>627.121000</td>\n",
              "      <td>1239.774000</td>\n",
              "      <td>2138.998000</td>\n",
              "      <td>11.995000</td>\n",
              "      <td>5.316000</td>\n",
              "      <td>11.085000</td>\n",
              "      <td>0.756000</td>\n",
              "      <td>0.50000</td>\n",
              "      <td>0.507000</td>\n",
              "    </tr>\n",
              "    <tr>\n",
              "      <th>std</th>\n",
              "      <td>288.819436</td>\n",
              "      <td>432.458227</td>\n",
              "      <td>0.499994</td>\n",
              "      <td>0.829268</td>\n",
              "      <td>0.499961</td>\n",
              "      <td>4.463325</td>\n",
              "      <td>0.500081</td>\n",
              "      <td>18.128694</td>\n",
              "      <td>0.280861</td>\n",
              "      <td>34.85155</td>\n",
              "      <td>...</td>\n",
              "      <td>6.095099</td>\n",
              "      <td>432.929699</td>\n",
              "      <td>439.670981</td>\n",
              "      <td>1088.092278</td>\n",
              "      <td>4.320607</td>\n",
              "      <td>4.240062</td>\n",
              "      <td>5.497636</td>\n",
              "      <td>0.429708</td>\n",
              "      <td>0.50025</td>\n",
              "      <td>0.500201</td>\n",
              "    </tr>\n",
              "    <tr>\n",
              "      <th>min</th>\n",
              "      <td>1.000000</td>\n",
              "      <td>500.000000</td>\n",
              "      <td>0.000000</td>\n",
              "      <td>0.500000</td>\n",
              "      <td>0.000000</td>\n",
              "      <td>0.000000</td>\n",
              "      <td>0.000000</td>\n",
              "      <td>2.000000</td>\n",
              "      <td>0.100000</td>\n",
              "      <td>80.00000</td>\n",
              "      <td>...</td>\n",
              "      <td>0.000000</td>\n",
              "      <td>0.000000</td>\n",
              "      <td>501.000000</td>\n",
              "      <td>263.000000</td>\n",
              "      <td>5.000000</td>\n",
              "      <td>0.000000</td>\n",
              "      <td>2.000000</td>\n",
              "      <td>0.000000</td>\n",
              "      <td>0.00000</td>\n",
              "      <td>0.000000</td>\n",
              "    </tr>\n",
              "    <tr>\n",
              "      <th>25%</th>\n",
              "      <td>250.750000</td>\n",
              "      <td>895.000000</td>\n",
              "      <td>0.000000</td>\n",
              "      <td>0.700000</td>\n",
              "      <td>0.000000</td>\n",
              "      <td>1.000000</td>\n",
              "      <td>0.000000</td>\n",
              "      <td>18.000000</td>\n",
              "      <td>0.300000</td>\n",
              "      <td>109.75000</td>\n",
              "      <td>...</td>\n",
              "      <td>5.000000</td>\n",
              "      <td>263.750000</td>\n",
              "      <td>831.750000</td>\n",
              "      <td>1237.250000</td>\n",
              "      <td>8.000000</td>\n",
              "      <td>2.000000</td>\n",
              "      <td>6.750000</td>\n",
              "      <td>1.000000</td>\n",
              "      <td>0.00000</td>\n",
              "      <td>0.000000</td>\n",
              "    </tr>\n",
              "    <tr>\n",
              "      <th>50%</th>\n",
              "      <td>500.500000</td>\n",
              "      <td>1246.500000</td>\n",
              "      <td>1.000000</td>\n",
              "      <td>1.500000</td>\n",
              "      <td>1.000000</td>\n",
              "      <td>3.000000</td>\n",
              "      <td>0.000000</td>\n",
              "      <td>34.500000</td>\n",
              "      <td>0.500000</td>\n",
              "      <td>139.00000</td>\n",
              "      <td>...</td>\n",
              "      <td>10.000000</td>\n",
              "      <td>564.500000</td>\n",
              "      <td>1250.000000</td>\n",
              "      <td>2153.500000</td>\n",
              "      <td>12.000000</td>\n",
              "      <td>5.000000</td>\n",
              "      <td>11.000000</td>\n",
              "      <td>1.000000</td>\n",
              "      <td>0.50000</td>\n",
              "      <td>1.000000</td>\n",
              "    </tr>\n",
              "    <tr>\n",
              "      <th>75%</th>\n",
              "      <td>750.250000</td>\n",
              "      <td>1629.250000</td>\n",
              "      <td>1.000000</td>\n",
              "      <td>2.300000</td>\n",
              "      <td>1.000000</td>\n",
              "      <td>7.000000</td>\n",
              "      <td>1.000000</td>\n",
              "      <td>49.000000</td>\n",
              "      <td>0.800000</td>\n",
              "      <td>170.00000</td>\n",
              "      <td>...</td>\n",
              "      <td>16.000000</td>\n",
              "      <td>903.000000</td>\n",
              "      <td>1637.750000</td>\n",
              "      <td>3065.500000</td>\n",
              "      <td>16.000000</td>\n",
              "      <td>8.000000</td>\n",
              "      <td>16.000000</td>\n",
              "      <td>1.000000</td>\n",
              "      <td>1.00000</td>\n",
              "      <td>1.000000</td>\n",
              "    </tr>\n",
              "    <tr>\n",
              "      <th>max</th>\n",
              "      <td>1000.000000</td>\n",
              "      <td>1999.000000</td>\n",
              "      <td>1.000000</td>\n",
              "      <td>3.000000</td>\n",
              "      <td>1.000000</td>\n",
              "      <td>19.000000</td>\n",
              "      <td>1.000000</td>\n",
              "      <td>64.000000</td>\n",
              "      <td>1.000000</td>\n",
              "      <td>200.00000</td>\n",
              "      <td>...</td>\n",
              "      <td>20.000000</td>\n",
              "      <td>1907.000000</td>\n",
              "      <td>1998.000000</td>\n",
              "      <td>3989.000000</td>\n",
              "      <td>19.000000</td>\n",
              "      <td>18.000000</td>\n",
              "      <td>20.000000</td>\n",
              "      <td>1.000000</td>\n",
              "      <td>1.00000</td>\n",
              "      <td>1.000000</td>\n",
              "    </tr>\n",
              "  </tbody>\n",
              "</table>\n",
              "<p>8 rows × 21 columns</p>\n",
              "</div>\n",
              "      <button class=\"colab-df-convert\" onclick=\"convertToInteractive('df-3ee8b165-777b-4cc6-9bf5-0e3a3ced716f')\"\n",
              "              title=\"Convert this dataframe to an interactive table.\"\n",
              "              style=\"display:none;\">\n",
              "        \n",
              "  <svg xmlns=\"http://www.w3.org/2000/svg\" height=\"24px\"viewBox=\"0 0 24 24\"\n",
              "       width=\"24px\">\n",
              "    <path d=\"M0 0h24v24H0V0z\" fill=\"none\"/>\n",
              "    <path d=\"M18.56 5.44l.94 2.06.94-2.06 2.06-.94-2.06-.94-.94-2.06-.94 2.06-2.06.94zm-11 1L8.5 8.5l.94-2.06 2.06-.94-2.06-.94L8.5 2.5l-.94 2.06-2.06.94zm10 10l.94 2.06.94-2.06 2.06-.94-2.06-.94-.94-2.06-.94 2.06-2.06.94z\"/><path d=\"M17.41 7.96l-1.37-1.37c-.4-.4-.92-.59-1.43-.59-.52 0-1.04.2-1.43.59L10.3 9.45l-7.72 7.72c-.78.78-.78 2.05 0 2.83L4 21.41c.39.39.9.59 1.41.59.51 0 1.02-.2 1.41-.59l7.78-7.78 2.81-2.81c.8-.78.8-2.07 0-2.86zM5.41 20L4 18.59l7.72-7.72 1.47 1.35L5.41 20z\"/>\n",
              "  </svg>\n",
              "      </button>\n",
              "      \n",
              "  <style>\n",
              "    .colab-df-container {\n",
              "      display:flex;\n",
              "      flex-wrap:wrap;\n",
              "      gap: 12px;\n",
              "    }\n",
              "\n",
              "    .colab-df-convert {\n",
              "      background-color: #E8F0FE;\n",
              "      border: none;\n",
              "      border-radius: 50%;\n",
              "      cursor: pointer;\n",
              "      display: none;\n",
              "      fill: #1967D2;\n",
              "      height: 32px;\n",
              "      padding: 0 0 0 0;\n",
              "      width: 32px;\n",
              "    }\n",
              "\n",
              "    .colab-df-convert:hover {\n",
              "      background-color: #E2EBFA;\n",
              "      box-shadow: 0px 1px 2px rgba(60, 64, 67, 0.3), 0px 1px 3px 1px rgba(60, 64, 67, 0.15);\n",
              "      fill: #174EA6;\n",
              "    }\n",
              "\n",
              "    [theme=dark] .colab-df-convert {\n",
              "      background-color: #3B4455;\n",
              "      fill: #D2E3FC;\n",
              "    }\n",
              "\n",
              "    [theme=dark] .colab-df-convert:hover {\n",
              "      background-color: #434B5C;\n",
              "      box-shadow: 0px 1px 3px 1px rgba(0, 0, 0, 0.15);\n",
              "      filter: drop-shadow(0px 1px 2px rgba(0, 0, 0, 0.3));\n",
              "      fill: #FFFFFF;\n",
              "    }\n",
              "  </style>\n",
              "\n",
              "      <script>\n",
              "        const buttonEl =\n",
              "          document.querySelector('#df-3ee8b165-777b-4cc6-9bf5-0e3a3ced716f button.colab-df-convert');\n",
              "        buttonEl.style.display =\n",
              "          google.colab.kernel.accessAllowed ? 'block' : 'none';\n",
              "\n",
              "        async function convertToInteractive(key) {\n",
              "          const element = document.querySelector('#df-3ee8b165-777b-4cc6-9bf5-0e3a3ced716f');\n",
              "          const dataTable =\n",
              "            await google.colab.kernel.invokeFunction('convertToInteractive',\n",
              "                                                     [key], {});\n",
              "          if (!dataTable) return;\n",
              "\n",
              "          const docLinkHtml = 'Like what you see? Visit the ' +\n",
              "            '<a target=\"_blank\" href=https://colab.research.google.com/notebooks/data_table.ipynb>data table notebook</a>'\n",
              "            + ' to learn more about interactive tables.';\n",
              "          element.innerHTML = '';\n",
              "          dataTable['output_type'] = 'display_data';\n",
              "          await google.colab.output.renderOutput(dataTable, element);\n",
              "          const docLink = document.createElement('div');\n",
              "          docLink.innerHTML = docLinkHtml;\n",
              "          element.appendChild(docLink);\n",
              "        }\n",
              "      </script>\n",
              "    </div>\n",
              "  </div>\n",
              "  "
            ]
          },
          "metadata": {},
          "execution_count": 35
        }
      ]
    },
    {
      "cell_type": "markdown",
      "source": [
        "## 4.3 Configurando o modelo"
      ],
      "metadata": {
        "id": "3YfB9r1ErUCX"
      }
    },
    {
      "cell_type": "markdown",
      "source": [
        "Agora podemos criar nossas variáveis ​​independentes (preditores) e dependentes (alvo). A variável dependente será *Price Range* e as variáveis ​​independentes são todas as variáveis restantes. As variáveis independentes irei chamar de **y** e a dependente de **x** "
      ],
      "metadata": {
        "id": "JrA8LQEMrZDw"
      }
    },
    {
      "cell_type": "code",
      "source": [
        "y = train.price_range.values\n",
        "y"
      ],
      "metadata": {
        "colab": {
          "base_uri": "https://localhost:8080/"
        },
        "id": "ixOdXFWP5QWC",
        "outputId": "a404af3c-738f-4a2a-969c-5dde4974be7f"
      },
      "execution_count": null,
      "outputs": [
        {
          "output_type": "execute_result",
          "data": {
            "text/plain": [
              "array([1, 2, 2, ..., 3, 0, 3])"
            ]
          },
          "metadata": {},
          "execution_count": 36
        }
      ]
    },
    {
      "cell_type": "markdown",
      "source": [
        "Antes de criar as variáveis dependentes, irei remover do datatset de treinamento a coluna price_range criando uma variável temporária x_data"
      ],
      "metadata": {
        "id": "RL0_eKbMr5X1"
      }
    },
    {
      "cell_type": "code",
      "source": [
        "x_data = train.drop([\"price_range\"],axis=1)"
      ],
      "metadata": {
        "id": "f2ERj4gp5Wby"
      },
      "execution_count": null,
      "outputs": []
    },
    {
      "cell_type": "markdown",
      "source": [
        "Irei utilizar o método [Min-Max](https://www.codecademy.com/article/normalization) para normalizar os dados onde temos que para cada coluna, o valor mínimo dessa coluna é transformado em 0, o valor máximo é transformado em 1 e todos os outros valores são transformados em um decimal entre 0 e 1\n",
        "\n",
        "![min-max](https://user-images.githubusercontent.com/53023400/212965873-3452f8e4-4c91-41e2-9a37-bbb6dc947269.png)"
      ],
      "metadata": {
        "id": "HsHYpy2NsOaI"
      }
    },
    {
      "cell_type": "code",
      "source": [
        "x = (x_data-np.min(x_data)/(np.max(x_data)-np.min(x_data))).values\n",
        "x"
      ],
      "metadata": {
        "colab": {
          "base_uri": "https://localhost:8080/"
        },
        "id": "32J9lIoksFr7",
        "outputId": "b603bb96-90d3-44ce-cd08-4d3629b8216b"
      },
      "execution_count": null,
      "outputs": [
        {
          "output_type": "execute_result",
          "data": {
            "text/plain": [
              "array([[8.41665331e+02, 0.00000000e+00, 2.00000000e+00, ...,\n",
              "        0.00000000e+00, 0.00000000e+00, 1.00000000e+00],\n",
              "       [1.02066533e+03, 1.00000000e+00, 3.00000000e-01, ...,\n",
              "        1.00000000e+00, 1.00000000e+00, 0.00000000e+00],\n",
              "       [5.62665331e+02, 1.00000000e+00, 3.00000000e-01, ...,\n",
              "        1.00000000e+00, 1.00000000e+00, 0.00000000e+00],\n",
              "       ...,\n",
              "       [1.91066533e+03, 0.00000000e+00, 7.00000000e-01, ...,\n",
              "        1.00000000e+00, 1.00000000e+00, 0.00000000e+00],\n",
              "       [1.51166533e+03, 0.00000000e+00, 7.00000000e-01, ...,\n",
              "        1.00000000e+00, 1.00000000e+00, 1.00000000e+00],\n",
              "       [5.09665331e+02, 1.00000000e+00, 1.80000000e+00, ...,\n",
              "        1.00000000e+00, 1.00000000e+00, 1.00000000e+00]])"
            ]
          },
          "metadata": {},
          "execution_count": 38
        }
      ]
    },
    {
      "cell_type": "markdown",
      "source": [
        "Antes de começarmos a treinar nosso modelo, precisamos garantir que tenhamos um conjunto de validação para calcular nossas métricas. Há muitas maneiras diferentes de fazer isso. Como queremos garantir que a divisão dos dados seja da mesma maneira, vamos usar o train_test_split para obter índices que dividirão nossos dados em conjuntos de treinamento e teste. O parâmetro random_state é usado para controlar o embaralhamento aplicado aos dados antes da divisão. As sementes aleatórias inteiras populares são 0 e 42."
      ],
      "metadata": {
        "id": "0JkMr4-W4hb3"
      }
    },
    {
      "cell_type": "code",
      "source": [
        "x_train, x_test, y_train, y_test = train_test_split(x, y, test_size=0.20, random_state=45)"
      ],
      "metadata": {
        "id": "pjg97DIL3TMH"
      },
      "execution_count": null,
      "outputs": []
    },
    {
      "cell_type": "markdown",
      "source": [
        "## 4.4 Treinamento com Random Forest"
      ],
      "metadata": {
        "id": "_Y3KNmrI567B"
      }
    },
    {
      "cell_type": "markdown",
      "source": [
        "Para a modelagem de dados será usado o Scikit-learn que é uma biblioteca do Python que simplifica a implementação de uma ampla variedade de métodos de aprendizado de máquina (ML) para análise preditiva de dados, incluindo **Random Forest**. A Random Forest é composta por [Decision Trees](https://en.wikipedia.org/wiki/Decision_tree_learning#Gini_impurity). Por tanto, Antes de compreender a arquitetura de uma Random Forest, é necessário entender o funcionamento de uma **Decision Tree**"
      ],
      "metadata": {
        "id": "J00gpUAJ5_dY"
      }
    },
    {
      "cell_type": "markdown",
      "source": [
        "Uma Decision Tree é uma estrutura de árvore semelhante a um fluxograma em que um nó interno representa uma característica (ou atributo), a ramificação representa uma regra de decisão e cada nó folha representa o resultado. Um dos pontos principais para criar uma árvore de decisão é a divisão binária, pois é a partir dela que uma árvore de decisão é construída. Uma divisão binária é onde todas as linhas são colocadas em um dos dois grupos, com base em se estão acima ou abaixo de algum limite de alguma coluna. Por exemplo, poderíamos dividir as linhas de um conjunto de dados em masculinos e femininos, usando o limite 0,5 onde 1 representa masculino e 0 feminino. Assim o que estiver abaixo de 0.5 iria para o grupo feminino e acima 1 para o grupo masculino. "
      ],
      "metadata": {
        "id": "cglNKUAq-F6j"
      }
    },
    {
      "cell_type": "markdown",
      "source": [
        "Legenda: Estrutura de uma Decision Tree\n",
        "\n",
        "![decision-tree](https://user-images.githubusercontent.com/53023400/213241405-2a6c22a6-773b-4912-a79c-0b1b419fab85.png)\n",
        "\n",
        "Fonte: [Decision Tree Classification in Python Tutorial](https://www.datacamp.com/tutorial/decision-tree-classification-python)"
      ],
      "metadata": {
        "id": "KERoNNDCwjVb"
      }
    },
    {
      "cell_type": "markdown",
      "source": [
        "A seguir será criada uma instância de uma Decision Tree usando a biblioteca Scikit-learn. "
      ],
      "metadata": {
        "id": "ct6q6rn16X5L"
      }
    },
    {
      "cell_type": "code",
      "source": [
        "decisionTree = DecisionTreeClassifier(max_leaf_nodes=5)"
      ],
      "metadata": {
        "id": "DIb8Epg_48vw"
      },
      "execution_count": null,
      "outputs": []
    },
    {
      "cell_type": "markdown",
      "source": [
        "Utilizamos o método *fit()* para ajustá-lo"
      ],
      "metadata": {
        "id": "fpr-9aL07B2j"
      }
    },
    {
      "cell_type": "code",
      "source": [
        "decisionTree.fit(x_train, y_train);"
      ],
      "metadata": {
        "id": "alNyGcyr6wYU"
      },
      "execution_count": null,
      "outputs": []
    },
    {
      "cell_type": "markdown",
      "source": [
        "Podemos visualizar a Decision Tree utilizando a biblioteca *graphviz* (ferramenta para desenhar gráficos de estrutura de dados).\n",
        "\n",
        "A função recebe os seguintes parâmetros:\n",
        "- tree: uma árvore de decisão treinada.\n",
        "- df: um DataFrame com os dados usados para treinar a árvore, usado para nomear as features na visualização da árvore.\n",
        "- size: o tamanho da imagem gerada pela árvore.\n",
        "- ratio: a relação de largura e altura da imagem gerada pela árvore.\n",
        "- precision: a precisão dos valores mostrados na árvore.\n",
        "\n",
        "Irei ajustar o tamanho da imagem utilizando a biblioteca re (regular expressions) para substituir a string `Tree {` por `Tree {size = x; ratio = y`."
      ],
      "metadata": {
        "id": "0gBn7dwM7LUl"
      }
    },
    {
      "cell_type": "code",
      "source": [
        "def draw_tree(tree, df, size=10, ratio=0.6, precision=2):\n",
        "    s = export_graphviz(tree, out_file=None, feature_names=df.columns, filled=True, rounded=True, special_characters=True, rotate=False, precision=precision)\n",
        "    return graphviz.Source(re.sub('Tree {', f'Tree {{ size={size}; ratio={ratio}', s))"
      ],
      "metadata": {
        "id": "5BMRBN544cUv"
      },
      "execution_count": null,
      "outputs": []
    },
    {
      "cell_type": "code",
      "source": [
        "draw_tree(decisionTree, x_data)"
      ],
      "metadata": {
        "colab": {
          "base_uri": "https://localhost:8080/",
          "height": 601
        },
        "id": "vCQGGbDg40fP",
        "outputId": "2b86a547-2a58-4c61-db89-3ee4c0c2481b"
      },
      "execution_count": null,
      "outputs": [
        {
          "output_type": "execute_result",
          "data": {
            "text/plain": [
              "<graphviz.files.Source at 0x7f97fb3ea880>"
            ],
            "image/svg+xml": "<?xml version=\"1.0\" encoding=\"UTF-8\" standalone=\"no\"?>\n<!DOCTYPE svg PUBLIC \"-//W3C//DTD SVG 1.1//EN\"\n \"http://www.w3.org/Graphics/SVG/1.1/DTD/svg11.dtd\">\n<!-- Generated by graphviz version 2.40.1 (20161225.0304)\n -->\n<!-- Title: Tree Pages: 1 -->\n<svg width=\"720pt\" height=\"435pt\"\n viewBox=\"0.00 0.00 720.00 434.89\" xmlns=\"http://www.w3.org/2000/svg\" xmlns:xlink=\"http://www.w3.org/1999/xlink\">\n<g id=\"graph0\" class=\"graph\" transform=\"scale(.9045 .9045) rotate(0) translate(4 476.8)\">\n<title>Tree</title>\n<polygon fill=\"#ffffff\" stroke=\"transparent\" points=\"-4,4 -4,-476.8 792,-476.8 792,4 -4,4\"/>\n<!-- 0 -->\n<g id=\"node1\" class=\"node\">\n<title>0</title>\n<path fill=\"#fefbfe\" stroke=\"#000000\" d=\"M435,-463C435,-463 262,-463 262,-463 256,-463 250,-457 250,-451 250,-451 250,-407 250,-407 250,-401 256,-395 262,-395 262,-395 435,-395 435,-395 441,-395 447,-401 447,-407 447,-407 447,-451 447,-451 447,-457 441,-463 435,-463\"/>\n<text text-anchor=\"start\" x=\"301.5\" y=\"-447.8\" font-family=\"Helvetica,sans-Serif\" font-size=\"14.00\" fill=\"#000000\">ram ≤ 2235.43</text>\n<text text-anchor=\"start\" x=\"315\" y=\"-432.8\" font-family=\"Helvetica,sans-Serif\" font-size=\"14.00\" fill=\"#000000\">gini = 0.75</text>\n<text text-anchor=\"start\" x=\"296.5\" y=\"-417.8\" font-family=\"Helvetica,sans-Serif\" font-size=\"14.00\" fill=\"#000000\">samples = 1600</text>\n<text text-anchor=\"start\" x=\"258\" y=\"-402.8\" font-family=\"Helvetica,sans-Serif\" font-size=\"14.00\" fill=\"#000000\">value = [396, 386, 395, 423]</text>\n</g>\n<!-- 1 -->\n<g id=\"node2\" class=\"node\">\n<title>1</title>\n<path fill=\"#fcf0e8\" stroke=\"#000000\" d=\"M327.5,-328C327.5,-328 179.5,-328 179.5,-328 173.5,-328 167.5,-322 167.5,-316 167.5,-316 167.5,-272 167.5,-272 167.5,-266 173.5,-260 179.5,-260 179.5,-260 327.5,-260 327.5,-260 333.5,-260 339.5,-266 339.5,-272 339.5,-272 339.5,-316 339.5,-316 339.5,-322 333.5,-328 327.5,-328\"/>\n<text text-anchor=\"start\" x=\"206.5\" y=\"-312.8\" font-family=\"Helvetica,sans-Serif\" font-size=\"14.00\" fill=\"#000000\">ram ≤ 1105.93</text>\n<text text-anchor=\"start\" x=\"220\" y=\"-297.8\" font-family=\"Helvetica,sans-Serif\" font-size=\"14.00\" fill=\"#000000\">gini = 0.59</text>\n<text text-anchor=\"start\" x=\"205.5\" y=\"-282.8\" font-family=\"Helvetica,sans-Serif\" font-size=\"14.00\" fill=\"#000000\">samples = 825</text>\n<text text-anchor=\"start\" x=\"175.5\" y=\"-267.8\" font-family=\"Helvetica,sans-Serif\" font-size=\"14.00\" fill=\"#000000\">value = [396, 340, 89, 0]</text>\n</g>\n<!-- 0&#45;&gt;1 -->\n<g id=\"edge1\" class=\"edge\">\n<title>0&#45;&gt;1</title>\n<path fill=\"none\" stroke=\"#000000\" d=\"M324.5275,-394.9338C312.0389,-377.1868 296.6474,-355.3147 283.3886,-336.4732\"/>\n<polygon fill=\"#000000\" stroke=\"#000000\" points=\"286.0821,-334.2191 277.4648,-328.0553 280.3575,-338.2476 286.0821,-334.2191\"/>\n<text text-anchor=\"middle\" x=\"273.1813\" y=\"-348.9856\" font-family=\"Helvetica,sans-Serif\" font-size=\"14.00\" fill=\"#000000\">True</text>\n</g>\n<!-- 2 -->\n<g id=\"node5\" class=\"node\">\n<title>2</title>\n<path fill=\"#f5cef9\" stroke=\"#000000\" d=\"M517.5,-328C517.5,-328 369.5,-328 369.5,-328 363.5,-328 357.5,-322 357.5,-316 357.5,-316 357.5,-272 357.5,-272 357.5,-266 363.5,-260 369.5,-260 369.5,-260 517.5,-260 517.5,-260 523.5,-260 529.5,-266 529.5,-272 529.5,-272 529.5,-316 529.5,-316 529.5,-322 523.5,-328 517.5,-328\"/>\n<text text-anchor=\"start\" x=\"396.5\" y=\"-312.8\" font-family=\"Helvetica,sans-Serif\" font-size=\"14.00\" fill=\"#000000\">ram ≤ 3013.43</text>\n<text text-anchor=\"start\" x=\"410\" y=\"-297.8\" font-family=\"Helvetica,sans-Serif\" font-size=\"14.00\" fill=\"#000000\">gini = 0.54</text>\n<text text-anchor=\"start\" x=\"395.5\" y=\"-282.8\" font-family=\"Helvetica,sans-Serif\" font-size=\"14.00\" fill=\"#000000\">samples = 775</text>\n<text text-anchor=\"start\" x=\"365.5\" y=\"-267.8\" font-family=\"Helvetica,sans-Serif\" font-size=\"14.00\" fill=\"#000000\">value = [0, 46, 306, 423]</text>\n</g>\n<!-- 0&#45;&gt;2 -->\n<g id=\"edge4\" class=\"edge\">\n<title>0&#45;&gt;2</title>\n<path fill=\"none\" stroke=\"#000000\" d=\"M372.4725,-394.9338C384.9611,-377.1868 400.3526,-355.3147 413.6114,-336.4732\"/>\n<polygon fill=\"#000000\" stroke=\"#000000\" points=\"416.6425,-338.2476 419.5352,-328.0553 410.9179,-334.2191 416.6425,-338.2476\"/>\n<text text-anchor=\"middle\" x=\"423.8187\" y=\"-348.9856\" font-family=\"Helvetica,sans-Serif\" font-size=\"14.00\" fill=\"#000000\">False</text>\n</g>\n<!-- 3 -->\n<g id=\"node3\" class=\"node\">\n<title>3</title>\n<path fill=\"#e88f50\" stroke=\"#000000\" d=\"M143,-185.5C143,-185.5 12,-185.5 12,-185.5 6,-185.5 0,-179.5 0,-173.5 0,-173.5 0,-144.5 0,-144.5 0,-138.5 6,-132.5 12,-132.5 12,-132.5 143,-132.5 143,-132.5 149,-132.5 155,-138.5 155,-144.5 155,-144.5 155,-173.5 155,-173.5 155,-179.5 149,-185.5 143,-185.5\"/>\n<text text-anchor=\"start\" x=\"44\" y=\"-170.3\" font-family=\"Helvetica,sans-Serif\" font-size=\"14.00\" fill=\"#000000\">gini = 0.18</text>\n<text text-anchor=\"start\" x=\"29.5\" y=\"-155.3\" font-family=\"Helvetica,sans-Serif\" font-size=\"14.00\" fill=\"#000000\">samples = 352</text>\n<text text-anchor=\"start\" x=\"8\" y=\"-140.3\" font-family=\"Helvetica,sans-Serif\" font-size=\"14.00\" fill=\"#000000\">value = [316, 36, 0, 0]</text>\n</g>\n<!-- 1&#45;&gt;3 -->\n<g id=\"edge2\" class=\"edge\">\n<title>1&#45;&gt;3</title>\n<path fill=\"none\" stroke=\"#000000\" d=\"M209.0878,-259.9338C181.8633,-239.0514 147.1927,-212.4575 120.2747,-191.8102\"/>\n<polygon fill=\"#000000\" stroke=\"#000000\" points=\"122.2514,-188.9153 112.1866,-185.6062 117.991,-194.4695 122.2514,-188.9153\"/>\n</g>\n<!-- 4 -->\n<g id=\"node4\" class=\"node\">\n<title>4</title>\n<path fill=\"#98f090\" stroke=\"#000000\" d=\"M325.5,-185.5C325.5,-185.5 185.5,-185.5 185.5,-185.5 179.5,-185.5 173.5,-179.5 173.5,-173.5 173.5,-173.5 173.5,-144.5 173.5,-144.5 173.5,-138.5 179.5,-132.5 185.5,-132.5 185.5,-132.5 325.5,-132.5 325.5,-132.5 331.5,-132.5 337.5,-138.5 337.5,-144.5 337.5,-144.5 337.5,-173.5 337.5,-173.5 337.5,-179.5 331.5,-185.5 325.5,-185.5\"/>\n<text text-anchor=\"start\" x=\"222\" y=\"-170.3\" font-family=\"Helvetica,sans-Serif\" font-size=\"14.00\" fill=\"#000000\">gini = 0.52</text>\n<text text-anchor=\"start\" x=\"207.5\" y=\"-155.3\" font-family=\"Helvetica,sans-Serif\" font-size=\"14.00\" fill=\"#000000\">samples = 473</text>\n<text text-anchor=\"start\" x=\"181.5\" y=\"-140.3\" font-family=\"Helvetica,sans-Serif\" font-size=\"14.00\" fill=\"#000000\">value = [80, 304, 89, 0]</text>\n</g>\n<!-- 1&#45;&gt;4 -->\n<g id=\"edge3\" class=\"edge\">\n<title>1&#45;&gt;4</title>\n<path fill=\"none\" stroke=\"#000000\" d=\"M254.0047,-259.9338C254.2931,-240.4678 254.655,-216.0387 254.9505,-196.0899\"/>\n<polygon fill=\"#000000\" stroke=\"#000000\" points=\"258.454,-195.8737 255.1026,-185.823 251.4548,-195.77 258.454,-195.8737\"/>\n</g>\n<!-- 5 -->\n<g id=\"node6\" class=\"node\">\n<title>5</title>\n<path fill=\"#87c4ef\" stroke=\"#000000\" d=\"M511.5,-185.5C511.5,-185.5 371.5,-185.5 371.5,-185.5 365.5,-185.5 359.5,-179.5 359.5,-173.5 359.5,-173.5 359.5,-144.5 359.5,-144.5 359.5,-138.5 365.5,-132.5 371.5,-132.5 371.5,-132.5 511.5,-132.5 511.5,-132.5 517.5,-132.5 523.5,-138.5 523.5,-144.5 523.5,-144.5 523.5,-173.5 523.5,-173.5 523.5,-179.5 517.5,-185.5 511.5,-185.5\"/>\n<text text-anchor=\"start\" x=\"408\" y=\"-170.3\" font-family=\"Helvetica,sans-Serif\" font-size=\"14.00\" fill=\"#000000\">gini = 0.49</text>\n<text text-anchor=\"start\" x=\"393.5\" y=\"-155.3\" font-family=\"Helvetica,sans-Serif\" font-size=\"14.00\" fill=\"#000000\">samples = 340</text>\n<text text-anchor=\"start\" x=\"367.5\" y=\"-140.3\" font-family=\"Helvetica,sans-Serif\" font-size=\"14.00\" fill=\"#000000\">value = [0, 46, 231, 63]</text>\n</g>\n<!-- 2&#45;&gt;5 -->\n<g id=\"edge5\" class=\"edge\">\n<title>2&#45;&gt;5</title>\n<path fill=\"none\" stroke=\"#000000\" d=\"M442.9953,-259.9338C442.7069,-240.4678 442.345,-216.0387 442.0495,-196.0899\"/>\n<polygon fill=\"#000000\" stroke=\"#000000\" points=\"445.5452,-195.77 441.8974,-185.823 438.546,-195.8737 445.5452,-195.77\"/>\n</g>\n<!-- 6 -->\n<g id=\"node7\" class=\"node\">\n<title>6</title>\n<path fill=\"#df62ea\" stroke=\"#000000\" d=\"M699,-193C699,-193 554,-193 554,-193 548,-193 542,-187 542,-181 542,-181 542,-137 542,-137 542,-131 548,-125 554,-125 554,-125 699,-125 699,-125 705,-125 711,-131 711,-137 711,-137 711,-181 711,-181 711,-187 705,-193 699,-193\"/>\n<text text-anchor=\"start\" x=\"550\" y=\"-177.8\" font-family=\"Helvetica,sans-Serif\" font-size=\"14.00\" fill=\"#000000\">battery_power ≤ 898.17</text>\n<text text-anchor=\"start\" x=\"593\" y=\"-162.8\" font-family=\"Helvetica,sans-Serif\" font-size=\"14.00\" fill=\"#000000\">gini = 0.29</text>\n<text text-anchor=\"start\" x=\"578.5\" y=\"-147.8\" font-family=\"Helvetica,sans-Serif\" font-size=\"14.00\" fill=\"#000000\">samples = 435</text>\n<text text-anchor=\"start\" x=\"557\" y=\"-132.8\" font-family=\"Helvetica,sans-Serif\" font-size=\"14.00\" fill=\"#000000\">value = [0, 0, 75, 360]</text>\n</g>\n<!-- 2&#45;&gt;6 -->\n<g id=\"edge6\" class=\"edge\">\n<title>2&#45;&gt;6</title>\n<path fill=\"none\" stroke=\"#000000\" d=\"M489.6786,-259.9338C514.7109,-241.4674 545.7977,-218.5345 572.0106,-199.1971\"/>\n<polygon fill=\"#000000\" stroke=\"#000000\" points=\"574.3667,-201.8084 580.3361,-193.0553 570.2111,-196.1753 574.3667,-201.8084\"/>\n</g>\n<!-- 7 -->\n<g id=\"node8\" class=\"node\">\n<title>7</title>\n<path fill=\"#f6d3f9\" stroke=\"#000000\" d=\"M603,-60.5C603,-60.5 480,-60.5 480,-60.5 474,-60.5 468,-54.5 468,-48.5 468,-48.5 468,-19.5 468,-19.5 468,-13.5 474,-7.5 480,-7.5 480,-7.5 603,-7.5 603,-7.5 609,-7.5 615,-13.5 615,-19.5 615,-19.5 615,-48.5 615,-48.5 615,-54.5 609,-60.5 603,-60.5\"/>\n<text text-anchor=\"start\" x=\"508\" y=\"-45.3\" font-family=\"Helvetica,sans-Serif\" font-size=\"14.00\" fill=\"#000000\">gini = 0.49</text>\n<text text-anchor=\"start\" x=\"493.5\" y=\"-30.3\" font-family=\"Helvetica,sans-Serif\" font-size=\"14.00\" fill=\"#000000\">samples = 121</text>\n<text text-anchor=\"start\" x=\"476\" y=\"-15.3\" font-family=\"Helvetica,sans-Serif\" font-size=\"14.00\" fill=\"#000000\">value = [0, 0, 53, 68]</text>\n</g>\n<!-- 6&#45;&gt;7 -->\n<g id=\"edge7\" class=\"edge\">\n<title>6&#45;&gt;7</title>\n<path fill=\"none\" stroke=\"#000000\" d=\"M603.2734,-124.8432C591.5532,-107.6076 577.352,-86.7236 565.5225,-69.3272\"/>\n<polygon fill=\"#000000\" stroke=\"#000000\" points=\"568.0957,-66.8869 559.5783,-60.5858 562.3072,-70.8231 568.0957,-66.8869\"/>\n</g>\n<!-- 8 -->\n<g id=\"node9\" class=\"node\">\n<title>8</title>\n<path fill=\"#da48e7\" stroke=\"#000000\" d=\"M776,-60.5C776,-60.5 645,-60.5 645,-60.5 639,-60.5 633,-54.5 633,-48.5 633,-48.5 633,-19.5 633,-19.5 633,-13.5 639,-7.5 645,-7.5 645,-7.5 776,-7.5 776,-7.5 782,-7.5 788,-13.5 788,-19.5 788,-19.5 788,-48.5 788,-48.5 788,-54.5 782,-60.5 776,-60.5\"/>\n<text text-anchor=\"start\" x=\"677\" y=\"-45.3\" font-family=\"Helvetica,sans-Serif\" font-size=\"14.00\" fill=\"#000000\">gini = 0.13</text>\n<text text-anchor=\"start\" x=\"662.5\" y=\"-30.3\" font-family=\"Helvetica,sans-Serif\" font-size=\"14.00\" fill=\"#000000\">samples = 314</text>\n<text text-anchor=\"start\" x=\"641\" y=\"-15.3\" font-family=\"Helvetica,sans-Serif\" font-size=\"14.00\" fill=\"#000000\">value = [0, 0, 22, 292]</text>\n</g>\n<!-- 6&#45;&gt;8 -->\n<g id=\"edge8\" class=\"edge\">\n<title>6&#45;&gt;8</title>\n<path fill=\"none\" stroke=\"#000000\" d=\"M649.4534,-124.8432C661.0357,-107.6076 675.0697,-86.7236 686.7601,-69.3272\"/>\n<polygon fill=\"#000000\" stroke=\"#000000\" points=\"689.9617,-70.838 692.6344,-60.5858 684.1517,-66.9336 689.9617,-70.838\"/>\n</g>\n</g>\n</svg>\n"
          },
          "metadata": {},
          "execution_count": 56
        }
      ]
    },
    {
      "cell_type": "markdown",
      "source": [
        "Cada nó possui as seguintes informações:\n",
        "- gini: Medida de variância. Quanto maior a variância, mais erros de classificação haverá. Portanto, valores mais baixos do Índice de Gini permitem melhor classificação. É a probabilidade de que, se você escolher duas linhas de um grupo, obterá o mesmo resultado positivo todas as vezes. Se o grupo for todo igual, a probabilidade é 1,0 e 0,0 se forem todos diferentes:\n",
        "- samples: número de amostras.\n",
        "- value: como as amostras são agrupadas"
      ],
      "metadata": {
        "id": "__eSYmY97754"
      }
    },
    {
      "cell_type": "markdown",
      "source": [
        "Analisando o gráfico acima é possível observar que os nós mais a esquerda estão dentro da escala de **[0 - 1]** (mais baratos) e os nós mais da direita estão dentro da escala **[2 - 3]** (mais caros)"
      ],
      "metadata": {
        "id": "Y9S-UTom6NKp"
      }
    },
    {
      "cell_type": "markdown",
      "source": [
        "A Random Forest é um algoritmo de aprendizado supervisionado, composta por um conjunto de Decision Trees. Pode ser usado tanto para classificação (separar em categorias) quanto para regressão (prever um valor numérico). Em um problema de **classificação**, como no caso que estou trabalhando, cada árvore vota e a classe mais popular é escolhida como resultado final. Quanto mais árvores tiver, mais robusta é a floresta. A Random Forest cria árvores de decisão em amostras de dados selecionadas aleatoriamente, obtém previsões de cada árvore e seleciona a melhor solução por meio de votação. Tecnicamente, é um método de conjunto (baseado na abordagem de [dividir e conquistar](https://en.wikipedia.org/wiki/Divide-and-conquer_algorithm) de árvores de decisão geradas em um conjunto de dados dividido aleatoriamente)"
      ],
      "metadata": {
        "id": "1ch3CMDAxCYw"
      }
    },
    {
      "cell_type": "markdown",
      "source": [
        "O algorítimo funciona em quatro etapas:\n",
        "- Selecionar amostras aleatórias de um determinado conjunto de dados\n",
        "- Construir uma árvore de decisão para cada amostra e obtenha um resultado de previsão de cada árvore de decisão\n",
        "- Realizar uma votação para cada resultado previsto\n",
        "- Selecionar o resultado da previsão com mais votos como a previsão final"
      ],
      "metadata": {
        "id": "wTlAqR1B-KsE"
      }
    },
    {
      "cell_type": "markdown",
      "source": [
        "Legenda: Arquitetura de uma Random Forest\n",
        "\n",
        "![random-forest-archtecure](https://user-images.githubusercontent.com/53023400/213031608-74a3a74c-b21d-4a1d-95ad-8c6eb37a6424.png)\n",
        "\n",
        "Fonte: [Understanding Random Forests Classifiers in Python Tutorial](https://www.datacamp.com/tutorial/random-forests-classifier-python)"
      ],
      "metadata": {
        "id": "0ru-cok_-10f"
      }
    },
    {
      "cell_type": "markdown",
      "source": [
        "Para treinar nosso modelo, primeiramente iremos chamar o método *RandomForestClassifier()* que, do ponto de vista da implementação, cria uma instância de uma Random Forest"
      ],
      "metadata": {
        "id": "WdHznVOzAv7L"
      }
    },
    {
      "cell_type": "code",
      "source": [
        "rf = RandomForestClassifier(n_estimators=100, random_state=1)"
      ],
      "metadata": {
        "id": "l9RjkV6C19nb"
      },
      "execution_count": null,
      "outputs": []
    },
    {
      "cell_type": "markdown",
      "source": [
        "Após isso, iremos ajusta-los usando o método *fit()* passando nossos valores de X e Y"
      ],
      "metadata": {
        "id": "zTtExWXM6mJk"
      }
    },
    {
      "cell_type": "code",
      "source": [
        "rf.fit(x_train,y_train)"
      ],
      "metadata": {
        "colab": {
          "base_uri": "https://localhost:8080/"
        },
        "id": "FAxRd_Yu12yw",
        "outputId": "61259bbe-eedf-4d97-c0f8-57d6d2707726"
      },
      "execution_count": null,
      "outputs": [
        {
          "output_type": "execute_result",
          "data": {
            "text/plain": [
              "RandomForestClassifier(random_state=1)"
            ]
          },
          "metadata": {},
          "execution_count": 14
        }
      ]
    },
    {
      "cell_type": "markdown",
      "source": [
        "Agora passamos as variáveis dependetes para realizar algumas previsões"
      ],
      "metadata": {
        "id": "q2cG6hVABq2-"
      }
    },
    {
      "cell_type": "code",
      "source": [
        "y_pred = rf.predict(x_test)\n",
        "y_pred"
      ],
      "metadata": {
        "colab": {
          "base_uri": "https://localhost:8080/"
        },
        "id": "klUzkHCq6Gh_",
        "outputId": "d4395421-b3de-457c-9728-3571d7f50526"
      },
      "execution_count": null,
      "outputs": [
        {
          "output_type": "execute_result",
          "data": {
            "text/plain": [
              "array([3, 0, 2, 0, 2, 0, 2, 3, 0, 1, 0, 0, 0, 1, 1, 2, 1, 1, 2, 0, 2, 1,\n",
              "       1, 3, 3, 0, 2, 1, 2, 1, 3, 0, 1, 3, 0, 3, 1, 1, 2, 1, 0, 2, 1, 0,\n",
              "       2, 0, 1, 0, 3, 1, 0, 3, 3, 0, 3, 3, 1, 1, 1, 1, 0, 0, 0, 1, 0, 0,\n",
              "       1, 1, 0, 1, 2, 1, 0, 1, 1, 2, 1, 1, 1, 1, 0, 2, 1, 1, 0, 0, 2, 1,\n",
              "       0, 1, 2, 1, 1, 1, 1, 0, 3, 3, 0, 2, 3, 1, 3, 0, 3, 2, 2, 1, 0, 3,\n",
              "       2, 3, 1, 2, 2, 2, 0, 0, 0, 0, 1, 3, 0, 3, 1, 0, 3, 3, 0, 3, 1, 3,\n",
              "       0, 1, 0, 0, 3, 0, 0, 2, 0, 2, 0, 2, 1, 0, 1, 3, 0, 0, 3, 0, 3, 0,\n",
              "       2, 0, 1, 3, 2, 0, 0, 3, 1, 1, 0, 2, 2, 3, 2, 0, 3, 3, 1, 1, 0, 3,\n",
              "       2, 2, 0, 2, 2, 3, 1, 2, 2, 3, 2, 3, 2, 0, 2, 2, 2, 2, 2, 3, 2, 2,\n",
              "       0, 2, 2, 2, 3, 1, 0, 0, 2, 3, 2, 0, 2, 3, 0, 2, 1, 0, 0, 3, 3, 0,\n",
              "       0, 0, 2, 2, 3, 2, 0, 2, 0, 3, 1, 1, 1, 0, 0, 3, 3, 2, 1, 0, 1, 1,\n",
              "       3, 0, 1, 2, 1, 1, 2, 0, 0, 0, 1, 3, 0, 0, 0, 1, 3, 1, 1, 2, 0, 0,\n",
              "       2, 3, 2, 2, 0, 3, 1, 1, 0, 2, 1, 3, 1, 2, 3, 2, 0, 1, 1, 1, 3, 3,\n",
              "       2, 1, 0, 2, 2, 0, 3, 3, 1, 1, 3, 2, 2, 2, 3, 2, 3, 1, 1, 2, 2, 0,\n",
              "       0, 0, 2, 0, 2, 1, 2, 1, 1, 0, 0, 0, 0, 2, 2, 2, 3, 0, 0, 2, 3, 1,\n",
              "       2, 0, 2, 2, 1, 1, 1, 3, 3, 2, 3, 2, 3, 1, 0, 1, 1, 0, 2, 0, 2, 3,\n",
              "       0, 3, 3, 3, 0, 1, 1, 2, 3, 1, 1, 2, 1, 3, 2, 0, 2, 1, 3, 1, 1, 1,\n",
              "       2, 3, 2, 1, 2, 2, 1, 3, 0, 2, 0, 1, 1, 2, 1, 0, 0, 0, 3, 0, 2, 2,\n",
              "       1, 2, 0, 2])"
            ]
          },
          "metadata": {},
          "execution_count": 15
        }
      ]
    },
    {
      "cell_type": "markdown",
      "source": [
        "Podemos comparar nossas previsões com os valores já informados"
      ],
      "metadata": {
        "id": "NpLv6eY-B_bH"
      }
    },
    {
      "cell_type": "code",
      "source": [
        "np.stack((y_test,y_pred),axis=1)"
      ],
      "metadata": {
        "colab": {
          "base_uri": "https://localhost:8080/"
        },
        "id": "S51Y7ZwZ6U1l",
        "outputId": "e8904db3-e52c-4476-88c3-d7a18312890b"
      },
      "execution_count": null,
      "outputs": [
        {
          "output_type": "execute_result",
          "data": {
            "text/plain": [
              "array([[0, 0],\n",
              "       [2, 2],\n",
              "       [1, 1],\n",
              "       [3, 3],\n",
              "       [1, 1],\n",
              "       [1, 2],\n",
              "       [2, 2],\n",
              "       [0, 0],\n",
              "       [3, 3],\n",
              "       [1, 1],\n",
              "       [0, 0],\n",
              "       [0, 1],\n",
              "       [2, 2],\n",
              "       [3, 3],\n",
              "       [3, 2],\n",
              "       [2, 2],\n",
              "       [3, 3],\n",
              "       [3, 3],\n",
              "       [1, 1],\n",
              "       [0, 0],\n",
              "       [0, 0],\n",
              "       [2, 1],\n",
              "       [1, 1],\n",
              "       [2, 2],\n",
              "       [0, 0],\n",
              "       [1, 1],\n",
              "       [3, 3],\n",
              "       [2, 2],\n",
              "       [2, 2],\n",
              "       [0, 0],\n",
              "       [0, 0],\n",
              "       [0, 0],\n",
              "       [3, 3],\n",
              "       [0, 0],\n",
              "       [1, 1],\n",
              "       [1, 1],\n",
              "       [2, 2],\n",
              "       [0, 0],\n",
              "       [3, 3],\n",
              "       [0, 0],\n",
              "       [2, 2],\n",
              "       [3, 3],\n",
              "       [2, 2],\n",
              "       [0, 0],\n",
              "       [2, 3],\n",
              "       [3, 2],\n",
              "       [2, 2],\n",
              "       [1, 1],\n",
              "       [3, 3],\n",
              "       [1, 1],\n",
              "       [3, 3],\n",
              "       [1, 1],\n",
              "       [0, 0],\n",
              "       [0, 0],\n",
              "       [1, 1],\n",
              "       [0, 1],\n",
              "       [1, 1],\n",
              "       [3, 3],\n",
              "       [0, 0],\n",
              "       [0, 0],\n",
              "       [1, 1],\n",
              "       [3, 3],\n",
              "       [3, 3],\n",
              "       [1, 1],\n",
              "       [0, 0],\n",
              "       [0, 0],\n",
              "       [3, 3],\n",
              "       [3, 3],\n",
              "       [1, 1],\n",
              "       [2, 2],\n",
              "       [2, 2],\n",
              "       [2, 3],\n",
              "       [0, 0],\n",
              "       [1, 1],\n",
              "       [2, 2],\n",
              "       [0, 0],\n",
              "       [1, 0],\n",
              "       [3, 3],\n",
              "       [2, 2],\n",
              "       [2, 2],\n",
              "       [3, 3],\n",
              "       [2, 2],\n",
              "       [1, 1],\n",
              "       [0, 0],\n",
              "       [1, 1],\n",
              "       [3, 3],\n",
              "       [1, 1],\n",
              "       [3, 3],\n",
              "       [3, 3],\n",
              "       [0, 0],\n",
              "       [3, 3],\n",
              "       [3, 3],\n",
              "       [2, 2],\n",
              "       [1, 1],\n",
              "       [3, 3],\n",
              "       [2, 2],\n",
              "       [2, 2],\n",
              "       [3, 3],\n",
              "       [1, 1],\n",
              "       [1, 1],\n",
              "       [0, 0],\n",
              "       [0, 0],\n",
              "       [1, 1],\n",
              "       [0, 0],\n",
              "       [0, 0],\n",
              "       [3, 3],\n",
              "       [2, 2],\n",
              "       [0, 0],\n",
              "       [1, 1],\n",
              "       [1, 1],\n",
              "       [0, 0],\n",
              "       [0, 0],\n",
              "       [3, 3],\n",
              "       [1, 1],\n",
              "       [3, 3],\n",
              "       [2, 2],\n",
              "       [3, 3],\n",
              "       [2, 2],\n",
              "       [0, 0],\n",
              "       [2, 2],\n",
              "       [1, 1],\n",
              "       [3, 3],\n",
              "       [2, 2],\n",
              "       [1, 1],\n",
              "       [3, 3],\n",
              "       [3, 3],\n",
              "       [0, 0],\n",
              "       [2, 3],\n",
              "       [0, 0],\n",
              "       [2, 2],\n",
              "       [3, 3],\n",
              "       [0, 0],\n",
              "       [2, 2],\n",
              "       [2, 2],\n",
              "       [0, 0],\n",
              "       [3, 3],\n",
              "       [1, 1],\n",
              "       [0, 0],\n",
              "       [0, 0],\n",
              "       [2, 2],\n",
              "       [2, 3],\n",
              "       [1, 0],\n",
              "       [3, 2],\n",
              "       [2, 2],\n",
              "       [0, 0],\n",
              "       [0, 0],\n",
              "       [0, 0],\n",
              "       [1, 1],\n",
              "       [1, 2],\n",
              "       [2, 2],\n",
              "       [3, 3],\n",
              "       [1, 1],\n",
              "       [1, 1],\n",
              "       [0, 0],\n",
              "       [2, 2],\n",
              "       [2, 2],\n",
              "       [0, 0],\n",
              "       [1, 1],\n",
              "       [0, 0],\n",
              "       [2, 1],\n",
              "       [2, 2],\n",
              "       [3, 2],\n",
              "       [3, 2],\n",
              "       [2, 3],\n",
              "       [1, 1],\n",
              "       [0, 0],\n",
              "       [1, 1],\n",
              "       [2, 2],\n",
              "       [2, 2],\n",
              "       [3, 3],\n",
              "       [3, 3],\n",
              "       [0, 1],\n",
              "       [1, 0],\n",
              "       [0, 0],\n",
              "       [3, 3],\n",
              "       [1, 1],\n",
              "       [1, 2],\n",
              "       [2, 2],\n",
              "       [1, 1],\n",
              "       [0, 0],\n",
              "       [0, 0],\n",
              "       [0, 0],\n",
              "       [0, 0],\n",
              "       [0, 0],\n",
              "       [3, 3],\n",
              "       [2, 2],\n",
              "       [0, 0],\n",
              "       [3, 3],\n",
              "       [0, 0],\n",
              "       [0, 0],\n",
              "       [0, 0],\n",
              "       [0, 0],\n",
              "       [1, 1],\n",
              "       [3, 3],\n",
              "       [3, 3],\n",
              "       [1, 1],\n",
              "       [0, 0],\n",
              "       [1, 1],\n",
              "       [1, 1],\n",
              "       [1, 1]])"
            ]
          },
          "metadata": {},
          "execution_count": 69
        }
      ]
    },
    {
      "cell_type": "markdown",
      "source": [
        "## 4.5 Calculando a acurácia"
      ],
      "metadata": {
        "id": "MKGxLtoCCEUL"
      }
    },
    {
      "cell_type": "markdown",
      "source": [
        "A função *score* do Scikit-learn pode ser usada para calcular a acurácia da Random Forest. Trata-se de um método para calcularemos uma medida de impureza, ou seja, quanto a divisão binária cria dois grupos em que as linhas de um grupo são semelhantes entre si ou diferentes. Sendo que quanto mais próximo de 1 melhor será a acurácia"
      ],
      "metadata": {
        "id": "HO-7FfCkDgX3"
      }
    },
    {
      "cell_type": "code",
      "source": [
        "print(\"Random Forest Accuracy: \", rf.score(x_test,y_test))"
      ],
      "metadata": {
        "colab": {
          "base_uri": "https://localhost:8080/"
        },
        "id": "T0x_Kr-J59Et",
        "outputId": "a5e61c77-1198-4b12-a3af-f444cc714ada"
      },
      "execution_count": null,
      "outputs": [
        {
          "output_type": "stream",
          "name": "stdout",
          "text": [
            "Random Forest Accuracy:  0.895\n"
          ]
        }
      ]
    },
    {
      "cell_type": "markdown",
      "source": [
        "# 5. Deploy"
      ],
      "metadata": {
        "id": "4o2Fi7rkY6bI"
      }
    },
    {
      "cell_type": "markdown",
      "source": [
        "A aplicação pode ser acessada por meio do link: [Mobile Price Classification](https://huggingface.co/spaces/jackesfonseca/mobile-price)"
      ],
      "metadata": {
        "id": "E_AILmf3qUD3"
      }
    },
    {
      "cell_type": "markdown",
      "source": [
        "![app](https://user-images.githubusercontent.com/53023400/213230559-fa6abaec-7773-4bab-a770-3f0502ba9828.png)"
      ],
      "metadata": {
        "id": "MRc4TeSqqUYF"
      }
    }
  ]
}