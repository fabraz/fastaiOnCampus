{
  "cells": [
    {
      "cell_type": "markdown",
      "metadata": {
        "id": "mUwOVTd1g_NE"
      },
      "source": [
        "# Qual modelo é o melhor?\n",
        "\n",
        "# Autor\n",
        "Nome: Leonardo Fernandes Padre\n",
        "\n",
        "Matrícula: 200067036\n",
        "\n",
        "# Objetivo\n",
        "Testar diferentes tipos de modelo, estipular o melhor e usa-lo como principal para deploy.\n",
        "\n",
        "# Motivação\n",
        "Obter um conhecimento mais sólido a respeito de outro tipos de modelo de imagem suportados pelo fastai e reforçar o aprendizado sobre como realizar o deploy no [Hugging Face](https://huggingface.co/).\n",
        "\n",
        "# Desenvolvimento\n",
        "Este modelo foi todo desenvolvido na ferramenta [Google Colab](https://colab.research.google.com), disponível para navegador. Utilizando o [pip](https://pypi.org/project/pip/) como instalador de pacotes.\n"
      ]
    },
    {
      "cell_type": "code",
      "execution_count": 1,
      "metadata": {
        "colab": {
          "base_uri": "https://localhost:8080/"
        },
        "id": "Aa7QlX9b8cD0",
        "outputId": "a2e74fa9-f539-42d5-8dae-1a2db3f084d4"
      },
      "outputs": [
        {
          "name": "stdout",
          "output_type": "stream",
          "text": [
            "\u001b[K     |████████████████████████████████| 96 kB 6.1 MB/s \n",
            "\u001b[K     |████████████████████████████████| 62 kB 1.5 MB/s \n",
            "\u001b[31mERROR: pip's dependency resolver does not currently take into account all the packages that are installed. This behaviour is the source of the following dependency conflicts.\n",
            "flask 1.1.4 requires click<8.0,>=5.1, but you have click 8.1.3 which is incompatible.\u001b[0m\n",
            "\u001b[K     |████████████████████████████████| 719 kB 24.4 MB/s \n",
            "\u001b[K     |████████████████████████████████| 5.5 MB 57.6 MB/s \n",
            "\u001b[K     |████████████████████████████████| 451 kB 76.9 MB/s \n",
            "\u001b[K     |████████████████████████████████| 1.3 MB 65.2 MB/s \n",
            "\u001b[K     |████████████████████████████████| 1.6 MB 69.2 MB/s \n",
            "\u001b[K     |████████████████████████████████| 212 kB 77.3 MB/s \n",
            "\u001b[K     |████████████████████████████████| 132 kB 81.4 MB/s \n",
            "\u001b[K     |████████████████████████████████| 182 kB 71.4 MB/s \n",
            "\u001b[K     |████████████████████████████████| 140 kB 68.1 MB/s \n",
            "\u001b[K     |████████████████████████████████| 7.6 MB 56.5 MB/s \n",
            "\u001b[K     |████████████████████████████████| 549 kB 32.9 MB/s \n",
            "\u001b[?25h"
          ]
        }
      ],
      "source": [
        "!pip install -qq fastai\n",
        "!pip install -qq duckduckgo_search\n",
        "!pip install -qq fastbook\n",
        "!pip install -qq timm\n",
        "\n",
        "from fastai.vision.all import *\n",
        "import duckduckgo_search\n",
        "from fastbook import *\n",
        "from fastdownload import download_url\n",
        "import timm\n",
        "from fastcore.all import *\n",
        "from time import sleep"
      ]
    },
    {
      "cell_type": "markdown",
      "metadata": {
        "id": "TFOxHqb-iimI"
      },
      "source": [
        "# Criando Base de Dados"
      ]
    },
    {
      "cell_type": "code",
      "execution_count": 2,
      "metadata": {
        "id": "diaUX-ndvxpb"
      },
      "outputs": [],
      "source": [
        "lbs = 'basketball-ball', 'soccer-ball', 'american-football-ball', 'baseball-ball', 'volleyball-ball'\n",
        "path = Path('balls')\n",
        "\n",
        "for o in lbs:\n",
        "  dest = (path/o)\n",
        "  dest.mkdir(exist_ok=True, parents=True)\n",
        "  download_images(dest, urls=search_images_ddg(o, max_images=100))"
      ]
    },
    {
      "cell_type": "code",
      "execution_count": 3,
      "metadata": {
        "colab": {
          "base_uri": "https://localhost:8080/"
        },
        "id": "cPbrSUaa0tDt",
        "outputId": "153a19f7-840e-46d5-c19f-b8374951a38f"
      },
      "outputs": [
        {
          "name": "stdout",
          "output_type": "stream",
          "text": [
            "Falhas Removidas: 5\n"
          ]
        }
      ],
      "source": [
        "failed = verify_images(get_image_files(path))\n",
        "failed.map(Path.unlink)\n",
        "print(f'Falhas Removidas: {len(failed)}')"
      ]
    },
    {
      "cell_type": "code",
      "execution_count": 4,
      "metadata": {
        "id": "Rm4hVldm0uGr"
      },
      "outputs": [],
      "source": [
        "dls = DataBlock (\n",
        "    blocks = (ImageBlock, CategoryBlock),\n",
        "    get_items = get_image_files,\n",
        "    splitter = RandomSplitter(valid_pct = 0.2, seed = 42),\n",
        "    get_y = parent_label,\n",
        "    item_tfms = [Resize(224, method = 'squish')]\n",
        ").dataloaders(path, bs = 32)"
      ]
    },
    {
      "cell_type": "markdown",
      "metadata": {
        "id": "LANnCUnYjWjO"
      },
      "source": [
        "# Buscando Novos Modelos\n",
        "\n",
        "Agora iremos usar o PyTorch Image Models (`timm`) para obter os modelos de visão computacional pré-treinados que serão utilizados."
      ]
    },
    {
      "cell_type": "code",
      "execution_count": 5,
      "metadata": {
        "colab": {
          "base_uri": "https://localhost:8080/"
        },
        "id": "BLkFSpkdHzoP",
        "outputId": "8503a7ce-2577-454e-e60e-b8d478f08fce"
      },
      "outputs": [
        {
          "name": "stdout",
          "output_type": "stream",
          "text": [
            "Cloning into 'pytorch-image-models'...\n",
            "remote: Enumerating objects: 507, done.\u001b[K\n",
            "remote: Counting objects: 100% (507/507), done.\u001b[K\n",
            "remote: Compressing objects: 100% (354/354), done.\u001b[K\n",
            "remote: Total 507 (delta 207), reused 362 (delta 144), pack-reused 0\u001b[K\n",
            "Receiving objects: 100% (507/507), 1.14 MiB | 4.96 MiB/s, done.\n",
            "Resolving deltas: 100% (207/207), done.\n",
            "/content/pytorch-image-models/results\n"
          ]
        }
      ],
      "source": [
        "! git clone --depth 1 https://github.com/rwightman/pytorch-image-models.git\n",
        "%cd pytorch-image-models/results"
      ]
    },
    {
      "cell_type": "code",
      "execution_count": 6,
      "metadata": {
        "id": "aCQCxljwH5W7"
      },
      "outputs": [],
      "source": [
        "import pandas as pd\n",
        "df_results = pd.read_csv('results-imagenet.csv')"
      ]
    },
    {
      "cell_type": "code",
      "execution_count": 7,
      "metadata": {
        "id": "cPewW8DJH6vO"
      },
      "outputs": [],
      "source": [
        "def get_data(part, col):\n",
        "    df = pd.read_csv(f'benchmark-{part}-amp-nhwc-pt111-cu113-rtx3090.csv').merge(df_results, on='model')\n",
        "    df['secs'] = 1. / df[col]\n",
        "    df['family'] = df.model.str.extract('^([a-z]+?(?:v2)?)(?:\\d|_|$)')\n",
        "    df = df[~df.model.str.endswith('gn')]\n",
        "    df.loc[df.model.str.contains('in22'),'family'] = df.loc[df.model.str.contains('in22'),'family'] + '_in22'\n",
        "    df.loc[df.model.str.contains('resnet.*d'),'family'] = df.loc[df.model.str.contains('resnet.*d'),'family'] + 'd'\n",
        "    return df[df.family.str.contains('^re[sg]netd?|beit|convnext|levit|efficient|vit|vgg|swin')]"
      ]
    },
    {
      "cell_type": "code",
      "execution_count": 8,
      "metadata": {
        "colab": {
          "base_uri": "https://localhost:8080/"
        },
        "id": "yZNkp46BIAX3",
        "outputId": "a7b5576d-abac-46f9-fb26-80591a10d5a7"
      },
      "outputs": [
        {
          "name": "stdout",
          "output_type": "stream",
          "text": [
            "/content\n"
          ]
        }
      ],
      "source": [
        "df = get_data('infer', 'infer_samples_per_sec')\n",
        "\n",
        "%cd ../.."
      ]
    },
    {
      "cell_type": "markdown",
      "metadata": {
        "id": "oMArJsP-kinn"
      },
      "source": [
        "# Testando os modelos\n",
        "\n",
        "O primeiro objetivo era treinar utilizando os modelos dos extremos tendo como base o gráfico abaixo, ou seja, o modelo mais rapido e o mais lento na hora de processar uma imagem, o modelo mais preciso e o menos preciso. Porém, nas tentativas realizadas viu-se que o Google Colab só suportava modelos com o tamanho minimo (size = 50176) e com 85% de precisão. Com base nisso, diminuiu-se a quantidade de modelos que poderiam ser utilizados nesse experimento."
      ]
    },
    {
      "cell_type": "code",
      "execution_count": 9,
      "metadata": {
        "id": "pCubUuljssia"
      },
      "outputs": [],
      "source": [
        "import plotly.express as px\n",
        "w,h = 1000,800\n",
        "\n",
        "def show_all(df, title, size):\n",
        "    return px.scatter(df, width=w, height=h, size=df[size]**2, title=title,\n",
        "        x='secs',  y='top1', log_x=True, color='family', hover_name='model', hover_data=[size])"
      ]
    },
    {
      "cell_type": "code",
      "execution_count": 10,
      "metadata": {
        "colab": {
          "base_uri": "https://localhost:8080/",
          "height": 817
        },
        "id": "1M0k31BHsumz",
        "outputId": "8aa5b1fd-8161-48b6-b551-c8d0f3685ca9"
      },
      "outputs": [
        {
          "data": {
            "text/html": [
              "<html>\n",
              "<head><meta charset=\"utf-8\" /></head>\n",
              "<body>\n",
              "    <div>            <script src=\"https://cdnjs.cloudflare.com/ajax/libs/mathjax/2.7.5/MathJax.js?config=TeX-AMS-MML_SVG\"></script><script type=\"text/javascript\">if (window.MathJax) {MathJax.Hub.Config({SVG: {font: \"STIX-Web\"}});}</script>                <script type=\"text/javascript\">window.PlotlyConfig = {MathJaxConfig: 'local'};</script>\n",
              "        <script src=\"https://cdn.plot.ly/plotly-2.8.3.min.js\"></script>                <div id=\"835b70bb-9d72-444c-b408-286958692c7d\" class=\"plotly-graph-div\" style=\"height:800px; width:1000px;\"></div>            <script type=\"text/javascript\">                                    window.PLOTLYENV=window.PLOTLYENV || {};                                    if (document.getElementById(\"835b70bb-9d72-444c-b408-286958692c7d\")) {                    Plotly.newPlot(                        \"835b70bb-9d72-444c-b408-286958692c7d\",                        [{\"customdata\":[[224],[224],[224],[224],[224]],\"hovertemplate\":\"<b>%{hovertext}</b><br><br>family=levit<br>secs=%{x}<br>top1=%{y}<br>size=%{marker.size}<br>infer_img_size=%{customdata[0]}<extra></extra>\",\"hovertext\":[\"levit_128s\",\"levit_128\",\"levit_192\",\"levit_256\",\"levit_384\"],\"legendgroup\":\"levit\",\"marker\":{\"color\":\"#636efa\",\"size\":[50176,50176,50176,50176,50176],\"sizemode\":\"area\",\"sizeref\":655.36,\"symbol\":\"circle\"},\"mode\":\"markers\",\"name\":\"levit\",\"orientation\":\"v\",\"showlegend\":true,\"x\":[4.654236751715086e-05,6.822292249261998e-05,7.756230968148262e-05,0.00010599687945186893,0.00017720128293728847],\"xaxis\":\"x\",\"y\":[76.514,78.482,79.836,81.516,82.588],\"yaxis\":\"y\",\"type\":\"scatter\"},{\"customdata\":[[224],[224],[224],[224],[224],[224],[224],[224],[224],[224],[224],[224]],\"hovertemplate\":\"<b>%{hovertext}</b><br><br>family=regnetx<br>secs=%{x}<br>top1=%{y}<br>size=%{marker.size}<br>infer_img_size=%{customdata[0]}<extra></extra>\",\"hovertext\":[\"regnetx_002\",\"regnetx_004\",\"regnetx_008\",\"regnetx_006\",\"regnetx_016\",\"regnetx_032\",\"regnetx_040\",\"regnetx_080\",\"regnetx_064\",\"regnetx_120\",\"regnetx_160\",\"regnetx_320\"],\"legendgroup\":\"regnetx\",\"marker\":{\"color\":\"#EF553B\",\"size\":[50176,50176,50176,50176,50176,50176,50176,50176,50176,50176,50176,50176],\"sizemode\":\"area\",\"sizeref\":655.36,\"symbol\":\"circle\"},\"mode\":\"markers\",\"name\":\"regnetx\",\"orientation\":\"v\",\"showlegend\":true,\"x\":[5.611048828469115e-05,6.925193368711838e-05,0.00011822399190402103,0.0001259786970023369,0.00026479614668647344,0.0006228278877415016,0.0006304057291272663,0.0007938902208602596,0.0008572212316554657,0.0012854296548621376,0.001604157977477622,0.0038134462113411888],\"xaxis\":\"x\",\"y\":[68.754,72.396,75.034,73.856,76.942,78.184,78.488,79.202,79.074,79.592,79.854,80.244],\"yaxis\":\"y\",\"type\":\"scatter\"},{\"customdata\":[[224],[224],[224],[224],[224],[288],[288],[224],[288],[288],[224],[288]],\"hovertemplate\":\"<b>%{hovertext}</b><br><br>family=regnety<br>secs=%{x}<br>top1=%{y}<br>size=%{marker.size}<br>infer_img_size=%{customdata[0]}<extra></extra>\",\"hovertext\":[\"regnety_002\",\"regnety_006\",\"regnety_004\",\"regnety_008\",\"regnety_016\",\"regnety_032\",\"regnety_040\",\"regnety_120\",\"regnety_080\",\"regnety_064\",\"regnety_320\",\"regnety_160\"],\"legendgroup\":\"regnety\",\"marker\":{\"color\":\"#00cc96\",\"size\":[50176,50176,50176,50176,50176,82944,82944,50176,82944,82944,50176,82944],\"sizemode\":\"area\",\"sizeref\":655.36,\"symbol\":\"circle\"},\"mode\":\"markers\",\"name\":\"regnety\",\"orientation\":\"v\",\"showlegend\":true,\"x\":[5.9976920880845045e-05,0.00010017450398594352,0.00010468376082691796,0.00012704688411164372,0.00029335406368716726,0.0007311277645768598,0.0011773986554107355,0.0013256445946841651,0.0018643499011894553,0.0021192726656211586,0.002407666008571291,0.0024128362890577875],\"xaxis\":\"x\",\"y\":[70.256,75.252,74.024,76.314,77.856,82.724,83.036,80.376,83.928,83.72,80.804,83.692],\"yaxis\":\"y\",\"type\":\"scatter\"},{\"customdata\":[[224],[224],[224],[224],[224],[384],[224],[384],[224],[384],[384],[224],[224],[224],[224],[384],[384],[384],[224],[384],[384],[224],[384],[384]],\"hovertemplate\":\"<b>%{hovertext}</b><br><br>family=vit<br>secs=%{x}<br>top1=%{y}<br>size=%{marker.size}<br>infer_img_size=%{customdata[0]}<extra></extra>\",\"hovertext\":[\"vit_small_patch32_224\",\"vit_tiny_r_s16_p8_224\",\"vit_tiny_patch16_224\",\"vit_base_patch32_224_sam\",\"vit_base_patch32_224\",\"vit_small_patch32_384\",\"vit_small_patch16_224\",\"vit_tiny_r_s16_p8_384\",\"vit_small_r26_s32_224\",\"vit_tiny_patch16_384\",\"vit_base_patch32_384\",\"vit_base_patch16_224_miil\",\"vit_base_patch16_224_sam\",\"vit_base_patch16_224\",\"vit_large_r50_s32_224\",\"vit_small_patch16_384\",\"vit_small_r26_s32_384\",\"vit_large_patch32_384\",\"vit_large_patch16_224\",\"vit_base_patch16_384\",\"vit_large_r50_s32_384\",\"vit_base_patch8_224\",\"vit_base_r50_s16_384\",\"vit_large_patch16_384\"],\"legendgroup\":\"vit\",\"marker\":{\"color\":\"#ab63fa\",\"size\":[50176,50176,50176,50176,50176,147456,50176,147456,50176,147456,147456,50176,50176,50176,50176,147456,147456,147456,50176,147456,147456,50176,147456,147456],\"sizemode\":\"area\",\"sizeref\":655.36,\"symbol\":\"circle\"},\"mode\":\"markers\",\"name\":\"vit\",\"orientation\":\"v\",\"showlegend\":true,\"x\":[8.26542597112556e-05,0.00010105327831992861,0.0001606500543800434,0.0002309404820189741,0.00023169601482854495,0.0002629917946560067,0.0003523347461956656,0.0003702675182819587,0.0005623284898106078,0.0006846126461648,0.0007257578726585237,0.0009018027036045053,0.0009314282520817422,0.0009315670821455853,0.0013855980934170233,0.0014628865677755345,0.0017152952880838436,0.002085723224528105,0.0028202380280895707,0.0036026948157221604,0.004231729507849859,0.005465078150617554,0.005822416302765648,0.010594342621040365],\"xaxis\":\"x\",\"y\":[75.99,71.794,75.464,73.692,80.724,80.49,81.396,75.952,81.862,78.43,83.352,84.272,80.244,84.53,84.43,83.8,84.048,81.508,85.844,86.006,86.18,85.79,84.976,87.08],\"yaxis\":\"y\",\"type\":\"scatter\"},{\"customdata\":[[224],[224],[224],[256],[224],[256],[256],[224],[288],[288],[224]],\"hovertemplate\":\"<b>%{hovertext}</b><br><br>family=resnet<br>secs=%{x}<br>top1=%{y}<br>size=%{marker.size}<br>infer_img_size=%{customdata[0]}<extra></extra>\",\"hovertext\":[\"resnet18\",\"resnet34\",\"resnet26\",\"resnet26t\",\"resnet50\",\"resnet32ts\",\"resnet33ts\",\"resnet101\",\"resnet51q\",\"resnet61q\",\"resnet152\"],\"legendgroup\":\"resnet\",\"marker\":{\"color\":\"#FFA15A\",\"size\":[50176,50176,50176,65536,50176,65536,65536,50176,82944,82944,50176],\"sizemode\":\"area\",\"sizeref\":655.36,\"symbol\":\"circle\"},\"mode\":\"markers\",\"name\":\"resnet\",\"orientation\":\"v\",\"showlegend\":true,\"x\":[9.236979323021786e-05,0.00015969338869370808,0.00017561482751111642,0.0002638710409448694,0.00028338807446305045,0.00029286350217890445,0.00029674294938752255,0.00046063207933926936,0.000534896657965681,0.0005959830740806961,0.0006634335339114052],\"xaxis\":\"x\",\"y\":[69.748,75.112,75.3,77.864,80.374,79.014,79.208,81.93,82.358,82.518,82.818],\"yaxis\":\"y\",\"type\":\"scatter\"},{\"customdata\":[[224],[224],[240],[224],[224],[256],[260],[240],[288],[300],[320],[300],[300],[384]],\"hovertemplate\":\"<b>%{hovertext}</b><br><br>family=efficientnet<br>secs=%{x}<br>top1=%{y}<br>size=%{marker.size}<br>infer_img_size=%{customdata[0]}<extra></extra>\",\"hovertext\":[\"efficientnet_lite0\",\"efficientnet_b0\",\"efficientnet_b1_pruned\",\"efficientnet_es\",\"efficientnet_es_pruned\",\"efficientnet_b1\",\"efficientnet_b2_pruned\",\"efficientnet_em\",\"efficientnet_b2\",\"efficientnet_b3_pruned\",\"efficientnet_b3\",\"efficientnet_el\",\"efficientnet_el_pruned\",\"efficientnet_b4\"],\"legendgroup\":\"efficientnet\",\"marker\":{\"color\":\"#19d3f3\",\"size\":[50176,50176,57600,50176,50176,65536,67600,57600,82944,90000,102400,90000,90000,147456],\"sizemode\":\"area\",\"sizeref\":655.36,\"symbol\":\"circle\"},\"mode\":\"markers\",\"name\":\"efficientnet\",\"orientation\":\"v\",\"showlegend\":true,\"x\":[0.00011112172940969915,0.0001301779923689661,0.00016600486062231902,0.00017507769072525934,0.00017510804166170527,0.00024378530315921374,0.0002616848842960284,0.0002911538719097656,0.00032120258246876303,0.00032275451614256713,0.000539647933688062,0.0006642355645005945,0.0006644474123095528,0.0010264938051098862],\"xaxis\":\"x\",\"y\":[75.468,77.7,78.244,78.058,75.0,78.788,79.918,79.252,80.616,80.858,82.24,81.306,80.298,83.424],\"yaxis\":\"y\",\"type\":\"scatter\"},{\"customdata\":[[224],[224],[224],[224],[320],[320],[320]],\"hovertemplate\":\"<b>%{hovertext}</b><br><br>family=resnetd<br>secs=%{x}<br>top1=%{y}<br>size=%{marker.size}<br>infer_img_size=%{customdata[0]}<extra></extra>\",\"hovertext\":[\"resnet18d\",\"resnet34d\",\"resnet26d\",\"resnet50d\",\"resnet101d\",\"resnet152d\",\"resnet200d\"],\"legendgroup\":\"resnetd\",\"marker\":{\"color\":\"#FF6692\",\"size\":[50176,50176,50176,50176,102400,102400,102400],\"sizemode\":\"area\",\"sizeref\":655.36,\"symbol\":\"circle\"},\"mode\":\"markers\",\"name\":\"resnetd\",\"orientation\":\"v\",\"showlegend\":true,\"x\":[0.00011218547400045547,0.00017947263760167124,0.0002044542400742578,0.00031235065734195835,0.0010008807750820723,0.0014054023666975855,0.0019066503965832825],\"xaxis\":\"x\",\"y\":[72.258,77.116,76.702,80.528,83.022,83.678,83.96],\"yaxis\":\"y\",\"type\":\"scatter\"},{\"customdata\":[[256],[256],[256]],\"hovertemplate\":\"<b>%{hovertext}</b><br><br>family=mobilevit<br>secs=%{x}<br>top1=%{y}<br>size=%{marker.size}<br>infer_img_size=%{customdata[0]}<extra></extra>\",\"hovertext\":[\"mobilevit_xxs\",\"mobilevit_xs\",\"mobilevit_s\"],\"legendgroup\":\"mobilevit\",\"marker\":{\"color\":\"#B6E880\",\"size\":[65536,65536,65536],\"sizemode\":\"area\",\"sizeref\":655.36,\"symbol\":\"circle\"},\"mode\":\"markers\",\"name\":\"mobilevit\",\"orientation\":\"v\",\"showlegend\":true,\"x\":[0.00019510063290645313,0.00032276493352656195,0.0004140683875348853],\"xaxis\":\"x\",\"y\":[68.92,74.634,78.31],\"yaxis\":\"y\",\"type\":\"scatter\"},{\"customdata\":[[224],[224],[224],[224],[224],[224],[224],[224]],\"hovertemplate\":\"<b>%{hovertext}</b><br><br>family=repvgg<br>secs=%{x}<br>top1=%{y}<br>size=%{marker.size}<br>infer_img_size=%{customdata[0]}<extra></extra>\",\"hovertext\":[\"repvgg_b0\",\"repvgg_a2\",\"repvgg_b1\",\"repvgg_b1g4\",\"repvgg_b2\",\"repvgg_b3\",\"repvgg_b2g4\",\"repvgg_b3g4\"],\"legendgroup\":\"repvgg\",\"marker\":{\"color\":\"#FF97FF\",\"size\":[50176,50176,50176,50176,50176,50176,50176,50176],\"sizemode\":\"area\",\"sizeref\":655.36,\"symbol\":\"circle\"},\"mode\":\"markers\",\"name\":\"repvgg\",\"orientation\":\"v\",\"showlegend\":true,\"x\":[0.00019805588344807372,0.00025848743492578826,0.0005164995790528431,0.0006192755714365336,0.0008039813154742284,0.0009981932701809725,0.0012302090125112257,0.0015526503741887404],\"xaxis\":\"x\",\"y\":[75.154,76.46,78.368,77.588,78.794,80.496,79.366,80.216],\"yaxis\":\"y\",\"type\":\"scatter\"},{\"customdata\":[[240],[240],[240],[240],[240],[240],[240],[240],[240],[408],[408]],\"hovertemplate\":\"<b>%{hovertext}</b><br><br>family=crossvit<br>secs=%{x}<br>top1=%{y}<br>size=%{marker.size}<br>infer_img_size=%{customdata[0]}<extra></extra>\",\"hovertext\":[\"crossvit_tiny_240\",\"crossvit_9_240\",\"crossvit_9_dagger_240\",\"crossvit_small_240\",\"crossvit_15_240\",\"crossvit_15_dagger_240\",\"crossvit_18_240\",\"crossvit_18_dagger_240\",\"crossvit_base_240\",\"crossvit_15_dagger_408\",\"crossvit_18_dagger_408\"],\"legendgroup\":\"crossvit\",\"marker\":{\"color\":\"#FECB52\",\"size\":[57600,57600,57600,57600,57600,57600,57600,57600,57600,166464,166464],\"sizemode\":\"area\",\"sizeref\":655.36,\"symbol\":\"circle\"},\"mode\":\"markers\",\"name\":\"crossvit\",\"orientation\":\"v\",\"showlegend\":true,\"x\":[0.00025943432938820195,0.0002746551018558445,0.0002807190900209978,0.0005422640609070993,0.0005881107530170082,0.0006054331571522846,0.0008294969101240098,0.0008531185749507324,0.0013383297644539614,0.002823662289990117,0.0038593647485623862],\"xaxis\":\"x\",\"y\":[73.338,73.96,76.978,81.016,81.544,82.326,82.398,82.52,82.216,83.838,84.194],\"yaxis\":\"y\",\"type\":\"scatter\"},{\"customdata\":[[224],[224],[224],[384],[448],[448],[448],[480]],\"hovertemplate\":\"<b>%{hovertext}</b><br><br>family=resnetv2<br>secs=%{x}<br>top1=%{y}<br>size=%{marker.size}<br>infer_img_size=%{customdata[0]}<extra></extra>\",\"hovertext\":[\"resnetv2_50\",\"resnetv2_101\",\"resnetv2_152x2_bit_teacher\",\"resnetv2_152x2_bit_teacher_384\",\"resnetv2_50x3_bitm\",\"resnetv2_152x2_bitm\",\"resnetv2_101x3_bitm\",\"resnetv2_152x4_bitm\"],\"legendgroup\":\"resnetv2\",\"marker\":{\"color\":\"#636efa\",\"size\":[50176,50176,50176,147456,200704,200704,200704,230400],\"sizemode\":\"area\",\"sizeref\":655.36,\"symbol\":\"circle\"},\"mode\":\"markers\",\"name\":\"resnetv2\",\"orientation\":\"v\",\"showlegend\":true,\"x\":[0.00027003891260730673,0.0004473172150030194,0.0035710459593614975,0.010310341272296113,0.01076194575979337,0.014216661927779357,0.017295053614666205,0.05461496450027308],\"xaxis\":\"x\",\"y\":[80.412,82.046,82.868,83.844,84.012,84.51,84.444,84.918],\"yaxis\":\"y\",\"type\":\"scatter\"},{\"customdata\":[[224],[224],[224]],\"hovertemplate\":\"<b>%{hovertext}</b><br><br>family=convit<br>secs=%{x}<br>top1=%{y}<br>size=%{marker.size}<br>infer_img_size=%{customdata[0]}<extra></extra>\",\"hovertext\":[\"convit_tiny\",\"convit_small\",\"convit_base\"],\"legendgroup\":\"convit\",\"marker\":{\"color\":\"#EF553B\",\"size\":[50176,50176,50176],\"sizemode\":\"area\",\"sizeref\":655.36,\"symbol\":\"circle\"},\"mode\":\"markers\",\"name\":\"convit\",\"orientation\":\"v\",\"showlegend\":true,\"x\":[0.0003142578800163414,0.0007307163943530237,0.0014544608313698112],\"xaxis\":\"x\",\"y\":[73.114,81.428,82.292],\"yaxis\":\"y\",\"type\":\"scatter\"},{\"customdata\":[[224],[288],[320],[320],[352],[384],[416]],\"hovertemplate\":\"<b>%{hovertext}</b><br><br>family=resnetrs<br>secs=%{x}<br>top1=%{y}<br>size=%{marker.size}<br>infer_img_size=%{customdata[0]}<extra></extra>\",\"hovertext\":[\"resnetrs50\",\"resnetrs101\",\"resnetrs152\",\"resnetrs200\",\"resnetrs270\",\"resnetrs350\",\"resnetrs420\"],\"legendgroup\":\"resnetrs\",\"marker\":{\"color\":\"#00cc96\",\"size\":[50176,82944,102400,102400,123904,147456,173056],\"sizemode\":\"area\",\"sizeref\":655.36,\"symbol\":\"circle\"},\"mode\":\"markers\",\"name\":\"resnetrs\",\"orientation\":\"v\",\"showlegend\":true,\"x\":[0.000351576645466595,0.0009125586318920991,0.0015921792156925183,0.0021917327839389824,0.0034781398907864076,0.005297171310520182,0.007450454477723141],\"xaxis\":\"x\",\"y\":[79.886,82.284,83.714,84.44,84.436,84.712,85.008],\"yaxis\":\"y\",\"type\":\"scatter\"},{\"customdata\":[[288],[320],[320],[320],[320],[320],[320],[320],[320]],\"hovertemplate\":\"<b>%{hovertext}</b><br><br>family=regnetz<br>secs=%{x}<br>top1=%{y}<br>size=%{marker.size}<br>infer_img_size=%{customdata[0]}<extra></extra>\",\"hovertext\":[\"regnetz_b16\",\"regnetz_c16\",\"regnetz_d8\",\"regnetz_040\",\"regnetz_040h\",\"regnetz_d32\",\"regnetz_e8\",\"regnetz_c16_evos\",\"regnetz_d8_evos\"],\"legendgroup\":\"regnetz\",\"marker\":{\"color\":\"#ab63fa\",\"size\":[82944,102400,102400,102400,102400,102400,102400,102400,102400],\"sizemode\":\"area\",\"sizeref\":655.36,\"symbol\":\"circle\"},\"mode\":\"markers\",\"name\":\"regnetz\",\"orientation\":\"v\",\"showlegend\":true,\"x\":[0.00036824952587873543,0.0005641494319015222,0.0008748829844008363,0.000961917679085024,0.0009669590106075403,0.0009901872444079175,0.0016463344363774057,0.00167117884956048,0.002579646588417387],\"xaxis\":\"x\",\"y\":[80.712,82.52,84.052,84.236,84.496,84.024,85.03,82.632,84.05],\"yaxis\":\"y\",\"type\":\"scatter\"},{\"customdata\":[[224]],\"hovertemplate\":\"<b>%{hovertext}</b><br><br>family=resnetblur<br>secs=%{x}<br>top1=%{y}<br>size=%{marker.size}<br>infer_img_size=%{customdata[0]}<extra></extra>\",\"hovertext\":[\"resnetblur50\"],\"legendgroup\":\"resnetblur\",\"marker\":{\"color\":\"#FFA15A\",\"size\":[50176],\"sizemode\":\"area\",\"sizeref\":655.36,\"symbol\":\"circle\"},\"mode\":\"markers\",\"name\":\"resnetblur\",\"orientation\":\"v\",\"showlegend\":true,\"x\":[0.00038181346121538863],\"xaxis\":\"x\",\"y\":[79.294],\"yaxis\":\"y\",\"type\":\"scatter\"},{\"customdata\":[[224],[224],[224],[224],[224],[224],[224]],\"hovertemplate\":\"<b>%{hovertext}</b><br><br>family=vgg<br>secs=%{x}<br>top1=%{y}<br>size=%{marker.size}<br>infer_img_size=%{customdata[0]}<extra></extra>\",\"hovertext\":[\"vgg11_bn\",\"vgg13\",\"vgg13_bn\",\"vgg16\",\"vgg19\",\"vgg16_bn\",\"vgg19_bn\"],\"legendgroup\":\"vgg\",\"marker\":{\"color\":\"#19d3f3\",\"size\":[50176,50176,50176,50176,50176,50176,50176],\"sizemode\":\"area\",\"sizeref\":655.36,\"symbol\":\"circle\"},\"mode\":\"markers\",\"name\":\"vgg\",\"orientation\":\"v\",\"showlegend\":true,\"x\":[0.0003856239395341663,0.000495051955702751,0.000609002271578473,0.00061273383454961,0.0007314379338341244,0.0007335465508641178,0.0008591212907438273],\"xaxis\":\"x\",\"y\":[70.36,69.926,71.598,71.59,72.366,73.35,74.214],\"yaxis\":\"y\",\"type\":\"scatter\"},{\"customdata\":[[288],[384],[416]],\"hovertemplate\":\"<b>%{hovertext}</b><br><br>family=efficientnetv2<br>secs=%{x}<br>top1=%{y}<br>size=%{marker.size}<br>infer_img_size=%{customdata[0]}<extra></extra>\",\"hovertext\":[\"efficientnetv2_rw_t\",\"efficientnetv2_rw_s\",\"efficientnetv2_rw_m\"],\"legendgroup\":\"efficientnetv2\",\"marker\":{\"color\":\"#FF6692\",\"size\":[82944,147456,173056],\"sizemode\":\"area\",\"sizeref\":655.36,\"symbol\":\"circle\"},\"mode\":\"markers\",\"name\":\"efficientnetv2\",\"orientation\":\"v\",\"showlegend\":true,\"x\":[0.00039287790926091805,0.0009177342975661686,0.0025433643623785545],\"xaxis\":\"x\",\"y\":[82.344,83.81,84.812],\"yaxis\":\"y\",\"type\":\"scatter\"},{\"customdata\":[[224],[224],[224],[224],[224]],\"hovertemplate\":\"<b>%{hovertext}</b><br><br>family=convnext<br>secs=%{x}<br>top1=%{y}<br>size=%{marker.size}<br>infer_img_size=%{customdata[0]}<extra></extra>\",\"hovertext\":[\"convnext_tiny\",\"convnext_tiny_hnf\",\"convnext_small\",\"convnext_base\",\"convnext_large\"],\"legendgroup\":\"convnext\",\"marker\":{\"color\":\"#B6E880\",\"size\":[50176,50176,50176,50176,50176],\"sizemode\":\"area\",\"sizeref\":655.36,\"symbol\":\"circle\"},\"mode\":\"markers\",\"name\":\"convnext\",\"orientation\":\"v\",\"showlegend\":true,\"x\":[0.00043947351073414054,0.00048231356169272765,0.0007089131652263915,0.001017356094980365,0.001837424665588711],\"xaxis\":\"x\",\"y\":[82.062,82.22,83.15,83.84,84.296],\"yaxis\":\"y\",\"type\":\"scatter\"},{\"customdata\":[[224],[224],[224],[224],[224],[224],[224],[384],[384]],\"hovertemplate\":\"<b>%{hovertext}</b><br><br>family=swin<br>secs=%{x}<br>top1=%{y}<br>size=%{marker.size}<br>infer_img_size=%{customdata[0]}<extra></extra>\",\"hovertext\":[\"swin_tiny_patch4_window7_224\",\"swin_s3_tiny_224\",\"swin_small_patch4_window7_224\",\"swin_s3_small_224\",\"swin_base_patch4_window7_224\",\"swin_s3_base_224\",\"swin_large_patch4_window7_224\",\"swin_base_patch4_window12_384\",\"swin_large_patch4_window12_384\"],\"legendgroup\":\"swin\",\"marker\":{\"color\":\"#FF97FF\",\"size\":[50176,50176,50176,50176,50176,50176,50176,147456,147456],\"sizemode\":\"area\",\"sizeref\":655.36,\"symbol\":\"circle\"},\"mode\":\"markers\",\"name\":\"swin\",\"orientation\":\"v\",\"showlegend\":true,\"x\":[0.0005460184335823177,0.000599319173418996,0.0008899409969119047,0.0012179822905374956,0.001254390366281987,0.001502765087761481,0.002185123678000175,0.004700352526439483,0.007950389569088886],\"xaxis\":\"x\",\"y\":[81.376,82.124,83.218,83.774,85.25,83.932,86.32,86.432,87.152],\"yaxis\":\"y\",\"type\":\"scatter\"},{\"customdata\":[[224],[288]],\"hovertemplate\":\"<b>%{hovertext}</b><br><br>family=resnetv2d<br>secs=%{x}<br>top1=%{y}<br>size=%{marker.size}<br>infer_img_size=%{customdata[0]}<extra></extra>\",\"hovertext\":[\"resnetv2_50x1_bit_distilled\",\"resnetv2_50d_evos\"],\"legendgroup\":\"resnetv2d\",\"marker\":{\"color\":\"#FECB52\",\"size\":[50176,82944],\"sizemode\":\"area\",\"sizeref\":655.36,\"symbol\":\"circle\"},\"mode\":\"markers\",\"name\":\"resnetv2d\",\"orientation\":\"v\",\"showlegend\":true,\"x\":[0.0006401843730994526,0.0011976191331632715],\"xaxis\":\"x\",\"y\":[82.822,81.978],\"yaxis\":\"y\",\"type\":\"scatter\"},{\"customdata\":[[224],[224],[384],[384],[512]],\"hovertemplate\":\"<b>%{hovertext}</b><br><br>family=beit<br>secs=%{x}<br>top1=%{y}<br>size=%{marker.size}<br>infer_img_size=%{customdata[0]}<extra></extra>\",\"hovertext\":[\"beit_base_patch16_224\",\"beit_large_patch16_224\",\"beit_base_patch16_384\",\"beit_large_patch16_384\",\"beit_large_patch16_512\"],\"legendgroup\":\"beit\",\"marker\":{\"color\":\"#636efa\",\"size\":[50176,50176,147456,147456,262144],\"sizemode\":\"area\",\"sizeref\":655.36,\"symbol\":\"circle\"},\"mode\":\"markers\",\"name\":\"beit\",\"orientation\":\"v\",\"showlegend\":true,\"x\":[0.0010062791820962809,0.0030446034404018876,0.00418007774944614,0.0121580547112462,0.030184123151222455],\"xaxis\":\"x\",\"y\":[85.228,87.476,86.798,88.406,88.602],\"yaxis\":\"y\",\"type\":\"scatter\"},{\"customdata\":[[224],[224],[224],[384],[384],[384]],\"hovertemplate\":\"<b>%{hovertext}</b><br><br>family=convnext_in22<br>secs=%{x}<br>top1=%{y}<br>size=%{marker.size}<br>infer_img_size=%{customdata[0]}<extra></extra>\",\"hovertext\":[\"convnext_base_in22ft1k\",\"convnext_large_in22ft1k\",\"convnext_xlarge_in22ft1k\",\"convnext_base_384_in22ft1k\",\"convnext_large_384_in22ft1k\",\"convnext_xlarge_384_in22ft1k\"],\"legendgroup\":\"convnext_in22\",\"marker\":{\"color\":\"#EF553B\",\"size\":[50176,50176,50176,147456,147456,147456],\"sizemode\":\"area\",\"sizeref\":655.36,\"symbol\":\"circle\"},\"mode\":\"markers\",\"name\":\"convnext_in22\",\"orientation\":\"v\",\"showlegend\":true,\"x\":[0.001018091485700905,0.0018373571454819387,0.002782415136338342,0.0029778743932580925,0.0053671103477887505,0.008141333550435562],\"xaxis\":\"x\",\"y\":[85.824,86.636,87.002,86.542,87.396,87.544],\"yaxis\":\"y\",\"type\":\"scatter\"},{\"customdata\":[[288],[288]],\"hovertemplate\":\"<b>%{hovertext}</b><br><br>family=regnetv<br>secs=%{x}<br>top1=%{y}<br>size=%{marker.size}<br>infer_img_size=%{customdata[0]}<extra></extra>\",\"hovertext\":[\"regnetv_040\",\"regnetv_064\"],\"legendgroup\":\"regnetv\",\"marker\":{\"color\":\"#00cc96\",\"size\":[82944,82944],\"sizemode\":\"area\",\"sizeref\":655.36,\"symbol\":\"circle\"},\"mode\":\"markers\",\"name\":\"regnetv\",\"orientation\":\"v\",\"showlegend\":true,\"x\":[0.0011776343680813981,0.0021355201059217975],\"xaxis\":\"x\",\"y\":[83.198,83.712],\"yaxis\":\"y\",\"type\":\"scatter\"}],                        {\"template\":{\"data\":{\"bar\":[{\"error_x\":{\"color\":\"#2a3f5f\"},\"error_y\":{\"color\":\"#2a3f5f\"},\"marker\":{\"line\":{\"color\":\"#E5ECF6\",\"width\":0.5},\"pattern\":{\"fillmode\":\"overlay\",\"size\":10,\"solidity\":0.2}},\"type\":\"bar\"}],\"barpolar\":[{\"marker\":{\"line\":{\"color\":\"#E5ECF6\",\"width\":0.5},\"pattern\":{\"fillmode\":\"overlay\",\"size\":10,\"solidity\":0.2}},\"type\":\"barpolar\"}],\"carpet\":[{\"aaxis\":{\"endlinecolor\":\"#2a3f5f\",\"gridcolor\":\"white\",\"linecolor\":\"white\",\"minorgridcolor\":\"white\",\"startlinecolor\":\"#2a3f5f\"},\"baxis\":{\"endlinecolor\":\"#2a3f5f\",\"gridcolor\":\"white\",\"linecolor\":\"white\",\"minorgridcolor\":\"white\",\"startlinecolor\":\"#2a3f5f\"},\"type\":\"carpet\"}],\"choropleth\":[{\"colorbar\":{\"outlinewidth\":0,\"ticks\":\"\"},\"type\":\"choropleth\"}],\"contour\":[{\"colorbar\":{\"outlinewidth\":0,\"ticks\":\"\"},\"colorscale\":[[0.0,\"#0d0887\"],[0.1111111111111111,\"#46039f\"],[0.2222222222222222,\"#7201a8\"],[0.3333333333333333,\"#9c179e\"],[0.4444444444444444,\"#bd3786\"],[0.5555555555555556,\"#d8576b\"],[0.6666666666666666,\"#ed7953\"],[0.7777777777777778,\"#fb9f3a\"],[0.8888888888888888,\"#fdca26\"],[1.0,\"#f0f921\"]],\"type\":\"contour\"}],\"contourcarpet\":[{\"colorbar\":{\"outlinewidth\":0,\"ticks\":\"\"},\"type\":\"contourcarpet\"}],\"heatmap\":[{\"colorbar\":{\"outlinewidth\":0,\"ticks\":\"\"},\"colorscale\":[[0.0,\"#0d0887\"],[0.1111111111111111,\"#46039f\"],[0.2222222222222222,\"#7201a8\"],[0.3333333333333333,\"#9c179e\"],[0.4444444444444444,\"#bd3786\"],[0.5555555555555556,\"#d8576b\"],[0.6666666666666666,\"#ed7953\"],[0.7777777777777778,\"#fb9f3a\"],[0.8888888888888888,\"#fdca26\"],[1.0,\"#f0f921\"]],\"type\":\"heatmap\"}],\"heatmapgl\":[{\"colorbar\":{\"outlinewidth\":0,\"ticks\":\"\"},\"colorscale\":[[0.0,\"#0d0887\"],[0.1111111111111111,\"#46039f\"],[0.2222222222222222,\"#7201a8\"],[0.3333333333333333,\"#9c179e\"],[0.4444444444444444,\"#bd3786\"],[0.5555555555555556,\"#d8576b\"],[0.6666666666666666,\"#ed7953\"],[0.7777777777777778,\"#fb9f3a\"],[0.8888888888888888,\"#fdca26\"],[1.0,\"#f0f921\"]],\"type\":\"heatmapgl\"}],\"histogram\":[{\"marker\":{\"pattern\":{\"fillmode\":\"overlay\",\"size\":10,\"solidity\":0.2}},\"type\":\"histogram\"}],\"histogram2d\":[{\"colorbar\":{\"outlinewidth\":0,\"ticks\":\"\"},\"colorscale\":[[0.0,\"#0d0887\"],[0.1111111111111111,\"#46039f\"],[0.2222222222222222,\"#7201a8\"],[0.3333333333333333,\"#9c179e\"],[0.4444444444444444,\"#bd3786\"],[0.5555555555555556,\"#d8576b\"],[0.6666666666666666,\"#ed7953\"],[0.7777777777777778,\"#fb9f3a\"],[0.8888888888888888,\"#fdca26\"],[1.0,\"#f0f921\"]],\"type\":\"histogram2d\"}],\"histogram2dcontour\":[{\"colorbar\":{\"outlinewidth\":0,\"ticks\":\"\"},\"colorscale\":[[0.0,\"#0d0887\"],[0.1111111111111111,\"#46039f\"],[0.2222222222222222,\"#7201a8\"],[0.3333333333333333,\"#9c179e\"],[0.4444444444444444,\"#bd3786\"],[0.5555555555555556,\"#d8576b\"],[0.6666666666666666,\"#ed7953\"],[0.7777777777777778,\"#fb9f3a\"],[0.8888888888888888,\"#fdca26\"],[1.0,\"#f0f921\"]],\"type\":\"histogram2dcontour\"}],\"mesh3d\":[{\"colorbar\":{\"outlinewidth\":0,\"ticks\":\"\"},\"type\":\"mesh3d\"}],\"parcoords\":[{\"line\":{\"colorbar\":{\"outlinewidth\":0,\"ticks\":\"\"}},\"type\":\"parcoords\"}],\"pie\":[{\"automargin\":true,\"type\":\"pie\"}],\"scatter\":[{\"marker\":{\"colorbar\":{\"outlinewidth\":0,\"ticks\":\"\"}},\"type\":\"scatter\"}],\"scatter3d\":[{\"line\":{\"colorbar\":{\"outlinewidth\":0,\"ticks\":\"\"}},\"marker\":{\"colorbar\":{\"outlinewidth\":0,\"ticks\":\"\"}},\"type\":\"scatter3d\"}],\"scattercarpet\":[{\"marker\":{\"colorbar\":{\"outlinewidth\":0,\"ticks\":\"\"}},\"type\":\"scattercarpet\"}],\"scattergeo\":[{\"marker\":{\"colorbar\":{\"outlinewidth\":0,\"ticks\":\"\"}},\"type\":\"scattergeo\"}],\"scattergl\":[{\"marker\":{\"colorbar\":{\"outlinewidth\":0,\"ticks\":\"\"}},\"type\":\"scattergl\"}],\"scattermapbox\":[{\"marker\":{\"colorbar\":{\"outlinewidth\":0,\"ticks\":\"\"}},\"type\":\"scattermapbox\"}],\"scatterpolar\":[{\"marker\":{\"colorbar\":{\"outlinewidth\":0,\"ticks\":\"\"}},\"type\":\"scatterpolar\"}],\"scatterpolargl\":[{\"marker\":{\"colorbar\":{\"outlinewidth\":0,\"ticks\":\"\"}},\"type\":\"scatterpolargl\"}],\"scatterternary\":[{\"marker\":{\"colorbar\":{\"outlinewidth\":0,\"ticks\":\"\"}},\"type\":\"scatterternary\"}],\"surface\":[{\"colorbar\":{\"outlinewidth\":0,\"ticks\":\"\"},\"colorscale\":[[0.0,\"#0d0887\"],[0.1111111111111111,\"#46039f\"],[0.2222222222222222,\"#7201a8\"],[0.3333333333333333,\"#9c179e\"],[0.4444444444444444,\"#bd3786\"],[0.5555555555555556,\"#d8576b\"],[0.6666666666666666,\"#ed7953\"],[0.7777777777777778,\"#fb9f3a\"],[0.8888888888888888,\"#fdca26\"],[1.0,\"#f0f921\"]],\"type\":\"surface\"}],\"table\":[{\"cells\":{\"fill\":{\"color\":\"#EBF0F8\"},\"line\":{\"color\":\"white\"}},\"header\":{\"fill\":{\"color\":\"#C8D4E3\"},\"line\":{\"color\":\"white\"}},\"type\":\"table\"}]},\"layout\":{\"annotationdefaults\":{\"arrowcolor\":\"#2a3f5f\",\"arrowhead\":0,\"arrowwidth\":1},\"autotypenumbers\":\"strict\",\"coloraxis\":{\"colorbar\":{\"outlinewidth\":0,\"ticks\":\"\"}},\"colorscale\":{\"diverging\":[[0,\"#8e0152\"],[0.1,\"#c51b7d\"],[0.2,\"#de77ae\"],[0.3,\"#f1b6da\"],[0.4,\"#fde0ef\"],[0.5,\"#f7f7f7\"],[0.6,\"#e6f5d0\"],[0.7,\"#b8e186\"],[0.8,\"#7fbc41\"],[0.9,\"#4d9221\"],[1,\"#276419\"]],\"sequential\":[[0.0,\"#0d0887\"],[0.1111111111111111,\"#46039f\"],[0.2222222222222222,\"#7201a8\"],[0.3333333333333333,\"#9c179e\"],[0.4444444444444444,\"#bd3786\"],[0.5555555555555556,\"#d8576b\"],[0.6666666666666666,\"#ed7953\"],[0.7777777777777778,\"#fb9f3a\"],[0.8888888888888888,\"#fdca26\"],[1.0,\"#f0f921\"]],\"sequentialminus\":[[0.0,\"#0d0887\"],[0.1111111111111111,\"#46039f\"],[0.2222222222222222,\"#7201a8\"],[0.3333333333333333,\"#9c179e\"],[0.4444444444444444,\"#bd3786\"],[0.5555555555555556,\"#d8576b\"],[0.6666666666666666,\"#ed7953\"],[0.7777777777777778,\"#fb9f3a\"],[0.8888888888888888,\"#fdca26\"],[1.0,\"#f0f921\"]]},\"colorway\":[\"#636efa\",\"#EF553B\",\"#00cc96\",\"#ab63fa\",\"#FFA15A\",\"#19d3f3\",\"#FF6692\",\"#B6E880\",\"#FF97FF\",\"#FECB52\"],\"font\":{\"color\":\"#2a3f5f\"},\"geo\":{\"bgcolor\":\"white\",\"lakecolor\":\"white\",\"landcolor\":\"#E5ECF6\",\"showlakes\":true,\"showland\":true,\"subunitcolor\":\"white\"},\"hoverlabel\":{\"align\":\"left\"},\"hovermode\":\"closest\",\"mapbox\":{\"style\":\"light\"},\"paper_bgcolor\":\"white\",\"plot_bgcolor\":\"#E5ECF6\",\"polar\":{\"angularaxis\":{\"gridcolor\":\"white\",\"linecolor\":\"white\",\"ticks\":\"\"},\"bgcolor\":\"#E5ECF6\",\"radialaxis\":{\"gridcolor\":\"white\",\"linecolor\":\"white\",\"ticks\":\"\"}},\"scene\":{\"xaxis\":{\"backgroundcolor\":\"#E5ECF6\",\"gridcolor\":\"white\",\"gridwidth\":2,\"linecolor\":\"white\",\"showbackground\":true,\"ticks\":\"\",\"zerolinecolor\":\"white\"},\"yaxis\":{\"backgroundcolor\":\"#E5ECF6\",\"gridcolor\":\"white\",\"gridwidth\":2,\"linecolor\":\"white\",\"showbackground\":true,\"ticks\":\"\",\"zerolinecolor\":\"white\"},\"zaxis\":{\"backgroundcolor\":\"#E5ECF6\",\"gridcolor\":\"white\",\"gridwidth\":2,\"linecolor\":\"white\",\"showbackground\":true,\"ticks\":\"\",\"zerolinecolor\":\"white\"}},\"shapedefaults\":{\"line\":{\"color\":\"#2a3f5f\"}},\"ternary\":{\"aaxis\":{\"gridcolor\":\"white\",\"linecolor\":\"white\",\"ticks\":\"\"},\"baxis\":{\"gridcolor\":\"white\",\"linecolor\":\"white\",\"ticks\":\"\"},\"bgcolor\":\"#E5ECF6\",\"caxis\":{\"gridcolor\":\"white\",\"linecolor\":\"white\",\"ticks\":\"\"}},\"title\":{\"x\":0.05},\"xaxis\":{\"automargin\":true,\"gridcolor\":\"white\",\"linecolor\":\"white\",\"ticks\":\"\",\"title\":{\"standoff\":15},\"zerolinecolor\":\"white\",\"zerolinewidth\":2},\"yaxis\":{\"automargin\":true,\"gridcolor\":\"white\",\"linecolor\":\"white\",\"ticks\":\"\",\"title\":{\"standoff\":15},\"zerolinecolor\":\"white\",\"zerolinewidth\":2}}},\"xaxis\":{\"anchor\":\"y\",\"domain\":[0.0,1.0],\"title\":{\"text\":\"secs\"},\"type\":\"log\"},\"yaxis\":{\"anchor\":\"x\",\"domain\":[0.0,1.0],\"title\":{\"text\":\"top1\"}},\"legend\":{\"title\":{\"text\":\"family\"},\"tracegroupgap\":0,\"itemsizing\":\"constant\"},\"title\":{\"text\":\"Inference\"},\"height\":800,\"width\":1000},                        {\"responsive\": true}                    ).then(function(){\n",
              "                            \n",
              "var gd = document.getElementById('835b70bb-9d72-444c-b408-286958692c7d');\n",
              "var x = new MutationObserver(function (mutations, observer) {{\n",
              "        var display = window.getComputedStyle(gd).display;\n",
              "        if (!display || display === 'none') {{\n",
              "            console.log([gd, 'removed!']);\n",
              "            Plotly.purge(gd);\n",
              "            observer.disconnect();\n",
              "        }}\n",
              "}});\n",
              "\n",
              "// Listen for the removal of the full notebook cells\n",
              "var notebookContainer = gd.closest('#notebook-container');\n",
              "if (notebookContainer) {{\n",
              "    x.observe(notebookContainer, {childList: true});\n",
              "}}\n",
              "\n",
              "// Listen for the clearing of the current output cell\n",
              "var outputEl = gd.closest('.output');\n",
              "if (outputEl) {{\n",
              "    x.observe(outputEl, {childList: true});\n",
              "}}\n",
              "\n",
              "                        })                };                            </script>        </div>\n",
              "</body>\n",
              "</html>"
            ]
          },
          "metadata": {},
          "output_type": "display_data"
        }
      ],
      "source": [
        "show_all(df, 'Inference', 'infer_img_size')"
      ]
    },
    {
      "cell_type": "markdown",
      "metadata": {
        "id": "tym8J2yumArI"
      },
      "source": [
        "## resnet18\n",
        "\n",
        "O modelo que será utilizado como parâmetro."
      ]
    },
    {
      "cell_type": "code",
      "execution_count": 11,
      "metadata": {
        "colab": {
          "base_uri": "https://localhost:8080/",
          "height": 1000,
          "referenced_widgets": [
            "a9e7d0269a62485a98bfa5be7bb60084",
            "fccd16bf2ae74d2598249708e6577518",
            "719fb631f57044afb6227dd83f9ef24b",
            "8c5fbafa4a194d7080bac9af5d5ebda1",
            "eee9ca3e0b554c9cb58b4c6376b85014",
            "6ce5a60918c046aca305a7839ff21394",
            "78fee984c68a4bc688b68c55b449c55b",
            "ae2d7d8d48ed4bd7a4d74a1a3969300b",
            "b9237b8828054738970ad7080cc25510",
            "a2fb289188f1416a89194cd57492344a",
            "4cc32f50fe0d4c74b3395818ab8d9320"
          ]
        },
        "id": "bj58kUeFXmqM",
        "outputId": "822b3262-49d2-4f37-dbfc-7890d599f501"
      },
      "outputs": [
        {
          "name": "stderr",
          "output_type": "stream",
          "text": [
            "/usr/local/lib/python3.8/dist-packages/torchvision/models/_utils.py:208: UserWarning:\n",
            "\n",
            "The parameter 'pretrained' is deprecated since 0.13 and will be removed in 0.15, please use 'weights' instead.\n",
            "\n",
            "/usr/local/lib/python3.8/dist-packages/torchvision/models/_utils.py:223: UserWarning:\n",
            "\n",
            "Arguments other than a weight enum or `None` for 'weights' are deprecated since 0.13 and will be removed in 0.15. The current behavior is equivalent to passing `weights=ResNet18_Weights.IMAGENET1K_V1`. You can also use `weights=ResNet18_Weights.DEFAULT` to get the most up-to-date weights.\n",
            "\n",
            "Downloading: \"https://download.pytorch.org/models/resnet18-f37072fd.pth\" to /root/.cache/torch/hub/checkpoints/resnet18-f37072fd.pth\n"
          ]
        },
        {
          "data": {
            "application/vnd.jupyter.widget-view+json": {
              "model_id": "a9e7d0269a62485a98bfa5be7bb60084",
              "version_major": 2,
              "version_minor": 0
            },
            "text/plain": [
              "  0%|          | 0.00/44.7M [00:00<?, ?B/s]"
            ]
          },
          "metadata": {},
          "output_type": "display_data"
        },
        {
          "data": {
            "text/html": [
              "\n",
              "<style>\n",
              "    /* Turns off some styling */\n",
              "    progress {\n",
              "        /* gets rid of default border in Firefox and Opera. */\n",
              "        border: none;\n",
              "        /* Needs to be in here for Safari polyfill so background images work as expected. */\n",
              "        background-size: auto;\n",
              "    }\n",
              "    progress:not([value]), progress:not([value])::-webkit-progress-bar {\n",
              "        background: repeating-linear-gradient(45deg, #7e7e7e, #7e7e7e 10px, #5c5c5c 10px, #5c5c5c 20px);\n",
              "    }\n",
              "    .progress-bar-interrupted, .progress-bar-interrupted::-webkit-progress-bar {\n",
              "        background: #F44336;\n",
              "    }\n",
              "</style>\n"
            ],
            "text/plain": [
              "<IPython.core.display.HTML object>"
            ]
          },
          "metadata": {},
          "output_type": "display_data"
        },
        {
          "data": {
            "text/html": [
              "<table border=\"1\" class=\"dataframe\">\n",
              "  <thead>\n",
              "    <tr style=\"text-align: left;\">\n",
              "      <th>epoch</th>\n",
              "      <th>train_loss</th>\n",
              "      <th>valid_loss</th>\n",
              "      <th>error_rate</th>\n",
              "      <th>time</th>\n",
              "    </tr>\n",
              "  </thead>\n",
              "  <tbody>\n",
              "    <tr>\n",
              "      <td>0</td>\n",
              "      <td>1.731925</td>\n",
              "      <td>0.444464</td>\n",
              "      <td>0.145833</td>\n",
              "      <td>00:35</td>\n",
              "    </tr>\n",
              "  </tbody>\n",
              "</table>"
            ],
            "text/plain": [
              "<IPython.core.display.HTML object>"
            ]
          },
          "metadata": {},
          "output_type": "display_data"
        },
        {
          "name": "stderr",
          "output_type": "stream",
          "text": [
            "/usr/local/lib/python3.8/dist-packages/PIL/Image.py:959: UserWarning:\n",
            "\n",
            "Palette images with Transparency expressed in bytes should be converted to RGBA images\n",
            "\n",
            "/usr/local/lib/python3.8/dist-packages/PIL/Image.py:959: UserWarning:\n",
            "\n",
            "Palette images with Transparency expressed in bytes should be converted to RGBA images\n",
            "\n"
          ]
        },
        {
          "data": {
            "text/html": [
              "\n",
              "<style>\n",
              "    /* Turns off some styling */\n",
              "    progress {\n",
              "        /* gets rid of default border in Firefox and Opera. */\n",
              "        border: none;\n",
              "        /* Needs to be in here for Safari polyfill so background images work as expected. */\n",
              "        background-size: auto;\n",
              "    }\n",
              "    progress:not([value]), progress:not([value])::-webkit-progress-bar {\n",
              "        background: repeating-linear-gradient(45deg, #7e7e7e, #7e7e7e 10px, #5c5c5c 10px, #5c5c5c 20px);\n",
              "    }\n",
              "    .progress-bar-interrupted, .progress-bar-interrupted::-webkit-progress-bar {\n",
              "        background: #F44336;\n",
              "    }\n",
              "</style>\n"
            ],
            "text/plain": [
              "<IPython.core.display.HTML object>"
            ]
          },
          "metadata": {},
          "output_type": "display_data"
        },
        {
          "data": {
            "text/html": [
              "<table border=\"1\" class=\"dataframe\">\n",
              "  <thead>\n",
              "    <tr style=\"text-align: left;\">\n",
              "      <th>epoch</th>\n",
              "      <th>train_loss</th>\n",
              "      <th>valid_loss</th>\n",
              "      <th>error_rate</th>\n",
              "      <th>time</th>\n",
              "    </tr>\n",
              "  </thead>\n",
              "  <tbody>\n",
              "    <tr>\n",
              "      <td>0</td>\n",
              "      <td>0.439057</td>\n",
              "      <td>0.315973</td>\n",
              "      <td>0.093750</td>\n",
              "      <td>00:35</td>\n",
              "    </tr>\n",
              "    <tr>\n",
              "      <td>1</td>\n",
              "      <td>0.269438</td>\n",
              "      <td>0.324423</td>\n",
              "      <td>0.093750</td>\n",
              "      <td>00:34</td>\n",
              "    </tr>\n",
              "    <tr>\n",
              "      <td>2</td>\n",
              "      <td>0.179515</td>\n",
              "      <td>0.304962</td>\n",
              "      <td>0.093750</td>\n",
              "      <td>00:32</td>\n",
              "    </tr>\n",
              "  </tbody>\n",
              "</table>"
            ],
            "text/plain": [
              "<IPython.core.display.HTML object>"
            ]
          },
          "metadata": {},
          "output_type": "display_data"
        },
        {
          "name": "stderr",
          "output_type": "stream",
          "text": [
            "/usr/local/lib/python3.8/dist-packages/PIL/Image.py:959: UserWarning:\n",
            "\n",
            "Palette images with Transparency expressed in bytes should be converted to RGBA images\n",
            "\n",
            "/usr/local/lib/python3.8/dist-packages/PIL/Image.py:959: UserWarning:\n",
            "\n",
            "Palette images with Transparency expressed in bytes should be converted to RGBA images\n",
            "\n",
            "/usr/local/lib/python3.8/dist-packages/PIL/Image.py:959: UserWarning:\n",
            "\n",
            "Palette images with Transparency expressed in bytes should be converted to RGBA images\n",
            "\n",
            "/usr/local/lib/python3.8/dist-packages/PIL/Image.py:959: UserWarning:\n",
            "\n",
            "Palette images with Transparency expressed in bytes should be converted to RGBA images\n",
            "\n",
            "/usr/local/lib/python3.8/dist-packages/PIL/Image.py:959: UserWarning:\n",
            "\n",
            "Palette images with Transparency expressed in bytes should be converted to RGBA images\n",
            "\n",
            "/usr/local/lib/python3.8/dist-packages/PIL/Image.py:959: UserWarning:\n",
            "\n",
            "Palette images with Transparency expressed in bytes should be converted to RGBA images\n",
            "\n"
          ]
        },
        {
          "data": {
            "text/html": [
              "\n",
              "<style>\n",
              "    /* Turns off some styling */\n",
              "    progress {\n",
              "        /* gets rid of default border in Firefox and Opera. */\n",
              "        border: none;\n",
              "        /* Needs to be in here for Safari polyfill so background images work as expected. */\n",
              "        background-size: auto;\n",
              "    }\n",
              "    progress:not([value]), progress:not([value])::-webkit-progress-bar {\n",
              "        background: repeating-linear-gradient(45deg, #7e7e7e, #7e7e7e 10px, #5c5c5c 10px, #5c5c5c 20px);\n",
              "    }\n",
              "    .progress-bar-interrupted, .progress-bar-interrupted::-webkit-progress-bar {\n",
              "        background: #F44336;\n",
              "    }\n",
              "</style>\n"
            ],
            "text/plain": [
              "<IPython.core.display.HTML object>"
            ]
          },
          "metadata": {},
          "output_type": "display_data"
        },
        {
          "data": {
            "text/html": [],
            "text/plain": [
              "<IPython.core.display.HTML object>"
            ]
          },
          "metadata": {},
          "output_type": "display_data"
        },
        {
          "data": {
            "text/html": [
              "\n",
              "<style>\n",
              "    /* Turns off some styling */\n",
              "    progress {\n",
              "        /* gets rid of default border in Firefox and Opera. */\n",
              "        border: none;\n",
              "        /* Needs to be in here for Safari polyfill so background images work as expected. */\n",
              "        background-size: auto;\n",
              "    }\n",
              "    progress:not([value]), progress:not([value])::-webkit-progress-bar {\n",
              "        background: repeating-linear-gradient(45deg, #7e7e7e, #7e7e7e 10px, #5c5c5c 10px, #5c5c5c 20px);\n",
              "    }\n",
              "    .progress-bar-interrupted, .progress-bar-interrupted::-webkit-progress-bar {\n",
              "        background: #F44336;\n",
              "    }\n",
              "</style>\n"
            ],
            "text/plain": [
              "<IPython.core.display.HTML object>"
            ]
          },
          "metadata": {},
          "output_type": "display_data"
        },
        {
          "data": {
            "text/html": [],
            "text/plain": [
              "<IPython.core.display.HTML object>"
            ]
          },
          "metadata": {},
          "output_type": "display_data"
        },
        {
          "data": {
            "image/png": "[encoded data removed]",
            "text/plain": [
              "<Figure size 432x288 with 1 Axes>"
            ]
          },
          "metadata": {
            "needs_background": "light"
          },
          "output_type": "display_data"
        }
      ],
      "source": [
        "learn = vision_learner(dls, resnet18, metrics=error_rate)\n",
        "learn.fine_tune(3)\n",
        "interp = ClassificationInterpretation.from_learner(learn)\n",
        "interp.plot_confusion_matrix()"
      ]
    },
    {
      "cell_type": "markdown",
      "metadata": {
        "id": "kMP_iXB6mPx5"
      },
      "source": [
        "## levit_128s\n",
        "\n",
        "O modelo com o menor tempo de processamento por imagem. Tendo como base o `resnet18`, esse modelo não trouxe nenhuma vantagem, pois seu tempo médio foi o mesmo e o seu desempenho foi pior, visto que com o `resnet18` conseguimos chegar em um `error_rate` menor."
      ]
    },
    {
      "cell_type": "code",
      "execution_count": 12,
      "metadata": {
        "colab": {
          "base_uri": "https://localhost:8080/",
          "height": 1000
        },
        "id": "c7pbP2pJ1Epn",
        "outputId": "98a470ef-7e47-41b3-99f5-e2c1b4825001"
      },
      "outputs": [
        {
          "name": "stderr",
          "output_type": "stream",
          "text": [
            "/usr/local/lib/python3.8/dist-packages/torch/functional.py:478: UserWarning:\n",
            "\n",
            "torch.meshgrid: in an upcoming release, it will be required to pass the indexing argument. (Triggered internally at  ../aten/src/ATen/native/TensorShape.cpp:2894.)\n",
            "\n",
            "Downloading: \"https://dl.fbaipublicfiles.com/LeViT/LeViT-128S-96703c44.pth\" to /root/.cache/torch/hub/checkpoints/LeViT-128S-96703c44.pth\n"
          ]
        },
        {
          "data": {
            "text/html": [
              "\n",
              "<style>\n",
              "    /* Turns off some styling */\n",
              "    progress {\n",
              "        /* gets rid of default border in Firefox and Opera. */\n",
              "        border: none;\n",
              "        /* Needs to be in here for Safari polyfill so background images work as expected. */\n",
              "        background-size: auto;\n",
              "    }\n",
              "    progress:not([value]), progress:not([value])::-webkit-progress-bar {\n",
              "        background: repeating-linear-gradient(45deg, #7e7e7e, #7e7e7e 10px, #5c5c5c 10px, #5c5c5c 20px);\n",
              "    }\n",
              "    .progress-bar-interrupted, .progress-bar-interrupted::-webkit-progress-bar {\n",
              "        background: #F44336;\n",
              "    }\n",
              "</style>\n"
            ],
            "text/plain": [
              "<IPython.core.display.HTML object>"
            ]
          },
          "metadata": {},
          "output_type": "display_data"
        },
        {
          "data": {
            "text/html": [
              "<table border=\"1\" class=\"dataframe\">\n",
              "  <thead>\n",
              "    <tr style=\"text-align: left;\">\n",
              "      <th>epoch</th>\n",
              "      <th>train_loss</th>\n",
              "      <th>valid_loss</th>\n",
              "      <th>error_rate</th>\n",
              "      <th>time</th>\n",
              "    </tr>\n",
              "  </thead>\n",
              "  <tbody>\n",
              "    <tr>\n",
              "      <td>0</td>\n",
              "      <td>2.691088</td>\n",
              "      <td>1.258822</td>\n",
              "      <td>0.510417</td>\n",
              "      <td>00:32</td>\n",
              "    </tr>\n",
              "  </tbody>\n",
              "</table>"
            ],
            "text/plain": [
              "<IPython.core.display.HTML object>"
            ]
          },
          "metadata": {},
          "output_type": "display_data"
        },
        {
          "name": "stderr",
          "output_type": "stream",
          "text": [
            "/usr/local/lib/python3.8/dist-packages/PIL/Image.py:959: UserWarning:\n",
            "\n",
            "Palette images with Transparency expressed in bytes should be converted to RGBA images\n",
            "\n",
            "/usr/local/lib/python3.8/dist-packages/PIL/Image.py:959: UserWarning:\n",
            "\n",
            "Palette images with Transparency expressed in bytes should be converted to RGBA images\n",
            "\n"
          ]
        },
        {
          "data": {
            "text/html": [
              "\n",
              "<style>\n",
              "    /* Turns off some styling */\n",
              "    progress {\n",
              "        /* gets rid of default border in Firefox and Opera. */\n",
              "        border: none;\n",
              "        /* Needs to be in here for Safari polyfill so background images work as expected. */\n",
              "        background-size: auto;\n",
              "    }\n",
              "    progress:not([value]), progress:not([value])::-webkit-progress-bar {\n",
              "        background: repeating-linear-gradient(45deg, #7e7e7e, #7e7e7e 10px, #5c5c5c 10px, #5c5c5c 20px);\n",
              "    }\n",
              "    .progress-bar-interrupted, .progress-bar-interrupted::-webkit-progress-bar {\n",
              "        background: #F44336;\n",
              "    }\n",
              "</style>\n"
            ],
            "text/plain": [
              "<IPython.core.display.HTML object>"
            ]
          },
          "metadata": {},
          "output_type": "display_data"
        },
        {
          "data": {
            "text/html": [
              "<table border=\"1\" class=\"dataframe\">\n",
              "  <thead>\n",
              "    <tr style=\"text-align: left;\">\n",
              "      <th>epoch</th>\n",
              "      <th>train_loss</th>\n",
              "      <th>valid_loss</th>\n",
              "      <th>error_rate</th>\n",
              "      <th>time</th>\n",
              "    </tr>\n",
              "  </thead>\n",
              "  <tbody>\n",
              "    <tr>\n",
              "      <td>0</td>\n",
              "      <td>1.787008</td>\n",
              "      <td>0.954907</td>\n",
              "      <td>0.427083</td>\n",
              "      <td>00:32</td>\n",
              "    </tr>\n",
              "    <tr>\n",
              "      <td>1</td>\n",
              "      <td>1.572568</td>\n",
              "      <td>0.724835</td>\n",
              "      <td>0.302083</td>\n",
              "      <td>00:32</td>\n",
              "    </tr>\n",
              "    <tr>\n",
              "      <td>2</td>\n",
              "      <td>1.307775</td>\n",
              "      <td>0.831906</td>\n",
              "      <td>0.281250</td>\n",
              "      <td>00:34</td>\n",
              "    </tr>\n",
              "  </tbody>\n",
              "</table>"
            ],
            "text/plain": [
              "<IPython.core.display.HTML object>"
            ]
          },
          "metadata": {},
          "output_type": "display_data"
        },
        {
          "name": "stderr",
          "output_type": "stream",
          "text": [
            "/usr/local/lib/python3.8/dist-packages/PIL/Image.py:959: UserWarning:\n",
            "\n",
            "Palette images with Transparency expressed in bytes should be converted to RGBA images\n",
            "\n",
            "/usr/local/lib/python3.8/dist-packages/PIL/Image.py:959: UserWarning:\n",
            "\n",
            "Palette images with Transparency expressed in bytes should be converted to RGBA images\n",
            "\n",
            "/usr/local/lib/python3.8/dist-packages/PIL/Image.py:959: UserWarning:\n",
            "\n",
            "Palette images with Transparency expressed in bytes should be converted to RGBA images\n",
            "\n",
            "/usr/local/lib/python3.8/dist-packages/PIL/Image.py:959: UserWarning:\n",
            "\n",
            "Palette images with Transparency expressed in bytes should be converted to RGBA images\n",
            "\n",
            "/usr/local/lib/python3.8/dist-packages/PIL/Image.py:959: UserWarning:\n",
            "\n",
            "Palette images with Transparency expressed in bytes should be converted to RGBA images\n",
            "\n",
            "/usr/local/lib/python3.8/dist-packages/PIL/Image.py:959: UserWarning:\n",
            "\n",
            "Palette images with Transparency expressed in bytes should be converted to RGBA images\n",
            "\n"
          ]
        },
        {
          "data": {
            "text/html": [
              "\n",
              "<style>\n",
              "    /* Turns off some styling */\n",
              "    progress {\n",
              "        /* gets rid of default border in Firefox and Opera. */\n",
              "        border: none;\n",
              "        /* Needs to be in here for Safari polyfill so background images work as expected. */\n",
              "        background-size: auto;\n",
              "    }\n",
              "    progress:not([value]), progress:not([value])::-webkit-progress-bar {\n",
              "        background: repeating-linear-gradient(45deg, #7e7e7e, #7e7e7e 10px, #5c5c5c 10px, #5c5c5c 20px);\n",
              "    }\n",
              "    .progress-bar-interrupted, .progress-bar-interrupted::-webkit-progress-bar {\n",
              "        background: #F44336;\n",
              "    }\n",
              "</style>\n"
            ],
            "text/plain": [
              "<IPython.core.display.HTML object>"
            ]
          },
          "metadata": {},
          "output_type": "display_data"
        },
        {
          "data": {
            "text/html": [],
            "text/plain": [
              "<IPython.core.display.HTML object>"
            ]
          },
          "metadata": {},
          "output_type": "display_data"
        },
        {
          "data": {
            "text/html": [
              "\n",
              "<style>\n",
              "    /* Turns off some styling */\n",
              "    progress {\n",
              "        /* gets rid of default border in Firefox and Opera. */\n",
              "        border: none;\n",
              "        /* Needs to be in here for Safari polyfill so background images work as expected. */\n",
              "        background-size: auto;\n",
              "    }\n",
              "    progress:not([value]), progress:not([value])::-webkit-progress-bar {\n",
              "        background: repeating-linear-gradient(45deg, #7e7e7e, #7e7e7e 10px, #5c5c5c 10px, #5c5c5c 20px);\n",
              "    }\n",
              "    .progress-bar-interrupted, .progress-bar-interrupted::-webkit-progress-bar {\n",
              "        background: #F44336;\n",
              "    }\n",
              "</style>\n"
            ],
            "text/plain": [
              "<IPython.core.display.HTML object>"
            ]
          },
          "metadata": {},
          "output_type": "display_data"
        },
        {
          "data": {
            "text/html": [],
            "text/plain": [
              "<IPython.core.display.HTML object>"
            ]
          },
          "metadata": {},
          "output_type": "display_data"
        },
        {
          "data": {
            "image/png": "[encoded data removed]",
            "text/plain": [
              "<Figure size 432x288 with 1 Axes>"
            ]
          },
          "metadata": {
            "needs_background": "light"
          },
          "output_type": "display_data"
        }
      ],
      "source": [
        "learn = vision_learner(dls, 'levit_128s', metrics=error_rate).to_fp16()\n",
        "learn.fine_tune(3)\n",
        "interp = ClassificationInterpretation.from_learner(learn)\n",
        "interp.plot_confusion_matrix()"
      ]
    },
    {
      "cell_type": "markdown",
      "metadata": {
        "id": "ei93ytmSnCci"
      },
      "source": [
        "## regnetx_002\n",
        "\n",
        "O modelo com menor precisão e o segundo com menor tempo de processamento por imagem. Apesar de ter se saido melhor que o `levit_128s`, também ficou se saiu mal ao tentar chegar em um nivel menor de `error_rate`."
      ]
    },
    {
      "cell_type": "code",
      "execution_count": 13,
      "metadata": {
        "colab": {
          "base_uri": "https://localhost:8080/",
          "height": 1000
        },
        "id": "z45j2HdoMF4w",
        "outputId": "266c93af-0d2d-4eb6-a79b-48a0954e1bce"
      },
      "outputs": [
        {
          "name": "stderr",
          "output_type": "stream",
          "text": [
            "Downloading: \"https://github.com/rwightman/pytorch-image-models/releases/download/v0.1-regnet/regnetx_002-e7e85e5c.pth\" to /root/.cache/torch/hub/checkpoints/regnetx_002-e7e85e5c.pth\n"
          ]
        },
        {
          "data": {
            "text/html": [
              "\n",
              "<style>\n",
              "    /* Turns off some styling */\n",
              "    progress {\n",
              "        /* gets rid of default border in Firefox and Opera. */\n",
              "        border: none;\n",
              "        /* Needs to be in here for Safari polyfill so background images work as expected. */\n",
              "        background-size: auto;\n",
              "    }\n",
              "    progress:not([value]), progress:not([value])::-webkit-progress-bar {\n",
              "        background: repeating-linear-gradient(45deg, #7e7e7e, #7e7e7e 10px, #5c5c5c 10px, #5c5c5c 20px);\n",
              "    }\n",
              "    .progress-bar-interrupted, .progress-bar-interrupted::-webkit-progress-bar {\n",
              "        background: #F44336;\n",
              "    }\n",
              "</style>\n"
            ],
            "text/plain": [
              "<IPython.core.display.HTML object>"
            ]
          },
          "metadata": {},
          "output_type": "display_data"
        },
        {
          "data": {
            "text/html": [
              "<table border=\"1\" class=\"dataframe\">\n",
              "  <thead>\n",
              "    <tr style=\"text-align: left;\">\n",
              "      <th>epoch</th>\n",
              "      <th>train_loss</th>\n",
              "      <th>valid_loss</th>\n",
              "      <th>error_rate</th>\n",
              "      <th>time</th>\n",
              "    </tr>\n",
              "  </thead>\n",
              "  <tbody>\n",
              "    <tr>\n",
              "      <td>0</td>\n",
              "      <td>2.236850</td>\n",
              "      <td>0.575777</td>\n",
              "      <td>0.177083</td>\n",
              "      <td>00:32</td>\n",
              "    </tr>\n",
              "  </tbody>\n",
              "</table>"
            ],
            "text/plain": [
              "<IPython.core.display.HTML object>"
            ]
          },
          "metadata": {},
          "output_type": "display_data"
        },
        {
          "name": "stderr",
          "output_type": "stream",
          "text": [
            "/usr/local/lib/python3.8/dist-packages/PIL/Image.py:959: UserWarning:\n",
            "\n",
            "Palette images with Transparency expressed in bytes should be converted to RGBA images\n",
            "\n",
            "/usr/local/lib/python3.8/dist-packages/PIL/Image.py:959: UserWarning:\n",
            "\n",
            "Palette images with Transparency expressed in bytes should be converted to RGBA images\n",
            "\n"
          ]
        },
        {
          "data": {
            "text/html": [
              "\n",
              "<style>\n",
              "    /* Turns off some styling */\n",
              "    progress {\n",
              "        /* gets rid of default border in Firefox and Opera. */\n",
              "        border: none;\n",
              "        /* Needs to be in here for Safari polyfill so background images work as expected. */\n",
              "        background-size: auto;\n",
              "    }\n",
              "    progress:not([value]), progress:not([value])::-webkit-progress-bar {\n",
              "        background: repeating-linear-gradient(45deg, #7e7e7e, #7e7e7e 10px, #5c5c5c 10px, #5c5c5c 20px);\n",
              "    }\n",
              "    .progress-bar-interrupted, .progress-bar-interrupted::-webkit-progress-bar {\n",
              "        background: #F44336;\n",
              "    }\n",
              "</style>\n"
            ],
            "text/plain": [
              "<IPython.core.display.HTML object>"
            ]
          },
          "metadata": {},
          "output_type": "display_data"
        },
        {
          "data": {
            "text/html": [
              "<table border=\"1\" class=\"dataframe\">\n",
              "  <thead>\n",
              "    <tr style=\"text-align: left;\">\n",
              "      <th>epoch</th>\n",
              "      <th>train_loss</th>\n",
              "      <th>valid_loss</th>\n",
              "      <th>error_rate</th>\n",
              "      <th>time</th>\n",
              "    </tr>\n",
              "  </thead>\n",
              "  <tbody>\n",
              "    <tr>\n",
              "      <td>0</td>\n",
              "      <td>0.595715</td>\n",
              "      <td>0.515589</td>\n",
              "      <td>0.166667</td>\n",
              "      <td>00:32</td>\n",
              "    </tr>\n",
              "    <tr>\n",
              "      <td>1</td>\n",
              "      <td>0.450178</td>\n",
              "      <td>0.470486</td>\n",
              "      <td>0.156250</td>\n",
              "      <td>00:32</td>\n",
              "    </tr>\n",
              "    <tr>\n",
              "      <td>2</td>\n",
              "      <td>0.371829</td>\n",
              "      <td>0.434634</td>\n",
              "      <td>0.145833</td>\n",
              "      <td>00:32</td>\n",
              "    </tr>\n",
              "  </tbody>\n",
              "</table>"
            ],
            "text/plain": [
              "<IPython.core.display.HTML object>"
            ]
          },
          "metadata": {},
          "output_type": "display_data"
        },
        {
          "name": "stderr",
          "output_type": "stream",
          "text": [
            "/usr/local/lib/python3.8/dist-packages/PIL/Image.py:959: UserWarning:\n",
            "\n",
            "Palette images with Transparency expressed in bytes should be converted to RGBA images\n",
            "\n",
            "/usr/local/lib/python3.8/dist-packages/PIL/Image.py:959: UserWarning:\n",
            "\n",
            "Palette images with Transparency expressed in bytes should be converted to RGBA images\n",
            "\n",
            "/usr/local/lib/python3.8/dist-packages/PIL/Image.py:959: UserWarning:\n",
            "\n",
            "Palette images with Transparency expressed in bytes should be converted to RGBA images\n",
            "\n",
            "/usr/local/lib/python3.8/dist-packages/PIL/Image.py:959: UserWarning:\n",
            "\n",
            "Palette images with Transparency expressed in bytes should be converted to RGBA images\n",
            "\n",
            "/usr/local/lib/python3.8/dist-packages/PIL/Image.py:959: UserWarning:\n",
            "\n",
            "Palette images with Transparency expressed in bytes should be converted to RGBA images\n",
            "\n",
            "/usr/local/lib/python3.8/dist-packages/PIL/Image.py:959: UserWarning:\n",
            "\n",
            "Palette images with Transparency expressed in bytes should be converted to RGBA images\n",
            "\n"
          ]
        },
        {
          "data": {
            "text/html": [
              "\n",
              "<style>\n",
              "    /* Turns off some styling */\n",
              "    progress {\n",
              "        /* gets rid of default border in Firefox and Opera. */\n",
              "        border: none;\n",
              "        /* Needs to be in here for Safari polyfill so background images work as expected. */\n",
              "        background-size: auto;\n",
              "    }\n",
              "    progress:not([value]), progress:not([value])::-webkit-progress-bar {\n",
              "        background: repeating-linear-gradient(45deg, #7e7e7e, #7e7e7e 10px, #5c5c5c 10px, #5c5c5c 20px);\n",
              "    }\n",
              "    .progress-bar-interrupted, .progress-bar-interrupted::-webkit-progress-bar {\n",
              "        background: #F44336;\n",
              "    }\n",
              "</style>\n"
            ],
            "text/plain": [
              "<IPython.core.display.HTML object>"
            ]
          },
          "metadata": {},
          "output_type": "display_data"
        },
        {
          "data": {
            "text/html": [],
            "text/plain": [
              "<IPython.core.display.HTML object>"
            ]
          },
          "metadata": {},
          "output_type": "display_data"
        },
        {
          "data": {
            "text/html": [
              "\n",
              "<style>\n",
              "    /* Turns off some styling */\n",
              "    progress {\n",
              "        /* gets rid of default border in Firefox and Opera. */\n",
              "        border: none;\n",
              "        /* Needs to be in here for Safari polyfill so background images work as expected. */\n",
              "        background-size: auto;\n",
              "    }\n",
              "    progress:not([value]), progress:not([value])::-webkit-progress-bar {\n",
              "        background: repeating-linear-gradient(45deg, #7e7e7e, #7e7e7e 10px, #5c5c5c 10px, #5c5c5c 20px);\n",
              "    }\n",
              "    .progress-bar-interrupted, .progress-bar-interrupted::-webkit-progress-bar {\n",
              "        background: #F44336;\n",
              "    }\n",
              "</style>\n"
            ],
            "text/plain": [
              "<IPython.core.display.HTML object>"
            ]
          },
          "metadata": {},
          "output_type": "display_data"
        },
        {
          "data": {
            "text/html": [],
            "text/plain": [
              "<IPython.core.display.HTML object>"
            ]
          },
          "metadata": {},
          "output_type": "display_data"
        },
        {
          "data": {
            "image/png": "[encoded data removed]",
            "text/plain": [
              "<Figure size 432x288 with 1 Axes>"
            ]
          },
          "metadata": {
            "needs_background": "light"
          },
          "output_type": "display_data"
        }
      ],
      "source": [
        "learn = vision_learner(dls, 'regnetx_002', metrics=error_rate).to_fp16()\n",
        "learn.fine_tune(3)\n",
        "interp = ClassificationInterpretation.from_learner(learn)\n",
        "interp.plot_confusion_matrix()"
      ]
    },
    {
      "cell_type": "markdown",
      "metadata": {
        "id": "jbM-I1v8n142"
      },
      "source": [
        "## swin_s3_base_224\n",
        "\n",
        "O modelo com maior precisão e tempo de processamento. Apesar de demorar mais para processar uma imagem, o `swin_s3_base_224` teve um tempo médio praticamente igual ao `resnet18`, porém se saiu muito melhor ao conseguir 4% no `error_rate`. Esse foi o melhor modelo dentre os testados nesse artigo."
      ]
    },
    {
      "cell_type": "code",
      "execution_count": 14,
      "metadata": {
        "colab": {
          "base_uri": "https://localhost:8080/",
          "height": 1000
        },
        "id": "B7yZhp2XMNzi",
        "outputId": "8d14fdd9-696c-4de2-a3c4-54cdb9ca0e36"
      },
      "outputs": [
        {
          "name": "stderr",
          "output_type": "stream",
          "text": [
            "Downloading: \"https://github.com/rwightman/pytorch-image-models/releases/download/v0.1-weights/s3_b-a1e95db4.pth\" to /root/.cache/torch/hub/checkpoints/s3_b-a1e95db4.pth\n"
          ]
        },
        {
          "data": {
            "text/html": [
              "\n",
              "<style>\n",
              "    /* Turns off some styling */\n",
              "    progress {\n",
              "        /* gets rid of default border in Firefox and Opera. */\n",
              "        border: none;\n",
              "        /* Needs to be in here for Safari polyfill so background images work as expected. */\n",
              "        background-size: auto;\n",
              "    }\n",
              "    progress:not([value]), progress:not([value])::-webkit-progress-bar {\n",
              "        background: repeating-linear-gradient(45deg, #7e7e7e, #7e7e7e 10px, #5c5c5c 10px, #5c5c5c 20px);\n",
              "    }\n",
              "    .progress-bar-interrupted, .progress-bar-interrupted::-webkit-progress-bar {\n",
              "        background: #F44336;\n",
              "    }\n",
              "</style>\n"
            ],
            "text/plain": [
              "<IPython.core.display.HTML object>"
            ]
          },
          "metadata": {},
          "output_type": "display_data"
        },
        {
          "data": {
            "text/html": [
              "<table border=\"1\" class=\"dataframe\">\n",
              "  <thead>\n",
              "    <tr style=\"text-align: left;\">\n",
              "      <th>epoch</th>\n",
              "      <th>train_loss</th>\n",
              "      <th>valid_loss</th>\n",
              "      <th>error_rate</th>\n",
              "      <th>time</th>\n",
              "    </tr>\n",
              "  </thead>\n",
              "  <tbody>\n",
              "    <tr>\n",
              "      <td>0</td>\n",
              "      <td>1.165240</td>\n",
              "      <td>0.224549</td>\n",
              "      <td>0.041667</td>\n",
              "      <td>00:35</td>\n",
              "    </tr>\n",
              "  </tbody>\n",
              "</table>"
            ],
            "text/plain": [
              "<IPython.core.display.HTML object>"
            ]
          },
          "metadata": {},
          "output_type": "display_data"
        },
        {
          "name": "stderr",
          "output_type": "stream",
          "text": [
            "/usr/local/lib/python3.8/dist-packages/PIL/Image.py:959: UserWarning:\n",
            "\n",
            "Palette images with Transparency expressed in bytes should be converted to RGBA images\n",
            "\n",
            "/usr/local/lib/python3.8/dist-packages/PIL/Image.py:959: UserWarning:\n",
            "\n",
            "Palette images with Transparency expressed in bytes should be converted to RGBA images\n",
            "\n"
          ]
        },
        {
          "data": {
            "text/html": [
              "\n",
              "<style>\n",
              "    /* Turns off some styling */\n",
              "    progress {\n",
              "        /* gets rid of default border in Firefox and Opera. */\n",
              "        border: none;\n",
              "        /* Needs to be in here for Safari polyfill so background images work as expected. */\n",
              "        background-size: auto;\n",
              "    }\n",
              "    progress:not([value]), progress:not([value])::-webkit-progress-bar {\n",
              "        background: repeating-linear-gradient(45deg, #7e7e7e, #7e7e7e 10px, #5c5c5c 10px, #5c5c5c 20px);\n",
              "    }\n",
              "    .progress-bar-interrupted, .progress-bar-interrupted::-webkit-progress-bar {\n",
              "        background: #F44336;\n",
              "    }\n",
              "</style>\n"
            ],
            "text/plain": [
              "<IPython.core.display.HTML object>"
            ]
          },
          "metadata": {},
          "output_type": "display_data"
        },
        {
          "data": {
            "text/html": [
              "<table border=\"1\" class=\"dataframe\">\n",
              "  <thead>\n",
              "    <tr style=\"text-align: left;\">\n",
              "      <th>epoch</th>\n",
              "      <th>train_loss</th>\n",
              "      <th>valid_loss</th>\n",
              "      <th>error_rate</th>\n",
              "      <th>time</th>\n",
              "    </tr>\n",
              "  </thead>\n",
              "  <tbody>\n",
              "    <tr>\n",
              "      <td>0</td>\n",
              "      <td>0.281444</td>\n",
              "      <td>0.162254</td>\n",
              "      <td>0.031250</td>\n",
              "      <td>00:35</td>\n",
              "    </tr>\n",
              "    <tr>\n",
              "      <td>1</td>\n",
              "      <td>0.221895</td>\n",
              "      <td>0.158361</td>\n",
              "      <td>0.041667</td>\n",
              "      <td>00:38</td>\n",
              "    </tr>\n",
              "    <tr>\n",
              "      <td>2</td>\n",
              "      <td>0.168205</td>\n",
              "      <td>0.146433</td>\n",
              "      <td>0.041667</td>\n",
              "      <td>00:36</td>\n",
              "    </tr>\n",
              "  </tbody>\n",
              "</table>"
            ],
            "text/plain": [
              "<IPython.core.display.HTML object>"
            ]
          },
          "metadata": {},
          "output_type": "display_data"
        },
        {
          "name": "stderr",
          "output_type": "stream",
          "text": [
            "/usr/local/lib/python3.8/dist-packages/PIL/Image.py:959: UserWarning:\n",
            "\n",
            "Palette images with Transparency expressed in bytes should be converted to RGBA images\n",
            "\n",
            "/usr/local/lib/python3.8/dist-packages/PIL/Image.py:959: UserWarning:\n",
            "\n",
            "Palette images with Transparency expressed in bytes should be converted to RGBA images\n",
            "\n",
            "/usr/local/lib/python3.8/dist-packages/PIL/Image.py:959: UserWarning:\n",
            "\n",
            "Palette images with Transparency expressed in bytes should be converted to RGBA images\n",
            "\n",
            "/usr/local/lib/python3.8/dist-packages/PIL/Image.py:959: UserWarning:\n",
            "\n",
            "Palette images with Transparency expressed in bytes should be converted to RGBA images\n",
            "\n",
            "/usr/local/lib/python3.8/dist-packages/PIL/Image.py:959: UserWarning:\n",
            "\n",
            "Palette images with Transparency expressed in bytes should be converted to RGBA images\n",
            "\n",
            "/usr/local/lib/python3.8/dist-packages/PIL/Image.py:959: UserWarning:\n",
            "\n",
            "Palette images with Transparency expressed in bytes should be converted to RGBA images\n",
            "\n"
          ]
        },
        {
          "data": {
            "text/html": [
              "\n",
              "<style>\n",
              "    /* Turns off some styling */\n",
              "    progress {\n",
              "        /* gets rid of default border in Firefox and Opera. */\n",
              "        border: none;\n",
              "        /* Needs to be in here for Safari polyfill so background images work as expected. */\n",
              "        background-size: auto;\n",
              "    }\n",
              "    progress:not([value]), progress:not([value])::-webkit-progress-bar {\n",
              "        background: repeating-linear-gradient(45deg, #7e7e7e, #7e7e7e 10px, #5c5c5c 10px, #5c5c5c 20px);\n",
              "    }\n",
              "    .progress-bar-interrupted, .progress-bar-interrupted::-webkit-progress-bar {\n",
              "        background: #F44336;\n",
              "    }\n",
              "</style>\n"
            ],
            "text/plain": [
              "<IPython.core.display.HTML object>"
            ]
          },
          "metadata": {},
          "output_type": "display_data"
        },
        {
          "data": {
            "text/html": [],
            "text/plain": [
              "<IPython.core.display.HTML object>"
            ]
          },
          "metadata": {},
          "output_type": "display_data"
        },
        {
          "data": {
            "text/html": [
              "\n",
              "<style>\n",
              "    /* Turns off some styling */\n",
              "    progress {\n",
              "        /* gets rid of default border in Firefox and Opera. */\n",
              "        border: none;\n",
              "        /* Needs to be in here for Safari polyfill so background images work as expected. */\n",
              "        background-size: auto;\n",
              "    }\n",
              "    progress:not([value]), progress:not([value])::-webkit-progress-bar {\n",
              "        background: repeating-linear-gradient(45deg, #7e7e7e, #7e7e7e 10px, #5c5c5c 10px, #5c5c5c 20px);\n",
              "    }\n",
              "    .progress-bar-interrupted, .progress-bar-interrupted::-webkit-progress-bar {\n",
              "        background: #F44336;\n",
              "    }\n",
              "</style>\n"
            ],
            "text/plain": [
              "<IPython.core.display.HTML object>"
            ]
          },
          "metadata": {},
          "output_type": "display_data"
        },
        {
          "data": {
            "text/html": [],
            "text/plain": [
              "<IPython.core.display.HTML object>"
            ]
          },
          "metadata": {},
          "output_type": "display_data"
        },
        {
          "data": {
            "image/png": "[encoded data removed]",
            "text/plain": [
              "<Figure size 432x288 with 1 Axes>"
            ]
          },
          "metadata": {
            "needs_background": "light"
          },
          "output_type": "display_data"
        }
      ],
      "source": [
        "learn_swin = vision_learner(dls, 'swin_s3_base_224', metrics=error_rate).to_fp16()\n",
        "learn_swin.fine_tune(3)\n",
        "interp = ClassificationInterpretation.from_learner(learn)\n",
        "interp.plot_confusion_matrix()"
      ]
    },
    {
      "cell_type": "markdown",
      "metadata": {
        "id": "xn_0_VPUpYy3"
      },
      "source": [
        "## convnext_base\n",
        "\n",
        "O segundo modelo com maior precisão. O seu desempenho correu junto ao esperado, pois dentro dos modelos analizados foi o que alcançou um desempenho semelhante ao `swin_s3_base_224`."
      ]
    },
    {
      "cell_type": "code",
      "execution_count": 15,
      "metadata": {
        "colab": {
          "base_uri": "https://localhost:8080/",
          "height": 711
        },
        "id": "q-PJ_jNjM5Ec",
        "outputId": "e0adbaf8-0185-4805-e0dc-bd08398eddd6"
      },
      "outputs": [
        {
          "name": "stderr",
          "output_type": "stream",
          "text": [
            "Downloading: \"https://dl.fbaipublicfiles.com/convnext/convnext_base_1k_224_ema.pth\" to /root/.cache/torch/hub/checkpoints/convnext_base_1k_224_ema.pth\n"
          ]
        },
        {
          "data": {
            "text/html": [
              "\n",
              "<style>\n",
              "    /* Turns off some styling */\n",
              "    progress {\n",
              "        /* gets rid of default border in Firefox and Opera. */\n",
              "        border: none;\n",
              "        /* Needs to be in here for Safari polyfill so background images work as expected. */\n",
              "        background-size: auto;\n",
              "    }\n",
              "    progress:not([value]), progress:not([value])::-webkit-progress-bar {\n",
              "        background: repeating-linear-gradient(45deg, #7e7e7e, #7e7e7e 10px, #5c5c5c 10px, #5c5c5c 20px);\n",
              "    }\n",
              "    .progress-bar-interrupted, .progress-bar-interrupted::-webkit-progress-bar {\n",
              "        background: #F44336;\n",
              "    }\n",
              "</style>\n"
            ],
            "text/plain": [
              "<IPython.core.display.HTML object>"
            ]
          },
          "metadata": {},
          "output_type": "display_data"
        },
        {
          "data": {
            "text/html": [
              "<table border=\"1\" class=\"dataframe\">\n",
              "  <thead>\n",
              "    <tr style=\"text-align: left;\">\n",
              "      <th>epoch</th>\n",
              "      <th>train_loss</th>\n",
              "      <th>valid_loss</th>\n",
              "      <th>error_rate</th>\n",
              "      <th>time</th>\n",
              "    </tr>\n",
              "  </thead>\n",
              "  <tbody>\n",
              "    <tr>\n",
              "      <td>0</td>\n",
              "      <td>1.210022</td>\n",
              "      <td>0.267617</td>\n",
              "      <td>0.031250</td>\n",
              "      <td>00:35</td>\n",
              "    </tr>\n",
              "  </tbody>\n",
              "</table>"
            ],
            "text/plain": [
              "<IPython.core.display.HTML object>"
            ]
          },
          "metadata": {},
          "output_type": "display_data"
        },
        {
          "name": "stderr",
          "output_type": "stream",
          "text": [
            "/usr/local/lib/python3.8/dist-packages/PIL/Image.py:959: UserWarning:\n",
            "\n",
            "Palette images with Transparency expressed in bytes should be converted to RGBA images\n",
            "\n",
            "/usr/local/lib/python3.8/dist-packages/PIL/Image.py:959: UserWarning:\n",
            "\n",
            "Palette images with Transparency expressed in bytes should be converted to RGBA images\n",
            "\n"
          ]
        },
        {
          "data": {
            "text/html": [
              "\n",
              "<style>\n",
              "    /* Turns off some styling */\n",
              "    progress {\n",
              "        /* gets rid of default border in Firefox and Opera. */\n",
              "        border: none;\n",
              "        /* Needs to be in here for Safari polyfill so background images work as expected. */\n",
              "        background-size: auto;\n",
              "    }\n",
              "    progress:not([value]), progress:not([value])::-webkit-progress-bar {\n",
              "        background: repeating-linear-gradient(45deg, #7e7e7e, #7e7e7e 10px, #5c5c5c 10px, #5c5c5c 20px);\n",
              "    }\n",
              "    .progress-bar-interrupted, .progress-bar-interrupted::-webkit-progress-bar {\n",
              "        background: #F44336;\n",
              "    }\n",
              "</style>\n"
            ],
            "text/plain": [
              "<IPython.core.display.HTML object>"
            ]
          },
          "metadata": {},
          "output_type": "display_data"
        },
        {
          "data": {
            "text/html": [
              "<table border=\"1\" class=\"dataframe\">\n",
              "  <thead>\n",
              "    <tr style=\"text-align: left;\">\n",
              "      <th>epoch</th>\n",
              "      <th>train_loss</th>\n",
              "      <th>valid_loss</th>\n",
              "      <th>error_rate</th>\n",
              "      <th>time</th>\n",
              "    </tr>\n",
              "  </thead>\n",
              "  <tbody>\n",
              "    <tr>\n",
              "      <td>0</td>\n",
              "      <td>0.235584</td>\n",
              "      <td>0.178642</td>\n",
              "      <td>0.041667</td>\n",
              "      <td>00:38</td>\n",
              "    </tr>\n",
              "    <tr>\n",
              "      <td>1</td>\n",
              "      <td>0.174860</td>\n",
              "      <td>0.129516</td>\n",
              "      <td>0.041667</td>\n",
              "      <td>00:35</td>\n",
              "    </tr>\n",
              "    <tr>\n",
              "      <td>2</td>\n",
              "      <td>0.132253</td>\n",
              "      <td>0.133928</td>\n",
              "      <td>0.041667</td>\n",
              "      <td>00:36</td>\n",
              "    </tr>\n",
              "  </tbody>\n",
              "</table>"
            ],
            "text/plain": [
              "<IPython.core.display.HTML object>"
            ]
          },
          "metadata": {},
          "output_type": "display_data"
        },
        {
          "name": "stderr",
          "output_type": "stream",
          "text": [
            "/usr/local/lib/python3.8/dist-packages/PIL/Image.py:959: UserWarning:\n",
            "\n",
            "Palette images with Transparency expressed in bytes should be converted to RGBA images\n",
            "\n",
            "/usr/local/lib/python3.8/dist-packages/PIL/Image.py:959: UserWarning:\n",
            "\n",
            "Palette images with Transparency expressed in bytes should be converted to RGBA images\n",
            "\n",
            "/usr/local/lib/python3.8/dist-packages/PIL/Image.py:959: UserWarning:\n",
            "\n",
            "Palette images with Transparency expressed in bytes should be converted to RGBA images\n",
            "\n",
            "/usr/local/lib/python3.8/dist-packages/PIL/Image.py:959: UserWarning:\n",
            "\n",
            "Palette images with Transparency expressed in bytes should be converted to RGBA images\n",
            "\n",
            "/usr/local/lib/python3.8/dist-packages/PIL/Image.py:959: UserWarning:\n",
            "\n",
            "Palette images with Transparency expressed in bytes should be converted to RGBA images\n",
            "\n"
          ]
        }
      ],
      "source": [
        "learn = vision_learner(dls, 'convnext_base', metrics=error_rate).to_fp16()\n",
        "learn.fine_tune(3)"
      ]
    },
    {
      "cell_type": "markdown",
      "metadata": {
        "id": "nemF-JWKsCkB"
      },
      "source": [
        "# Resultado\n",
        "\n",
        "Dentro dos resultados apresentados pelo conjunto de modelos testados nesse artigo, o `swin_s3_base_224` foi o que obteve o melhor resultado em relação ao `error_rate` e por isso será utilizado no deploy. A surpresa do experimento foi todos os modelos demorarem praticamente a mesma quantidade de tempo para executar tudo."
      ]
    },
    {
      "cell_type": "markdown",
      "metadata": {
        "id": "dkk-AF75uJGw"
      },
      "source": [
        "# Deploy\n",
        "\n",
        "O modelo pode ser executado no link:\n",
        "\n"
      ]
    }
  ],
  "metadata": {
    "accelerator": "GPU",
    "colab": {
      "provenance": []
    },
    "gpuClass": "standard",
    "kernelspec": {
      "display_name": "Python 3",
      "name": "python3"
    },
    "language_info": {
      "name": "python"
    },
    "widgets": {
      "application/vnd.jupyter.widget-state+json": {
        "4cc32f50fe0d4c74b3395818ab8d9320": {
          "model_module": "@jupyter-widgets/controls",
          "model_module_version": "1.5.0",
          "model_name": "DescriptionStyleModel",
          "state": {
            "_model_module": "@jupyter-widgets/controls",
            "_model_module_version": "1.5.0",
            "_model_name": "DescriptionStyleModel",
            "_view_count": null,
            "_view_module": "@jupyter-widgets/base",
            "_view_module_version": "1.2.0",
            "_view_name": "StyleView",
            "description_width": ""
          }
        },
        "6ce5a60918c046aca305a7839ff21394": {
          "model_module": "@jupyter-widgets/base",
          "model_module_version": "1.2.0",
          "model_name": "LayoutModel",
          "state": {
            "_model_module": "@jupyter-widgets/base",
            "_model_module_version": "1.2.0",
            "_model_name": "LayoutModel",
            "_view_count": null,
            "_view_module": "@jupyter-widgets/base",
            "_view_module_version": "1.2.0",
            "_view_name": "LayoutView",
            "align_content": null,
            "align_items": null,
            "align_self": null,
            "border": null,
            "bottom": null,
            "display": null,
            "flex": null,
            "flex_flow": null,
            "grid_area": null,
            "grid_auto_columns": null,
            "grid_auto_flow": null,
            "grid_auto_rows": null,
            "grid_column": null,
            "grid_gap": null,
            "grid_row": null,
            "grid_template_areas": null,
            "grid_template_columns": null,
            "grid_template_rows": null,
            "height": null,
            "justify_content": null,
            "justify_items": null,
            "left": null,
            "margin": null,
            "max_height": null,
            "max_width": null,
            "min_height": null,
            "min_width": null,
            "object_fit": null,
            "object_position": null,
            "order": null,
            "overflow": null,
            "overflow_x": null,
            "overflow_y": null,
            "padding": null,
            "right": null,
            "top": null,
            "visibility": null,
            "width": null
          }
        },
        "719fb631f57044afb6227dd83f9ef24b": {
          "model_module": "@jupyter-widgets/controls",
          "model_module_version": "1.5.0",
          "model_name": "FloatProgressModel",
          "state": {
            "_dom_classes": [],
            "_model_module": "@jupyter-widgets/controls",
            "_model_module_version": "1.5.0",
            "_model_name": "FloatProgressModel",
            "_view_count": null,
            "_view_module": "@jupyter-widgets/controls",
            "_view_module_version": "1.5.0",
            "_view_name": "ProgressView",
            "bar_style": "success",
            "description": "",
            "description_tooltip": null,
            "layout": "IPY_MODEL_ae2d7d8d48ed4bd7a4d74a1a3969300b",
            "max": 46830571,
            "min": 0,
            "orientation": "horizontal",
            "style": "IPY_MODEL_b9237b8828054738970ad7080cc25510",
            "value": 46830571
          }
        },
        "78fee984c68a4bc688b68c55b449c55b": {
          "model_module": "@jupyter-widgets/controls",
          "model_module_version": "1.5.0",
          "model_name": "DescriptionStyleModel",
          "state": {
            "_model_module": "@jupyter-widgets/controls",
            "_model_module_version": "1.5.0",
            "_model_name": "DescriptionStyleModel",
            "_view_count": null,
            "_view_module": "@jupyter-widgets/base",
            "_view_module_version": "1.2.0",
            "_view_name": "StyleView",
            "description_width": ""
          }
        },
        "8c5fbafa4a194d7080bac9af5d5ebda1": {
          "model_module": "@jupyter-widgets/controls",
          "model_module_version": "1.5.0",
          "model_name": "HTMLModel",
          "state": {
            "_dom_classes": [],
            "_model_module": "@jupyter-widgets/controls",
            "_model_module_version": "1.5.0",
            "_model_name": "HTMLModel",
            "_view_count": null,
            "_view_module": "@jupyter-widgets/controls",
            "_view_module_version": "1.5.0",
            "_view_name": "HTMLView",
            "description": "",
            "description_tooltip": null,
            "layout": "IPY_MODEL_a2fb289188f1416a89194cd57492344a",
            "placeholder": "​",
            "style": "IPY_MODEL_4cc32f50fe0d4c74b3395818ab8d9320",
            "value": " 44.7M/44.7M [00:00&lt;00:00, 96.0MB/s]"
          }
        },
        "a2fb289188f1416a89194cd57492344a": {
          "model_module": "@jupyter-widgets/base",
          "model_module_version": "1.2.0",
          "model_name": "LayoutModel",
          "state": {
            "_model_module": "@jupyter-widgets/base",
            "_model_module_version": "1.2.0",
            "_model_name": "LayoutModel",
            "_view_count": null,
            "_view_module": "@jupyter-widgets/base",
            "_view_module_version": "1.2.0",
            "_view_name": "LayoutView",
            "align_content": null,
            "align_items": null,
            "align_self": null,
            "border": null,
            "bottom": null,
            "display": null,
            "flex": null,
            "flex_flow": null,
            "grid_area": null,
            "grid_auto_columns": null,
            "grid_auto_flow": null,
            "grid_auto_rows": null,
            "grid_column": null,
            "grid_gap": null,
            "grid_row": null,
            "grid_template_areas": null,
            "grid_template_columns": null,
            "grid_template_rows": null,
            "height": null,
            "justify_content": null,
            "justify_items": null,
            "left": null,
            "margin": null,
            "max_height": null,
            "max_width": null,
            "min_height": null,
            "min_width": null,
            "object_fit": null,
            "object_position": null,
            "order": null,
            "overflow": null,
            "overflow_x": null,
            "overflow_y": null,
            "padding": null,
            "right": null,
            "top": null,
            "visibility": null,
            "width": null
          }
        },
        "a9e7d0269a62485a98bfa5be7bb60084": {
          "model_module": "@jupyter-widgets/controls",
          "model_module_version": "1.5.0",
          "model_name": "HBoxModel",
          "state": {
            "_dom_classes": [],
            "_model_module": "@jupyter-widgets/controls",
            "_model_module_version": "1.5.0",
            "_model_name": "HBoxModel",
            "_view_count": null,
            "_view_module": "@jupyter-widgets/controls",
            "_view_module_version": "1.5.0",
            "_view_name": "HBoxView",
            "box_style": "",
            "children": [
              "IPY_MODEL_fccd16bf2ae74d2598249708e6577518",
              "IPY_MODEL_719fb631f57044afb6227dd83f9ef24b",
              "IPY_MODEL_8c5fbafa4a194d7080bac9af5d5ebda1"
            ],
            "layout": "IPY_MODEL_eee9ca3e0b554c9cb58b4c6376b85014"
          }
        },
        "ae2d7d8d48ed4bd7a4d74a1a3969300b": {
          "model_module": "@jupyter-widgets/base",
          "model_module_version": "1.2.0",
          "model_name": "LayoutModel",
          "state": {
            "_model_module": "@jupyter-widgets/base",
            "_model_module_version": "1.2.0",
            "_model_name": "LayoutModel",
            "_view_count": null,
            "_view_module": "@jupyter-widgets/base",
            "_view_module_version": "1.2.0",
            "_view_name": "LayoutView",
            "align_content": null,
            "align_items": null,
            "align_self": null,
            "border": null,
            "bottom": null,
            "display": null,
            "flex": null,
            "flex_flow": null,
            "grid_area": null,
            "grid_auto_columns": null,
            "grid_auto_flow": null,
            "grid_auto_rows": null,
            "grid_column": null,
            "grid_gap": null,
            "grid_row": null,
            "grid_template_areas": null,
            "grid_template_columns": null,
            "grid_template_rows": null,
            "height": null,
            "justify_content": null,
            "justify_items": null,
            "left": null,
            "margin": null,
            "max_height": null,
            "max_width": null,
            "min_height": null,
            "min_width": null,
            "object_fit": null,
            "object_position": null,
            "order": null,
            "overflow": null,
            "overflow_x": null,
            "overflow_y": null,
            "padding": null,
            "right": null,
            "top": null,
            "visibility": null,
            "width": null
          }
        },
        "b9237b8828054738970ad7080cc25510": {
          "model_module": "@jupyter-widgets/controls",
          "model_module_version": "1.5.0",
          "model_name": "ProgressStyleModel",
          "state": {
            "_model_module": "@jupyter-widgets/controls",
            "_model_module_version": "1.5.0",
            "_model_name": "ProgressStyleModel",
            "_view_count": null,
            "_view_module": "@jupyter-widgets/base",
            "_view_module_version": "1.2.0",
            "_view_name": "StyleView",
            "bar_color": null,
            "description_width": ""
          }
        },
        "eee9ca3e0b554c9cb58b4c6376b85014": {
          "model_module": "@jupyter-widgets/base",
          "model_module_version": "1.2.0",
          "model_name": "LayoutModel",
          "state": {
            "_model_module": "@jupyter-widgets/base",
            "_model_module_version": "1.2.0",
            "_model_name": "LayoutModel",
            "_view_count": null,
            "_view_module": "@jupyter-widgets/base",
            "_view_module_version": "1.2.0",
            "_view_name": "LayoutView",
            "align_content": null,
            "align_items": null,
            "align_self": null,
            "border": null,
            "bottom": null,
            "display": null,
            "flex": null,
            "flex_flow": null,
            "grid_area": null,
            "grid_auto_columns": null,
            "grid_auto_flow": null,
            "grid_auto_rows": null,
            "grid_column": null,
            "grid_gap": null,
            "grid_row": null,
            "grid_template_areas": null,
            "grid_template_columns": null,
            "grid_template_rows": null,
            "height": null,
            "justify_content": null,
            "justify_items": null,
            "left": null,
            "margin": null,
            "max_height": null,
            "max_width": null,
            "min_height": null,
            "min_width": null,
            "object_fit": null,
            "object_position": null,
            "order": null,
            "overflow": null,
            "overflow_x": null,
            "overflow_y": null,
            "padding": null,
            "right": null,
            "top": null,
            "visibility": null,
            "width": null
          }
        },
        "fccd16bf2ae74d2598249708e6577518": {
          "model_module": "@jupyter-widgets/controls",
          "model_module_version": "1.5.0",
          "model_name": "HTMLModel",
          "state": {
            "_dom_classes": [],
            "_model_module": "@jupyter-widgets/controls",
            "_model_module_version": "1.5.0",
            "_model_name": "HTMLModel",
            "_view_count": null,
            "_view_module": "@jupyter-widgets/controls",
            "_view_module_version": "1.5.0",
            "_view_name": "HTMLView",
            "description": "",
            "description_tooltip": null,
            "layout": "IPY_MODEL_6ce5a60918c046aca305a7839ff21394",
            "placeholder": "​",
            "style": "IPY_MODEL_78fee984c68a4bc688b68c55b449c55b",
            "value": "100%"
          }
        }
      }
    }
  },
  "nbformat": 4,
  "nbformat_minor": 0
}
