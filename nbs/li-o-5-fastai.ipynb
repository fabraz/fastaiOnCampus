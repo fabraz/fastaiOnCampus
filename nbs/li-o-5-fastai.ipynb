{
 "cells": [
  {
   "cell_type": "markdown",
   "id": "40f0bf12",
   "metadata": {
    "papermill": {
     "duration": 0.008661,
     "end_time": "2023-01-04T15:32:21.597525",
     "exception": false,
     "start_time": "2023-01-04T15:32:21.588864",
     "status": "completed"
    },
    "tags": []
   },
   "source": [
    "# Lição 5 FastAI"
   ]
  },
  {
   "cell_type": "markdown",
   "id": "959816b7",
   "metadata": {
    "papermill": {
     "duration": 0.007202,
     "end_time": "2023-01-04T15:32:21.612684",
     "exception": false,
     "start_time": "2023-01-04T15:32:21.605482",
     "status": "completed"
    },
    "tags": []
   },
   "source": [
    "Nesta lição do FastAI o Jeremy ensina como fazer um modelo linear de predição, com essa ideia em mente este notebook tem como objetivo criar um modelo para prever a qualidade de um vinho, utlizando como base um Dataset do Kaggle, o Red Wine Quality de 2009."
   ]
  },
  {
   "cell_type": "markdown",
   "id": "d157a5eb",
   "metadata": {
    "papermill": {
     "duration": 0.007069,
     "end_time": "2023-01-04T15:32:21.627101",
     "exception": false,
     "start_time": "2023-01-04T15:32:21.620032",
     "status": "completed"
    },
    "tags": []
   },
   "source": [
    "Um modelo linear é um tipo de modelo de predição que pode ser usado para realizar classificação ou regressão. Ele é chamado de \"linear\" porque a relação entre as variáveis de entrada (características) e a variável de saída (alvo) é representada por uma equação linear. Os modelos lineares podem ter dificuldades em lidar com problemas que exigem uma relação não linear entre as variáveis de entrada e saída. "
   ]
  },
  {
   "cell_type": "markdown",
   "id": "ed751f62",
   "metadata": {
    "papermill": {
     "duration": 0.006995,
     "end_time": "2023-01-04T15:32:21.641104",
     "exception": false,
     "start_time": "2023-01-04T15:32:21.634109",
     "status": "completed"
    },
    "tags": []
   },
   "source": [
    "Para iniciarmos devemos importar algumas bibliotecas que serão utilizadas durante o desenvolvimento. Os principais são Pandas e algumas funcionalidades do Sklearn."
   ]
  },
  {
   "cell_type": "code",
   "execution_count": 1,
   "id": "3bd4d86d",
   "metadata": {
    "_cell_guid": "b1076dfc-b9ad-4769-8c92-a6c4dae69d19",
    "_uuid": "8f2839f25d086af736a60e9eeb907d3b93b6e0e5",
    "execution": {
     "iopub.execute_input": "2023-01-04T15:32:21.658218Z",
     "iopub.status.busy": "2023-01-04T15:32:21.657562Z",
     "iopub.status.idle": "2023-01-04T15:32:23.172731Z",
     "shell.execute_reply": "2023-01-04T15:32:23.171260Z"
    },
    "papermill": {
     "duration": 1.52801,
     "end_time": "2023-01-04T15:32:23.176449",
     "exception": false,
     "start_time": "2023-01-04T15:32:21.648439",
     "status": "completed"
    },
    "tags": []
   },
   "outputs": [],
   "source": [
    "import pandas as pd\n",
    "import numpy as np\n",
    "from sklearn.ensemble import RandomForestRegressor, RandomForestClassifier\n",
    "from sklearn.model_selection import train_test_split, KFold\n",
    "from sklearn.metrics import mean_absolute_error\n",
    "from sklearn.metrics import mean_squared_error\n",
    "from pathlib import Path\n",
    "# df = pd.read_csv('https://raw.githubusercontent.com/fastai/fastai/master/data/red-wine-quality/winequality-red.csv', delimiter=';')\n",
    "path = Path('../input/red-wine-quality-cortez-et-al-2009')"
   ]
  },
  {
   "cell_type": "markdown",
   "id": "1a69734b",
   "metadata": {
    "papermill": {
     "duration": 0.008681,
     "end_time": "2023-01-04T15:32:23.192495",
     "exception": false,
     "start_time": "2023-01-04T15:32:23.183814",
     "status": "completed"
    },
    "tags": []
   },
   "source": [
    "Após importar o Dataset do Kaggle, podemos ver que é uma tablea pequena com apenas 12 colunas e 1599 linhas, 11 dessas colunas indicam caracteristicas do vinho como pH, densidade, etc. A coluna target que indica qual a resposta da pergunta de qual qualidade é a qualidade do vinho é a quality. "
   ]
  },
  {
   "cell_type": "code",
   "execution_count": 2,
   "id": "243fcb0c",
   "metadata": {
    "execution": {
     "iopub.execute_input": "2023-01-04T15:32:23.209437Z",
     "iopub.status.busy": "2023-01-04T15:32:23.209000Z",
     "iopub.status.idle": "2023-01-04T15:32:23.270592Z",
     "shell.execute_reply": "2023-01-04T15:32:23.269167Z"
    },
    "papermill": {
     "duration": 0.073976,
     "end_time": "2023-01-04T15:32:23.273883",
     "exception": false,
     "start_time": "2023-01-04T15:32:23.199907",
     "status": "completed"
    },
    "tags": []
   },
   "outputs": [
    {
     "data": {
      "text/html": [
       "<div>\n",
       "<style scoped>\n",
       "    .dataframe tbody tr th:only-of-type {\n",
       "        vertical-align: middle;\n",
       "    }\n",
       "\n",
       "    .dataframe tbody tr th {\n",
       "        vertical-align: top;\n",
       "    }\n",
       "\n",
       "    .dataframe thead th {\n",
       "        text-align: right;\n",
       "    }\n",
       "</style>\n",
       "<table border=\"1\" class=\"dataframe\">\n",
       "  <thead>\n",
       "    <tr style=\"text-align: right;\">\n",
       "      <th></th>\n",
       "      <th>fixed acidity</th>\n",
       "      <th>volatile acidity</th>\n",
       "      <th>citric acid</th>\n",
       "      <th>residual sugar</th>\n",
       "      <th>chlorides</th>\n",
       "      <th>free sulfur dioxide</th>\n",
       "      <th>total sulfur dioxide</th>\n",
       "      <th>density</th>\n",
       "      <th>pH</th>\n",
       "      <th>sulphates</th>\n",
       "      <th>alcohol</th>\n",
       "      <th>quality</th>\n",
       "    </tr>\n",
       "  </thead>\n",
       "  <tbody>\n",
       "    <tr>\n",
       "      <th>0</th>\n",
       "      <td>7.4</td>\n",
       "      <td>0.700</td>\n",
       "      <td>0.00</td>\n",
       "      <td>1.9</td>\n",
       "      <td>0.076</td>\n",
       "      <td>11.0</td>\n",
       "      <td>34.0</td>\n",
       "      <td>0.99780</td>\n",
       "      <td>3.51</td>\n",
       "      <td>0.56</td>\n",
       "      <td>9.4</td>\n",
       "      <td>5</td>\n",
       "    </tr>\n",
       "    <tr>\n",
       "      <th>1</th>\n",
       "      <td>7.8</td>\n",
       "      <td>0.880</td>\n",
       "      <td>0.00</td>\n",
       "      <td>2.6</td>\n",
       "      <td>0.098</td>\n",
       "      <td>25.0</td>\n",
       "      <td>67.0</td>\n",
       "      <td>0.99680</td>\n",
       "      <td>3.20</td>\n",
       "      <td>0.68</td>\n",
       "      <td>9.8</td>\n",
       "      <td>5</td>\n",
       "    </tr>\n",
       "    <tr>\n",
       "      <th>2</th>\n",
       "      <td>7.8</td>\n",
       "      <td>0.760</td>\n",
       "      <td>0.04</td>\n",
       "      <td>2.3</td>\n",
       "      <td>0.092</td>\n",
       "      <td>15.0</td>\n",
       "      <td>54.0</td>\n",
       "      <td>0.99700</td>\n",
       "      <td>3.26</td>\n",
       "      <td>0.65</td>\n",
       "      <td>9.8</td>\n",
       "      <td>5</td>\n",
       "    </tr>\n",
       "    <tr>\n",
       "      <th>3</th>\n",
       "      <td>11.2</td>\n",
       "      <td>0.280</td>\n",
       "      <td>0.56</td>\n",
       "      <td>1.9</td>\n",
       "      <td>0.075</td>\n",
       "      <td>17.0</td>\n",
       "      <td>60.0</td>\n",
       "      <td>0.99800</td>\n",
       "      <td>3.16</td>\n",
       "      <td>0.58</td>\n",
       "      <td>9.8</td>\n",
       "      <td>6</td>\n",
       "    </tr>\n",
       "    <tr>\n",
       "      <th>4</th>\n",
       "      <td>7.4</td>\n",
       "      <td>0.700</td>\n",
       "      <td>0.00</td>\n",
       "      <td>1.9</td>\n",
       "      <td>0.076</td>\n",
       "      <td>11.0</td>\n",
       "      <td>34.0</td>\n",
       "      <td>0.99780</td>\n",
       "      <td>3.51</td>\n",
       "      <td>0.56</td>\n",
       "      <td>9.4</td>\n",
       "      <td>5</td>\n",
       "    </tr>\n",
       "    <tr>\n",
       "      <th>...</th>\n",
       "      <td>...</td>\n",
       "      <td>...</td>\n",
       "      <td>...</td>\n",
       "      <td>...</td>\n",
       "      <td>...</td>\n",
       "      <td>...</td>\n",
       "      <td>...</td>\n",
       "      <td>...</td>\n",
       "      <td>...</td>\n",
       "      <td>...</td>\n",
       "      <td>...</td>\n",
       "      <td>...</td>\n",
       "    </tr>\n",
       "    <tr>\n",
       "      <th>1594</th>\n",
       "      <td>6.2</td>\n",
       "      <td>0.600</td>\n",
       "      <td>0.08</td>\n",
       "      <td>2.0</td>\n",
       "      <td>0.090</td>\n",
       "      <td>32.0</td>\n",
       "      <td>44.0</td>\n",
       "      <td>0.99490</td>\n",
       "      <td>3.45</td>\n",
       "      <td>0.58</td>\n",
       "      <td>10.5</td>\n",
       "      <td>5</td>\n",
       "    </tr>\n",
       "    <tr>\n",
       "      <th>1595</th>\n",
       "      <td>5.9</td>\n",
       "      <td>0.550</td>\n",
       "      <td>0.10</td>\n",
       "      <td>2.2</td>\n",
       "      <td>0.062</td>\n",
       "      <td>39.0</td>\n",
       "      <td>51.0</td>\n",
       "      <td>0.99512</td>\n",
       "      <td>3.52</td>\n",
       "      <td>0.76</td>\n",
       "      <td>11.2</td>\n",
       "      <td>6</td>\n",
       "    </tr>\n",
       "    <tr>\n",
       "      <th>1596</th>\n",
       "      <td>6.3</td>\n",
       "      <td>0.510</td>\n",
       "      <td>0.13</td>\n",
       "      <td>2.3</td>\n",
       "      <td>0.076</td>\n",
       "      <td>29.0</td>\n",
       "      <td>40.0</td>\n",
       "      <td>0.99574</td>\n",
       "      <td>3.42</td>\n",
       "      <td>0.75</td>\n",
       "      <td>11.0</td>\n",
       "      <td>6</td>\n",
       "    </tr>\n",
       "    <tr>\n",
       "      <th>1597</th>\n",
       "      <td>5.9</td>\n",
       "      <td>0.645</td>\n",
       "      <td>0.12</td>\n",
       "      <td>2.0</td>\n",
       "      <td>0.075</td>\n",
       "      <td>32.0</td>\n",
       "      <td>44.0</td>\n",
       "      <td>0.99547</td>\n",
       "      <td>3.57</td>\n",
       "      <td>0.71</td>\n",
       "      <td>10.2</td>\n",
       "      <td>5</td>\n",
       "    </tr>\n",
       "    <tr>\n",
       "      <th>1598</th>\n",
       "      <td>6.0</td>\n",
       "      <td>0.310</td>\n",
       "      <td>0.47</td>\n",
       "      <td>3.6</td>\n",
       "      <td>0.067</td>\n",
       "      <td>18.0</td>\n",
       "      <td>42.0</td>\n",
       "      <td>0.99549</td>\n",
       "      <td>3.39</td>\n",
       "      <td>0.66</td>\n",
       "      <td>11.0</td>\n",
       "      <td>6</td>\n",
       "    </tr>\n",
       "  </tbody>\n",
       "</table>\n",
       "<p>1599 rows × 12 columns</p>\n",
       "</div>"
      ],
      "text/plain": [
       "      fixed acidity  volatile acidity  citric acid  residual sugar  chlorides  \\\n",
       "0               7.4             0.700         0.00             1.9      0.076   \n",
       "1               7.8             0.880         0.00             2.6      0.098   \n",
       "2               7.8             0.760         0.04             2.3      0.092   \n",
       "3              11.2             0.280         0.56             1.9      0.075   \n",
       "4               7.4             0.700         0.00             1.9      0.076   \n",
       "...             ...               ...          ...             ...        ...   \n",
       "1594            6.2             0.600         0.08             2.0      0.090   \n",
       "1595            5.9             0.550         0.10             2.2      0.062   \n",
       "1596            6.3             0.510         0.13             2.3      0.076   \n",
       "1597            5.9             0.645         0.12             2.0      0.075   \n",
       "1598            6.0             0.310         0.47             3.6      0.067   \n",
       "\n",
       "      free sulfur dioxide  total sulfur dioxide  density    pH  sulphates  \\\n",
       "0                    11.0                  34.0  0.99780  3.51       0.56   \n",
       "1                    25.0                  67.0  0.99680  3.20       0.68   \n",
       "2                    15.0                  54.0  0.99700  3.26       0.65   \n",
       "3                    17.0                  60.0  0.99800  3.16       0.58   \n",
       "4                    11.0                  34.0  0.99780  3.51       0.56   \n",
       "...                   ...                   ...      ...   ...        ...   \n",
       "1594                 32.0                  44.0  0.99490  3.45       0.58   \n",
       "1595                 39.0                  51.0  0.99512  3.52       0.76   \n",
       "1596                 29.0                  40.0  0.99574  3.42       0.75   \n",
       "1597                 32.0                  44.0  0.99547  3.57       0.71   \n",
       "1598                 18.0                  42.0  0.99549  3.39       0.66   \n",
       "\n",
       "      alcohol  quality  \n",
       "0         9.4        5  \n",
       "1         9.8        5  \n",
       "2         9.8        5  \n",
       "3         9.8        6  \n",
       "4         9.4        5  \n",
       "...       ...      ...  \n",
       "1594     10.5        5  \n",
       "1595     11.2        6  \n",
       "1596     11.0        6  \n",
       "1597     10.2        5  \n",
       "1598     11.0        6  \n",
       "\n",
       "[1599 rows x 12 columns]"
      ]
     },
     "execution_count": 2,
     "metadata": {},
     "output_type": "execute_result"
    }
   ],
   "source": [
    "df = pd.read_csv(path/'winequality-red.csv')\n",
    "df"
   ]
  },
  {
   "cell_type": "markdown",
   "id": "54b183fa",
   "metadata": {
    "papermill": {
     "duration": 0.007967,
     "end_time": "2023-01-04T15:32:23.289822",
     "exception": false,
     "start_time": "2023-01-04T15:32:23.281855",
     "status": "completed"
    },
    "tags": []
   },
   "source": [
    "Para obter uma melhor descrição dos dados vamos utilizar o método describe da biblioteca pandas. Utilizando-o podemos observar que a maior parte dos dados estão dentro de uma faixa de valor aceitável, como por exemplo a coluna de Chlorides que possui um valores entre 0.01 e 0.61, ou seja não é necessário usar uma função logarítimica para tratar os dados."
   ]
  },
  {
   "cell_type": "markdown",
   "id": "1d5e01e7",
   "metadata": {
    "papermill": {
     "duration": 0.007454,
     "end_time": "2023-01-04T15:32:23.305117",
     "exception": false,
     "start_time": "2023-01-04T15:32:23.297663",
     "status": "completed"
    },
    "tags": []
   },
   "source": [
    "Porém, podemos observar que a coluna de total sulfur dioxide possue valores muito dispersos, com 75% estando entre 6 e 62, mas o máximo em 289, portanto é necessário um tratamento dessa coluna para atenuar os valores e aumentar a capacidade de predição do modelo."
   ]
  },
  {
   "cell_type": "code",
   "execution_count": 3,
   "id": "f2755f67",
   "metadata": {
    "execution": {
     "iopub.execute_input": "2023-01-04T15:32:23.323632Z",
     "iopub.status.busy": "2023-01-04T15:32:23.322122Z",
     "iopub.status.idle": "2023-01-04T15:32:23.383857Z",
     "shell.execute_reply": "2023-01-04T15:32:23.382886Z"
    },
    "papermill": {
     "duration": 0.073197,
     "end_time": "2023-01-04T15:32:23.386057",
     "exception": false,
     "start_time": "2023-01-04T15:32:23.312860",
     "status": "completed"
    },
    "tags": []
   },
   "outputs": [
    {
     "data": {
      "text/html": [
       "<div>\n",
       "<style scoped>\n",
       "    .dataframe tbody tr th:only-of-type {\n",
       "        vertical-align: middle;\n",
       "    }\n",
       "\n",
       "    .dataframe tbody tr th {\n",
       "        vertical-align: top;\n",
       "    }\n",
       "\n",
       "    .dataframe thead th {\n",
       "        text-align: right;\n",
       "    }\n",
       "</style>\n",
       "<table border=\"1\" class=\"dataframe\">\n",
       "  <thead>\n",
       "    <tr style=\"text-align: right;\">\n",
       "      <th></th>\n",
       "      <th>fixed acidity</th>\n",
       "      <th>volatile acidity</th>\n",
       "      <th>citric acid</th>\n",
       "      <th>residual sugar</th>\n",
       "      <th>chlorides</th>\n",
       "      <th>free sulfur dioxide</th>\n",
       "      <th>total sulfur dioxide</th>\n",
       "      <th>density</th>\n",
       "      <th>pH</th>\n",
       "      <th>sulphates</th>\n",
       "      <th>alcohol</th>\n",
       "      <th>quality</th>\n",
       "    </tr>\n",
       "  </thead>\n",
       "  <tbody>\n",
       "    <tr>\n",
       "      <th>count</th>\n",
       "      <td>1599.000000</td>\n",
       "      <td>1599.000000</td>\n",
       "      <td>1599.000000</td>\n",
       "      <td>1599.000000</td>\n",
       "      <td>1599.000000</td>\n",
       "      <td>1599.000000</td>\n",
       "      <td>1599.000000</td>\n",
       "      <td>1599.000000</td>\n",
       "      <td>1599.000000</td>\n",
       "      <td>1599.000000</td>\n",
       "      <td>1599.000000</td>\n",
       "      <td>1599.000000</td>\n",
       "    </tr>\n",
       "    <tr>\n",
       "      <th>mean</th>\n",
       "      <td>8.319637</td>\n",
       "      <td>0.527821</td>\n",
       "      <td>0.270976</td>\n",
       "      <td>2.538806</td>\n",
       "      <td>0.087467</td>\n",
       "      <td>15.874922</td>\n",
       "      <td>46.467792</td>\n",
       "      <td>0.996747</td>\n",
       "      <td>3.311113</td>\n",
       "      <td>0.658149</td>\n",
       "      <td>10.422983</td>\n",
       "      <td>5.636023</td>\n",
       "    </tr>\n",
       "    <tr>\n",
       "      <th>std</th>\n",
       "      <td>1.741096</td>\n",
       "      <td>0.179060</td>\n",
       "      <td>0.194801</td>\n",
       "      <td>1.409928</td>\n",
       "      <td>0.047065</td>\n",
       "      <td>10.460157</td>\n",
       "      <td>32.895324</td>\n",
       "      <td>0.001887</td>\n",
       "      <td>0.154386</td>\n",
       "      <td>0.169507</td>\n",
       "      <td>1.065668</td>\n",
       "      <td>0.807569</td>\n",
       "    </tr>\n",
       "    <tr>\n",
       "      <th>min</th>\n",
       "      <td>4.600000</td>\n",
       "      <td>0.120000</td>\n",
       "      <td>0.000000</td>\n",
       "      <td>0.900000</td>\n",
       "      <td>0.012000</td>\n",
       "      <td>1.000000</td>\n",
       "      <td>6.000000</td>\n",
       "      <td>0.990070</td>\n",
       "      <td>2.740000</td>\n",
       "      <td>0.330000</td>\n",
       "      <td>8.400000</td>\n",
       "      <td>3.000000</td>\n",
       "    </tr>\n",
       "    <tr>\n",
       "      <th>25%</th>\n",
       "      <td>7.100000</td>\n",
       "      <td>0.390000</td>\n",
       "      <td>0.090000</td>\n",
       "      <td>1.900000</td>\n",
       "      <td>0.070000</td>\n",
       "      <td>7.000000</td>\n",
       "      <td>22.000000</td>\n",
       "      <td>0.995600</td>\n",
       "      <td>3.210000</td>\n",
       "      <td>0.550000</td>\n",
       "      <td>9.500000</td>\n",
       "      <td>5.000000</td>\n",
       "    </tr>\n",
       "    <tr>\n",
       "      <th>50%</th>\n",
       "      <td>7.900000</td>\n",
       "      <td>0.520000</td>\n",
       "      <td>0.260000</td>\n",
       "      <td>2.200000</td>\n",
       "      <td>0.079000</td>\n",
       "      <td>14.000000</td>\n",
       "      <td>38.000000</td>\n",
       "      <td>0.996750</td>\n",
       "      <td>3.310000</td>\n",
       "      <td>0.620000</td>\n",
       "      <td>10.200000</td>\n",
       "      <td>6.000000</td>\n",
       "    </tr>\n",
       "    <tr>\n",
       "      <th>75%</th>\n",
       "      <td>9.200000</td>\n",
       "      <td>0.640000</td>\n",
       "      <td>0.420000</td>\n",
       "      <td>2.600000</td>\n",
       "      <td>0.090000</td>\n",
       "      <td>21.000000</td>\n",
       "      <td>62.000000</td>\n",
       "      <td>0.997835</td>\n",
       "      <td>3.400000</td>\n",
       "      <td>0.730000</td>\n",
       "      <td>11.100000</td>\n",
       "      <td>6.000000</td>\n",
       "    </tr>\n",
       "    <tr>\n",
       "      <th>max</th>\n",
       "      <td>15.900000</td>\n",
       "      <td>1.580000</td>\n",
       "      <td>1.000000</td>\n",
       "      <td>15.500000</td>\n",
       "      <td>0.611000</td>\n",
       "      <td>72.000000</td>\n",
       "      <td>289.000000</td>\n",
       "      <td>1.003690</td>\n",
       "      <td>4.010000</td>\n",
       "      <td>2.000000</td>\n",
       "      <td>14.900000</td>\n",
       "      <td>8.000000</td>\n",
       "    </tr>\n",
       "  </tbody>\n",
       "</table>\n",
       "</div>"
      ],
      "text/plain": [
       "       fixed acidity  volatile acidity  citric acid  residual sugar  \\\n",
       "count    1599.000000       1599.000000  1599.000000     1599.000000   \n",
       "mean        8.319637          0.527821     0.270976        2.538806   \n",
       "std         1.741096          0.179060     0.194801        1.409928   \n",
       "min         4.600000          0.120000     0.000000        0.900000   \n",
       "25%         7.100000          0.390000     0.090000        1.900000   \n",
       "50%         7.900000          0.520000     0.260000        2.200000   \n",
       "75%         9.200000          0.640000     0.420000        2.600000   \n",
       "max        15.900000          1.580000     1.000000       15.500000   \n",
       "\n",
       "         chlorides  free sulfur dioxide  total sulfur dioxide      density  \\\n",
       "count  1599.000000          1599.000000           1599.000000  1599.000000   \n",
       "mean      0.087467            15.874922             46.467792     0.996747   \n",
       "std       0.047065            10.460157             32.895324     0.001887   \n",
       "min       0.012000             1.000000              6.000000     0.990070   \n",
       "25%       0.070000             7.000000             22.000000     0.995600   \n",
       "50%       0.079000            14.000000             38.000000     0.996750   \n",
       "75%       0.090000            21.000000             62.000000     0.997835   \n",
       "max       0.611000            72.000000            289.000000     1.003690   \n",
       "\n",
       "                pH    sulphates      alcohol      quality  \n",
       "count  1599.000000  1599.000000  1599.000000  1599.000000  \n",
       "mean      3.311113     0.658149    10.422983     5.636023  \n",
       "std       0.154386     0.169507     1.065668     0.807569  \n",
       "min       2.740000     0.330000     8.400000     3.000000  \n",
       "25%       3.210000     0.550000     9.500000     5.000000  \n",
       "50%       3.310000     0.620000    10.200000     6.000000  \n",
       "75%       3.400000     0.730000    11.100000     6.000000  \n",
       "max       4.010000     2.000000    14.900000     8.000000  "
      ]
     },
     "execution_count": 3,
     "metadata": {},
     "output_type": "execute_result"
    }
   ],
   "source": [
    "df.describe(include=(np.number))"
   ]
  },
  {
   "cell_type": "markdown",
   "id": "44d7989b",
   "metadata": {
    "papermill": {
     "duration": 0.007967,
     "end_time": "2023-01-04T15:32:23.402561",
     "exception": false,
     "start_time": "2023-01-04T15:32:23.394594",
     "status": "completed"
    },
    "tags": []
   },
   "source": [
    "Com o método hist do pandas fica mais claro essa dispersão dos dados na coluna indicada."
   ]
  },
  {
   "cell_type": "code",
   "execution_count": 4,
   "id": "4f58a7b4",
   "metadata": {
    "execution": {
     "iopub.execute_input": "2023-01-04T15:32:23.421609Z",
     "iopub.status.busy": "2023-01-04T15:32:23.420551Z",
     "iopub.status.idle": "2023-01-04T15:32:23.719645Z",
     "shell.execute_reply": "2023-01-04T15:32:23.718711Z"
    },
    "papermill": {
     "duration": 0.311389,
     "end_time": "2023-01-04T15:32:23.722130",
     "exception": false,
     "start_time": "2023-01-04T15:32:23.410741",
     "status": "completed"
    },
    "tags": []
   },
   "outputs": [
    {
     "data": {
      "image/png": "[encoded data removed]",
      "text/plain": [
       "<Figure size 432x288 with 1 Axes>"
      ]
     },
     "metadata": {
      "needs_background": "light"
     },
     "output_type": "display_data"
    }
   ],
   "source": [
    "df['total sulfur dioxide'].hist();"
   ]
  },
  {
   "cell_type": "markdown",
   "id": "cad637c0",
   "metadata": {
    "papermill": {
     "duration": 0.008417,
     "end_time": "2023-01-04T15:32:23.739651",
     "exception": false,
     "start_time": "2023-01-04T15:32:23.731234",
     "status": "completed"
    },
    "tags": []
   },
   "source": [
    "Outra coluna que possui uma diferença considerável nos dados é a de free sulfur dioxide, porém ao analisar mais atentamente podemos observar que a distribuição dos dados não está tão dispersa, portanto acho interessante manter os dados originais sem fazer a aplicação de uma função logarítimica."
   ]
  },
  {
   "cell_type": "code",
   "execution_count": 5,
   "id": "f15aa9cf",
   "metadata": {
    "execution": {
     "iopub.execute_input": "2023-01-04T15:32:23.759929Z",
     "iopub.status.busy": "2023-01-04T15:32:23.759222Z",
     "iopub.status.idle": "2023-01-04T15:32:24.006292Z",
     "shell.execute_reply": "2023-01-04T15:32:24.004515Z"
    },
    "papermill": {
     "duration": 0.260326,
     "end_time": "2023-01-04T15:32:24.009251",
     "exception": false,
     "start_time": "2023-01-04T15:32:23.748925",
     "status": "completed"
    },
    "tags": []
   },
   "outputs": [
    {
     "data": {
      "image/png": "[encoded data removed]",
      "text/plain": [
       "<Figure size 432x288 with 1 Axes>"
      ]
     },
     "metadata": {
      "needs_background": "light"
     },
     "output_type": "display_data"
    }
   ],
   "source": [
    "df['free sulfur dioxide'].hist();"
   ]
  },
  {
   "cell_type": "markdown",
   "id": "b461cb35",
   "metadata": {
    "papermill": {
     "duration": 0.008795,
     "end_time": "2023-01-04T15:32:24.027017",
     "exception": false,
     "start_time": "2023-01-04T15:32:24.018222",
     "status": "completed"
    },
    "tags": []
   },
   "source": [
    "Após aplicar o Log no total sulfur dioxide, podemos ver como os dados se encontram muito mais concetrados. Isso irá facilitar o treinamento, pois durante a mutiplicação de coeficientes os dados maiores não terão um peso absurdamente maior como poderia acontecer ao manter os dados originais."
   ]
  },
  {
   "cell_type": "code",
   "execution_count": 6,
   "id": "a18ef84a",
   "metadata": {
    "execution": {
     "iopub.execute_input": "2023-01-04T15:32:24.045999Z",
     "iopub.status.busy": "2023-01-04T15:32:24.045515Z",
     "iopub.status.idle": "2023-01-04T15:32:24.310713Z",
     "shell.execute_reply": "2023-01-04T15:32:24.309402Z"
    },
    "papermill": {
     "duration": 0.27813,
     "end_time": "2023-01-04T15:32:24.313483",
     "exception": false,
     "start_time": "2023-01-04T15:32:24.035353",
     "status": "completed"
    },
    "tags": []
   },
   "outputs": [
    {
     "data": {
      "image/png": "[encoded data removed]",
      "text/plain": [
       "<Figure size 432x288 with 1 Axes>"
      ]
     },
     "metadata": {
      "needs_background": "light"
     },
     "output_type": "display_data"
    }
   ],
   "source": [
    "df['LogTotalSulfurDioxide'] = np.log(df['total sulfur dioxide']+1)\n",
    "df.drop([\"total sulfur dioxide\"], axis=1)\n",
    "df['LogTotalSulfurDioxide'].hist();"
   ]
  },
  {
   "cell_type": "markdown",
   "id": "8d79ac43",
   "metadata": {
    "papermill": {
     "duration": 0.008145,
     "end_time": "2023-01-04T15:32:24.330039",
     "exception": false,
     "start_time": "2023-01-04T15:32:24.321894",
     "status": "completed"
    },
    "tags": []
   },
   "source": [
    "Outro importante passo para o tratamento de dados é o de eliminar dados marcados como NaN, para analisar onde deve ser feito esse tipo de tratamento iremos observar quais colunas possuem algum valor nulo."
   ]
  },
  {
   "cell_type": "code",
   "execution_count": 7,
   "id": "3172b010",
   "metadata": {
    "execution": {
     "iopub.execute_input": "2023-01-04T15:32:24.349898Z",
     "iopub.status.busy": "2023-01-04T15:32:24.349423Z",
     "iopub.status.idle": "2023-01-04T15:32:24.361473Z",
     "shell.execute_reply": "2023-01-04T15:32:24.359859Z"
    },
    "papermill": {
     "duration": 0.025608,
     "end_time": "2023-01-04T15:32:24.364066",
     "exception": false,
     "start_time": "2023-01-04T15:32:24.338458",
     "status": "completed"
    },
    "tags": []
   },
   "outputs": [
    {
     "data": {
      "text/plain": [
       "fixed acidity            0\n",
       "volatile acidity         0\n",
       "citric acid              0\n",
       "residual sugar           0\n",
       "chlorides                0\n",
       "free sulfur dioxide      0\n",
       "total sulfur dioxide     0\n",
       "density                  0\n",
       "pH                       0\n",
       "sulphates                0\n",
       "alcohol                  0\n",
       "quality                  0\n",
       "LogTotalSulfurDioxide    0\n",
       "dtype: int64"
      ]
     },
     "execution_count": 7,
     "metadata": {},
     "output_type": "execute_result"
    }
   ],
   "source": [
    "df.isna().sum()"
   ]
  },
  {
   "cell_type": "markdown",
   "id": "531b2e02",
   "metadata": {
    "papermill": {
     "duration": 0.008139,
     "end_time": "2023-01-04T15:32:24.380953",
     "exception": false,
     "start_time": "2023-01-04T15:32:24.372814",
     "status": "completed"
    },
    "tags": []
   },
   "source": [
    "Como podemos ver os dados da tabela oferecida pelo Kaggle não possuem nenhum valor nulo, então podemos seguir em frente."
   ]
  },
  {
   "cell_type": "markdown",
   "id": "dce3e583",
   "metadata": {
    "papermill": {
     "duration": 0.008261,
     "end_time": "2023-01-04T15:32:24.397743",
     "exception": false,
     "start_time": "2023-01-04T15:32:24.389482",
     "status": "completed"
    },
    "tags": []
   },
   "source": [
    "O próximo passo é o de criar os dados de treinamento e de teste, para isso basta usar o método train_test_split que irá receber o Dataset sem a coluna target e a coluna target em si separadamente. Em seguida irá retornar os dados que serão usados no treinamento e nos testes do modelo."
   ]
  },
  {
   "cell_type": "code",
   "execution_count": 8,
   "id": "5b8d4e36",
   "metadata": {
    "execution": {
     "iopub.execute_input": "2023-01-04T15:32:24.419893Z",
     "iopub.status.busy": "2023-01-04T15:32:24.419410Z",
     "iopub.status.idle": "2023-01-04T15:32:24.429654Z",
     "shell.execute_reply": "2023-01-04T15:32:24.428255Z"
    },
    "papermill": {
     "duration": 0.023516,
     "end_time": "2023-01-04T15:32:24.432526",
     "exception": false,
     "start_time": "2023-01-04T15:32:24.409010",
     "status": "completed"
    },
    "tags": []
   },
   "outputs": [],
   "source": [
    "X = df.drop(columns='quality')\n",
    "y = df['quality']\n",
    "X_train, X_test, y_train, y_test = train_test_split(X, y, test_size=0.2, random_state=42)"
   ]
  },
  {
   "cell_type": "markdown",
   "id": "6533adb5",
   "metadata": {
    "papermill": {
     "duration": 0.008615,
     "end_time": "2023-01-04T15:32:24.450242",
     "exception": false,
     "start_time": "2023-01-04T15:32:24.441627",
     "status": "completed"
    },
    "tags": []
   },
   "source": [
    "O modelo que irei utilizar será o Random Forest Generator. O Random Forest é um algoritmo de aprendizado supervisionado que cria uma série de árvores de decisão e, em seguida, combina suas previsões para obter uma predição final mais precisa. "
   ]
  },
  {
   "cell_type": "markdown",
   "id": "e2a955e1",
   "metadata": {
    "papermill": {
     "duration": 0.008909,
     "end_time": "2023-01-04T15:32:24.468807",
     "exception": false,
     "start_time": "2023-01-04T15:32:24.459898",
     "status": "completed"
    },
    "tags": []
   },
   "source": [
    "**Arvore de decisão:** Uma árvore de decisão é um modelo de aprendizado de máquina que é usado para fazer previsões em problemas de classificação ou regressão. Ela funciona criando uma série de perguntas lógicas sobre os dados de entrada, onde cada pergunta é representada por um nó na árvore. A árvore é construída a partir da raiz, onde cada pergunta é feita até chegar a uma folha, que representa a previsão final."
   ]
  },
  {
   "cell_type": "code",
   "execution_count": 9,
   "id": "4f452e07",
   "metadata": {
    "execution": {
     "iopub.execute_input": "2023-01-04T15:32:24.489399Z",
     "iopub.status.busy": "2023-01-04T15:32:24.488965Z",
     "iopub.status.idle": "2023-01-04T15:32:25.295705Z",
     "shell.execute_reply": "2023-01-04T15:32:25.294360Z"
    },
    "papermill": {
     "duration": 0.820438,
     "end_time": "2023-01-04T15:32:25.298834",
     "exception": false,
     "start_time": "2023-01-04T15:32:24.478396",
     "status": "completed"
    },
    "tags": []
   },
   "outputs": [
    {
     "data": {
      "text/plain": [
       "'5.53'"
      ]
     },
     "execution_count": 9,
     "metadata": {},
     "output_type": "execute_result"
    }
   ],
   "source": [
    "model = RandomForestRegressor()\n",
    "model.fit(X_train, y_train)\n",
    "\n",
    "data=[[7.3, 0.27, 0.3, 1.5, 0.08, 20, 50, 0.998, 3.5, 0.6, 9.5, 1.6]] \n",
    "\n",
    "row_df=pd.DataFrame(data,columns=['fixed acidity','volatile acidity', 'citric acid', 'residual sugar', 'chlorides', 'free sulfur dioxide', 'total sulfur dioxide', 'density', 'pH', 'sulphates', 'alcohol', 'LogTotalSulfurDioxide'])\n",
    "\n",
    "y_pred = model.predict(row_df)\n",
    "str(y_pred[0])"
   ]
  },
  {
   "cell_type": "markdown",
   "id": "a5173faf",
   "metadata": {
    "papermill": {
     "duration": 0.013206,
     "end_time": "2023-01-04T15:32:25.325332",
     "exception": false,
     "start_time": "2023-01-04T15:32:25.312126",
     "status": "completed"
    },
    "tags": []
   },
   "source": [
    "Após treinado o modelo podemos fazer um teste com dados aleátorios e podemos ver que retorna um valor que representaria a qualidade do vinho."
   ]
  },
  {
   "cell_type": "markdown",
   "id": "e0c74f96",
   "metadata": {
    "papermill": {
     "duration": 0.013342,
     "end_time": "2023-01-04T15:32:25.351995",
     "exception": false,
     "start_time": "2023-01-04T15:32:25.338653",
     "status": "completed"
    },
    "tags": []
   },
   "source": [
    "Agora iremos testar com o Dataset teste criado, isso irá permitir uma melhor interpretação da qualidade do modelo criado."
   ]
  },
  {
   "cell_type": "code",
   "execution_count": 10,
   "id": "b55bf124",
   "metadata": {
    "execution": {
     "iopub.execute_input": "2023-01-04T15:32:25.376436Z",
     "iopub.status.busy": "2023-01-04T15:32:25.375945Z",
     "iopub.status.idle": "2023-01-04T15:32:25.406482Z",
     "shell.execute_reply": "2023-01-04T15:32:25.405138Z"
    },
    "papermill": {
     "duration": 0.046107,
     "end_time": "2023-01-04T15:32:25.409011",
     "exception": false,
     "start_time": "2023-01-04T15:32:25.362904",
     "status": "completed"
    },
    "tags": []
   },
   "outputs": [
    {
     "data": {
      "text/plain": [
       "array([5.22, 5.21, 5.46, 5.16, 5.98, 5.03, 5.1 , 4.92, 6.19, 6.04, 6.72,\n",
       "       5.35, 5.77, 5.27, 5.47, 6.36, 5.34, 5.79, 6.87, 5.1 , 4.96, 5.8 ,\n",
       "       5.4 , 5.87, 5.68, 5.94, 6.38, 5.2 , 5.28, 5.98, 5.33, 5.47, 5.81,\n",
       "       5.58, 5.83, 5.13, 6.27, 6.  , 5.32, 6.02, 5.23, 5.17, 6.23, 5.03,\n",
       "       5.57, 5.64, 6.47, 5.66, 5.13, 5.74, 5.13, 5.42, 5.29, 7.  , 5.27,\n",
       "       5.62, 6.03, 5.96, 5.71, 5.  , 5.61, 6.3 , 5.5 , 5.32, 6.64, 5.4 ,\n",
       "       6.67, 5.67, 6.59, 5.42, 6.08, 5.15, 5.77, 5.59, 6.03, 5.06, 6.4 ,\n",
       "       5.16, 6.06, 6.55, 5.11, 6.89, 5.2 , 5.67, 5.88, 6.49, 5.  , 6.03,\n",
       "       6.6 , 5.39, 6.43, 5.57, 4.96, 5.17, 5.19, 5.42, 5.12, 5.89, 4.48,\n",
       "       5.49, 5.16, 5.11, 5.74, 6.51, 5.36, 6.67, 5.77, 5.24, 5.25, 5.3 ,\n",
       "       6.35, 5.03, 6.5 , 5.03, 5.22, 6.14, 5.43, 5.26, 5.03, 5.83, 6.07,\n",
       "       5.69, 5.95, 5.37, 5.71, 5.13, 6.31, 5.47, 5.27, 5.61, 5.77, 5.34,\n",
       "       5.01, 6.3 , 5.74, 5.04, 4.98, 5.46, 5.1 , 5.78, 6.59, 6.35, 6.52,\n",
       "       5.34, 5.55, 5.1 , 5.61, 5.67, 5.51, 5.07, 5.83, 6.28, 5.39, 5.23,\n",
       "       5.77, 5.4 , 5.64, 6.49, 5.19, 5.95, 6.04, 5.48, 6.32, 5.1 , 5.34,\n",
       "       5.72, 5.55, 5.08, 4.76, 5.17, 5.1 , 4.94, 6.29, 5.28, 6.44, 5.76,\n",
       "       6.27, 5.13, 5.31, 5.01, 4.76, 5.98, 5.52, 6.31, 5.04, 6.53, 5.77,\n",
       "       5.86, 6.79, 5.28, 5.63, 6.02, 5.13, 6.29, 5.69, 5.03, 4.68, 5.77,\n",
       "       5.29, 6.67, 5.17, 5.53, 5.34, 5.02, 6.59, 5.4 , 5.07, 5.  , 5.84,\n",
       "       6.11, 7.32, 5.02, 5.18, 6.82, 6.07, 5.49, 5.85, 4.93, 5.92, 5.74,\n",
       "       5.72, 6.1 , 6.21, 6.11, 4.91, 5.04, 5.23, 6.97, 5.39, 5.46, 5.33,\n",
       "       4.85, 6.46, 5.94, 5.06, 6.67, 5.03, 5.88, 5.79, 5.13, 5.3 , 5.02,\n",
       "       5.73, 6.65, 5.53, 6.53, 5.67, 5.67, 6.56, 5.  , 5.79, 5.5 , 5.45,\n",
       "       5.72, 5.06, 5.31, 5.46, 5.32, 5.82, 6.27, 6.58, 5.6 , 5.13, 6.44,\n",
       "       6.01, 6.54, 5.57, 5.22, 5.97, 6.18, 5.03, 5.84, 5.35, 5.73, 5.75,\n",
       "       5.34, 5.63, 6.98, 6.49, 5.94, 6.98, 5.18, 5.47, 5.34, 5.58, 6.48,\n",
       "       5.05, 6.35, 5.42, 5.94, 5.47, 6.86, 6.28, 5.2 , 5.21, 6.29, 5.31,\n",
       "       6.85, 6.25, 6.11, 5.01, 5.03, 6.28, 5.27, 5.78, 5.36, 6.19, 5.96,\n",
       "       5.59, 7.01, 5.4 , 5.3 , 5.65, 5.58, 5.58, 5.81, 5.02, 5.1 , 6.45,\n",
       "       5.13])"
      ]
     },
     "execution_count": 10,
     "metadata": {},
     "output_type": "execute_result"
    }
   ],
   "source": [
    "y_pred = model.predict(X_test)\n",
    "y_pred"
   ]
  },
  {
   "cell_type": "markdown",
   "id": "f1649c36",
   "metadata": {
    "papermill": {
     "duration": 0.01329,
     "end_time": "2023-01-04T15:32:25.436427",
     "exception": false,
     "start_time": "2023-01-04T15:32:25.423137",
     "status": "completed"
    },
    "tags": []
   },
   "source": [
    "Após utilizado os dados de teste para fazer as suas predições podemos verificar o error do modelo nesses dados, para isso será utilizado o y_test, o y_pred para encontrar o mean squared error. Ele faz isso comparando os valores reais (y_test), dos valores previstos (y_pred). "
   ]
  },
  {
   "cell_type": "markdown",
   "id": "b25c6a7a",
   "metadata": {
    "papermill": {
     "duration": 0.009418,
     "end_time": "2023-01-04T15:32:25.459519",
     "exception": false,
     "start_time": "2023-01-04T15:32:25.450101",
     "status": "completed"
    },
    "tags": []
   },
   "source": [
    "A escolha do MSE ao invés do MAE foi pelo fato do MSE conseguir descrever melhor os dados, apesar de ser mais sensível a grandes variações de dados que o MAE, o MSE consegue demonstrar de maneira mais simples o comportamento do modelo, e como o DataSet utilizado não possue variações muito grandes dos dados acredito que irá se encaixar melhor no meu modelo. "
   ]
  },
  {
   "cell_type": "code",
   "execution_count": 11,
   "id": "f95a550a",
   "metadata": {
    "execution": {
     "iopub.execute_input": "2023-01-04T15:32:25.480749Z",
     "iopub.status.busy": "2023-01-04T15:32:25.480249Z",
     "iopub.status.idle": "2023-01-04T15:32:25.489379Z",
     "shell.execute_reply": "2023-01-04T15:32:25.487626Z"
    },
    "papermill": {
     "duration": 0.023278,
     "end_time": "2023-01-04T15:32:25.492204",
     "exception": false,
     "start_time": "2023-01-04T15:32:25.468926",
     "status": "completed"
    },
    "tags": []
   },
   "outputs": [
    {
     "name": "stdout",
     "output_type": "stream",
     "text": [
      "Mean Squared Error: 0.31\n"
     ]
    }
   ],
   "source": [
    "mse = mean_squared_error(y_test, y_pred)\n",
    "print(f'Mean Squared Error: {mse:.2f}')"
   ]
  },
  {
   "cell_type": "markdown",
   "id": "997ae582",
   "metadata": {
    "papermill": {
     "duration": 0.010507,
     "end_time": "2023-01-04T15:32:25.513244",
     "exception": false,
     "start_time": "2023-01-04T15:32:25.502737",
     "status": "completed"
    },
    "tags": []
   },
   "source": [
    "Podemos ver que com o MAE o erro cresce significamente, acredito que isso seja pelo fato dos erros não serem interpretados da maneira adequada, sendo feita um média, portanto valores muito extremos não afetam tanto essa métrica. Como o Dataset utilizado não possue valores extremos acredito que o MAE não seria a melhor forma de avaliar o modelo."
   ]
  },
  {
   "cell_type": "code",
   "execution_count": 12,
   "id": "40a56301",
   "metadata": {
    "execution": {
     "iopub.execute_input": "2023-01-04T15:32:25.537989Z",
     "iopub.status.busy": "2023-01-04T15:32:25.537522Z",
     "iopub.status.idle": "2023-01-04T15:32:25.544498Z",
     "shell.execute_reply": "2023-01-04T15:32:25.543239Z"
    },
    "papermill": {
     "duration": 0.024342,
     "end_time": "2023-01-04T15:32:25.547457",
     "exception": false,
     "start_time": "2023-01-04T15:32:25.523115",
     "status": "completed"
    },
    "tags": []
   },
   "outputs": [
    {
     "name": "stdout",
     "output_type": "stream",
     "text": [
      "Mean Absolute Error: 0.42\n"
     ]
    }
   ],
   "source": [
    "mae = mean_absolute_error(y_test, y_pred)\n",
    "print(f'Mean Absolute Error: {mae:.2f}')"
   ]
  },
  {
   "cell_type": "markdown",
   "id": "3f67d055",
   "metadata": {
    "papermill": {
     "duration": 0.009203,
     "end_time": "2023-01-04T15:32:25.566092",
     "exception": false,
     "start_time": "2023-01-04T15:32:25.556889",
     "status": "completed"
    },
    "tags": []
   },
   "source": [
    "Para finalizar devemos subir o modelo para o Hugginfaces, primeiramente devemos criar o pickle do modelo, uma vez feito isso basta baixar o arquivo e subir manualmente para o hugginfaces, o espaço está disponível na seguinte URL: https://huggingface.co/spaces/DanielViniciusAlves/AM_Lesson_3"
   ]
  },
  {
   "cell_type": "code",
   "execution_count": 13,
   "id": "9ae450c0",
   "metadata": {
    "execution": {
     "iopub.execute_input": "2023-01-04T15:32:25.589202Z",
     "iopub.status.busy": "2023-01-04T15:32:25.588708Z",
     "iopub.status.idle": "2023-01-04T15:32:25.617181Z",
     "shell.execute_reply": "2023-01-04T15:32:25.616012Z"
    },
    "papermill": {
     "duration": 0.043133,
     "end_time": "2023-01-04T15:32:25.619751",
     "exception": false,
     "start_time": "2023-01-04T15:32:25.576618",
     "status": "completed"
    },
    "tags": []
   },
   "outputs": [],
   "source": [
    "import pickle\n",
    "\n",
    "# Carregar o modelo treinado\n",
    "with open(\"model.pkl\", \"wb\") as f:\n",
    "    pickle.dump(model, f)"
   ]
  }
 ],
 "metadata": {
  "kernelspec": {
   "display_name": "Python 3",
   "language": "python",
   "name": "python3"
  },
  "language_info": {
   "codemirror_mode": {
    "name": "ipython",
    "version": 3
   },
   "file_extension": ".py",
   "mimetype": "text/x-python",
   "name": "python",
   "nbconvert_exporter": "python",
   "pygments_lexer": "ipython3",
   "version": "3.7.12"
  },
  "papermill": {
   "default_parameters": {},
   "duration": 14.998741,
   "end_time": "2023-01-04T15:32:26.655259",
   "environment_variables": {},
   "exception": null,
   "input_path": "__notebook__.ipynb",
   "output_path": "__notebook__.ipynb",
   "parameters": {},
   "start_time": "2023-01-04T15:32:11.656518",
   "version": "2.3.4"
  }
 },
 "nbformat": 4,
 "nbformat_minor": 5
}
