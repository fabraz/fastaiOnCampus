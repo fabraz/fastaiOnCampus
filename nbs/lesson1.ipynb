{
 "cells": [
  {
   "attachments": {},
   "cell_type": "markdown",
   "metadata": {},
   "source": [
    "## Machine Learning with FastAI, Lesson 1 \n",
    "#### Bruno Martins Valério Bomfim, 211039297"
   ]
  },
  {
   "attachments": {},
   "cell_type": "markdown",
   "metadata": {},
   "source": [
    "### Purpose\n",
    "\n",
    "This articles aims to introduce fundamental concepts of Artificial Intelligence, Machine Learning and Deep Learning through a simple model that can differ images of musical instruments (violin and cello).\n"
   ]
  },
  {
   "attachments": {},
   "cell_type": "markdown",
   "metadata": {},
   "source": [
    "## Step 1: Collecting data"
   ]
  },
  {
   "cell_type": "code",
   "execution_count": 2,
   "metadata": {
    "_kg_hide-input": true,
    "execution": {
     "iopub.execute_input": "2022-08-15T20:17:04.165128Z",
     "iopub.status.busy": "2022-08-15T20:17:04.164811Z",
     "iopub.status.idle": "2022-08-15T20:17:04.171Z",
     "shell.execute_reply": "2022-08-15T20:17:04.170146Z",
     "shell.execute_reply.started": "2022-08-15T20:17:04.165074Z"
    }
   },
   "outputs": [],
   "source": [
    "from duckduckgo_search import ddg_images\n",
    "from fastcore.all import *\n",
    "\n",
    "def search_images(term, max_images=30):\n",
    "    print(f\"Searching for '{term}'\")\n",
    "    return L(ddg_images(term, max_results=max_images)).itemgot('image')"
   ]
  },
  {
   "attachments": {},
   "cell_type": "markdown",
   "metadata": {},
   "source": [
    "Let's start by searching for photos of violins and cellos."
   ]
  },
  {
   "cell_type": "code",
   "execution_count": 3,
   "metadata": {
    "execution": {
     "iopub.execute_input": "2022-08-15T20:17:07.594354Z",
     "iopub.status.busy": "2022-08-15T20:17:07.593689Z",
     "iopub.status.idle": "2022-08-15T20:19:01.592018Z",
     "shell.execute_reply": "2022-08-15T20:19:01.591029Z",
     "shell.execute_reply.started": "2022-08-15T20:17:07.594316Z"
    }
   },
   "outputs": [
    {
     "name": "stdout",
     "output_type": "stream",
     "text": [
      "Searching for 'violin photo'\n",
      "Searching for 'violin sun photo'\n",
      "Searching for 'violin shade photo'\n"
     ]
    },
    {
     "name": "stderr",
     "output_type": "stream",
     "text": [
      "/home/bruno/Documents/Coding/venv/lib/python3.10/site-packages/PIL/Image.py:992: UserWarning: Palette images with Transparency expressed in bytes should be converted to RGBA images\n",
      "  warnings.warn(\n"
     ]
    },
    {
     "name": "stdout",
     "output_type": "stream",
     "text": [
      "Searching for 'cello photo'\n",
      "Searching for 'cello sun photo'\n",
      "Searching for 'cello shade photo'\n"
     ]
    }
   ],
   "source": [
    "from time import sleep\n",
    "from fastai.vision.all import *\n",
    "\n",
    "searches = 'violin','cello'\n",
    "path = Path('images')\n",
    "\n",
    "for s in searches:\n",
    "    dest = (path/s)\n",
    "    dest.mkdir(exist_ok=True, parents=True)\n",
    "    download_images(dest, urls=search_images(f'{s} photo'))\n",
    "    sleep(10)\n",
    "    download_images(dest, urls=search_images(f'{s} sun photo'))\n",
    "    sleep(10)\n",
    "    download_images(dest, urls=search_images(f'{s} shade photo'))\n",
    "    sleep(10)\n",
    "    resize_images(path/s, max_size=400, dest=path/s)"
   ]
  },
  {
   "attachments": {},
   "cell_type": "markdown",
   "metadata": {},
   "source": [
    "## Step 2: Training the model"
   ]
  },
  {
   "attachments": {},
   "cell_type": "markdown",
   "metadata": {},
   "source": [
    "Removing photos that might not be downloaded correctly."
   ]
  },
  {
   "cell_type": "code",
   "execution_count": 4,
   "metadata": {
    "execution": {
     "iopub.execute_input": "2022-08-15T20:19:04.404678Z",
     "iopub.status.busy": "2022-08-15T20:19:04.404342Z",
     "iopub.status.idle": "2022-08-15T20:19:05.39286Z",
     "shell.execute_reply": "2022-08-15T20:19:05.392068Z",
     "shell.execute_reply.started": "2022-08-15T20:19:04.404644Z"
    }
   },
   "outputs": [
    {
     "data": {
      "text/plain": [
       "2"
      ]
     },
     "execution_count": 4,
     "metadata": {},
     "output_type": "execute_result"
    }
   ],
   "source": [
    "failed = verify_images(get_image_files(path))\n",
    "failed.map(Path.unlink)\n",
    "len(failed)"
   ]
  },
  {
   "cell_type": "markdown",
   "metadata": {},
   "source": [
    "To train a model, we'll need `DataLoaders`, which is an object that contains a *training set* (the images used to create a model) and a *validation set* (the images used to check the accuracy of a model -- not used during training). In `fastai` we can create that easily using a `DataBlock`, and view sample images from it:"
   ]
  },
  {
   "cell_type": "code",
   "execution_count": null,
   "metadata": {
    "execution": {
     "iopub.execute_input": "2022-08-15T20:19:14.915511Z",
     "iopub.status.busy": "2022-08-15T20:19:14.91491Z",
     "iopub.status.idle": "2022-08-15T20:19:15.716279Z",
     "shell.execute_reply": "2022-08-15T20:19:15.715544Z",
     "shell.execute_reply.started": "2022-08-15T20:19:14.915472Z"
    }
   },
   "outputs": [],
   "source": [
    "dls = DataBlock(\n",
    "    blocks=(ImageBlock, CategoryBlock), \n",
    "    get_items=get_image_files, \n",
    "    splitter=RandomSplitter(valid_pct=0.2, seed=42),\n",
    "    get_y=parent_label,\n",
    "    item_tfms=[Resize(192, method='squish')]\n",
    ").dataloaders(path, bs=32)\n",
    "\n",
    "dls.show_batch(max_n=6)"
   ]
  },
  {
   "cell_type": "markdown",
   "metadata": {},
   "source": [
    "Here what each of the `DataBlock` parameters means:\n",
    "\n",
    "    blocks=(ImageBlock, CategoryBlock),\n",
    "\n",
    "The inputs to our model are images, and the outputs are categories (in this case, \"bird\" or \"forest\").\n",
    "\n",
    "    get_items=get_image_files, \n",
    "\n",
    "To find all the inputs to our model, run the `get_image_files` function (which returns a list of all image files in a path).\n",
    "\n",
    "    splitter=RandomSplitter(valid_pct=0.2, seed=42),\n",
    "\n",
    "Split the data into training and validation sets randomly, using 20% of the data for the validation set.\n",
    "\n",
    "    get_y=parent_label,\n",
    "\n",
    "The labels (`y` values) is the name of the `parent` of each file (i.e. the name of the folder they're in, which will be *bird* or *forest*).\n",
    "\n",
    "    item_tfms=[Resize(192, method='squish')]\n",
    "\n",
    "Before training, resize each image to 192x192 pixels by \"squishing\" it (as opposed to cropping it)."
   ]
  },
  {
   "cell_type": "markdown",
   "metadata": {},
   "source": [
    "Now we're ready to train our model. The fastest widely used computer vision model is `resnet18`. You can train this in a few minutes, even on a CPU! (On a GPU, it generally takes under 10 seconds...)\n",
    "\n",
    "`fastai` comes with a helpful `fine_tune()` method which automatically uses best practices for fine tuning a pre-trained model, so we'll use that."
   ]
  },
  {
   "cell_type": "code",
   "execution_count": null,
   "metadata": {
    "execution": {
     "iopub.execute_input": "2022-08-15T20:19:19.954102Z",
     "iopub.status.busy": "2022-08-15T20:19:19.95376Z",
     "iopub.status.idle": "2022-08-15T20:19:28.933948Z",
     "shell.execute_reply": "2022-08-15T20:19:28.933106Z",
     "shell.execute_reply.started": "2022-08-15T20:19:19.954048Z"
    }
   },
   "outputs": [],
   "source": [
    "learn = vision_learner(dls, resnet18, metrics=error_rate)\n",
    "learn.fine_tune(3)"
   ]
  },
  {
   "cell_type": "markdown",
   "metadata": {},
   "source": [
    "Generally when I run this I see 100% accuracy on the validation set (although it might vary a bit from run to run).\n",
    "\n",
    "\"Fine-tuning\" a model means that we're starting with a model someone else has trained using some other dataset (called the *pretrained model*), and adjusting the weights a little bit so that the model learns to recognise your particular dataset. In this case, the pretrained model was trained to recognise photos in *imagenet*, and widely-used computer vision dataset with images covering 1000 categories) For details on fine-tuning and why it's important, check out the [free fast.ai course](https://course.fast.ai/)."
   ]
  },
  {
   "cell_type": "markdown",
   "metadata": {},
   "source": [
    "## Step 3: Use our model (and build your own!)"
   ]
  },
  {
   "cell_type": "markdown",
   "metadata": {},
   "source": [
    "Let's see what our model thinks about that bird we downloaded at the start:"
   ]
  },
  {
   "cell_type": "code",
   "execution_count": null,
   "metadata": {
    "execution": {
     "iopub.execute_input": "2022-08-15T20:19:28.940392Z",
     "iopub.status.busy": "2022-08-15T20:19:28.938464Z",
     "iopub.status.idle": "2022-08-15T20:19:29.36432Z",
     "shell.execute_reply": "2022-08-15T20:19:29.363513Z",
     "shell.execute_reply.started": "2022-08-15T20:19:28.940353Z"
    }
   },
   "outputs": [],
   "source": [
    "is_bird,_,probs = learn.predict(PILImage.create('bird.jpg'))\n",
    "print(f\"This is a: {is_bird}.\")\n",
    "print(f\"Probability it's a bird: {probs[0]:.4f}\")"
   ]
  },
  {
   "cell_type": "markdown",
   "metadata": {},
   "source": [
    "Good job, resnet18. :)\n",
    "\n",
    "So, as you see, in the space of a few years, creating computer vision classification models has gone from \"so hard it's a joke\" to \"trivially easy and free\"!\n",
    "\n",
    "It's not just in computer vision. Thanks to deep learning, computers can now do many things which seemed impossible just a few years ago, including [creating amazing artworks](https://openai.com/dall-e-2/), and [explaining jokes](https://www.datanami.com/2022/04/22/googles-massive-new-language-model-can-explain-jokes/). It's moving so fast that even experts in the field have trouble predicting how it's going to impact society in the coming years.\n",
    "\n",
    "One thing is clear -- it's important that we all do our best to understand this technology, because otherwise we'll get left behind!"
   ]
  },
  {
   "cell_type": "markdown",
   "metadata": {},
   "source": [
    "Now it's your turn. Click \"Copy & Edit\" and try creating your own image classifier using your own image searches!\n",
    "\n",
    "If you enjoyed this, please consider clicking the \"upvote\" button in the top-right -- it's very encouraging to us notebook authors to know when people appreciate our work."
   ]
  }
 ],
 "metadata": {
  "kernelspec": {
   "display_name": "Python 3 (ipykernel)",
   "language": "python",
   "name": "python3"
  },
  "language_info": {
   "codemirror_mode": {
    "name": "ipython",
    "version": 3
   },
   "file_extension": ".py",
   "mimetype": "text/x-python",
   "name": "python",
   "nbconvert_exporter": "python",
   "pygments_lexer": "ipython3",
   "version": "3.10.6"
  }
 },
 "nbformat": 4,
 "nbformat_minor": 4
}
