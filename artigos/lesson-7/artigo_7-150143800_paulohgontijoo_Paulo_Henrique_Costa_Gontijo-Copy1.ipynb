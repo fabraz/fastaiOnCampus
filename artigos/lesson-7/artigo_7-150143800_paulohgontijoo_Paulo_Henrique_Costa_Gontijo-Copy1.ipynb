{
 "cells": [
  {
   "cell_type": "markdown",
   "metadata": {
    "id": "gDzs3rQ9zyqM"
   },
   "source": [
    "# Artigo 7\n",
    "* Aluno: Paulo Henrique Costa Gontijo\n",
    "* Matrícula: 15/0143800\n",
    "* Lição: **\n",
    "* Notebooks: \n",
    "  * **\n",
    "  * **\n",
    "\n",
    "| Hitórico de versão | Data |\n",
    "|:--------------------:|:------:|\n",
    "| v1 | 24/01/2023 |\n",
    "\n",
    "## Propósito\n",
    "Este artigo tem a intenção de documentar o passo a passo da quarta lição do curso, mostrando os blocos de códigos, o resultado das execuções, eventuais problemas encontrados e, se houver, as possíveis soluções para os problemas.\n",
    "\n",
    "## Tema\n",
    "A lição X do curso FastAi\n",
    "\n",
    "> Caso tenha problemas para ver os gráficos, acesse este link para [nbviewer](https://nbviewer.org/github/paulohgontijoo/fastaiOnCampus/blob/main/artigos/lesson-7/150143800_paulohgontijoo_Paulo_Henrique_Costa_Gontijo.ipynb)."
   ]
  },
  {
   "cell_type": "code",
   "execution_count": 1,
   "metadata": {
    "pycharm": {
     "name": "#%%\n"
    }
   },
   "outputs": [],
   "source": [
    "import fastbook\n",
    "fastbook.setup_book()"
   ]
  },
  {
   "cell_type": "markdown",
   "metadata": {
    "id": "tXs8KnlL8xD2"
   },
   "source": [
    "## Importação das Bibliotecas"
   ]
  },
  {
   "cell_type": "code",
   "execution_count": 2,
   "metadata": {},
   "outputs": [],
   "source": [
    "import os\n",
    "import pandas as pd\n",
    "\n",
    "file_name = 'train.jsonl'\n",
    "file_path = '/'.join([os.getcwd(), file_name])"
   ]
  },
  {
   "cell_type": "code",
   "execution_count": 3,
   "metadata": {},
   "outputs": [
    {
     "name": "stdout",
     "output_type": "stream",
     "text": [
      "23/01/25 22:03:13 WARN Utils: Your hostname, gobellek-B660M-DS3H-DDR4 resolves to a loopback address: 127.0.1.1; using 192.168.0.37 instead (on interface enp3s0)\n",
      "23/01/25 22:03:13 WARN Utils: Set SPARK_LOCAL_IP if you need to bind to another address\n"
     ]
    },
    {
     "name": "stderr",
     "output_type": "stream",
     "text": [
      "Setting default log level to \"WARN\".\n",
      "To adjust logging level use sc.setLogLevel(newLevel). For SparkR, use setLogLevel(newLevel).\n"
     ]
    },
    {
     "name": "stdout",
     "output_type": "stream",
     "text": [
      "23/01/25 22:03:14 WARN NativeCodeLoader: Unable to load native-hadoop library for your platform... using builtin-java classes where applicable\n",
      "[('spark.app.submitTime', '1674694994118'), ('spark.app.name', 'otto-reccomender-competition-kaggle'), ('spark.sql.execution.arrow.pyspark.fallback.enabled', 'true'), ('spark.sql.catalogImplementation', 'hive'), ('spark.driver.maxResultSize', '20g'), ('spark.master', 'local[*]'), ('spark.submit.pyFiles', ''), ('spark.submit.deployMode', 'client'), ('spark.sql.warehouse.dir', '/home/gobellek/Documents/UnB/mlops/fastaiOnCampus/artigos/lesson-7/spark-warehouse'), ('spark.ui.showConsoleProgress', 'true'), ('spark.sql.execution.arrow.pyspark.enabled', 'true')]\n"
     ]
    }
   ],
   "source": [
    "from pyspark.sql import SparkSession\n",
    "from pyspark import SparkConf\n",
    "from os.path import abspath\n",
    "\n",
    "warehouse_location = abspath('spark-warehouse')\n",
    "\n",
    "    # init session\n",
    "spark = SparkSession \\\n",
    "        .builder \\\n",
    "        .appName(\"otto-reccomender-competition-kaggle\") \\\n",
    "        .config(\"spark.sql.warehouse.dir\", abspath('spark-warehouse')) \\\n",
    "        .config(\"spark.sql.execution.arrow.pyspark.enabled\", \"true\")\\\n",
    "        .config(\"spark.sql.execution.arrow.pyspark.fallback.enabled\", \"true\")\\\n",
    "        .config(\"spark.driver.maxResultSize\", \"20g\")\\\n",
    "        .enableHiveSupport() \\\n",
    "        .getOrCreate()\n",
    "\n",
    "# show configured parameters\n",
    "print(SparkConf().getAll())\n",
    "\n",
    "# set log level\n",
    "spark.sparkContext.setLogLevel(\"WARN\")"
   ]
  },
  {
   "cell_type": "code",
   "execution_count": 4,
   "metadata": {},
   "outputs": [
    {
     "data": {
      "text/html": [
       "\n",
       "            <div>\n",
       "                <p><b>SparkSession - hive</b></p>\n",
       "                \n",
       "        <div>\n",
       "            <p><b>SparkContext</b></p>\n",
       "\n",
       "            <p><a href=\"http://192.168.0.37:4040\">Spark UI</a></p>\n",
       "\n",
       "            <dl>\n",
       "              <dt>Version</dt>\n",
       "                <dd><code>v3.3.1</code></dd>\n",
       "              <dt>Master</dt>\n",
       "                <dd><code>local[*]</code></dd>\n",
       "              <dt>AppName</dt>\n",
       "                <dd><code>otto-reccomender-competition-kaggle</code></dd>\n",
       "            </dl>\n",
       "        </div>\n",
       "        \n",
       "            </div>\n",
       "        "
      ],
      "text/plain": [
       "<pyspark.sql.session.SparkSession at 0x7f4f6aa624d0>"
      ]
     },
     "execution_count": 4,
     "metadata": {},
     "output_type": "execute_result"
    }
   ],
   "source": [
    "spark"
   ]
  },
  {
   "cell_type": "code",
   "execution_count": 5,
   "metadata": {
    "pycharm": {
     "name": "#%%\n"
    }
   },
   "outputs": [
    {
     "name": "stderr",
     "output_type": "stream",
     "text": [
      "WARNING:root:'PYARROW_IGNORE_TIMEZONE' environment variable was not set. It is required to set this environment variable to '1' in both driver and executor sides if you use pyarrow>=2.0.0. pandas-on-Spark will set it for you but it does not work if there is a Spark context already launched.\n"
     ]
    }
   ],
   "source": [
    "import pyspark.pandas as ps\n",
    "ps.set_option('compute.ops_on_diff_frames', True)"
   ]
  },
  {
   "cell_type": "code",
   "execution_count": 6,
   "metadata": {},
   "outputs": [
    {
     "name": "stderr",
     "output_type": "stream",
     "text": [
      "                                                                                \r"
     ]
    },
    {
     "data": {
      "text/plain": [
       "['events', 'session']"
      ]
     },
     "execution_count": 6,
     "metadata": {},
     "output_type": "execute_result"
    }
   ],
   "source": [
    "df_raw = spark.read \\\n",
    "    .format(\"json\") \\\n",
    "    .option(\"inferSchema\", \"true\") \\\n",
    "    .option(\"header\", \"true\") \\\n",
    "    .json(file_path)\n",
    "df_raw.columns"
   ]
  },
  {
   "cell_type": "code",
   "execution_count": 7,
   "metadata": {},
   "outputs": [
    {
     "name": "stdout",
     "output_type": "stream",
     "text": [
      "85\n"
     ]
    }
   ],
   "source": [
    "print(df_raw.rdd.getNumPartitions())"
   ]
  },
  {
   "cell_type": "code",
   "execution_count": 8,
   "metadata": {},
   "outputs": [
    {
     "name": "stdout",
     "output_type": "stream",
     "text": [
      "+--------------------+-------+\n",
      "|              events|session|\n",
      "+--------------------+-------+\n",
      "|[{1517085, 165930...|      0|\n",
      "|[{424964, 1659304...|      1|\n",
      "|[{763743, 1659304...|      2|\n",
      "|[{1425967, 165930...|      3|\n",
      "|[{613619, 1659304...|      4|\n",
      "|[{1098089, 165930...|      5|\n",
      "|[{137164, 1659304...|      6|\n",
      "|[{87774, 16593048...|      7|\n",
      "|[{1814223, 165930...|      8|\n",
      "|[{847707, 1659304...|      9|\n",
      "+--------------------+-------+\n",
      "only showing top 10 rows\n",
      "\n"
     ]
    }
   ],
   "source": [
    "df_raw.show(10)"
   ]
  },
  {
   "cell_type": "code",
   "execution_count": 9,
   "metadata": {},
   "outputs": [
    {
     "name": "stderr",
     "output_type": "stream",
     "text": [
      "                                                                                \r"
     ]
    },
    {
     "data": {
      "text/plain": [
       "12899779"
      ]
     },
     "execution_count": 9,
     "metadata": {},
     "output_type": "execute_result"
    }
   ],
   "source": [
    "df_raw.count()"
   ]
  },
  {
   "cell_type": "code",
   "execution_count": 10,
   "metadata": {},
   "outputs": [
    {
     "name": "stdout",
     "output_type": "stream",
     "text": [
      "root\n",
      " |-- events: array (nullable = true)\n",
      " |    |-- element: struct (containsNull = true)\n",
      " |    |    |-- aid: long (nullable = true)\n",
      " |    |    |-- ts: long (nullable = true)\n",
      " |    |    |-- type: string (nullable = true)\n",
      " |-- session: long (nullable = true)\n",
      "\n"
     ]
    }
   ],
   "source": [
    "df_raw.printSchema()"
   ]
  },
  {
   "cell_type": "code",
   "execution_count": 11,
   "metadata": {
    "pycharm": {
     "name": "#%%\n"
    }
   },
   "outputs": [
    {
     "name": "stdout",
     "output_type": "stream",
     "text": [
      "+-------+-------+-------------+------+\n",
      "|session|    aid|           ts|  type|\n",
      "+-------+-------+-------------+------+\n",
      "|      0|1517085|1659304800025|clicks|\n",
      "|      0|1563459|1659304904511|clicks|\n",
      "|      0|1309446|1659367439426|clicks|\n",
      "|      0|  16246|1659367719997|clicks|\n",
      "|      0|1781822|1659367871344|clicks|\n",
      "|      0|1152674|1659367885796|clicks|\n",
      "|      0|1649869|1659369893840| carts|\n",
      "|      0| 461689|1659369898050| carts|\n",
      "|      0| 305831|1659370027105|orders|\n",
      "|      0| 461689|1659370027105|orders|\n",
      "+-------+-------+-------------+------+\n",
      "only showing top 10 rows\n",
      "\n"
     ]
    }
   ],
   "source": [
    "from pyspark.sql import functions as F\n",
    "from pyspark.sql import types as T\n",
    "df_explode = df_raw.withColumn('events_explode', F.explode('events'))\\\n",
    "                    .withColumn('session', F.col('session').cast(T.IntegerType()))\\\n",
    "                    .withColumn('aid', F.col('events_explode.aid').cast(T.IntegerType()))\\\n",
    "                    .withColumn('ts', F.col('events_explode.ts'))\\\n",
    "                    .withColumn('type', F.col('events_explode.type'))\\\n",
    "                    .drop('events', 'events_explode')\n",
    "df_explode.show(10)"
   ]
  },
  {
   "cell_type": "code",
   "execution_count": 12,
   "metadata": {
    "pycharm": {
     "name": "#%%\n"
    }
   },
   "outputs": [
    {
     "name": "stderr",
     "output_type": "stream",
     "text": [
      "                                                                                \r"
     ]
    },
    {
     "data": {
      "text/plain": [
       "216716096"
      ]
     },
     "execution_count": 12,
     "metadata": {},
     "output_type": "execute_result"
    }
   ],
   "source": [
    "df_explode.count()"
   ]
  },
  {
   "cell_type": "code",
   "execution_count": 13,
   "metadata": {
    "pycharm": {
     "name": "#%%\n"
    }
   },
   "outputs": [
    {
     "name": "stdout",
     "output_type": "stream",
     "text": [
      "root\n",
      " |-- session: integer (nullable = true)\n",
      " |-- aid: integer (nullable = true)\n",
      " |-- ts: long (nullable = true)\n",
      " |-- type: string (nullable = true)\n",
      "\n"
     ]
    }
   ],
   "source": [
    "df_explode.printSchema()"
   ]
  },
  {
   "cell_type": "code",
   "execution_count": 14,
   "metadata": {
    "pycharm": {
     "name": "#%%\n"
    }
   },
   "outputs": [
    {
     "name": "stderr",
     "output_type": "stream",
     "text": [
      "[Stage 9:======================================================>  (81 + 4) / 85]\r"
     ]
    },
    {
     "name": "stdout",
     "output_type": "stream",
     "text": [
      "+-------+-------+-------------+--------+\n",
      "|session|    aid|           ts|type_cat|\n",
      "+-------+-------+-------------+--------+\n",
      "|      0|1517085|1659304800025|       0|\n",
      "|      0|1563459|1659304904511|       0|\n",
      "|      0|1309446|1659367439426|       0|\n",
      "|      0|  16246|1659367719997|       0|\n",
      "|      0|1781822|1659367871344|       0|\n",
      "|      0|1152674|1659367885796|       0|\n",
      "|      0|1649869|1659369893840|       1|\n",
      "|      0| 461689|1659369898050|       1|\n",
      "|      0| 305831|1659370027105|       2|\n",
      "|      0| 461689|1659370027105|       2|\n",
      "+-------+-------+-------------+--------+\n",
      "only showing top 10 rows\n",
      "\n"
     ]
    },
    {
     "name": "stderr",
     "output_type": "stream",
     "text": [
      "\r",
      "                                                                                \r"
     ]
    }
   ],
   "source": [
    "from pyspark.ml.feature import StringIndexer\n",
    "indexer = StringIndexer(inputCol='type', outputCol='type_cat')\n",
    "indexer_fitted = indexer.fit(df_explode)\n",
    "df_indexed = indexer_fitted.transform(df_explode)\n",
    "df_indexed = df_indexed.withColumn('type_cat', F.col('type_cat').cast(T.IntegerType())).drop('type')\n",
    "df_indexed.show(10)"
   ]
  },
  {
   "cell_type": "code",
   "execution_count": 15,
   "metadata": {
    "pycharm": {
     "name": "#%%\n"
    }
   },
   "outputs": [
    {
     "name": "stdout",
     "output_type": "stream",
     "text": [
      "root\n",
      " |-- session: integer (nullable = true)\n",
      " |-- aid: integer (nullable = true)\n",
      " |-- ts: long (nullable = true)\n",
      " |-- type_cat: integer (nullable = true)\n",
      "\n"
     ]
    }
   ],
   "source": [
    "df_indexed.printSchema()"
   ]
  },
  {
   "cell_type": "code",
   "execution_count": 16,
   "metadata": {
    "pycharm": {
     "name": "#%%\n"
    }
   },
   "outputs": [
    {
     "name": "stderr",
     "output_type": "stream",
     "text": [
      "                                                                                \r"
     ]
    },
    {
     "name": "stdout",
     "output_type": "stream",
     "text": [
      "+-------+-----------------+-----------------+--------------------+-------------------+\n",
      "|summary|          session|              aid|                  ts|           type_cat|\n",
      "+-------+-----------------+-----------------+--------------------+-------------------+\n",
      "|  count|        216716096|        216716096|           216716096|          216716096|\n",
      "|   mean|4702787.036247751|928805.2291050315|1.660533052633671...|0.12502113825453925|\n",
      "| stddev|3664999.505174937|536691.7477821864| 6.961450277103137E8|0.39553426995921603|\n",
      "|    min|                0|                0|       1659304800025|                  0|\n",
      "|    max|         12899778|          1855602|       1661723999984|                  2|\n",
      "+-------+-----------------+-----------------+--------------------+-------------------+\n",
      "\n"
     ]
    }
   ],
   "source": [
    "df_indexed.describe().show()"
   ]
  },
  {
   "cell_type": "code",
   "execution_count": 17,
   "metadata": {
    "pycharm": {
     "name": "#%%\n"
    }
   },
   "outputs": [
    {
     "name": "stderr",
     "output_type": "stream",
     "text": [
      "[Stage 16:======================================================> (82 + 3) / 85]\r"
     ]
    },
    {
     "name": "stdout",
     "output_type": "stream",
     "text": [
      "+-------+-------+-------------+--------+--------------+\n",
      "|session|    aid|           ts|type_cat|type_cat_shift|\n",
      "+-------+-------+-------------+--------+--------------+\n",
      "|     31| 345693|1659304800492|       0|             0|\n",
      "|     31|  33118|1659304813824|       0|             0|\n",
      "|     31| 208146|1659304918011|       0|             0|\n",
      "|     31| 360813|1659305016995|       0|             0|\n",
      "|     31|1468793|1659305042993|       0|             0|\n",
      "|     31|1269912|1659305184073|       0|          null|\n",
      "|     85| 578262|1659304801249|       0|             0|\n",
      "|     85|1031830|1659304813663|       0|             0|\n",
      "|     85| 852259|1659304849591|       0|             0|\n",
      "|     85|1018892|1659553248642|       0|             0|\n",
      "+-------+-------+-------------+--------+--------------+\n",
      "only showing top 10 rows\n",
      "\n"
     ]
    },
    {
     "name": "stderr",
     "output_type": "stream",
     "text": [
      "\r",
      "                                                                                \r"
     ]
    }
   ],
   "source": [
    "from pyspark.sql.window import Window\n",
    "windowSpec  = Window.partitionBy(\"session\").orderBy(F.col(\"ts\").asc())\n",
    "df_lag = df_indexed.withColumn(\"aid_shift\",F.lag(\"aid\",-1).over(windowSpec))\n",
    "df_lag = df_indexed.withColumn(\"type_cat_shift\",F.lag(\"type_cat\",-1).over(windowSpec))\n",
    "df_lag.show(10)"
   ]
  },
  {
   "cell_type": "markdown",
   "metadata": {},
   "source": [
    "## Análise de Clientes"
   ]
  },
  {
   "cell_type": "markdown",
   "metadata": {},
   "source": [
    "* Quantidade de clientes únicos"
   ]
  },
  {
   "cell_type": "code",
   "execution_count": 18,
   "metadata": {
    "pycharm": {
     "name": "#%%\n"
    }
   },
   "outputs": [
    {
     "name": "stderr",
     "output_type": "stream",
     "text": [
      "                                                                                \r"
     ]
    },
    {
     "data": {
      "text/plain": [
       "12899779"
      ]
     },
     "execution_count": 18,
     "metadata": {},
     "output_type": "execute_result"
    }
   ],
   "source": [
    "df_lag.select('session').distinct().count()"
   ]
  },
  {
   "cell_type": "markdown",
   "metadata": {},
   "source": [
    "* Clientes que mais interagiram"
   ]
  },
  {
   "cell_type": "code",
   "execution_count": 19,
   "metadata": {
    "pycharm": {
     "name": "#%%\n"
    }
   },
   "outputs": [
    {
     "name": "stderr",
     "output_type": "stream",
     "text": [
      "[Stage 27:>                                                       (0 + 20) / 22]\r"
     ]
    },
    {
     "name": "stdout",
     "output_type": "stream",
     "text": [
      "+--------+-----+\n",
      "| session|count|\n",
      "+--------+-----+\n",
      "| 4110619|  500|\n",
      "| 6265682|  500|\n",
      "| 1870739|  499|\n",
      "|10776795|  499|\n",
      "|11361393|  498|\n",
      "|  715022|  498|\n",
      "|  352795|  498|\n",
      "| 2473055|  498|\n",
      "| 5611645|  497|\n",
      "| 3043807|  497|\n",
      "| 1637995|  497|\n",
      "|  584209|  497|\n",
      "| 1166020|  497|\n",
      "| 1005706|  496|\n",
      "|    7905|  495|\n",
      "| 1181850|  495|\n",
      "| 2310563|  495|\n",
      "| 4127525|  495|\n",
      "| 2464306|  495|\n",
      "|  767281|  495|\n",
      "+--------+-----+\n",
      "only showing top 20 rows\n",
      "\n"
     ]
    },
    {
     "name": "stderr",
     "output_type": "stream",
     "text": [
      "\r",
      "[Stage 27:======================================>                 (15 + 7) / 22]\r",
      "\r",
      "                                                                                \r"
     ]
    }
   ],
   "source": [
    "df_lag.groupby(df_lag.session).agg(F.count(\"*\").alias('count')).orderBy(F.col(\"count\").desc()).show()"
   ]
  },
  {
   "cell_type": "markdown",
   "metadata": {},
   "source": [
    "* Clientes que mais compraram"
   ]
  },
  {
   "cell_type": "code",
   "execution_count": 20,
   "metadata": {
    "pycharm": {
     "name": "#%%\n"
    }
   },
   "outputs": [
    {
     "name": "stderr",
     "output_type": "stream",
     "text": [
      "[Stage 28:=====================================================>  (81 + 4) / 85]\r"
     ]
    },
    {
     "name": "stdout",
     "output_type": "stream",
     "text": [
      "+-------+-----+\n",
      "|session|count|\n",
      "+-------+-----+\n",
      "| 632727|  117|\n",
      "|6247320|  103|\n",
      "| 473286|  100|\n",
      "| 537589|   98|\n",
      "|5408461|   94|\n",
      "| 928030|   91|\n",
      "| 270870|   91|\n",
      "|6118385|   90|\n",
      "|  29693|   89|\n",
      "| 125743|   88|\n",
      "| 229448|   88|\n",
      "|2077637|   87|\n",
      "| 521545|   86|\n",
      "|8643943|   86|\n",
      "|1471672|   85|\n",
      "|2845568|   85|\n",
      "|6691353|   85|\n",
      "|5530900|   83|\n",
      "|1572771|   81|\n",
      "|1401588|   81|\n",
      "+-------+-----+\n",
      "only showing top 20 rows\n",
      "\n"
     ]
    },
    {
     "name": "stderr",
     "output_type": "stream",
     "text": [
      "\r",
      "[Stage 28:=======================================================>(84 + 1) / 85]\r",
      "\r",
      "                                                                                \r"
     ]
    }
   ],
   "source": [
    "df_lag.filter(\"type_cat==2\").groupBy('session').agg(F.count('type_cat').alias('count')).orderBy(F.col('count').desc()).show()"
   ]
  },
  {
   "cell_type": "markdown",
   "metadata": {},
   "source": [
    "## Análise de Produtos"
   ]
  },
  {
   "cell_type": "markdown",
   "metadata": {},
   "source": [
    "* Quantidade de produtos únicos"
   ]
  },
  {
   "cell_type": "code",
   "execution_count": 21,
   "metadata": {
    "pycharm": {
     "name": "#%%\n"
    }
   },
   "outputs": [
    {
     "name": "stderr",
     "output_type": "stream",
     "text": [
      "                                                                                \r"
     ]
    },
    {
     "data": {
      "text/plain": [
       "1855603"
      ]
     },
     "execution_count": 21,
     "metadata": {},
     "output_type": "execute_result"
    }
   ],
   "source": [
    "df_lag.select('aid').distinct().count()"
   ]
  },
  {
   "cell_type": "markdown",
   "metadata": {},
   "source": [
    "* Produtos mais comprados"
   ]
  },
  {
   "cell_type": "code",
   "execution_count": 22,
   "metadata": {
    "pycharm": {
     "name": "#%%\n"
    }
   },
   "outputs": [
    {
     "name": "stderr",
     "output_type": "stream",
     "text": [
      "[Stage 37:=====================================================>  (81 + 4) / 85]\r"
     ]
    },
    {
     "name": "stdout",
     "output_type": "stream",
     "text": [
      "+-------+-----+\n",
      "|    aid|count|\n",
      "+-------+-----+\n",
      "| 231487| 4485|\n",
      "| 166037| 3824|\n",
      "|1733943| 3042|\n",
      "|1445562| 2998|\n",
      "|1022566| 2788|\n",
      "| 801774| 2710|\n",
      "|1629608| 2628|\n",
      "| 756588| 2593|\n",
      "| 332654| 2436|\n",
      "|1603001| 2353|\n",
      "| 409620| 2329|\n",
      "|1257293| 2273|\n",
      "|1125638| 2203|\n",
      "| 986164| 2192|\n",
      "|1083665| 2174|\n",
      "| 450505| 2137|\n",
      "| 544144| 2096|\n",
      "|1025795| 2071|\n",
      "| 125278| 2047|\n",
      "|  29735| 2007|\n",
      "+-------+-----+\n",
      "only showing top 20 rows\n",
      "\n"
     ]
    },
    {
     "name": "stderr",
     "output_type": "stream",
     "text": [
      "\r",
      "[Stage 37:=======================================================>(84 + 1) / 85]\r",
      "\r",
      "                                                                                \r"
     ]
    }
   ],
   "source": [
    "df_lag.filter(\"type_cat==2\").groupBy('aid').agg(F.count('*').alias('count')).orderBy(F.col('count').desc()).show()"
   ]
  },
  {
   "cell_type": "markdown",
   "metadata": {},
   "source": [
    "* Produtos mais colocados em carrinho"
   ]
  },
  {
   "cell_type": "code",
   "execution_count": 23,
   "metadata": {
    "pycharm": {
     "name": "#%%\n"
    }
   },
   "outputs": [
    {
     "name": "stderr",
     "output_type": "stream",
     "text": [
      "[Stage 40:======================================================> (82 + 3) / 85]\r"
     ]
    },
    {
     "name": "stdout",
     "output_type": "stream",
     "text": [
      "+-------+-----+\n",
      "|    aid|count|\n",
      "+-------+-----+\n",
      "| 485256|29682|\n",
      "| 152547|18536|\n",
      "|  33343|14726|\n",
      "| 166037|13476|\n",
      "|1733943|10654|\n",
      "| 231487|10393|\n",
      "|  29735|10124|\n",
      "|1022566| 9338|\n",
      "| 832192| 8626|\n",
      "| 544144| 7407|\n",
      "| 554660| 7336|\n",
      "| 322370| 7298|\n",
      "|1562705| 7128|\n",
      "| 986164| 7005|\n",
      "|1083665| 6734|\n",
      "| 332654| 6679|\n",
      "|1629608| 6659|\n",
      "|1236775| 6224|\n",
      "| 756588| 6166|\n",
      "| 613493| 6111|\n",
      "+-------+-----+\n",
      "only showing top 20 rows\n",
      "\n"
     ]
    },
    {
     "name": "stderr",
     "output_type": "stream",
     "text": [
      "\r",
      "                                                                                \r"
     ]
    }
   ],
   "source": [
    "df_lag.filter(\"type_cat==1\").groupBy('aid').agg(F.count('*').alias('count')).orderBy(F.col('count').desc()).show()"
   ]
  },
  {
   "cell_type": "markdown",
   "metadata": {},
   "source": [
    "* Produtos mais clicados"
   ]
  },
  {
   "cell_type": "code",
   "execution_count": 24,
   "metadata": {
    "pycharm": {
     "name": "#%%\n"
    }
   },
   "outputs": [
    {
     "name": "stderr",
     "output_type": "stream",
     "text": [
      "[Stage 43:=====================================================>  (81 + 4) / 85]\r"
     ]
    },
    {
     "name": "stdout",
     "output_type": "stream",
     "text": [
      "+-------+-----+\n",
      "|    aid|count|\n",
      "+-------+-----+\n",
      "| 485256|29682|\n",
      "| 152547|18536|\n",
      "|  33343|14726|\n",
      "| 166037|13476|\n",
      "|1733943|10654|\n",
      "| 231487|10393|\n",
      "|  29735|10124|\n",
      "|1022566| 9338|\n",
      "| 832192| 8626|\n",
      "| 544144| 7407|\n",
      "| 554660| 7336|\n",
      "| 322370| 7298|\n",
      "|1562705| 7128|\n",
      "| 986164| 7005|\n",
      "|1083665| 6734|\n",
      "| 332654| 6679|\n",
      "|1629608| 6659|\n",
      "|1236775| 6224|\n",
      "| 756588| 6166|\n",
      "| 613493| 6111|\n",
      "+-------+-----+\n",
      "only showing top 20 rows\n",
      "\n"
     ]
    },
    {
     "name": "stderr",
     "output_type": "stream",
     "text": [
      "\r",
      "                                                                                \r"
     ]
    }
   ],
   "source": [
    "df_lag.filter(\"type_cat==1\").groupBy('aid').agg(F.count('*').alias('count')).orderBy(F.col('count').desc()).show()"
   ]
  },
  {
   "cell_type": "code",
   "execution_count": 25,
   "metadata": {
    "pycharm": {
     "name": "#%%\n"
    }
   },
   "outputs": [],
   "source": [
    "# df_write.coalesce(2)\\\n",
    "#         .write.format('csv')\\\n",
    "#         .option(\"header\", \"True\")\\\n",
    "#         .mode(\"overwrite\")\\\n",
    "#         .save('/'.join([os.getcwd(), 'train.csv']))"
   ]
  },
  {
   "cell_type": "markdown",
   "metadata": {
    "pycharm": {
     "name": "#%% md\n"
    }
   },
   "source": [
    "## Carregamento dos Dados \n",
    "Utilizando a classe **TabularPandas**, a fim de criar o bloco de dados insumo para treinamento do modelo. As variáveis definidas abaixo significam:\n",
    "\n",
    "* `y_names`: Coluna alvo de regressão.\n",
    "* `cat_names`: Coluna de variáveis categóricas, caso existissem no exemplo.\n",
    "* `cont_names`: Coluna de variáveis contínuas, ou seja, estão em formato numérico.\n",
    "* `splits`: representa uma função de segregação das vases de teste e validação, aplicando a proporção passada em *valid_pct*.\n"
   ]
  },
  {
   "cell_type": "code",
   "execution_count": 28,
   "metadata": {
    "pycharm": {
     "name": "#%%\n"
    }
   },
   "outputs": [
    {
     "data": {
      "text/plain": [
       "['_SUCCESS',\n",
       " 'part-00000-7675d192-1ed1-4573-a9c8-1401d41100ac-c000.csv',\n",
       " '._SUCCESS.crc',\n",
       " '.part-00000-7675d192-1ed1-4573-a9c8-1401d41100ac-c000.csv.crc']"
      ]
     },
     "execution_count": 28,
     "metadata": {},
     "output_type": "execute_result"
    }
   ],
   "source": [
    "dir_path = '/'.join([os.getcwd(),'train.csv'])\n",
    "list_files = []\n",
    "for path in os.scandir(dir_path):\n",
    "    if path.is_file():\n",
    "        list_files.append(path.name)\n",
    "list_files"
   ]
  },
  {
   "cell_type": "code",
   "execution_count": 29,
   "metadata": {
    "pycharm": {
     "name": "#%%\n"
    }
   },
   "outputs": [],
   "source": [
    "path = '/'.join([os.getcwd(),'train.csv',list_files[1]])\n",
    "df = pd.read_csv(filepath_or_buffer=path, nrows=100000)"
   ]
  },
  {
   "cell_type": "code",
   "execution_count": 30,
   "metadata": {
    "pycharm": {
     "name": "#%%\n"
    }
   },
   "outputs": [
    {
     "data": {
      "text/plain": [
       "session      6.675500e+04\n",
       "aid          3.368840e+05\n",
       "ts           1.659339e+12\n",
       "type_cat     0.000000e+00\n",
       "aid_shift    3.368840e+05\n",
       "Name: 0, dtype: float64"
      ]
     },
     "execution_count": 30,
     "metadata": {},
     "output_type": "execute_result"
    }
   ],
   "source": [
    "df.mode().iloc[0]"
   ]
  },
  {
   "cell_type": "code",
   "execution_count": 31,
   "metadata": {
    "pycharm": {
     "name": "#%%\n"
    }
   },
   "outputs": [
    {
     "data": {
      "text/html": [
       "<div>\n",
       "<style scoped>\n",
       "    .dataframe tbody tr th:only-of-type {\n",
       "        vertical-align: middle;\n",
       "    }\n",
       "\n",
       "    .dataframe tbody tr th {\n",
       "        vertical-align: top;\n",
       "    }\n",
       "\n",
       "    .dataframe thead th {\n",
       "        text-align: right;\n",
       "    }\n",
       "</style>\n",
       "<table border=\"1\" class=\"dataframe\">\n",
       "  <thead>\n",
       "    <tr style=\"text-align: right;\">\n",
       "      <th></th>\n",
       "      <th>session</th>\n",
       "      <th>aid</th>\n",
       "      <th>ts</th>\n",
       "      <th>type_cat</th>\n",
       "      <th>aid_shift</th>\n",
       "    </tr>\n",
       "  </thead>\n",
       "  <tbody>\n",
       "    <tr>\n",
       "      <th>0</th>\n",
       "      <td>31</td>\n",
       "      <td>345693</td>\n",
       "      <td>1659304800492</td>\n",
       "      <td>0</td>\n",
       "      <td>33118</td>\n",
       "    </tr>\n",
       "    <tr>\n",
       "      <th>1</th>\n",
       "      <td>31</td>\n",
       "      <td>33118</td>\n",
       "      <td>1659304813824</td>\n",
       "      <td>0</td>\n",
       "      <td>208146</td>\n",
       "    </tr>\n",
       "    <tr>\n",
       "      <th>2</th>\n",
       "      <td>31</td>\n",
       "      <td>208146</td>\n",
       "      <td>1659304918011</td>\n",
       "      <td>0</td>\n",
       "      <td>360813</td>\n",
       "    </tr>\n",
       "    <tr>\n",
       "      <th>3</th>\n",
       "      <td>31</td>\n",
       "      <td>360813</td>\n",
       "      <td>1659305016995</td>\n",
       "      <td>0</td>\n",
       "      <td>1468793</td>\n",
       "    </tr>\n",
       "    <tr>\n",
       "      <th>4</th>\n",
       "      <td>31</td>\n",
       "      <td>1468793</td>\n",
       "      <td>1659305042993</td>\n",
       "      <td>0</td>\n",
       "      <td>1269912</td>\n",
       "    </tr>\n",
       "    <tr>\n",
       "      <th>...</th>\n",
       "      <td>...</td>\n",
       "      <td>...</td>\n",
       "      <td>...</td>\n",
       "      <td>...</td>\n",
       "      <td>...</td>\n",
       "    </tr>\n",
       "    <tr>\n",
       "      <th>99995</th>\n",
       "      <td>94283</td>\n",
       "      <td>1162574</td>\n",
       "      <td>1660597710143</td>\n",
       "      <td>0</td>\n",
       "      <td>1162574</td>\n",
       "    </tr>\n",
       "    <tr>\n",
       "      <th>99996</th>\n",
       "      <td>94283</td>\n",
       "      <td>1162574</td>\n",
       "      <td>1660597720888</td>\n",
       "      <td>0</td>\n",
       "      <td>1001783</td>\n",
       "    </tr>\n",
       "    <tr>\n",
       "      <th>99997</th>\n",
       "      <td>94283</td>\n",
       "      <td>1001783</td>\n",
       "      <td>1660597732968</td>\n",
       "      <td>0</td>\n",
       "      <td>1190130</td>\n",
       "    </tr>\n",
       "    <tr>\n",
       "      <th>99998</th>\n",
       "      <td>94283</td>\n",
       "      <td>1190130</td>\n",
       "      <td>1660597841299</td>\n",
       "      <td>0</td>\n",
       "      <td>1190130</td>\n",
       "    </tr>\n",
       "    <tr>\n",
       "      <th>99999</th>\n",
       "      <td>94283</td>\n",
       "      <td>1190130</td>\n",
       "      <td>1660598060558</td>\n",
       "      <td>0</td>\n",
       "      <td>1190130</td>\n",
       "    </tr>\n",
       "  </tbody>\n",
       "</table>\n",
       "<p>100000 rows × 5 columns</p>\n",
       "</div>"
      ],
      "text/plain": [
       "       session      aid             ts  type_cat  aid_shift\n",
       "0           31   345693  1659304800492         0      33118\n",
       "1           31    33118  1659304813824         0     208146\n",
       "2           31   208146  1659304918011         0     360813\n",
       "3           31   360813  1659305016995         0    1468793\n",
       "4           31  1468793  1659305042993         0    1269912\n",
       "...        ...      ...            ...       ...        ...\n",
       "99995    94283  1162574  1660597710143         0    1162574\n",
       "99996    94283  1162574  1660597720888         0    1001783\n",
       "99997    94283  1001783  1660597732968         0    1190130\n",
       "99998    94283  1190130  1660597841299         0    1190130\n",
       "99999    94283  1190130  1660598060558         0    1190130\n",
       "\n",
       "[100000 rows x 5 columns]"
      ]
     },
     "execution_count": 31,
     "metadata": {},
     "output_type": "execute_result"
    }
   ],
   "source": [
    "df = df.fillna(df.mode().iloc[0])\n",
    "df['aid_shift'] = df['aid_shift'].astype(int)\n",
    "df"
   ]
  },
  {
   "cell_type": "code",
   "execution_count": 36,
   "metadata": {
    "pycharm": {
     "name": "#%%\n"
    }
   },
   "outputs": [
    {
     "data": {
      "text/plain": [
       "((#70000) [67990,69362,46432,15711,22659,2924,28253,90238,24659,75870...],\n",
       " (#30000) [44206,62312,76867,87374,16553,49315,82684,4050,1717,36290...])"
      ]
     },
     "execution_count": 36,
     "metadata": {},
     "output_type": "execute_result"
    }
   ],
   "source": [
    "from fastai.tabular.all import *\n",
    "from fastai.tabular.core import FillMissing\n",
    "from fastai.tabular.learner import *\n",
    "from fastbook import *\n",
    "\n",
    "y_names = ['aid_shift']\n",
    "procs = [Normalize]\n",
    "cat_names = []\n",
    "cont_names = ['session', 'aid', 'ts', 'type_cat']\n",
    "splits = RandomSplitter(valid_pct=0.3)(range_of(df))\n",
    "splits"
   ]
  },
  {
   "cell_type": "code",
   "execution_count": 37,
   "metadata": {
    "pycharm": {
     "name": "#%%\n"
    }
   },
   "outputs": [
    {
     "data": {
      "text/plain": [
       "        session       aid        ts  type_cat  aid_shift\n",
       "67990  0.606642 -0.802275 -0.775993 -0.289892     495779\n",
       "69362  0.655861 -0.113615  1.103378 -0.289892    1428694\n",
       "46432 -0.122576  1.092383 -1.265662 -0.289892    1514887\n",
       "15711 -1.217488 -1.594342  1.426502 -0.289892     700490\n",
       "22659 -0.924739  0.405277 -0.585419 -0.289892    1145303\n",
       "...         ...       ...       ...       ...        ...\n",
       "73084  0.758776  0.315120  0.447363 -0.289892     491866\n",
       "4526  -1.574442  1.352418  1.474573  5.406228    1654756\n",
       "90783  1.444662 -1.657335 -0.378283 -0.289892     730400\n",
       "37465 -0.358307 -0.776031  1.714605 -0.289892     742592\n",
       "63764  0.473322  1.552708 -0.106090  2.558168    1762489\n",
       "\n",
       "[100000 rows x 5 columns]"
      ]
     },
     "execution_count": 37,
     "metadata": {},
     "output_type": "execute_result"
    }
   ],
   "source": [
    "to = TabularPandas(df=df,\n",
    "                   procs=procs,\n",
    "                   cont_names=cont_names,\n",
    "                   y_names=y_names, \n",
    "                   y_block=RegressionBlock(),\n",
    "                   splits=splits)\n",
    "to"
   ]
  },
  {
   "cell_type": "markdown",
   "metadata": {
    "pycharm": {
     "name": "#%% md\n"
    }
   },
   "source": [
    "## Conferindo o carregamento"
   ]
  },
  {
   "cell_type": "code",
   "execution_count": 38,
   "metadata": {
    "pycharm": {
     "name": "#%%\n"
    }
   },
   "outputs": [
    {
     "name": "stdout",
     "output_type": "stream",
     "text": [
      "Valid\n"
     ]
    },
    {
     "data": {
      "text/html": [
       "<table border=\"1\" class=\"dataframe\">\n",
       "  <thead>\n",
       "    <tr style=\"text-align: right;\">\n",
       "      <th></th>\n",
       "      <th>session</th>\n",
       "      <th>aid</th>\n",
       "      <th>ts</th>\n",
       "      <th>type_cat</th>\n",
       "      <th>aid_shift</th>\n",
       "    </tr>\n",
       "  </thead>\n",
       "  <tbody>\n",
       "    <tr>\n",
       "      <th>0</th>\n",
       "      <td>40385.999984</td>\n",
       "      <td>1.545443e+06</td>\n",
       "      <td>1.661212e+12</td>\n",
       "      <td>-2.389009e-10</td>\n",
       "      <td>651650.0</td>\n",
       "    </tr>\n",
       "    <tr>\n",
       "      <th>1</th>\n",
       "      <td>57513.000336</td>\n",
       "      <td>1.421870e+05</td>\n",
       "      <td>1.659615e+12</td>\n",
       "      <td>-2.389009e-10</td>\n",
       "      <td>1308375.0</td>\n",
       "    </tr>\n",
       "    <tr>\n",
       "      <th>2</th>\n",
       "      <td>69340.000180</td>\n",
       "      <td>1.761172e+06</td>\n",
       "      <td>1.660936e+12</td>\n",
       "      <td>-2.389009e-10</td>\n",
       "      <td>98077.0</td>\n",
       "    </tr>\n",
       "    <tr>\n",
       "      <th>3</th>\n",
       "      <td>82582.000115</td>\n",
       "      <td>2.442803e+04</td>\n",
       "      <td>1.661537e+12</td>\n",
       "      <td>-2.389009e-10</td>\n",
       "      <td>1326443.0</td>\n",
       "    </tr>\n",
       "    <tr>\n",
       "      <th>4</th>\n",
       "      <td>12610.999681</td>\n",
       "      <td>1.566993e+06</td>\n",
       "      <td>1.659562e+12</td>\n",
       "      <td>-2.389009e-10</td>\n",
       "      <td>1388637.0</td>\n",
       "    </tr>\n",
       "    <tr>\n",
       "      <th>5</th>\n",
       "      <td>44821.999956</td>\n",
       "      <td>8.396560e+05</td>\n",
       "      <td>1.659720e+12</td>\n",
       "      <td>-2.389009e-10</td>\n",
       "      <td>762602.0</td>\n",
       "    </tr>\n",
       "    <tr>\n",
       "      <th>6</th>\n",
       "      <td>76083.000914</td>\n",
       "      <td>2.692598e+04</td>\n",
       "      <td>1.659621e+12</td>\n",
       "      <td>-2.389009e-10</td>\n",
       "      <td>1292944.0</td>\n",
       "    </tr>\n",
       "    <tr>\n",
       "      <th>7</th>\n",
       "      <td>1902.999204</td>\n",
       "      <td>1.558874e+06</td>\n",
       "      <td>1.660118e+12</td>\n",
       "      <td>-2.389009e-10</td>\n",
       "      <td>1558874.0</td>\n",
       "    </tr>\n",
       "    <tr>\n",
       "      <th>8</th>\n",
       "      <td>1024.999734</td>\n",
       "      <td>1.538390e+06</td>\n",
       "      <td>1.659941e+12</td>\n",
       "      <td>-2.389009e-10</td>\n",
       "      <td>881520.0</td>\n",
       "    </tr>\n",
       "    <tr>\n",
       "      <th>9</th>\n",
       "      <td>34060.999915</td>\n",
       "      <td>1.730469e+06</td>\n",
       "      <td>1.660574e+12</td>\n",
       "      <td>-2.389009e-10</td>\n",
       "      <td>624327.0</td>\n",
       "    </tr>\n",
       "  </tbody>\n",
       "</table>"
      ],
      "text/plain": [
       "<IPython.core.display.HTML object>"
      ]
     },
     "metadata": {},
     "output_type": "display_data"
    },
    {
     "name": "stdout",
     "output_type": "stream",
     "text": [
      "Train\n"
     ]
    },
    {
     "data": {
      "text/html": [
       "<table border=\"1\" class=\"dataframe\">\n",
       "  <thead>\n",
       "    <tr style=\"text-align: right;\">\n",
       "      <th></th>\n",
       "      <th>session</th>\n",
       "      <th>aid</th>\n",
       "      <th>ts</th>\n",
       "      <th>type_cat</th>\n",
       "      <th>aid_shift</th>\n",
       "    </tr>\n",
       "  </thead>\n",
       "  <tbody>\n",
       "    <tr>\n",
       "      <th>0</th>\n",
       "      <td>148.000535</td>\n",
       "      <td>1.683530e+06</td>\n",
       "      <td>1.659309e+12</td>\n",
       "      <td>-2.389009e-10</td>\n",
       "      <td>209445.0</td>\n",
       "    </tr>\n",
       "    <tr>\n",
       "      <th>1</th>\n",
       "      <td>61501.000515</td>\n",
       "      <td>1.509935e+06</td>\n",
       "      <td>1.661719e+12</td>\n",
       "      <td>-2.389009e-10</td>\n",
       "      <td>231291.0</td>\n",
       "    </tr>\n",
       "    <tr>\n",
       "      <th>2</th>\n",
       "      <td>7993.000171</td>\n",
       "      <td>1.699932e+06</td>\n",
       "      <td>1.661190e+12</td>\n",
       "      <td>-2.389009e-10</td>\n",
       "      <td>1281746.0</td>\n",
       "    </tr>\n",
       "    <tr>\n",
       "      <th>3</th>\n",
       "      <td>23867.999894</td>\n",
       "      <td>6.820010e+05</td>\n",
       "      <td>1.659808e+12</td>\n",
       "      <td>1.000000e+00</td>\n",
       "      <td>1760550.0</td>\n",
       "    </tr>\n",
       "    <tr>\n",
       "      <th>4</th>\n",
       "      <td>57177.999807</td>\n",
       "      <td>9.853991e+03</td>\n",
       "      <td>1.659311e+12</td>\n",
       "      <td>-2.389009e-10</td>\n",
       "      <td>883758.0</td>\n",
       "    </tr>\n",
       "    <tr>\n",
       "      <th>5</th>\n",
       "      <td>74851.998530</td>\n",
       "      <td>6.363900e+05</td>\n",
       "      <td>1.661590e+12</td>\n",
       "      <td>-2.389009e-10</td>\n",
       "      <td>508883.0</td>\n",
       "    </tr>\n",
       "    <tr>\n",
       "      <th>6</th>\n",
       "      <td>21121.000674</td>\n",
       "      <td>4.761250e+05</td>\n",
       "      <td>1.661117e+12</td>\n",
       "      <td>-2.389009e-10</td>\n",
       "      <td>476125.0</td>\n",
       "    </tr>\n",
       "    <tr>\n",
       "      <th>7</th>\n",
       "      <td>18944.000260</td>\n",
       "      <td>1.353784e+06</td>\n",
       "      <td>1.659308e+12</td>\n",
       "      <td>-2.389009e-10</td>\n",
       "      <td>607027.0</td>\n",
       "    </tr>\n",
       "    <tr>\n",
       "      <th>8</th>\n",
       "      <td>62541.999446</td>\n",
       "      <td>1.185490e+06</td>\n",
       "      <td>1.659312e+12</td>\n",
       "      <td>-2.389009e-10</td>\n",
       "      <td>1483049.0</td>\n",
       "    </tr>\n",
       "    <tr>\n",
       "      <th>9</th>\n",
       "      <td>36705.999644</td>\n",
       "      <td>5.127110e+05</td>\n",
       "      <td>1.659497e+12</td>\n",
       "      <td>-2.389009e-10</td>\n",
       "      <td>1749332.0</td>\n",
       "    </tr>\n",
       "  </tbody>\n",
       "</table>"
      ],
      "text/plain": [
       "<IPython.core.display.HTML object>"
      ]
     },
     "metadata": {},
     "output_type": "display_data"
    }
   ],
   "source": [
    "dls = to.dataloaders()\n",
    "print('Valid')\n",
    "dls.valid.show_batch()\n",
    "print('Train')\n",
    "dls.train.show_batch()"
   ]
  },
  {
   "cell_type": "markdown",
   "metadata": {
    "id": "Sg54GRpg7mGi"
   },
   "source": [
    "## Definindo range alvo\n",
    "É importante passar para a função um range alvo da variável que deseja fazer a regressão. Para tal, definimos *tensors* - estrutura original da biblioteca **PyTorch**, a qual se assemelha com uma estrutura **numpy**. \n",
    "\n",
    "> Caso a estrutura de tensores mostrada não seja aplicada, provavelmente a função não executará o treinamento de forma correta.\n",
    "\n",
    "* A lógica por trás da definição do range, envolve em captar a maior e menor variação de preço, já vista no ativo, adicionando o devio padrão e multiplicando este peso ao último valor do dataset."
   ]
  },
  {
   "cell_type": "code",
   "execution_count": 45,
   "metadata": {
    "colab": {
     "base_uri": "https://localhost:8080/"
    },
    "id": "wVM19Tvxzds_",
    "outputId": "758c3d34-be92-4008-e69d-295c5fcd5b0f"
   },
   "outputs": [
    {
     "data": {
      "text/plain": [
       "tensor([ 345693,   33118,  208146,  ..., 1162574, 1001783, 1190130])"
      ]
     },
     "execution_count": 45,
     "metadata": {},
     "output_type": "execute_result"
    }
   ],
   "source": [
    "# y_range = (torch.tensor(min).cuda(), torch.tensor(max).cuda())\n",
    "y_range = (torch.tensor(df.aid.unique()).squeeze())\n",
    "y_range"
   ]
  },
  {
   "cell_type": "markdown",
   "metadata": {
    "id": "haN3ISLa7one"
   },
   "source": [
    "## Definindo metricas de treinamento\n",
    "Todas as métricas em comentário foram testadas e, algumas combinações de função de loss e métricas performaram melhor. Em destaque `SpearmanCorrCoef` foi uma das que mais performaram."
   ]
  },
  {
   "cell_type": "code",
   "execution_count": 46,
   "metadata": {
    "id": "RdJ3iVdjGrg_"
   },
   "outputs": [],
   "source": [
    "#mse\n",
    "#rmse\n",
    "#mae\n",
    "#msle\n",
    "#exp_rmspe\n",
    "#ExplainedVariance()\n",
    "#R2Score()\n",
    "#PearsonCorrCoef()\n",
    "#SpearmanCorrCoef()\n",
    "#loss_func=MSELossFlat()\n",
    "#loss_func=L1LossFlat()\n",
    "#DiceLoss()\n",
    "# learn = None\n",
    "learn = None\n",
    "learn = tabular_learner(dls, metrics=SpearmanCorrCoef(), loss_func=L1LossFlat())"
   ]
  },
  {
   "cell_type": "markdown",
   "metadata": {
    "id": "Au_sgveR7tlN"
   },
   "source": [
    "## Otimizando taxa de aprendizado\n",
    "Utilizando a função abaixo é possível encontrar a melhor taxa de aprendizado para o gradiente descendente."
   ]
  },
  {
   "cell_type": "code",
   "execution_count": 47,
   "metadata": {
    "colab": {
     "base_uri": "https://localhost:8080/",
     "height": 300
    },
    "id": "453MnVPYAL7r",
    "outputId": "effbe291-212d-4e77-a553-b4d4936ecc04"
   },
   "outputs": [
    {
     "data": {
      "text/html": [
       "\n",
       "<style>\n",
       "    /* Turns off some styling */\n",
       "    progress {\n",
       "        /* gets rid of default border in Firefox and Opera. */\n",
       "        border: none;\n",
       "        /* Needs to be in here for Safari polyfill so background images work as expected. */\n",
       "        background-size: auto;\n",
       "    }\n",
       "    progress:not([value]), progress:not([value])::-webkit-progress-bar {\n",
       "        background: repeating-linear-gradient(45deg, #7e7e7e, #7e7e7e 10px, #5c5c5c 10px, #5c5c5c 20px);\n",
       "    }\n",
       "    .progress-bar-interrupted, .progress-bar-interrupted::-webkit-progress-bar {\n",
       "        background: #F44336;\n",
       "    }\n",
       "</style>\n"
      ],
      "text/plain": [
       "<IPython.core.display.HTML object>"
      ]
     },
     "metadata": {},
     "output_type": "display_data"
    },
    {
     "data": {
      "text/html": [],
      "text/plain": [
       "<IPython.core.display.HTML object>"
      ]
     },
     "metadata": {},
     "output_type": "display_data"
    },
    {
     "name": "stdout",
     "output_type": "stream",
     "text": [
      "SuggestedLRs(slide=6.309573450380412e-07, valley=0.0008317637839354575)\n"
     ]
    },
    {
     "data": {
      "image/png": "[encoded data removed]",
      "text/plain": [
       "<Figure size 640x480 with 1 Axes>"
      ]
     },
     "metadata": {},
     "output_type": "display_data"
    }
   ],
   "source": [
    "lr_rate = learn.lr_find(suggest_funcs=[slide, valley])\n",
    "print(lr_rate)"
   ]
  },
  {
   "cell_type": "markdown",
   "metadata": {
    "id": "xjPNwg-47xTA"
   },
   "source": [
    "## Treinando o modelo\n",
    "Utilizando a taxa encontrada e 100 épocas."
   ]
  },
  {
   "cell_type": "code",
   "execution_count": 48,
   "metadata": {
    "colab": {
     "base_uri": "https://localhost:8080/",
     "height": 1000
    },
    "id": "-r1Ufzm_G5iL",
    "outputId": "11a0fcc7-8b93-4431-e0dc-57797dc1270c"
   },
   "outputs": [
    {
     "name": "stdout",
     "output_type": "stream",
     "text": [
      "Learning Rate:  0.00041619737064024775\n"
     ]
    },
    {
     "data": {
      "text/html": [
       "\n",
       "<style>\n",
       "    /* Turns off some styling */\n",
       "    progress {\n",
       "        /* gets rid of default border in Firefox and Opera. */\n",
       "        border: none;\n",
       "        /* Needs to be in here for Safari polyfill so background images work as expected. */\n",
       "        background-size: auto;\n",
       "    }\n",
       "    progress:not([value]), progress:not([value])::-webkit-progress-bar {\n",
       "        background: repeating-linear-gradient(45deg, #7e7e7e, #7e7e7e 10px, #5c5c5c 10px, #5c5c5c 20px);\n",
       "    }\n",
       "    .progress-bar-interrupted, .progress-bar-interrupted::-webkit-progress-bar {\n",
       "        background: #F44336;\n",
       "    }\n",
       "</style>\n"
      ],
      "text/plain": [
       "<IPython.core.display.HTML object>"
      ]
     },
     "metadata": {},
     "output_type": "display_data"
    },
    {
     "data": {
      "text/html": [
       "<table border=\"1\" class=\"dataframe\">\n",
       "  <thead>\n",
       "    <tr style=\"text-align: left;\">\n",
       "      <th>epoch</th>\n",
       "      <th>train_loss</th>\n",
       "      <th>valid_loss</th>\n",
       "      <th>spearmanr</th>\n",
       "      <th>time</th>\n",
       "    </tr>\n",
       "  </thead>\n",
       "  <tbody>\n",
       "    <tr>\n",
       "      <td>0</td>\n",
       "      <td>919833.375000</td>\n",
       "      <td>913366.625000</td>\n",
       "      <td>-0.000020</td>\n",
       "      <td>00:04</td>\n",
       "    </tr>\n",
       "    <tr>\n",
       "      <td>1</td>\n",
       "      <td>919042.687500</td>\n",
       "      <td>913290.625000</td>\n",
       "      <td>0.140774</td>\n",
       "      <td>00:03</td>\n",
       "    </tr>\n",
       "    <tr>\n",
       "      <td>2</td>\n",
       "      <td>912267.500000</td>\n",
       "      <td>913171.937500</td>\n",
       "      <td>0.094502</td>\n",
       "      <td>00:03</td>\n",
       "    </tr>\n",
       "    <tr>\n",
       "      <td>3</td>\n",
       "      <td>924301.000000</td>\n",
       "      <td>913011.625000</td>\n",
       "      <td>0.153128</td>\n",
       "      <td>00:05</td>\n",
       "    </tr>\n",
       "    <tr>\n",
       "      <td>4</td>\n",
       "      <td>924255.687500</td>\n",
       "      <td>912811.625000</td>\n",
       "      <td>0.133175</td>\n",
       "      <td>00:03</td>\n",
       "    </tr>\n",
       "    <tr>\n",
       "      <td>5</td>\n",
       "      <td>923099.875000</td>\n",
       "      <td>912572.875000</td>\n",
       "      <td>0.059278</td>\n",
       "      <td>00:06</td>\n",
       "    </tr>\n",
       "    <tr>\n",
       "      <td>6</td>\n",
       "      <td>918316.812500</td>\n",
       "      <td>912304.500000</td>\n",
       "      <td>0.076941</td>\n",
       "      <td>00:03</td>\n",
       "    </tr>\n",
       "    <tr>\n",
       "      <td>7</td>\n",
       "      <td>909020.625000</td>\n",
       "      <td>911973.312500</td>\n",
       "      <td>0.086065</td>\n",
       "      <td>00:06</td>\n",
       "    </tr>\n",
       "    <tr>\n",
       "      <td>8</td>\n",
       "      <td>911690.125000</td>\n",
       "      <td>911752.687500</td>\n",
       "      <td>0.092922</td>\n",
       "      <td>00:06</td>\n",
       "    </tr>\n",
       "    <tr>\n",
       "      <td>9</td>\n",
       "      <td>907440.687500</td>\n",
       "      <td>911709.375000</td>\n",
       "      <td>0.086744</td>\n",
       "      <td>00:03</td>\n",
       "    </tr>\n",
       "  </tbody>\n",
       "</table>"
      ],
      "text/plain": [
       "<IPython.core.display.HTML object>"
      ]
     },
     "metadata": {},
     "output_type": "display_data"
    }
   ],
   "source": [
    "lr=(lr_rate[0] + lr_rate[1])/2\n",
    "print('Learning Rate: ',lr)\n",
    "learn.fit_flat_cos(10, lr=lr)"
   ]
  },
  {
   "cell_type": "code",
   "execution_count": 49,
   "metadata": {
    "colab": {
     "base_uri": "https://localhost:8080/",
     "height": 332
    },
    "id": "dM2ILsnUHXQI",
    "outputId": "665a45d3-de5a-4761-8d69-1e294ec5db30"
   },
   "outputs": [
    {
     "data": {
      "text/html": [
       "\n",
       "<style>\n",
       "    /* Turns off some styling */\n",
       "    progress {\n",
       "        /* gets rid of default border in Firefox and Opera. */\n",
       "        border: none;\n",
       "        /* Needs to be in here for Safari polyfill so background images work as expected. */\n",
       "        background-size: auto;\n",
       "    }\n",
       "    progress:not([value]), progress:not([value])::-webkit-progress-bar {\n",
       "        background: repeating-linear-gradient(45deg, #7e7e7e, #7e7e7e 10px, #5c5c5c 10px, #5c5c5c 20px);\n",
       "    }\n",
       "    .progress-bar-interrupted, .progress-bar-interrupted::-webkit-progress-bar {\n",
       "        background: #F44336;\n",
       "    }\n",
       "</style>\n"
      ],
      "text/plain": [
       "<IPython.core.display.HTML object>"
      ]
     },
     "metadata": {},
     "output_type": "display_data"
    },
    {
     "data": {
      "text/html": [],
      "text/plain": [
       "<IPython.core.display.HTML object>"
      ]
     },
     "metadata": {},
     "output_type": "display_data"
    },
    {
     "data": {
      "text/html": [
       "<table border=\"1\" class=\"dataframe\">\n",
       "  <thead>\n",
       "    <tr style=\"text-align: right;\">\n",
       "      <th></th>\n",
       "      <th>session</th>\n",
       "      <th>aid</th>\n",
       "      <th>ts</th>\n",
       "      <th>type_cat</th>\n",
       "      <th>aid_shift</th>\n",
       "      <th>aid_shift_pred</th>\n",
       "    </tr>\n",
       "  </thead>\n",
       "  <tbody>\n",
       "    <tr>\n",
       "      <th>0</th>\n",
       "      <td>-0.294283</td>\n",
       "      <td>-1.200217</td>\n",
       "      <td>-1.167776</td>\n",
       "      <td>-0.289892</td>\n",
       "      <td>288733.0</td>\n",
       "      <td>1305.672241</td>\n",
       "    </tr>\n",
       "    <tr>\n",
       "      <th>1</th>\n",
       "      <td>-0.761194</td>\n",
       "      <td>-0.290294</td>\n",
       "      <td>-1.046251</td>\n",
       "      <td>-0.289892</td>\n",
       "      <td>1409430.0</td>\n",
       "      <td>1460.167114</td>\n",
       "    </tr>\n",
       "    <tr>\n",
       "      <th>2</th>\n",
       "      <td>0.781634</td>\n",
       "      <td>1.000229</td>\n",
       "      <td>0.834962</td>\n",
       "      <td>-0.289892</td>\n",
       "      <td>598308.0</td>\n",
       "      <td>1840.662842</td>\n",
       "    </tr>\n",
       "    <tr>\n",
       "      <th>3</th>\n",
       "      <td>-1.501643</td>\n",
       "      <td>0.482065</td>\n",
       "      <td>1.009729</td>\n",
       "      <td>-0.289892</td>\n",
       "      <td>768002.0</td>\n",
       "      <td>1654.806641</td>\n",
       "    </tr>\n",
       "    <tr>\n",
       "      <th>4</th>\n",
       "      <td>-1.125658</td>\n",
       "      <td>1.454488</td>\n",
       "      <td>0.867612</td>\n",
       "      <td>-0.289892</td>\n",
       "      <td>650139.0</td>\n",
       "      <td>1658.817383</td>\n",
       "    </tr>\n",
       "    <tr>\n",
       "      <th>5</th>\n",
       "      <td>1.284439</td>\n",
       "      <td>-0.410364</td>\n",
       "      <td>0.197171</td>\n",
       "      <td>-0.289892</td>\n",
       "      <td>1689819.0</td>\n",
       "      <td>1713.960327</td>\n",
       "    </tr>\n",
       "    <tr>\n",
       "      <th>6</th>\n",
       "      <td>-0.915278</td>\n",
       "      <td>-1.237985</td>\n",
       "      <td>-0.707827</td>\n",
       "      <td>-0.289892</td>\n",
       "      <td>209618.0</td>\n",
       "      <td>957.459961</td>\n",
       "    </tr>\n",
       "    <tr>\n",
       "      <th>7</th>\n",
       "      <td>0.165298</td>\n",
       "      <td>0.204892</td>\n",
       "      <td>-1.269175</td>\n",
       "      <td>-0.289892</td>\n",
       "      <td>77019.0</td>\n",
       "      <td>1719.329468</td>\n",
       "    </tr>\n",
       "    <tr>\n",
       "      <th>8</th>\n",
       "      <td>-1.217488</td>\n",
       "      <td>-1.594342</td>\n",
       "      <td>1.186647</td>\n",
       "      <td>-0.289892</td>\n",
       "      <td>120468.0</td>\n",
       "      <td>1265.729126</td>\n",
       "    </tr>\n",
       "  </tbody>\n",
       "</table>"
      ],
      "text/plain": [
       "<IPython.core.display.HTML object>"
      ]
     },
     "metadata": {},
     "output_type": "display_data"
    }
   ],
   "source": [
    "learn.show_results()"
   ]
  },
  {
   "cell_type": "markdown",
   "metadata": {
    "id": "HTXGA4vsQEoO"
   },
   "source": [
    "## Validação\n",
    "Além da validação do framework, valida-se em tempo diferente do treinamento/validação do treinamento do modelo."
   ]
  },
  {
   "cell_type": "code",
   "execution_count": 213,
   "metadata": {
    "id": "cWPI0PDoE-oj"
   },
   "outputs": [],
   "source": [
    "test_df = pd.read_csv(filepath_or_buffer=path, nrows=10)\n",
    "test_df.drop(['aid_shift'], axis=1, inplace=True)\n",
    "dl = learn.dls.test_dl(test_df)"
   ]
  },
  {
   "cell_type": "code",
   "execution_count": 214,
   "metadata": {
    "colab": {
     "base_uri": "https://localhost:8080/",
     "height": 17
    },
    "id": "UShZt5y6_vz3",
    "outputId": "444b98b7-9521-4134-da16-09c14228d5ba"
   },
   "outputs": [
    {
     "data": {
      "text/html": [
       "\n",
       "<style>\n",
       "    /* Turns off some styling */\n",
       "    progress {\n",
       "        /* gets rid of default border in Firefox and Opera. */\n",
       "        border: none;\n",
       "        /* Needs to be in here for Safari polyfill so background images work as expected. */\n",
       "        background-size: auto;\n",
       "    }\n",
       "    progress:not([value]), progress:not([value])::-webkit-progress-bar {\n",
       "        background: repeating-linear-gradient(45deg, #7e7e7e, #7e7e7e 10px, #5c5c5c 10px, #5c5c5c 20px);\n",
       "    }\n",
       "    .progress-bar-interrupted, .progress-bar-interrupted::-webkit-progress-bar {\n",
       "        background: #F44336;\n",
       "    }\n",
       "</style>\n"
      ],
      "text/plain": [
       "<IPython.core.display.HTML object>"
      ]
     },
     "metadata": {},
     "output_type": "display_data"
    },
    {
     "data": {
      "text/html": [
       "\n",
       "    <div>\n",
       "      <progress value='0' class='' max='1' style='width:300px; height:20px; vertical-align: middle;'></progress>\n",
       "      \n",
       "    </div>\n",
       "    "
      ],
      "text/plain": [
       "<IPython.core.display.HTML object>"
      ]
     },
     "metadata": {},
     "output_type": "display_data"
    },
    {
     "data": {
      "text/html": [
       "<div>\n",
       "<style scoped>\n",
       "    .dataframe tbody tr th:only-of-type {\n",
       "        vertical-align: middle;\n",
       "    }\n",
       "\n",
       "    .dataframe tbody tr th {\n",
       "        vertical-align: top;\n",
       "    }\n",
       "\n",
       "    .dataframe thead th {\n",
       "        text-align: right;\n",
       "    }\n",
       "</style>\n",
       "<table border=\"1\" class=\"dataframe\">\n",
       "  <thead>\n",
       "    <tr style=\"text-align: right;\">\n",
       "      <th></th>\n",
       "      <th>aid_shift_pred</th>\n",
       "    </tr>\n",
       "  </thead>\n",
       "  <tbody>\n",
       "    <tr>\n",
       "      <th>0</th>\n",
       "      <td>20609.628906</td>\n",
       "    </tr>\n",
       "    <tr>\n",
       "      <th>1</th>\n",
       "      <td>5652.384277</td>\n",
       "    </tr>\n",
       "    <tr>\n",
       "      <th>2</th>\n",
       "      <td>12343.678711</td>\n",
       "    </tr>\n",
       "    <tr>\n",
       "      <th>3</th>\n",
       "      <td>21675.001953</td>\n",
       "    </tr>\n",
       "    <tr>\n",
       "      <th>4</th>\n",
       "      <td>266311.468750</td>\n",
       "    </tr>\n",
       "    <tr>\n",
       "      <th>5</th>\n",
       "      <td>215707.359375</td>\n",
       "    </tr>\n",
       "    <tr>\n",
       "      <th>6</th>\n",
       "      <td>49838.472656</td>\n",
       "    </tr>\n",
       "    <tr>\n",
       "      <th>7</th>\n",
       "      <td>154395.562500</td>\n",
       "    </tr>\n",
       "    <tr>\n",
       "      <th>8</th>\n",
       "      <td>98080.210938</td>\n",
       "    </tr>\n",
       "    <tr>\n",
       "      <th>9</th>\n",
       "      <td>136163.781250</td>\n",
       "    </tr>\n",
       "  </tbody>\n",
       "</table>\n",
       "</div>"
      ],
      "text/plain": [
       "   aid_shift_pred\n",
       "0    20609.628906\n",
       "1     5652.384277\n",
       "2    12343.678711\n",
       "3    21675.001953\n",
       "4   266311.468750\n",
       "5   215707.359375\n",
       "6    49838.472656\n",
       "7   154395.562500\n",
       "8    98080.210938\n",
       "9   136163.781250"
      ]
     },
     "execution_count": 214,
     "metadata": {},
     "output_type": "execute_result"
    }
   ],
   "source": [
    "preds = learn.get_preds(dl=dl)\n",
    "pred_list = []\n",
    "for i in range(len(preds[0])): pred_list.append(preds[0][i].numpy()[0])\n",
    "df_valid = pd.DataFrame(pred_list, index=test_df.index.values, columns=['aid_shift_pred'])\n",
    "# df_valid['aid_shift'] = test_df['predict_close']\n",
    "# df_valid['real_close'] = df_valid['aid_shift']\n",
    "df_valid"
   ]
  },
  {
   "cell_type": "markdown",
   "metadata": {},
   "source": [
    "## Colaborative Filtering\n"
   ]
  },
  {
   "cell_type": "markdown",
   "metadata": {},
   "source": [
    "* Reposicionando colunas"
   ]
  },
  {
   "cell_type": "code",
   "execution_count": 52,
   "metadata": {
    "pycharm": {
     "name": "#%%\n"
    }
   },
   "outputs": [],
   "source": [
    "df = df[['session', 'aid', 'type_cat']]"
   ]
  },
  {
   "cell_type": "markdown",
   "metadata": {},
   "source": [
    "* Carga em CollabDLS"
   ]
  },
  {
   "cell_type": "code",
   "execution_count": 105,
   "metadata": {
    "pycharm": {
     "name": "#%%\n"
    }
   },
   "outputs": [
    {
     "data": {
      "text/plain": "<IPython.core.display.HTML object>",
      "text/html": "<table border=\"1\" class=\"dataframe\">\n  <thead>\n    <tr style=\"text-align: right;\">\n      <th></th>\n      <th>session</th>\n      <th>aid</th>\n      <th>type_cat</th>\n    </tr>\n  </thead>\n  <tbody>\n    <tr>\n      <th>0</th>\n      <td>54747</td>\n      <td>1658561</td>\n      <td>0</td>\n    </tr>\n    <tr>\n      <th>1</th>\n      <td>69340</td>\n      <td>915201</td>\n      <td>0</td>\n    </tr>\n    <tr>\n      <th>2</th>\n      <td>32414</td>\n      <td>1247601</td>\n      <td>0</td>\n    </tr>\n    <tr>\n      <th>3</th>\n      <td>58665</td>\n      <td>300379</td>\n      <td>0</td>\n    </tr>\n    <tr>\n      <th>4</th>\n      <td>67439</td>\n      <td>1277509</td>\n      <td>0</td>\n    </tr>\n    <tr>\n      <th>5</th>\n      <td>17389</td>\n      <td>696338</td>\n      <td>0</td>\n    </tr>\n    <tr>\n      <th>6</th>\n      <td>62478</td>\n      <td>1218102</td>\n      <td>0</td>\n    </tr>\n    <tr>\n      <th>7</th>\n      <td>37864</td>\n      <td>520388</td>\n      <td>0</td>\n    </tr>\n    <tr>\n      <th>8</th>\n      <td>51629</td>\n      <td>1629866</td>\n      <td>0</td>\n    </tr>\n    <tr>\n      <th>9</th>\n      <td>5984</td>\n      <td>1777747</td>\n      <td>0</td>\n    </tr>\n  </tbody>\n</table>"
     },
     "metadata": {},
     "output_type": "display_data"
    }
   ],
   "source": [
    "from fastai.collab import *\n",
    "dls = CollabDataLoaders.from_df(df, item_name='aid', bs=64)\n",
    "dls.train.show_batch()"
   ]
  },
  {
   "cell_type": "code",
   "execution_count": 54,
   "metadata": {
    "pycharm": {
     "name": "#%%\n"
    }
   },
   "outputs": [
    {
     "data": {
      "text/plain": [
       "{'session': ['#na#', 31, 85, 137, 148, 243, 251, 392, 451, 463, 471, 496, 516, 540, 580, 623, 737, 808, 833, 858, 897, 1025, 1084, 1088, 1127, 1139, 1143, 1238, 1265, 1270, 1303, 1322, 1339, 1342, 1352, 1395, 1460, 1483, 1507, 1522, 1580, 1591, 1618, 1645, 1650, 1699, 1721, 1829, 1884, 1896, 1903, 1959, 1975, 1990, 2025, 2122, 2142, 2231, 2235, 2259, 2366, 2387, 2393, 2443, 2488, 2525, 2563, 2572, 2580, 2659, 2711, 2721, 2748, 2776, 2811, 2821, 2866, 2923, 2996, 2999, 3000, 3089, 3098, 3175, 3179, 3213, 3220, 3226, 3352, 3475, 3488, 3490, 3698, 3704, 3749, 3761, 3794, 3796, 3876, 3918, 3986, 3997, 4042, 4078, 4101, 4158, 4161, 4186, 4190, 4219, 4239, 4364, 4391, 4489, 4519, 4684, 4818, 4900, 4929, 4935, 4937, 5071, 5074, 5117, 5155, 5156, 5173, 5223, 5287, 5300, 5308, 5345, 5482, 5518, 5614, 5803, 5984, 6266, 6336, 6357, 6361, 6393, 6397, 6466, 6482, 6559, 6597, 6598, 6620, 6622, 6623, 6654, 6658, 6773, 6825, 7066, 7098, 7120, 7168, 7240, 7253, 7281, 7340, 7387, 7417, 7530, 7554, 7644, 7754, 7833, 7850, 7879, 7880, 7910, 7982, 7993, 8086, 8105, 8109, 8222, 8257, 8389, 8407, 8592, 8638, 8650, 8743, 8779, 8803, 8911, 8924, 8928, 8932, 9071, 9162, 9169, 9182, 9376, 9383, 9427, 9454, 9465, 9517, 9558, 9564, 9852, 9879, 9900, 9946, 10081, 10121, 10206, 10230, 10362, 10462, 10468, 10623, 10703, 10708, 10745, 10768, 10798, 10817, 10862, 10914, 11025, 11033, 11141, 11146, 11280, 11316, 11317, 11393, 11458, 11500, 11630, 11639, 11710, 11713, 11748, 11800, 11858, 11936, 12006, 12027, 12046, 12139, 12292, 12366, 12367, 12393, 12471, 12611, 12626, 12715, 12799, 12940, 12998, 13009, 13060, 13188, 13207, 13261, 13285, 13289, 13465, 13483, 13508, 13601, 13622, 13623, 13648, 13832, 13840, 13875, 13898, 13910, 13916, 14075, 14148, 14289, 14315, 14324, 14377, 14420, 14423, 14450, 14465, 14514, 14536, 14570, 14714, 14809, 14832, 14837, 14876, 14958, 14997, 15003, 15100, 15162, 15173, 15207, 15254, 15296, 15382, 15447, 15538, 15575, 15604, 15619, 15655, 15727, 15738, 15790, 15846, 15957, 15967, 16224, 16283, 16339, 16386, 16500, 16503, 16534, 16574, 16680, 16791, 16828, 16861, 16916, 16924, 17008, 17028, 17044, 17077, 17172, 17193, 17223, 17389, 17420, 17437, 17607, 17679, 17688, 17708, 17712, 17751, 17753, 17754, 17775, 17783, 17809, 17837, 18024, 18043, 18051, 18161, 18201, 18218, 18221, 18282, 18382, 18467, 18479, 18498, 18502, 18503, 18539, 18595, 18654, 18746, 18759, 18800, 18828, 18838, 18866, 18884, 18902, 18911, 18944, 18956, 18979, 19021, 19023, 19079, 19131, 19138, 19161, 19165, 19200, 19204, 19206, 19325, 19351, 19413, 19499, 19526, 19530, 19553, 19614, 19619, 19669, 19683, 19729, 19758, 19868, 19873, 19878, 19886, 19962, 19984, 20020, 20029, 20052, 20120, 20134, 20135, 20170, 20247, 20268, 20382, 20396, 20398, 20425, 20467, 20473, 20481, 20497, 20506, 20596, 20624, 20683, 20735, 20924, 20928, 21058, 21116, 21121, 21220, 21296, 21394, 21412, 21545, 21558, 21598, 21633, 21700, 21715, 21761, 21859, 21938, 22004, 22021, 22097, 22107, 22185, 22188, 22223, 22225, 22346, 22373, 22412, 22521, 22555, 22609, 22684, 22899, 22951, 22965, 22970, 22990, 23015, 23086, 23123, 23136, 23144, 23193, 23267, 23271, 23336, 23364, 23367, 23439, 23455, 23523, 23571, 23607, 23658, 23694, 23706, 23709, 23727, 23868, 24078, 24171, 24200, 24347, 24354, 24355, 24504, 24630, 24663, 24664, 24690, 24719, 24728, 24747, 24855, 24873, 24985, 25106, 25150, 25203, 25227, 25283, 25462, 25517, 25591, 25638, 25639, 25686, 25895, 26087, 26111, 26128, 26178, 26200, 26335, 26375, 26425, 26544, 26583, 26619, 26623, 26646, 26699, 26706, 26708, 26736, 26755, 26767, 26769, 26787, 26801, 26936, 27030, 27118, 27129, 27194, 27214, 27255, 27261, 27266, 27466, 27471, 27480, 27484, 27602, 27609, 27709, 27733, 27760, 27856, 27888, 27966, 27974, 27977, 28024, 28088, 28124, 28146, 28170, 28298, 28316, 28526, 28577, 28581, 28584, 28664, 28759, 28836, 28871, 28883, 28893, 29022, 29054, 29058, 29075, 29109, 29177, 29194, 29225, 29228, 29285, 29305, 29483, 29566, 29595, 29601, 29630, 29719, 29744, 29811, 29814, 29827, 29834, 29894, 29942, 29950, 29993, 29997, 30183, 30330, 30361, 30525, 30547, 30617, 30632, 30654, 30802, 30903, 30970, 30988, 31031, 31035, 31076, 31118, 31161, 31236, 31261, 31275, 31285, 31290, 31301, 31350, 31352, 31367, 31380, 31435, 31447, 31528, 31543, 31680, 31689, 31759, 31763, 31834, 31872, 31912, 31928, 31951, 31983, 31988, 32016, 32102, 32291, 32304, 32396, 32414, 32445, 32460, 32525, 32539, 32554, 32560, 32592, 32622, 32648, 32680, 32786, 32832, 32855, 32871, 32891, 32988, 33118, 33221, 33337, 33375, 33412, 33437, 33550, 33569, 33602, 33607, 33615, 33690, 33717, 33722, 33762, 33855, 33868, 33987, 34029, 34061, 34103, 34197, 34234, 34239, 34275, 34435, 34450, 34488, 34489, 34494, 34495, 34531, 34569, 34591, 34602, 34611, 34650, 34697, 34713, 34742, 34759, 34870, 34878, 35044, 35071, 35094, 35142, 35184, 35235, 35351, 35361, 35371, 35399, 35450, 35632, 35654, 35689, 35694, 35702, 35713, 35794, 35800, 35820, 35868, 35912, 35927, 35947, 35950, 35982, 35988, 36066, 36069, 36098, 36106, 36131, 36155, 36192, 36224, 36312, 36347, 36355, 36468, 36525, 36538, 36559, 36583, 36591, 36655, 36706, 36783, 36819, 36982, 37006, 37015, 37025, 37111, 37146, 37152, 37195, 37215, 37251, 37297, 37307, 37355, 37409, 37480, 37482, 37489, 37526, 37593, 37657, 37668, 37669, 37734, 37768, 37788, 37818, 37832, 37864, 38139, 38146, 38150, 38152, 38153, 38220, 38270, 38297, 38298, 38395, 38422, 38436, 38562, 38581, 38582, 38607, 38611, 38615, 38621, 38651, 38656, 38707, 38723, 38730, 38758, 38806, 38868, 38910, 38980, 39069, 39151, 39153, 39161, 39217, 39285, 39432, 39433, 39460, 39513, 39582, 39597, 39671, 39742, 39788, 39827, 39867, 39977, 40011, 40021, 40107, 40132, 40165, 40199, 40256, 40261, 40332, 40335, 40383, 40386, 40439, 40515, 40542, 40574, 40578, 40631, 40653, 40677, 40687, 40824, 40893, 40900, 41037, 41085, 41126, 41141, 41175, 41265, 41409, 41496, 41530, 41575, 41696, 41704, 41751, 41887, 41890, 41913, 41946, 41988, 42102, 42304, 42348, 42373, 42397, 42468, 42613, 42635, 42754, 42834, 42926, 42942, 43010, 43103, 43108, 43109, 43256, 43260, 43270, 43302, 43307, 43359, 43370, 43527, 43588, 43688, 43690, 43714, 43741, 43852, 43921, 43935, 43938, 44022, 44141, 44205, 44321, 44358, 44398, 44437, 44505, 44553, 44588, 44595, 44596, 44623, 44653, 44691, 44740, 44776, 44792, 44822, 44884, 44906, 45011, 45027, 45030, 45054, 45127, 45151, 45183, 45211, 45307, 45341, 45615, 45621, 45622, 45628, 45630, 45634, 45731, 45769, 45895, 45962, 45978, 46030, 46108, 46147, 46209, 46255, 46266, 46306, 46362, 46423, 46448, 46465, 46491, 46521, 46555, 46608, 46778, 46781, 46818, 46819, 46938, 46943, 46952, 46994, 47013, 47084, 47211, 47217, 47231, 47268, 47283, 47300, 47496, 47497, 47501, 47573, 47622, 47671, 47711, 47753, 47766, 47900, 47935, 48035, 48127, 48206, 48244, 48254, 48308, 48316, 48345, 48398, 48401, 48510, 48623, 48686, 48711, 48780, 48795, 48838, 48875, 48880, 48942, 48979, 49101, 49171, 49197, 49308, 49331, 49429, 49449, 49476, 49503, 49607, 49662, 49668, 49686, 49696, 49699, 49717, 49748, 49814, 49855, 49869, 50021, 50090, 50202, 50223, 50309, 50320, 50340, 50343, 50348, 50353, 50451, 50546, 50581, 50610, 50612, 50732, 50754, 50792, 50803, 50847, 50954, 50963, 51022, 51086, 51123, 51142, 51243, 51388, 51393, 51415, 51433, 51454, 51455, 51595, 51607, 51622, 51629, 51640, 51801, 51914, 51927, 52100, 52133, 52264, 52288, 52338, 52507, 52670, 52675, 52697, 52855, 52987, 53051, 53056, 53092, 53098, 53158, 53168, 53172, 53191, 53299, 53338, 53340, 53528, 53565, 53576, 53620, 53630, 53634, 53691, 53741, 53820, 53896, 53906, 53963, 54051, 54172, 54190, 54212, 54231, 54258, 54264, 54448, 54518, 54551, 54676, 54747, 54769, 54844, 54958, 54980, 54984, 54989, 55013, 55155, 55197, 55202, 55265, 55272, 55279, 55283, 55363, 55498, 55539, 55547, 55622, 55669, 55869, 55879, 55966, 56022, 56054, 56096, 56110, 56168, 56203, 56204, 56259, 56297, 56350, 56465, 56490, 56502, 56617, 56640, 56680, 56687, 56741, 56768, 56840, 56941, 56943, 56987, 57020, 57039, 57178, 57201, 57202, 57306, 57370, 57380, 57398, 57412, 57513, 57693, 57754, 57771, 57877, 57955, 57984, 58021, 58039, 58061, 58066, 58072, 58196, 58305, 58395, 58402, 58486, 58513, 58517, 58572, 58665, 58694, 58707, 58797, 58811, 58835, 58850, 58905, 59086, 59115, 59229, 59244, 59345, 59355, 59384, 59411, 59487, 59663, 59667, 59680, 59724, 59748, 59754, 59832, 59896, 59966, 59990, 60001, 60068, 60455, 60562, 60596, 60642, 60769, 60835, 60917, 60962, 60964, 60965, 61051, 61202, 61230, 61242, 61250, 61313, 61330, 61344, 61365, 61390, 61501, 61682, 61745, 61766, 61793, 61867, 61972, 62015, 62090, 62107, 62172, 62372, 62398, 62400, 62458, 62462, 62478, 62526, 62542, 62606, 62680, 62740, 62780, 62880, 62961, 62985, 63017, 63055, 63087, 63106, 63111, 63145, 63152, 63155, 63172, 63197, 63255, 63271, 63345, 63388, 63464, 63469, 63505, 63557, 63574, 63588, 63645, 63781, 63854, 63905, 63964, 64067, 64121, 64185, 64354, 64412, 64423, 64519, 64536, 64590, 64593, 64628, 64648, 64822, 64859, 64989, 65009, 65104, 65220, 65241, 65251, 65300, 65305, 65308, 65313, 65353, 65408, 65454, 65478, 65486, 65522, 65618, 65686, 65726, 65771, 65867, 65879, 65905, 65974, 66010, 66077, 66132, 66166, 66176, 66277, 66289, 66400, 66463, 66469, 66562, 66594, 66613, 66672, 66738, 66751, 66755, 66778, 66828, 66967, 67050, 67068, 67086, 67089, 67225, 67231, 67278, 67294, 67376, 67388, 67439, 67492, 67574, 67618, 67663, 67753, 67782, 67857, 67861, 67865, 68037, 68047, 68064, 68078, 68090, 68098, 68135, 68202, 68386, 68433, 68471, 68485, 68544, 68575, 68579, 68592, 68609, 68610, 68672, 68678, 68804, 68877, 68879, 69035, 69042, 69048, 69204, 69247, 69279, 69333, 69338, 69340, 69341, 69352, 69385, 69454, 69478, 69481, 69580, 69595, 69601, 69637, 69743, 69828, 70097, 70109, 70216, 70252, 70322, 70355, 70442, 70456, 70476, 70480, 70508, 70744, 70803, 70830, 70844, 70863, 70881, 70895, 71106, 71283, 71454, 71468, 71510, 71527, 71565, 71571, 71580, 71600, 71670, 71709, 71732, 71821, 71984, 71987, 71995, 72053, 72145, 72232, 72254, 72266, 72288, 72387, 72546, 72578, 72610, 72688, 72702, 72758, 72785, 72820, 72912, 72938, 72941, 72981, 72996, 73041, 73048, 73091, 73156, 73169, 73289, 73305, 73341, 73352, 73436, 73452, 73470, 73683, 73745, 73797, 73878, 73900, 73933, 74009, 74058, 74097, 74166, 74251, 74264, 74281, 74318, 74411, 74440, 74452, 74595, 74681, 74757, 74775, 74820, 74826, 74836, 74852, 74854, 74904, 74912, 74948, 75039, 75070, 75102, 75120, 75122, 75149, 75250, 75294, 75305, 75321, 75341, 75498, 75509, 75515, 75541, 75589, 75614, 75620, 75705, 75789, 75852, 75877, 75949, 75969, 75979, 76083, 76110, 76143, 76148, 76156, 76164, 76169, 76187, 76202, 76236, 76293, 76294, 76305, 76312, 76366, 76493, 76530, 76701, 76739, 76756, 76885, 76989, 77057, 77064, 77231, 77234, 77352, 77373, 77422, 77488, 77535, 77701, 77803, 77851, 77913, 77939, 78000, 78023, 78046, 78064, 78113, 78120, 78149, 78185, 78269, 78272, 78334, 78383, 78400, 78440, 78478, 78494, 78539, 78561, 78603, 78645, 78700, 78709, 78766, 78776, 78805, 78905, 78925, 79130, 79163, 79207, 79220, 79361, 79564, 79641, 79647, 79758, 79760, 79791, 80006, 80033, 80152, 80170, 80315, 80332, 80451, 80535, 80561, 80579, 80644, 80669, 80685, 80805, 80815, 80898, 80906, 80943, 80999, 81050, 81137, 81273, 81284, 81312, 81326, 81349, 81410, 81465, 81475, 81496, 81501, 81527, 81703, 81734, 81832, 81900, 81935, 81968, 82049, 82115, 82124, 82140, 82164, 82233, 82375, 82385, 82409, 82432, 82459, 82465, 82498, 82516, 82529, 82582, 82672, 82730, 82733, 82794, 82835, 82872, 82886, 82901, 82963, 82965, 82966, 83033, 83242, 83250, 83291, 83307, 83325, 83421, 83427, 83536, 83613, 83654, 83663, 83684, 83693, 83702, 83746, 83769, 83861, 83947, 84018, 84247, 84275, 84288, 84314, 84445, 84479, 84533, 84542, 84602, 84654, 84704, 84706, 84720, 84739, 84774, 84812, 84936, 85000, 85052, 85100, 85119, 85193, 85253, 85268, 85321, 85332, 85349, 85351, 85363, 85456, 85579, 85748, 85749, 85820, 85840, 85858, 85873, 85900, 85946, 86074, 86078, 86082, 86181, 86206, 86256, 86337, 86400, 86406, 86409, 86411, 86443, 86480, 86627, 86672, 86771, 86775, 86927, 87023, 87028, 87035, 87066, 87120, 87219, 87224, 87253, 87295, 87338, 87339, 87349, 87462, 87482, 87560, 87616, 87656, 87675, 87724, 87742, 87759, 87849, 87905, 87982, 88156, 88211, 88508, 88599, 88666, 88674, 88726, 88871, 88999, 89044, 89056, 89165, 89166, 89194, 89221, 89379, 89385, 89428, 89461, 89476, 89506, 89537, 89574, 89781, 89844, 89863, 89874, 89878, 89882, 89900, 90019, 90107, 90228, 90388, 90446, 90450, 90457, 90461, 90493, 90550, 90567, 90586, 90674, 90692, 90804, 90817, 90818, 90873, 90891, 91084, 91088, 91141, 91200, 91279, 91298, 91299, 91367, 91412, 91446, 91473, 91516, 91653, 91678, 91690, 91755, 91784, 91785, 91919, 91934, 91937, 91973, 91990, 92008, 92080, 92182, 92188, 92191, 92235, 92285, 92317, 92350, 92406, 92644, 92834, 92858, 92895, 92959, 92984, 93037, 93112, 93131, 93145, 93240, 93285, 93291, 93319, 93341, 93407, 93431, 93432, 93477, 93486, 93487, 93630, 93633, 93643, 93645, 93691, 93806, 93891, 93905, 93948, 94025, 94265, 94274, 94283],\n",
       " 'aid': ['#na#', 43, 133, 137, 237, 284, 332, 344, 381, 391, 447, 458, 473, 502, 636, 662, 681, 691, 729, 787, 890, 952, 984, 1089, 1098, 1143, 1178, 1182, 1256, 1321, 1341, 1347, 1372, 1414, 1416, 1429, 1450, 1466, 1482, 1503, 1528, 1550, 1600, 1667, 1830, 1850, 1960, 2027, 2047, 2103, 2137, 2149, 2157, 2177, 2250, 2283, 2291, 2451, 2514, 2619, 2702, 2823, 2987, 3089, 3100, 3121, 3153, 3246, 3295, 3308, 3323, 3542, 3628, 3663, 3677, 3745, 3773, 3846, 3857, 3979, 4115, 4203, 4268, 4360, 4388, 4404, 4519, 4541, 4583, 4595, 4622, 4640, 4642, 4676, 4709, 4734, 4757, 4784, 4827, 4898, 4926, 4930, 5070, 5269, 5377, 5393, 5401, 5420, 5433, 5444, 5605, 5606, 5613, 5678, 5704, 5776, 5899, 5932, 6034, 6162, 6245, 6386, 6417, 6477, 6594, 6620, 6748, 6750, 6771, 6803, 6845, 6851, 6900, 6919, 7152, 7159, 7176, 7181, 7227, 7244, 7325, 7447, 7456, 7472, 7541, 7635, 7640, 7651, 7657, 7658, 7767, 7793, 7859, 7869, 7903, 7917, 7962, 8011, 8182, 8242, 8370, 8382, 8395, 8549, 8557, 8569, 8570, 8602, 8640, 8643, 8712, 8752, 8884, 8949, 8992, 9113, 9212, 9231, 9255, 9268, 9394, 9408, 9497, 9684, 9712, 9742, 9753, 9805, 9822, 9841, 9854, 9891, 9936, 9969, 9971, 9976, 9998, 10000, 10163, 10312, 10328, 10335, 10394, 10398, 10413, 10438, 10533, 10555, 10565, 10583, 10586, 10595, 10649, 10767, 10851, 10853, 10918, 10933, 10941, 10964, 10968, 10970, 11090, 11099, 11108, 11114, 11174, 11233, 11311, 11321, 11404, 11460, 11488, 11513, 11567, 11572, 11592, 11722, 11748, 11760, 11771, 11792, 11830, 11900, 11912, 12010, 12020, 12051, 12086, 12135, 12214, 12224, 12236, 12253, 12347, 12351, 12356, 12379, 12420, 12469, 12503, 12505, 12522, 12527, 12564, 12590, 12704, 12725, 12782, 12845, 12860, 12869, 12954, 13013, 13064, 13095, 13106, 13182, 13260, 13264, 13302, 13307, 13325, 13348, 13356, 13383, 13405, 13449, 13499, 13532, 13552, 13556, 13567, 13568, 13600, 13614, 13655, 13679, 13705, 13778, 13819, 13895, 13930, 13966, 13972, 13994, 14008, 14020, 14071, 14123, 14125, 14146, 14147, 14161, 14388, 14453, 14463, 14488, 14512, 14540, 14553, 14642, 14661, 14698, 14766, 14775, 14816, 14835, 14978, 14986, 15038, 15133, 15174, 15226, 15272, 15285, 15356, 15493, 15658, 15710, 15718, 15764, 15765, 15790, 16037, 16115, 16121, 16151, 16194, 16230, 16246, 16257, 16281, 16293, 16312, 16330, 16393, 16414, 16455, 16592, 16594, 16597, 16598, 16644, 16671, 16714, 16720, 16739, 16772, 16778, 16804, 16806, 16924, 17221, 17316, 17335, 17400, 17567, 17595, 17664, 17666, 17706, 17754, 17824, 17848, 17934, 17959, 18035, 18044, 18210, 18232, 18286, 18437, 18443, 18561, 18669, 18769, 18791, 18828, 18861, 18983, 19035, 19067, 19074, 19108, 19179, 19199, 19289, 19291, 19295, 19468, 19521, 19703, 19744, 19794, 19835, 19907, 19932, 20012, 20086, 20133, 20151, 20160, 20184, 20228, 20271, 20351, 20358, 20363, 20450, 20453, 20463, 20670, 20716, 20717, 20723, 20819, 20852, 20881, 20922, 20926, 20957, 20960, 20976, 20979, 21139, 21250, 21305, 21350, 21406, 21468, 21568, 21570, 21587, 21681, 21694, 21721, 21753, 21757, 21858, 21866, 21893, 21919, 21926, 21931, 21942, 21959, 22021, 22056, 22065, 22084, 22093, 22195, 22258, 22277, 22345, 22447, 22517, 22544, 22551, 22689, 22722, 22723, 23058, 23151, 23213, 23241, 23267, 23277, 23307, 23332, 23341, 23486, 23520, 23566, 23586, 23678, 23684, 23743, 23852, 24032, 24226, 24233, 24234, 24263, 24316, 24318, 24321, 24363, 24419, 24467, 24532, 24548, 24614, 24615, 24635, 24642, 24646, 24649, 24669, 24920, 24936, 24955, 25097, 25132, 25178, 25193, 25250, 25331, 25430, 25457, 25476, 25490, 25530, 25539, 25558, 25579, 25584, 25595, 25653, 25691, 25783, 25787, 25822, 25827, 25897, 25964, 25995, 26041, 26066, 26177, 26190, 26203, 26267, 26435, 26525, 26540, 26600, 26620, 26638, 26680, 26778, 26850, 26866, 26889, 26914, 26960, 26985, 27087, 27116, 27189, 27238, 27296, 27326, 27345, 27357, 27363, 27372, 27391, 27412, 27482, 27503, 27537, 27567, 27752, 27952, 27974, 27989, 27993, 28038, 28092, 28153, 28237, 28357, 28390, 28437, 28546, 28594, 28637, 28759, 28771, 28820, 29023, 29037, 29144, 29160, 29179, 29187, 29292, 29304, 29306, 29371, 29426, 29441, 29454, 29492, 29495, 29520, 29595, 29650, 29670, 29677, 29735, 29777, 29836, 29867, 29947, 30097, 30141, 30183, 30234, 30318, 30373, 30394, 30439, 30441, 30445, 30481, 30503, 30545, 30555, 30561, 30570, 30627, 30628, 30657, 30699, 30704, 30734, 30754, 30824, 31080, 31121, 31175, 31210, 31406, 31490, 31513, 31527, 31593, 31640, 31646, 31647, 31706, 31748, 31855, 31937, 32065, 32070, 32071, 32103, 32139, 32151, 32176, 32310, 32496, 32526, 32538, 32600, 32611, 32631, 32645, 32667, 32698, 32727, 32793, 32879, 33035, 33057, 33217, 33343, 33383, 33472, 33497, 33501, 33675, 33693, 33700, 33707, 33725, 33775, 33831, 33840, 33882, 34242, 34246, 34326, 34423, 34430, 34463, 34473, 34487, 34513, 34530, 34565, 34573, 34615, 34828, 34927, 34982, 35033, 35096, 35188, 35278, 35328, 35429, 35487, 35489, 35536, 35621, 35659, 35690, 35749, 35770, 35774, 35806, 35816, 35855, 35906, 35918, 35947, 36064, 36072, 36122, 36169, 36236, 36250, 36273, 36276, 36389, 36463, 36549, 36553, 36705, 36711, 36769, 36824, 36852, 36858, 36873, 36886, 36913, 36952, 36966, 36973, 37049, 37064, 37163, 37309, 37337, 37366, 37405, 37625, 37679, 37683, 37698, 37883, 37923, 37942, 37995, 38058, 38073, 38136, 38143, 38149, 38180, 38220, 38303, 38337, 38441, 38497, 38580, 38613, 38690, 38758, 38793, 38801, 38863, 38877, 38883, 38944, 38957, 38996, 38997, 39041, 39045, 39061, 39064, 39163, 39166, 39175, 39198, 39282, 39310, 39380, 39410, 39464, 39531, 39551, 39615, 39658, 39675, 39796, 39846, 39901, 40073, 40105, 40203, 40217, 40227, 40247, 40358, 40431, 40497, 40574, 40583, 40625, 40650, 40680, 40749, 40779, 40797, 40806, 40966, 41000, 41264, 41351, 41366, 41467, 41498, 41508, 41628, 41650, 41661, 41682, 41780, 41811, 41846, 41854, 41887, 42004, 42203, 42220, 42248, 42261, 42280, 42386, 42390, 42391, 42419, 42432, 42463, 42464, 42470, 42588, 42628, 42790, 42854, 42857, 42913, 42927, 42972, 43027, 43174, 43224, 43285, 43313, 43342, 43480, 43516, 43614, 43619, 43623, 43626, 43645, 43733, 43737, 43749, 43772, 43799, 43901, 43920, 43930, 44055, 44086, 44161, 44184, 44206, 44207, 44215, 44288, 44327, 44571, 44614, 44682, 44707, 44802, 45034, 45127, 45194, 45206, 45226, 45273, 45275, 45309, 45416, 45467, 45494, 45518, 45575, 45690, 45751, 45825, 45860, 45862, 46021, 46095, 46174, 46229, 46260, 46282, 46287, 46318, 46380, 46432, 46488, 46525, 46538, 46543, 46586, 46596, 46599, 46648, 46677, 46722, 46732, 46746, 46934, 46950, 47059, 47132, 47150, 47175, 47337, 47414, 47425, 47434, 47441, 47454, 47467, 47544, 47546, 47641, 47674, 47680, 47690, 47814, 47818, 47926, 48004, 48070, 48077, 48086, 48120, 48355, 48375, 48415, 48494, 48525, 48527, 48534, 48652, 48688, 48842, 48864, 48942, 48977, 48982, 48985, 49020, 49047, 49101, 49249, 49290, 49384, 49435, 49483, 49507, 49641, 49661, 49864, 49890, 49907, 49928, 49937, 49983, 50154, 50249, 50255, 50313, 50328, 50368, 50398, 50609, 50654, 50715, 50731, 50980, 51019, 51052, 51072, 51144, 51179, 51201, 51214, 51250, 51297, 51329, 51350, 51374, 51381, 51494, 51617, 51685, 51702, 51814, 51833, 51873, 51953, 52083, 52252, 52263, 52264, 52271, 52358, 52376, 52415, 52475, 52609, 52628, 52646, 52651, 52710, 52715, 52775, 52816, 52873, 52881, 53004, 53037, 53043, 53124, 53131, 53153, 53225, 53232, 53362, 53364, 53405, 53411, 53485, 53498, 53537, 53600, 53674, 53732, 53754, 53770, 53874, 53958, 53978, 54027, 54089, 54209, 54211, 54290, 54358, 54360, 54385, 54402, 54410, 54507, 54523, 54537, 54564, 54642, 54643, 54691, 54775, 54783, 54822, 54857, 55212, 55328, 55408, 55436, 55472, 55490, 55492, 55497, 55571, 55572, 55576, 55666, 55686, 55716, 55729, 55804, 55811, 55905, 55907, 56048, 56086, 56105, 56149, 56158, 56178, 56218, 56279, 56286, 56316, 56332, 56429, 56440, 56444, 56456, 56512, 56532, 56651, 56663, 56876, 56902, 56973, 56985, 57047, 57058, 57059, 57070, 57131, 57157, 57173, 57205, 57262, 57315, 57376, 57420, 57615, 57636, 57647, 57903, 57908, 57932, 58015, 58036, 58053, 58193, 58223, 58326, 58338, 58368, 58389, 58399, 58623, 58708, 58828, 58830, 58885, 58944, 58965, 58976, 59013, 59455, 59561, 59567, 59591, 59592, 59594, 59624, 59748, 59812, 59843, 59846, 59848, 59962, 60018, 60071, 60088, 60323, 60347, 60366, 60383, 60455, 60475, 60528, 60626, 60684, 60763, 60804, 60869, 60872, 61045, 61081, 61105, 61132, 61197, 61204, 61274, 61294, 61301, 61392, 61394, 61460, 61511, 61512, 61528, 61542, 61552, 61562, 61599, 61645, 61646, 61721, 61743, 61744, 61835, 61847, 61880, 61888, 61891, 61894, 61963, 62105, 62113, 62119, 62125, 62138, 62170, 62216, 62219, 62237, 62238, 62359, 62428, 62452, 62455, 62560, 62641, 62715, 62726, 62931, 62933, 62957, 62995, 63140, 63161, 63185, 63267, 63286, 63311, 63353, 63359, 63487, 63583, 63620, 63649, 63678, 63745, 63799, 63837, 63855, 63914, 63919, 63925, 63981, 64024, 64025, 64062, 64081, 64104, 64140, 64177, 64182, 64199, 64218, 64393, 64433, 64452, 64486, 64560, 64647, 64664, 64685, 64712, 64719, 64770, 64775, 64923, 64935, 64961, 64964, 65050, 65099, 65117, 65171, 65248, 65277, 65335, 65338, 65345, 65402, 65419, 65550, 65607, 65622, 65699, 65755, 65757, 65769, 65857, 66042, 66073, 66093, 66180, 66238, 66381, 66407, 66409, 66493, 66508, 66543, 66686, 66743, 66777, 66827, 66829, 66890, 67073, 67108, 67342, 67382, 67571, 67629, 67765, 67908, 67965, 67987, 68002, 68037, 68100, 68179, 68291, 68426, 68497, 68519, 68538, 68565, 68587, 68625, 68664, 68699, 68703, 68752, 68838, 68862, 68930, 68941, 69111, 69235, 69237, 69268, 69318, 69357, 69368, 69400, 69409, 69414, 69440, 69444, 69455, 69460, 69505, 69722, 69738, 69873, 70028, 70143, 70160, 70221, 70224, 70291, 70329, 70347, 70371, 70389, 70466, 70477, 70536, 70603, 70607, 70610, 70618, 70627, 70639, 70652, 70732, 70771, 70837, 70870, 70985, 70987, 70997, 71104, 71144, 71165, 71213, 71237, 71243, 71357, 71364, 71399, 71424, 71427, 71435, 71480, 71484, 71493, 71511, 71546, 71570, 71715, 71834, 71953, 71981, 72108, 72138, 72159, 72197, 72282, 72304, 72315, 72320, 72339, 72426, 72447, 72450, 72469, 72484, 72748, 72750, 72777, 72803, 72823, 72907, 72927, 72943, 73039, 73098, 73104, 73236, 73268, 73270, 73295, 73317, 73333, 73491, 73547, 73658, 73811, 74057, 74103, 74141, 74469, 74625, 74627, 74679, 74684, 74715, 74735, 74769, 74780, 74786, 74800, 74994, 75012, 75032, 75045, 75066, 75099, 75110, 75204, 75268, 75308, 75371, 75393, 75417, 75619, 75648, 75683, 75686, 75696, 75787, 75808, 75809, 75819, 75867, 75891, 75933, 75946, 75962, 75982, 76026, 76047, 76068, 76103, 76111, 76301, 76366, 76397, 76430, 76447, 76467, 76634, 76700, 76745, 76751, 76799, 76822, 76853, 76884, 76942, 77026, 77029, 77206, 77225, 77352, 77421, 77426, 77440, 77451, 77528, 77577, 77670, 77695, 77705, 77802, 77813, 77870, 77898, 77906, 77925, 77930, 78045, 78055, 78129, 78152, 78217, 78244, 78262, 78378, 78382, 78422, 78453, 78491, 78548, 78628, 78666, 78681, 78683, 78748, 78877, 78881, 79100, 79176, 79185, 79268, 79303, 79348, 79369, 79483, 79509, 79654, 79778, 79816, 79929, 79965, 80049, 80067, 80091, 80221, 80222, 80280, 80285, 80304, 80429, 80506, 80571, 80574, 80617, 80619, 80712, 80800, 80833, 80868, 81034, 81082, 81087, 81169, 81259, 81323, 81373, 81382, 81385, 81399, 81436, 81467, 81473, 81668, 81671, 81696, 81813, 81847, 81849, 81863, 81867, 81896, 81919, 82012, 82021, 82025, 82041, 82175, 82198, 82284, 82423, 82438, 82471, 82493, 82545, 82546, 82567, 82577, 82620, 82622, 82639, 82679, 82710, 82751, 82789, 82900, 82952, 83006, 83028, 83057, 83199, 83222, 83238, 83299, 83314, 83342, 83349, 83444, 83567, 83668, 83696, 83748, 83986, 84002, 84072, 84154, 84297, 84310, 84316, 84387, 84398, 84403, 84627, 84688, 84773, 84828, 84921, 84977, 84987, 85050, 85073, 85293, 85305, 85404, 85509, 85647, 85800, 85833, 85957, 86049, 86061, 86070, 86160, 86234, 86272, 86295, 86352, 86380, 86424, 86499, 86552, 86606, 86610, 86614, 86648, 86671, 86710, 86752, 86764, 86770, 86777, 86889, 87003, 87015, 87033, 87048, 87166, 87251, 87442, 87503, 87567, 87573, 87583, 87585, 87603, 87619, 87669, 87706, 87795, 87801, 87856, 87888, 87928, 87984, 88011, 88034, 88117, 88326, 88373, 88416, 88432, 88451, 88503, 88529, 88530, 88539, 88588, 88606, 88698, 88700, 88724, 88761, 88788, 88797, 88805, 88822, 88856, 88893, 88932, 89003, 89013, 89029, 89076, 89116, 89144, 89176, 89239, 89262, 89315, 89346, 89543, 89607, 89630, 89672, 89696, 89764, 89791, 89937, 89997, 90280, 90309, 90326, 90336, 90338, 90356, 90494, 90518, 90564, 90590, 90655, 90712, 90752, 90823, 90827, 90982, 90996, 90997, 91024, 91025, 91081, 91114, 91172, 91247, 91263, 91324, 91351, 91409, 91490, 91571, 91596, 91719, 91722, 91730, 91854, 91920, 91943, 92048, 92178, 92188, 92194, 92242, 92267, 92287, 92337, 92353, 92369, 92371, 92390, 92412, 92526, 92604, 92614, 92631, 92689, 92696, 92699, 92720, 92723, 92747, 92762, 92776, 92828, 92840, 92971, 92978, 93045, 93382, 93406, 93461, 93566, 93569, 93670, 93678, 93691, 93732, 93785, 93804, 93844, 93918, 93927, 93961, 94163, 94216, 94230, 94232, 94261, 94274, 94307, 94311, 94324, 94348, 94352, 94461, 94512, 94551, 94685, 94732, 94812, 94814, 94869, 94885, 94932, 94976, 95060, 95086, 95087, 95216, 95269, 95297, 95304, 95335, 95374, 95448, 95452, 95460, 95477, 95488, 95503, 95651, 95717, 95719, 95885, 95928, 96003, 96036, 96064, 96087, 96121, 96128, 96165, 96203, 96297, 96435, 96536, 96691, 96700, 96731, 96745, 96792, 96914, 96952, 96966, 96973, 97063, 97087, 97090, 97094, 97124, 97146, 97163, 97171, 97262, 97310, 97311, 97325, 97352, 97359, 97366, 97373, 97542, 97618, 97624, 97634, 97809, 97832, 97865, 97867, 97877, 97965, 97981, 97996, 98044, 98077, 98128, 98263, 98351, 98470, 98545, 98702, 98827, 98832, 98954, 98955, 98994, 99019, 99043, 99124, 99134, 99166, 99247, 99270, 99372, 99411, 99431, 99437, 99470, 99636, 99660, 99700, 99778, 99883, 99896, 99941, 100025, 100082, 100183, 100193, 100232, 100247, 100286, 100310, 100328, 100350, 100375, 100411, 100445, 100449, 100456, 100522, 100525, 100552, 100633, 100662, 100796, 100815, 100867, 100878, 100891, 100902, 100910, 101000, 101007, 101063, 101074, 101077, 101079, 101128, 101305, 101326, 101342, 101431, 101446, 101485, 101491, 101496, 101512, 101598, 101605, 101606, 101653, 101696, 101741, 101770, 101858, 101889, 101910, 101917, 101929, 101944, 101946, 101986, 102287, 102309, 102345, 102376, 102405, 102416, 102439, 102466, 102478, 102521, 102534, 102664, 102690, 102692, 102841, 102843, 102921, 103006, 103060, 103072, 103073, 103207, 103224, 103263, 103368, 103406, 103424, 103428, 103435, 103499, 103513, 103562, 103566, 103577, 103773, 103776, 103797, 103805, 103910, 103974, 104027, 104038, 104102, 104135, 104148, 104269, 104289, 104551, 104584, 104615, 104639, 104734, 104738, 104761, 104792, 104817, 104823, 104848, 104976, 104998, 105002, 105021, 105079, 105122, 105223, 105229, 105265, 105285, 105393, 105428, 105436, 105560, 105609, 105651, 105674, 105729, 105741, 105815, 105818, 105871, 105895, 105899, 105909, 106121, 106328, 106337, 106435, 106503, 106538, 106566, 106580, 106586, 106658, 106730, 106840, 106875, 106929, 106947, 106954, 106966, 107056, 107086, 107089, 107169, 107206, 107215, 107247, 107313, 107381, 107394, 107506, 107518, 107607, 107660, 107686, 107743, 107763, 107787, 107903, 107994, 108009, 108075, 108125, 108170, 108178, 108206, 108211, 108224, 108267, 108308, 108309, 108347, 108353, 108378, 108421, 108451, 108472, 108520, 108575, 108626, 108671, 108672, 108715, 108732, 108806, 108818, 108856, 108863, 108872, 108973, 108982, 109008, 109054, 109075, 109148, 109160, 109333, 109377, 109382, 109410, 109448, 109457, 109465, 109492, 109499, 109526, 109556, 109600, 109635, 109677, 109783, 109820, 109883, 109900, 109903, 110015, 110131, 110192, 110282, 110408, 110421, 110427, 110471, 110490, 110494, 110548, 110577, 110613, 110723, 110770, 110772, 110796, 110836, 110866, 110872, 110937, 110949, 111013, 111057, 111163, 111272, 111318, 111390, 111496, 111538, 111544, 111636, 111640, 111691, 111788, 111858, 111878, 111881, 111891, 111917, 111940, 112012, 112021, 112051, 112164, 112183, 112217, 112434, 112470, 112492, 112534, 112543, 112584, 112591, 112643, 112731, 112802, 112843, 112862, 112935, 112957, 112962, 112989, 113020, 113077, 113106, 113170, 113216, 113246, 113323, 113394, 113465, 113482, 113485, 113549, 113587, 113610, 113632, 113666, 113674, 113707, 113711, 113725, 113736, 113773, 113834, 113895, 113911, 113935, 113961, 113966, 114014, 114092, 114095, 114169, 114197, 114227, 114274, 114278, 114408, 114450, 114708, 114709, 114710, 114713, 114716, 114721, 114725, 114735, 114771, 114782, 114797, 114847, 114861, 114874, 114897, 114925, 115039, 115103, 115181, 115216, 115220, 115265, 115354, 115399, 115484, 115542, 115603, 115629, 115645, 115680, 115733, 115737, 115772, 115831, 115858, 115931, 115974, 116024, 116076, 116101, 116209, 116229, 116234, 116297, 116307, 116378, 116397, 116401, 116447, 116538, 116559, 116662, 116733, 116739, 116880, 116938, 116959, 117070, 117110, 117172, 117220, 117250, 117255, 117314, 117482, 117537, 117604, 117765, 117771, 117821, 117831, 117890, 117932, 118069, 118096, 118104, 118165, 118190, 118210, 118292, 118319, 118435, 118471, 118484, 118577, 118579, 118631, 118670, 118673, 118684, 118873, 118880, 118945, 118992, 119015, 119136, 119146, 119159, 119167, 119288, 119317, 119340, 119424, 119500, 119533, 119558, 119631, 119658, 119667, 119678, 119716, 119725, 119726, 119759, 119813, 119874, 119901, 119902, 120005, 120015, 120035, 120138, 120211, 120215, 120286, 120353, 120363, 120410, 120468, 120484, 120490, 120558, 120592, 120598, 120601, 120630, 120739, 120743, 120768, 120795, 120821, 120932, 121042, 121059, 121067, 121086, 121092, 121133, 121137, 121148, 121174, 121182, 121219, 121246, 121290, 121404, 121424, 121507, 121550, 121724, 121727, 121730, 121731, 121766, 121791, 121815, 121821, 121865, 121877, 121886, 121893, 121939, 122054, 122063, 122069, 122081, 122114, 122152, 122211, 122303, 122349, 122378, 122435, 122583, 122667, 122679, 122689, 122699, 122782, 122792, 122816, 122855, 122889, 122971, 122983, 122990, 123019, 123029, 123143, 123199, 123210, 123224, 123251, 123266, 123276, 123281, 123286, 123318, 123329, 123362, 123444, 123604, 123623, 123666, 123713, 123751, 123884, 123909, 123935, 123940, 123985, 124058, 124078, 124136, 124163, 124201, 124222, 124256, 124347, 124383, 124588, 124611, 124614, 124697, 124757, 124806, 124855, 124895, 124962, 125096, 125109, 125111, 125181, 125182, 125209, 125276, 125278, 125290, 125412, 125438, 125484, 125580, 125616, 125635, 125647, 125806, 125835, 125839, 125957, 125973, 126047, 126049, 126052, 126104, 126131, 126312, 126320, 126323, 126361, 126478, 126548, 126560, 126648, 126681, 126784, 126803, 126844, 126869, 126902, 126949, 126996, 127019, 127024, 127079, 127096, 127116, 127126, 127164, 127183, 127218, 127232, 127255, 127358, 127366, 127458, 127463, 127470, 127506, 127518, 127605, 127610, 127653, 127707, 127751, 127765, 127856, 127864, 128301, 128466, 128541, 128560, 128572, 128627, 128636, 128666, 128763, 128867, 128909, 128969, 128988, 129037, 129097, 129138, 129150, 129170, 129209, 129346, 129395, 129435, 129465, 129567, 129576, 129621, 129626, 129740, 129857, 129869, 129893, 129941, 129950, 129975, 130020, 130051, 130110, 130274, 130339, 130422, 130447, 130464, 130671, 130704, 130709, 130719, 130844, 130889, 130967, 131046, 131169, 131186, 131210, 131238, 131262, 131266, 131441, 131478, 131572, 131680, 131695, 131711, 131835, 131839, 131896, 131922, 131924, 131992, 132019, 132093, 132112, 132113, 132133, 132147, 132183, 132214, 132275, 132469, 132616, 132655, 132692, 132707, 132715, 132754, 132824, 132899, 132921, 132970, 133026, 133176, 133202, 133232, 133267, 133303, 133322, 133352, 133466, 133544, 133579, 133675, 133690, 133708, 133755, 133757, 133936, 133944, 134049, 134061, 134065, 134067, 134068, 134093, 134094, 134204, 134223, 134241, 134317, 134361, 134365, 134368, 134377, 134466, 134556, 134596, 134603, 134622, 134676, 134905, 134909, 134980, 134988, 134990, 135075, 135086, 135129, 135146, 135181, 135221, 135229, 135290, 135309, 135387, 135417, 135429, 135439, 135445, 135478, 135512, 135618, 135691, 135707, 135720, 135764, 135833, 135889, 135892, 135972, 135992, 136076, 136121, 136148, 136280, 136339, 136450, 136530, 136571, 136608, 136695, 136745, 136759, 136781, 136841, 136854, 136949, 137004, 137061, 137088, 137135, 137268, 137449, 137514, 137541, 137635, 137645, 137812, 137842, 137933, 137958, 138064, 138094, 138102, 138216, 138219, 138241, 138289, 138325, 138358, 138385, 138402, 138424, 138425, 138431, 138448, 138501, 138542, 138650, 138678, 138748, 138806, 138810, 138973, 139008, 139086, 139093, 139111, 139118, 139139, 139146, 139191, 139209, 139273, 139278, 139301, 139351, 139375, 139460, 139570, 139590, 139611, 139684, 139685, 139740, 139789, 139916, 139971, 140098, 140116, 140204, 140270, 140440, 140482, 140552, 140554, 140614, 140653, 140741, 140833, 141055, 141139, 141178, 141318, 141364, 141457, 141475, 141525, 141544, 141566, 141692, 141693, 141745, 141795, 141802, 142002, 142010, 142050, 142066, 142096, 142097, 142120, 142139, 142168, 142187, 142190, 142495, 142507, 142556, 142679, 142709, 142725, 142754, 142787, 142797, 142878, 143114, 143116, 143134, 143167, 143196, 143214, 143235, 143260, 143290, 143442, 143496, 143720, 143767, 143776, 143845, 143882, 143920, 144034, 144107, 144133, 144226, 144320, 144372, 144382, 144407, 144851, 144865, 144870, 144894, 144895, 145005, 145011, 145061, 145098, 145103, 145206, 145212, 145223, 145244, 145293, 145365, 145369, 145440, 145479, 145494, 145505, 145548, 145557, 145638, 145687, 145701, 145715, 145729, 145856, 145967, 146051, 146077, 146117, 146163, 146276, 146291, 146329, 146359, 146411, 146494, 146547, 146633, 146636, 146727, 146730, 146762, 146788, 146838, 146878, 146961, 146976, 146992, 147071, 147099, 147143, 147186, 147205, 147217, 147248, 147278, 147290, 147329, 147348, 147386, 147398, 147410, 147427, 147431, 147479, 147529, 147631, 147638, 147660, 147688, 147710, 147716, 147733, 147750, 147788, 147911, 147991, 147994, 148110, 148174, 148212, 148317, 148351, 148429, 148434, 148444, 148449, 148473, 148485, 148534, 148608, 148692, 148777, 148785, 148870, 148871, 148943, 148946, 149008, 149039, 149048, 149156, 149284, 149374, 149399, 149498, 149587, 149658, 149676, 149891, 149923, 149941, 149952, 149968, 149982, 149987, 150008, 150022, 150132, 150141, 150224, 150290, 150294, 150321, 150461, 150498, 150515, 150659, 150809, 150888, 150889, 150929, 150959, 151073, 151093, 151116, 151177, 151181, 151217, 151302, 151408, 151422, 151462, 151467, 151574, 151596, 151615, 151659, 151775, 151777, 151823, 151942, 151948, 152056, 152058, 152168, 152179, 152223, 152289, 152314, 152342, 152375, 152419, 152545, 152547, 152563, 152571, 152572, 152617, 152698, 152728, 152838, 152868, 152893, 152902, 153012, 153039, 153096, 153101, 153127, 153130, 153230, 153260, 153270, 153274, 153333, 153368, 153480, 153552, 153556, 153565, 153617, 153721, 153934, 153953, 153989, 154011, 154015, 154018, 154035, 154043, 154087, 154308, 154457, 154478, 154533, 154632, 154669, 154681, 154682, 154746, 154864, 154914, 154936, 155072, 155079, 155186, 155346, 155372, 155374, 155404, 155450, 155463, 155464, 155491, 155505, 155532, 155540, 155543, 155597, 155602, 155642, 155756, 155809, 155815, 155819, 155865, 155954, 155991, 156010, 156085, 156109, 156246, 156250, 156335, 156348, 156375, 156407, 156495, 156520, 156531, 156538, 156649, 156745, 156846, 156920, 156925, 156938, 156940, 156957, 156966, 157118, 157168, 157191, 157297, 157334, 157445, 157478, 157483, 157486, 157520, 157567, 157653, 157699, 157700, 157733, 157921, 157927, 157945, 157997, 158041, 158057, 158192, 158203, 158212, 158292, 158361, 158395, 158571, 158696, 158745, 158801, 159055, 159114, 159163, 159322, 159327, 159361, 159452, 159543, 159617, 159710, 159754, 159761, 159789, 159809, 159843, 159888, 159943, 159954, 160062, 160070, 160088, 160091, 160178, 160189, 160191, 160238, 160241, 160270, 160274, 160291, 160370, 160403, 160408, 160421, 160457, 160591, 160623, 160819, 160897, 160986, 161005, 161012, 161067, 161100, 161226, 161276, 161295, 161307, 161362, 161381, 161422, 161446, 161640, 161685, 161728, 161811, 161927, 161938, 162028, 162064, 162201, 162236, 162254, 162276, 162296, 162315, 162390, 162508, 162539, 162582, 162598, 162700, 162744, 162874, 162992, 163054, 163082, 163083, 163093, 163112, 163327, 163351, 163393, 163419, 163457, 163809, 163827, 163919, 163996, 164010, 164020, 164060, 164062, 164083, 164205, 164241, 164265, 164275, 164331, 164394, 164404, 164413, 164439, 164482, 164486, 164523, 164555, 164613, 164625, 164637, 164699, 164767, 164788, 164830, 164855, 164881, 164924, 165011, 165020, 165054, 165154, 165160, 165188, 165206, 165235, 165258, 165274, 165323, 165412, 165496, 165564, 165572, 165715, 165749, 165750, 165759, 165838, 165867, 165901, 165903, 165915, 165917, 166037, 166043, 166134, 166160, 166224, 166253, 166280, 166290, 166331, 166357, 166615, 166707, 166775, 166778, 166783, 166866, 166941, 166952, 167005, 167070, 167100, 167103, 167113, 167133, 167178, 167202, 167278, 167304, 167390, 167418, 167460, 167471, 167523, 167528, 167609, 167652, 167666, 167716, 167774, 167802, 167895, 167954, 168039, 168044, 168049, 168115, 168209, 168216, 168230, 168272, 168340, 168394, 168507, 168515, 168572, 168605, 168611, 168616, 168644, 168646, 168664, 168674, 168675, 168693, 168744, 168745, 168767, 168863, 168881, 168920, 168959, 169020, 169040, 169050, 169124, 169132, 169149, 169228, 169240, 169380, 169403, 169437, 169765, 169772, 169832, 169867, 169891, 169932, 169956, 169977, 170009, 170046, 170063, 170096, 170272, 170273, 170305, 170358, 170370, 170577, 170609, 170632, 170637, 170706, 170726, 170822, 170854, 170944, 170977, 170991, 171061, 171073, 171091, 171093, 171094, 171240, 171345, 171365, 171387, 171388, 171408, 171529, 171531, 171539, 171636, 171672, 171727, 171809, 171818, 171906, 171982, 171984, 172088, 172103, 172108, 172196, 172259, 172295, 172310, 172335, 172364, 172374, 172398, 172470, 172497, 172527, 172537, 172574, 172614, 172646, 172668, 172698, 172745, 172786, 172817, 172856, 172905, 172918, 172934, 172949, 172960, 172976, 173069, 173101, 173105, 173117, 173154, 173185, 173187, 173188, 173236, 173282, 173296, 173339, 173405, 173464, 173503, 173505, 173619, 173658, 173721, 173755, 173805, 173848, 173864, 173876, 173916, 173951, 174045, 174159, 174357, 174372, 174393, 174405, 174408, 174411, 174443, 174468, 174480, 174481, 174499, 174523, 174562, 174670, 174759, 174769, 174772, 174976, 174981, 175044, 175047, 175129, 175215, 175246, 175254, 175322, 175329, 175420, 175427, 175476, 175621, 175921, 175926, 175942, 175949, 175982, 176006, 176080, 176130, 176305, 176333, 176358, 176374, 176390, 176392, 176658, 176902, 176955, 177043, 177168, 177210, 177345, 177355, 177452, 177476, 177529, 177548, 177571, 177674, 177761, 177803, 177861, 177874, 177918, 177929, 177953, 177958, 178010, 178157, 178175, 178203, 178204, 178217, 178269, 178290, 178291, 178321, 178343, 178373, 178417, 178492, 178581, 178622, 178653, 178681, 178686, 178688, 178709, 178786, 178808, 178820, 178845, 178909, 178918, 178943, 179138, 179174, 179199, 179211, 179224, 179228, 179243, 179246, 179331, 179419, 179477, 179538, 179551, 179554, 179577, 179580, 179604, 179709, 179727, 179759, 179775, 179872, 179941, 179988, 180009, 180081, 180133, 180160, 180234, 180247, 180280, 180338, 180363, 180404, 180421, 180440, 180464, 180471, 180487, 180550, 180601, 180667, 180746, 180761, 180862, 180875, 180901, 180910, 180948, 181026, 181192, 181252, 181295, 181327, 181372, 181386, 181543, 181579, 181728, 181768, 181822, 181831, 181836, 181870, 181905, 181939, 182056, 182080, 182108, 182142, 182182, 182188, 182264, 182267, 182286, 182339, 182348, 182405, 182419, 182445, 182507, 182510, 182523, 182603, 182644, 182751, 182894, 182958, 183033, 183049, 183065, 183160, 183175, 183211, 183215, 183238, 183248, 183307, 183327, 183368, 183381, 183408, 183464, 183502, 183680, 183740, 183748, 183758, 183840, 183852, 183878, 183897, 183968, 183999, 184092, 184239, 184269, 184335, 184410, 184427, 184472, 184497, 184653, 184680, 184686, 184764, 184775, 184816, 184846, 184976, 185005, 185016, 185025, 185049, 185066, 185102, 185105, 185110, 185139, 185143, 185144, 185164, 185221, 185223, 185286, 185296, 185321, 185331, 185388, 185442, 185463, 185516, 185543, 185597, 185602, 185627, 185791, 185816, 185823, 185854, 185939, 185940, 186081, 186150, 186167, 186181, 186298, 186332, 186337, 186388, 186405, 186432, 186530, 186708, 186771, 186785, 186823, 186891, 186953, 187006, 187141, 187152, 187161, 187168, 187189, 187207, 187288, 187309, 187442, 187690, 187746, 187762, 187840, 187853, 187883, 187909, 187934, 187943, 188029, 188056, 188086, 188135, 188142, 188172, 188225, 188405, 188412, 188460, 188509, 188524, 188619, 188653, 188678, 188753, 188781, 188782, 188844, 189083, 189111, 189181, 189350, 189366, 189398, 189469, 189474, 189498, 189545, 189547, 189597, 189758, 189766, 189789, 189796, 189800, 189834, 189861, 189989, 190038, 190055, 190179, 190201, 190244, 190246, 190273, 190305, 190314, 190409, 190418, 190425, 190430, 190581, 190602, 190687, 190740, 190818, 190875, 190902, 190916, 191012, 191089, 191138, 191218, 191315, 191534, 191535, 191588, 191614, 191648, 191684, 191724, 191733, 191780, 191782, 191792, 191829, 191837, 191876, 191882, 191928, 191941, 191976, 191998, 192004, 192026, 192094, 192194, 192228, 192367, 192382, 192453, 192458, 192507, 192552, 192602, 192638, 192660, 192732, 192769, 192847, 192953, 192966, 192974, 192991, 193029, 193141, 193257, 193266, 193324, 193327, 193389, 193432, 193590, 193601, 193605, 193632, 193675, 193834, 193873, 193892, 194009, 194115, 194227, 194283, 194308, 194358, 194379, 194492, 194525, 194612, 194629, 194641, 194751, 194784, 194872, 194883, 194926, 194955, 194977, 195046, 195272, 195281, 195359, 195587, 195717, 195775, 195833, 195849, 195855, 195896, 195903, 195916, 195918, 195954, 196038, 196074, 196085, 196189, 196202, 196242, 196260, 196279, 196292, 196321, 196334, 196345, 196457, 196516, 196528, 196601, 196654, 196694, 196781, 196865, 196911, 196930, 196979, 197084, 197177, 197195, 197275, 197280, 197342, 197350, 197374, 197396, 197451, 197478, 197593, 197597, 197624, 197654, 197680, 197703, 197733, 197753, 197802, 197808, 197853, 197917, 197964, 198049, 198160, 198344, 198354, 198492, 198496, 198559, 198586, 198599, 198652, 198682, 198740, 198853, 198876, 198953, 198956, 199052, 199126, 199191, 199203, 199255, 199308, 199316, 199409, 199419, 199446, 199458, 199547, 199609, 199611, 199628, 199806, 199818, 199820, 199948, 199956, 199983, 199994, 200009, 200040, 200303, 200530, 200631, 200657, 200676, 200723, 200743, 200758, 200827, 200887, 200912, 201048, 201155, 201200, 201258, 201279, 201294, 201305, 201315, 201323, 201394, 201400, 201419, 201422, 201568, 201636, 201639, 201755, 201794, 201822, 201849, 201880, 201957, 202119, 202128, 202157, 202186, 202224, 202302, 202306, 202376, 202446, 202510, 202533, 202622, 202703, 202774, 202808, 202840, 202872, 202899, 202963, 203070, 203091, 203126, 203144, 203202, 203295, 203349, 203363, 203373, 203399, 203415, 203418, 203436, 203459, 203465, 203553, 203570, 203717, 203738, 203768, 203793, 203816, 203819, 203873, 203875, 203941, 203971, 203973, 204211, 204286, 204327, 204362, 204378, 204439, 204523, 204576, 204740, 204746, 204749, 204918, 205042, 205069, 205072, 205099, 205136, 205182, 205297, 205316, 205357, 205373, 205391, 205403, 205636, 205808, 206011, 206053, 206169, 206195, 206316, 206416, 206459, 206551, 206552, 206561, 206644, 206726, 206727, 206736, 206853, 207027, 207159, 207239, 207259, 207277, 207280, 207444, 207490, 207526, 207530, 207755, 207787, 207883, 207885, 207892, 207928, 208031, 208043, 208049, 208070, 208079, 208189, 208258, 208262, 208432, 208491, 208569, 208608, 208663, 208690, 208769, 208829, 208864, 208913, 208925, 208927, 208947, 209116, 209158, 209177, 209180, 209215, 209422, 209445, 209618, 209672, 209680, 209710, 210008, 210027, 210046, 210162, 210186, 210191, 210207, 210208, 210222, 210319, 210367, 210374, 210410, 210424, 210656, 210667, 210682, 210713, 210715, 210738, 210837, 210864, 210909, 210931, 210935, 211035, 211078, 211255, 211310, 211368, 211388, 211494, 211505, 211568, 211574, 211605, 211659, 211677, 211689, 211690, 211700, 211714, 211719, 211737, 211832, 211851, 211856, 211897, 211914, 211923, 211928, 211969, 212141, 212158, 212184, 212339, 212346, 212380, 212388, 212435, 212449, 212487, 212496, 212522, 212625, 212741, 212768, 212771, 212840, 212957, 213022, 213032, 213045, 213074, 213079, 213107, 213113, 213165, 213232, 213276, 213313, 213331, 213461, 213473, 213558, 213592, 213611, 213691, 213694, 213717, 213731, 213732, 213754, 213787, 213933, 214034, 214054, 214063, 214138, 214253, 214313, 214353, 214372, 214421, 214538, 214559, 214633, 214639, 214682, 214690, 214720, 214724, 214845, 214857, 214882, 214884, 214913, 214922, 214995, 215084, 215100, 215245, 215356, 215357, 215400, 215414, 215429, 215501, 215532, 215555, 215561, 215589, 215618, 215623, 215695, 215696, 215703, 215706, 215851, 215870, 215934, 215959, 215997, 216004, 216031, 216037, 216066, 216117, 216248, 216251, 216273, 216424, 216458, 216507, 216580, 216626, 216711, 216724, 216753, 216829, 216833, 216928, 217059, 217179, 217209, 217346, 217393, 217449, 217459, 217525, 217631, 217736, 217877, 217878, 217880, 217983, 218035, 218065, 218102, 218130, 218203, 218232, 218322, 218407, 218431, 218487, 218496, 218535, 218577, 218602, 218741, 218753, 218762, 218835, 218916, 218947, 218991, 219035, 219186, 219200, 219222, 219250, 219253, 219423, 219440, 219461, 219470, 219485, 219518, 219549, 219643, 219649, 219653, 219680, 219684, 219702, 219816, 219904, 219925, 220084, 220109, 220115, 220120, 220166, 220243, 220260, 220388, 220390, 220441, 220452, 220473, 220522, 220584, 220605, 220689, 220698, 220722, 220767, 220842, 220941, 221043, 221107, 221202, 221231, 221250, 221321, 221333, 221375, 221455, 221567, 221624, 221845, 221909, 221949, 221990, 222001, 222020, 222028, 222084, 222102, 222109, 222197, 222210, 222256, 222419, 222429, 222440, 222467, 222624, 222658, 222669, 222831, 222953, 223153, 223232, 223240, 223273, 223333, 223388, 223427, 223428, 223470, 223563, 223571, 223590, 223594, 223595, 223650, 223710, 223717, 223869, 223981, 224104, 224160, 224173, 224249, 224272, 224273, 224347, 224353, 224370, 224394, 224409, 224442, 224449, 224472, 224626, 224643, 224814, 224840, 225040, 225087, 225102, 225122, 225150, 225211, 225236, 225416, 225432, 225607, 225619, 225700, 225785, 225825, 226009, 226025, 226042, 226077, 226082, 226113, 226254, 226342, 226361, 226413, 226415, 226483, 226485, 226523, 226599, 226628, 226662, 226709, 226746, 226752, 226796, 226839, 227033, 227208, 227218, 227264, 227275, 227290, 227303, 227463, 227469, 227551, 227574, 227600, 227611, 227676, 227820, 227821, 227829, 227835, 227947, 228037, 228069, 228165, 228173, 228242, 228245, 228267, 228392, 228415, 228467, 228482, 228491, 228514, 228521, 228544, 228675, 228679, 228731, 228869, 228904, 228908, 228982, 229013, 229054, 229191, 229209, 229248, 229264, 229266, 229269, 229282, 229359, 229368, 229369, 229371, 229373, 229434, 229542, 229618, 229639, 229659, 229662, 229694, 229784, 229793, 229838, 229899, 229923, 229929, 230156, 230159, 230200, 230259, 230261, 230304, 230318, 230350, 230529, 230536, 230547, 230568, 230647, 230655, 230663, 230691, 230739, 230835, 230872, 230911, 230996, 231036, 231060, 231063, 231072, 231081, 231089, 231091, 231093, 231108, 231157, 231177, 231264, 231306, 231312, 231363, 231386, 231466, 231487, 231491, 231576, 231669, 231674, 231759, 231804, 231825, 231846, 231919, 232050, 232092, 232121, 232194, 232205, 232206, 232227, 232270, 232395, 232478, 232587, 232620, 232638, 232643, 232650, 232693, 232705, 232749, 232752, 232806, 232812, 232823, 232837, 232926, 232984, 233076, 233194, 233365, 233495, 233496, 233541, 233562, 233689, 233787, 233837, 233841, 233896, 233909, 233912, 233929, 234109, 234138, 234175, 234245, 234257, 234272, 234322, 234347, 234450, 234459, 234488, 234562, 234566, 234580, 234635, 234686, 234707, 234713, 234732, 234742, 234898, 235021, 235064, 235113, 235119, 235167, 235215, 235355, 235356, 235385, 235409, 235421, 235493, 235528, 235565, 235568, 235666, 235743, 235809, 235845, 235859, 236088, 236108, 236138, 236148, 236176, 236195, 236368, 236390, 236421, 236437, 236573, 236597, 236631, 236706, 236716, 236728, 236768, 236776, 236777, 236812, 236868, 236905, 236932, 237001, 237098, 237133, 237153, 237256, 237363, 237439, 237446, 237460, 237525, 237553, 237584, 237586, 237590, 237628, 237653, 237675, 237683, 237734, 237743, 237750, 237769, 237782, 237978, 237982, 238028, 238038, 238082, 238130, 238143, 238148, 238171, 238199, 238283, 238303, 238337, 238352, 238419, 238442, 238445, 238754, 238865, 238970, 239003, 239075, 239117, 239127, 239158, 239176, 239199, 239244, 239260, 239395, 239396, 239542, 239559, 239561, 239610, 239627, 239657, 239673, 239683, 239743, 239749, 239801, 239839, 239875, 239928, 239984, 240033, 240035, 240075, 240112, 240449, 240481, 240521, 240614, 240616, 240626, 240678, 240751, 240767, 240796, 240839, 240868, 240885, 240957, 241119, 241129, 241173, 241201, 241297, 241323, 241337, 241356, 241372, 241388, 241466, 241514, 241584, 241591, 241611, 241701, 241727, 241873, 241889, 241927, 241962, 241976, 242063, 242083, 242095, 242123, 242126, 242170, 242229, 242290, 242319, 242332, 242461, 242608, 242764, 242768, 242810, 242825, 242841, 242845, 242879, 242901, 242911, 242918, 242957, 242961, 243014, 243086, 243181, 243204, 243260, 243496, 243549, 243559, 243607, 243636, 243703, 243771, 243887, 244019, 244069, 244086, 244111, 244141, 244177, 244207, 244220, 244259, 244267, 244276, 244308, 244391, 244468, 244495, 244551, 244559, 244634, 244639, 244685, 244808, 244824, 244845, 244867, 244908, 244940, 245069, 245131, 245182, 245185, 245230, 245367, 245422, 245448, 245548, 245629, 245636, 245775, 245794, 245800, 245858, 245917, 245970, 245973, 246019, 246080, 246172, 246190, 246324, 246392, 246398, 246594, 246765, 246803, 246821, 246901, 246931, 246962, 246974, 246994, 247053, 247087, 247174, 247212, 247240, 247264, 247288, 247303, 247326, 247396, 247432, 247503, 247509, 247705, 247755, 247770, 247872, 247902, 248087, 248113, 248127, 248290, 248320, 248327, 248349, 248633, 248706, 248708, 248822, 248828, 248913, 249030, 249053, 249062, 249114, 249129, 249199, 249241, 249277, 249300, 249319, 249344, 249351, 249356, 249364, 249383, 249398, 249405, 249424, 249466, 249475, 249512, 249535, 249619, 249648, 249755, 249981, 250113, 250125, 250152, 250158, 250174, 250226, 250297, 250305, 250375, 250396, 250443, 250482, 250499, 250517, 250630, 250637, 250650, 250672, 250696, 250706, 250721, 250796, 250808, 250839, 250855, 250860, 250915, 250943, 250956, 250969, 251164, 251199, 251287, 251336, 251396, 251455, 251492, 251498, 251516, 251616, 251624, 251639, 251730, 251782, 251917, 252078, 252092, 252106, 252254, 252279, 252294, 252384, 252421, 252485, 252658, 252722, 252728, 252772, 252860, 252911, 252920, 252939, 252959, 252964, 252986, 252997, 253000, 253024, 253026, 253053, 253056, 253062, 253268, 253291, 253344, 253381, 253407, 253410, 253417, 253453, 253462, 253499, 253503, 253597, 253657, 253664, 253688, 253765, 253837, 253850, 253870, 253884, 253959, 254013, 254050, 254076, 254135, 254154, 254173, 254229, 254249, 254312, 254379, 254480, 254761, 254807, 254881, 254961, 255017, 255071, 255072, 255110, 255113, 255123, 255199, 255227, 255326, 255356, 255379, 255423, 255457, 255460, 255477, 255502, 255542, 255566, 255635, 255676, 255711, 255816, 255869, 255895, 256033, 256205, 256226, 256293, 256326, 256332, 256357, 256388, 256673, 256706, 256827, 256836, 256840, 256964, 256986, 256990, 257002, 257071, 257104, 257128, 257251, 257323, 257391, 257400, 257421, 257452, 257454, 257474, 257611, 257620, 257697, 257714, 257724, 257999, 258008, 258015, 258021, 258035, 258098, 258134, 258139, 258145, 258151, 258325, 258353, 258371, 258385, 258411, 258433, 258460, 258521, 258531, 258566, 258576, 258580, 258596, 258651, 258663, 258696, 258702, 258734, 258782, 258785, 258812, 258814, 258818, 258833, 258834, 258957, 259018, 259057, 259084, 259215, 259229, 259231, 259237, 259314, 259336, 259368, 259373, 259482, 259493, 259497, 259580, 259582, 259633, 259638, 259709, 259834, 259859, 259940, 259958, 259976, 260013, 260067, 260123, 260155, 260159, 260207, 260210, 260249, 260294, 260305, 260336, 260425, 260449, 260593, 260607, 260712, 260732, 260742, 260777, 260851, 260885, 260909, 260934, 260954, 261058, 261131, 261150, 261151, 261165, 261240, 261311, 261351, 261358, 261407, 261417, 261535, 261536, 261549, 261703, 261845, 261893, 262001, 262016, 262033, 262071, 262086, 262121, 262220, 262244, 262314, 262383, 262414, 262445, 262576, 262608, 262625, 262808, 262954, 262977, 263001, 263063, 263070, 263217, 263234, 263261, 263264, 263276, 263304, 263467, 263500, 263530, 263534, 263554, 263570, 263604, 263662, 263694, 263709, 263778, 263792, 263810, 263973, 263982, 264055, 264124, 264181, 264186, 264204, 264226, 264227, 264248, 264280, 264289, 264392, 264432, 264466, 264480, 264612, 264623, 264692, 264771, 264794, 264826, 264899, 264925, 265083, 265144, 265155, 265174, 265255, 265316, 265451, 265477, 265479, 265689, 265822, 265919, 265924, 266051, 266297, 266395, 266408, 266416, 266602, 266754, 266826, 266889, 266913, 266999, 267006, 267029, 267077, 267082, 267086, 267142, 267172, 267190, 267211, 267215, 267239, 267260, 267336, 267379, 267407, 267517, 267580, 267612, 267635, 267639, 267640, 267680, 267728, 267788, 267822, 267831, 267869, 268170, 268172, 268192, 268312, 268449, 268503, 268552, 268569, 268579, 268629, 268650, 268710, 268934, 268938, 268994, 269005, 269021, 269134, 269205, 269219, 269257, 269280, 269290, 269332, 269355, 269392, 269394, 269435, 269443, 269493, 269631, 269648, 269684, 269688, 269702, 269710, 269716, 269799, 269881, 269955, 270050, 270098, 270105, 270146, 270153, 270267, 270299, 270302, 270315, 270342, 270419, 270431, 270469, 270632, 270826, 270836, 270850, 270851, 270852, 270871, 270886, 270895, 270918, 271040, 271046, 271054, 271060, 271070, 271134, 271193, 271211, 271231, 271233, 271244, 271246, 271354, 271359, 271360, 271365, 271371, 271388, 271405, 271409, 271416, 271444, 271474, 271478, 271480, 271675, 271763, 271812, 271836, 271942, 272100, 272169, 272221, 272297, 272355, 272373, 272435, 272477, 272582, 272622, 272658, 272673, 272687, 272786, 272819, 272853, 272857, 272892, 272934, 273023, 273070, 273094, 273187, 273276, 273383, 273387, 273426, 273740, 273761, 273837, 273912, 273918, 273930, 273965, 273975, 274250, 274341, 274357, 274395, 274422, 274440, 274441, 274443, 274450, 274461, 274503, 274506, 274625, 274754, 274783, 274822, 274842, 274850, 274863, 274873, 274894, 274932, 275030, 275076, 275125, 275128, 275135, 275165, 275208, 275209, 275282, 275288, 275307, 275325, 275414, 275576, 275682, 275711, 275725, 275753, 275774, 275776, 275799, 275885, 276028, 276052, 276060, 276152, 276256, 276267, 276320, 276423, 276502, 276532, 276620, 276632, 276639, 276704, 276895, 276916, 277058, 277069, 277099, 277122, 277145, 277210, 277313, 277318, 277355, 277356, 277395, 277407, 277436, 277514, 277517, 277531, 277617, 277690, 277718, 277737, 277759, 277763, 277764, 277779, 277807, 277842, 277855, 277870, 277883, 277965, 278048, 278051, 278165, 278202, 278267, 278449, 278463, 278490, 278583, 278616, 278651, 278689, 278692, 278708, 278784, 278791, 278795, 278826, 278835, 278890, 278907, 278911, 278920, 278932, 278935, 278987, 279004, 279054, 279057, 279064, 279078, 279095, 279098, 279167, 279177, 279260, 279285, 279292, 279315, 279320, 279337, 279419, 279425, 279433, 279514, 279529, 279533, 279535, 279580, 279598, 279636, 279725, 279799, 279817, 279836, 279846, 279911, 279928, 279994, 280059, 280148, 280162, 280171, 280172, 280175, 280195, 280211, 280239, 280260, 280276, 280311, 280347, 280467, 280509, 280514, 280534, 280553, 280621, 280653, 280678, 280817, 280861, 280978, 280980, 281081, 281170, 281228, 281306, 281310, 281399, 281438, 281462, 281586, 281624, 281660, 281732, 281814, 281862, 281871, 281981, 282129, 282286, 282329, 282389, 282409, 282415, 282436, 282471, 282505, 282532, 282557, 282694, 282783, 282788, 282805, 282908, 282966, 282976, 282994, 283023, 283122, 283131, 283245, 283271, 283286, 283319, 283411, 283442, 283493, 283503, 283527, 283595, 283603, 283655, 283656, 283699, 283723, 283764, 283817, 283818, 283849, 283852, 283872, 283944, 284012, 284014, 284088, 284154, 284207, 284287, 284328, 284341, 284386, 284387, 284473, 284545, 284596, 284607, 284608, 284737, 284809, 284872, 284939, 284996, 285018, 285046, 285050, 285151, 285156, 285204, 285250, 285352, 285362, 285432, 285513, 285517, 285555, 285585, 285617, 285653, 285659, 285672, 285741, 285922, 285969, 286136, 286194, 286214, 286215, 286266, 286278, 286280, 286284, 286306, 286325, 286464, 286498, 286588, 286633, 286705, 286727, 286788, 286820, 286823, 286958, 287125, 287192, 287194, 287269, 287314, 287336, 287507, 287626, 287652, 287670, 287777, 287833, 287845, 287861, 287891, 287990, 288043, 288125, 288130, 288171, 288201, 288233, 288254, 288295, 288322, 288409, 288433, 288445, 288503, 288535, 288660, 288668, 288679, 288733, 288761, 288777, 288881, 288947, 288995, 289002, 289004, 289007, 289010, 289013, 289074, 289077, 289143, 289146, 289158, 289209, 289264, 289282, 289347, 289406, 289527, 289556, 289583, 289678, 289706, 289723, 289762, 289904, 290042, 290117, 290121, 290123, 290161, 290248, 290289, 290311, 290343, 290354, 290443, 290572, 290605, 290672, 290839, 290877, 290986, 291165, 291185, 291229, 291329, 291494, 291502, 291563, 291564, 291587, 291594, 291649, 291688, 291692, 291698, 291747, 291783, 291830, 291841, 291843, 291844, 291872, 291897, 291945, 292022, 292102, 292105, 292184, 292191, 292233, 292258, 292321, 292334, 292468, 292524, 292534, 292755, 292772, 292790, 292801, 292842, 292843, 292848, 292860, 293061, 293066, 293102, 293127, 293336, 293575, 293576, 293651, 293685, 293686, 293766, 293792, 293837, 293948, 293985, 293993, 294046, 294085, 294089, 294133, 294197, 294210, 294222, 294248, 294319, 294565, 294585, 294592, 294657, 294705, 294747, 294761, 294768, 294866, 294868, 294906, 294907, 294916, 294953, 295066, 295076, 295084, 295121, 295129, 295197, 295280, 295283, 295340, 295526, 295547, 295659, 295764, 295791, 295824, 295859, 295862, 295870, 295934, 295942, 295966, 295974, 295985, 296018, 296065, 296073, 296079, 296139, 296217, 296284, 296285, 296335, 296361, 296375, 296400, 296452, 296454, 296564, 296601, 296623, 296639, 296641, 296688, 296736, 296938, 296956, 296962, 297068, 297149, 297186, 297194, 297248, 297253, 297292, 297350, 297430, 297451, 297471, 297502, 297573, 297578, 297641, 297648, 297649, 297666, 297694, 297767, 297856, 297895, 297915, 298168, 298280, 298346, 298406, 298453, 298459, 298519, 298521, 298524, 298530, 298535, 298643, 298650, 298715, 298722, 298732, 298829, 298888, 298999, 299023, 299038, 299086, 299275, 299309, 299319, 299335, 299440, 299523, 299575, 299601, 299667, 299769, 299819, 300016, 300023, 300088, 300092, 300127, 300136, 300146, 300153, 300225, 300333, 300379, 300438, 300477, 300514, 300528, 300559, 300568, 300591, 300614, 300793, 300794, 300830, 300846, 300906, 300964, 300976, 300982, 301007, 301069, 301106, 301185, 301325, 301330, 301345, 301404, 301414, 301478, 301489, 301515, 301532, 301550, 301583, 301611, 301615, 301629, 301826, 301867, 301876, 301912, 301951, 301968, 301984, 302228, 302246, 302276, 302318, 302481, 302570, 302673, 302745, 302918, 302933, 302974, 303101, 303157, 303229, 303283, 303312, 303313, 303395, 303508, 303600, 303653, 303708, 303914, 303966, 304042, 304154, 304242, 304308, 304326, 304367, 304371, 304404, 304519, 304579, 304699, 304750, 304839, 304886, 304999, 305052, 305074, 305116, 305141, 305158, 305194, 305200, 305224, 305306, 305339, 305361, 305384, 305442, 305488, 305525, 305528, 305614, 305615, 305631, 305642, 305684, 305812, 305832, 305931, 305960, 306012, 306182, 306187, 306203, 306299, 306372, 306404, 306463, 306504, 306525, 306592, 306708, 306718, 306736, 306775, 306841, 306892, 306924, 306989, 306999, 307022, 307035, 307063, 307097, 307131, 307138, 307177, 307224, 307249, 307534, 307547, 307561, 307613, 307620, 307660, 307757, 307792, 307818, 307819, 307822, 307904, 307970, 308045, 308088, 308195, 308251, 308263, 308291, 308295, 308325, 308457, 308503, 308600, 308635, 308670, 308964, 308991, 309014, 309041, 309046, 309143, 309245, 309296, 309323, 309364, 309396, 309407, 309600, 309709, 309716, 309743, 309851, 309901, 309903, 309942, 309960, 309965, 310200, 310232, 310308, 310328, 310346, 310361, 310383, 310420, 310482, 310500, 310528, 310540, 310546, 310565, 310626, 310636, 310650, 310725, 310739, 310752, 310807, 311007, 311108, 311110, 311112, 311255, 311386, 311397, 311410, 311414, 311649, 311672, 311757, 311784, 311834, 311871, 311888, 311964, 311968, 312043, 312076, 312135, 312206, 312212, 312252, 312365, 312441, 312481, 312482, 312483, 312566, 312575, 312576, 312637, 312701, 312705, 312712, 312727, 312733, 312794, 312821, 312908, 312917, 312923, 312972, 312986, 313053, 313125, 313238, 313252, 313296, 313298, 313320, 313383, 313465, 313526, 313540, 313593, 313596, 313639, 313672, 313729, 313761, 313790, 313836, 313842, 314011, 314013, 314047, 314086, 314087, 314210, 314283, 314438, 314445, 314457, 314460, 314492, 314514, 314555, 314602, 314662, 314682, 314691, 314710, 314726, 314846, 314938, 314971, 314993, 315013, 315024, 315031, 315035, 315182, 315220, 315274, 315306, 315501, 315605, 315612, 315614, 315670, 315683, 315692, 315709, 315762, 315874, 315920, 315948, 315976, 316013, 316082, 316153, 316211, 316250, 316264, 316303, 316328, 316336, 316345, 316349, 316498, 316528, 316618, 316620, 316642, 316657, 316660, 316686, 316733, 316835, 316908, 316926, 317010, 317039, 317260, 317323, 317374, 317408, 317409, 317437, 317469, 317588, 317847, 317864, 317980, 317995, 318056, 318066, 318105, 318130, 318134, 318137, 318194, 318222, 318227, 318230, 318249, 318553, 318610, 318613, 318629, 318672, 318713, 318762, 318826, 318851, 318919, 318954, 319044, 319215, 319237, 319270, 319272, 319293, 319315, 319332, 319333, 319363, 319406, 319455, 319489, 319508, 319535, 319580, 319592, 319618, 319649, 319661, 319679, 319692, 319696, 319728, 319765, 319811, 319835, 319859, 319869, 319877, 319878, 319929, 319950, 320000, 320007, 320055, 320117, 320281, 320436, 320446, 320470, 320503, 320601, 320618, 320650, 320724, 320794, 320814, 320894, 320901, 320971, 321092, 321100, 321121, 321181, 321218, 321231, 321247, 321317, 321351, 321367, 321393, 321397, 321472, 321497, 321547, 321590, 321619, 321731, 321903, 321968, 321984, 322106, 322122, 322224, 322318, 322370, 322442, 322446, 322546, 322550, 322617, 322626, 322652, 322689, 322705, 322810, 322834, 322840, 322860, 322950, 322957, 322962, 323227, 323270, 323353, 323356, 323462, 323545, 323588, 323683, 323697, 323715, 323726, 323780, 323799, 323804, 323939, 323944, 323982, 324018, 324048, 324080, 324097, 324163, 324205, 324229, 324253, 324328, 324353, 324360, 324423, 324566, 324603, 324669, 324747, 324900, 324953, 324997, 324999, 325016, 325063, 325071, 325120, 325136, 325139, 325160, 325239, 325344, 325354, 325434, 325533, 325587, 325591, 325663, 325703, 325718, 325721, 325747, 325816, 325842, 325849, 325861, 326039, 326051, 326181, 326330, 326344, 326410, 326411, 326518, 326553, 326586, 326639, 326682, 326879, 326904, 326948, 327012, 327038, 327039, 327063, 327120, 327127, 327194, 327196, 327233, 327266, 327294, 327361, 327452, 327480, 327535, 327571, 327596, 327597, 327602, 327698, 327792, 327806, 327828, 327904, 327921, 327922, 327982, 328013, 328015, 328043, 328087, 328178, 328312, 328358, 328492, 328517, 328522, 328558, 328561, 328641, 328868, 328882, 328901, 328932, 328942, 329166, 329181, 329265, 329295, 329374, 329564, 329585, 329700, 329704, 329725, 329730, 329747, 329811, 329871, 329905, 329928, 329933, 329967, 329982, 330033, 330089, 330119, 330238, 330251, 330353, 330475, 330535, 330536, 330567, 330977, 331020, 331201, 331210, 331242, 331248, 331299, 331329, 331357, 331376, 331521, 331559, 331564, 331573, 331575, 331651, 331655, 331687, 331699, 331708, 331714, 331722, 331748, 331754, 331823, 331936, 331982, 332052, 332112, 332122, 332130, 332170, 332181, 332195, 332280, 332455, 332484, 332508, 332511, 332654, 332693, 332765, 332785, 332813, 332820, 332862, 332898, 333066, 333109, 333233, 333253, 333257, 333321, 333324, 333329, 333336, 333396, 333442, 333471, 333529, 333549, 333564, 333601, 333615, 333630, 333715, 333781, 333820, 333870, 333880, 333920, 333929, 334042, 334133, 334142, 334225, 334241, 334268, 334294, 334315, 334325, 334342, 334359, 334392, 334403, 334492, 334510, 334585, 334679, 334734, 334858, 334862, 334877, 334893, 334946, 334948, 334964, 334966, 334976, 335075, 335086, 335132, 335186, 335194, 335195, 335200, 335303, 335442, 335674, 335686, 335692, 335711, 335725, 335761, 335804, 335903, 335959, 335982, 335987, 335990, 336013, 336020, 336073, 336074, 336170, 336262, 336327, 336337, 336457, 336499, 336596, 336607, 336641, 336649, 336652, 336658, 336673, 336719, 336772, 336802, 336884, 336990, 337044, 337061, 337122, 337134, 337143, 337216, 337314, 337364, 337376, 337430, 337471, 337572, 337586, 337654, 337779, 337888, 338010, 338032, 338039, 338054, 338251, 338274, 338311, 338448, 338491, 338595, 338604, 338678, 338711, 338716, 338804, 338832, 338973, 339011, 339033, 339178, 339204, 339247, 339276, 339356, 339379, 339382, 339432, 339506, 339562, 339567, 339611, 339634, 339663, 339699, 339707, 339970, 340046, 340154, 340237, 340270, 340273, 340283, 340296, 340351, 340361, 340446, 340475, 340480, 340594, 340667, 340679, 340858, 340991, 340994, 341015, 341025, 341050, 341157, 341224, 341267, 341291, 341363, 341380, 341411, 341465, 341471, 341480, 341621, 341628, 341645, 341650, 341682, 341689, 341710, 341760, 341774, 341825, 341834, 341862, 341868, 341871, 341875, 341878, 341908, 341996, 342019, 342199, 342266, 342284, 342538, 342561, 342609, 342659, 342663, 342668, 342720, 342732, 342863, 342869, 342881, 342897, 343032, 343082, 343135, 343139, 343267, 343297, 343390, 343398, 343428, 343447, 343499, 343564, 343610, 343641, 343644, 343659, 343674, 343675, 343677, 343712, 343743, 343812, 343819, 343901, 343940, 343953, 344225, 344245, 344257, 344329, 344386, 344407, 344507, 344516, 344547, 344565, 344628, 344761, 344774, 344950, 345032, 345058, 345085, 345087, 345123, 345146, 345153, 345194, 345205, 345268, 345274, 345318, 345340, 345420, 345464, 345482, 345566, 345678, 345693, 345724, 345796, 345807, 345863, 345902, 345936, 345971, 346008, 346021, 346037, 346049, 346062, 346120, 346199, 346333, 346420, 346485, 346518, 346579, 346669, 346692, 346706, 346722, 346845, 346881, 346907, 346951, 346959, 346984, 347008, 347046, 347078, 347083, 347091, 347184, 347241, 347278, 347317, 347342, 347472, 347488, 347492, 347651, 347713, 347747, 347790, 347811, 347814, 347824, 347838, 347872, 347931, 348017, 348028, 348062, 348064, 348199, 348200, 348201, 348443, 348490, 348533, 348624, 348723, 348789, 348807, 348812, 348827, 348884, 348896, 348914, 348999, 349016, 349052, 349069, 349125, 349127, 349135, 349160, 349161, 349197, 349302, 349436, 349443, 349462, 349486, 349639, 349706, 349802, 349859, 349932, 349959, 350000, 350063, 350073, 350226, 350232, 350245, 350268, 350365, 350388, 350422, 350482, 350492, 350666, 350667, 350687, 350742, 350755, 350775, 350824, 350840, 350869, 351032, 351055, 351070, 351151, 351157, 351226, 351277, 351292, 351301, 351335, 351417, 351418, 351468, 351482, 351528, 351577, 351662, 351665, 351690, 351717, 351741, 351786, 351829, 351878, 351940, 351970, 351976, 352050, 352092, 352116, 352192, 352231, 352310, 352324, 352409, 352434, 352492, 352651, 352668, 352699, 352751, 352756, 352779, 352882, 352909, 352915, 352942, 352962, 353206, 353278, 353297, 353303, 353315, 353337, 353347, 353367, 353447, 353451, 353462, 353506, 353588, 353605, 353684, 353735, 353763, 353802, 353822, 353829, 353891, 353938, 354003, 354021, 354055, 354056, 354081, 354109, 354195, 354197, 354243, 354259, 354298, 354299, 354309, 354358, 354367, 354395, 354429, 354463, 354473, 354474, 354634, 354638, 354698, 354757, 354779, 354904, 354957, 354965, 355092, 355117, 355145, 355221, 355276, 355300, 355391, 355406, 355448, 355559, 355612, 355637, 355718, 355754, 355763, 355790, 355796, 355828, 355886, 355896, 355900, 355935, 356005, 356037, 356075, 356101, 356185, 356330, 356434, 356516, 356517, 356585, 356589, 356595, 356611, 356618, 356625, 356628, 356706, 356732, 356826, 356839, 356923, 356980, 357079, 357100, 357199, 357241, 357255, 357293, 357310, 357351, 357390, 357550, 357637, 357729, 357742, 357761, 357772, 357817, 357823, 357830, 357916, 357919, 357963, 357983, 357995, 358027, 358041, 358108, 358128, 358181, 358195, 358201, 358280, 358345, 358453, 358491, 358549, 358565, 358632, 358679, 358685, 358734, 358746, 358777, 358794, 358818, 358842, 358902, 358944, 358962, 359030, 359059, 359066, 359073, 359184, 359255, 359257, 359258, 359311, 359330, 359333, 359460, 359480, 359592, 359601, 359620, 359626, 359634, 359662, 359888, 359976, 360149, 360300, 360387, 360406, 360420, 360544, 360549, 360568, 360638, 360668, 360681, 360736, 360744, 360774, 360813, 360886, 360961, 360983, 360987, 360999, 361066, 361088, 361142, 361153, 361163, 361181, 361182, 361262, 361276, 361317, 361325, 361359, 361406, 361480, 361496, 361554, 361606, 361660, 361663, 361693, 361725, 361783, 361825, 361862, 361867, 361912, 362044, 362047, 362184, 362411, 362413, 362416, 362418, 362448, 362466, 362490, 362550, 362761, 363001, 363008, 363175, 363242, 363386, 363419, 363503, 363506, 363640, 363670, 363710, 363754, 363793, 363816, 363832, 363867, 363953, 363957, 363971, 363985, 364070, 364101, 364155, 364188, 364190, 364227, 364267, 364273, 364296, 364298, 364383, 364391, 364432, 364465, 364585, 364660, 364717, 364722, 364747, 364917, 365013, 365067, 365093, 365136, 365184, 365220, 365231, 365307, 365315, 365384, 365397, 365413, 365506, 365522, 365545, 365574, 365577, 365587, 365612, 365641, 365717, 365753, 365784, 365839, 365929, 366022, 366067, 366087, 366133, 366161, 366175, 366253, 366315, 366600, 366618, 366633, 366644, 366665, 366666, 366699, 366769, 366849, 366919, 366943, 367258, 367320, 367384, 367387, 367396, 367426, 367449, 367451, 367458, 367499, 367514, 367545, 367733, 367765, 367805, 367951, 368047, 368184, 368213, 368292, 368335, 368381, 368388, 368442, 368495, 368619, 368633, 368653, 368671, 368682, 368737, 368828, 368831, 368842, 368925, 368948, 369019, 369023, 369034, 369065, 369089, 369130, 369139, 369180, 369224, 369323, 369458, 369476, 369534, 369615, 369632, 369659, 369683, 369698, 369785, 369806, 369827, 369886, 369910, 369914, 369938, 370059, 370073, 370196, 370212, 370231, 370258, 370292, 370346, 370370, 370402, 370458, 370465, 370477, 370521, 370525, 370533, 370538, 370542, 370551, 370601, 370606, 370643, 370672, 370691, 370724, 370989, 370991, 371001, 371105, 371117, 371207, 371252, 371389, 371417, 371484, 371489, 371561, 371575, 371646, 371701, 371723, 371813, 371869, 371921, 372000, 372007, 372104, 372153, 372238, 372261, 372392, 372431, 372544, 372594, 372636, 372644, 372662, 372686, 372715, 372849, 372866, 372903, 372911, 372912, 372940, 372942, 372962, 372979, 373031, 373062, 373082, 373138, 373155, 373282, 373305, 373315, 373365, 373372, 373416, 373490, 373520, 373635, 373688, 373749, 373801, 373849, 373932, 373935, 373973, 374006, 374013, 374055, 374291, 374389, 374412, 374531, 374565, 374620, 374642, 374699, 374826, 374842, 374862, 374874, 374892, 374934, 374983, 374988, 375094, 375140, 375159, 375240, 375304, 375356, 375409, 375472, 375530, 375610, 375611, 375654, 375662, 375703, 375766, 375773, 375845, 375924, 375930, 376052, 376135, 376160, 376211, 376245, 376467, 376481, 376484, 376495, 376496, 376522, 376593, 376775, 376912, 376932, 376979, 376998, 377027, 377101, 377343, 377381, 377416, 377509, 377567, 377582, 377611, 377626, 377629, 377679, 377752, 377830, 377839, 377842, 377844, 378053, 378114, 378128, 378142, 378147, 378219, 378253, 378348, 378389, 378417, 378474, 378540, 378787, 378913, 378946, 379010, 379038, 379073, 379093, 379148, 379192, 379200, 379203, 379243, 379278, 379366, 379405, 379422, 379482, 379563, 379703, 379728, 379812, 379951, 380070, 380111, 380133, 380147, 380173, 380176, 380251, 380258, 380316, 380357, 380377, 380436, 380472, 380485, 380509, 380547, 380590, 380594, 380638, 380647, 380667, 380751, 380785, 380914, 380942, 380988, 381239, 381306, 381314, 381387, 381455, 381501, 381605, 381627, 381683, 381690, 381709, 381711, 381752, 381841, 381846, 381856, 381858, 381860, 381883, 382073, 382148, 382289, 382303, 382381, 382513, 382596, 382610, 382663, 382672, 382737, 382752, 382802, 382851, 382861, 382935, 383006, 383067, 383082, 383134, 383191, 383292, 383302, 383310, 383356, 383364, 383374, 383375, 383435, 383437, 383467, 383474, 383477, 383534, 383543, 383548, 383566, 383641, 383729, 383738, 383828, 383851, 383865, 383873, 383964, 384000, 384037, 384045, 384086, 384106, 384128, 384195, 384449, 384548, 384579, 384595, 384623, 384629, 384642, 384757, 384930, 385009, 385065, 385130, 385239, 385247, 385272, 385315, 385332, 385362, 385393, 385406, 385442, 385468, 385496, 385521, 385545, 385604, 385665, 385687, 385721, 385731, 385733, 385761, 385815, 385865, 385960, 386027, 386052, 386067, 386071, 386110, 386117, 386164, 386299, 386420, 386516, 386518, 386558, 386585, 386589, 386628, 386639, 386640, 386669, 386676, 386862, 386866, 386919, 386952, 387093, 387099, 387111, 387140, 387206, 387289, 387367, 387392, 387475, 387530, 387559, 387584, 387691, 387693, 387742, 387744, 387795, 387829, 387881, 387920, 387935, 387977, 388040, 388052, 388065, 388067, 388090, 388096, 388311, 388342, 388373, 388376, 388434, 388470, 388551, 388563, 388613, 388618, 388794, 388836, 388982, 389048, 389137, 389149, 389163, 389228, 389240, 389277, 389379, 389405, 389568, 389670, 389743, 389801, 389817, 389819, 389930, 389976, 389996, 390029, 390067, 390146, 390157, 390158, 390163, 390170, 390181, 390206, 390399, 390504, 390532, 390550, 390558, 390625, 390660, 390663, 390664, 390787, 390874, 390887, 390889, 390916, 390997, 391094, 391224, 391260, 391414, 391443, 391485, 391525, 391536, 391601, 391608, 391632, 391723, 391733, 391863, 391944, 391981, 392049, 392081, 392111, 392126, 392148, 392228, 392237, 392257, 392338, 392403, 392449, 392454, 392471, 392488, 392543, 392593, 392694, 392797, 392845, 392994, 393090, 393104, 393111, 393196, 393309, 393328, 393343, 393401, 393431, 393471, 393495, 393520, 393538, 393620, 393650, 393662, 393705, 393723, 393768, 393784, 393797, 393817, 393821, 393839, 393847, 393870, 393986, 394049, 394090, 394124, 394152, 394205, 394211, 394231, 394289, 394402, 394438, 394482, 394516, 394571, 394655, 394777, 394807, 394981, 395158, 395215, 395220, 395234, 395265, 395424, 395446, 395464, 395477, 395492, 395552, 395670, 395692, 395762, 395794, 395795, 395802, 395841, 395915, 395956, 395981, 395987, 396025, 396059, 396127, 396143, 396198, 396265, 396322, 396354, 396377, 396395, 396420, 396450, 396497, 396518, 396578, 396620, 396673, 396703, 396724, 396779, 396865, 396933, 396964, 397032, 397080, 397089, 397170, 397187, 397196, 397236, 397260, 397290, 397297, 397311, 397318, 397337, 397408, 397533, 397553, 397611, 397694, 397795, 397804, 397813, 397850, 397973, 397996, 398024, 398050, 398076, 398141, 398163, 398170, 398172, 398230, 398302, 398344, 398352, 398430, 398517, 398555, 398592, 398624, 398654, 398718, 398810, 398818, 398889, 398895, 398921, 398930, 398956, 398976, 399002, 399127, 399174, 399179, 399214, 399219, 399315, 399341, 399384, 399427, 399471, 399479, 399553, 399630, 399698, 399765, 399775, 399865, 399911, 399918, 399956, 399959, 399992, 399997, 400102, 400181, 400303, 400315, 400410, 400423, 400445, 400519, 400533, 400613, 400653, 400707, 400738, 400778, 400788, 400875, 400882, 400921, 400985, 401010, 401019, 401091, 401136, 401157, 401283, 401353, 401356, 401416, 401443, 401584, 401704, 401892, 402002, 402079, 402123, 402135, 402154, 402194, 402234, 402251, 402265, 402346, 402363, 402460, 402489, 402499, 402508, 402704, 402705, 402794, 402936, 403013, 403054, 403075, 403171, 403215, 403222, 403233, 403245, 403257, 403300, 403304, 403339, 403354, 403362, 403400, 403476, 403536, 403590, 403632, 403679, 403687, 403784, 403818, 403837, 403863, 403903, 403911, 403920, 403965, 404036, 404170, 404196, 404210, 404224, 404237, 404297, 404313, 404492, 404590, 404601, 404609, 404612, 404733, 404791, 404861, 404892, 404963, 405011, 405022, 405035, 405059, 405094, 405099, 405132, 405140, 405145, 405179, 405184, 405209, 405243, 405291, 405394, 405544, 405566, 405655, 405663, 405737, 405780, 405862, 405867, 405875, 406001, 406109, 406140, 406204, 406284, 406324, 406358, 406384, 406411, 406468, 406581, 406585, 406659, 406764, 406829, 406877, 406885, 406894, 407043, 407078, 407124, 407183, 407203, 407265, 407279, 407299, 407319, 407358, 407452, 407486, 407487, 407493, 407529, 407533, 407669, 407825, 407836, 407862, 408008, 408009, 408038, 408039, 408132, 408199, 408209, 408216, 408235, 408302, 408336, 408375, 408540, 408563, 408580, 408587, 408610, 408823, 408887, 408972, 409006, 409043, 409054, 409064, 409080, 409084, 409115, 409236, 409260, 409306, 409367, 409421, 409431, 409439, 409468, 409477, 409620, 409669, 409684, 409717, 409721, 409736, 409746, 409763, 409798, 409858, 409891, 409918, 410209, 410272, 410358, 410395, 410407, 410409, 410421, 410436, 410541, 410562, 410581, 410592, 410693, 410741, 410805, 410900, 410990, 411115, 411157, 411195, 411205, 411301, 411303, 411347, 411391, 411416, 411467, 411577, 411631, 411638, 411646, 411668, 411700, 411743, 411820, 411877, 411999, 412127, 412142, 412248, 412410, 412420, 412508, 412543, 412586, 412588, 412615, 412668, 412670, 412686, 412691, 412799, 412820, 412832, 412870, 412900, 412941, 413052, 413073, 413083, 413105, 413119, 413138, 413185, 413213, 413319, 413424, 413452, 413508, 413698, 413928, 414032, 414066, 414077, 414103, 414188, 414287, 414292, 414299, 414306, 414312, 414369, 414414, 414421, 414455, 414476, 414577, 414579, 414584, 414656, 414657, 414700, 414715, 414737, 414749, 414753, 414817, 414915, 414963, 415043, 415044, 415143, 415184, 415192, 415229, 415303, 415392, 415437, 415466, 415509, 415574, 415617, 415655, 415667, 415769, 415800, 415945, 415946, 415952, 416034, 416090, 416141, 416222, 416466, 416568, 416677, 416707, 416745, 416836, 416882, 417056, 417108, 417182, 417266, 417277, 417496, 417598, 417624, 417649, 417731, 417762, 417853, 417877, 418040, 418140, 418187, 418190, 418247, 418308, 418317, 418366, 418375, 418438, 418448, 418522, 418592, 418652, 418705, 418742, 418765, 418794, 418887, 418940, 418962, 418999, 419080, 419102, 419132, 419152, 419228, 419232, 419287, 419312, 419324, 419325, 419331, 419335, 419470, 419483, 419574, 419575, 419576, 419609, 419679, 419693, 419733, 419763, 419789, 419823, 419844, 419864, 420019, 420174, 420329, 420494, 420530, 420540, 420605, 420660, 420667, 420672, 420673, 420724, 420736, 420771, 420812, 420827, 420907, 420974, 421005, 421036, 421211, 421226, 421404, 421480, 421491, 421587, 421624, 421660, 421691, 421724, 421847, 421855, 421885, 421944, 421955, 421960, 421985, 422070, 422075, 422104, 422121, 422152, 422157, 422240, 422264, 422299, 422343, 422357, 422389, 422789, 422798, 422804, 422902, 423010, 423014, 423037, 423113, 423118, 423180, 423209, 423256, 423410, 423461, 423532, 423558, 423587, 423627, 423686, 423832, 423890, 423952, 423970, 423976, 423980, 424020, 424045, 424088, 424127, 424163, 424173, 424180, 424203, 424416, 424618, 424677, 424826, 424867, 424924, 424933, 425023, 425223, 425274, 425317, 425345, 425360, 425364, 425365, 425405, 425410, 425434, 425462, 425572, 425598, 425682, 425795, 425835, 425932, 425942, 425963, 425990, 426015, 426043, 426118, 426242, 426349, 426396, 426565, 426573, 426616, 426651, 426665, 426753, 426856, 426903, 426977, 426980, 426997, 427007, 427068, 427080, 427082, 427137, 427160, 427167, 427247, 427352, 427449, 427566, 427609, 427647, 427717, 427793, 427841, 427890, 427904, 427964, 428171, 428202, 428234, 428264, 428368, 428437, 428461, 428605, 428742, 428745, 428761, 428764, 428834, 429106, 429167, 429176, 429216, 429240, 429288, 429313, 429407, 429456, 429457, 429467, 429488, 429501, 429557, 429602, 429615, 429721, 429736, 429783, 429826, 429845, 430071, 430076, 430180, 430201, 430221, 430278, 430331, 430341, 430345, 430486, 430518, 430535, 430550, 430728, 430773, 430847, 430946, 431010, 431283, 431301, 431346, 431424, 431533, 431584, 431611, 431667, 431671, 431713, 431720, 431728, 431739, 431766, 431802, 431804, 431806, 431887, 431969, 432126, 432214, 432318, 432512, 432527, 432550, 432635, 432667, 432679, 432709, 432751, 432804, 432844, 432850, 432989, 433021, 433092, 433141, 433233, 433261, 433269, 433327, 433513, 433535, 433636, 433684, 433727, 433748, 433759, 433762, 433789, 433810, 433849, 433861, 433888, 433895, 433910, 433934, 433968, 433991, 434018, 434041, 434137, 434202, 434250, 434277, 434333, 434378, 434379, 434480, 434483, 434518, 434584, 434651, 434686, 434708, 434728, 434759, 434851, 434942, 435051, 435070, 435117, 435253, 435305, 435349, 435423, 435484, 435501, 435638, 435681, 435734, 435750, 435798, 435892, 435947, 436036, 436062, 436117, 436169, 436225, 436388, 436453, 436495, 436509, 436630, 436646, 436702, 436769, 436788, 436804, 436850, 436853, 436863, 436879, 436932, 436945, 436960, 437070, 437139, 437151, 437154, 437211, 437219, 437234, 437481, 437656, 437687, 437694, 437766, 437791, 437812, 437862, 437944, 437976, 437979, 437980, 438082, 438103, 438191, 438238, 438262, 438360, 438376, 438484, 438508, 438521, 438551, 438738, 438797, 438823, 438916, 438921, 439131, 439160, 439222, 439240, 439357, 439489, 439516, 439577, 439643, 439688, 439782, 439786, 439795, 439859, 439860, 439869, 439945, 440038, 440041, 440042, 440238, 440320, 440359, 440438, 440460, 440486, 440494, 440558, 440636, 440699, 440836, 440883, 440906, 440930, 440953, 440955, 441003, 441073, 441075, 441077, 441108, 441200, 441201, 441217, 441327, 441340, 441353, 441440, 441441, 441479, 441505, 441518, 441574, 441678, 441688, 441795, 441797, 441962, 441989, 441998, 442112, 442216, 442258, 442272, 442293, 442304, 442351, 442360, 442380, 442399, 442414, 442564, 442584, 442641, 442697, 442709, 442828, 442900, 442979, 443008, 443166, 443180, 443203, 443381, 443425, 443495, 443503, 443524, 443595, 443659, 443695, 443785, 443922, 444010, 444013, 444248, 444290, 444292, 444351, 444429, 444433, 444449, 444455, 444474, 444495, 444702, 444739, 445035, 445099, 445117, 445136, 445185, 445350, 445353, 445476, 445611, 445632, 445649, 445666, 445681, 445824, 445928, 445951, 446007, 446141, 446211, 446304, 446349, 446441, 446469, 446482, 446532, 446562, 446569, 446696, 446704, 446747, 446816, 446957, 446991, 447074, 447156, 447202, 447242, 447287, 447334, 447435, 447466, 447489, 447490, 447618, 447658, 447748, 447827, 447841, 447842, 447852, 447934, 447960, 447967, 447999, 448069, 448095, 448099, 448192, 448206, 448282, 448297, 448389, 448395, 448401, 448493, 448520, 448527, 448570, 448610, 448660, 448671, 448690, 448755, 448830, 448853, 448889, 448897, 448904, 448908, 448968, 448990, 448995, 449038, 449124, 449148, 449234, 449251, 449303, 449356, 449414, 449505, 449540, 449556, 449605, 449626, 449711, 449760, 449815, 449928, 450060, 450169, 450206, 450221, 450245, 450246, 450302, 450347, 450373, 450390, 450439, 450455, 450498, 450505, 450507, 450535, 450548, 450560, 450561, 450566, 450669, 450695, 450750, 450865, 450886, 451121, 451141, 451143, 451150, 451290, 451319, 451384, 451457, 451484, 451565, 451621, 451672, 451805, 451830, 451862, 451889, 452109, 452152, 452235, 452419, 452441, 452470, 452495, 452680, 452689, 452690, 452803, 452936, 452981, 453029, 453119, 453126, 453169, 453182, 453351, 453375, 453438, 453448, 453451, 453568, 453703, 453727, 453739, 453791, 453825, 453851, 453972, 453973, 454047, 454078, 454151, 454339, 454392, 454408, 454461, 454683, 454698, 454711, 454715, 454820, 454926, 454988, 455050, 455064, 455141, 455223, 455319, 455371, 455420, 455423, 455430, 455484, 455501, 455563, 455750, 455908, 455999, 456093, 456107, 456133, 456153, 456231, 456236, 456276, 456301, 456309, 456346, 456499, 456539, 456546, 456549, 456575, 456600, 456621, 456661, 456812, 456840, 456911, 456954, 456972, 456985, 457024, 457180, 457200, 457203, 457293, 457354, 457408, 457427, 457537, 457556, 457567, 457577, 457608, 457633, 457653, 457745, 457813, 457816, 457828, 457940, 457962, 458127, 458144, 458155, 458164, 458176, 458228, 458318, 458323, 458352, 458374, 458394, 458405, 458535, 458540, 458614, 458630, 458752, 458920, 458973, 459078, 459096, 459126, 459142, 459145, 459340, 459341, 459377, 459473, 459503, 459570, 459608, 459615, 459725, 459732, 459773, 459786, 459848, 459882, 459925, 460098, 460141, 460148, 460216, 460223, 460227, 460271, 460286, 460304, 460312, 460318, 460333, 460335, 460360, 460442, 460531, 460559, 460571, 460581, 460696, 460764, 460803, 460873, 460989, 461081, 461110, 461170, 461190, 461191, 461211, 461213, 461276, 461279, 461316, 461320, 461396, 461402, 461415, 461416, 461516, 461551, 461675, 461689, 461737, 461798, 461864, 461891, 461938, 461979, 462056, 462153, 462224, 462330, 462371, 462383, 462442, 462450, 462455, 462486, 462506, 462507, 462533, 462536, 462584, 462651, 462715, 462845, 462894, 462920, 463000, 463060, 463065, 463073, 463180, 463270, 463286, 463407, 463427, 463494, 463533, 463590, 463670, 463680, 463739, 463795, 463858, 463934, 463966, 463975, 464057, 464080, 464085, 464120, 464175, 464188, 464392, 464482, 464550, 464590, 464658, 464689, 464722, 464764, 464786, 464835, 464934, 465015, 465036, 465068, 465120, 465236, 465251, 465299, 465305, 465332, 465371, 465379, 465422, 465474, 465574, 465709, 465712, 465714, 465750, 465800, 465861, 465898, 465923, 465938, 465973, 465984, 466151, 466195, 466228, 466345, 466352, 466360, 466374, 466378, 466386, 466437, 466522, 466537, 466559, 466566, 466579, 466649, 466735, 466743, 466846, 466919, 467098, 467171, 467265, 467268, 467421, 467459, 467537, 467578, 467583, 467657, 467667, 467814, 467817, 468023, 468092, 468093, 468123, 468131, 468199, 468209, 468257, 468346, 468359, 468367, 468409, 468450, 468482, 468502, 468565, 468675, 468686, 468687, 468688, 468730, 468737, 468768, 468802, 468839, 468842, 468881, 468905, 469000, 469005, 469008, 469020, 469183, 469260, 469439, 469491, 469587, 469715, 469824, 469868, 469872, 469891, 469896, 469901, 469931, 469985, 470033, 470066, 470076, 470130, 470154, 470170, 470205, 470275, 470321, 470481, 470527, 470541, 470548, 470555, 470576, 470652, 470663, 470671, 470788, 470837, 470876, 470886, 470899, 470917, 470944, 471005, 471057, 471060, 471075, 471077, 471118, 471134, 471155, 471208, 471210, 471216, 471240, 471317, 471339, 471355, 471365, 471592, 471594, 471614, 471644, 471685, 471771, 471847, 471869, 471931, 471935, 471977, 472037, 472060, 472103, 472132, 472137, 472228, 472287, 472292, 472310, 472401, 472418, 472546, 472553, 472589, 472592, 472701, 472738, 472740, 472807, 472813, 472826, 472848, 472879, 472892, 472900, 472910, 472916, 472961, 473048, 473097, 473152, 473213, 473215, 473231, 473415, 473449, 473452, 473462, 473535, 473536, 473793, 473801, 473907, 473986, 474028, 474053, 474133, 474213, 474232, 474295, 474393, 474569, 474584, 474697, 474698, 474708, 474842, 474890, 474903, 474918, 475012, 475102, 475133, 475139, 475152, 475222, 475234, 475261, 475278, 475341, 475380, 475452, 475565, 475577, 475587, 475589, 475734, 475746, 475747, 476035, 476063, 476084, 476125, 476159, 476200, 476216, 476264, 476293, 476302, 476339, 476365, 476402, 476460, 476475, 476480, 476537, 476587, 476596, 476628, 476629, 476708, 476749, 476767, 476772, 476788, 476840, 476966, 476991, 477080, 477118, 477219, 477227, 477239, 477274, 477279, 477345, 477348, 477357, 477373, 477387, 477437, 477456, 477508, 477541, 477576, 477578, 477595, 477691, 477787, 477788, 477801, 477860, 477877, 477949, 477960, 478188, 478263, 478277, 478284, 478333, 478378, 478560, 478583, 478616, 478634, 478694, 478702, 478703, 478827, 478903, 478943, 478961, 479009, 479013, 479055, 479219, 479257, 479421, 479525, 479612, 479780, 479826, 479834, 479970, 479985, 480037, 480054, 480081, 480246, 480290, 480362, 480434, 480443, 480469, 480510, 480558, 480562, 480578, 480646, 480777, 480788, 480831, 480833, 480841, 480860, 480864, 480869, 480935, 480982, 481038, 481059, 481061, 481099, 481124, 481194, 481261, 481314, 481324, 481331, 481350, 481351, 481353, 481364, 481391, 481397, 481434, 481444, 481450, 481521, 481652, 481673, 481887, 481890, 481909, 481974, 482021, 482200, 482207, 482258, 482291, 482302, 482355, 482357, 482389, 482466, 482615, 482628, 482711, 482767, 482798, 482829, 482865, 482871, 483010, 483029, 483057, 483079, 483109, 483231, 483277, 483329, 483357, 483398, 483400, 483445, 483473, 483716, 483846, 483896, 483973, 484051, 484071, 484138, 484153, 484178, 484184, 484190, 484201, 484248, 484309, 484322, 484359, 484419, 484472, 484515, 484529, 484586, 484587, 484590, 484635, 484647, 484650, 484740, 484751, 484794, 484867, 484940, 484988, 485030, 485183, 485202, 485205, 485256, 485307, 485353, 485450, 485465, 485508, 485592, 485598, 485652, 485659, 485675, 485682, 485734, 485741, 485799, 485847, 485979, 486054, 486055, 486079, 486086, 486136, 486161, 486282, 486320, 486321, 486352, 486412, 486432, 486439, 486454, 486464, 486576, 486600, 486609, 486625, 486682, 486688, 486762, 486779, 486780, 486844, 486938, 487027, 487054, 487078, 487136, 487156, 487255, 487256, 487267, 487335, 487417, 487461, 487468, 487517, 487593, 487594, 487728, 487762, 487847, 487886, 487915, 487927, 487937, 487949, 488025, 488045, 488065, 488186, 488325, 488375, 488387, 488433, 488448, 488510, 488528, 488565, 488756, 488780, 488834, 488865, 488929, 488995, 489031, 489124, 489181, 489212, 489239, 489270, 489295, 489325, 489356, 489523, 489594, 489609, 489708, 489745, 489843, 489951, 490015, 490142, 490229, 490301, 490403, 490504, 490534, 490627, 490645, 490673, 490677, 490733, 490826, 490983, 491080, 491142, 491170, 491195, 491226, 491231, 491271, 491318, 491329, 491367, 491374, 491437, 491488, 491573, 491589, 491604, 491645, 491647, 491717, 491805, 491860, 491865, 491866, 491874, 491890, 491902, 491908, 491961, 491989, 492043, 492061, 492093, 492142, 492215, 492246, 492269, 492333, 492364, 492387, 492467, 492493, 492536, 492672, 492714, 492744, 492799, 492807, 492813, 492994, 493067, 493104, 493106, 493115, 493119, 493159, 493186, 493274, 493356, 493358, 493408, 493426, 493463, 493529, 493666, 493683, 493691, 493698, 493744, 493788, 493805, 493833, 493887, 493973, 493979, 494010, 494088, 494090, 494167, 494228, 494279, 494291, 494304, 494327, 494411, 494463, 494501, 494617, 494622, 494636, 494641, 494656, 494677, 494678, 494682, 494715, 494766, 494774, 494874, 494908, 494922, 494959, 495010, 495037, 495128, 495136, 495170, 495178, 495238, 495262, 495345, 495346, 495420, 495461, 495473, 495479, 495488, 495492, 495499, 495584, 495608, 495629, 495662, 495672, 495677, 495771, 495779, 495845, 495861, 495889, 496026, 496065, 496180, 496233, 496289, 496324, 496334, 496417, 496444, 496460, 496478, 496557, 496603, 496620, 496706, 496738, 496741, 496778, 496852, 496861, 496892, 496929, 496963, 497001, 497016, 497076, 497077, 497150, 497161, 497275, 497318, 497357, 497378, 497443, 497450, 497540, 497555, 497634, 497652, 497682, 497913, 498039, 498067, 498198, 498258, 498344, 498405, 498407, 498439, 498494, 498503, 498542, 498552, 498760, 498775, 498798, 498874, 498885, 498911, 498913, 499045, 499096, 499149, 499155, 499164, 499184, 499268, 499286, 499309, 499468, 499490, 499507, 499630, 499661, 499710, 499718, 499919, 499964, 500047, 500162, 500218, 500235, 500248, 500274, 500304, 500334, 500439, 500553, 500570, 500571, 500590, 500609, 500655, 500690, 500697, 500706, 500713, 500718, 500762, 500819, 500867, 500869, 500879, 500886, 500955, 500961, 500984, 501077, 501148, 501319, 501388, 501445, 501496, 501585, 501589, 501638, 501665, 501770, 501814, 501833, 501853, 501878, 501975, 502005, 502010, 502110, 502149, 502225, 502241, 502254, 502287, 502334, 502369, 502411, 502427, 502445, 502501, 502521, 502617, 502618, 502626, 502637, 502689, 502844, 502855, 502916, 503025, 503037, 503058, 503131, 503146, 503192, 503418, 503465, 503536, 503550, 503601, 503606, 503705, 503713, 503724, 503768, 503783, 503841, 503880, 503963, 503981, 503988, 503994, 504019, 504137, 504177, 504245, 504293, 504301, 504398, 504471, 504495, 504510, 504530, 504637, 504654, 504720, 504762, 504789, 504814, 504821, 505000, 505035, 505086, 505112, 505203, 505311, 505358, 505377, 505431, 505472, 505475, 505575, 505640, 505710, 505745, 505747, 505841, 505844, 505885, 505922, 506027, 506057, 506107, 506135, 506145, 506225, 506234, 506347, 506432, 506436, 506480, 506527, 506551, 506568, 506584, 506665, 506707, 506769, 506786, 506803, 506854, 506952, 506953, 507061, 507094, 507097, 507154, 507188, 507272, 507273, 507406, 507475, 507514, 507523, 507535, 507576, 507698, 507759, 507802, 507838, 507852, 507953, 508073, 508195, 508251, 508287, 508455, 508540, 508569, 508620, 508672, 508695, 508758, 508883, 508901, 508979, 509004, 509036, 509173, 509268, 509347, 509400, 509436, 509447, 509452, 509464, 509514, 509527, 509531, 509542, 509546, 509649, 509657, 509816, 509895, 509960, 509971, 510056, 510062, 510065, 510140, 510168, 510172, 510211, 510225, 510242, 510244, 510283, 510285, 510313, 510334, 510353, 510359, 510409, 510422, 510488, 510499, 510511, 510541, 510613, 510621, 510628, 510696, 510697, 510735, 510884, 511010, 511083, 511150, 511192, 511200, 511224, 511242, 511296, 511432, 511434, 511467, 511499, 511570, 511594, 511650, 511747, 511757, 511760, 511876, 511903, 511915, 511965, 512064, 512114, 512124, 512140, 512146, 512176, 512210, 512239, 512271, 512298, 512321, 512358, 512422, 512474, 512504, 512536, 512667, 512711, 512777, 512783, 512813, 512858, 512870, 512903, 512912, 512993, 513252, 513348, 513409, 513439, 513475, 513495, 513503, 513534, 513550, 513554, 513560, 513568, 513574, 513607, 513615, 513632, 513635, 513637, 513713, 513855, 513881, 513895, 513932, 513955, 513958, 513965, 514028, 514102, 514190, 514195, 514212, 514215, 514246, 514248, 514298, 514301, 514326, 514327, 514345, 514416, 514486, 514595, 514621, 514631, 514692, 514858, 514866, 514885, 514910, 514986, 515073, 515097, 515113, 515265, 515330, 515355, 515385, 515459, 515469, 515480, 515494, 515513, 515521, 515528, 515535, 515630, 515743, 515787, 515798, 515910, 516037, 516090, 516140, 516191, 516272, 516289, 516303, 516324, 516352, 516382, 516393, 516457, 516532, 516595, 516758, 516765, 516774, 516775, 516818, 516917, 516923, 517057, 517142, 517159, 517204, 517285, 517424, 517444, 517450, 517537, 517541, 517601, 517647, 517706, 517755, 517762, 517770, 517773, 517781, 517813, 517873, 517948, 517967, 518000, 518007, 518032, 518261, 518425, 518478, 518565, 518608, 518765, 518829, 518865, 518896, 519072, 519095, 519176, 519251, 519265, 519287, 519295, 519307, 519374, 519435, 519476, 519537, 519550, 519551, 519577, 519658, 519660, 519676, 519711, 519723, 519761, 519778, 519793, 519799, 519805, 519825, 519869, 519871, 519874, 519952, 520001, 520004, 520048, 520094, 520098, 520136, 520152, 520207, 520216, 520263, 520273, 520325, 520328, 520340, 520379, 520388, 520421, 520438, 520636, 520650, 520658, 520765, 520768, 520771, 520827, 520920, 521000, 521003, 521026, 521125, 521208, 521260, 521272, 521392, 521405, 521430, 521564, 521661, 521689, 521711, 521733, 521772, 521793, 521908, 521986, 522036, 522185, 522226, 522286, 522374, 522405, 522406, 522415, 522455, 522480, 522490, 522521, 522546, 522665, 522796, 522826, 522900, 522902, 522911, 522955, 523001, 523010, 523168, 523174, 523184, 523198, 523202, 523272, 523276, 523362, 523415, 523454, 523460, 523475, 523518, 523535, 523536, 523540, 523564, 523571, 523678, 523709, 523726, 523770, 523833, 523845, 523874, 523900, 523925, 523929, 523934, 523984, 524011, 524087, 524110, 524190, 524239, 524295, 524361, 524382, 524398, 524432, 524550, 524565, 524584, 524595, 524752, 524759, 524898, 524917, 524931, 524985, 525013, 525056, 525068, 525087, 525117, 525294, 525318, 525378, 525392, 525454, 525478, 525486, 525497, 525539, 525568, 525575, 525631, 525635, 525660, 525695, 525833, 525943, 525957, 525960, 526007, 526020, 526040, 526100, 526107, 526218, 526227, 526233, 526288, 526357, 526559, 526575, 526614, 526634, 526679, 526768, 526850, 526862, 526920, 526945, 527098, 527103, 527127, 527143, 527159, 527209, 527217, 527259, 527385, 527395, 527431, 527453, 527490, 527517, 527544, 527554, 527562, 527568, 527617, 527722, 527846, 527893, 527921, 527945, 527957, 527980, 527988, 528019, 528088, 528126, 528142, 528247, 528327, 528471, 528478, 528525, 528571, 528735, 529037, 529056, 529062, 529220, 529233, 529243, 529250, 529312, 529339, 529383, 529398, 529468, 529647, 529649, 529681, 529710, 529716, 529780, 529789, 529826, 529855, 529986, 529993, 530063, 530228, 530244, 530261, 530288, 530329, 530332, 530345, 530377, 530379, 530469, 530513, 530640, 530645, 530650, 530680, 530748, 530798, 530814, 530835, 530853, 530892, 530904, 530908, 531072, 531092, 531159, 531395, 531502, 531551, 531559, 531685, 531695, 531703, 531729, 531819, 531945, 531976, 531984, 532015, 532024, 532036, 532112, 532129, 532143, 532260, 532282, 532297, 532336, 532349, 532396, 532455, 532616, 532618, 532785, 532789, 532796, 532811, 532925, 532950, 533039, 533045, 533061, 533068, 533157, 533188, 533207, 533271, 533279, 533322, 533376, 533396, 533451, 533478, 533600, 533638, 533666, 533673, 533675, 533828, 533912, 533966, 534082, 534152, 534211, 534364, 534389, 534567, 534642, 534698, 534717, 534785, 534802, 534813, 534837, 534888, 535064, 535086, 535443, 535504, 535629, 535762, 535844, 535850, 535924, 535996, 536012, 536013, 536018, 536108, 536122, 536184, 536218, 536260, 536285, 536286, 536430, 536509, 536515, 536545, 536558, 536611, 536640, 536796, 536825, 536849, 536883, 536955, 536963, 537013, 537038, 537053, 537085, 537141, 537192, 537211, 537304, 537441, 537455, 537532, 537536, 537596, 537626, 537661, 537694, 537745, 537786, 537812, 537824, 538007, 538046, 538146, 538229, 538299, 538330, 538347, 538399, 538466, 538483, 538558, 538611, 538616, 538690, 538753, 538997, 539082, 539087, 539131, 539135, 539178, 539269, 539342, 539402, 539417, 539449, 539566, 539614, 539666, 539698, 539714, 539722, 539730, 539756, 539769, 539858, 539897, 539981, 539996, 540039, 540053, 540083, 540153, 540282, 540287, 540323, 540369, 540417, 540449, 540488, 540493, 540568, 540758, 540878, 540949, 540962, 541159, 541348, 541487, 541592, 541598, 541629, 541719, 541746, 541752, 541758, 541774, 541977, 542016, 542022, 542121, 542143, 542152, 542243, 542260, 542277, 542321, 542324, 542343, 542494, 542520, 542606, 542681, 542780, 542880, 542994, 542997, 543014, 543092, 543310, 543374, 543377, 543414, 543475, 543517, 543548, 543570, 543637, 543647, 543682, 543694, 543719, 543727, 543745, 543813, 543839, 543862, 543878, 543928, 543943, 543944, 543956, 543981, 543999, 544014, 544144, 544180, 544304, 544483, 544517, 544525, 544547, 544601, 544603, 544669, 544685, 544821, 544895, 544900, 544951, 545028, 545052, 545116, 545131, 545228, 545288, 545290, 545303, 545323, 545332, 545336, 545375, 545434, 545481, 545490, 545572, 545752, 545842, 545858, 545901, 545929, 545988, 546011, 546085, 546089, 546111, 546120, 546123, 546170, 546205, 546207, 546306, 546313, 546357, 546387, 546395, 546412, 546428, 546448, 546463, 546588, 546623, 546635, 546636, 546664, 546708, 546727, 546755, 546796, 546863, 546944, 546958, 546967, 547053, 547261, 547312, 547511, 547584, 547699, 547793, 547873, 547950, 547960, 547976, 548020, 548040, 548045, 548133, 548243, 548296, 548315, 548352, 548357, 548376, 548445, 548555, 548627, 548643, 548672, 548710, 548754, 548799, 548842, 548886, 548887, 549059, 549100, 549141, 549150, 549201, 549224, 549246, 549256, 549257, 549304, 549383, 549389, 549481, 549565, 549567, 549581, 549612, 549709, 549733, 549771, 549800, 549932, 549945, 549995, 550001, 550050, 550111, 550148, 550210, 550256, 550369, 550399, 550568, 550681, 550738, 550783, 550844, 550944, 550977, 550985, 550999, 551005, 551011, 551132, 551147, 551161, 551171, 551179, 551190, 551225, 551293, 551359, 551429, 551472, 551511, 551529, 551611, 551620, 551624, 551641, 551683, 551691, 551713, 551729, 551763, 551790, 551879, 551923, 551961, 552025, 552079, 552213, 552263, 552280, 552327, 552346, 552361, 552363, 552433, 552509, 552585, 552595, 552626, 552777, 552879, 552937, 552972, 553017, 553024, 553229, 553417, 553433, 553466, 553492, 553540, 553579, 553638, 553647, 553711, 553773, 553809, 553880, 553912, 553930, 553940, 553961, 553970, 553989, 553998, 554028, 554105, 554146, 554163, 554192, 554220, 554225, 554230, 554313, 554341, 554418, 554426, 554476, 554524, 554585, 554587, 554615, 554634, 554660, 554766, 554839, 554899, 554925, 554927, 555002, 555006, 555007, 555032, 555100, 555137, 555272, 555318, 555343, 555409, 555576, 555578, 555581, 555610, 555612, 555705, 555728, 555754, 555868, 555996, 556044, 556060, 556077, 556092, 556098, 556124, 556125, 556150, 556270, 556324, 556332, 556354, 556467, 556520, 556570, 556574, 556745, 556809, 556880, 556894, 556942, 556977, 557072, 557142, 557208, 557264, 557328, 557329, 557358, 557394, 557401, 557418, 557439, 557496, 557570, 557617, 557641, 557687, 557694, 557697, 557741, 557782, 557850, 557950, 557956, 557958, 557995, 558117, 558160, 558266, 558283, 558284, 558361, 558371, 558399, 558417, 558522, 558573, 558574, 558607, 558636, 558642, 558651, 558681, 558714, 558722, 558843, 558984, 558993, 559001, 559070, 559150, 559162, 559163, 559187, 559201, 559254, 559319, 559407, 559418, 559447, 559515, 559557, 559613, 559654, 559709, 559718, 559769, 559816, 559834, 559953, 559976, 559997, 560019, 560070, 560182, 560338, 560350, 560457, 560463, 560501, 560630, 560735, 560740, 560769, 560776, 560948, 560992, 560999, 561007, 561030, 561034, 561063, 561163, 561189, 561249, 561261, 561292, 561334, 561352, 561430, 561445, 561468, 561798, 561858, 561860, 561861, 561874, 561904, 561930, 562035, 562114, 562158, 562181, 562208, 562275, 562313, 562357, 562390, 562561, 562566, 562619, 562649, 562660, 562688, 562730, 562753, 562771, 562857, 562947, 563000, 563015, 563025, 563108, 563115, 563117, 563175, 563307, 563443, 563519, 563563, 563591, 563687, 563723, 563737, 563755, 563826, 563957, 563972, 563974, 564112, 564163, 564201, 564226, 564299, 564302, 564319, 564320, 564364, 564435, 564508, 564517, 564635, 564673, 564730, 564763, 564874, 564936, 565065, 565134, 565152, 565190, 565198, 565205, 565255, 565388, 565407, 565497, 565517, 565678, 565817, 565831, 565941, 565977, 565997, 566008, 566029, 566082, 566161, 566189, 566250, 566259, 566262, 566290, 566366, 566384, 566391, 566402, 566454, 566491, 566493, 566548, 566624, 566681, 566762, 566808, 566900, 566989, 567019, 567022, 567205, 567268, 567291, 567334, 567336, 567343, 567379, 567420, 567472, 567499, 567526, 567541, 567567, 567639, 567644, 567645, 567686, 567783, 567882, 567951, 568016, 568028, 568129, 568224, 568264, 568278, 568349, 568423, 568439, 568451, 568461, 568470, 568483, 568699, 568709, 568718, 568755, 568861, 568882, 569111, 569130, 569212, 569214, 569246, 569265, 569296, 569404, 569414, 569434, 569443, 569477, 569494, 569545, 569618, 569669, 569695, 569865, 569973, 570012, 570038, 570054, 570085, 570116, 570128, 570131, 570217, 570233, 570275, 570299, 570320, 570392, 570543, 570620, 570630, 570722, 570725, 570786, 570816, 570879, 570936, 571096, 571108, 571114, 571148, 571160, 571278, 571401, 571412, 571435, 571541, 571573, 571591, 571605, 571631, 571654, 571665, 571670, 571698, 571720, 571762, 571775, 571875, 572008, 572216, 572235, 572237, 572241, 572304, 572311, 572409, 572478, 572499, 572657, 572670, 572689, 572702, 572731, 572891, 572909, 572916, 572967, 573038, 573104, 573203, 573213, 573218, 573259, 573273, 573306, 573411, 573431, 573520, 573594, 573642, 573684, 573705, 573767, 573770, 573911, 573917, 573918, 573983, 574016, 574042, 574106, 574163, 574185, 574336, 574362, 574435, 574500, 574520, 574609, 574771, 574801, 574868, 574875, 574925, 574990, 574993, 575033, 575052, 575067, 575070, 575082, 575123, 575182, 575239, 575334, 575379, 575462, 575476, 575558, 575616, 575723, 575785, 575786, 575821, 575825, 575841, 575844, 575852, 576032, 576042, 576094, 576116, 576145, 576189, 576201, 576206, 576317, 576472, 576476, 576530, 576542, 576751, 576762, 576810, 576813, 576847, 576881, 576886, 576892, 576927, 576943, 576949, 577040, 577064, 577069, 577074, 577111, 577162, 577165, 577169, 577270, 577276, 577278, 577290, 577342, 577421, 577498, 577509, 577510, 577581, 577588, 577729, 577735, 577962, 577997, 578011, 578046, 578085, 578092, 578147, 578260, 578262, 578278, 578282, 578285, 578309, 578332, 578381, 578490, 578503, 578536, 578537, 578694, 578719, 578779, 578827, 578906, 578916, 579088, 579126, 579139, 579147, 579154, 579172, 579192, 579194, 579207, 579218, 579310, 579339, 579351, 579438, 579458, 579485, 579534, 579540, 579660, 579690, 579784, 579802, 579807, 579848, 579849, 579887, 579901, 579933, 580122, 580175, 580328, 580453, 580624, 580685, 580762, 580840, 580861, 580866, 580871, 580923, 580937, 580973, 580975, 581022, 581073, 581112, 581139, 581210, 581314, 581333, 581443, 581486, 581498, 581508, 581546, 581641, 581648, 581687, 581749, 581757, 581858, 581969, 582057, 582092, 582146, 582150, 582198, 582363, 582390, 582410, 582441, 582469, 582475, 582504, 582542, 582642, 582653, 582732, 582737, 582825, 582951, 582953, 583013, 583024, 583026, 583041, 583142, 583184, 583218, 583290, 583300, 583302, 583326, 583363, 583441, 583467, 583481, 583509, 583551, 583560, 583661, 583703, 583707, 583802, 584027, 584064, 584098, 584217, 584244, 584469, 584470, 584485, 584561, 584568, 584582, 584663, 584741, 584791, 584839, 584943, 584946, 585006, 585089, 585186, 585229, 585248, 585357, 585391, 585423, 585448, 585521, 585533, 585785, 585793, 585810, 585834, 585873, 586026, 586113, 586154, 586197, 586206, 586320, 586348, 586386, 586454, 586479, 586581, 586624, 586718, 586908, 586960, 587074, 587080, 587093, 587229, 587252, 587265, 587290, 587302, 587360, 587364, 587422, 587528, 587585, 587649, 587661, 587679, 587703, 587756, 587851, 587892, 587956, 588044, 588076, 588226, 588275, 588413, 588430, 588458, 588531, 588600, 588620, 588663, 588770, 588776, 588923, 588973, 589088, 589162, 589239, 589286, 589293, 589369, 589449, 589628, 589671, 589694, 589714, 589725, 589812, 589845, 589868, 589979, 590022, 590028, 590044, 590072, 590105, 590176, 590212, 590221, 590382, 590409, 590521, 590565, 590570, 590606, 590629, 590769, 590833, 590837, 590871, 591013, 591029, 591047, 591140, 591295, 591354, 591360, 591389, 591398, 591406, 591501, 591537, 591540, 591555, 591568, 591604, 591669, 591764, 591804, 591833, 591873, 591925, 592027, 592078, 592110, 592130, 592257, 592338, 592462, 592470, 592567, 592605, 592678, 592696, 592736, 592872, 592905, 592910, 592927, 593009, 593043, 593060, 593065, 593077, 593164, 593215, 593223, 593294, 593299, 593311, 593354, 593449, 593485, 593662, 593676, 593681, 593705, 593719, 593721, 593813, 593814, 594009, 594219, 594230, 594231, 594259, 594282, 594323, 594375, 594393, 594400, 594402, 594420, 594512, 594543, 594585, 594589, 594614, 594630, 594662, 594728, 594736, 594787, 594858, 594900, 594998, 595001, 595048, 595081, 595096, 595175, 595201, 595261, 595273, 595318, 595331, 595376, 595399, 595471, 595565, 595603, 595607, 595619, 595620, 595622, 595627, 595645, 595775, 595804, 595806, 595835, 595916, 595929, 595934, 595954, 596028, 596048, 596052, 596061, 596084, 596109, 596152, 596167, 596213, 596265, 596302, 596307, 596408, 596483, 596504, 596515, 596542, 596594, 596603, 596708, 596780, 596788, 596796, 596920, 597022, 597183, 597217, 597444, 597499, 597605, 597686, 597722, 597742, 597749, 597811, 597909, 597964, 597975, 597977, 598000, 598054, 598090, 598127, 598192, 598197, 598233, 598250, 598258, 598265, 598269, 598270, 598282, 598308, 598568, 598574, 598610, 598685, 598788, 598937, 598952, 598972, 599107, 599127, 599337, 599502, 599550, 599634, 599687, 599741, 599794, 599886, 599924, 599933, 600052, 600066, 600113, 600224, 600253, 600258, 600323, 600373, 600397, 600407, 600464, 600513, 600553, 600579, 600613, 600675, 600714, 600815, 600821, 600867, 600876, 600917, 600992, 600997, 601066, 601168, 601239, 601277, 601283, 601468, 601527, 601566, 601576, 601625, 601639, 601662, 601730, 601732, 601751, 601785, 601846, 602016, 602021, 602087, 602088, 602099, 602124, 602199, 602249, 602285, 602452, 602469, 602491, 602507, 602580, 602643, 602675, 602701, 602726, 602738, 602947, 603033, 603037, 603148, 603166, 603180, 603230, 603309, 603324, 603364, 603403, 603520, 603583, 603625, 603678, 603711, 603713, 603729, 603769, 603824, 603885, 603909, 603928, 603996, 604008, 604085, 604107, 604151, 604224, 604301, 604435, 604491, 604552, 604586, 604609, 604635, 604699, 604767, 604840, 604846, 604909, 605016, 605080, 605090, 605188, 605228, 605264, 605329, 605356, 605418, 605527, 605573, 605633, 605667, 605734, 605771, 605793, 605838, 605907, 605909, 606110, 606133, 606189, 606214, 606235, 606300, 606307, 606326, 606328, 606344, 606402, 606409, 606410, 606435, 606559, 606565, 606573, 606643, 606646, 606800, 606835, 606910, 606914, 606921, 607018, 607043, 607081, 607151, 607171, 607296, 607328, 607348, 607350, 607372, 607413, 607439, 607468, 607479, 607491, 607570, 607576, 607671, 607822, 607842, 607917, 607955, 608004, 608023, 608031, 608133, 608169, 608214, 608258, 608272, 608287, 608322, 608348, 608398, 608558, 608641, 608708, 608711, 608756, 608801, 608898, 608904, 608981, 609018, 609064, 609113, 609134, 609309, 609316, 609330, 609416, 609442, 609515, 609517, 609524, 609577, 609580, 609584, 609717, 609953, 610013, 610119, 610127, 610150, 610202, 610209, 610258, 610287, 610318, 610334, 610369, 610375, 610377, 610409, 610448, 610577, 610615, 610679, 610723, 610733, 610771, 610780, 610792, 610887, 610939, 610980, 611038, 611053, 611062, 611066, 611085, 611111, 611149, 611364, 611386, 611456, 611528, 611531, 611592, 611606, 611631, 611669, 611802, 611817, 611986, 612075, 612104, 612168, 612170, 612221, 612230, 612326, 612351, 612526, 612594, 612795, 612813, 612909, 612920, 612959, 612996, 613135, 613426, 613440, 613507, 613617, 613619, 613641, 613679, 613752, 613762, 613786, 613800, 613870, 613930, 613948, 613965, 614177, 614223, 614248, 614252, 614345, 614363, 614385, 614451, 614463, 614496, 614514, 614523, 614595, 614703, 614737, 614800, 614870, 614880, 614920, 614977, 614990, 615044, 615091, 615101, 615102, 615166, 615168, 615176, 615180, 615262, 615325, 615357, 615373, 615408, 615412, 615451, 615566, 615649, 615666, 615771, 615780, 615796, 615855, 615890, 616082, 616162, 616223, 616283, 616298, 616307, 616311, 616417, 616424, 616443, 616485, 616498, 616507, 616542, 616568, 616662, 616693, 616763, 616843, 616879, 616888, 617070, 617136, 617143, 617357, 617410, 617421, 617439, 617566, 617611, 617760, 617764, 617768, 617783, 617845, 617897, 617946, 617954, 618078, 618084, 618199, 618221, 618306, 618310, 618373, 618415, 618426, 618429, 618463, 618506, 618595, 618720, 618768, 618811, 618838, 618905, 618934, 619015, 619038, 619168, 619309, 619320, 619360, 619473, 619512, 619513, 619578, 619633, 619729, 619736, 619779, 619885, 619901, 619964, 619991, 620007, 620071, 620107, 620111, 620276, 620374, 620541, 620545, 620585, 620637, 620722, 620762, 620813, 620831, 620949, 621012, 621055, 621079, 621091, 621139, 621243, 621263, 621269, 621346, 621353, 621362, 621385, 621416, 621423, 621468, 621476, 621519, 621521, 621665, 621739, 621862, 621907, 621920, 622010, 622040, 622060, 622070, 622240, 622282, 622299, 622328, 622360, 622368, 622382, 622426, 622473, 622481, 622511, 622517, 622532, 622570, 622595, 622619, 622746, 622749, 622759, 622839, 622864, 622879, 622901, 622911, 622940, 622972, 622990, 623008, 623246, 623298, 623309, 623337, 623354, 623391, 623479, 623481, 623506, 623523, 623562, 623616, 623668, 623672, 623680, 623695, 623723, 623725, 623784, 623791, 623833, 623915, 623917, 624025, 624075, 624093, 624127, 624146, 624210, 624239, 624327, 624381, 624420, 624425, 624455, 624522, 624552, 624711, 624728, 624735, 625180, 625181, 625192, 625287, 625304, 625318, 625324, 625340, 625344, 625406, 625456, 625644, 625704, 625847, 625854, 625883, 626125, 626155, 626211, 626215, 626306, 626319, 626322, 626387, 626389, 626395, 626456, 626713, 626745, 626856, 626889, 626922, 626958, 626966, 627039, 627053, 627058, 627076, 627121, 627126, 627227, 627285, 627291, 627403, 627404, 627422, 627426, 627467, 627496, 627560, 627664, 627710, 627720, 627748, 627757, 627781, 627794, 627837, 627880, 627891, 628040, 628042, 628132, 628140, 628141, 628220, 628296, 628334, 628354, 628433, 628441, 628450, 628454, 628481, 628543, 628581, 628681, 628716, 628752, 628818, 628880, 628891, 628943, 629014, 629074, 629242, 629253, 629316, 629496, 629576, 629604, 629612, 629651, 629654, 629658, 629666, 629781, 629800, 629825, 629978, 630015, 630059, 630139, 630373, 630692, 630728, 630806, 630826, 630843, 630898, 630957, 631036, 631061, 631078, 631130, 631155, 631162, 631197, 631305, 631311, 631374, 631394, 631436, 631610, 631615, 631665, 631682, 631792, 631797, 631801, 631806, 631823, 631832, 631881, 631893, 631899, 631982, 632012, 632061, 632187, 632298, 632322, 632352, 632365, 632441, 632517, 632612, 632633, 632768, 632847, 632931, 632934, 632985, 632990, 633072, 633182, 633319, 633322, 633339, 633377, 633384, 633385, 633390, 633417, 633421, 633566, 633619, 633649, 633658, 633679, 633709, 633754, 633760, 633784, 633820, 633823, 633884, 633907, 633921, 633983, 634087, 634102, 634123, 634166, 634232, 634237, 634261, 634282, 634312, 634378, 634381, 634422, 634452, 634465, 634525, 634612, 634642, 634653, 634688, 634752, 634870, 634887, 634919, 634962, 635061, 635073, 635156, 635204, 635212, 635214, 635433, 635464, 635493, 635685, 635688, 635799, 635843, 635885, 635907, 635921, 635998, 636000, 636012, 636101, 636119, 636146, 636265, 636348, 636371, 636390, 636452, 636532, 636536, 636553, 636604, 636681, 636713, 636732, 636751, 636803, 636813, 636821, 636867, 636887, 636924, 636942, 637168, 637339, 637397, 637417, 637423, 637466, 637492, 637586, 637593, 637707, 637726, 637791, 637827, 637952, 638067, 638076, 638085, 638100, 638115, 638145, 638271, 638324, 638330, 638553, 638772, 638815, 638890, 638925, 638987, 638999, 639218, 639234, 639261, 639314, 639319, 639338, 639349, 639479, 639511, 639536, 639608, 639641, 639693, 639717, 639723, 639852, 639853, 639918, 639950, 640017, 640038, 640045, 640076, 640154, 640160, 640169, 640204, 640231, 640305, 640323, 640389, 640412, 640476, 640547, 640599, 640658, 640702, 640709, 640801, 640804, 640817, 640934, 641010, 641070, 641083, 641092, 641133, 641257, 641259, 641281, 641431, 641451, 641462, 641512, 641555, 641691, 641742, 641743, 641765, 641790, 641903, 641924, 641945, 641969, 641976, 642004, 642024, 642095, 642216, 642217, 642225, 642257, 642271, 642283, 642314, 642375, 642388, 642414, 642424, 642436, 642473, 642482, 642597, 642609, 642687, 642744, 642804, 642820, 642883, 642884, 643099, 643162, 643220, 643315, 643368, 643387, 643405, 643494, 643501, 643534, 643636, 643674, 643712, 643763, 643825, 643852, 643950, 644001, 644100, 644181, 644256, 644285, 644303, 644376, 644493, 644590, 644598, 644611, 644619, 644730, 644748, 644838, 644875, 644901, 644922, 644929, 644958, 644983, 645003, 645055, 645165, 645173, 645205, 645220, 645304, 645305, 645359, 645386, 645389, 645442, 645565, 645584, 645612, 645639, 645706, 645837, 645840, 645863, 645865, 645885, 645952, 646038, 646067, 646121, 646150, 646169, 646200, 646203, 646219, 646259, 646298, 646346, 646424, 646532, 646589, 646616, 646746, 646985, 647012, 647083, 647113, 647124, 647130, 647281, 647338, 647345, 647374, 647445, 647456, 647461, 647476, 647522, 647577, 647674, 647708, 647829, 647839, 647867, 647930, 647949, 647968, 647981, 648065, 648076, 648078, 648178, 648210, 648239, 648386, 648403, 648435, 648462, 648492, 648574, 648753, 649057, 649106, 649134, 649167, 649211, 649240, 649288, 649291, 649297, 649299, 649317, 649319, 649436, 649487, 649678, 649709, 649774, 649797, 650041, 650064, 650065, 650139, 650142, 650278, 650281, 650288, 650300, 650301, 650344, 650362, 650542, 650559, 650565, 650665, 650698, 650743, 650752, 650781, 650796, 650854, 650968, 650984, 651000, 651005, 651064, 651089, 651184, 651285, 651306, 651312, 651346, 651349, 651472, 651554, 651609, 651644, 651650, 651697, 651710, 651723, 651774, 651786, 651801, 651890, 651924, 651932, 651938, 651958, 651975, 652052, 652150, 652199, 652432, 652466, 652488, 652497, 652603, 652635, 652736, 652757, 652815, 652890, 652916, 652956, 652979, 652991, 653024, 653031, 653040, 653089, 653140, 653153, 653230, 653346, 653348, 653395, 653422, 653433, 653438, 653446, 653448, 653449, 653464, 653659, 653696, 653729, 653790, 653837, 653870, 653930, 653958, 654023, 654056, 654141, 654180, 654206, 654219, 654243, 654388, 654405, 654422, 654497, 654569, 654598, 654609, 654684, 654687, 654703, 654748, 654910, 654919, 654929, 654964, 654968, 654980, 655019, 655126, 655186, 655188, 655202, 655251, 655307, 655317, 655369, 655415, 655428, 655519, 655540, 655566, 655684, 655701, 655743, 655806, 655811, 655883, 655892, 656014, 656124, 656152, 656239, 656265, 656268, 656305, 656334, 656335, 656346, 656380, 656391, 656502, 656514, 656527, 656537, 656691, 656694, 656698, 656708, 656783, 656838, 656853, 656860, 656878, 656929, 656976, 657012, 657060, 657061, 657124, 657256, 657389, 657468, 657590, 657625, 657812, 657817, 657832, 657891, 657939, 658066, 658159, 658205, 658209, 658216, 658217, 658271, 658272, 658415, 658512, 658547, 658632, 658736, 658760, 658791, 658807, 658871, 658879, 658902, 658914, 658930, 659014, 659039, 659174, 659196, 659255, 659260, 659270, 659343, 659399, 659452, 659456, 659520, 659672, 659686, 659692, 659726, 659753, 659775, 659809, 659840, 659867, 659981, 660010, 660093, 660121, 660178, 660197, 660238, 660251, 660294, 660339, 660347, 660350, 660410, 660425, 660523, 660535, 660601, 660717, 660754, 660775, 660925, 660976, 660991, 661111, 661122, 661176, 661268, 661274, 661312, 661338, 661356, 661448, 661487, 661511, 661555, 661724, 661770, 661778, 661925, 661941, 661947, 661948, 661964, 661974, 661984, 661986, 662037, 662068, 662084, 662170, 662179, 662192, 662231, 662324, 662338, 662357, 662379, 662419, 662425, 662428, 662556, 662557, 662627, 662672, 662754, 662807, 662935, 662954, 662958, 662992, 663020, 663084, 663096, 663098, 663219, 663241, 663243, 663333, 663397, 663400, 663427, 663475, 663497, 663507, 663538, 663594, 663623, 663661, 663665, 663686, 663727, 663878, 663892, 663976, 663989, 664038, 664063, 664115, 664211, 664255, 664282, 664319, 664379, 664456, 664475, 664481, 664490, 664517, 664628, 664659, 664683, 664684, 664765, 664851, 664881, 664899, 665036, 665070, 665151, 665418, 665495, 665507, 665560, 665587, 665620, 665626, 665695, 665775, 665776, 665835, 665911, 665956, 665981, 666017, 666022, 666045, 666087, 666198, 666199, 666225, 666261, 666262, 666303, 666441, 666484, 666507, 666556, 666582, 666583, 666609, 666652, 666681, 666776, 666855, 667013, 667038, 667067, 667111, 667121, 667172, 667249, 667252, 667284, 667322, 667334, 667395, 667618, 667702, 667875, 667924, 667927, 667961, 667999, 668039, 668046, 668182, 668206, 668237, 668269, 668278, 668315, 668603, 668612, 668650, 668815, 668825, 668903, 668938, 669049, 669112, 669163, 669200, 669254, 669255, 669334, 669354, 669374, 669405, 669434, 669499, 669519, 669595, 669604, 669620, 669642, 669666, 669729, 669738, 669911, 669954, 669980, 670006, 670022, 670066, 670151, 670222, 670224, 670351, 670401, 670440, 670489, 670526, 670610, 670613, 670655, 670736, 670775, 670796, 670809, 670880, 670993, 671053, 671089, 671097, 671129, 671134, 671142, 671178, 671279, 671286, 671326, 671328, 671365, 671439, 671442, 671611, 671623, 671667, 671749, 671939, 671982, 672113, 672149, 672150, 672154, 672186, 672191, 672199, 672286, 672318, 672362, 672377, 672407, 672432, 672448, 672495, 672524, 672538, 672585, 672746, 672754, 672854, 672932, 672937, 672942, 672972, 672994, 673004, 673013, 673090, 673185, 673207, 673217, 673260, 673300, 673301, 673342, 673345, 673351, 673398, 673407, 673435, 673600, 673666, 673777, 673792, 674007, 674032, 674033, 674068, 674101, 674130, 674152, 674156, 674168, 674329, 674425, 674481, 674553, 674590, 674668, 674734, 674870, 675013, 675054, 675100, 675110, 675226, 675236, 675239, 675264, 675267, 675312, 675313, 675332, 675333, 675443, 675449, 675528, 675538, 675547, 675559, 675588, 675975, 676076, 676100, 676138, 676178, 676211, 676220, 676293, 676360, 676464, 676507, 676520, 676531, 676558, 676608, 676623, 676651, 676731, 676748, 676767, 676769, 676879, 676888, 676984, 676997, 677063, 677093, 677115, 677140, 677153, 677193, 677216, 677317, 677375, 677408, 677411, 677477, 677522, 677553, 677580, 677590, 677671, 677715, 677759, 677840, 677901, 677934, 677986, 678051, 678103, 678111, 678180, 678202, 678292, 678349, 678452, 678484, 678521, 678587, 678621, 678674, 678707, 678894, 678922, 678953, 679034, 679036, 679056, 679061, 679094, 679209, 679214, 679238, 679335, 679526, 679626, 679634, 679674, 679687, 679759, 679760, 679862, 679902, 679928, 679932, 679956, 679968, 680005, 680061, 680112, 680131, 680207, 680209, 680296, 680375, 680380, 680497, 680523, 680527, 680562, 680567, 680572, 680624, 680716, 680719, 680741, 680764, 680773, 680802, 680878, 680960, 681037, 681053, 681113, 681166, 681189, 681203, 681298, 681405, 681416, 681439, 681487, 681557, 681642, 681684, 681699, 681754, 682001, 682024, 682068, 682083, 682288, 682329, 682346, 682363, 682398, 682449, 682451, 682505, 682558, 682562, 682579, 682609, 682614, 682630, 682673, 682691, 682732, 682786, 682841, 682859, 682973, 683006, 683009, 683017, 683073, 683101, 683139, 683231, 683251, 683254, 683401, 683465, 683471, 683490, 683574, 683586, 683605, 683653, 683723, 683817, 683913, 683940, 683980, 683982, 684008, 684029, 684051, 684072, 684122, 684145, 684147, 684173, 684245, 684304, 684309, 684319, 684448, 684457, 684505, 684549, 684638, 684639, 684644, 684675, 685004, 685050, 685076, 685200, 685219, 685222, 685259, 685261, 685302, 685362, 685460, 685527, 685633, 685665, 685684, 685909, 685960, 685996, 686109, 686146, 686157, 686166, 686180, 686194, 686333, 686334, 686456, 686465, 686511, 686565, 686580, 686582, 686600, 686620, 686679, 686749, 686763, 686765, 686798, 686896, 686959, 687065, 687068, 687101, 687106, 687158, 687227, 687243, 687247, 687266, 687337, 687407, 687516, 687576, 687623, 687795, 687815, 687825, 687833, 687871, 687912, 687981, 688012, 688091, 688140, 688179, 688249, 688289, 688365, 688448, 688495, 688503, 688529, 688602, 688619, 688630, 688671, 688799, 688816, 688847, 688858, 688933, 689027, 689085, 689107, 689206, 689217, 689222, 689271, 689287, 689371, 689469, 689529, 689557, 689587, 689589, 689691, 689745, 689928, 690001, 690034, 690107, 690138, 690316, 690336, 690379, 690386, 690464, 690512, 690529, 690540, 690631, 690743, 690780, 690782, 691018, 691094, 691098, 691132, 691198, 691226, 691239, 691276, 691313, 691385, 691392, 691399, 691406, 691437, 691581, 691622, 691653, 691687, 691693, 691809, 692184, 692236, 692240, 692286, 692322, 692334, 692371, 692433, 692712, 692743, 692883, 692990, 693004, 693011, 693029, 693215, 693216, 693241, 693314, 693350, 693368, 693374, 693587, 693608, 693612, 693632, 693640, 693660, 693751, 693755, 693801, 693879, 693898, 693971, 694015, 694039, 694120, 694132, 694140, 694144, 694167, 694188, 694341, 694368, 694447, 694455, 694521, 694675, 694684, 694693, 694712, 694727, 694756, 694791, 694920, 694925, 694942, 694978, 695021, 695079, 695080, 695107, 695116, 695200, 695216, 695372, 695400, 695412, 695464, 695510, 695562, 695565, 695594, 695596, 695670, 695680, 695702, 695725, 695796, 695824, 695829, 695858, 695944, 695957, 696099, 696119, 696198, 696200, 696242, 696243, 696317, 696321, 696338, 696392, 696431, 696526, 696536, 696569, 696575, 696602, 696677, 696775, 696847, 697008, 697074, 697102, 697146, 697219, 697244, 697270, 697336, 697340, 697360, 697399, 697417, 697434, 697447, 697494, 697505, 697528, 697533, 697611, 697630, 697680, 697810, 697821, 697863, 697883, 697891, 697972, 697993, 698082, 698111, 698218, 698249, 698362, 698518, 698563, 698668, 698787, 698804, 698896, 698956, 699028, 699067, 699081, 699087, 699141, 699147, 699166, 699191, 699214, 699260, 699274, 699283, 699286, 699312, 699359, 699378, 699394, 699400, 699431, 699465, 699503, 699517, 699548, 699615, 699684, 699688, 699697, 699706, 699741, 699837, 699997, 700042, 700043, 700084, 700090, 700102, 700139, 700167, 700178, 700290, 700402, 700445, 700478, 700490, 700518, 700603, 700633, 700723, 700749, 700915, 700971, 700983, 700995, 701016, 701062, 701239, 701391, 701455, 701489, 701506, 701645, 701652, 701705, 701778, 701806, 701807, 701901, 701904, 701925, 702087, 702124, 702126, 702179, 702221, 702266, 702285, 702348, 702372, 702437, 702538, 702564, 702566, 702619, 703001, 703007, 703009, 703051, 703070, 703081, 703102, 703115, 703219, 703227, 703230, 703279, 703313, 703350, 703400, 703426, 703440, 703446, 703492, 703521, 703534, 703542, 703548, 703711, 703751, 703792, 703814, 703882, 703890, 703925, 704060, 704068, 704104, 704132, 704141, 704181, 704340, 704344, 704391, 704421, 704448, 704545, 704572, 704575, 704790, 704813, 704864, 704897, 704959, 705070, 705085, 705090, 705131, 705161, 705227, 705229, 705255, 705319, 705343, 705382, 705442, 705490, 705504, 705523, 705537, 705594, 705736, 705768, 705945, 706003, 706168, 706200, 706206, 706238, 706300, 706324, 706366, 706431, 706436, 706442, 706508, 706520, 706582, 706612, 706643, 706682, 706694, 706703, 706793, 706829, 706887, 707075, 707117, 707189, 707225, 707257, 707261, 707293, 707325, 707389, 707497, 707502, 707589, 707665, 707677, 707694, 707766, 707771, 707799, 707834, 707859, 707874, 707953, 708014, 708039, 708089, 708091, 708339, 708361, 708379, 708448, 708547, 708560, 708562, 708592, 708630, 708707, 708717, 708718, 708798, 708923, 708985, 709014, 709053, 709189, 709210, 709285, 709317, 709398, 709401, 709434, 709482, 709537, 709639, 709658, 709803, 709845, 709975, 710114, 710147, 710161, 710184, 710198, 710213, 710225, 710258, 710263, 710266, 710339, 710374, 710394, 710399, 710440, 710479, 710606, 710657, 710661, 710730, 710768, 710785, 710817, 710831, 710983, 711091, 711097, 711107, 711149, 711159, 711160, 711214, 711252, 711289, 711323, 711418, 711443, 711454, 711481, 711497, 711529, 711540, 711554, 711618, 711660, 711689, 711693, 711700, 711724, 711890, 711951, 711970, 712056, 712078, 712222, 712261, 712268, 712344, 712420, 712447, 712450, 712456, 712478, 712483, 712493, 712557, 712621, 712828, 712846, 712854, 712940, 712941, 712957, 713066, 713074, 713152, 713153, 713187, 713224, 713241, 713420, 713442, 713453, 713510, 713594, 713701, 713721, 713762, 713772, 713776, 713799, 713832, 713923, 713993, 714065, 714078, 714092, 714174, 714219, 714270, 714304, 714397, 714428, 714429, 714457, 714489, 714495, 714524, 714542, 714604, 714605, 714684, 714712, 714748, 714781, 714839, 714874, 714879, 714936, 714946, 714952, 714968, 715025, 715029, 715035, 715057, 715122, 715211, 715228, 715245, 715254, 715263, 715657, 715710, 715726, 715782, 715854, 715904, 715922, 715939, 715998, 716018, 716036, 716105, 716110, 716166, 716170, 716199, 716263, 716287, 716293, 716538, 716693, 716694, 716701, 716797, 716821, 716824, 716927, 717053, 717089, 717101, 717241, 717254, 717291, 717325, 717369, 717370, 717406, 717415, 717426, 717487, 717656, 717744, 717758, 717768, 717801, 717817, 717868, 717880, 717882, 717892, 717914, 717934, 717965, 717981, 718019, 718024, 718026, 718046, 718104, 718121, 718128, 718149, 718155, 718158, 718165, 718190, 718281, 718313, 718355, 718417, 718432, 718443, 718488, 718569, 718649, 718652, 718718, 718812, 718939, 718941, 718977, 719074, 719117, 719252, 719255, 719278, 719296, 719339, 719488, 719556, 719622, 719668, 719673, 719908, 719948, 719961, 720041, 720057, 720125, 720216, 720251, 720332, 720370, 720437, 720492, 720515, 720517, 720541, 720577, 720617, 720719, 720736, 720737, 720776, 720797, 720926, 721034, 721045, 721079, 721116, 721141, 721252, 721312, 721365, 721371, 721429, 721432, 721434, 721629, 721642, 721656, 721716, 721798, 721824, 721844, 721863, 721869, 721947, 721970, 721997, 722031, 722052, 722092, 722095, 722288, 722366, 722387, 722455, 722486, 722572, 722601, 722604, 722672, 722745, 722809, 722846, 722920, 722971, 723076, 723117, 723129, 723228, 723284, 723353, 723564, 723572, 723591, 723612, 723648, 723663, 723737, 723756, 723857, 723868, 723885, 723886, 723931, 723956, 723982, 724000, 724121, 724212, 724321, 724369, 724372, 724429, 724464, 724491, 724566, 724569, 724576, 724685, 724712, 724730, 724774, 724827, 724889, 724902, 724923, 724931, 724962, 724999, 725005, 725049, 725060, 725100, 725174, 725185, 725192, 725384, 725422, 725432, 725480, 725529, 725544, 725603, 725614, 725735, 725740, 725764, 725776, 725902, 725928, 726124, 726209, 726223, 726249, 726273, 726337, 726426, 726451, 726480, 726506, 726515, 726525, 726587, 726616, 726621, 726640, 726674, 726827, 726875, 726916, 726936, 726937, 726978, 727048, 727124, 727188, 727209, 727265, 727301, 727340, 727401, 727429, 727535, 727565, 727568, 727599, 727732, 727792, 727814, 727847, 727863, 727972, 728088, 728159, 728269, 728271, 728425, 728431, 728439, 728464, 728539, 728567, 728585, 728649, 728766, 728774, 728805, 728865, 728914, 729006, 729046, 729054, 729121, 729148, 729192, 729195, 729258, 729292, 729326, 729431, 729476, 729582, 729688, 729712, 729726, 729799, 729819, 729842, 729874, 729961, 729998, 730019, 730064, 730212, 730241, 730293, 730309, 730377, 730400, 730467, 730480, 730515, 730642, 730709, 730878, 730906, 730938, 731036, 731038, 731049, 731062, 731304, 731352, 731374, 731406, 731526, 731562, 731589, 731607, 731638, 731639, 731775, 731883, 731884, 731958, 731973, 732032, 732053, 732068, 732107, 732194, 732270, 732286, 732300, 732325, 732375, 732399, 732510, 732515, 732532, 732533, 732604, 732643, 732708, 732723, 732805, 732963, 733085, 733259, 733265, 733315, 733346, 733369, 733379, 733433, 733567, 733637, 733651, 733680, 733687, 733833, 733893, 733915, 733942, 733946, 733960, 733965, 734026, 734049, 734201, 734288, 734296, 734409, 734445, 734463, 734551, 734561, 734575, 734581, 734650, 734735, 734740, 734749, 734752, 734774, 734775, 734915, 735070, 735082, 735112, 735123, 735240, 735473, 735480, 735508, 735533, 735615, 735688, 735729, 735730, 735803, 735815, 735881, 735972, 736051, 736113, 736125, 736328, 736343, 736406, 736419, 736455, 736469, 736482, 736494, 736515, 736568, 736570, 736576, 736599, 736620, 736624, 736631, 736716, 736743, 736750, 736757, 736758, 736774, 736868, 736950, 736975, 737078, 737112, 737185, 737238, 737250, 737281, 737293, 737304, 737321, 737459, 737496, 737555, 737575, 737660, 737666, 737696, 737740, 737747, 737788, 737792, 737967, 737985, 737990, 737993, 738057, 738098, 738183, 738208, 738220, 738225, 738241, 738369, 738411, 738438, 738500, 738617, 738642, 738704, 738748, 738803, 738904, 738987, 739079, 739433, 739438, 739483, 739485, 739552, 739559, 739586, 739640, 739741, 739781, 739868, 739905, 739913, 739919, 740018, 740024, 740028, 740036, 740073, 740139, 740178, 740219, 740237, 740254, 740389, 740443, 740499, 740510, 740521, 740527, 740619, 740645, 740669, 740681, 740767, 740771, 740833, 740846, 740893, 740897, 740911, 740915, 741027, 741101, 741102, 741134, 741196, 741365, 741378, 741507, 741573, 741613, 741621, 741746, 741817, 741905, 741911, 741952, 741973, 741987, 742008, 742141, 742144, 742285, 742383, 742401, 742442, 742545, 742581, 742584, 742592, 742601, 742621, 742745, 742814, 742830, 742844, 742874, 742994, 743087, 743119, 743190, 743241, 743289, 743331, 743431, 743508, 743581, 743589, 743638, 743645, 743652, 743662, 743691, 743936, 743977, 744090, 744146, 744156, 744157, 744187, 744282, 744285, 744306, 744333, 744339, 744381, 744418, 744435, 744463, 744486, 744539, 744564, 744645, 744662, 744681, 744724, 744725, 744732, 744767, 744778, 744796, 744960, 744964, 744978, 745027, 745106, 745244, 745294, 745358, 745391, 745505, 745530, 745689, 745721, 745749, 745774, 745946, 746071, 746086, 746168, 746170, 746208, 746248, 746251, 746400, 746555, 746615, 746623, 746679, 746792, 746923, 746984, 747010, 747028, 747081, 747111, 747182, 747193, 747222, 747280, 747309, 747324, 747428, 747447, 747497, 747505, 747552, 747600, 747616, 747620, 747680, 747698, 747797, 748020, 748037, 748045, 748074, 748076, 748110, 748149, 748192, 748336, 748442, 748477, 748489, 748563, 748597, 748660, 748669, 748680, 748744, 748748, 748756, 748797, 748805, 748836, 748852, 748873, 748874, 748917, 748927, 748948, 748955, 748965, 748990, 749087, 749088, 749102, 749143, 749291, 749345, 749466, 749479, 749543, 749549, 749833, 749887, 749890, 749892, 749894, 749995, 750000, 750061, 750111, 750528, 750550, 750565, 750572, 750573, 750575, 750607, 750610, 750629, 750741, 750784, 750833, 750867, 750923, 750993, 751009, 751019, 751174, 751243, 751391, 751393, 751432, 751493, 751494, 751504, 751518, 751531, 751691, 751717, 751880, 751887, 751993, 751999, 752015, 752018, 752033, 752041, 752188, 752254, 752314, 752334, 752336, 752355, 752548, 752615, 752756, 752800, 752953, 752998, 753013, 753070, 753087, 753091, 753186, 753232, 753252, 753399, 753417, 753491, 753507, 753567, 753570, 753673, 753764, 753805, 753934, 753948, 753972, 754008, 754084, 754240, 754284, 754296, 754311, 754325, 754354, 754413, 754415, 754548, 754567, 754627, 754635, 754645, 754672, 754912, 754919, 754928, 755037, 755072, 755127, 755212, 755336, 755346, 755378, 755390, 755422, 755601, 755713, 755736, 755845, 755853, 755855, 755887, 755930, 756035, 756171, 756226, 756251, 756266, 756298, 756435, 756525, 756531, 756579, 756582, 756588, 756688, 756720, 756783, 756798, 756838, 756913, 757035, 757096, 757101, 757130, 757140, 757192, 757226, 757246, 757272, 757283, 757328, 757471, 757496, 757519, 757524, 757537, 757655, 757860, 757866, 757932, 757947, 758001, 758006, 758011, 758059, 758087, 758224, 758227, 758251, 758268, 758278, 758288, 758388, 758406, 758436, 758467, 758557, 758742, 758750, 758781, 758788, 758806, 758877, 758881, 758889, 758900, 759035, 759061, 759098, 759101, 759104, 759174, 759178, 759254, 759276, 759315, 759361, 759382, 759436, 759462, 759532, 759570, 759702, 759731, 759732, 759787, 759862, 759932, 759954, 759955, 759965, 759992, 760015, 760061, 760094, 760139, 760241, 760277, 760336, 760359, 760396, 760399, 760475, 760500, 760563, 760607, 760632, 760702, 760741, 760800, 760835, 760860, 760869, 760872, 761013, 761034, 761071, 761108, 761243, 761297, 761365, 761382, 761410, 761493, 761497, 761511, 761515, 761526, 761536, 761634, 761826, 761918, 762013, 762045, 762121, 762323, 762406, 762568, 762588, 762591, 762602, 762645, 762684, 762715, 762720, 762736, 762779, 762930, 763126, 763205, 763249, 763261, 763316, 763613, 763672, 763684, 763704, 763769, 763819, 763864, 763882, 764033, 764129, 764341, 764452, 764459, 764462, 764476, 764527, 764559, 764650, 764670, 764719, 764761, 764773, 764955, 765037, 765114, 765194, 765200, 765212, 765368, 765383, 765487, 765605, 765740, 765745, 765753, 765781, 765935, 765983, 766041, 766096, 766110, 766118, 766130, 766207, 766211, 766224, 766314, 766377, 766386, 766387, 766393, 766472, 766482, 766494, 766558, 766685, 766722, 766735, 766762, 766798, 766814, 766894, 766985, 767024, 767120, 767143, 767546, 767552, 767666, 767730, 767749, 767912, 767928, 768002, 768059, 768233, 768242, 768264, 768323, 768344, 768362, 768377, 768422, 768427, 768448, 768539, 768554, 768587, 768611, 768630, 768644, 768685, 768696, 768698, 768730, 768857, 768924, 768985, 769028, 769054, 769135, 769174, 769194, 769222, 769261, 769436, 769454, 769466, 769488, 769491, 769543, 769566, 769675, 769716, 769722, 769799, 769818, 769898, 769956, 769984, 769986, 770038, 770066, 770076, 770078, 770090, 770187, 770276, 770290, 770298, 770395, 770417, 770432, 770509, 770534, 770547, 770568, 770581, 770664, 770713, 770898, 770913, 770965, 770988, 771012, 771118, 771166, 771172, 771313, 771452, 771492, 771545, 771623, 771790, 771816, 771927, 772007, 772065, 772075, 772090, 772127, 772148, 772163, 772226, 772466, 772576, 772623, 772642, 772672, 772723, 772784, 772974, 773161, 773187, 773220, 773241, 773244, 773337, 773367, 773400, 773406, 773452, 773453, 773537, 773694, 773756, 773782, 773785, 773822, 773846, 773854, 773902, 773931, 773990, 773996, 774150, 774152, 774201, 774287, 774302, 774314, 774341, 774475, 774531, 774700, 774702, 774710, 774727, 774758, 774786, 774806, 774855, 774903, 774933, 774939, 775000, 775002, 775039, 775211, 775231, 775325, 775327, 775352, 775373, 775562, 775606, 775689, 775691, 775754, 775816, 776019, 776034, 776048, 776120, 776123, 776264, 776279, 776316, 776587, 776749, 776777, 776818, 776826, 776859, 776937, 777021, 777159, 777196, 777203, 777212, 777213, 777246, 777248, 777290, 777439, 777454, 777475, 777548, 777613, 777785, 777788, 777936, 777955, 777972, 777997, 778029, 778050, 778061, 778072, 778124, 778275, 778276, 778291, 778455, 778476, 778519, 778544, 778553, 778634, 778759, 778866, 778945, 779119, 779133, 779136, 779205, 779303, 779397, 779468, 779474, 779541, 779630, 779732, 779744, 779752, 779798, 779860, 779894, 779896, 780024, 780077, 780099, 780117, 780119, 780168, 780279, 780418, 780439, 780457, 780500, 780601, 780629, 780682, 780715, 780719, 780805, 780829, 780884, 780932, 780957, 780980, 780981, 780993, 780999, 781037, 781111, 781166, 781187, 781237, 781250, 781314, 781331, 781342, 781415, 781422, 781484, 781589, 781621, 781646, 781710, 781953, 781967, 781971, 782074, 782161, 782170, 782176, 782215, 782249, 782285, 782389, 782495, 782595, 782642, 782683, 782786, 782883, 782902, 782945, 782972, 782981, 782998, 783095, 783104, 783304, 783406, 783407, 783412, 783444, 783534, 783536, 783549, 783745, 783798, 783809, 783827, 783880, 783881, 783887, 783890, 783897, 783959, 783999, 784002, 784010, 784093, 784112, 784161, 784175, 784196, 784255, 784277, 784438, 784487, 784582, 784632, 784676, 784763, 784790, 784804, 784842, 784887, 784899, 784978, 784988, 784992, 785010, 785033, 785156, 785159, 785187, 785190, 785366, 785399, 785401, 785448, 785456, 785457, 785484, 785487, 785492, 785522, 785523, 785612, 785712, 785723, 785781, 785799, 785816, 785830, 786026, 786057, 786060, 786170, 786212, 786249, 786283, 786322, 786417, 786437, 786469, 786511, 786536, 786572, 786670, 786688, 786726, 786737, 786797, 786824, 786828, 786857, 786947, 786990, 787185, 787188, 787215, 787227, 787236, 787361, 787377, 787384, 787415, 787460, 787474, 787496, 787553, 787602, 787673, 787720, 787724, 787764, 787791, 787816, 787829, 787884, 787886, 787942, 787976, 788282, 788294, 788372, 788405, 788432, 788486, 788558, 788595, 788688, 788754, 788789, 788826, 788882, 788933, 788940, 788950, 789061, 789186, 789242, 789245, 789313, 789356, 789359, 789447, 789462, 789463, 789500, 789530, 789534, 789552, 789642, 789706, 789724, 789794, 789887, 789907, 789989, 789996, 790069, 790113, 790254, 790365, 790437, 790464, 790510, 790650, 790708, 790748, 790784, 790832, 790866, 790987, 791037, 791039, 791071, 791072, 791120, 791224, 791254, 791285, 791295, 791412, 791428, 791528, 791589, 791611, 791627, 791901, 791931, 791946, 792013, 792097, 792149, 792170, 792196, 792327, 792339, 792368, 792402, 792425, 792491, 792506, 792540, 792570, 792573, 792584, 792618, 792641, 792650, 792671, 792686, 792717, 792785, 792792, 792934, 792945, 792960, 792975, 792982, 792999, 793060, 793080, 793163, 793170, 793194, 793240, 793277, 793392, 793498, 793509, 793539, 793609, 793757, 793816, 793821, 793822, 793879, 793895, 793981, 793983, 793992, 794005, 794079, 794137, 794185, 794192, 794211, 794215, 794253, 794318, 794369, 794378, 794428, 794456, 794463, 794466, 794489, 794544, 794782, 794784, 794793, 794859, 794924, 794983, 794990, 795044, 795051, 795075, 795088, 795149, 795163, 795207, 795232, 795308, 795355, 795411, 795432, 795466, 795598, 795606, 795627, 795670, 795768, 795782, 795863, 795882, 795970, 796005, 796055, 796060, 796204, 796205, 796314, 796336, 796361, 796414, 796515, 796610, 796615, 796616, 796655, 796759, 796767, 796776, 796783, 796823, 796880, 796897, 796997, 797055, 797091, 797142, 797165, 797282, 797325, 797380, 797427, 797437, 797457, 797498, 797499, 797559, 797564, 797590, 797621, 797633, 797638, 797646, 797686, 797715, 797744, 797750, 797803, 797815, 797935, 798008, 798017, 798057, 798139, 798152, 798251, 798258, 798259, 798306, 798312, 798321, 798329, 798343, 798357, 798391, 798441, 798492, 798499, 798596, 798625, 798680, 798763, 798791, 798794, 798913, 798934, 799077, 799105, 799127, 799129, 799227, 799259, 799337, 799446, 799450, 799500, 799526, 799666, 799728, 799742, 799846, 799942, 799962, 800015, 800124, 800128, 800151, 800210, 800220, 800311, 800317, 800328, 800350, 800391, 800480, 800482, 800507, 800583, 800762, 800764, 800913, 800966, 801040, 801044, 801167, 801265, 801532, 801545, 801570, 801669, 801729, 801774, 801801, 801947, 801973, 801997, 802000, 802013, 802028, 802102, 802108, 802129, 802155, 802256, 802264, 802434, 802541, 802549, 802566, 802573, 802595, 802685, 802700, 802729, 802805, 802818, 802880, 802926, 802949, 802961, 803006, 803044, 803055, 803090, 803097, 803139, 803272, 803307, 803427, 803544, 803554, 803569, 803576, 803607, 803700, 803712, 803713, 803768, 803785, 803787, 803823, 803856, 803928, 803992, 804004, 804018, 804044, 804152, 804186, 804249, 804323, 804327, 804347, 804356, 804384, 804430, 804434, 804435, 804438, 804445, 804448, 804536, 804546, 804703, 804713, 804836, 804908, 804966, 805044, 805063, 805074, 805137, 805148, 805223, 805343, 805344, 805409, 805442, 805494, 805529, 805811, 805827, 805872, 805956, 806056, 806093, 806117, 806122, 806249, 806352, 806414, 806416, 806429, 806437, 806489, 806669, 806759, 806859, 806895, 806920, 806955, 806982, 806998, 807019, 807059, 807061, 807078, 807080, 807082, 807231, 807299, 807301, 807391, 807444, 807556, 807569, 807636, 807702, 807747, 807799, 807803, 807861, 807900, 808084, 808151, 808197, 808248, 808255, 808272, 808280, 808303, 808335, 808381, 808390, 808587, 808619, 808682, 808689, 808715, 808752, 808822, 808919, 808979, 809053, 809055, 809079, 809139, 809140, 809215, 809225, 809228, 809253, 809356, 809404, 809467, 809477, 809557, 809642, 809937, 810064, 810071, 810152, 810176, 810216, 810301, 810317, 810319, 810327, 810349, 810505, 810534, 810659, 810676, 810678, 810685, 810696, 810718, 810936, 810987, 811043, 811066, 811084, 811177, 811179, 811225, 811227, 811236, 811326, 811371, 811485, 811563, 811573, 811669, 811679, 811734, 811738, 811767, 811771, 811843, 811886, 811903, 811917, 811924, 811960, 812004, 812067, 812107, 812141, 812204, 812225, 812242, 812496, 812588, 812589, 812666, 812694, 812704, 812708, 812723, 812740, 812750, 812771, 812797, 812818, 812849, 812877, 812883, 812936, 813033, 813042, 813170, 813208, 813209, 813221, 813268, 813376, 813406, 813412, 813451, 813498, 813524, 813612, 813678, 813781, 813810, 813891, 813933, 813965, 814039, 814093, 814107, 814145, 814197, 814464, 814467, 814616, 814634, 814692, 814700, 814720, 814798, 814804, 814822, 814957, 814997, 815019, 815118, 815146, 815276, 815278, 815301, 815304, 815322, 815383, 815389, 815427, 815464, 815537, 815565, 815579, 815743, 815888, 816055, 816104, 816117, 816150, 816273, 816383, 816419, 816455, 816456, 816463, 816480, 816523, 816549, 816610, 816626, 816632, 816671, 816698, 816710, 816818, 816888, 816905, 816926, 816965, 817061, 817087, 817095, 817106, 817169, 817223, 817224, 817230, 817300, 817305, 817433, 817441, 817481, 817487, 817520, 817598, 817632, 817782, 817787, 817994, 818061, 818192, 818214, 818282, 818298, 818323, 818328, 818489, 818492, 818545, 818605, 818641, 818697, 818749, 818778, 818789, 818822, 818826, 818844, 818923, 818924, 819020, 819026, 819099, 819102, 819169, 819200, 819260, 819268, 819288, 819290, 819383, 819422, 819546, 819579, 819591, 819595, 819684, 819770, 819913, 819927, 819950, 819984, 820057, 820113, 820246, 820300, 820367, 820370, 820382, 820427, 820441, 820475, 820482, 820490, 820518, 820592, 820600, 820616, 820665, 820741, 820758, 820845, 820943, 821189, 821259, 821267, 821283, 821300, 821307, 821375, 821387, 821418, 821469, 821490, 821499, 821580, 821684, 821692, 821746, 821783, 821981, 821995, 821998, 822005, 822115, 822154, 822260, 822267, 822268, 822271, 822278, 822408, 822440, 822453, 822456, 822481, 822533, 822581, 822638, 822725, 822819, 822849, 822905, 822934, 822938, 823143, 823283, 823311, 823357, 823427, 823452, 823562, 823589, 823723, 823756, 823759, 823773, 823844, 823860, 823863, 823895, 823918, 823935, 823991, 824036, 824041, 824100, 824182, 824195, 824277, 824377, 824453, 824463, 824480, 824503, 824530, 824531, 824642, 824645, 824648, 824740, 824799, 824806, 824826, 824908, 824946, 825002, 825021, 825024, 825034, 825072, 825077, 825137, 825147, 825269, 825360, 825448, 825508, 825516, 825591, 825631, 825634, 825711, 825783, 825805, 825807, 825954, 825958, 825961, 825963, 826063, 826117, 826148, 826182, 826209, 826229, 826243, 826248, 826278, 826281, 826315, 826336, 826343, 826371, 826404, 826406, 826414, 826510, 826569, 826618, 826667, 826744, 826769, 826811, 826851, 826911, 827008, 827054, 827207, 827321, 827325, 827389, 827449, 827511, 827532, 827562, 827580, 827863, 827893, 827914, 827953, 827972, 828222, 828228, 828242, 828248, 828327, 828342, 828357, 828381, 828382, 828427, 828436, 828440, 828444, 828504, 828598, 828635, 828675, 828716, 828793, 828798, 828808, 828832, 828834, 828874, 828967, 829025, 829241, 829303, 829344, 829425, 829455, 829469, 829531, 829571, 829758, 829771, 829790, 829848, 829892, 829927, 829940, 829943, 830054, 830124, 830338, 830367, 830466, 830507, 830549, 830550, 830797, 830875, 830917, 831010, 831011, 831021, 831041, 831065, 831097, 831165, 831229, 831244, 831274, 831293, 831326, 831344, 831431, 831559, 831717, 831776, 831800, 831848, 831878, 831901, 832042, 832087, 832154, 832168, 832192, 832269, 832277, 832315, 832331, 832363, 832377, 832382, 832398, 832448, 832494, 832534, 832625, 832737, 832763, 832796, 832873, 832961, 832978, 833055, 833063, 833122, 833210, 833370, 833618, 833746, 833828, 833845, 833864, 833921, 833965, 834015, 834049, 834054, 834212, 834233, 834261, 834265, 834378, 834565, 834683, 834694, 834743, 834747, 834785, 834801, 834831, 834844, 834922, 835040, 835127, 835147, 835216, 835270, 835274, 835313, 835367, 835368, 835378, 835433, 835454, 835456, 835603, 835623, 835647, 835658, 835671, 835699, 835740, 835915, 835939, 835958, 835959, 836040, 836185, 836224, 836235, 836241, 836244, 836296, 836299, 836335, 836343, 836357, 836415, 836538, 836545, 836590, 836603, 836707, 836759, 836804, 836852, 836883, 836909, 837027, 837059, 837103, 837217, 837248, 837318, 837323, 837331, 837342, 837351, 837355, 837403, 837414, 837443, 837445, 837446, 837476, 837506, 837521, 837558, 837592, 837597, 837605, 837612, 837626, 837635, 837684, 837696, 837736, 837741, 837797, 837853, 837865, 837921, 837953, 838014, 838077, 838102, 838109, 838175, 838261, 838340, 838363, 838455, 838503, 838540, 838586, 838620, 838646, 838694, 838695, 838731, 838767, 838850, 838854, 838878, 838973, 839034, 839166, 839207, 839244, 839271, 839277, 839291, 839420, 839463, 839476, 839528, 839610, 839656, 839706, 839729, 839777, 839796, 839831, 839834, 839978, 840001, 840016, 840019, 840023, 840126, 840167, 840327, 840342, 840425, 840460, 840481, 840539, 840612, 840664, 840686, 840721, 840748, 840785, 840819, 840947, 841001, 841062, 841063, 841132, 841206, 841209, 841215, 841275, 841292, 841296, 841418, 841422, 841463, 841482, 841565, 841573, 841584, 841612, 841637, 841644, 841707, 841761, 841790, 841824, 841842, 841849, 841943, 842050, 842057, 842072, 842155, 842223, 842229, 842237, 842275, 842303, 842321, 842351, 842438, 842469, 842590, 842757, 842805, 842817, 842882, 842908, 842927, 842968, 842992, 843000, 843099, 843110, 843116, 843124, 843126, 843141, 843238, 843256, 843281, 843387, 843462, 843465, 843493, 843502, 843564, 843644, 843723, 843731, 843750, 843874, 843962, 843971, 844058, 844081, 844084, 844103, 844118, 844127, 844355, 844356, 844632, 844641, 844649, 844658, 844735, 844772, 844819, 844832, 844873, 844880, 844980, 845106, 845209, 845236, 845288, 845291, 845312, 845395, 845497, 845582, 845609, 845611, 845628, 845686, 845855, 845868, 845885, 845899, 845925, 845936, 845937, 846106, 846110, 846178, 846261, 846265, 846336, 846389, 846417, 846508, 846545, 846582, 846633, 846711, 846739, 846808, 846892, 846893, 846897, 847136, 847138, 847183, 847225, 847235, 847271, 847500, 847527, 847530, 847532, 847534, 847535, 847577, 847593, 847635, 847660, 847774, 847783, 847816, 847845, 847883, 847910, 848033, 848164, 848240, 848259, 848307, 848338, 848401, 848405, 848440, 848447, 848547, 848589, 848624, 848664, 848970, 848975, 849004, 849010, 849011, 849217, 849265, 849304, 849330, 849471, 849528, 849618, 849619, 849622, 849669, 849702, 849737, 849790, 849873, 849890, 850095, 850138, 850264, 850272, 850277, 850413, 850443, 850475, 850476, 850483, 850638, 850648, 850659, 850706, 850726, 850819, 851005, 851020, 851042, 851109, 851179, 851198, 851261, 851271, 851305, 851342, 851496, 851553, 851568, 851650, 851664, 851697, 851702, 851751, 851778, 851788, 851823, 851834, 851876, 851886, 851949, 851983, 852030, 852087, 852184, 852252, 852259, 852269, 852331, 852401, 852423, 852564, 852598, 852636, 852641, 852659, 852712, 852715, 852757, 852786, 852791, 852793, 852866, 852952, 852966, 853002, 853027, 853124, 853161, 853200, 853355, 853381, 853408, 853460, 853503, 853507, 853519, 853559, 853580, 853584, 853607, 853678, 853688, 853719, 853761, 853783, 853883, 853885, 853957, 854000, 854045, 854141, 854149, 854289, 854350, 854368, 854373, 854413, 854465, 854524, 854568, 854622, 854708, 854713, 854714, 854731, 854737, 854756, 854762, 854920, 854944, 855017, 855046, 855116, 855160, 855176, 855186, 855191, 855218, 855225, 855228, 855251, 855391, 855399, 855406, 855409, 855424, 855429, 855494, 855613, 855632, 855666, 855706, 855762, 855767, 855787, 855816, 855827, 855848, 855851, 855870, 855910, 855936, 855987, 856010, 856111, 856119, 856266, 856271, 856301, 856323, 856334, 856379, 856464, 856505, 856513, 856532, 856555, 856633, 856703, 856761, 856779, 856802, 856811, 856819, 856952, 857062, 857119, 857126, 857162, 857175, 857246, 857252, 857266, 857278, 857302, 857311, 857324, 857358, 857381, 857386, 857404, 857417, 857431, 857466, 857504, 857585, 857606, 857626, 857678, 857682, 857684, 857703, 857879, 857894, 857921, 857928, 857965, 857989, 858243, 858257, 858327, 858332, 858376, 858467, 858474, 858490, 858491, 858565, 858585, 858620, 858693, 858714, 858803, 858811, 858837, 859041, 859135, 859203, 859263, 859319, 859398, 859441, 859459, 859534, 859559, 859600, 859697, 859760, 859778, 859822, 859843, 859855, 860022, 860099, 860176, 860194, 860213, 860289, 860299, 860310, 860331, 860377, 860390, 860443, 860550, 860557, 860582, 860603, 860683, 860727, 860729, 860768, 860787, 860842, 860858, 860919, 861045, 861076, 861129, 861174, 861176, 861203, 861205, 861247, 861298, 861401, 861410, 861454, 861469, 861477, 861495, 861548, 861625, 861658, 861661, 861695, 861742, 861756, 861770, 861796, 861798, 861839, 861983, 862015, 862019, 862062, 862088, 862111, 862171, 862274, 862294, 862424, 862472, 862552, 862611, 862613, 862634, 862842, 862867, 862873, 862924, 862948, 863069, 863133, 863353, 863377, 863444, 863493, 863610, 863654, 863773, 863792, 863827, 863848, 863856, 863990, 864028, 864070, 864107, 864148, 864184, 864211, 864212, 864287, 864395, 864522, 864534, 864556, 864633, 864650, 864655, 864708, 864727, 864738, 864756, 864760, 864761, 864794, 864825, 864873, 864928, 865101, 865245, 865255, 865457, 865558, 865561, 865597, 865857, 865965, 866089, 866110, 866126, 866174, 866199, 866226, 866270, 866271, 866314, 866325, 866339, 866375, 866380, 866586, 866888, 866939, 866952, 866973, 866996, 867004, 867020, 867088, 867107, 867187, 867200, 867234, 867236, 867243, 867287, 867363, 867423, 867473, 867489, 867513, 867540, 867567, 867644, 867674, 867700, 867763, 867790, 867846, 867999, 868128, 868260, 868277, 868352, 868420, 868431, 868564, 868756, 868954, 868987, 869020, 869026, 869075, 869089, 869136, 869176, 869183, 869198, 869245, 869252, 869397, 869471, 869483, 869490, 869516, 869551, 869568, 869673, 869780, 869784, 869925, 869928, 870076, 870131, 870223, 870225, 870343, 870366, 870411, 870430, 870461, 870511, 870540, 870618, 870711, 870727, 870735, 870757, 870792, 870799, 870808, 870974, 871002, 871017, 871079, 871313, 871378, 871382, 871444, 871605, 871652, 871657, 871756, 871823, 871831, 871938, 872021, 872104, 872242, 872375, 872414, 872421, 872529, 872531, 872620, 872623, 872695, 872725, 872727, 872740, 872774, 872997, 873005, 873042, 873044, 873118, 873249, 873288, 873293, 873303, 873340, 873402, 873449, 873478, 873492, 873576, 873805, 873854, 873957, 874008, 874039, 874041, 874073, 874132, 874170, 874246, 874247, 874404, 874462, 874495, 874523, 874554, 874602, 874603, 874668, 874673, 874708, 874750, 874753, 874873, 874920, 875058, 875145, 875146, 875189, 875236, 875256, 875266, 875366, 875406, 875530, 875555, 875592, 875649, 875723, 875742, 875793, 875826, 875897, 875958, 875965, 876117, 876129, 876130, 876133, 876185, 876221, 876227, 876239, 876299, 876317, 876353, 876416, 876464, 876469, 876493, 876506, 876520, 876532, 876758, 876776, 876805, 876881, 876908, 876916, 876921, 876928, 877044, 877106, 877125, 877255, 877258, 877272, 877273, 877292, 877344, 877382, 877408, 877412, 877470, 877481, 877490, 877491, 877496, 877532, 877595, 877608, 877632, 877729, 877753, 877820, 877854, 877867, 878037, 878154, 878184, 878239, 878317, 878320, 878366, 878382, 878541, 878585, 878643, 878684, 878689, 878708, 878942, 878948, 878956, 879010, 879024, 879049, 879185, 879203, 879428, 879453, 879546, 879658, 879691, 879717, 879784, 879803, 879855, 879867, 879888, 879909, 880005, 880050, 880083, 880117, 880131, 880178, 880266, 880327, 880352, 880388, 880397, 880425, 880438, 880446, 880453, 880511, 880517, 880524, 880529, 880541, 880701, 880715, 880796, 880854, 880877, 880935, 881111, 881139, 881286, 881352, 881493, 881520, 881521, 881646, 881677, 881836, 881838, 881871, 881934, 881940, 881991, 882001, 882008, 882097, 882126, 882193, 882197, 882283, 882381, 882460, 882463, 882507, 882517, 882531, 882542, 882629, 882676, 882815, 882831, 882881, 882959, 882968, 882975, 882978, 882993, 883001, 883009, 883017, 883073, 883163, 883209, 883346, 883354, 883519, 883683, 883711, 883720, 883758, 883773, 883788, 883844, 883862, 883896, 883959, 884037, 884055, 884066, 884134, 884145, 884153, 884215, 884244, 884251, 884271, 884328, 884502, 884516, 884589, 884632, 884660, 884683, 884695, 884761, 884777, 884842, 884846, 884855, 884925, 884966, 884974, 884993, 885015, 885016, 885067, 885199, 885262, 885280, 885286, 885359, 885372, 885437, 885659, 885682, 885694, 885719, 885728, 885743, 885765, 885853, 885874, 885928, 885949, 885958, 886058, 886118, 886123, 886210, 886250, 886282, 886338, 886355, 886376, 886390, 886392, 886436, 886530, 886558, 886595, 886648, 886714, 886750, 886751, 886762, 886770, 886838, 886847, 886919, 886942, 887053, 887124, 887164, 887169, 887202, 887206, 887241, 887242, 887261, 887284, 887292, 887301, 887320, 887349, 887419, 887511, 887514, 887518, 887522, 887529, 887530, 887542, 887554, 887628, 887666, 887678, 887719, 887814, 887844, 887889, 887915, 887926, 887932, 887990, 888004, 888077, 888112, 888211, 888276, 888281, 888296, 888332, 888370, 888431, 888473, 888486, 888553, 888554, 888573, 888600, 888770, 888828, 888841, 888915, 888928, 888931, 888940, 888949, 888975, 888979, 889126, 889131, 889195, 889204, 889222, 889275, 889284, 889337, 889413, 889421, 889465, 889471, 889572, 889584, 889605, 889610, 889626, 889651, 889671, 889686, 889747, 889847, 889888, 889900, 890023, 890087, 890122, 890140, 890179, 890188, 890203, 890245, 890377, 890379, 890420, 890446, 890467, 890568, 890651, 890686, 890864, 890949, 890995, 890998, 891101, 891286, 891297, 891354, 891370, 891460, 891475, 891523, 891555, 891607, 891608, 891619, 891620, 891648, 891740, 891766, 891806, 891807, 891893, 891896, 891899, 891945, 892000, 892023, 892145, 892160, 892163, 892324, 892330, 892404, 892513, 892535, 892537, 892558, 892575, 892633, 892761, 892779, 892848, 892871, 892872, 892873, 893037, 893182, 893302, 893352, 893395, 893411, 893431, 893451, 893467, 893551, 893592, 893643, 893654, 893656, 893744, 893758, 893769, 893799, 893827, 893923, 893988, 894020, 894123, 894134, 894246, 894293, 894300, 894360, 894387, 894452, 894481, 894578, 894581, 894631, 894671, 894818, 894834, 894877, 894938, 894944, 895055, 895103, 895122, 895146, 895219, 895285, 895308, 895322, 895647, 895694, 895744, 895827, 895831, 895880, 895895, 895975, 896084, 896087, 896097, 896101, 896142, 896241, 896367, 896464, 896512, 896521, 896545, 896567, 896621, 896635, 896678, 896721, 896777, 896778, 896795, 897199, 897226, 897230, 897408, 897419, 897426, 897513, 897528, 897605, 897611, 897647, 897703, 897708, 897742, 897745, 897829, 897837, 897951, 897958, 897977, 898038, 898079, 898096, 898257, 898376, 898387, 898443, 898525, 898529, 898541, 898569, 898634, 898669, 898706, 898723, 898835, 898836, 898858, 898902, 899002, 899050, 899065, 899094, 899344, 899349, 899399, 899442, 899505, 899510, 899524, 899546, 899855, 899930, 899991, 900208, 900273, 900294, 900379, 900406, 900434, 900491, 900495, 900514, 900549, 900558, 900604, 900608, 900647, 900699, 900739, 900883, 900896, 900920, 900968, 900995, 901120, 901143, 901144, 901188, 901213, 901277, 901329, 901336, 901367, 901531, 901569, 901573, 901636, 901701, 901717, 901739, 901817, 901830, 901923, 901972, 901978, 902039, 902126, 902137, 902226, 902259, 902272, 902283, 902409, 902411, 902477, 902488, 902496, 902524, 902636, 902810, 902832, 902843, 902876, 902936, 903058, 903103, 903118, 903303, 903349, 903355, 903465, 903474, 903523, 903528, 903633, 903641, 903691, 903756, 903772, 903793, 903872, 903891, 903901, 903944, 904034, 904075, 904114, 904194, 904215, 904294, 904335, 904616, 904632, 904688, 904694, 904722, 904762, 904809, 904843, 904889, 904913, 904915, 904917, 904936, 904941, 904956, 904979, 905009, 905031, 905072, 905090, 905094, 905150, 905172, 905189, 905279, 905280, 905330, 905490, 905493, 905545, 905596, 905616, 905618, 905659, 905677, 905702, 905770, 905806, 905841, 905899, 905950, 905993, 906058, 906153, 906189, 906240, 906315, 906597, 906686, 906747, 906788, 906799, 906875, 906883, 906896, 906910, 906932, 906958, 906975, 907014, 907086, 907093, 907129, 907239, 907320, 907344, 907347, 907501, 907505, 907514, 907517, 907567, 907627, 907693, 907747, 907803, 907817, 907845, 907859, 907883, 907898, 908007, 908024, 908213, 908246, 908386, 908389, 908414, 908435, 908500, 908575, 908579, 908613, 908616, 908635, 908657, 908704, 908750, 908810, 908840, 908874, 908900, 908934, 908961, 908982, 909059, 909114, 909140, 909187, 909320, 909420, 909434, 909449, 909464, 909484, 909689, 909769, 909850, 909941, 909978, 910034, 910052, 910134, 910194, 910221, 910319, 910370, 910539, 910542, 910568, 910570, 910678, 910712, 910725, 910730, 910800, 910852, 910934, 910949, 910954, 910962, 911041, 911098, 911124, 911164, 911177, 911288, 911358, 911381, 911393, 911554, 911564, 911594, 911687, 911760, 911847, 912031, 912115, 912123, 912142, 912283, 912291, 912385, 912411, 912457, 912493, 912546, 912682, 912708, 912738, 912796, 913007, 913104, 913122, 913215, 913218, 913380, 913385, 913422, 913426, 913465, 913526, 913587, 913597, 913613, 913627, 913686, 913723, 913754, 913757, 913875, 913936, 913947, 914010, 914098, 914123, 914136, 914242, 914261, 914355, 914451, 914537, 914636, 914639, 914643, 914663, 914666, 914681, 914700, 914713, 914732, 914750, 914839, 914877, 914895, 914898, 914948, 915021, 915062, 915125, 915135, 915177, 915182, 915188, 915201, 915216, 915271, 915336, 915377, 915384, 915482, 915507, 915510, 915581, 915591, 915602, 915702, 915802, 915842, 915950, 916186, 916190, 916204, 916266, 916347, 916545, 916619, 916693, 916756, 916791, 916891, 916950, 917014, 917077, 917086, 917128, 917160, 917168, 917182, 917404, 917461, 917465, 917587, 917601, 917610, 917639, 917656, 917721, 917819, 917855, 917900, 917960, 918012, 918022, 918024, 918045, 918066, 918094, 918095, 918221, 918288, 918294, 918297, 918324, 918545, 918549, 918592, 918603, 918740, 918753, 918801, 918895, 918957, 919000, 919029, 919030, 919044, 919147, 919159, 919186, 919198, 919306, 919322, 919395, 919417, 919466, 919479, 919592, 919743, 919763, 919948, 919969, 920002, 920020, 920158, 920159, 920163, 920170, 920174, 920220, 920296, 920297, 920339, 920347, 920359, 920455, 920500, 920560, 920578, 920672, 920714, 920719, 920744, 920892, 920899, 920977, 920993, 920999, 921046, 921074, 921169, 921234, 921271, 921313, 921346, 921381, 921561, 921656, 921687, 921746, 921799, 921829, 921872, 921907, 921913, 921924, 922003, 922083, 922088, 922104, 922121, 922218, 922281, 922372, 922376, 922398, 922437, 922440, 922485, 922500, 922503, 922528, 922566, 922568, 922601, 922705, 922708, 922732, 922778, 922814, 922822, 922828, 922833, 922938, 922997, 923025, 923038, 923063, 923184, 923189, 923251, 923420, 923429, 923469, 923522, 923563, 923583, 923599, 923678, 923680, 923730, 923742, 923769, 923851, 923866, 923948, 923973, 924054, 924065, 924071, 924072, 924095, 924158, 924189, 924207, 924424, 924478, 924488, 924666, 924837, 924869, 924943, 925000, 925008, 925062, 925068, 925086, 925170, 925182, 925223, 925233, 925297, 925361, 925386, 925416, 925417, 925432, 925621, 925647, 925709, 925736, 925830, 925852, 925901, 925950, 925963, 926123, 926228, 926242, 926301, 926399, 926405, 926416, 926609, 926633, 926642, 926815, 926856, 926898, 926920, 926946, 927077, 927087, 927115, 927194, 927196, 927304, 927342, 927455, 927543, 927567, 927605, 927660, 927664, 927718, 927741, 927765, 927786, 927876, 927946, 927952, 927958, 927963, 928011, 928045, 928064, 928072, 928077, 928157, 928187, 928216, 928232, 928264, 928333, 928344, 928418, 928443, 928508, 928553, 928629, 928634, 928656, 928763, 928990, 929001, 929006, 929165, 929181, 929186, 929221, 929237, 929405, 929453, 929523, 929574, 929575, 929613, 929622, 929627, 929644, 929683, 929742, 929743, 929775, 929801, 929814, 929845, 930005, 930044, 930048, 930064, 930070, 930074, 930120, 930184, 930191, 930304, 930325, 930527, 930597, 930624, 930729, 930817, 930823, 930832, 930890, 930922, 930959, 931112, 931182, 931260, 931340, 931369, 931384, 931446, 931462, 931512, 931517, 931542, 931549, 931619, 931632, 931655, 931754, 931811, 931975, 932022, 932046, 932089, 932321, 932344, 932444, 932517, 932524, 932567, 932615, 932619, 932714, 932726, 932792, 932847, 933000, 933022, 933028, 933079, 933112, 933116, 933242, 933265, 933280, 933367, 933372, 933419, 933436, 933444, 933530, 933576, 933636, 933658, 933686, 933702, 933709, 933719, 933778, 933819, 933914, 933920, 934097, 934175, 934228, 934235, 934247, 934371, 934396, 934415, 934432, 934479, 934510, 934511, 934520, 934549, 934566, 934572, 934594, 934629, 934631, 934642, 934685, 934717, 934821, 934911, 934945, 934971, 935016, 935094, 935148, 935216, 935263, 935286, 935333, 935334, 935425, 935521, 935530, 935684, 935730, 935750, 935760, 935830, 935861, 935888, 935907, 935948, 935958, 935968, 935975, 935993, 935996, 936021, 936025, 936028, 936074, 936300, 936369, 936488, 936504, 936553, 936604, 936655, 936673, 936716, 936895, 936901, 937019, 937035, 937050, 937207, 937220, 937222, 937225, 937268, 937274, 937292, 937348, 937358, 937401, 937448, 937493, 937495, 937509, 937534, 937648, 937749, 937825, 937909, 937993, 938007, 938014, 938027, 938152, 938191, 938223, 938236, 938258, 938374, 938385, 938394, 938416, 938480, 938490, 938579, 938646, 938669, 938695, 938700, 938736, 938786, 938829, 938888, 938933, 938959, 938997, 939006, 939021, 939040, 939157, 939158, 939242, 939342, 939379, 939472, 939533, 939584, 939712, 939731, 939780, 939805, 939844, 939867, 939884, 939953, 939990, 939997, 940118, 940159, 940217, 940234, 940240, 940267, 940313, 940375, 940557, 940576, 940606, 940828, 940893, 941031, 941082, 941084, 941115, 941187, 941208, 941268, 941276, 941317, 941460, 941534, 941616, 941629, 941693, 941706, 941849, 941851, 941852, 941872, 941935, 941956, 941960, 941968, 942042, 942131, 942224, 942235, 942323, 942362, 942367, 942372, 942462, 942478, 942532, 942589, 942696, 942701, 942778, 942781, 942863, 942911, 943046, 943051, 943071, 943146, 943199, 943245, 943266, 943355, 943357, 943446, 943485, 943490, 943586, 943662, 943695, 943749, 943798, 943808, 943817, 943824, 943859, 943870, 943891, 944131, 944172, 944295, 944313, 944365, 944421, 944474, 944558, 944620, 944650, 944757, 944778, 944872, 944895, 944916, 944950, 944993, 945014, 945016, 945022, 945116, 945172, 945373, 945396, 945420, 945477, 945520, 945588, 945800, 945942, 945949, 946093, 946154, 946205, 946282, 946377, 946393, 946432, 946567, 946581, 946621, 946646, 946653, 946668, 946671, 946686, 946695, 946696, 946702, 946920, 946970, 946991, 947016, 947041, 947063, 947107, 947154, 947166, 947174, 947206, 947454, 947471, 947504, 947559, 947644, 947746, 947762, 947811, 947903, 947929, 947991, 948018, 948024, 948071, 948179, 948282, 948346, 948398, 948448, 948514, 948535, 948581, 948629, 948643, 948650, 948874, 948909, 948959, 948966, 949025, 949049, 949050, 949058, 949091, 949155, 949274, 949279, 949300, 949376, 949479, 949521, 949644, 949743, 949755, 949805, 949853, 949862, 949904, 949990, 950020, 950201, 950234, 950282, 950341, 950534, 950566, 950607, 950718, 950742, 950790, 950846, 950881, 950992, 951015, 951036, 951039, 951122, 951247, 951283, 951355, 951373, 951513, 951519, 951559, 951604, 951758, 951801, 951805, 951834, 951851, 951893, 951895, 951915, 951923, 951931, 951939, 951948, 951981, 951985, 952040, 952062, 952074, 952087, 952091, 952330, 952394, 952524, 952538, 952601, 952606, 952647, 952712, 952742, 952771, 952835, 952851, 952857, 953123, 953190, 953241, 953256, 953295, 953308, 953311, 953342, 953391, 953413, 953449, 953487, 953495, 953536, 953582, 953584, 953598, 953723, 953751, 953754, 953827, 953882, 953930, 953954, 954180, 954196, 954317, 954382, 954419, 954516, 954579, 954648, 954655, 954720, 954788, 954792, 954816, 954848, 954854, 954858, 954894, 954951, 954986, 955018, 955082, 955091, 955177, 955323, 955342, 955374, 955403, 955520, 955873, 955911, 955976, 956018, 956057, 956172, 956210, 956236, 956551, 956553, 956575, 956606, 956618, 956644, 956699, 956717, 956875, 957043, 957062, 957136, 957162, 957182, 957296, 957320, 957339, 957358, 957374, 957466, 957472, 957481, 957522, 957529, 957607, 957608, 957640, 957649, 957899, 957922, 957985, 958021, 958053, 958082, 958090, 958130, 958196, 958223, 958279, 958307, 958312, 958341, 958466, 958545, 958630, 958747, 958755, 958926, 958974, 958984, 959025, 959119, 959158, 959190, 959203, 959208, 959222, 959246, 959389, 959424, 959438, 959548, 959569, 959585, 959632, 959653, 959669, 959676, 959697, 959709, 959772, 959813, 959849, 959907, 959942, 959950, 959996, 959997, 960005, 960008, 960014, 960015, 960058, 960086, 960120, 960192, 960199, 960240, 960292, 960509, 960592, 960682, 960692, 960741, 960742, 960753, 960763, 960780, 960792, 960835, 960838, 960967, 960970, 961134, 961264, 961291, 961418, 961481, 961487, 961516, 961531, 961539, 961684, 961695, 961747, 961764, 961787, 961806, 962041, 962061, 962099, 962189, 962190, 962356, 962378, 962433, 962529, 962684, 962774, 962810, 962834, 962854, 962916, 962948, 962970, 962985, 963003, 963024, 963110, 963191, 963311, 963438, 963460, 963478, 963590, 963626, 963640, 963707, 963714, 963730, 963759, 963764, 963797, 963915, 963934, 963936, 963957, 963966, 964013, 964201, 964214, 964222, 964307, 964335, 964342, 964441, 964488, 964552, 964554, 964561, 964595, 964800, 964856, 964929, 965138, 965153, 965168, 965310, 965410, 965447, 965482, 965561, 965613, 965634, 965649, 965668, 965688, 965703, 965792, 965813, 965895, 965956, 966095, 966112, 966147, 966288, 966301, 966323, 966421, 966494, 966499, 966514, 966539, 966555, 966561, 966601, 966640, 966658, 966662, 966703, 966704, 966712, 966768, 966879, 966928, 966935, 966944, 966997, 967022, 967073, 967117, 967125, 967292, 967327, 967432, 967452, 967486, 967491, 967574, 967821, 967863, 967896, 968057, 968061, 968065, 968115, 968181, 968183, 968361, 968364, 968365, 968371, 968484, 968504, 968563, 968584, 968609, 968612, 968730, 968734, 968764, 968778, 968802, 968830, 968833, 968859, 968885, 968950, 968963, 969004, 969012, 969038, 969044, 969099, 969185, 969239, 969316, 969320, 969323, 969398, 969409, 969416, 969427, 969434, 969487, 969510, 969542, 969591, 969600, 969639, 969641, 969684, 969697, 969717, 969792, 969820, 969829, 969909, 969943, 969970, 969990, 969991, 970088, 970157, 970266, 970284, 970417, 970595, 970600, 970611, 970614, 970639, 970663, 970668, 970694, 970726, 970762, 970776, 970785, 970836, 970837, 970847, 970895, 970901, 970975, 971016, 971054, 971089, 971132, 971133, 971138, 971210, 971252, 971354, 971449, 971496, 971515, 971595, 971606, 971715, 971827, 971906, 971968, 971989, 972073, 972085, 972090, 972124, 972139, 972180, 972196, 972207, 972219, 972241, 972243, 972324, 972347, 972365, 972366, 972414, 972571, 972607, 972625, 972780, 972791, 972795, 972862, 972890, 972907, 972920, 973061, 973116, 973262, 973313, 973334, 973411, 973453, 973530, 973547, 973623, 973649, 973667, 973716, 973719, 973797, 973812, 973879, 974014, 974104, 974133, 974157, 974170, 974185, 974191, 974195, 974227, 974263, 974265, 974318, 974348, 974399, 974440, 974477, 974623, 974639, 974644, 974651, 974669, 974670, 974689, 974703, 974775, 974850, 974900, 974905, 974920, 974927, 975025, 975088, 975096, 975129, 975172, 975197, 975207, 975231, 975266, 975308, 975309, 975318, 975371, 975421, 975571, 975601, 975623, 975625, 975681, 975791, 975824, 975837, 975840, 975881, 975893, 975924, 975944, 976004, 976052, 976095, 976134, 976172, 976177, 976291, 976316, 976335, 976367, 976408, 976467, 976488, 976511, 976535, 976574, 976628, 976823, 976863, 976923, 976935, 976992, 977011, 977035, 977094, 977111, 977173, 977197, 977250, 977256, 977360, 977422, 977455, 977500, 977503, 977519, 977556, 977580, 977668, 977693, 977757, 977764, 977783, 977808, 977868, 977902, 977931, 978040, 978060, 978135, 978212, 978308, 978324, 978461, 978502, 978558, 978627, 978647, 978685, 978706, 978731, 978772, 978908, 978911, 978925, 978988, 978989, 979012, 979022, 979038, 979134, 979199, 979221, 979265, 979297, 979319, 979332, 979452, 979560, 979790, 979806, 979877, 979884, 979956, 980008, 980042, 980048, 980050, 980057, 980078, 980125, 980199, 980203, 980270, 980293, 980315, 980346, 980362, 980470, 980496, 980509, 980528, 980551, 980578, 980673, 980706, 980723, 980751, 980806, 980859, 980932, 980939, 980990, 981097, 981122, 981148, 981153, 981202, 981209, 981211, 981278, 981302, 981335, 981427, 981487, 981600, 981609, 981931, 981940, 981975, 982100, 982158, 982191, 982192, 982231, 982289, 982344, 982423, 982434, 982485, 982531, 982581, 982653, 982675, 982740, 982756, 982887, 982938, 983011, 983082, 983100, 983132, 983143, 983198, 983199, 983209, 983268, 983294, 983319, 983321, 983329, 983474, 983480, 983481, 983490, 983491, 983623, 983667, 983786, 983791, 983793, 983863, 984047, 984072, 984146, 984241, 984276, 984344, 984362, 984442, 984459, 984522, 984524, 984536, 984708, 984716, 984813, 984929, 984970, 984989, 985047, 985069, 985131, 985134, 985231, 985234, 985235, 985251, 985275, 985384, 985398, 985461, 985473, 985487, 985549, 985551, 985582, 985585, 985727, 985760, 985851, 985874, 985888, 985923, 985941, 985994, 986093, 986164, 986167, 986186, 986294, 986465, 986473, 986504, 986587, 986590, 986616, 986758, 986875, 986977, 987035, 987042, 987108, 987117, 987121, 987167, 987177, 987261, 987309, 987337, 987426, 987459, 987505, 987551, 987561, 987565, 987685, 987749, 987846, 987927, 987976, 988014, 988162, 988414, 988605, 988613, 988675, 988744, 988756, 988783, 988806, 988819, 988822, 988899, 988904, 989095, 989193, 989212, 989226, 989315, 989320, 989399, 989459, 989493, 989516, 989617, 989643, 989659, 989820, 989822, 989896, 989928, 990007, 990026, 990028, 990115, 990164, 990171, 990186, 990194, 990256, 990272, 990280, 990293, 990324, 990334, 990390, 990732, 990839, 990912, 990941, 991046, 991091, 991111, 991122, 991170, 991245, 991307, 991464, 991522, 991548, 991604, 991623, 991709, 991796, 992059, 992283, 992288, 992303, 992455, 992461, 992506, 992513, 992525, 992584, 992598, 992673, 992730, 992820, 992838, 992869, 992881, 992934, 993003, 993086, 993120, 993124, 993212, 993265, 993331, 993421, 993544, 993598, 993645, 993758, 993765, 993812, 993852, 993914, 993923, 993926, 993998, 994015, 994223, 994230, 994283, 994286, 994326, 994439, 994478, 994485, 994517, 994553, 994568, 994607, 994682, 994695, 994804, 994834, 994908, 994914, 994996, 995062, 995091, 995261, 995266, 995278, 995321, 995422, 995628, 995629, 995654, 995665, 995701, 995721, 995735, 995747, 995772, 995838, 995877, 995885, 996021, 996027, 996052, 996118, 996155, 996247, 996379, 996398, 996433, 996460, 996530, 996532, 996609, 996656, 996694, 996732, 996737, 996752, 996777, 996798, 996945, 996948, 996955, 996967, 996972, 997010, 997153, 997155, 997180, 997205, 997271, 997382, 997431, 997437, 997563, 997646, 997651, 997658, 997708, 997846, 997951, 997991, 998036, 998080, 998127, 998148, 998204, 998298, 998373, 998430, 998442, 998446, 998494, 998576, 998616, 998645, 998784, 998837, 998844, 998846, 998876, 998902, 998933, 998982, 998991, 999044, 999135, 999141, 999157, 999187, 999199, 999223, 999253, 999366, 999368, 999478, 999531, 999550, 999594, 999652, 999665, 999672, 999701, 999707, 999776, 999837, 999871, 999921, 999925, 1000002, 1000017, 1000043, 1000061, 1000092, 1000146, 1000392, 1000451, 1000481, 1000516, 1000550, 1000616, 1000678, 1000699, 1000740, 1000860, 1000862, 1000886, 1000934, 1000979, 1001000, 1001147, 1001195, 1001271, 1001303, 1001343, 1001375, 1001406, 1001499, 1001525, 1001549, 1001691, 1001698, 1001723, 1001735, 1001783, 1001802, 1001943, 1001994, 1002006, 1002090, 1002099, 1002118, 1002149, 1002378, 1002413, 1002460, 1002476, 1002577, 1002709, 1002860, 1002874, 1002877, 1002925, 1002933, 1002956, 1003006, 1003027, 1003135, 1003177, 1003178, 1003207, 1003239, 1003258, 1003395, 1003449, 1003479, 1003482, 1003488, 1003508, 1003649, 1003650, 1003654, 1003672, 1003703, 1003708, 1003821, 1003835, 1003880, 1003881, 1003892, 1003923, 1003990, 1004010, 1004055, 1004080, 1004082, 1004098, 1004179, 1004211, 1004232, 1004235, 1004266, 1004292, 1004332, 1004467, 1004469, 1004488, 1004575, 1004674, 1004748, 1004861, 1004930, 1004957, 1004994, 1005003, 1005052, 1005072, 1005087, 1005116, 1005139, 1005146, 1005203, 1005353, 1005381, 1005546, 1005642, 1005692, 1005695, 1005700, 1005707, 1005779, 1005820, 1005882, 1005908, 1005924, 1005958, 1005971, 1005994, 1006041, 1006044, 1006111, 1006139, 1006185, 1006188, 1006198, 1006218, 1006253, 1006305, 1006317, 1006453, 1006504, 1006546, 1006583, 1006688, 1006721, 1006792, 1006808, 1006837, 1006869, 1006889, 1006890, 1006909, 1007008, 1007023, 1007028, 1007035, 1007064, 1007133, 1007139, 1007198, 1007383, 1007391, 1007393, 1007395, 1007410, 1007417, 1007459, 1007460, 1007548, 1007553, 1007660, 1007672, 1007712, 1007753, 1007769, 1007824, 1007871, 1007888, 1007927, 1008008, 1008056, 1008109, 1008165, 1008222, 1008270, 1008284, 1008296, 1008460, 1008494, 1008624, 1008656, 1008709, 1008765, 1008806, 1008912, 1009055, 1009059, 1009084, 1009195, 1009201, 1009219, 1009245, 1009250, 1009285, 1009365, 1009427, 1009431, 1009444, 1009548, 1009573, 1009617, 1009618, 1009656, 1009660, 1009730, 1009750, 1009779, 1009786, 1009798, 1009811, 1009928, 1009990, 1010005, 1010018, 1010087, 1010117, 1010140, 1010242, 1010306, 1010335, 1010409, 1010535, 1010579, 1010589, 1010611, 1010659, 1010667, 1010683, 1010685, 1010722, 1010730, 1010743, 1010823, 1010911, 1011058, 1011181, 1011207, 1011285, 1011295, 1011297, 1011316, 1011322, 1011350, 1011363, 1011546, 1011602, 1011619, 1011628, 1011643, 1011774, 1011815, 1011830, 1011887, 1011902, 1011937, 1011967, 1011998, 1012005, 1012051, 1012155, 1012206, 1012215, 1012287, 1012339, 1012373, 1012395, 1012438, 1012444, 1012446, 1012455, 1012567, 1012666, 1012732, 1012794, 1012804, 1012821, 1012873, 1012883, 1012932, 1013025, 1013085, 1013122, 1013249, 1013250, 1013280, 1013335, 1013357, 1013400, 1013437, 1013522, 1013525, 1013533, 1013581, 1013606, 1013611, 1013691, 1013699, 1013700, 1013761, 1013804, 1013817, 1013860, 1013878, 1014002, 1014021, 1014110, 1014149, 1014155, 1014200, 1014244, 1014338, 1014432, 1014550, 1014585, 1014591, 1014597, 1014665, 1014696, 1014717, 1014804, 1014970, 1014972, 1014999, 1015043, 1015099, 1015226, 1015235, 1015273, 1015289, 1015304, 1015366, 1015376, 1015382, 1015410, 1015412, 1015428, 1015464, 1015481, 1015494, 1015530, 1015540, 1015545, 1015650, 1015660, 1015707, 1015716, 1015737, 1015765, 1015801, 1015818, 1015875, 1015919, 1016027, 1016065, 1016110, 1016126, 1016140, 1016164, 1016228, 1016259, 1016271, 1016292, 1016298, 1016413, 1016425, 1016488, 1016555, 1016565, 1016586, 1016687, 1016724, 1016731, 1016741, 1016766, 1016811, 1016830, 1016872, 1017026, 1017035, 1017059, 1017061, 1017110, 1017127, 1017131, 1017148, 1017151, 1017182, 1017233, 1017295, 1017318, 1017355, 1017376, 1017415, 1017459, 1017480, 1017484, 1017591, 1017595, 1017609, 1017621, 1017683, 1017732, 1017762, 1017834, 1017850, 1017880, 1017928, 1017952, 1018045, 1018067, 1018127, 1018146, 1018224, 1018227, 1018231, 1018307, 1018313, 1018333, 1018338, 1018343, 1018370, 1018379, 1018397, 1018450, 1018460, 1018518, 1018555, 1018637, 1018645, 1018649, 1018696, 1018890, 1018892, 1018902, 1018992, 1019013, 1019097, 1019116, 1019138, 1019199, 1019245, 1019285, 1019391, 1019410, 1019452, 1019517, 1019526, 1019535, 1019566, 1019573, 1019736, 1019756, 1019775, 1019855, 1019873, 1019900, 1019948, 1020002, 1020038, 1020087, 1020182, 1020214, 1020225, 1020270, 1020273, 1020297, 1020325, 1020431, 1020462, 1020528, 1020641, 1020671, 1020687, 1020690, 1020696, 1020854, 1020894, 1020965, 1021010, 1021064, 1021083, 1021110, 1021186, 1021189, 1021194, 1021258, 1021438, 1021465, 1021502, 1021619, 1021714, 1021738, 1021751, 1021758, 1021764, 1021925, 1021988, 1022001, 1022011, 1022066, 1022088, 1022137, 1022329, 1022400, 1022566, 1022572, 1022634, 1022637, 1022640, 1022675, 1022739, 1022748, 1022766, 1022837, 1022904, 1022943, 1023053, 1023089, 1023113, 1023139, 1023193, 1023207, 1023209, 1023231, 1023477, 1023510, 1023551, 1023581, 1023602, 1023612, 1023655, 1023680, 1023694, 1023793, 1023865, 1023927, 1023928, 1023939, 1023969, 1024026, 1024038, 1024047, 1024089, 1024093, 1024163, 1024262, 1024284, 1024305, 1024415, 1024424, 1024495, 1024502, 1024537, 1024551, 1024576, 1024578, 1024618, 1024690, 1024705, 1024706, 1024787, 1024879, 1024918, 1024955, 1025013, 1025102, 1025187, 1025204, 1025206, 1025337, 1025347, 1025446, 1025502, 1025540, 1025541, 1025554, 1025610, 1025612, 1025632, 1025638, 1025707, 1025795, 1025806, 1025901, 1025916, 1025941, 1025982, 1026057, 1026076, 1026134, 1026143, 1026187, 1026224, 1026235, 1026267, 1026377, 1026439, 1026441, 1026482, 1026526, 1026532, 1026535, 1026561, 1026685, 1026687, 1026735, 1026825, 1026870, 1026874, 1026905, 1027073, 1027112, 1027290, 1027335, 1027363, 1027482, 1027522, 1027550, 1027575, 1027593, 1027596, 1027686, 1027735, 1027794, 1027856, 1027978, 1028002, 1028235, 1028240, 1028271, 1028272, 1028429, 1028448, 1028475, 1028484, 1028500, 1028575, 1028616, 1028696, 1028858, 1028867, 1028966, 1029035, 1029063, 1029076, 1029095, 1029121, 1029122, 1029250, 1029310, 1029386, 1029398, 1029403, 1029427, 1029455, 1029471, 1029653, 1029685, 1029753, 1029837, 1029883, 1029969, 1030009, 1030016, 1030031, 1030062, 1030072, 1030159, 1030214, 1030224, 1030232, 1030389, 1030406, 1030410, 1030437, 1030449, 1030479, 1030533, 1030539, 1030583, 1030608, 1030627, 1030633, 1030637, 1030700, 1030706, 1030727, 1030731, 1030743, 1030764, 1030770, 1030793, 1030824, 1030826, 1030860, 1030922, 1030939, 1030996, 1031009, 1031013, 1031053, 1031101, 1031127, 1031186, 1031206, 1031243, 1031274, 1031393, 1031399, 1031456, 1031505, 1031550, 1031709, 1031802, 1031815, 1031830, 1031864, 1031874, 1031912, 1031919, 1032078, 1032095, 1032256, 1032328, 1032408, 1032480, 1032493, 1032497, 1032592, 1032629, 1032717, 1032735, 1032755, 1032776, 1032828, 1032916, 1033070, 1033087, 1033097, 1033148, 1033233, 1033437, 1033451, 1033473, 1033495, 1033539, 1033618, 1033673, 1033676, 1033708, 1033716, 1033813, 1033849, 1033877, 1034062, 1034068, 1034111, 1034147, 1034164, 1034201, 1034353, 1034382, 1034403, 1034435, 1034445, 1034521, 1034544, 1034578, 1034635, 1034654, 1034674, 1034703, 1034728, 1034746, 1034751, 1034856, 1034919, 1034939, 1035050, 1035080, 1035092, 1035121, 1035242, 1035328, 1035412, 1035428, 1035433, 1035486, 1035528, 1035621, 1035755, 1035777, 1035900, 1036061, 1036074, 1036163, 1036233, 1036272, 1036335, 1036381, 1036472, 1036513, 1036514, 1036601, 1036611, 1036670, 1036765, 1036796, 1036848, 1036910, 1037054, 1037056, 1037101, 1037135, 1037237, 1037271, 1037345, 1037416, 1037519, 1037535, 1037631, 1037646, 1037672, 1037688, 1037691, 1037760, 1037835, 1037860, 1037890, 1037938, 1038058, 1038065, 1038073, 1038084, 1038199, 1038356, 1038584, 1038670, 1038869, 1038878, 1038897, 1038925, 1038926, 1038998, 1039161, 1039274, 1039287, 1039306, 1039350, 1039351, 1039418, 1039456, 1039464, 1039481, 1039529, 1039538, 1039545, 1039746, 1039777, 1039819, 1039826, 1039856, 1039858, 1039928, 1039968, 1040000, 1040040, 1040144, 1040214, 1040218, 1040355, 1040437, 1040474, 1040481, 1040524, 1040621, 1040639, 1040684, 1040697, 1040733, 1040780, 1040801, 1040822, 1040826, 1040888, 1040894, 1040980, 1041025, 1041061, 1041069, 1041072, 1041186, 1041197, 1041201, 1041204, 1041254, 1041411, 1041439, 1041444, 1041466, 1041470, 1041489, 1041686, 1041749, 1041762, 1041876, 1041888, 1041893, 1041966, 1041976, 1042023, 1042057, 1042189, 1042274, 1042296, 1042322, 1042375, 1042452, 1042488, 1042528, 1042563, 1042638, 1042751, 1042760, 1042822, 1042859, 1042889, 1043048, 1043181, 1043209, 1043240, 1043277, 1043372, 1043380, 1043407, 1043508, 1043514, 1043532, 1043571, 1043593, 1043659, 1043763, 1043841, 1043842, 1043861, 1043862, 1043931, 1043933, 1043980, 1044108, 1044141, 1044162, 1044174, 1044211, 1044216, 1044249, 1044251, 1044261, 1044298, 1044313, 1044352, 1044474, 1044488, 1044489, 1044575, 1044683, 1044690, 1044719, 1044761, 1044776, 1044924, 1044951, 1044952, 1044977, 1045030, 1045091, 1045144, 1045171, 1045199, 1045200, 1045204, 1045248, 1045429, 1045436, 1045473, 1045506, 1045571, 1045593, 1045628, 1045755, 1045777, 1045788, 1045811, 1045898, 1045918, 1045930, 1046138, 1046143, 1046208, 1046254, 1046427, 1046432, 1046519, 1046537, 1046645, 1046697, 1046713, 1046721, 1046757, 1046870, 1046948, 1046987, 1047001, 1047036, 1047057, 1047077, 1047102, 1047142, 1047222, 1047248, 1047290, 1047316, 1047405, 1047477, 1047539, 1047545, 1047567, 1047623, 1047709, 1047729, 1047750, 1047832, 1047875, 1047876, 1047903, 1047979, 1048036, 1048129, 1048224, 1048306, 1048333, 1048396, 1048404, 1048440, 1048530, 1048576, 1048579, 1048603, 1048617, 1048633, 1048776, 1048831, 1048861, 1048937, 1048957, 1048964, 1048999, 1049018, 1049051, 1049148, 1049280, 1049282, 1049292, 1049364, 1049480, 1049582, 1049702, 1049813, 1049873, 1049970, 1049987, 1050087, 1050103, 1050175, 1050183, 1050318, 1050405, 1050477, 1050542, 1050562, 1050570, 1050615, 1050642, 1050683, 1050770, 1050779, 1050846, 1050928, 1051041, 1051057, 1051066, 1051177, 1051222, 1051246, 1051277, 1051342, 1051418, 1051553, 1051578, 1051625, 1051648, 1051703, 1051709, 1051759, 1051799, 1051861, 1051964, 1052008, 1052031, 1052046, 1052212, 1052223, 1052345, 1052469, 1052480, 1052522, 1052561, 1052572, 1052703, 1052811, 1052859, 1052886, 1052955, 1053017, 1053032, 1053072, 1053097, 1053112, 1053120, 1053280, 1053305, 1053396, 1053461, 1053462, 1053476, 1053534, 1053569, 1053615, 1053617, 1053684, 1053786, 1053832, 1053888, 1053912, 1053941, 1053947, 1053966, 1053992, 1054039, 1054049, 1054148, 1054157, 1054167, 1054193, 1054242, 1054246, 1054253, 1054274, 1054318, 1054417, 1054423, 1054505, 1054507, 1054520, 1054526, 1054555, 1054585, 1054595, 1054734, 1054744, 1054751, 1054769, 1054770, 1054804, 1054843, 1054851, 1054858, 1054887, 1054897, 1054915, 1055031, 1055043, 1055046, 1055118, 1055124, 1055158, 1055191, 1055216, 1055238, 1055285, 1055291, 1055302, 1055343, 1055415, 1055419, 1055472, 1055476, 1055505, 1055646, 1055683, 1055726, 1055736, 1055741, 1055771, 1055817, 1055835, 1055844, 1055853, 1055854, 1055855, 1055868, 1055880, 1055911, 1056073, 1056099, 1056119, 1056141, 1056190, 1056217, 1056224, 1056272, 1056328, 1056456, 1056514, 1056531, 1056578, 1056655, 1056739, 1056800, 1056901, 1056976, 1056980, 1057018, 1057025, 1057154, 1057161, 1057186, 1057249, 1057266, 1057316, 1057376, 1057391, 1057438, 1057466, 1057539, 1057622, 1057728, 1057742, 1057829, 1057844, 1057870, 1057886, 1057920, 1058078, 1058210, 1058385, 1058449, 1058542, 1058548, 1058596, 1058616, 1058620, 1058653, 1058669, 1058701, 1058714, 1058744, 1058845, 1058875, 1058911, 1058973, 1058994, 1059033, 1059111, 1059165, 1059174, 1059295, 1059313, 1059335, 1059360, 1059364, 1059409, 1059478, 1059518, 1059556, 1059592, 1059608, 1059670, 1059698, 1059830, 1059858, 1059893, 1059927, 1059937, 1059972, 1059983, 1059987, 1060049, 1060073, 1060078, 1060161, 1060247, 1060511, 1060521, 1060605, 1060651, 1060712, 1060728, 1060801, 1060830, 1060893, 1060952, 1061164, 1061204, 1061225, 1061251, 1061261, 1061280, 1061424, 1061466, 1061630, 1061632, 1061687, 1061776, 1061801, 1061816, 1061975, 1062007, 1062062, 1062068, 1062075, 1062130, 1062135, 1062215, 1062259, 1062283, 1062284, 1062292, 1062302, 1062372, 1062382, 1062456, 1062465, 1062554, 1062556, 1062581, 1062612, 1062690, 1062699, 1062721, 1062806, 1063053, 1063177, 1063220, 1063318, 1063471, 1063484, 1063509, 1063531, 1063622, 1063764, 1063837, 1063846, 1063859, 1063926, 1063956, 1063997, 1064011, 1064094, 1064128, 1064150, 1064214, 1064292, 1064369, 1064383, 1064459, 1064538, 1064566, 1064567, 1064619, 1064666, 1064925, 1064930, 1064937, 1064970, 1065001, 1065110, 1065116, 1065158, 1065272, 1065277, 1065358, 1065405, 1065416, 1065438, 1065490, 1065524, 1065644, 1065670, 1065696, 1065740, 1065833, 1066073, 1066120, 1066154, 1066156, 1066170, 1066222, 1066258, 1066278, 1066416, 1066441, 1066461, 1066471, 1066497, 1066505, 1066531, 1066554, 1066662, 1066676, 1066718, 1066759, 1066850, 1066950, 1067028, 1067074, 1067105, 1067176, 1067210, 1067264, 1067311, 1067426, 1067495, 1067499, 1067553, 1067594, 1067615, 1067661, 1067777, 1067821, 1067828, 1067939, 1068001, 1068088, 1068136, 1068153, 1068641, 1068691, 1068695, 1068782, 1068784, 1068801, 1068838, 1068883, 1068895, 1068897, 1068941, 1068961, 1069007, 1069045, 1069063, 1069159, 1069253, 1069345, 1069364, 1069460, 1069634, 1069651, 1069692, 1069712, 1069723, 1069758, 1069781, 1069794, 1069876, 1069940, 1069997, 1070012, 1070038, 1070120, 1070142, 1070147, 1070168, 1070169, 1070172, 1070188, 1070242, 1070268, 1070309, 1070312, 1070389, 1070787, 1070874, 1070886, 1070896, 1070916, 1070928, 1070949, 1071027, 1071122, 1071171, 1071195, 1071254, 1071342, 1071358, 1071374, 1071398, 1071475, 1071503, 1071536, 1071629, 1071710, 1071729, 1071985, 1071987, 1072049, 1072069, 1072143, 1072184, 1072242, 1072270, 1072316, 1072368, 1072419, 1072490, 1072491, 1072537, 1072619, 1072663, 1072673, 1072752, 1072782, 1072852, 1072907, 1072936, 1072941, 1072942, 1072992, 1073006, 1073072, 1073104, 1073114, 1073260, 1073329, 1073377, 1073397, 1073404, 1073454, 1073510, 1073527, 1073538, 1073554, 1073621, 1073713, 1073902, 1073925, 1073936, 1073949, 1073953, 1073960, 1074052, 1074147, 1074220, 1074233, 1074259, 1074313, 1074387, 1074405, 1074515, 1074570, 1074786, 1074789, 1074960, 1074991, 1074998, 1075013, 1075019, 1075145, 1075172, 1075256, 1075352, 1075407, 1075413, 1075560, 1075594, 1075616, 1075660, 1075677, 1075695, 1075745, 1075748, 1075836, 1075855, 1075868, 1075886, 1075897, 1076071, 1076092, 1076210, 1076224, 1076363, 1076370, 1076394, 1076438, 1076444, 1076588, 1076700, 1076713, 1076805, 1076833, 1076869, 1076930, 1076970, 1077022, 1077115, 1077126, 1077153, 1077171, 1077179, 1077207, 1077248, 1077261, 1077363, 1077371, 1077372, 1077395, 1077404, 1077459, 1077580, 1077696, 1077720, 1077779, 1077802, 1077803, 1077813, 1077864, 1077901, 1077942, 1077960, 1078020, 1078059, 1078104, 1078138, 1078206, 1078209, 1078215, 1078252, 1078269, 1078273, 1078284, 1078306, 1078322, 1078347, 1078404, 1078425, 1078456, 1078461, 1078496, 1078517, 1078561, 1078575, 1078609, 1078659, 1078737, 1078917, 1078937, 1079037, 1079049, 1079135, 1079138, 1079154, 1079196, 1079230, 1079285, 1079340, 1079428, 1079438, 1079447, 1079460, 1079479, 1079510, 1079516, 1079533, 1079559, 1079567, 1079610, 1079620, 1079628, 1079713, 1079806, 1079835, 1079884, 1079934, 1080023, 1080091, 1080221, 1080240, 1080242, 1080247, 1080322, 1080334, 1080354, 1080477, 1080479, 1080524, 1080547, 1080552, 1080617, 1080683, 1080729, 1080738, 1080743, 1080744, 1081094, 1081129, 1081229, 1081233, 1081292, 1081450, 1081470, 1081514, 1081549, 1081662, 1081667, 1081678, 1081756, 1081764, 1081774, 1081857, 1081861, 1081882, 1081964, 1081976, 1081989, 1082052, 1082054, 1082079, 1082162, 1082181, 1082228, 1082262, 1082280, 1082308, 1082365, 1082422, 1082425, 1082483, 1082539, 1082540, 1082553, 1082608, 1082673, 1082805, 1082855, 1082875, 1082891, 1082966, 1082982, 1083024, 1083145, 1083268, 1083283, 1083299, 1083318, 1083413, 1083494, 1083500, 1083531, 1083549, 1083618, 1083622, 1083642, 1083645, 1083648, 1083665, 1083717, 1083741, 1083868, 1083987, 1084002, 1084021, 1084105, 1084111, 1084157, 1084255, 1084334, 1084411, 1084471, 1084622, 1084669, 1084678, 1084704, 1084738, 1084757, 1084758, 1084766, 1084834, 1084857, 1084859, 1084877, 1085033, 1085034, 1085038, 1085067, 1085095, 1085139, 1085162, 1085397, 1085532, 1085575, 1085690, 1085716, 1085794, 1085873, 1086039, 1086127, 1086217, 1086253, 1086281, 1086386, 1086430, 1086435, 1086454, 1086474, 1086494, 1086641, 1086648, 1086679, 1086704, 1086766, 1087106, 1087158, 1087226, 1087228, 1087291, 1087310, 1087317, 1087416, 1087517, 1087612, 1087652, 1087654, 1087658, 1087814, 1087885, 1087953, 1087969, 1088003, 1088035, 1088075, 1088148, 1088149, 1088161, 1088219, 1088230, 1088241, 1088324, 1088367, 1088377, 1088388, 1088402, 1088552, 1088554, 1088608, 1088642, 1088737, 1088784, 1088845, 1088880, 1088981, 1089002, 1089038, 1089046, 1089056, 1089095, 1089103, 1089104, 1089207, 1089252, 1089306, 1089410, 1089411, 1089539, 1089544, 1089665, 1089720, 1089861, 1089956, 1089969, 1090068, 1090075, 1090085, 1090260, 1090387, 1090398, 1090470, 1090530, 1090542, 1090572, 1090573, 1090615, 1090620, 1090691, 1090720, 1090737, 1090778, 1091029, 1091195, 1091217, 1091344, 1091353, 1091386, 1091531, 1091538, 1091556, 1091607, 1091737, 1091759, 1091948, 1091957, 1091961, 1092012, 1092113, 1092119, 1092196, 1092220, 1092224, 1092229, 1092257, 1092280, 1092342, 1092373, 1092496, 1092500, 1092623, 1092709, 1092733, 1092742, 1092816, 1093165, 1093175, 1093271, 1093351, 1093362, 1093368, 1093646, 1093668, 1093709, 1093742, 1093763, 1093764, 1093776, 1093850, 1093895, 1093932, 1093984, 1094005, 1094007, 1094034, 1094053, 1094188, 1094204, 1094317, 1094333, 1094335, 1094405, 1094450, 1094593, 1094610, 1094800, 1094834, 1094839, 1095055, 1095062, 1095091, 1095095, 1095107, 1095128, 1095146, 1095180, 1095193, 1095210, 1095282, 1095337, 1095415, 1095438, 1095495, 1095508, 1095517, 1095524, 1095535, 1095575, 1095602, 1095682, 1095727, 1095779, 1095914, 1095995, 1096067, 1096079, 1096081, 1096118, 1096170, 1096292, 1096305, 1096376, 1096488, 1096542, 1096558, 1096791, 1096798, 1096808, 1096809, 1096908, 1096945, 1096956, 1097094, 1097108, 1097138, 1097207, 1097281, 1097333, 1097390, 1097391, 1097397, 1097484, 1097543, 1097565, 1097566, 1097574, 1097576, 1097584, 1097609, 1097691, 1097766, 1097784, 1097788, 1097897, 1097946, 1098361, 1098401, 1098452, 1098473, 1098503, 1098530, 1098545, 1098580, 1098606, 1098707, 1098720, 1098792, 1098817, 1098846, 1098924, 1098957, 1098988, 1099009, 1099050, 1099089, 1099100, 1099174, 1099204, 1099209, 1099247, 1099281, 1099343, 1099390, 1099410, 1099412, 1099464, 1099465, 1099524, 1099595, 1099734, 1099772, 1099880, 1099924, 1099935, 1099940, 1099961, 1100024, 1100026, 1100154, 1100156, 1100209, 1100210, 1100348, 1100503, 1100521, 1100546, 1100587, 1100671, 1100709, 1100749, 1100779, 1100904, 1100983, 1100991, 1101053, 1101072, 1101095, 1101153, 1101228, 1101257, 1101277, 1101291, 1101445, 1101465, 1101505, 1101601, 1101606, 1101789, 1101791, 1101832, 1101869, 1102007, 1102020, 1102036, 1102041, 1102054, 1102089, 1102114, 1102136, 1102175, 1102177, 1102222, 1102226, 1102248, 1102468, 1102474, 1102527, 1102533, 1102546, 1102554, 1102610, 1102618, 1102657, 1102765, 1102769, 1102783, 1102792, 1102852, 1102858, 1102874, 1102887, 1102898, 1102983, 1103004, 1103010, 1103029, 1103046, 1103054, 1103077, 1103130, 1103158, 1103345, 1103367, 1103450, 1103466, 1103503, 1103581, 1103582, 1103669, 1103675, 1103735, 1103761, 1103830, 1103840, 1103890, 1103970, 1104009, 1104013, 1104060, 1104086, 1104089, 1104129, 1104259, 1104288, 1104350, 1104389, 1104472, 1104590, 1104596, 1104597, 1104684, 1104732, 1104825, 1104892, 1104944, 1105026, 1105028, 1105040, 1105179, 1105227, 1105243, 1105283, 1105316, 1105335, 1105376, 1105400, 1105519, 1105550, 1105623, 1105632, 1105646, 1105780, 1105795, 1105832, 1105956, 1105983, 1106142, 1106237, 1106263, 1106268, 1106283, 1106354, 1106399, 1106413, 1106463, 1106492, 1106578, 1106744, 1106768, 1106791, 1106929, 1107036, 1107260, 1107341, 1107408, 1107466, 1107478, 1107549, 1107609, 1107617, 1107623, 1107637, 1107798, 1107870, 1107927, 1107928, 1108009, 1108179, 1108231, 1108269, 1108293, 1108348, 1108371, 1108415, 1108416, 1108433, 1108483, 1108521, 1108623, 1108631, 1108649, 1108684, 1108687, 1108714, 1108888, 1108891, 1108984, 1109009, 1109015, 1109074, 1109099, 1109204, 1109209, 1109222, 1109303, 1109308, 1109341, 1109402, 1109553, 1109564, 1109584, 1109597, 1109629, 1109696, 1109709, 1109733, 1109824, 1109881, 1109939, 1110074, 1110097, 1110137, 1110144, 1110150, 1110278, 1110364, 1110383, 1110413, 1110434, 1110448, 1110471, 1110548, 1110637, 1110664, 1110745, 1110752, 1110862, 1110872, 1110894, 1110896, 1110949, 1110983, 1111017, 1111047, 1111150, 1111182, 1111209, 1111260, 1111304, 1111323, 1111431, 1111536, 1111570, 1111581, 1111626, 1111633, 1111687, 1111697, 1111724, 1111777, 1111792, 1111798, 1111816, 1111844, 1111846, 1111872, 1111937, 1111967, 1111971, 1111995, 1112025, 1112026, 1112151, 1112220, 1112260, 1112305, 1112345, 1112420, 1112446, 1112483, 1112544, 1112578, 1112588, 1112592, 1112607, 1112614, 1112633, 1112729, 1112740, 1112754, 1112814, 1112892, 1112973, 1113151, 1113330, 1113427, 1113488, 1113498, 1113551, 1113662, 1113746, 1113840, 1113863, 1113875, 1113936, 1113959, 1114013, 1114062, 1114180, 1114210, 1114319, 1114363, 1114365, 1114385, 1114391, 1114486, 1114547, 1114588, 1114621, 1114622, 1114632, 1114663, 1114692, 1114701, 1114746, 1114754, 1114799, 1114936, 1114959, 1114990, 1115066, 1115075, 1115101, 1115247, 1115255, 1115269, 1115281, 1115330, 1115417, 1115478, 1115504, 1115668, 1115681, 1115705, 1115717, 1115746, 1115835, 1115852, 1115918, 1115942, 1115956, 1115966, 1116004, 1116066, 1116069, 1116085, 1116095, 1116104, 1116207, 1116226, 1116238, 1116392, 1116434, 1116457, 1116473, 1116483, 1116499, 1116540, 1116561, 1116588, 1116621, 1116633, 1116667, 1116702, 1116777, 1116793, 1116864, 1116969, 1117022, 1117085, 1117139, 1117162, 1117172, 1117239, 1117287, 1117327, 1117361, 1117405, 1117457, 1117487, 1117503, 1117527, 1117584, 1117655, 1117751, 1117924, 1117925, 1117934, 1117940, 1117974, 1118027, 1118035, 1118124, 1118153, 1118175, 1118265, 1118349, 1118394, 1118471, 1118492, 1118644, 1118652, 1118658, 1118670, 1118685, 1118798, 1118842, 1118939, 1118970, 1118992, 1119064, 1119135, 1119166, 1119194, 1119202, 1119232, 1119267, 1119371, 1119396, 1119398, 1119434, 1119436, 1119487, 1119528, 1119540, 1119607, 1119613, 1119663, 1119699, 1119730, 1119783, 1119796, 1119927, 1119950, 1119952, 1120017, 1120081, 1120218, 1120255, 1120256, 1120366, 1120373, 1120377, 1120394, 1120480, 1120492, 1120524, 1120568, 1120594, 1120679, 1120808, 1120829, 1120838, 1120978, 1120991, 1121001, 1121079, 1121141, 1121143, 1121148, 1121168, 1121281, 1121282, 1121318, 1121342, 1121352, 1121363, 1121441, 1121488, 1121676, 1121729, 1121739, 1121862, 1121892, 1121927, 1121939, 1121973, 1122009, 1122022, 1122025, 1122083, 1122131, 1122139, 1122169, 1122176, 1122211, 1122221, 1122443, 1122540, 1122619, 1122723, 1122752, 1122772, 1122847, 1122984, 1123021, 1123045, 1123071, 1123108, 1123157, 1123180, 1123204, 1123278, 1123299, 1123307, 1123357, 1123395, 1123496, 1123537, 1123550, 1123561, 1123586, 1123627, 1123642, 1123655, 1123713, 1123740, 1123812, 1123874, 1123896, 1123913, 1123918, 1123930, 1123974, 1123999, 1124029, 1124032, 1124107, 1124131, 1124327, 1124362, 1124387, 1124422, 1124495, 1124516, 1124532, 1124544, 1124618, 1124662, 1124682, 1124711, 1124744, 1124760, 1124789, 1124854, 1124861, 1124885, 1124932, 1124948, 1125095, 1125096, 1125169, 1125174, 1125282, 1125479, 1125519, 1125541, 1125542, 1125544, 1125573, 1125632, 1125638, 1125643, 1125654, 1125668, 1125721, 1125761, 1125762, 1125830, 1125865, 1125867, 1125883, 1125946, 1126008, 1126038, 1126049, 1126103, 1126138, 1126169, 1126214, 1126236, 1126326, 1126383, 1126434, 1126525, 1126551, 1126566, 1126576, 1126581, 1126653, 1126722, 1126745, 1126752, 1126809, 1126877, 1126993, 1127083, 1127084, 1127094, 1127182, 1127222, 1127265, 1127332, 1127414, 1127415, 1127470, 1127518, 1127565, 1127580, 1127583, 1127601, 1127636, 1127643, 1127654, 1127672, 1127704, 1127722, 1127786, 1127838, 1127849, 1127898, 1127932, 1127933, 1127934, 1127946, 1127974, 1127979, 1128033, 1128064, 1128108, 1128127, 1128157, 1128186, 1128214, 1128220, 1128319, 1128388, 1128416, 1128534, 1128571, 1128623, 1128677, 1128692, 1128707, 1128716, 1128728, 1128776, 1128777, 1128795, 1128851, 1128948, 1128970, 1129000, 1129002, 1129016, 1129071, 1129085, 1129102, 1129184, 1129185, 1129243, 1129269, 1129285, 1129394, 1129482, 1129550, 1129589, 1129592, 1129625, 1129702, 1129761, 1129830, 1129947, 1129997, 1130067, 1130227, 1130231, 1130234, 1130327, 1130334, 1130410, 1130439, 1130509, 1130512, 1130546, 1130557, 1130559, 1130674, 1130802, 1130903, 1130927, 1131081, 1131127, 1131203, 1131209, 1131245, 1131318, 1131385, 1131394, 1131448, 1131452, 1131555, 1131584, 1131619, 1131768, 1131994, 1132001, 1132013, 1132033, 1132049, 1132063, 1132166, 1132192, 1132355, 1132371, 1132421, 1132454, 1132463, 1132529, 1132595, 1132635, 1132666, 1132769, 1132779, 1132786, 1132839, 1132932, 1132942, 1132964, 1132965, 1132966, 1132972, 1133118, 1133144, 1133209, 1133262, 1133264, 1133267, 1133276, 1133328, 1133418, 1133512, 1133515, 1133584, 1133656, 1133671, 1133702, 1133731, 1133736, 1133858, 1133964, 1133967, 1134009, 1134011, 1134055, 1134056, 1134106, 1134118, 1134174, 1134239, 1134275, 1134291, 1134297, 1134468, 1134479, 1134507, 1134539, 1134568, 1134602, 1134639, 1134667, 1134675, 1134773, 1134796, 1134821, 1134864, 1134926, 1134952, 1135044, 1135084, 1135126, 1135150, 1135207, 1135345, 1135356, 1135398, 1135432, 1135457, 1135503, 1135614, 1135627, 1135650, 1135663, 1135825, 1135912, 1135973, 1135990, 1136006, 1136047, 1136074, 1136109, 1136118, 1136121, 1136144, 1136390, 1136409, 1136417, 1136426, 1136449, 1136458, 1136600, 1136784, 1136814, 1136819, 1136829, 1136835, 1136861, 1136930, 1136979, 1137116, 1137193, 1137217, 1137321, 1137343, 1137394, 1137482, 1137510, 1137533, 1137538, 1137577, 1137688, 1137693, 1137703, 1137714, 1137789, 1137816, 1137887, 1137891, 1137897, 1137926, 1137931, 1137945, 1137974, 1137978, 1137996, 1138000, 1138010, 1138024, 1138044, 1138101, 1138114, 1138179, 1138199, 1138256, 1138283, 1138356, 1138386, 1138418, 1138437, 1138493, 1138534, 1138605, 1138652, 1138707, 1138745, 1138821, 1138833, 1138836, 1138839, 1138892, 1138908, 1139050, 1139056, 1139071, 1139083, 1139176, 1139191, 1139287, 1139330, 1139359, 1139367, 1139463, 1139564, 1139584, 1139618, 1139681, 1139745, 1139764, 1139779, 1139809, 1139860, 1139870, 1139905, 1139906, 1139923, 1139924, 1139951, 1139955, 1140048, 1140149, 1140216, 1140316, 1140324, 1140329, 1140409, 1140428, 1140478, 1140579, 1140613, 1140629, 1140670, 1140680, 1140688, 1140715, 1140855, 1140862, 1140879, 1140887, 1140963, 1140977, 1140985, 1141007, 1141167, 1141181, 1141192, 1141213, 1141434, 1141436, 1141470, 1141500, 1141552, 1141586, 1141633, 1141638, 1141684, 1141739, 1141779, 1141784, 1141818, 1141836, 1141869, 1141875, 1141911, 1141941, 1141972, 1141990, 1142000, 1142032, 1142149, 1142167, 1142200, 1142215, 1142247, 1142322, 1142343, 1142396, 1142410, 1142507, 1142657, 1142732, 1142839, 1143002, 1143005, 1143116, 1143137, 1143180, 1143230, 1143234, 1143330, 1143336, 1143337, 1143505, 1143517, 1143526, 1143581, 1143610, 1143638, 1143700, 1143794, 1143898, 1143934, 1144116, 1144117, 1144276, 1144323, 1144350, 1144352, 1144437, 1144446, 1144483, 1144488, 1144505, 1144511, 1144524, 1144574, 1144893, 1144895, 1144917, 1144933, 1145056, 1145200, 1145208, 1145239, 1145274, 1145303, 1145385, 1145387, 1145424, 1145495, 1145564, 1145571, 1145618, 1145803, 1145893, 1145916, 1145971, 1146002, 1146035, 1146069, 1146083, 1146093, 1146098, 1146103, 1146122, 1146180, 1146198, 1146259, 1146285, 1146304, 1146306, 1146382, 1146386, 1146389, 1146440, 1146465, 1146484, 1146494, 1146539, 1146575, 1146580, 1146618, 1146646, 1146652, 1146680, 1146703, 1146733, 1146755, 1146793, 1146813, 1146852, 1146958, 1147003, 1147065, 1147116, 1147144, 1147167, 1147272, 1147377, 1147396, 1147404, 1147405, 1147446, 1147469, 1147550, 1147616, 1147657, 1147679, 1147727, 1147762, 1147787, 1147833, 1147885, 1147891, 1147893, 1147900, 1147911, 1147928, 1147997, 1148028, 1148037, 1148071, 1148079, 1148120, 1148144, 1148181, 1148244, 1148266, 1148456, 1148466, 1148482, 1148493, 1148511, 1148530, 1148537, 1148624, 1148651, 1148809, 1148918, 1149080, 1149108, 1149172, 1149252, 1149340, 1149351, 1149393, 1149409, 1149478, 1149556, 1149573, 1149581, 1149594, 1149615, 1149616, 1149649, 1149684, 1149692, 1149709, 1149719, 1149745, 1149748, 1149790, 1149829, 1149918, 1149991, 1150002, 1150026, 1150133, 1150166, 1150201, 1150237, 1150250, 1150304, 1150330, 1150387, 1150397, 1150411, 1150434, 1150459, 1150479, 1150487, 1150505, 1150513, 1150605, 1150665, 1150753, 1150798, 1150818, 1150844, 1150904, 1150935, 1151059, 1151139, 1151161, 1151163, 1151192, 1151244, 1151264, 1151308, 1151376, 1151396, 1151488, 1151490, 1151544, 1151617, 1151626, 1151646, 1151654, 1151666, 1151715, 1151729, 1151772, 1151818, 1151981, 1152038, 1152055, 1152124, 1152213, 1152246, 1152273, 1152286, 1152423, 1152466, 1152713, 1152806, 1152845, 1152897, 1152951, 1153087, 1153187, 1153262, 1153291, 1153298, 1153336, 1153371, 1153380, 1153424, 1153482, 1153562, 1153589, 1153641, 1153836, 1153855, 1153885, 1153899, 1153908, 1153931, 1154005, 1154070, 1154084, 1154112, 1154118, 1154262, 1154315, 1154414, 1154439, 1154478, 1154523, 1154605, 1154640, 1154645, 1154647, 1154920, 1154967, 1154980, 1155081, 1155088, 1155106, 1155145, 1155166, 1155343, 1155352, 1155362, 1155443, 1155510, 1155551, 1155678, 1155705, 1155720, 1155734, 1155739, 1155762, 1155785, 1155827, 1155950, 1155971, 1156016, 1156065, 1156132, 1156183, 1156204, 1156269, 1156292, 1156306, 1156347, 1156359, 1156496, 1156516, 1156528, 1156591, 1156602, 1156607, 1156611, 1156699, 1156755, 1156834, 1156875, 1156901, 1156934, 1156943, 1157065, 1157070, 1157075, 1157106, 1157167, 1157168, 1157194, 1157268, 1157321, 1157332, 1157360, 1157411, 1157428, 1157544, 1157580, 1157637, 1157712, 1157725, 1157746, 1157829, 1157882, 1157890, 1157901, 1157922, 1157987, 1158039, 1158097, 1158126, 1158208, 1158237, 1158240, 1158253, 1158258, 1158280, 1158299, 1158407, 1158477, 1158621, 1158678, 1158725, 1158743, 1158761, 1158840, 1158853, 1158860, 1158861, 1158954, 1158981, 1159182, 1159224, 1159247, 1159301, 1159345, 1159379, 1159388, 1159407, 1159497, 1159525, 1159553, 1159625, 1159666, 1159691, 1159737, 1159768, 1159778, 1159782, 1159789, 1159886, 1159899, 1159941, 1159959, 1160008, 1160213, 1160264, 1160293, 1160308, 1160357, 1160445, 1160516, 1160518, 1160523, 1160655, 1160736, 1160861, 1160895, 1160918, 1160955, 1161015, 1161045, 1161149, 1161157, 1161163, 1161180, 1161193, 1161227, 1161361, 1161409, 1161650, 1161663, 1161736, 1161795, 1161835, 1161883, 1161889, 1161897, 1161967, 1162063, 1162085, 1162123, 1162138, 1162269, 1162292, 1162314, 1162499, 1162518, 1162550, 1162574, 1162592, 1162599, 1162640, 1162701, 1162717, 1162788, 1162793, 1162797, 1162882, 1162888, 1162895, 1162899, 1162900, 1162924, 1162969, 1162986, 1162995, 1163094, 1163099, 1163105, 1163132, 1163166, 1163194, 1163282, 1163303, 1163389, 1163398, 1163488, 1163496, 1163543, 1163614, 1163663, 1163696, 1163706, 1163765, 1163768, 1163776, 1163965, 1163995, 1164058, 1164088, 1164110, 1164127, 1164190, 1164334, 1164349, 1164461, 1164501, 1164504, 1164534, 1164607, 1164832, 1164847, 1164882, 1164888, 1164950, 1165002, 1165047, 1165087, 1165135, 1165248, 1165306, 1165404, 1165405, 1165422, 1165540, 1165639, 1165643, 1165749, 1165820, 1165870, 1166188, 1166201, 1166217, 1166233, 1166269, 1166419, 1166455, 1166516, 1166600, 1166631, 1166644, 1166665, 1166691, 1166712, 1166717, 1166842, 1166885, 1166959, 1167150, 1167154, 1167162, 1167224, 1167293, 1167303, 1167304, 1167331, 1167536, 1167614, 1167615, 1167646, 1167671, 1167757, 1167802, 1167841, 1167909, 1167924, 1167957, 1168004, 1168074, 1168096, 1168165, 1168185, 1168293, 1168302, 1168341, 1168475, 1168557, 1168648, 1168674, 1168783, 1168811, 1168880, 1168910, 1168941, 1168960, 1169029, 1169043, 1169055, 1169057, 1169173, 1169177, 1169190, 1169233, 1169267, 1169391, 1169437, 1169486, 1169508, 1169528, 1169566, 1169567, 1169588, 1169622, 1169630, 1169710, 1169727, 1169822, 1169928, 1169942, 1169951, 1169989, 1170024, 1170262, 1170338, 1170379, 1170394, 1170401, 1170472, 1170506, 1170512, 1170645, 1170668, 1170698, 1170710, 1170776, 1170780, 1170809, 1170825, 1170844, 1170847, 1170848, 1170852, 1170894, 1170958, 1171012, 1171070, 1171169, 1171179, 1171207, 1171245, 1171260, 1171335, 1171358, 1171368, 1171407, 1171415, 1171452, 1171500, 1171505, 1171743, 1171806, 1171883, 1171951, 1171964, 1171995, 1172021, 1172042, 1172176, 1172177, 1172189, 1172279, 1172301, 1172470, 1172550, 1172557, 1172563, 1172611, 1172770, 1172797, 1172919, 1172983, 1172985, 1172986, 1173000, 1173013, 1173027, 1173034, 1173171, 1173177, 1173209, 1173212, 1173267, 1173356, 1173387, 1173455, 1173476, 1173479, 1173485, 1173515, 1173524, 1173544, 1173576, 1173598, 1173696, 1173722, 1173725, 1173816, 1173876, 1173956, 1173960, 1173980, 1173991, 1174079, 1174294, 1174319, 1174549, 1174556, 1174733, 1174738, 1174789, 1174794, 1174837, 1174936, 1175059, 1175182, 1175256, 1175262, 1175264, 1175280, 1175306, 1175442, 1175475, 1175533, 1175573, 1175582, 1175591, 1175594, 1175740, 1175748, 1175793, 1175801, 1175831, 1175883, 1175915, 1175961, 1176051, 1176073, 1176082, 1176087, 1176243, 1176286, 1176317, 1176325, 1176349, 1176355, 1176386, 1176423, 1176467, 1176537, 1176543, 1176555, 1176612, 1176647, 1176696, 1176797, 1176853, 1176899, 1176901, 1176947, 1176953, 1176975, 1176994, 1177049, 1177079, 1177199, 1177304, 1177314, 1177341, 1177379, 1177400, 1177410, 1177456, 1177465, 1177530, 1177576, 1177585, 1177588, 1177686, 1177735, 1177762, 1177865, 1177890, 1177934, 1177944, 1177949, 1177954, 1178016, 1178026, 1178059, 1178087, 1178248, 1178334, 1178347, 1178399, 1178470, 1178481, 1178543, 1178655, 1178678, 1178718, 1178740, 1178762, 1178808, 1178810, 1178822, 1178851, 1179047, 1179102, 1179194, 1179237, 1179249, 1179279, 1179305, 1179413, 1179417, 1179425, 1179538, 1179621, 1179645, 1179651, 1179669, 1179801, 1179811, 1179815, 1179837, 1179868, 1179887, 1179952, 1179978, 1180003, 1180087, 1180132, 1180183, 1180276, 1180285, 1180325, 1180409, 1180440, 1180459, 1180511, 1180558, 1180747, 1180775, 1180795, 1180799, 1180859, 1180901, 1181059, 1181077, 1181092, 1181097, 1181143, 1181182, 1181189, 1181216, 1181224, 1181318, 1181393, 1181394, 1181442, 1181451, 1181479, 1181526, 1181566, 1181665, 1181695, 1181753, 1181760, 1181787, 1181951, 1182081, 1182141, 1182219, 1182248, 1182497, 1182524, 1182529, 1182539, 1182614, 1182630, 1182801, 1182854, 1182996, 1183046, 1183125, 1183275, 1183300, 1183311, 1183342, 1183434, 1183435, 1183499, 1183521, 1183542, 1183555, 1183572, 1183603, 1183613, 1183689, 1183810, 1183854, 1183885, 1183916, 1183941, 1183969, 1184000, 1184017, 1184034, 1184039, 1184142, 1184167, 1184263, 1184286, 1184312, 1184350, 1184437, 1184507, 1184537, 1184614, 1184626, 1184729, 1184810, 1185039, 1185084, 1185094, 1185133, 1185141, 1185201, 1185219, 1185280, 1185342, 1185403, 1185413, 1185423, 1185425, 1185437, 1185445, 1185466, 1185490, 1185528, 1185530, 1185548, 1185590, 1185619, 1185660, 1185713, 1185962, 1185969, 1185970, 1186014, 1186045, 1186075, 1186240, 1186311, 1186319, 1186344, 1186415, 1186512, 1186517, 1186525, 1186538, 1186548, 1186586, 1186605, 1186724, 1186731, 1186752, 1186773, 1186792, 1186796, 1186873, 1186913, 1186929, 1186946, 1187027, 1187065, 1187148, 1187167, 1187202, 1187203, 1187359, 1187563, 1187642, 1187667, 1187706, 1187780, 1187871, 1187881, 1188029, 1188048, 1188193, 1188196, 1188248, 1188283, 1188326, 1188388, 1188390, 1188395, 1188425, 1188446, 1188578, 1188611, 1188625, 1188640, 1188674, 1188699, 1188744, 1188774, 1188782, 1188834, 1188845, 1188950, 1188988, 1189004, 1189075, 1189094, 1189251, 1189321, 1189379, 1189407, 1189461, 1189465, 1189570, 1189673, 1189685, 1189759, 1189768, 1189817, 1189838, 1189894, 1189900, 1189975, 1189985, 1190037, 1190047, 1190090, 1190113, 1190130, 1190140, 1190155, 1190206, 1190293, 1190304, 1190306, 1190361, 1190435, 1190437, 1190456, 1190477, 1190525, 1190535, 1190691, 1190829, 1190880, 1190939, 1190993, 1191071, 1191087, 1191096, 1191157, 1191290, 1191305, 1191338, 1191443, 1191482, 1191522, 1191537, 1191551, 1191612, 1191625, 1191658, 1191677, 1191703, 1191807, 1191811, 1191846, 1191877, 1191919, 1191932, 1191966, 1192026, 1192054, 1192113, 1192114, 1192151, 1192169, 1192176, 1192199, 1192366, 1192426, 1192435, 1192454, 1192541, 1192615, 1192724, 1192725, 1192919, 1192996, 1193001, 1193038, 1193122, 1193198, 1193231, 1193423, 1193425, 1193571, 1193578, 1193629, 1193678, 1193738, 1193776, 1193834, 1193902, 1193905, 1193991, 1194044, 1194100, 1194158, 1194211, 1194491, 1194589, 1194614, 1194634, 1194643, 1194651, 1194686, 1194790, 1194834, 1194873, 1194876, 1194896, 1194975, 1195108, 1195205, 1195227, 1195235, 1195260, 1195433, 1195434, 1195526, 1195771, 1195858, 1195861, 1195869, 1196047, 1196091, 1196096, 1196112, 1196128, 1196143, 1196148, 1196178, 1196256, 1196293, 1196308, 1196401, 1196419, 1196569, 1196619, 1196716, 1196753, 1196775, 1196842, 1196861, 1196901, 1197069, 1197114, 1197172, 1197243, 1197259, 1197267, 1197270, 1197320, 1197331, 1197459, 1197524, 1197539, 1197630, 1197632, 1197640, 1197664, 1197666, 1197684, 1197710, 1197811, 1198009, 1198010, 1198012, 1198119, 1198132, 1198250, 1198275, 1198290, 1198301, 1198305, 1198331, 1198363, 1198385, 1198400, 1198401, 1198429, 1198519, 1198536, 1198537, 1198549, 1198552, 1198601, 1198676, 1198724, 1198771, 1198786, 1198835, 1198882, 1198973, 1198976, 1198989, 1199040, 1199055, 1199113, 1199264, 1199306, 1199369, 1199390, 1199468, 1199474, 1199487, 1199520, 1199538, 1199556, 1199557, 1199630, 1199661, 1199758, 1199851, 1199901, 1199922, 1199941, 1200002, 1200123, 1200157, 1200215, 1200248, 1200307, 1200370, 1200378, 1200386, 1200447, 1200450, 1200508, 1200606, 1200620, 1200763, 1200770, 1200839, 1200925, 1201011, 1201092, 1201154, 1201242, 1201336, 1201442, 1201479, 1201480, 1201556, 1201567, 1201588, 1201592, 1201597, 1201645, 1201651, 1201672, 1201702, 1201707, 1201727, 1201888, 1201916, 1201933, 1202088, 1202119, 1202123, 1202172, 1202191, 1202219, 1202304, 1202445, 1202466, 1202555, 1202618, 1202665, 1202696, 1202752, 1202765, 1202782, 1202812, 1202894, 1202901, 1202950, 1202957, 1203037, 1203094, 1203155, 1203311, 1203321, 1203374, 1203380, 1203484, 1203533, 1203542, 1203611, 1203675, 1203696, 1203741, 1203775, 1203844, 1203870, 1203950, 1203958, 1203997, 1204041, 1204053, 1204055, 1204103, 1204158, 1204199, 1204217, 1204227, 1204288, 1204399, 1204405, 1204514, 1204571, 1204666, 1204697, 1204698, 1204705, 1204727, 1204781, 1204839, 1204882, 1204909, 1204946, 1205047, 1205147, 1205244, 1205272, 1205411, 1205431, 1205493, 1205617, 1205625, 1205756, 1205829, 1205891, 1205910, 1206221, 1206298, 1206299, 1206327, 1206495, 1206504, 1206527, 1206540, 1206551, 1206558, 1206573, 1206587, 1206596, 1206603, 1206615, 1206683, 1206690, 1206742, 1206745, 1206839, 1206862, 1206978, 1207045, 1207108, 1207174, 1207287, 1207292, 1207305, 1207376, 1207481, 1207653, 1207684, 1207732, 1207779, 1208011, 1208030, 1208112, 1208116, 1208124, 1208139, 1208180, 1208207, 1208215, 1208228, 1208311, 1208344, 1208463, 1208471, 1208538, 1208566, 1208630, 1208732, 1208872, 1208946, 1209093, 1209191, 1209258, 1209328, 1209370, 1209393, 1209410, 1209417, 1209455, 1209567, 1209671, 1209771, 1209827, 1209834, 1209854, 1209976, 1210054, 1210125, 1210207, 1210258, 1210263, 1210307, 1210364, 1210461, 1210489, 1210519, 1210521, 1210526, 1210820, 1210828, 1210836, 1210863, 1210895, 1210932, 1210952, 1210981, 1210997, 1211011, 1211080, 1211111, 1211130, 1211136, 1211155, 1211207, 1211210, 1211212, 1211226, 1211441, 1211472, 1211556, 1211586, 1211654, 1211695, 1211780, 1211786, 1211864, 1211923, 1211948, 1211968, 1212084, 1212149, 1212166, 1212174, 1212185, 1212292, 1212326, 1212337, 1212360, 1212454, 1212511, 1212686, 1212725, 1212730, 1212731, 1212747, 1212814, 1212843, 1212859, 1213101, 1213203, 1213288, 1213408, 1213549, 1213673, 1213679, 1213704, 1213709, 1213750, 1213964, 1213967, 1213988, 1214173, 1214202, 1214215, 1214235, 1214246, 1214313, 1214318, 1214454, 1214485, 1214556, 1214602, 1214616, 1214705, 1214770, 1214794, 1215042, 1215054, 1215126, 1215173, 1215222, 1215281, 1215310, 1215362, 1215370, 1215373, 1215462, 1215467, 1215567, 1215583, 1215604, 1215662, 1215719, 1215727, 1215736, 1215767, 1215887, 1215889, 1215892, 1215907, 1215945, 1216104, 1216107, 1216227, 1216249, 1216268, 1216363, 1216419, 1216443, 1216456, 1216475, 1216569, 1216573, 1216574, 1216613, 1216615, 1216653, 1216658, 1216708, 1216766, 1216820, 1216832, 1216908, 1216949, 1217063, 1217083, 1217098, 1217148, 1217281, 1217288, 1217326, 1217415, 1217498, 1217526, 1217612, 1217724, 1217926, 1218035, 1218102, 1218114, 1218182, 1218235, 1218239, 1218315, 1218350, 1218351, 1218434, 1218457, 1218461, 1218487, 1218488, 1218551, 1218583, 1218617, 1218652, 1218745, 1218777, 1218811, 1218814, 1218844, 1218868, 1218885, 1218919, 1218920, 1218940, 1218966, 1219208, 1219219, 1219220, 1219275, 1219330, 1219395, 1219444, 1219499, 1219526, 1219572, 1219633, 1219725, 1219805, 1219813, 1219843, 1219876, 1219893, 1219998, 1220000, 1220007, 1220164, 1220257, 1220278, 1220341, 1220357, 1220361, 1220455, 1220602, 1220622, 1220664, 1220665, 1220707, 1220713, 1220838, 1220843, 1220891, 1221025, 1221074, 1221120, 1221177, 1221210, 1221227, 1221241, 1221278, 1221295, 1221436, 1221468, 1221484, 1221547, 1221566, 1221567, 1221615, 1221641, 1221657, 1221684, 1221705, 1221707, 1221716, 1221791, 1221835, 1221840, 1221865, 1221899, 1222054, 1222069, 1222142, 1222191, 1222192, 1222204, 1222247, 1222309, 1222455, 1222485, 1222588, 1222591, 1222638, 1222705, 1222872, 1222898, 1222901, 1222954, 1222984, 1223002, 1223009, 1223024, 1223074, 1223111, 1223158, 1223185, 1223242, 1223364, 1223373, 1223451, 1223508, 1223509, 1223531, 1223636, 1223673, 1223688, 1223707, 1223729, 1223739, 1223930, 1223942, 1224008, 1224077, 1224099, 1224212, 1224365, 1224393, 1224429, 1224443, 1224521, 1224530, 1224581, 1224583, 1224737, 1224777, 1224831, 1224871, 1224893, 1224966, 1224988, 1225058, 1225166, 1225191, 1225260, 1225268, 1225271, 1225291, 1225305, 1225331, 1225346, 1225362, 1225372, 1225380, 1225498, 1225524, 1225559, 1225574, 1225673, 1225719, 1225781, 1225879, 1225894, 1225907, 1225928, 1225956, 1225970, 1225993, 1226013, 1226059, 1226119, 1226122, 1226159, 1226184, 1226224, 1226371, 1226391, 1226406, 1226443, 1226444, 1226449, 1226457, 1226620, 1226631, 1226671, 1226683, 1226691, 1226762, 1226773, 1226921, 1226936, 1226942, 1226992, 1227101, 1227177, 1227221, 1227224, 1227326, 1227360, 1227397, 1227519, 1227615, 1227679, 1227719, 1227772, 1227800, 1227824, 1227852, 1227857, 1227864, 1228005, 1228027, 1228029, 1228057, 1228059, 1228064, 1228101, 1228182, 1228202, 1228210, 1228211, 1228389, 1228520, 1228561, 1228619, 1228668, 1228677, 1228701, 1228728, 1228745, 1228790, 1228803, 1228922, 1228983, 1229003, 1229072, 1229077, 1229095, 1229117, 1229122, 1229193, 1229259, 1229272, 1229277, 1229372, 1229382, 1229383, 1229478, 1229501, 1229519, 1229520, 1229549, 1229559, 1229592, 1229677, 1229750, 1229794, 1229812, 1229840, 1229881, 1230009, 1230026, 1230123, 1230133, 1230139, 1230386, 1230396, 1230430, 1230449, 1230485, 1230565, 1230575, 1230612, 1230661, 1230707, 1230717, 1230726, 1230740, 1230758, 1230838, 1230879, 1230981, 1230987, 1231032, 1231038, 1231039, 1231048, 1231190, 1231191, 1231254, 1231310, 1231343, 1231394, 1231403, 1231483, 1231539, 1231557, 1231583, 1231710, 1231721, 1231739, 1231800, 1231837, 1231891, 1231898, 1231923, 1231925, 1231930, 1231934, 1231972, 1232078, 1232170, 1232186, 1232335, 1232342, 1232360, 1232436, 1232491, 1232533, 1232583, 1232615, 1232634, 1232671, 1232697, 1232716, 1232744, 1232836, 1232872, 1232995, 1233025, 1233045, 1233062, 1233106, 1233158, 1233266, 1233331, 1233366, 1233379, 1233385, 1233452, 1233496, 1233601, 1233647, 1233719, 1233777, 1233780, 1233996, 1234020, 1234117, 1234132, 1234189, 1234209, 1234219, 1234345, 1234414, 1234441, 1234564, 1234667, 1234721, 1234778, 1234807, 1234826, 1234865, 1234968, 1235055, 1235120, 1235172, 1235263, 1235395, 1235438, 1235456, 1235486, 1235539, 1235560, 1235594, 1235661, 1235781, 1235889, 1235956, 1236058, 1236087, 1236159, 1236200, 1236245, 1236254, 1236295, 1236323, 1236338, 1236369, 1236505, 1236554, 1236641, 1236756, 1236762, 1236775, 1236803, 1236843, 1236887, 1236890, 1236977, 1236982, 1236988, 1237015, 1237186, 1237214, 1237290, 1237292, 1237373, 1237400, 1237465, 1237472, 1237475, 1237538, 1237672, 1237685, 1237691, 1237717, 1237743, 1237802, 1237853, 1237904, 1237943, 1237951, 1237955, 1237960, 1237994, 1238017, 1238132, 1238176, 1238179, 1238226, 1238299, 1238396, 1238418, 1238442, 1238483, 1238543, 1238548, 1238570, 1238607, 1238702, 1238767, 1238781, 1238784, 1238788, 1238834, 1238855, 1238960, 1238993, 1239017, 1239093, 1239105, 1239149, 1239169, 1239174, 1239179, 1239296, 1239344, 1239351, 1239501, 1239524, 1239545, 1239558, 1239637, 1239687, 1239758, 1239762, 1239769, 1239778, 1239799, 1239831, 1239848, 1239853, 1239867, 1239944, 1239952, 1240062, 1240203, 1240213, 1240262, 1240357, 1240426, 1240427, 1240438, 1240487, 1240497, 1240580, 1240630, 1240818, 1240863, 1240957, 1241036, 1241103, 1241190, 1241211, 1241216, 1241225, 1241356, 1241504, 1241593, 1241613, 1241694, 1241786, 1241954, 1241964, 1242024, 1242035, 1242123, 1242154, 1242167, 1242276, 1242295, 1242305, 1242345, 1242375, 1242403, 1242406, 1242459, 1242470, 1242484, 1242549, 1242619, 1242621, 1242631, 1242656, 1242708, 1242719, 1242722, 1242880, 1242985, 1243004, 1243060, 1243159, 1243177, 1243226, 1243232, 1243293, 1243310, 1243365, 1243565, 1243600, 1243637, 1243671, 1243813, 1243922, 1244068, 1244107, 1244109, 1244138, 1244148, 1244212, 1244243, 1244283, 1244344, 1244392, 1244405, 1244433, 1244506, 1244587, 1244651, 1244700, 1244717, 1244763, 1244794, 1244830, 1244854, 1244889, 1244902, 1244936, 1244953, 1245053, 1245078, 1245091, 1245108, 1245125, 1245171, 1245328, 1245354, 1245364, 1245373, 1245475, 1245482, 1245506, 1245637, 1245727, 1245824, 1245953, 1246055, 1246097, 1246160, 1246180, 1246235, 1246286, 1246303, 1246405, 1246424, 1246553, 1246585, 1246637, 1246697, 1246756, 1246771, 1246892, 1246976, 1246988, 1247068, 1247071, 1247083, 1247111, 1247128, 1247133, 1247258, 1247301, 1247311, 1247375, 1247392, 1247402, 1247504, 1247513, 1247601, 1247760, 1247824, 1247880, 1247894, 1247917, 1247922, 1248026, 1248031, 1248045, 1248272, 1248449, 1248462, 1248514, 1248592, 1248603, 1248726, 1248759, 1248796, 1248836, 1248852, 1248882, 1248883, 1248913, 1248915, 1248933, 1248991, 1249048, 1249171, 1249198, 1249319, 1249367, 1249449, 1249502, 1249671, 1249708, 1249826, 1249835, 1249872, 1249911, 1249938, 1250002, 1250043, 1250085, 1250117, 1250160, 1250198, 1250208, 1250225, 1250259, 1250278, 1250341, 1250352, 1250405, 1250505, 1250598, 1250600, 1250670, 1250768, 1250836, 1250882, 1250927, 1250969, 1251016, 1251029, 1251047, 1251128, 1251133, 1251166, 1251201, 1251244, 1251263, 1251303, 1251384, 1251400, 1251405, 1251406, 1251433, 1251505, 1251538, 1251581, 1251662, 1251723, 1251761, 1251834, 1251852, 1251890, 1251895, 1251901, 1252037, 1252061, 1252081, 1252086, 1252185, 1252332, 1252357, 1252378, 1252406, 1252468, 1252566, 1252682, 1252690, 1252701, 1252757, 1252792, 1252802, 1252808, 1252951, 1252953, 1253009, 1253144, 1253223, 1253240, 1253264, 1253326, 1253459, 1253528, 1253556, 1253583, 1253625, 1253684, 1253721, 1253722, 1253734, 1253780, 1253831, 1253928, 1253929, 1253989, 1254052, 1254141, 1254221, 1254265, 1254319, 1254399, 1254517, 1254592, 1254607, 1254630, 1254642, 1254647, 1254649, 1254665, 1254709, 1254878, 1254885, 1254917, 1254991, 1255172, 1255191, 1255243, 1255391, 1255419, 1255476, 1255501, 1255631, 1255709, 1255716, 1255867, 1255901, 1255910, 1255972, 1256008, 1256111, 1256212, 1256232, 1256241, 1256242, 1256500, 1256606, 1256621, 1256631, 1256719, 1256757, 1256759, 1256802, 1256913, 1256915, 1256932, 1256977, 1257009, 1257091, 1257156, 1257160, 1257223, 1257288, 1257293, 1257388, 1257391, 1257392, 1257403, 1257425, 1257475, 1257510, 1257544, 1257606, 1257615, 1257627, 1258092, 1258280, 1258286, 1258418, 1258445, 1258517, 1258519, 1258555, 1258594, 1258624, 1258661, 1258677, 1258693, 1258723, 1258744, 1258769, 1258831, 1258911, 1258944, 1258984, 1259069, 1259087, 1259136, 1259202, 1259317, 1259331, 1259334, 1259356, 1259364, 1259409, 1259414, 1259472, 1259473, 1259482, 1259540, 1259650, 1259668, 1259711, 1259798, 1259848, 1259911, 1259960, 1260020, 1260327, 1260343, 1260354, 1260363, 1260452, 1260467, 1260578, 1260635, 1260637, 1260692, 1260821, 1260870, 1260880, 1260894, 1260903, 1260915, 1260928, 1260937, 1260995, 1261104, 1261212, 1261218, 1261262, 1261374, 1261376, 1261392, 1261404, 1261525, 1261546, 1261568, 1261578, 1261625, 1261664, 1261705, 1261709, 1261733, 1261763, 1261826, 1261872, 1261897, 1261904, 1261917, 1261939, 1262018, 1262051, 1262099, 1262120, 1262189, 1262215, 1262268, 1262280, 1262371, 1262384, 1262525, 1262540, 1262551, 1262575, 1262587, 1262617, 1262628, 1262640, 1262702, 1262704, 1262731, 1262735, 1262790, 1262995, 1263048, 1263072, 1263108, 1263309, 1263398, 1263478, 1263550, 1263605, 1263639, 1263666, 1263669, 1263710, 1263747, 1263763, 1263874, 1263892, 1263928, 1263976, 1264050, 1264069, 1264167, 1264172, 1264204, 1264241, 1264262, 1264263, 1264311, 1264313, 1264437, 1264496, 1264522, 1264560, 1264631, 1264698, 1264700, 1264728, 1264758, 1264792, 1264794, 1264918, 1264922, 1264947, 1264954, 1264990, 1265137, 1265140, 1265248, 1265290, 1265336, 1265373, 1265391, 1265512, 1265683, 1265735, 1265775, 1265785, 1265877, 1265897, 1265919, 1265994, 1266010, 1266173, 1266193, 1266234, 1266287, 1266359, 1266366, 1266677, 1266702, 1266705, 1266708, 1266806, 1266807, 1266809, 1266848, 1266865, 1266873, 1266927, 1266956, 1266999, 1267048, 1267051, 1267078, 1267116, 1267119, 1267136, 1267151, 1267173, 1267228, 1267230, 1267245, 1267258, 1267298, 1267638, 1267685, 1267706, 1267851, 1267888, 1267968, 1268016, 1268052, 1268065, 1268076, 1268096, 1268170, 1268222, 1268309, 1268344, 1268383, 1268472, 1268505, 1268524, 1268531, 1268632, 1268685, 1268734, 1268743, 1268862, 1268903, 1269116, 1269123, 1269154, 1269219, 1269221, 1269277, 1269323, 1269344, 1269470, 1269531, 1269599, 1269600, 1269658, 1269683, 1269696, 1269912, 1269953, 1269979, 1269984, 1270012, 1270038, 1270043, 1270104, 1270123, 1270145, 1270177, 1270293, 1270439, 1270457, 1270520, 1270528, 1270553, 1270604, 1270619, 1270623, 1270634, 1270691, 1270694, 1270707, 1270762, 1270873, 1270929, 1270975, 1271034, 1271050, 1271101, 1271131, 1271142, 1271281, 1271315, 1271466, 1271472, 1271526, 1271630, 1271649, 1271701, 1271733, 1271754, 1271767, 1271776, 1271781, 1271836, 1271952, 1272117, 1272214, 1272333, 1272370, 1272384, 1272398, 1272492, 1272510, 1272628, 1272702, 1272722, 1272772, 1272801, 1272847, 1272923, 1272952, 1272964, 1273049, 1273215, 1273367, 1273409, 1273517, 1273546, 1273605, 1273656, 1273695, 1273703, 1273719, 1273760, 1273770, 1273863, 1273890, 1273977, 1273989, 1274081, 1274120, 1274188, 1274224, 1274229, 1274237, 1274260, 1274297, 1274353, 1274516, 1274529, 1274545, 1274558, 1274574, 1274575, 1274577, 1274634, 1274701, 1274722, 1274743, 1274770, 1274865, 1274878, 1274888, 1274903, 1274966, 1275054, 1275182, 1275283, 1275336, 1275376, 1275485, 1275524, 1275563, 1275569, 1275588, 1275662, 1275663, 1275776, 1275787, 1275824, 1275835, 1275861, 1275871, 1275946, 1275991, 1276081, 1276131, 1276151, 1276172, 1276242, 1276257, 1276289, 1276365, 1276388, 1276466, 1276506, 1276698, 1276729, 1276780, 1276789, 1276792, 1276797, 1276839, 1276895, 1276904, 1277153, 1277220, 1277228, 1277290, 1277344, 1277377, 1277383, 1277465, 1277509, 1277602, 1277608, 1277662, 1277704, 1277706, 1277715, 1277719, 1277730, 1277815, 1277893, 1277897, 1277908, 1277917, 1277994, 1278021, 1278022, 1278113, 1278142, 1278199, 1278238, 1278367, 1278423, 1278463, 1278476, 1278596, 1278610, 1278635, 1278671, 1278679, 1278748, 1278757, 1278804, 1278822, 1278869, 1278885, 1278897, 1278943, 1278989, 1278998, 1279225, 1279239, 1279311, 1279346, 1279371, 1279440, 1279467, 1279481, 1279504, 1279538, 1279546, 1279620, 1279655, 1279677, 1279732, 1279771, 1279781, 1279817, 1279865, 1279923, 1279996, 1280159, 1280163, 1280180, 1280221, 1280290, 1280369, 1280383, 1280389, 1280446, 1280479, 1280550, 1280558, 1280567, 1280572, 1280586, 1280627, 1280669, 1280704, 1280714, 1280753, 1280829, 1281009, 1281048, 1281073, 1281130, 1281147, 1281269, 1281350, 1281430, 1281448, 1281460, 1281664, 1281665, 1281672, 1281734, 1281741, 1281746, 1281786, 1281851, 1281888, 1281935, 1281948, 1281977, 1281995, 1282108, 1282159, 1282180, 1282291, 1282372, 1282395, 1282403, 1282411, 1282416, 1282422, 1282435, 1282452, 1282470, 1282502, 1282517, 1282539, 1282543, 1282546, 1282658, 1282677, 1282685, 1282766, 1282769, 1282773, 1282815, 1282828, 1282862, 1282866, 1282871, 1282914, 1283105, 1283111, 1283236, 1283252, 1283255, 1283374, 1283378, 1283446, 1283490, 1283505, 1283520, 1283527, 1283612, 1283649, 1283709, 1283830, 1283837, 1283875, 1283905, 1283962, 1283964, 1283998, 1284066, 1284097, 1284116, 1284117, 1284118, 1284133, 1284170, 1284197, 1284314, 1284331, 1284338, 1284431, 1284434, 1284463, 1284465, 1284677, 1284725, 1284764, 1284999, 1285024, 1285041, 1285054, 1285080, 1285098, 1285102, 1285105, 1285106, 1285125, 1285157, 1285230, 1285268, 1285313, 1285440, 1285443, 1285450, 1285470, 1285551, 1285673, 1285704, 1285714, 1285742, 1285817, 1285841, 1285872, 1285899, 1285944, 1286038, 1286092, 1286104, 1286213, 1286260, 1286367, 1286390, 1286394, 1286405, 1286443, 1286485, 1286486, 1286556, 1286558, 1286578, 1286636, 1286642, 1286776, 1286777, 1286798, 1286821, 1286927, 1287110, 1287187, 1287200, 1287212, 1287231, 1287280, 1287476, 1287505, 1287565, 1287659, 1287682, 1287704, 1287728, 1287857, 1287891, 1287954, 1287973, 1288039, 1288103, 1288176, 1288264, 1288312, 1288346, 1288421, 1288456, 1288595, 1288689, 1288709, 1288831, 1288852, 1288888, 1289000, 1289007, 1289021, 1289060, 1289143, 1289156, 1289166, 1289210, 1289211, 1289224, 1289313, 1289318, 1289327, 1289343, 1289388, 1289393, 1289483, 1289485, 1289535, 1289562, 1289569, 1289646, 1289695, 1289705, 1289818, 1289836, 1289839, 1289925, 1289994, 1290031, 1290032, 1290047, 1290050, 1290077, 1290081, 1290114, 1290173, 1290293, 1290324, 1290358, 1290374, 1290375, 1290419, 1290470, 1290480, 1290538, 1290611, 1290625, 1290669, 1290672, 1290859, 1290869, 1290929, 1290931, 1290951, 1290980, 1291018, 1291046, 1291090, 1291239, 1291256, 1291269, 1291343, 1291550, 1291621, 1291629, 1291633, 1291683, 1291812, 1291891, 1291917, 1292055, 1292067, 1292074, 1292176, 1292190, 1292211, 1292223, 1292268, 1292284, 1292404, 1292405, 1292410, 1292456, 1292516, 1292542, 1292565, 1292606, 1292695, 1292740, 1292754, 1292780, 1292944, 1293020, 1293067, 1293109, 1293149, 1293305, 1293359, 1293402, 1293456, 1293473, 1293492, 1293574, 1293588, 1293713, 1293749, 1293794, 1293819, 1293891, 1293892, 1293905, 1293973, 1294034, 1294168, 1294182, 1294307, 1294318, 1294522, 1294676, 1294702, 1294723, 1294772, 1294782, 1294839, 1294924, 1294934, 1294940, 1295039, 1295126, 1295132, 1295143, 1295171, 1295178, 1295201, 1295226, 1295341, 1295425, 1295437, 1295466, 1295468, 1295488, 1295617, 1295634, 1295652, 1295670, 1295673, 1295740, 1295782, 1295921, 1295948, 1296024, 1296039, 1296076, 1296138, 1296143, 1296151, 1296261, 1296310, 1296312, 1296316, 1296373, 1296376, 1296391, 1296421, 1296536, 1296642, 1296703, 1296764, 1296812, 1296820, 1296891, 1296942, 1296966, 1297004, 1297010, 1297063, 1297073, 1297074, 1297089, 1297231, 1297504, 1297543, 1297586, 1297698, 1297736, 1297759, 1297771, 1297822, 1297843, 1297907, 1297912, 1297945, 1297946, 1298067, 1298098, 1298110, 1298300, 1298401, 1298580, 1298686, 1298720, 1298822, 1298853, 1298899, 1298940, 1298973, 1299001, 1299008, 1299058, 1299085, 1299095, 1299145, 1299179, 1299222, 1299223, 1299231, 1299292, 1299323, 1299335, 1299357, 1299378, 1299406, 1299441, 1299476, 1299580, 1299626, 1299644, 1299645, 1299782, 1299857, 1299975, 1300046, 1300127, 1300145, 1300153, 1300185, 1300189, 1300353, 1300368, 1300481, 1300582, 1300636, 1300643, 1300698, 1300699, 1300772, 1300820, 1300848, 1300882, 1300899, 1300979, 1301080, 1301096, 1301223, 1301248, 1301251, 1301269, 1301317, 1301344, 1301360, 1301382, 1301398, 1301444, 1301510, 1301535, 1301608, 1301611, 1301942, 1302035, 1302050, 1302076, 1302078, 1302092, 1302115, 1302137, 1302162, 1302168, 1302178, 1302231, 1302234, 1302270, 1302346, 1302367, 1302441, 1302504, 1302615, 1302690, 1302845, 1302876, 1303073, 1303135, 1303148, 1303176, 1303193, 1303269, 1303313, 1303314, 1303346, 1303378, 1303504, 1303526, 1303628, 1303656, 1303715, 1303759, 1303774, 1303843, 1303888, 1304023, 1304028, 1304077, 1304105, 1304291, 1304310, 1304426, 1304427, 1304459, 1304502, 1304780, 1304792, 1304811, 1304881, 1304893, 1304903, 1304914, 1304954, 1304968, 1305073, 1305094, 1305113, 1305133, 1305291, 1305301, 1305321, 1305357, 1305368, 1305385, 1305399, 1305411, 1305413, 1305415, 1305442, 1305487, 1305555, 1305593, 1305641, 1305700, 1305759, 1305957, 1305963, 1306014, 1306118, 1306119, 1306122, 1306128, 1306142, 1306148, 1306247, 1306276, 1306313, 1306360, 1306363, 1306401, 1306407, 1306409, 1306440, 1306460, 1306474, 1306492, 1306550, 1306555, 1306669, 1306705, 1306706, 1306777, 1306788, 1306827, 1306843, 1306897, 1306975, 1307002, 1307159, 1307226, 1307274, 1307317, 1307318, 1307330, 1307331, 1307369, 1307399, 1307448, 1307461, 1307465, 1307686, 1307712, 1307732, 1307828, 1307849, 1307906, 1307912, 1307919, 1307948, 1307994, 1308021, 1308076, 1308163, 1308169, 1308205, 1308223, 1308236, 1308291, 1308375, 1308451, 1308462, 1308609, 1308695, 1308742, 1308823, 1308824, 1308836, 1308851, 1308895, 1308930, 1309028, 1309033, 1309051, 1309099, 1309110, 1309161, 1309208, 1309222, 1309224, 1309281, 1309417, 1309446, 1309449, 1309478, 1309523, 1309530, 1309543, 1309554, 1309675, 1309805, 1309826, 1309886, 1309920, 1309931, 1310026, 1310034, 1310075, 1310096, 1310180, 1310373, 1310394, 1310472, 1310525, 1310533, 1310723, 1310786, 1310982, 1311053, 1311088, 1311192, 1311211, 1311296, 1311348, 1311396, 1311410, 1311509, 1311607, 1311701, 1311790, 1312024, 1312063, 1312068, 1312078, 1312096, 1312121, 1312140, 1312251, 1312252, 1312296, 1312303, 1312311, 1312314, 1312319, 1312403, 1312461, 1312522, 1312527, 1312533, 1312634, 1312729, 1312792, 1312795, 1312879, 1312888, 1313005, 1313099, 1313160, 1313224, 1313291, 1313447, 1313455, 1313502, 1313539, 1313690, 1313718, 1313766, 1313795, 1314040, 1314089, 1314090, 1314143, 1314228, 1314235, 1314236, 1314291, 1314325, 1314490, 1314564, 1314658, 1314741, 1314757, 1314758, 1314787, 1314800, 1314897, 1315097, 1315136, 1315262, 1315275, 1315302, 1315304, 1315321, 1315343, 1315425, 1315485, 1315622, 1315626, 1315664, 1315680, 1315706, 1315733, 1315744, 1315753, 1315898, 1315950, 1315993, 1316015, 1316199, 1316213, 1316244, 1316283, 1316378, 1316407, 1316412, 1316426, 1316430, 1316593, 1316668, 1316670, 1316707, 1316752, 1316769, 1317005, 1317044, 1317052, 1317081, 1317125, 1317139, 1317181, 1317265, 1317291, 1317320, 1317400, 1317448, 1317451, 1317489, 1317520, 1317534, 1317735, 1317775, 1317821, 1317862, 1317927, 1318124, 1318174, 1318191, 1318196, 1318218, 1318242, 1318251, 1318269, 1318287, 1318316, 1318324, 1318416, 1318421, 1318444, 1318482, 1318525, 1318528, 1318538, 1318547, 1318559, 1318571, 1318574, 1318587, 1318636, 1318742, 1318751, 1318790, 1318829, 1318875, 1318876, 1318895, 1318927, 1318940, 1319026, 1319266, 1319270, 1319271, 1319274, 1319333, 1319345, 1319411, 1319496, 1319499, 1319528, 1319598, 1319645, 1319663, 1319674, 1319715, 1319718, 1319726, 1319730, 1319775, 1319825, 1319866, 1319869, 1319907, 1319939, 1319988, 1320019, 1320051, 1320083, 1320121, 1320148, 1320188, 1320219, 1320277, 1320313, 1320367, 1320410, 1320418, 1320436, 1320470, 1320501, 1320518, 1320572, 1320609, 1320678, 1320710, 1320732, 1320958, 1320960, 1320998, 1321019, 1321039, 1321053, 1321077, 1321161, 1321172, 1321238, 1321277, 1321282, 1321311, 1321318, 1321337, 1321356, 1321357, 1321398, 1321473, 1321502, 1321513, 1321524, 1321667, 1321742, 1321877, 1321928, 1321958, 1322179, 1322181, 1322191, 1322264, 1322309, 1322354, 1322369, 1322453, 1322459, 1322476, 1322505, 1322545, 1322598, 1322613, 1322783, 1322861, 1322914, 1322949, 1322961, 1322962, 1323056, 1323068, 1323081, 1323096, 1323138, 1323160, 1323255, 1323311, 1323337, 1323344, 1323356, 1323375, 1323376, 1323429, 1323440, 1323590, 1323599, 1323675, 1323791, 1323801, 1323825, 1323852, 1323885, 1323899, 1323954, 1323965, 1324022, 1324105, 1324116, 1324232, 1324259, 1324268, 1324281, 1324314, 1324495, 1324499, 1324525, 1324532, 1324671, 1324716, 1324771, 1324792, 1324829, 1324837, 1324844, 1324851, 1324918, 1324974, 1324988, 1325106, 1325170, 1325185, 1325192, 1325223, 1325272, 1325291, 1325338, 1325372, 1325378, 1325407, 1325416, 1325473, 1325520, 1325621, 1325676, 1325749, 1325760, 1325766, 1325839, 1325846, 1325995, 1326052, 1326146, 1326170, 1326224, 1326396, 1326443, 1326486, 1326624, 1326663, 1326770, 1326828, 1326860, 1326918, 1327024, 1327092, 1327158, 1327159, 1327173, 1327175, 1327210, 1327233, 1327307, 1327319, 1327434, 1327459, 1327500, 1327505, 1327520, 1327764, 1327868, 1327873, 1327882, 1327920, 1328036, 1328090, 1328160, 1328213, 1328534, 1328571, 1328586, 1328645, 1328684, 1328738, 1328792, 1328817, 1328883, 1328974, 1329020, 1329097, 1329157, 1329188, 1329200, 1329228, 1329239, 1329293, 1329377, 1329400, 1329402, 1329493, 1329527, 1329528, 1329567, 1329640, 1329717, 1329724, 1329899, 1330017, 1330106, 1330111, 1330159, 1330306, 1330331, 1330378, 1330405, 1330406, 1330562, 1330591, 1330653, 1330655, 1330705, 1330707, 1330719, 1330743, 1330754, 1330856, 1330869, 1330913, 1331017, 1331052, 1331100, 1331136, 1331172, 1331216, 1331235, 1331268, 1331300, 1331326, 1331414, 1331415, 1331544, 1331603, 1331682, 1331705, 1331712, 1331721, 1331738, 1331761, 1331808, 1331825, 1331836, 1331837, 1331897, 1331967, 1332037, 1332048, 1332061, 1332065, 1332207, 1332215, 1332217, 1332383, 1332516, 1332525, 1332567, 1332568, 1332585, 1332792, 1332921, 1332951, 1332991, 1333013, 1333266, 1333292, 1333326, 1333379, 1333411, 1333446, 1333511, 1333521, 1333526, 1333587, 1333789, 1333893, 1334043, 1334062, 1334074, 1334177, 1334193, 1334233, 1334328, 1334335, 1334479, 1334558, 1334641, 1334761, 1334874, 1334996, 1335218, 1335230, 1335269, 1335285, 1335330, 1335425, 1335444, 1335462, 1335515, 1335528, 1335547, 1335595, 1335620, 1335722, 1335742, 1335829, 1335830, 1335845, 1335933, 1336003, 1336024, 1336044, 1336084, 1336095, 1336097, 1336144, 1336154, 1336321, 1336393, 1336415, 1336434, 1336565, 1336632, 1336651, 1336841, 1336851, 1336884, 1336961, 1337023, 1337070, 1337089, 1337241, 1337307, 1337437, 1337553, 1337562, 1337678, 1337750, 1337864, 1337918, 1337964, 1337983, 1337998, 1338080, 1338099, 1338419, 1338424, 1338575, 1338576, 1338639, 1338701, 1338739, 1338742, 1338901, 1338972, 1338993, 1339013, 1339014, 1339108, 1339185, 1339219, 1339232, 1339292, 1339424, 1339428, 1339450, 1339454, 1339462, 1339496, 1339519, 1339527, 1339528, 1339555, 1339591, 1339642, 1339701, 1339705, 1339747, 1339794, 1339802, 1339851, 1339873, 1339930, 1339989, 1340021, 1340026, 1340062, 1340078, 1340192, 1340228, 1340254, 1340268, 1340312, 1340451, 1340488, 1340500, 1340527, 1340552, 1340582, 1340589, 1340765, 1340783, 1340797, 1340813, 1340841, 1340874, 1340900, 1340931, 1340955, 1340984, 1341187, 1341198, 1341316, 1341318, 1341362, 1341390, 1341391, 1341413, 1341416, 1341457, 1341725, 1341748, 1341828, 1341843, 1341859, 1341904, 1341910, 1341964, 1342019, 1342121, 1342129, 1342155, 1342173, 1342222, 1342224, 1342293, 1342303, 1342347, 1342421, 1342477, 1342487, 1342608, 1342719, 1342733, 1342760, 1342954, 1343004, 1343016, 1343079, 1343311, 1343331, 1343335, 1343343, 1343409, 1343479, 1343516, 1343546, 1343695, 1343699, 1343783, 1343800, 1343856, 1343928, 1343930, 1344108, 1344246, 1344277, 1344385, 1344386, 1344466, 1344540, 1344558, 1344581, 1344583, 1344603, 1344613, 1344627, 1344652, 1344773, 1344775, 1344815, 1344830, 1344871, 1344894, 1345005, 1345129, 1345181, 1345220, 1345223, 1345252, 1345360, 1345362, 1345441, 1345534, 1345631, 1345647, 1345657, 1345692, 1345715, 1345719, 1345723, 1345769, 1345793, 1345805, 1345811, 1345906, 1345926, 1346005, 1346008, 1346153, 1346188, 1346259, 1346302, 1346428, 1346430, 1346451, 1346492, 1346514, 1346550, 1346579, 1346617, 1346621, 1346628, 1346707, 1346720, 1346732, 1346742, 1346818, 1346819, 1346820, 1346918, 1346935, 1346956, 1347005, 1347027, 1347107, 1347178, 1347221, 1347280, 1347355, 1347477, 1347588, 1347608, 1347624, 1347628, 1347761, 1347769, 1347847, 1347892, 1347911, 1347950, 1348016, 1348074, 1348102, 1348111, 1348155, 1348230, 1348248, 1348276, 1348312, 1348328, 1348338, 1348474, 1348530, 1348558, 1348600, 1348641, 1348665, 1348761, 1348804, 1348825, 1348872, 1348905, 1348989, 1349048, 1349125, 1349167, 1349198, 1349213, 1349225, 1349230, 1349256, 1349262, 1349276, 1349316, 1349330, 1349375, 1349422, 1349500, 1349631, 1349690, 1349711, 1349721, 1349751, 1349765, 1349766, 1349787, 1349812, 1349819, 1349879, 1349900, 1349908, 1349998, 1350055, 1350125, 1350136, 1350164, 1350258, 1350265, 1350292, 1350323, 1350389, 1350445, 1350466, 1350550, 1350559, 1350641, 1350644, 1350657, 1350659, 1350675, 1350760, 1350797, 1350828, 1350912, 1351049, 1351085, 1351094, 1351163, 1351230, 1351235, 1351348, 1351420, 1351478, 1351492, 1351523, 1351568, 1351646, 1351716, 1351723, 1351735, 1351764, 1351971, 1352062, 1352067, 1352092, 1352129, 1352144, 1352148, 1352196, 1352199, 1352262, 1352388, 1352447, 1352471, 1352525, 1352540, 1352545, 1352573, 1352640, 1352657, 1352674, 1352697, 1352725, 1352751, 1352754, 1353242, 1353247, 1353298, 1353322, 1353399, 1353420, 1353509, 1353542, 1353615, 1353632, 1353651, 1353706, 1353755, 1353776, 1353784, 1353798, 1353840, 1353889, 1353914, 1353930, 1353946, 1353983, 1354002, 1354240, 1354279, 1354327, 1354334, 1354339, 1354399, 1354472, 1354482, 1354499, 1354504, 1354598, 1354659, 1354766, 1354778, 1354951, 1354955, 1354981, 1355011, 1355122, 1355234, 1355271, 1355318, 1355568, 1355620, 1355636, 1355661, 1355696, 1355704, 1355730, 1355867, 1355975, 1355984, 1355998, 1356108, 1356147, 1356167, 1356201, 1356204, 1356337, 1356370, 1356392, 1356438, 1356440, 1356466, 1356483, 1356504, 1356523, 1356527, 1356529, 1356538, 1356566, 1356824, 1356881, 1356899, 1356994, 1357175, 1357177, 1357186, 1357235, 1357405, 1357411, 1357439, 1357458, 1357474, 1357485, 1357549, 1357574, 1357627, 1357628, 1357729, 1357776, 1357792, 1357832, 1357844, 1357920, 1357940, 1357950, 1357959, 1357990, 1358013, 1358020, 1358075, 1358146, 1358150, 1358326, 1358335, 1358340, 1358500, 1358534, 1358554, 1358556, 1358667, 1358685, 1358765, 1358794, 1358817, 1358848, 1358849, 1359040, 1359109, 1359255, 1359341, 1359385, 1359440, 1359493, 1359527, 1359597, 1359622, 1359657, 1359666, 1359683, 1359740, 1359796, 1359826, 1359843, 1359880, 1359925, 1359927, 1359953, 1359971, 1360084, 1360085, 1360103, 1360116, 1360119, 1360265, 1360282, 1360387, 1360396, 1360424, 1360440, 1360443, 1360450, 1360472, 1360606, 1360636, 1360718, 1360724, 1360854, 1360943, 1361103, 1361142, 1361186, 1361261, 1361275, 1361289, 1361294, 1361543, 1361561, 1361592, 1361687, 1361768, 1361776, 1361832, 1361918, 1361953, 1361986, 1362066, 1362123, 1362132, 1362256, 1362577, 1362601, 1362603, 1362617, 1362668, 1362714, 1362717, 1362737, 1362758, 1362764, 1362768, 1363009, 1363045, 1363101, 1363127, 1363150, 1363179, 1363274, 1363358, 1363454, 1363631, 1363689, 1363694, 1363777, 1363811, 1363860, 1363906, 1363962, 1364020, 1364074, 1364091, 1364124, 1364140, 1364177, 1364231, 1364263, 1364273, 1364299, 1364406, 1364519, 1364535, 1364731, 1364734, 1364821, 1364833, 1364992, 1365003, 1365045, 1365047, 1365090, 1365097, 1365182, 1365194, 1365197, 1365217, 1365259, 1365307, 1365329, 1365496, 1365499, 1365512, 1365517, 1365553, 1365567, 1365584, 1365604, 1365638, 1365773, 1365846, 1365907, 1365927, 1365928, 1365940, 1365975, 1365988, 1365990, 1366019, 1366113, 1366155, 1366173, 1366200, 1366230, 1366251, 1366280, 1366296, 1366367, 1366494, 1366501, 1366512, 1366584, 1366586, 1366708, 1366743, 1366816, 1366865, 1366887, 1366927, 1366934, 1366960, 1367011, 1367110, 1367138, 1367271, 1367286, 1367351, 1367410, 1367462, 1367466, 1367543, 1367635, 1367645, 1367646, 1367739, 1367804, 1367820, 1367845, 1367871, 1367957, 1367966, 1368017, 1368052, 1368064, 1368110, 1368143, 1368219, 1368314, 1368336, 1368396, 1368424, 1368559, 1368629, 1368686, 1368694, 1368753, 1368787, 1368794, 1368814, 1368841, 1368914, 1368937, 1368953, 1368987, 1369016, 1369195, 1369196, 1369244, 1369263, 1369300, 1369302, 1369307, 1369319, 1369378, 1369480, 1369520, 1369845, 1369875, 1369928, 1369955, 1369972, 1370091, 1370098, 1370125, 1370226, 1370283, 1370329, 1370358, 1370380, 1370458, 1370514, 1370573, 1370575, 1370700, 1370729, 1370733, 1370816, 1370958, 1371004, 1371091, 1371110, 1371202, 1371220, 1371256, 1371312, 1371354, 1371480, 1371489, 1371533, 1371554, 1371602, 1371610, 1371621, 1371624, 1371760, 1371881, 1371947, 1371962, 1372138, 1372233, 1372264, 1372286, 1372315, 1372341, 1372355, 1372417, 1372423, 1372467, 1372479, 1372541, 1372547, 1372558, 1372565, 1372719, 1372747, 1372775, 1372792, 1372868, 1372870, 1372955, 1372958, 1372961, 1372962, 1372982, 1373048, 1373053, 1373159, 1373201, 1373254, 1373275, 1373460, 1373487, 1373498, 1373518, 1373524, 1373551, 1373595, 1373672, 1373855, 1373874, 1373992, 1374160, 1374187, 1374307, 1374446, 1374487, 1374511, 1374566, 1374611, 1374624, 1374639, 1374656, 1374659, 1374683, 1374726, 1374746, 1374756, 1375005, 1375033, 1375052, 1375063, 1375068, 1375098, 1375101, 1375119, 1375145, 1375264, 1375285, 1375327, 1375334, 1375456, 1375483, 1375561, 1375584, 1375679, 1375786, 1375845, 1375848, 1375864, 1375879, 1375970, 1375977, 1376001, 1376046, 1376203, 1376205, 1376356, 1376361, 1376426, 1376436, 1376448, 1376464, 1376476, 1376698, 1376706, 1376773, 1376810, 1376969, 1377262, 1377298, 1377372, 1377504, 1377588, 1377674, 1377719, 1377722, 1377818, 1377904, 1377936, 1377969, 1377971, 1377990, 1378037, 1378052, 1378143, 1378170, 1378181, 1378314, 1378336, 1378393, 1378398, 1378457, 1378583, 1378614, 1378668, 1378713, 1378716, 1378733, 1378818, 1378821, 1378825, 1378902, 1378941, 1379008, 1379013, 1379021, 1379031, 1379054, 1379062, 1379079, 1379108, 1379264, 1379287, 1379298, 1379356, 1379574, 1379610, 1379675, 1379695, 1379772, 1379793, 1379810, 1379912, 1379917, 1379920, 1380094, 1380178, 1380189, 1380253, 1380312, 1380413, 1380429, 1380437, 1380529, 1380551, 1380560, 1380567, 1380698, 1380742, 1380754, 1380836, 1381081, 1381220, 1381307, 1381358, 1381432, 1381442, 1381491, 1381496, 1381558, 1381732, 1381867, 1381944, 1382009, 1382055, 1382097, 1382148, 1382154, 1382300, 1382311, 1382328, 1382473, 1382559, 1382563, 1382594, 1382603, 1382763, 1382925, 1382930, 1382952, 1382955, 1383044, 1383087, 1383096, 1383140, 1383158, 1383166, 1383237, 1383238, 1383331, 1383398, 1383422, 1383471, 1383529, 1383581, 1383594, 1383625, 1383626, 1383641, 1383646, 1383662, 1383688, 1383748, 1383755, 1383770, 1383779, 1383846, 1383877, 1383948, 1384014, 1384129, 1384184, 1384286, 1384313, 1384383, 1384440, 1384487, 1384502, 1384504, 1384551, 1384679, 1384711, 1384723, 1384738, 1384851, 1384893, 1384927, 1384967, 1385004, 1385095, 1385141, 1385170, 1385344, 1385509, 1385530, 1385574, 1385606, 1385682, 1385690, 1385696, 1385737, 1385778, 1385787, 1385860, 1385861, 1385908, 1385917, 1385997, 1386038, 1386103, 1386188, 1386292, 1386373, 1386491, 1386503, 1386645, 1386670, 1386734, 1386756, 1386759, 1386814, 1386833, 1386869, 1386878, 1386885, 1386900, 1386923, 1387002, 1387055, 1387086, 1387092, 1387108, 1387224, 1387246, 1387440, 1387499, 1387516, 1387546, 1387608, 1387622, 1387682, 1387782, 1387898, 1387968, 1387982, 1388050, 1388052, 1388103, 1388200, 1388216, 1388221, 1388309, 1388359, 1388444, 1388456, 1388478, 1388492, 1388493, 1388598, 1388637, 1388765, 1388809, 1388912, 1388954, 1388986, 1389014, 1389118, 1389158, 1389163, 1389166, 1389192, 1389295, 1389344, 1389372, 1389406, 1389421, 1389460, 1389468, 1389471, 1389499, 1389568, 1389571, 1389586, 1389597, 1389609, 1389643, 1389687, 1389738, 1389784, 1389802, 1389831, 1390060, 1390093, 1390152, 1390154, 1390223, 1390273, 1390280, 1390324, 1390327, 1390524, 1390532, 1390605, 1390616, 1390667, 1390765, 1390791, 1390816, 1390858, 1390864, 1390892, 1391051, 1391123, 1391129, 1391196, 1391328, 1391340, 1391348, 1391351, 1391374, 1391384, 1391416, 1391455, 1391476, 1391646, 1391700, 1391837, 1391889, 1392029, 1392065, 1392141, 1392149, 1392158, 1392194, 1392223, 1392261, 1392271, 1392480, 1392506, 1392533, 1392567, 1392569, 1392639, 1392682, 1392811, 1392815, 1392895, 1393042, 1393132, 1393184, 1393273, 1393288, 1393378, 1393387, 1393473, 1393525, 1393532, 1393758, 1393781, 1393872, 1393897, 1393945, 1393958, 1393975, 1394029, 1394050, 1394075, 1394096, 1394099, 1394137, 1394214, 1394217, 1394249, 1394304, 1394432, 1394442, 1394490, 1394769, 1394862, 1394870, 1394951, 1394967, 1394969, 1394981, 1395043, 1395091, 1395153, 1395176, 1395291, 1395376, 1395423, 1395484, 1395485, 1395505, 1395509, 1395646, 1395816, 1395849, 1395852, 1395891, 1395941, 1395942, 1396096, 1396190, 1396207, 1396335, 1396380, 1396405, 1396419, 1396429, 1396437, 1396458, 1396530, 1396574, 1396645, 1396675, 1396713, 1396749, 1396828, 1396869, 1396895, 1396986, 1396996, 1397070, 1397183, 1397206, 1397226, 1397266, 1397285, 1397310, 1397363, 1397476, 1397575, 1397606, 1397611, 1397628, 1397720, 1397806, 1397834, 1397849, 1397853, 1397854, 1397865, 1397872, 1397878, 1397889, 1397917, 1397920, 1397939, 1397975, 1397980, 1397987, 1398020, 1398045, 1398065, 1398084, 1398160, 1398206, 1398311, 1398448, 1398497, 1398537, 1398785, 1398791, 1398831, 1398925, 1399074, 1399230, 1399239, 1399284, 1399350, 1399438, 1399497, 1399527, 1399633, 1399753, 1399777, 1399843, 1399894, 1399896, 1399912, 1399932, 1399950, 1399967, 1400132, 1400176, 1400205, 1400207, 1400248, 1400328, 1400334, 1400377, 1400452, 1400476, 1400507, 1400633, 1400682, 1400752, 1400786, 1400796, 1400806, 1400903, 1400929, 1400982, 1401030, 1401109, 1401154, 1401174, 1401230, 1401264, 1401342, 1401370, 1401429, 1401434, 1401490, 1401504, 1401509, 1401637, 1401693, 1401732, 1401766, 1402081, 1402133, 1402169, 1402192, 1402199, 1402246, 1402254, 1402259, 1402268, 1402400, 1402464, 1402537, 1402634, 1402846, 1402881, 1402939, 1403184, 1403238, 1403322, 1403339, 1403493, 1403514, 1403521, 1403545, 1403616, 1403849, 1403898, 1404034, 1404070, 1404089, 1404094, 1404100, 1404215, 1404256, 1404270, 1404300, 1404373, 1404411, 1404431, 1404463, 1404553, 1404616, 1404617, 1404685, 1404703, 1404718, 1404857, 1404932, 1404959, 1404962, 1405119, 1405207, 1405266, 1405280, 1405307, 1405369, 1405390, 1405500, 1405657, 1405693, 1405698, 1405736, 1405784, 1405794, 1405864, 1405876, 1405913, 1405972, 1406160, 1406183, 1406219, 1406246, 1406326, 1406354, 1406409, 1406418, 1406545, 1406561, 1406660, 1406666, 1406673, 1406697, 1406714, 1406737, 1406769, 1406788, 1406859, 1406974, 1406979, 1406992, 1407032, 1407074, 1407089, 1407150, 1407159, 1407189, 1407265, 1407317, 1407428, 1407467, 1407474, 1407685, 1407757, 1407803, 1407869, 1407878, 1407906, 1407913, 1407971, 1408138, 1408144, 1408173, 1408184, 1408228, 1408270, 1408345, 1408412, 1408458, 1408465, 1408571, 1408655, 1408703, 1408717, 1408747, 1408752, 1408789, 1408793, 1408844, 1408909, 1408937, 1408953, 1408963, 1409069, 1409106, 1409214, 1409219, 1409280, 1409297, 1409315, 1409341, 1409360, 1409391, 1409409, 1409416, 1409430, 1409432, 1409481, 1409495, 1409521, 1409568, 1409606, 1409629, 1409660, 1409672, 1409725, 1409832, 1409855, 1409884, 1409937, 1409943, 1410131, 1410234, 1410256, 1410283, 1410289, 1410370, 1410436, 1410500, 1410505, 1410544, 1410571, 1410590, 1410660, 1410672, 1410675, 1410784, 1410788, 1410797, 1410863, 1411029, 1411097, 1411179, 1411269, 1411324, 1411340, 1411384, 1411388, 1411447, 1411486, 1411563, 1411604, 1411629, 1411634, 1411644, 1411656, 1411672, 1411747, 1411748, 1411819, 1411965, 1411970, 1412223, 1412262, 1412269, 1412334, 1412336, 1412393, 1412413, 1412451, 1412555, 1412589, 1412639, 1412672, 1412702, 1412777, 1412783, 1412792, 1412801, 1412827, 1413049, 1413086, 1413099, 1413105, 1413200, 1413203, 1413217, 1413295, 1413344, 1413368, 1413430, 1413437, 1413507, 1413526, 1413610, 1413643, 1413664, 1413696, 1413725, 1413949, 1414026, 1414145, 1414151, 1414188, 1414255, 1414298, 1414390, 1414418, 1414423, 1414471, 1414557, 1414564, 1414620, 1414768, 1414864, 1414918, 1414977, 1414992, 1415116, 1415230, 1415262, 1415414, 1415459, 1415584, 1415614, 1415634, 1415746, 1415888, 1415914, 1415918, 1415984, 1416008, 1416039, 1416055, 1416145, 1416187, 1416190, 1416235, 1416291, 1416395, 1416452, 1416550, 1416659, 1416703, 1416764, 1416781, 1416843, 1416885, 1416901, 1416998, 1417004, 1417090, 1417244, 1417281, 1417297, 1417323, 1417337, 1417353, 1417508, 1417649, 1417706, 1417727, 1417738, 1417794, 1417856, 1417870, 1417922, 1417929, 1418082, 1418087, 1418169, 1418204, 1418210, 1418304, 1418317, 1418402, 1418432, 1418433, 1418440, 1418462, 1418649, 1418807, 1418860, 1418896, 1418931, 1419001, 1419040, 1419044, 1419106, 1419136, 1419144, 1419153, 1419178, 1419311, 1419312, 1419409, 1419424, 1419432, 1419474, 1419662, 1419695, 1419761, 1419791, 1419806, 1419849, 1419865, 1419932, 1419981, 1420033, 1420103, 1420113, 1420126, 1420149, 1420152, 1420193, 1420227, 1420240, 1420244, 1420400, 1420411, 1420421, 1420426, 1420460, 1420480, 1420568, 1420623, 1420624, 1420742, 1420754, 1420780, 1420846, 1420924, 1420931, 1420983, 1420996, 1421125, 1421159, 1421202, 1421276, 1421348, 1421427, 1421436, 1421489, 1421518, 1421530, 1421644, 1421684, 1421694, 1421822, 1421849, 1421852, 1421946, 1421960, 1421968, 1422004, 1422022, 1422023, 1422041, 1422054, 1422089, 1422094, 1422177, 1422224, 1422231, 1422248, 1422260, 1422324, 1422371, 1422421, 1422497, 1422549, 1422660, 1422701, 1422722, 1422801, 1422815, 1422870, 1422931, 1422957, 1423032, 1423066, 1423084, 1423089, 1423092, 1423110, 1423155, 1423163, 1423208, 1423220, 1423244, 1423285, 1423306, 1423457, 1423547, 1423561, 1423562, 1423610, 1423643, 1423651, 1423717, 1423746, 1423752, 1423793, 1423853, 1423866, 1423964, 1424250, 1424343, 1424344, 1424346, 1424366, 1424382, 1424394, 1424467, 1424498, 1424574, 1424592, 1424602, 1424634, 1424674, 1424695, 1424756, 1424765, 1424836, 1424848, 1424912, 1425027, 1425074, 1425127, 1425169, 1425196, 1425212, 1425220, 1425275, 1425545, 1425556, 1425606, 1425611, 1425703, 1425725, 1425951, 1425954, 1426053, 1426153, 1426169, 1426198, 1426242, 1426360, 1426368, 1426375, 1426436, 1426456, 1426485, 1426527, 1426624, 1426634, 1426651, 1426672, 1426702, 1426706, 1426739, 1426766, 1426804, 1426894, 1426958, 1427037, 1427096, 1427139, 1427214, 1427324, 1427342, 1427360, 1427401, 1427405, 1427407, 1427717, 1427732, 1427875, 1427884, 1427916, 1427938, 1427987, 1427991, 1428059, 1428116, 1428162, 1428171, 1428194, 1428210, 1428228, 1428270, 1428274, 1428321, 1428336, 1428373, 1428471, 1428578, 1428631, 1428661, 1428694, 1428727, 1428734, 1428750, 1428795, 1428802, 1428833, 1428872, 1428879, 1428931, 1429038, 1429064, 1429132, 1429145, 1429203, 1429210, 1429223, 1429246, 1429322, 1429348, 1429351, 1429404, 1429465, 1429502, 1429533, 1429535, 1429651, 1429677, 1429700, 1429721, 1429722, 1429725, 1429836, 1429851, 1429873, 1429878, 1430046, 1430059, 1430060, 1430126, 1430154, 1430237, 1430240, 1430297, 1430479, 1430737, 1430752, 1430805, 1430842, 1431045, 1431060, 1431205, 1431319, 1431333, 1431339, 1431381, 1431407, 1431498, 1431550, 1431553, 1431661, 1431697, 1431738, 1431788, 1431923, 1432002, 1432005, 1432116, 1432464, 1432519, 1432544, 1432550, 1432554, 1432562, 1432572, 1432619, 1432684, 1432724, 1432749, 1432877, 1432907, 1433020, 1433089, 1433094, 1433235, 1433290, 1433336, 1433359, 1433363, 1433443, 1433501, 1433523, 1433537, 1433613, 1433620, 1433669, 1433672, 1433707, 1433732, 1433807, 1433868, 1433903, 1434015, 1434192, 1434333, 1434530, 1434586, 1434624, 1434650, 1434678, 1434826, 1434837, 1434842, 1434892, 1434963, 1434975, 1434997, 1435081, 1435096, 1435113, 1435430, 1435482, 1435627, 1435648, 1435669, 1435828, 1435863, 1435869, 1435872, 1436002, 1436022, 1436041, 1436111, 1436166, 1436207, 1436222, 1436262, 1436280, 1436302, 1436356, 1436422, 1436425, 1436490, 1436508, 1436602, 1436742, 1436863, 1436886, 1436904, 1436959, 1437014, 1437015, 1437037, 1437086, 1437092, 1437110, 1437206, 1437231, 1437269, 1437370, 1437391, 1437425, 1437468, 1437500, 1437591, 1437626, 1437627, 1437872, 1437922, 1437973, 1438043, 1438069, 1438114, 1438133, 1438305, 1438323, 1438339, 1438360, 1438374, 1438405, 1438406, 1438487, 1438528, 1438538, 1438551, 1438656, 1438693, 1438697, 1438706, 1438722, 1438762, 1438867, 1438886, 1438890, 1438932, 1439036, 1439045, 1439061, 1439071, 1439080, 1439173, 1439214, 1439279, 1439323, 1439340, 1439427, 1439580, 1439623, 1439730, 1439748, 1439778, 1439805, 1439820, 1439851, 1439896, 1440017, 1440101, 1440236, 1440288, 1440336, 1440414, 1440439, 1440466, 1440584, 1440605, 1441072, 1441107, 1441150, 1441153, 1441215, 1441252, 1441256, 1441260, 1441266, 1441288, 1441312, 1441352, 1441363, 1441454, 1441471, 1441509, 1441529, 1441591, 1441634, 1441652, 1441740, 1441749, 1441754, 1441755, 1441819, 1441885, 1441988, 1441994, 1442016, 1442051, 1442087, 1442213, 1442331, 1442418, 1442620, 1442654, 1442770, 1442933, 1442957, 1443008, 1443059, 1443111, 1443129, 1443224, 1443271, 1443394, 1443404, 1443528, 1443597, 1443606, 1443628, 1443662, 1443688, 1443690, 1443710, 1443747, 1443771, 1443851, 1443866, 1443918, 1443954, 1443963, 1443978, 1444112, 1444335, 1444367, 1444513, 1444516, 1444552, 1444637, 1444642, 1444656, 1444784, 1444829, 1444886, 1444991, 1445002, 1445024, 1445130, 1445187, 1445232, 1445237, 1445320, 1445392, 1445427, 1445448, 1445476, 1445493, 1445562, 1445599, 1445718, 1445933, 1446044, 1446067, 1446170, 1446254, 1446386, 1446406, 1446422, 1446430, 1446435, 1446436, 1446445, 1446560, 1446568, 1446586, 1446715, 1446825, 1446896, 1446909, 1446918, 1446980, 1446988, 1447018, 1447038, 1447040, 1447086, 1447113, 1447119, 1447135, 1447259, 1447328, 1447366, 1447408, 1447481, 1447485, 1447504, 1447528, 1447712, 1447720, 1447736, 1447781, 1447864, 1447919, 1447976, 1448004, 1448007, 1448057, 1448175, 1448267, 1448303, 1448324, 1448365, 1448372, 1448401, 1448403, 1448648, 1448661, 1448678, 1448716, 1448724, 1448737, 1448821, 1448833, 1448906, 1448965, 1449021, 1449028, 1449099, 1449194, 1449230, 1449420, 1449472, 1449550, 1449586, 1449592, 1449606, 1449660, 1449673, 1449752, 1449818, 1449836, 1449873, 1449884, 1449926, 1450052, 1450159, 1450175, 1450227, 1450261, 1450265, 1450267, 1450282, 1450283, 1450355, 1450380, 1450383, 1450423, 1450440, 1450473, 1450523, 1450546, 1450559, 1450601, 1450605, 1450636, 1450670, 1450780, 1450879, 1450933, 1450938, 1450974, 1450996, 1451000, 1451003, 1451097, 1451108, 1451152, 1451229, 1451283, 1451390, 1451394, 1451451, 1451468, 1451503, 1451504, 1451630, 1451722, 1451742, 1451812, 1452014, 1452043, 1452087, 1452263, 1452265, 1452388, 1452402, 1452442, 1452447, 1452461, 1452510, 1452542, 1452543, 1452545, 1452593, 1452653, 1452696, 1452720, 1452803, 1452945, 1453069, 1453071, 1453142, 1453163, 1453184, 1453215, 1453277, 1453393, 1453401, 1453404, 1453418, 1453464, 1453487, 1453530, 1453543, 1453584, 1453703, 1453726, 1453733, 1453824, 1453830, 1453895, 1453907, 1453919, 1454012, 1454060, 1454186, 1454263, 1454345, 1454428, 1454468, 1454474, 1454478, 1454614, 1454675, 1454711, 1454737, 1454748, 1454767, 1454798, 1454799, 1454879, 1454883, 1454931, 1455060, 1455132, 1455267, 1455290, 1455292, 1455306, 1455323, 1455343, 1455357, 1455367, 1455395, 1455510, 1455605, 1455607, 1455619, 1455698, 1455722, 1455737, 1455827, 1455844, 1455940, 1456088, 1456228, 1456229, 1456251, 1456253, 1456277, 1456296, 1456466, 1456472, 1456534, 1456679, 1456680, 1456745, 1456746, 1456811, 1456981, 1456997, 1457002, 1457052, 1457070, 1457082, 1457181, 1457216, 1457221, 1457252, 1457310, 1457318, 1457412, 1457452, 1457542, 1457603, 1457619, 1457629, 1457697, 1457724, 1457725, 1457808, 1457854, 1457876, 1457928, 1457951, 1457955, 1457957, 1457963, 1457969, 1458058, 1458158, 1458164, 1458180, 1458200, 1458202, 1458218, 1458556, 1458557, 1458572, 1458656, 1458680, 1458796, 1458806, 1458915, 1458918, 1458926, 1458929, 1458977, 1459006, 1459072, 1459084, 1459264, 1459286, 1459351, 1459489, 1459552, 1459608, 1459680, 1459698, 1459877, 1459901, 1459953, 1459985, 1460024, 1460029, 1460059, 1460105, 1460115, 1460126, 1460136, 1460163, 1460262, 1460296, 1460299, 1460362, 1460435, 1460447, 1460468, 1460500, 1460538, 1460571, 1460614, 1460689, 1460737, 1460752, 1460771, 1460831, 1461002, 1461143, 1461171, 1461261, 1461394, 1461398, 1461404, 1461416, 1461423, 1461482, 1461522, 1461639, 1461642, 1461779, 1461862, 1461863, 1461920, 1462011, 1462191, 1462212, 1462222, 1462357, 1462418, 1462420, 1462421, 1462457, 1462491, 1462502, 1462526, 1462544, 1462572, 1462573, 1462586, 1462588, 1462767, 1462778, 1462807, 1462899, 1462953, 1462970, 1463089, 1463093, 1463167, 1463200, 1463285, 1463310, 1463316, 1463322, 1463324, 1463361, 1463371, 1463374, 1463380, 1463495, 1463535, 1463609, 1463613, 1463943, 1463961, 1464001, 1464041, 1464063, 1464121, 1464122, 1464132, 1464197, 1464271, 1464289, 1464552, 1464609, 1464746, 1464872, 1464893, 1464940, 1464969, 1464982, 1465013, 1465020, 1465075, 1465197, 1465235, 1465279, 1465312, 1465357, 1465444, 1465477, 1465495, 1465704, 1465707, 1465727, 1465742, 1465753, 1465800, 1465880, 1465960, 1465976, 1466048, 1466069, 1466081, 1466222, 1466234, 1466252, 1466278, 1466287, 1466316, 1466327, 1466369, 1466414, 1466509, 1466531, 1466578, 1466712, 1466736, 1466768, 1466942, 1466993, 1466995, 1467008, 1467045, 1467166, 1467185, 1467337, 1467366, 1467402, 1467445, 1467472, 1467504, 1467531, 1467533, 1467538, 1467564, 1467653, 1467682, 1467703, 1467714, 1467757, 1468057, 1468129, 1468135, 1468216, 1468231, 1468233, 1468252, 1468416, 1468470, 1468484, 1468513, 1468578, 1468590, 1468610, 1468653, 1468783, 1468790, 1468803, 1468910, 1468944, 1469224, 1469260, 1469312, 1469356, 1469393, 1469434, 1469494, 1469496, 1469575, 1469584, 1469618, 1469630, 1469632, 1469641, 1469653, 1469659, 1469707, 1469815, 1469891, 1469946, 1469978, 1470005, 1470030, 1470101, 1470124, 1470157, 1470176, 1470187, 1470293, 1470385, 1470397, 1470447, 1470468, 1470547, 1470564, 1470663, 1470684, 1470703, 1470705, 1470716, 1470743, 1470772, 1470876, 1470883, 1470911, 1470913, 1470983, 1470996, 1471029, 1471078, 1471112, 1471177, 1471278, 1471295, 1471347, 1471566, 1471579, 1471613, 1471703, 1471747, 1471784, 1471789, 1471820, 1471833, 1471929, 1471981, 1472050, 1472142, 1472232, 1472271, 1472325, 1472360, 1472383, 1472414, 1472665, 1472695, 1472736, 1472932, 1472953, 1472987, 1473038, 1473067, 1473092, 1473106, 1473123, 1473124, 1473198, 1473247, 1473269, 1473336, 1473342, 1473426, 1473560, 1473684, 1473743, 1473792, 1473826, 1473838, 1473844, 1473846, 1473980, 1473990, 1474006, 1474022, 1474060, 1474086, 1474099, 1474162, 1474169, 1474221, 1474230, 1474303, 1474323, 1474335, 1474379, 1474380, 1474532, 1474542, 1474574, 1474585, 1474586, 1474737, 1474906, 1475028, 1475048, 1475056, 1475121, 1475218, 1475221, 1475318, 1475319, 1475327, 1475379, 1475440, 1475488, 1475584, 1475601, 1475631, 1475649, 1475668, 1475684, 1475770, 1475808, 1475827, 1475845, 1475890, 1475898, 1475942, 1476051, 1476116, 1476136, 1476166, 1476209, 1476289, 1476319, 1476322, 1476404, 1476445, 1476479, 1476510, 1476530, 1476550, 1476556, 1476560, 1476612, 1476653, 1476705, 1476748, 1476808, 1476815, 1476828, 1476909, 1476916, 1476969, 1476984, 1477081, 1477177, 1477215, 1477467, 1477489, 1477507, 1477552, 1477592, 1477809, 1477820, 1477827, 1477864, 1478002, 1478047, 1478092, 1478116, 1478126, 1478156, 1478290, 1478388, 1478422, 1478484, 1478544, 1478574, 1478632, 1478702, 1478741, 1478819, 1478867, 1478931, 1478946, 1479113, 1479126, 1479197, 1479239, 1479248, 1479269, 1479279, 1479331, 1479364, 1479370, 1479498, 1479553, 1479703, 1479779, 1479782, 1479808, 1479867, 1479946, 1480012, 1480037, 1480042, 1480167, 1480172, 1480373, 1480384, 1480406, 1480447, 1480448, 1480544, 1480560, 1480579, 1480644, 1480724, 1480820, 1480829, 1480843, 1480895, 1480956, 1481036, 1481132, 1481186, 1481194, 1481268, 1481312, 1481336, 1481350, 1481454, 1481480, 1481491, 1481525, 1481539, 1481576, 1481751, 1481778, 1481816, 1481827, 1481906, 1481912, 1481932, 1481986, 1482055, 1482186, 1482299, 1482340, 1482345, 1482375, 1482457, 1482468, 1482493, 1482503, 1482510, 1482647, 1482686, 1482816, 1482827, 1482884, 1482920, 1482946, 1483040, 1483049, 1483294, 1483347, 1483361, 1483389, 1483448, 1483495, 1483584, 1483588, 1483618, 1483675, 1483724, 1483731, 1483779, 1483782, 1483867, 1483915, 1483947, 1483955, 1484041, 1484049, 1484093, 1484099, 1484126, 1484139, 1484153, 1484155, 1484218, 1484246, 1484260, 1484402, 1484432, 1484480, 1484548, 1484557, 1484566, 1484584, 1484651, 1484690, 1484767, 1484821, 1484845, 1484888, 1484974, 1484977, 1484989, 1485015, 1485025, 1485055, 1485063, 1485093, 1485183, 1485184, 1485233, 1485438, 1485439, 1485523, 1485561, 1485564, 1485598, 1485697, 1485795, 1485840, 1485927, 1485928, 1486105, 1486303, 1486308, 1486348, 1486403, 1486416, 1486506, 1486634, 1486669, 1486681, 1486780, 1486834, 1486848, 1486853, 1486962, 1487055, 1487125, 1487164, 1487209, 1487222, 1487245, 1487316, 1487367, 1487374, 1487390, 1487542, 1487709, 1487779, 1487816, 1487850, 1487855, 1487867, 1487891, 1487917, 1487930, 1488011, 1488018, 1488048, 1488061, 1488065, 1488081, 1488099, 1488104, 1488119, 1488151, 1488176, 1488294, 1488377, 1488519, 1488548, 1488557, 1488647, 1488656, 1488751, 1488814, 1488818, 1488891, 1488901, 1489033, 1489124, 1489206, 1489221, 1489227, 1489275, 1489349, 1489367, 1489396, 1489399, 1489410, 1489434, 1489441, 1489507, 1489655, 1489830, 1489909, 1490017, 1490026, 1490031, 1490143, 1490201, 1490241, 1490242, 1490256, 1490438, 1490569, 1490588, 1490605, 1490620, 1490624, 1490673, 1490772, 1490780, 1490811, 1490858, 1490878, 1490909, 1490918, 1490935, 1491052, 1491102, 1491177, 1491201, 1491326, 1491387, 1491443, 1491476, 1491586, 1491606, 1491640, 1491647, 1491648, 1491698, 1491750, 1491870, 1491972, 1491974, 1491992, 1492021, 1492033, 1492037, 1492195, 1492204, 1492275, 1492411, 1492432, 1492568, 1492584, 1492608, 1492614, 1492725, 1492781, 1492800, 1492840, 1492862, 1492904, 1492909, 1492996, 1493023, 1493044, 1493099, 1493149, 1493224, 1493420, 1493432, 1493580, 1493685, 1493687, 1493714, 1493800, 1493809, 1493840, 1493881, 1493971, 1493994, 1494074, 1494103, 1494117, 1494146, 1494189, 1494203, 1494288, 1494356, 1494403, 1494457, 1494459, 1494547, 1494678, 1494737, 1494738, 1494745, 1494761, 1494880, 1494913, 1494915, 1495054, 1495231, 1495281, 1495325, 1495328, 1495520, 1495623, 1495660, 1495682, 1495697, 1495721, 1495767, 1495777, 1495809, 1495852, 1495876, 1495894, 1496038, 1496053, 1496138, 1496180, 1496274, 1496286, 1496287, 1496288, 1496318, 1496325, 1496513, 1496548, 1496695, 1496748, 1496771, 1496876, 1496976, 1496989, 1497022, 1497034, 1497089, 1497091, 1497122, 1497213, 1497238, 1497245, 1497313, 1497367, 1497427, 1497439, 1497466, 1497473, 1497474, 1497482, 1497525, 1497577, 1497580, 1497648, 1497673, 1497677, 1497702, 1497703, 1497729, 1497783, 1497801, 1497818, 1497866, 1497898, 1498024, 1498053, 1498103, 1498141, 1498161, 1498214, 1498240, 1498381, 1498388, 1498399, 1498430, 1498443, 1498486, 1498499, 1498577, 1498599, 1498647, 1498684, 1498716, 1498811, 1498864, 1498886, 1498901, 1498912, 1498934, 1498941, 1498971, 1499057, 1499072, 1499166, 1499203, 1499209, 1499280, 1499305, 1499417, 1499475, 1499503, 1499564, 1499610, 1499656, 1499759, 1499777, 1499884, 1499902, 1500008, 1500015, 1500021, 1500045, 1500062, 1500088, 1500113, 1500485, 1500533, 1500594, 1500627, 1500666, 1500668, 1500689, 1500706, 1500728, 1500764, 1500773, 1500804, 1500808, 1500872, 1500911, 1500912, 1500913, 1500938, 1501060, 1501099, 1501155, 1501222, 1501332, 1501351, 1501409, 1501451, 1501489, 1501541, 1501640, 1501659, 1501758, 1501764, 1501819, 1501833, 1501844, 1502122, 1502214, 1502230, 1502241, 1502331, 1502359, 1502388, 1502391, 1502421, 1502470, 1502490, 1502537, 1502538, 1502600, 1502705, 1502737, 1502780, 1502792, 1502793, 1502806, 1502834, 1502838, 1502863, 1503048, 1503053, 1503110, 1503125, 1503139, 1503218, 1503252, 1503297, 1503422, 1503426, 1503510, 1503512, 1503533, 1503548, 1503585, 1503616, 1503644, 1503656, 1503666, 1503670, 1503725, 1503746, 1503787, 1503840, 1503926, 1503989, 1504030, 1504103, 1504306, 1504344, 1504416, 1504438, 1504592, 1504636, 1504674, 1504695, 1504750, 1504961, 1505029, 1505051, 1505069, 1505096, 1505105, 1505122, 1505166, 1505228, 1505252, 1505254, 1505260, 1505262, 1505372, 1505385, 1505424, 1505437, 1505440, 1505491, 1505567, 1505598, 1505709, 1505725, 1505739, 1505740, 1505811, 1505834, 1505929, 1505972, 1506054, 1506055, 1506095, 1506105, 1506198, 1506199, 1506291, 1506321, 1506354, 1506403, 1506419, 1506453, 1506619, 1506622, 1506631, 1506652, 1506702, 1506741, 1506750, 1506789, 1506913, 1507002, 1507004, 1507087, 1507097, 1507105, 1507120, 1507125, 1507144, 1507147, 1507162, 1507235, 1507309, 1507415, 1507434, 1507497, 1507622, 1507721, 1507844, 1507941, 1507980, 1508003, 1508023, 1508062, 1508089, 1508133, 1508212, 1508284, 1508379, 1508401, 1508410, 1508517, 1508583, 1508589, 1508594, 1508657, 1508697, 1508734, 1508761, 1508817, 1508870, 1508874, 1508940, 1509016, 1509035, 1509131, 1509208, 1509227, 1509228, 1509350, 1509359, 1509398, 1509456, 1509569, 1509576, 1509577, 1509658, 1509659, 1509682, 1509700, 1509738, 1509769, 1509807, 1509819, 1509840, 1509935, 1509948, 1509953, 1510001, 1510158, 1510176, 1510190, 1510214, 1510259, 1510282, 1510314, 1510388, 1510513, 1510531, 1510532, 1510575, 1510611, 1510623, 1510624, 1510642, 1510693, 1510702, 1510706, 1510731, 1510818, 1510861, 1510904, 1510942, 1510945, 1510986, 1511103, 1511108, 1511185, 1511310, 1511338, 1511387, 1511393, 1511412, 1511517, 1511543, 1511598, 1511671, 1511697, 1511720, 1511783, 1511816, 1511863, 1511902, 1511908, 1511945, 1511967, 1511972, 1512002, 1512161, 1512164, 1512256, 1512295, 1512355, 1512365, 1512395, 1512490, 1512512, 1512545, 1512559, 1512566, 1512628, 1512713, 1512730, 1512752, 1512773, 1512795, 1512822, 1512857, 1512879, 1512904, 1513082, 1513166, 1513179, 1513271, 1513310, 1513322, 1513353, 1513403, 1513430, 1513432, 1513493, 1513524, 1513616, 1513624, 1513676, 1513678, 1513871, 1513896, 1513897, 1513944, 1513953, 1513984, 1514041, 1514148, 1514212, 1514224, 1514271, 1514284, 1514322, 1514510, 1514512, 1514614, 1514735, 1514762, 1514850, 1514887, 1514893, 1514968, 1514978, 1515019, 1515153, 1515266, 1515359, 1515380, 1515391, 1515402, 1515511, 1515526, 1515583, 1515619, 1515625, 1515652, 1515796, 1515902, 1515974, 1515975, 1516024, 1516075, 1516174, 1516206, 1516224, 1516225, 1516233, 1516297, 1516317, 1516359, 1516379, 1516427, 1516433, 1516485, 1516505, 1516538, 1516560, 1516571, 1516587, 1516606, 1516711, 1516715, 1516727, 1516845, 1516944, 1516975, 1517002, 1517027, 1517102, 1517145, 1517226, 1517274, 1517285, 1517468, 1517516, 1517662, 1517680, 1517683, 1517720, 1517763, 1517771, 1517813, 1517816, 1517909, 1517911, 1518106, 1518304, 1518367, 1518580, 1518745, 1518766, 1518812, 1518826, 1518855, 1518865, 1518900, 1519044, 1519064, 1519152, 1519221, 1519252, 1519264, 1519341, 1519386, 1519420, 1519449, 1519546, 1519557, 1519663, 1519677, 1519711, 1519722, 1519727, 1519763, 1519768, 1519802, 1519921, 1519943, 1519955, 1520039, 1520054, 1520081, 1520100, 1520166, 1520204, 1520215, 1520248, 1520263, 1520313, 1520325, 1520376, 1520389, 1520488, 1520516, 1520570, 1520583, 1520626, 1520635, 1520641, 1520649, 1520754, 1520772, 1520804, 1520812, 1520839, 1520854, 1520871, 1520906, 1520914, 1520990, 1521255, 1521268, 1521309, 1521432, 1521450, 1521555, 1521560, 1521898, 1521941, 1521970, 1522146, 1522177, 1522187, 1522206, 1522212, 1522229, 1522394, 1522456, 1522490, 1522540, 1522587, 1522652, 1522687, 1522699, 1522717, 1522723, 1522804, 1522825, 1522830, 1523033, 1523160, 1523205, 1523211, 1523231, 1523298, 1523369, 1523376, 1523457, 1523520, 1523527, 1523583, 1523591, 1523610, 1523616, 1523780, 1523893, 1523983, 1523998, 1524030, 1524072, 1524104, 1524123, 1524190, 1524335, 1524481, 1524500, 1524509, 1524569, 1524577, 1524585, 1524608, 1524616, 1524637, 1524712, 1524716, 1524725, 1524874, 1524880, 1524951, 1524969, 1525008, 1525113, 1525157, 1525203, 1525218, 1525270, 1525339, 1525363, 1525413, 1525501, 1525557, 1525566, 1525627, 1525628, 1525640, 1525676, 1525747, 1525786, 1525865, 1525940, 1525978, 1526027, 1526044, 1526218, 1526229, 1526235, 1526310, 1526440, 1526459, 1526545, 1526552, 1526603, 1526639, 1526791, 1526793, 1526931, 1526945, 1526946, 1527011, 1527031, 1527105, 1527113, 1527126, 1527127, 1527158, 1527184, 1527261, 1527287, 1527292, 1527310, 1527450, 1527534, 1527590, 1527591, 1527596, 1527599, 1527617, 1527631, 1527705, 1527740, 1527853, 1527863, 1527887, 1527905, 1527917, 1527925, 1527980, 1528127, 1528129, 1528181, 1528215, 1528246, 1528314, 1528322, 1528362, 1528460, 1528633, 1528662, 1528734, 1528747, 1528777, 1528817, 1528864, 1528873, 1528935, 1528973, 1529022, 1529105, 1529111, 1529127, 1529143, 1529261, 1529293, 1529296, 1529303, 1529383, 1529419, 1529433, 1529520, 1529557, 1529558, 1529559, 1529569, 1529624, 1529663, 1529770, 1529776, 1529784, 1529807, 1529840, 1529863, 1529903, 1530002, 1530012, 1530042, 1530168, 1530353, 1530384, 1530527, 1530589, 1530601, 1530617, 1530625, 1530729, 1530789, 1530817, 1530847, 1530862, 1530896, 1530901, 1530971, 1531114, 1531230, 1531237, 1531245, 1531252, 1531400, 1531436, 1531453, 1531458, 1531466, 1531487, 1531626, 1531628, 1531634, 1531663, 1531698, 1531805, 1531810, 1531828, 1531839, 1531976, 1532120, 1532136, 1532337, 1532427, 1532444, 1532501, 1532508, 1532585, 1532615, 1532646, 1532743, 1532744, 1532762, 1532781, 1532970, 1533021, 1533081, 1533156, 1533194, 1533256, 1533389, 1533436, 1533493, 1533498, 1533519, 1533580, 1533723, 1533760, 1533766, 1533784, 1533786, 1533801, 1533862, 1533863, 1533875, 1533911, 1533981, 1533999, 1534012, 1534129, 1534165, 1534218, 1534219, 1534226, 1534310, 1534334, 1534372, 1534375, 1534383, 1534405, 1534471, 1534477, 1534523, 1534549, 1534577, 1534690, 1534692, 1534727, 1534746, 1534807, 1534842, 1534958, 1535080, 1535136, 1535180, 1535236, 1535251, 1535260, 1535262, 1535277, 1535355, 1535361, 1535415, 1535441, 1535442, 1535542, 1535570, 1535573, 1535604, 1535699, 1535759, 1535809, 1535867, 1535922, 1535941, 1535980, 1536045, 1536057, 1536285, 1536326, 1536387, 1536506, 1536521, 1536530, 1536531, 1536540, 1536592, 1536687, 1536708, 1536780, 1536839, 1536856, 1536882, 1536923, 1536926, 1536943, 1537032, 1537066, 1537155, 1537160, 1537173, 1537254, 1537259, 1537287, 1537332, 1537345, 1537445, 1537551, 1537619, 1537627, 1537668, 1537682, 1537709, 1537711, 1537716, 1537728, 1537743, 1537746, 1537809, 1537849, 1537907, 1537971, 1538011, 1538031, 1538042, 1538092, 1538222, 1538295, 1538385, 1538389, 1538390, 1538393, 1538458, 1538463, 1538477, 1538526, 1538546, 1538584, 1538735, 1538738, 1538815, 1538845, 1538865, 1538866, 1538877, 1538898, 1538954, 1538971, 1539040, 1539043, 1539097, 1539138, 1539166, 1539279, 1539305, 1539309, 1539454, 1539499, 1539530, 1539587, 1539613, 1539649, 1539656, 1539676, 1539711, 1539714, 1539741, 1539790, 1539868, 1539959, 1540116, 1540174, 1540175, 1540231, 1540259, 1540304, 1540329, 1540615, 1540632, 1540638, 1540704, 1540775, 1540887, 1540968, 1540999, 1541036, 1541078, 1541222, 1541229, 1541358, 1541373, 1541440, 1541479, 1541484, 1541506, 1541532, 1541573, 1541624, 1541651, 1541655, 1541997, 1542019, 1542059, 1542069, 1542086, 1542137, 1542180, 1542274, 1542416, 1542432, 1542438, 1542473, 1542676, 1542754, 1542766, 1542995, 1543003, 1543012, 1543021, 1543056, 1543071, 1543072, 1543212, 1543215, 1543251, 1543287, 1543353, 1543378, 1543408, 1543451, 1543546, 1543587, 1543692, 1543794, 1543865, 1543911, 1543915, 1544017, 1544048, 1544063, 1544131, 1544229, 1544389, 1544405, 1544449, 1544477, 1544506, 1544564, 1544610, 1544612, 1544760, 1544769, 1544954, 1544977, 1545025, 1545058, 1545088, 1545161, 1545193, 1545274, 1545275, 1545305, 1545324, 1545404, 1545410, 1545443, 1545466, 1545542, 1545570, 1545647, 1545683, 1545699, 1545815, 1545825, 1545893, 1545969, 1545982, 1546058, 1546092, 1546199, 1546294, 1546409, 1546417, 1546483, 1546487, 1546549, 1546589, 1546630, 1546757, 1546760, 1546830, 1546836, 1546847, 1546861, 1546862, 1546872, 1546877, 1546938, 1547020, 1547032, 1547060, 1547133, 1547177, 1547195, 1547214, 1547523, 1547528, 1547648, 1547664, 1547665, 1547666, 1547682, 1547735, 1547907, 1547913, 1547947, 1548052, 1548079, 1548138, 1548155, 1548202, 1548237, 1548315, 1548418, 1548432, 1548468, 1548496, 1548515, 1548546, 1548608, 1548665, 1548742, 1548829, 1548978, 1549009, 1549210, 1549252, 1549323, 1549358, 1549432, 1549459, 1549478, 1549563, 1549618, 1549646, 1549756, 1549811, 1549834, 1549855, 1549916, 1549917, 1549951, 1549952, 1549996, 1550029, 1550030, 1550048, 1550117, 1550210, 1550236, 1550244, 1550282, 1550285, 1550287, 1550304, 1550308, 1550310, 1550506, 1550509, 1550662, 1550665, 1550739, 1550752, 1550757, 1550763, 1550811, 1550857, 1550990, 1551053, 1551139, 1551213, 1551231, 1551251, 1551288, 1551331, 1551429, 1551502, 1551514, 1551520, 1551521, 1551821, 1551876, 1552002, 1552037, 1552064, 1552115, 1552120, 1552135, 1552194, 1552245, 1552260, 1552295, 1552392, 1552413, 1552435, 1552474, 1552615, 1552752, 1552788, 1552839, 1552979, 1553006, 1553073, 1553139, 1553161, 1553174, 1553195, 1553253, 1553263, 1553294, 1553304, 1553311, 1553433, 1553449, 1553500, 1553538, 1553582, 1553586, 1553620, 1553622, 1553656, 1553720, 1553750, 1553753, 1553847, 1553848, 1553867, 1553952, 1553957, 1553959, 1554004, 1554139, 1554140, 1554167, 1554173, 1554207, 1554258, 1554358, 1554360, 1554387, 1554570, 1554606, 1554622, 1554673, 1554685, 1554719, 1554752, 1554912, 1554913, 1554962, 1554974, 1554996, 1555093, 1555183, 1555244, 1555312, 1555405, 1555477, 1555522, 1555533, 1555542, 1555615, 1555724, 1555726, 1555729, 1555773, 1555789, 1555849, 1555884, 1555885, 1555923, 1555973, 1555977, 1556077, 1556241, 1556252, 1556265, 1556388, 1556416, 1556465, 1556480, 1556514, 1556592, 1556606, 1556617, 1556671, 1556716, 1556760, 1556761, 1556772, 1556780, 1556831, 1556844, 1556846, 1556864, 1556865, 1556933, 1556993, 1557011, 1557037, 1557044, 1557062, 1557108, 1557149, 1557168, 1557243, 1557260, 1557282, 1557327, 1557336, 1557510, 1557516, 1557586, 1557612, 1557654, 1557696, 1557782, 1557784, 1557841, 1557872, 1557886, 1557927, 1557949, 1557972, 1558023, 1558068, 1558101, 1558146, 1558239, 1558253, 1558356, 1558381, 1558394, 1558423, 1558491, 1558606, 1558615, 1558691, 1558710, 1558809, 1558855, 1558874, 1558906, 1558907, 1558911, 1559167, 1559173, 1559182, 1559214, 1559231, 1559244, 1559273, 1559378, 1559415, 1559521, 1559557, 1559659, 1559698, 1559789, 1559820, 1559868, 1559880, 1559894, 1559974, 1559992, 1560009, 1560122, 1560149, 1560162, 1560168, 1560189, 1560228, 1560267, 1560286, 1560437, 1560510, 1560567, 1560572, 1560621, 1560667, 1560719, 1560720, 1560825, 1560834, 1560974, 1561022, 1561093, 1561149, 1561331, 1561348, 1561385, 1561413, 1561426, 1561432, 1561472, 1561487, 1561524, 1561570, 1561593, 1561596, 1561634, 1561666, 1561697, 1561777, 1561857, 1561897, 1562018, 1562035, 1562057, 1562077, 1562081, 1562114, 1562196, 1562301, 1562302, 1562349, 1562394, 1562439, 1562460, 1562565, 1562568, 1562606, 1562662, 1562705, 1562707, 1562739, 1562820, 1562963, 1563006, 1563066, 1563080, 1563128, 1563129, 1563163, 1563166, 1563185, 1563245, 1563270, 1563351, 1563366, 1563457, 1563513, 1563641, 1563671, 1563812, 1563834, 1563839, 1563911, 1563925, 1564001, 1564047, 1564074, 1564088, 1564101, 1564226, 1564268, 1564343, 1564396, 1564429, 1564468, 1564475, 1564478, 1564519, 1564611, 1564621, 1564732, 1564742, 1564788, 1564899, 1565027, 1565100, 1565179, 1565182, 1565297, 1565336, 1565363, 1565388, 1565518, 1565545, 1565568, 1565786, 1565801, 1565862, 1565946, 1565965, 1566005, 1566016, 1566017, 1566086, 1566140, 1566175, 1566220, 1566226, 1566230, 1566231, 1566255, 1566324, 1566377, 1566399, 1566415, 1566430, 1566441, 1566462, 1566577, 1566578, 1566620, 1566722, 1566766, 1566775, 1566789, 1566944, 1566945, 1566993, 1567005, 1567026, 1567065, 1567076, 1567088, 1567240, 1567288, 1567447, 1567467, 1567522, 1567635, 1567673, 1567706, 1567816, 1567826, 1567844, 1567851, 1567887, 1567995, 1568011, 1568136, 1568138, 1568237, 1568296, 1568303, 1568399, 1568400, 1568406, 1568485, 1568514, 1568532, 1568550, 1568570, 1568580, 1568640, 1568650, 1568697, 1568720, 1568831, 1568844, 1568856, 1568980, 1569122, 1569180, 1569235, 1569264, 1569266, 1569324, 1569391, 1569435, 1569436, 1569449, 1569516, 1569598, 1569628, 1569637, 1569707, 1569761, 1569851, 1569943, 1570059, 1570065, 1570080, 1570152, 1570242, 1570250, 1570294, 1570299, 1570341, 1570381, 1570493, 1570514, 1570538, 1570603, 1570608, 1570631, 1570702, 1570748, 1570773, 1570803, 1570815, 1570833, 1570947, 1571090, 1571101, 1571104, 1571138, 1571146, 1571155, 1571160, 1571252, 1571264, 1571490, 1571507, 1571707, 1571708, 1571719, 1571818, 1571822, 1571855, 1571865, 1571876, 1571965, 1572134, 1572293, 1572347, 1572372, 1572397, 1572399, 1572456, 1572660, 1572741, 1572751, 1572755, 1572780, 1572795, 1572846, 1572874, 1572955, 1572965, 1573034, 1573071, 1573105, 1573189, 1573310, 1573313, 1573314, 1573491, 1573534, 1573567, 1573583, 1573684, 1573743, 1574011, 1574065, 1574071, 1574112, 1574133, 1574139, 1574252, 1574305, 1574344, 1574391, 1574426, 1574518, 1574611, 1574613, 1574642, 1574656, 1574758, 1574824, 1574861, 1574899, 1574969, 1574988, 1575025, 1575029, 1575048, 1575081, 1575102, 1575141, 1575210, 1575267, 1575331, 1575348, 1575377, 1575506, 1575628, 1575691, 1575734, 1575744, 1575885, 1575937, 1575943, 1575947, 1576044, 1576060, 1576123, 1576167, 1576170, 1576228, 1576313, 1576358, 1576393, 1576470, 1576555, 1576560, 1576577, 1576581, 1576591, 1576650, 1576653, 1576654, 1576675, 1576786, 1576821, 1576892, 1576937, 1576957, 1576965, 1576979, 1577022, 1577048, 1577069, 1577104, 1577153, 1577195, 1577238, 1577250, 1577260, 1577267, 1577268, 1577317, 1577348, 1577374, 1577442, 1577445, 1577455, 1577476, 1577479, 1577500, 1577510, 1577526, 1577579, 1577677, 1577728, 1577856, 1577935, 1578032, 1578039, 1578069, 1578086, 1578107, 1578182, 1578229, 1578247, 1578346, 1578494, 1578512, 1578608, 1578656, 1578659, 1578684, 1578728, 1578763, 1578764, 1578801, 1578832, 1578878, 1578889, 1578900, 1579047, 1579080, 1579090, 1579144, 1579213, 1579217, 1579240, 1579279, 1579301, 1579352, 1579360, 1579410, 1579422, 1579452, 1579474, 1579480, 1579489, 1579535, 1579572, 1579661, 1579739, 1579814, 1579823, 1579920, 1579954, 1579997, 1580033, 1580041, 1580044, 1580080, 1580086, 1580132, 1580197, 1580208, 1580211, 1580237, 1580248, 1580307, 1580498, 1580516, 1580525, 1580544, 1580550, 1580581, 1580592, 1580627, 1580702, 1580756, 1580905, 1580949, 1581002, 1581029, 1581056, 1581145, 1581170, 1581194, 1581223, 1581229, 1581336, 1581344, 1581384, 1581401, 1581410, 1581423, 1581424, 1581463, 1581537, 1581542, 1581568, 1581571, 1581623, 1581653, 1581670, 1581710, 1581751, 1581883, 1581955, 1581971, 1582052, 1582085, 1582117, 1582201, 1582264, 1582278, 1582338, 1582380, 1582390, 1582480, 1582485, 1582601, 1582616, 1582659, 1582673, 1582783, 1582785, 1582808, 1582883, 1582887, 1582919, 1582994, 1583047, 1583048, 1583083, 1583088, 1583099, 1583171, 1583198, 1583488, 1583547, 1583585, 1583607, 1583639, 1583745, 1583752, 1583789, 1583835, 1583860, 1583870, 1583945, 1583971, 1583994, 1584028, 1584045, 1584047, 1584091, 1584098, 1584136, 1584258, 1584497, 1584558, 1584564, 1584629, 1584659, 1584669, 1584676, 1584678, 1584731, 1584808, 1584836, 1584886, 1584962, 1584966, 1585349, 1585431, 1585457, 1585479, 1585498, 1585590, 1585602, 1585625, 1585659, 1585682, 1585733, 1586020, 1586033, 1586139, 1586158, 1586171, 1586240, 1586273, 1586376, 1586387, 1586549, 1586576, 1586646, 1586680, 1586720, 1586755, 1586761, 1586801, 1586845, 1586853, 1586999, 1587062, 1587201, 1587221, 1587295, 1587366, 1587402, 1587445, 1587500, 1587527, 1587567, 1587595, 1587628, 1587634, 1587854, 1587920, 1587952, 1587960, 1588037, 1588046, 1588076, 1588135, 1588187, 1588240, 1588297, 1588345, 1588365, 1588411, 1588427, 1588460, 1588636, 1588721, 1588741, 1588843, 1588851, 1588856, 1588866, 1588881, 1589066, 1589168, 1589249, 1589365, 1589370, 1589434, 1589441, 1589464, 1589485, 1589523, 1589584, 1589594, 1589645, 1589708, 1589717, 1589812, 1589843, 1589856, 1589894, 1590011, 1590048, 1590151, 1590154, 1590194, 1590226, 1590270, 1590307, 1590416, 1590490, 1590597, 1590634, 1590705, 1590709, 1590718, 1590765, 1590780, 1590807, 1590825, 1590879, 1590884, 1590892, 1590947, 1590955, 1590956, 1591090, 1591187, 1591215, 1591217, 1591226, 1591272, 1591310, 1591490, 1591540, 1591558, 1591574, 1591618, 1591625, 1591677, 1591737, 1591955, 1591985, 1592050, 1592066, 1592119, 1592139, 1592149, 1592170, 1592197, 1592242, 1592287, 1592347, 1592386, 1592483, 1592504, 1592514, 1592595, 1592614, 1592653, 1592683, 1592724, 1592750, 1592852, 1592932, 1593004, 1593018, 1593028, 1593078, 1593104, 1593257, 1593264, 1593269, 1593273, 1593276, 1593326, 1593341, 1593398, 1593414, 1593494, 1593614, 1593621, 1593637, 1593652, 1593668, 1593743, 1593760, 1593774, 1593801, 1593812, 1593844, 1593911, 1594025, 1594027, 1594087, 1594165, 1594289, 1594318, 1594404, 1594468, 1594493, 1594498, 1594526, 1594570, 1594599, 1594684, 1594735, 1594820, 1594867, 1594930, 1594943, 1595023, 1595064, 1595097, 1595161, 1595164, 1595303, 1595366, 1595384, 1595410, 1595549, 1595571, 1595580, 1595720, 1595742, 1595770, 1595841, 1595894, 1595896, 1596053, 1596063, 1596102, 1596201, 1596292, 1596386, 1596390, 1596410, 1596491, 1596587, 1596692, 1596708, 1596737, 1596744, 1596847, 1596861, 1596896, 1596897, 1597032, 1597085, 1597108, 1597139, 1597140, 1597147, 1597281, 1597296, 1597301, 1597320, 1597368, 1597419, 1597472, 1597478, 1597488, 1597514, 1597612, 1597639, 1597735, 1597845, 1597891, 1597992, 1598007, 1598080, 1598084, 1598133, 1598172, 1598229, 1598241, 1598255, 1598273, 1598282, 1598375, 1598406, 1598411, 1598421, 1598447, 1598517, 1598535, 1598558, 1598714, 1598738, 1598759, 1598777, 1598786, 1598792, 1598850, 1598875, 1599000, 1599004, 1599006, 1599045, 1599116, 1599217, 1599253, 1599298, 1599316, 1599328, 1599422, 1599448, 1599456, 1599543, 1599572, 1599583, 1599654, 1599781, 1599867, 1600073, 1600292, 1600318, 1600380, 1600417, 1600424, 1600541, 1600635, 1600658, 1600702, 1600795, 1600810, 1600857, 1600866, 1600898, 1600937, 1601019, 1601138, 1601154, 1601184, 1601225, 1601257, 1601299, 1601441, 1601525, 1601531, 1601537, 1601593, 1601644, 1601683, 1601732, 1601815, 1601846, 1601913, 1602030, 1602055, 1602216, 1602326, 1602332, 1602359, 1602377, 1602419, 1602440, 1602469, 1602510, 1602533, 1602650, 1602672, 1602766, 1602850, 1602872, 1603001, 1603019, 1603060, 1603188, 1603200, 1603237, 1603261, 1603292, 1603624, 1603712, 1603749, 1603890, 1603931, 1603932, 1604017, 1604127, 1604133, 1604174, 1604187, 1604220, 1604242, 1604260, 1604356, 1604359, 1604396, 1604540, 1604623, 1604662, 1604827, 1604865, 1604972, 1605077, 1605150, 1605287, 1605298, 1605386, 1605409, 1605428, 1605441, 1605468, 1605487, 1605504, 1605613, 1605632, 1605652, 1605700, 1605758, 1605765, 1605770, 1605772, 1605773, 1605814, 1605870, 1605872, 1606030, 1606055, 1606059, 1606188, 1606234, 1606351, 1606438, 1606504, 1606516, 1606535, 1606540, 1606572, 1606609, 1606643, 1606737, 1606857, 1606889, 1606980, 1607015, 1607020, 1607033, 1607072, 1607104, 1607162, 1607187, 1607212, 1607240, 1607266, 1607315, 1607328, 1607439, 1607522, 1607606, 1607762, 1607814, 1607821, 1607880, 1607945, 1607966, 1608003, 1608030, 1608064, 1608074, 1608076, 1608079, 1608085, 1608184, 1608225, 1608247, 1608320, 1608336, 1608431, 1608438, 1608457, 1608473, 1608493, 1608511, 1608560, 1608588, 1608602, 1608624, 1608644, 1608648, 1608651, 1608687, 1608769, 1608777, 1608848, 1609025, 1609072, 1609116, 1609121, 1609126, 1609171, 1609228, 1609466, 1609486, 1609513, 1609646, 1609686, 1609690, 1609709, 1609727, 1609734, 1609748, 1609840, 1609846, 1609856, 1609868, 1609874, 1609934, 1609989, 1610051, 1610121, 1610128, 1610170, 1610239, 1610248, 1610261, 1610279, 1610287, 1610340, 1610343, 1610397, 1610486, 1610525, 1610632, 1610634, 1610764, 1610799, 1610854, 1610866, 1610912, 1610936, 1611032, 1611136, 1611178, 1611189, 1611209, 1611339, 1611351, 1611362, 1611376, 1611424, 1611425, 1611436, 1611528, 1611552, 1611581, 1611649, 1611668, 1611724, 1611750, 1611849, 1611853, 1611866, 1611992, 1612020, 1612160, 1612209, 1612273, 1612279, 1612342, 1612369, 1612398, 1612518, 1612588, 1612597, 1612613, 1612621, 1612627, 1612684, 1612731, 1612733, 1612745, 1612789, 1612809, 1612830, 1612845, 1612914, 1612921, 1612968, 1612985, 1613017, 1613095, 1613184, 1613202, 1613364, 1613407, 1613519, 1613583, 1613611, 1613671, 1613713, 1613730, 1613739, 1613850, 1613881, 1613912, 1613930, 1614037, 1614086, 1614101, 1614118, 1614151, 1614156, 1614190, 1614205, 1614252, 1614282, 1614286, 1614304, 1614309, 1614310, 1614406, 1614431, 1614466, 1614482, 1614503, 1614532, 1614722, 1614746, 1614762, 1614804, 1614815, 1614954, 1614990, 1615007, 1615079, 1615101, 1615210, 1615286, 1615313, 1615362, 1615363, 1615453, 1615495, 1615513, 1615582, 1615592, 1615656, 1615680, 1615693, 1615704, 1615711, 1615832, 1615918, 1615952, 1616066, 1616073, 1616101, 1616261, 1616274, 1616301, 1616303, 1616375, 1616381, 1616403, 1616425, 1616527, 1616646, 1616801, 1616826, 1616838, 1616840, 1616848, 1616853, 1616965, 1616986, 1617030, 1617125, 1617152, 1617169, 1617206, 1617252, 1617262, 1617279, 1617300, 1617325, 1617356, 1617372, 1617414, 1617489, 1617506, 1617525, 1617558, 1617570, 1617723, 1617781, 1617920, 1617978, 1617987, 1618049, 1618244, 1618357, 1618414, 1618489, 1618515, 1618528, 1618573, 1618648, 1618657, 1618738, 1618753, 1618892, 1618973, 1619002, 1619041, 1619060, 1619096, 1619153, 1619224, 1619286, 1619288, 1619295, 1619390, 1619579, 1619586, 1619593, 1619598, 1619610, 1619716, 1619737, 1619886, 1619916, 1620020, 1620036, 1620086, 1620181, 1620233, 1620265, 1620323, 1620411, 1620524, 1620533, 1620615, 1620656, 1620665, 1620738, 1620747, 1620860, 1620895, 1620932, 1620967, 1620996, 1621054, 1621084, 1621088, 1621213, 1621223, 1621318, 1621402, 1621484, 1621574, 1621680, 1621746, 1621765, 1621769, 1621771, 1621818, 1621827, 1621842, 1621852, 1622136, 1622162, 1622190, 1622213, 1622229, 1622329, 1622354, 1622417, 1622422, 1622424, 1622445, 1622493, 1622526, 1622553, 1622620, 1622670, 1622714, 1622763, 1622783, 1622843, 1622911, 1622951, 1622963, 1623059, 1623196, 1623203, 1623225, 1623286, 1623403, 1623415, 1623469, 1623549, 1623565, 1623846, 1623990, 1623993, 1624001, 1624059, 1624130, 1624134, 1624164, 1624172, 1624178, 1624202, 1624278, 1624319, 1624328, 1624342, 1624416, 1624431, 1624432, 1624436, 1624441, 1624579, 1624652, 1624714, 1624755, 1624760, 1624792, 1624856, 1624866, 1624902, 1624929, 1624965, 1624975, 1625013, 1625042, 1625157, 1625189, 1625192, 1625332, 1625344, 1625390, 1625395, 1625421, 1625428, 1625460, 1625489, 1625583, 1625584, 1625592, 1625666, 1625729, 1625770, 1625814, 1625830, 1626009, 1626134, 1626136, 1626143, 1626172, 1626233, 1626282, 1626304, 1626328, 1626374, 1626394, 1626477, 1626542, 1626606, 1626664, 1626677, 1626688, 1626699, 1626731, 1626738, 1626775, 1626806, 1626864, 1626892, 1626909, 1627009, 1627090, 1627134, 1627264, 1627315, 1627339, 1627386, 1627387, 1627471, 1627516, 1627546, 1627645, 1627673, 1627727, 1627757, 1627771, 1627781, 1627799, 1627870, 1627889, 1627891, 1627943, 1627951, 1627957, 1627985, 1627992, 1628024, 1628069, 1628110, 1628115, 1628120, 1628128, 1628202, 1628246, 1628319, 1628347, 1628407, 1628410, 1628431, 1628463, 1628558, 1628573, 1628635, 1628644, 1628683, 1628737, 1628772, 1628791, 1628803, 1628829, 1628838, 1628850, 1628857, 1628862, 1628864, 1628865, 1628878, 1628918, 1628974, 1628982, 1629247, 1629307, 1629331, 1629369, 1629421, 1629426, 1629466, 1629470, 1629495, 1629516, 1629555, 1629564, 1629596, 1629602, 1629608, 1629664, 1629702, 1629704, 1629733, 1629758, 1629817, 1629852, 1629862, 1629866, 1629868, 1629964, 1629976, 1630005, 1630054, 1630198, 1630240, 1630327, 1630374, 1630411, 1630609, 1630630, 1630666, 1630746, 1630754, 1630944, 1631036, 1631046, 1631091, 1631127, 1631220, 1631221, 1631232, 1631296, 1631408, 1631508, 1631588, 1631743, 1631784, 1631833, 1631926, 1631934, 1631939, 1631980, 1632019, 1632058, 1632097, 1632112, 1632131, 1632134, 1632145, 1632206, 1632258, 1632300, 1632342, 1632344, 1632356, 1632385, 1632493, 1632561, 1632571, 1632573, 1632587, 1632696, 1632709, 1632724, 1632910, 1632920, 1632926, 1632947, 1632968, 1633061, 1633177, 1633189, 1633196, 1633263, 1633432, 1633488, 1633592, 1633685, 1633734, 1633746, 1633790, 1633837, 1633844, 1633845, 1633850, 1633856, 1633949, 1633998, 1634094, 1634097, 1634206, 1634212, 1634235, 1634253, 1634266, 1634283, 1634320, 1634462, 1634515, 1634642, 1634762, 1634780, 1634840, 1634917, 1634930, 1634936, 1634996, 1635094, 1635134, 1635184, 1635237, 1635269, 1635384, 1635429, 1635587, 1635626, 1635672, 1635785, 1635912, 1635995, 1636117, 1636165, 1636197, 1636198, 1636372, 1636410, 1636485, 1636497, 1636516, 1636724, 1636740, 1636783, 1636805, 1636838, 1636849, 1636924, 1636987, 1637060, 1637080, 1637093, 1637158, 1637170, 1637172, 1637178, 1637182, 1637320, 1637355, 1637371, 1637413, 1637450, 1637465, 1637509, 1637580, 1637587, 1637679, 1637692, 1637697, 1637760, 1637902, 1637985, 1638039, 1638066, 1638091, 1638199, 1638243, 1638269, 1638377, 1638390, 1638393, 1638421, 1638472, 1638587, 1638602, 1638635, 1638651, 1638681, 1638734, 1638864, 1638915, 1638985, 1639036, 1639045, 1639091, 1639166, 1639177, 1639184, 1639197, 1639226, 1639229, 1639303, 1639323, 1639334, 1639411, 1639439, 1639582, 1639622, 1639687, 1639709, 1639717, 1639719, 1639736, 1639742, 1639815, 1639877, 1639881, 1639928, 1640045, 1640057, 1640151, 1640171, 1640178, 1640181, 1640191, 1640213, 1640219, 1640251, 1640308, 1640331, 1640417, 1640440, 1640490, 1640563, 1640614, 1640724, 1640771, 1640841, 1640890, 1641013, 1641063, 1641130, 1641168, 1641226, 1641264, 1641308, 1641323, 1641400, 1641405, 1641432, 1641442, 1641589, 1641704, 1641757, 1641768, 1641775, 1641789, 1641794, 1641843, 1641890, 1641930, 1641993, 1641994, 1642024, 1642091, 1642230, 1642247, 1642248, 1642255, 1642290, 1642293, 1642371, 1642396, 1642506, 1642547, 1642605, 1642622, 1642693, 1642708, 1642897, 1642923, 1643000, 1643043, 1643124, 1643164, 1643214, 1643256, 1643270, 1643494, 1643550, 1643581, 1643678, 1643715, 1643722, 1643836, 1643860, 1643967, 1643981, 1644038, 1644048, 1644057, 1644146, 1644201, 1644305, 1644325, 1644371, 1644381, 1644427, 1644439, 1644501, 1644526, 1644534, 1644612, 1644637, 1644681, 1644759, 1644847, 1644954, 1645023, 1645031, 1645076, 1645102, 1645191, 1645284, 1645343, 1645370, 1645452, 1645495, 1645518, 1645601, 1645604, 1645650, 1645702, 1645717, 1645724, 1645743, 1645812, 1645830, 1645842, 1645855, 1645894, 1645923, 1645938, 1645939, 1645990, 1646026, 1646062, 1646150, 1646156, 1646210, 1646309, 1646319, 1646338, 1646428, 1646451, 1646498, 1646589, 1646650, 1646706, 1646715, 1646784, 1646821, 1646863, 1646912, 1646949, 1646971, 1646977, 1646981, 1647067, 1647157, 1647200, 1647229, 1647308, 1647343, 1647491, 1647563, 1647732, 1647733, 1647772, 1647916, 1647932, 1647964, 1648004, 1648048, 1648108, 1648266, 1648276, 1648283, 1648320, 1648341, 1648527, 1648551, 1648562, 1648802, 1648934, 1648966, 1648977, 1648996, 1649004, 1649053, 1649099, 1649125, 1649158, 1649248, 1649385, 1649416, 1649485, 1649526, 1649557, 1649589, 1649635, 1649675, 1649683, 1649742, 1649826, 1649857, 1649971, 1649989, 1650101, 1650114, 1650295, 1650352, 1650375, 1650506, 1650535, 1650538, 1650549, 1650562, 1650579, 1650587, 1650607, 1650637, 1650739, 1650767, 1650879, 1650941, 1650977, 1650981, 1651172, 1651200, 1651209, 1651246, 1651344, 1651397, 1651437, 1651452, 1651490, 1651530, 1651541, 1651566, 1651631, 1651724, 1651895, 1651947, 1651970, 1651979, 1651999, 1652017, 1652028, 1652038, 1652129, 1652149, 1652184, 1652211, 1652221, 1652266, 1652309, 1652368, 1652513, 1652518, 1652537, 1652546, 1652687, 1652697, 1652703, 1652740, 1652754, 1652762, 1652788, 1652811, 1652823, 1652879, 1652946, 1652999, 1653233, 1653245, 1653265, 1653275, 1653292, 1653293, 1653325, 1653337, 1653364, 1653533, 1653550, 1653590, 1653724, 1653731, 1653739, 1653755, 1653768, 1653790, 1653898, 1653994, 1654192, 1654248, 1654270, 1654271, 1654359, 1654455, 1654456, 1654518, 1654531, 1654601, 1654615, 1654653, 1654679, 1654710, 1654756, 1654880, 1654911, 1654994, 1655026, 1655163, 1655194, 1655237, 1655312, 1655327, 1655338, 1655347, 1655398, 1655414, 1655611, 1655639, 1655673, 1655764, 1655780, 1655807, 1655861, 1655864, 1655887, 1655932, 1655938, 1656008, 1656115, 1656224, 1656233, 1656240, 1656323, 1656334, 1656352, 1656538, 1656562, 1656612, 1656618, 1656791, 1656872, 1657142, 1657193, 1657316, 1657335, 1657455, 1657466, 1657556, 1657569, 1657646, 1657666, 1657682, 1657723, 1657916, 1657938, 1657965, 1657966, 1658123, 1658133, 1658144, 1658167, 1658239, 1658338, 1658418, 1658442, 1658492, 1658497, 1658508, 1658561, 1658568, 1658577, 1658592, 1658643, 1658757, 1658783, 1658892, 1658904, 1658906, 1658924, 1658954, 1658976, 1658986, 1658987, 1659078, 1659103, 1659142, 1659177, 1659213, 1659242, 1659283, 1659292, 1659306, 1659368, 1659369, 1659429, 1659455, 1659466, 1659515, 1659578, 1659611, 1659654, 1659779, 1659795, 1659803, 1659844, 1659890, 1659950, 1659991, 1660252, 1660298, 1660327, 1660331, 1660367, 1660488, 1660609, 1660665, 1660679, 1660980, 1661232, 1661257, 1661270, 1661284, 1661363, 1661395, 1661410, 1661666, 1661669, 1661705, 1661726, 1661740, 1661751, 1661767, 1661784, 1661818, 1661902, 1661903, 1661974, 1662016, 1662067, 1662122, 1662208, 1662232, 1662259, 1662280, 1662336, 1662347, 1662348, 1662401, 1662553, 1662590, 1662628, 1662633, 1662634, 1662696, 1662748, 1662772, 1662917, 1663074, 1663078, 1663293, 1663330, 1663371, 1663479, 1663480, 1663535, 1663652, 1663906, 1663953, 1663976, 1664201, 1664204, 1664260, 1664363, 1664400, 1664441, 1664522, 1664533, 1664715, 1664754, 1664780, 1664823, 1664921, 1664933, 1664991, 1665071, 1665217, 1665233, 1665272, 1665283, 1665384, 1665413, 1665465, 1665529, 1665557, 1665709, 1665719, 1665723, 1665783, 1665822, 1665918, 1665938, 1666000, 1666020, 1666051, 1666070, 1666080, 1666110, 1666114, 1666126, 1666144, 1666201, 1666218, 1666231, 1666399, 1666505, 1666623, 1666637, 1666682, 1666729, 1666853, 1666859, 1666866, 1666907, 1666972, 1666987, 1666997, 1667001, 1667019, 1667043, 1667068, 1667087, 1667098, 1667121, 1667184, 1667230, 1667289, 1667292, 1667331, 1667347, 1667392, 1667416, 1667464, 1667516, 1667522, 1667530, 1667586, 1667595, 1667673, 1667675, 1667683, 1667758, 1667790, 1667856, 1667862, 1667936, 1667969, 1668058, 1668149, 1668251, 1668329, 1668343, 1668632, 1668648, 1668672, 1668677, 1668695, 1668697, 1668698, 1668775, 1668823, 1668831, 1668845, 1668849, 1668916, 1668937, 1668952, 1668973, 1668987, 1668996, 1669103, 1669142, 1669176, 1669242, 1669402, 1669447, 1669574, 1669604, 1669661, 1669714, 1669759, 1669760, 1669834, 1669900, 1669905, 1669934, 1670075, 1670092, 1670104, 1670185, 1670256, 1670330, 1670363, 1670364, 1670368, 1670381, 1670466, 1670557, 1670574, 1670577, 1670650, 1670669, 1670690, 1670699, 1670711, 1670735, 1670751, 1670764, 1670787, 1670891, 1670901, 1670989, 1671096, 1671122, 1671128, 1671139, 1671218, 1671228, 1671231, 1671250, 1671277, 1671285, 1671574, 1671592, 1671647, 1671725, 1671740, 1671781, 1671812, 1671828, 1671837, 1671877, 1671887, 1671893, 1671896, 1671915, 1671939, 1671993, 1672025, 1672037, 1672090, 1672122, 1672185, 1672209, 1672256, 1672257, 1672266, 1672276, 1672299, 1672337, 1672348, 1672359, 1672515, 1672522, 1672526, 1672527, 1672646, 1672678, 1672751, 1672770, 1672790, 1672813, 1672940, 1672949, 1672960, 1673077, 1673092, 1673137, 1673196, 1673269, 1673298, 1673309, 1673376, 1673454, 1673556, 1673641, 1673685, 1673764, 1673819, 1673953, 1673981, 1673988, 1674003, 1674054, 1674069, 1674072, 1674121, 1674195, 1674198, 1674285, 1674403, 1674434, 1674500, 1674557, 1674781, 1674814, 1674845, 1675095, 1675111, 1675128, 1675134, 1675142, 1675145, 1675197, 1675253, 1675255, 1675280, 1675425, 1675470, 1675515, 1675521, 1675593, 1675620, 1675635, 1675670, 1675806, 1675949, 1675971, 1675972, 1675986, 1675987, 1676064, 1676075, 1676198, 1676257, 1676343, 1676363, 1676377, 1676385, 1676400, 1676437, 1676495, 1676526, 1676527, 1676548, 1676583, 1676597, 1676633, 1676654, 1676673, 1676680, 1676702, 1676923, 1676953, 1677032, 1677053, 1677097, 1677257, 1677259, 1677286, 1677397, 1677485, 1677492, 1677545, 1677618, 1677659, 1677666, 1677685, 1677686, 1677758, 1677784, 1677822, 1677874, 1677894, 1677933, 1677985, 1677990, 1677997, 1678010, 1678104, 1678141, 1678152, 1678199, 1678200, 1678230, 1678263, 1678286, 1678311, 1678362, 1678428, 1678453, 1678603, 1678785, 1678812, 1678919, 1678942, 1679035, 1679126, 1679209, 1679214, 1679224, 1679242, 1679305, 1679637, 1679664, 1679712, 1679799, 1679875, 1679916, 1679951, 1680024, 1680036, 1680043, 1680086, 1680116, 1680161, 1680221, 1680236, 1680305, 1680362, 1680387, 1680498, 1680604, 1680610, 1680695, 1680752, 1680762, 1680764, 1680844, 1680926, 1680945, 1680969, 1681047, 1681069, 1681140, 1681249, 1681259, 1681312, 1681316, 1681373, 1681404, 1681450, 1681454, 1681475, 1681501, 1681517, 1681536, 1681537, 1681542, 1681550, 1681557, 1681596, 1681600, 1681614, 1681670, 1681694, 1681699, 1681888, 1681935, 1681978, 1682060, 1682145, 1682192, 1682249, 1682253, 1682262, 1682280, 1682338, 1682361, 1682393, 1682482, 1682484, 1682514, 1682575, 1682585, 1682606, 1682633, 1682710, 1682772, 1682803, 1682836, 1682912, 1682916, 1682966, 1683038, 1683070, 1683111, 1683220, 1683237, 1683249, 1683300, 1683314, 1683410, 1683423, 1683481, 1683483, 1683497, 1683530, 1683546, 1683563, 1683576, 1683606, 1683619, 1683632, 1683654, 1683663, 1683669, 1683683, 1683691, 1683712, 1683788, 1683832, 1683844, 1683902, 1683927, 1684058, 1684080, 1684135, 1684147, 1684204, 1684214, 1684340, 1684356, 1684410, 1684419, 1684437, 1684446, 1684467, 1684620, 1684680, 1684684, 1684753, 1684834, 1684893, 1684918, 1684953, 1685020, 1685065, 1685214, 1685281, 1685356, 1685420, 1685554, 1685607, 1685617, 1685791, 1685792, 1685894, 1685929, 1685951, 1685974, 1686144, 1686201, 1686213, 1686227, 1686324, 1686331, 1686363, 1686378, 1686413, 1686550, 1686563, 1686624, 1686645, 1686734, 1686804, 1686914, 1686940, 1686975, 1686977, 1686979, 1687022, 1687024, 1687059, 1687094, 1687124, 1687141, 1687233, 1687240, 1687285, 1687384, 1687465, 1687588, 1687810, 1687849, 1687873, 1687876, 1688036, 1688097, 1688098, 1688156, 1688170, 1688187, 1688375, 1688561, 1688586, 1688593, 1688611, 1688678, 1688751, 1688754, 1688780, 1688788, 1688794, 1688858, 1688914, 1689044, 1689078, 1689118, 1689148, 1689170, 1689185, 1689302, 1689360, 1689472, 1689538, 1689582, 1689634, 1689754, 1689771, 1689819, 1689877, 1689897, 1689914, 1689943, 1689963, 1690119, 1690172, 1690191, 1690263, 1690270, 1690350, 1690417, 1690492, 1690534, 1690657, 1690667, 1690715, 1690796, 1690823, 1690831, 1690860, 1690929, 1691122, 1691124, 1691264, 1691278, 1691289, 1691324, 1691365, 1691371, 1691481, 1691486, 1691508, 1691553, 1691635, 1691640, 1691651, 1691690, 1691726, 1691792, 1691833, 1691846, 1691853, 1691889, 1691909, 1691917, 1691940, 1691956, 1691959, 1692036, 1692060, 1692081, 1692141, 1692150, 1692186, 1692221, 1692234, 1692395, 1692408, 1692525, 1692579, 1692600, 1692641, 1692674, 1692705, 1692706, 1692726, 1692758, 1692777, 1692799, 1692817, 1692864, 1692874, 1692907, 1692942, 1693028, 1693118, 1693242, 1693275, 1693295, 1693388, 1693389, 1693443, 1693461, 1693571, 1693577, 1693635, 1693642, 1693672, 1693704, 1693708, 1693725, 1693991, 1694129, 1694143, 1694154, 1694183, 1694216, 1694247, 1694305, 1694403, 1694609, 1694639, 1694742, 1694767, 1694925, 1694934, 1694947, 1694963, 1694964, 1695120, 1695122, 1695125, 1695156, 1695157, 1695224, 1695225, 1695236, 1695303, 1695413, 1695484, 1695540, 1695565, 1695609, 1695624, 1695653, 1695670, 1695695, 1695733, 1695812, 1695815, 1695876, 1695916, 1695936, 1695944, 1695986, 1696023, 1696060, 1696099, 1696103, 1696198, 1696262, 1696277, 1696292, 1696331, 1696416, 1696545, 1696549, 1696732, 1696783, 1696850, 1696852, 1696887, 1696946, 1696974, 1696983, 1696998, 1697039, 1697105, 1697138, 1697220, 1697304, 1697347, 1697359, 1697448, 1697449, 1697460, 1697469, 1697501, 1697514, 1697519, 1697544, 1697666, 1697745, 1697755, 1697804, 1697812, 1697900, 1697949, 1697973, 1698087, 1698123, 1698306, 1698346, 1698373, 1698453, 1698483, 1698497, 1698500, 1698549, 1698551, 1698566, 1698579, 1698668, 1698752, 1698782, 1698800, 1698825, 1698834, 1698959, 1699013, 1699067, 1699076, 1699089, 1699214, 1699242, 1699282, 1699295, 1699306, 1699502, 1699581, 1699625, 1699634, 1699663, 1699674, 1699757, 1699792, 1699915, 1699916, 1699932, 1699944, 1700009, 1700062, 1700124, 1700140, 1700164, 1700227, 1700246, 1700294, 1700391, 1700401, 1700439, 1700479, 1700527, 1700576, 1700584, 1700631, 1700659, 1700730, 1700733, 1700775, 1700785, 1700971, 1701031, 1701101, 1701104, 1701116, 1701148, 1701159, 1701189, 1701231, 1701453, 1701533, 1701537, 1701555, 1701570, 1701608, 1701715, 1701755, 1701763, 1701818, 1701855, 1701877, 1701885, 1701944, 1701966, 1701989, 1702059, 1702068, 1702069, 1702101, 1702118, 1702123, 1702208, 1702270, 1702390, 1702472, 1702588, 1702628, 1702651, 1702657, 1702694, 1702768, 1702793, 1702809, 1702812, 1702855, 1702885, 1702928, 1702961, 1702975, 1702978, 1703019, 1703204, 1703290, 1703298, 1703300, 1703301, 1703314, 1703316, 1703425, 1703463, 1703491, 1703666, 1703670, 1703701, 1703730, 1703954, 1703989, 1704008, 1704047, 1704058, 1704092, 1704113, 1704142, 1704167, 1704238, 1704259, 1704358, 1704504, 1704535, 1704547, 1704586, 1704610, 1704638, 1704678, 1704698, 1704790, 1704908, 1704956, 1704959, 1704964, 1705066, 1705069, 1705213, 1705350, 1705384, 1705475, 1705510, 1705529, 1705551, 1705561, 1705602, 1705616, 1705626, 1705688, 1705706, 1705743, 1705971, 1705985, 1705996, 1706003, 1706107, 1706128, 1706141, 1706228, 1706330, 1706379, 1706397, 1706406, 1706485, 1706563, 1706603, 1706657, 1706726, 1706734, 1706764, 1706793, 1706825, 1706894, 1706946, 1706978, 1707023, 1707047, 1707140, 1707239, 1707266, 1707289, 1707330, 1707348, 1707390, 1707470, 1707472, 1707474, 1707538, 1707612, 1707643, 1707670, 1707734, 1707894, 1707959, 1707980, 1708006, 1708018, 1708163, 1708204, 1708326, 1708348, 1708451, 1708456, 1708528, 1708624, 1708629, 1708640, 1708649, 1708668, 1708751, 1708786, 1708907, 1708991, 1709060, 1709075, 1709076, 1709159, 1709183, 1709209, 1709253, 1709298, 1709370, 1709410, 1709426, 1709514, 1709523, 1709580, 1709658, 1709819, 1709827, 1709855, 1709859, 1709866, 1709965, 1710096, 1710128, 1710231, 1710295, 1710334, 1710369, 1710382, 1710403, 1710445, 1710446, 1710634, 1710660, 1710716, 1710755, 1710771, 1710777, 1710889, 1710982, 1711045, 1711055, 1711102, 1711107, 1711135, 1711192, 1711265, 1711307, 1711385, 1711394, 1711395, 1711430, 1711433, 1711454, 1711469, 1711586, 1711625, 1711697, 1711775, 1711784, 1711785, 1711960, 1711987, 1712019, 1712024, 1712060, 1712121, 1712129, 1712151, 1712154, 1712170, 1712351, 1712436, 1712475, 1712496, 1712521, 1712523, 1712543, 1712593, 1712610, 1712737, 1712738, 1712751, 1712755, 1712896, 1712906, 1712938, 1712968, 1713009, 1713017, 1713097, 1713114, 1713117, 1713177, 1713227, 1713233, 1713285, 1713304, 1713364, 1713392, 1713400, 1713427, 1713484, 1713521, 1713542, 1713668, 1713697, 1713738, 1713918, 1714001, 1714021, 1714091, 1714217, 1714258, 1714260, 1714271, 1714284, 1714308, 1714360, 1714375, 1714425, 1714444, 1714450, 1714456, 1714467, 1714501, 1714626, 1714681, 1714784, 1714799, 1714932, 1714987, 1715127, 1715159, 1715164, 1715180, 1715259, 1715304, 1715308, 1715343, 1715393, 1715432, 1715481, 1715486, 1715630, 1715644, 1715682, 1715698, 1715900, 1715952, 1715970, 1715971, 1716095, 1716205, 1716231, 1716289, 1716327, 1716343, 1716366, 1716373, 1716405, 1716409, 1716434, 1716496, 1716596, 1716617, 1716689, 1716698, 1716768, 1716779, 1716782, 1716791, 1716980, 1716999, 1717014, 1717055, 1717066, 1717112, 1717153, 1717184, 1717368, 1717428, 1717445, 1717449, 1717507, 1717545, 1717553, 1717638, 1717863, 1717988, 1718055, 1718063, 1718082, 1718084, 1718128, 1718180, 1718231, 1718232, 1718267, 1718385, 1718585, 1718680, 1718697, 1718725, 1718825, 1718888, 1718919, 1718963, 1718973, 1719050, 1719099, 1719108, 1719112, 1719175, 1719213, 1719229, 1719264, 1719418, 1719423, 1719428, 1719439, 1719462, 1719581, 1719619, 1719695, 1719717, 1719783, 1719798, 1719840, 1719943, 1719952, 1719973, 1719997, 1720026, 1720067, 1720095, 1720281, 1720328, 1720375, 1720425, 1720462, 1720518, 1720622, 1720655, 1720656, 1720661, 1720733, 1720842, 1720847, 1720857, 1720883, 1720918, 1720929, 1720946, 1720955, 1720982, 1721019, 1721103, 1721372, 1721469, 1721472, 1721504, 1721569, 1721570, 1721624, 1721629, 1721642, 1721670, 1721677, 1721746, 1721878, 1721880, 1721910, 1721992, 1722061, 1722176, 1722274, 1722441, 1722443, 1722456, 1722467, 1722490, 1722501, 1722510, 1722547, 1722613, 1722614, 1722692, 1722717, 1722796, 1722818, 1722820, 1722874, 1722876, 1722923, 1722991, 1723033, 1723316, 1723330, 1723424, 1723428, 1723457, 1723506, 1723593, 1723605, 1723657, 1723697, 1723717, 1723852, 1723895, 1724024, 1724061, 1724084, 1724153, 1724160, 1724180, 1724211, 1724280, 1724337, 1724354, 1724384, 1724455, 1724495, 1724520, 1724522, 1724529, 1724613, 1724715, 1724909, 1725032, 1725052, 1725080, 1725151, 1725260, 1725277, 1725311, 1725352, 1725356, 1725392, 1725465, 1725536, 1725561, 1725689, 1725722, 1725739, 1725766, 1725886, 1725892, 1725925, 1726043, 1726096, 1726182, 1726238, 1726254, 1726268, 1726328, 1726346, 1726369, 1726485, 1726651, 1726660, 1726703, 1726746, 1726757, 1726774, 1726871, 1726919, 1727011, 1727038, 1727051, 1727058, 1727094, 1727199, 1727404, 1727452, 1727531, 1727553, 1727691, 1727764, 1727789, 1727883, 1727912, 1727935, 1727948, 1727959, 1727968, 1727969, 1728038, 1728043, 1728104, 1728128, 1728137, 1728155, 1728249, 1728318, 1728351, 1728402, 1728437, 1728492, 1728496, 1728507, 1728513, 1728538, 1728817, 1728828, 1728836, 1728856, 1728865, 1728923, 1728966, 1729014, 1729062, 1729316, 1729374, 1729527, 1729552, 1729555, 1729598, 1729631, 1729789, 1729856, 1729901, 1729925, 1729928, 1729942, 1729969, 1730062, 1730104, 1730152, 1730175, 1730417, 1730447, 1730451, 1730469, 1730510, 1730537, 1730607, 1730617, 1730666, 1730690, 1730749, 1730789, 1730836, 1730888, 1730992, 1731003, 1731027, 1731030, 1731243, 1731253, 1731285, 1731368, 1731425, 1731609, 1731695, 1731724, 1731765, 1731771, 1731851, 1731854, 1731920, 1731929, 1732105, 1732177, 1732233, 1732429, 1732436, 1732467, 1732509, 1732526, 1732588, 1732593, 1732597, 1732670, 1732728, 1732763, 1732881, 1732949, 1733029, 1733033, 1733084, 1733199, 1733229, 1733231, 1733352, 1733459, 1733560, 1733615, 1733638, 1733659, 1733722, 1733735, 1733737, 1733820, 1733896, 1733943, 1734060, 1734061, 1734072, 1734076, 1734112, 1734139, 1734174, 1734180, 1734264, 1734305, 1734348, 1734349, 1734439, 1734475, 1734533, 1734550, 1734634, 1734646, 1734745, 1734764, 1734774, 1734804, 1734805, 1734890, 1735132, 1735150, 1735157, 1735168, 1735169, 1735208, 1735312, 1735331, 1735372, 1735398, 1735607, 1735613, 1735624, 1735714, 1735727, 1735925, 1735977, 1736074, 1736086, 1736150, 1736179, 1736242, 1736308, 1736325, 1736329, 1736337, 1736344, 1736375, 1736397, 1736404, 1736456, 1736467, 1736504, 1736517, 1736522, 1736542, 1736631, 1736804, 1736822, 1736848, 1737036, 1737070, 1737099, 1737137, 1737172, 1737207, 1737229, 1737235, 1737270, 1737283, 1737324, 1737385, 1737410, 1737527, 1737566, 1737771, 1737818, 1737861, 1737908, 1737910, 1737926, 1737933, 1738010, 1738114, 1738144, 1738203, 1738313, 1738350, 1738414, 1738439, 1738440, 1738445, 1738539, 1738823, 1739055, 1739065, 1739088, 1739090, 1739361, 1739367, 1739400, 1739423, 1739503, 1739590, 1739609, 1739614, 1739639, 1739665, 1739687, 1739714, 1739716, 1739735, 1739814, 1739851, 1739859, 1739900, 1739948, 1739949, 1739968, 1740055, 1740059, 1740187, 1740292, 1740350, 1740370, 1740483, 1740554, 1740575, 1740621, 1740675, 1740984, 1741006, 1741063, 1741080, 1741121, 1741143, 1741211, 1741222, 1741254, 1741265, 1741310, 1741312, 1741430, 1741471, 1741504, 1741528, 1741574, 1741576, 1741589, 1741614, 1741650, 1741652, 1741696, 1741751, 1741753, 1741770, 1741844, 1741997, 1742042, 1742148, 1742219, 1742244, 1742251, 1742302, 1742315, 1742326, 1742335, 1742498, 1742514, 1742729, 1742771, 1742810, 1743139, 1743142, 1743151, 1743163, 1743230, 1743233, 1743244, 1743324, 1743402, 1743409, 1743514, 1743540, 1743541, 1743644, 1743680, 1743705, 1743717, 1743804, 1743930, 1743935, 1743941, 1743970, 1744081, 1744125, 1744191, 1744258, 1744301, 1744444, 1744473, 1744546, 1744570, 1744574, 1744607, 1744667, 1744684, 1744717, 1744773, 1744774, 1744872, 1744882, 1744886, 1745125, 1745197, 1745204, 1745207, 1745225, 1745233, 1745305, 1745348, 1745380, 1745475, 1745544, 1745554, 1745671, 1745710, 1745736, 1745753, 1745876, 1745882, 1745974, 1745986, 1746008, 1746048, 1746050, 1746087, 1746089, 1746094, 1746168, 1746210, 1746334, 1746338, 1746353, 1746380, 1746474, 1746533, 1746550, 1746556, 1746623, 1746636, 1746647, 1746662, 1746814, 1746834, 1746846, 1746865, 1746874, 1746884, 1746917, 1746954, 1747039, 1747070, 1747239, 1747261, 1747284, 1747368, 1747419, 1747490, 1747577, 1747629, 1747635, 1747636, 1747639, 1747792, 1747973, 1747991, 1748029, 1748055, 1748077, 1748151, 1748159, 1748200, 1748284, 1748313, 1748338, 1748401, 1748418, 1748420, 1748427, 1748434, 1748479, 1748481, 1748546, 1748563, 1748579, 1748710, 1748739, 1748744, 1748769, 1748819, 1748845, 1748854, 1748862, 1748981, 1749000, 1749008, 1749101, 1749147, 1749295, 1749332, 1749340, 1749361, 1749365, 1749434, 1749442, 1749469, 1749521, 1749528, 1749573, 1749661, 1749688, 1749710, 1749815, 1749872, 1749873, 1749875, 1749891, 1749922, 1749932, 1749934, 1749941, 1749999, 1750029, 1750041, 1750113, 1750274, 1750296, 1750405, 1750422, 1750464, 1750466, 1750535, 1750538, 1750549, 1750550, 1750554, 1750720, 1750736, 1750738, 1750787, 1750881, 1750963, 1750965, 1750983, 1750988, 1751009, 1751050, 1751108, 1751231, 1751274, 1751278, 1751384, 1751408, 1751521, 1751533, 1751665, 1751719, 1751772, 1751798, 1751849, 1752011, 1752044, 1752155, 1752210, 1752250, 1752276, 1752303, 1752383, 1752414, 1752491, 1752547, 1752580, 1752585, 1752638, 1752648, 1752687, 1752707, 1752749, 1752756, 1752884, 1752979, 1753020, 1753045, 1753184, 1753352, 1753505, 1753642, 1753661, 1753701, 1753719, 1753749, 1753894, 1753943, 1753948, 1753963, 1753994, 1754057, 1754072, 1754075, 1754138, 1754141, 1754148, 1754155, 1754248, 1754285, 1754364, 1754388, 1754447, 1754532, 1754561, 1754565, 1754713, 1754720, 1754775, 1754891, 1754931, 1754984, 1754993, 1755009, 1755038, 1755096, 1755114, 1755189, 1755310, 1755446, 1755502, 1755518, 1755613, 1755630, 1755666, 1755681, 1755739, 1755810, 1755867, 1755952, 1755965, 1755983, 1756005, 1756095, 1756127, 1756129, 1756130, 1756292, 1756316, 1756345, 1756427, 1756466, 1756521, 1756616, 1756679, 1756708, 1756776, 1756777, 1756812, 1756877, 1756887, 1756959, 1757032, 1757057, 1757099, 1757254, 1757282, 1757371, 1757398, 1757417, 1757427, 1757517, 1757540, 1757555, 1757663, 1757679, 1757683, 1757721, 1757739, 1757807, 1757918, 1757950, 1757993, 1758011, 1758038, 1758079, 1758156, 1758193, 1758203, 1758252, 1758254, 1758266, 1758311, 1758315, 1758328, 1758356, 1758435, 1758448, 1758603, 1758661, 1758665, 1758679, 1758700, 1758750, 1758770, 1758906, 1758908, 1758926, 1759022, 1759138, 1759155, 1759165, 1759201, 1759267, 1759368, 1759416, 1759444, 1759477, 1759478, 1759511, 1759621, 1759691, 1759702, 1759758, 1759842, 1759872, 1759888, 1759927, 1760004, 1760007, 1760011, 1760099, 1760139, 1760145, 1760147, 1760189, 1760277, 1760311, 1760364, 1760374, 1760379, 1760444, 1760465, 1760513, 1760535, 1760550, 1760555, 1760630, 1760675, 1760702, 1760714, 1760803, 1760902, 1760904, 1760938, 1760991, 1761007, 1761069, 1761084, 1761099, 1761136, 1761172, 1761185, 1761280, 1761281, 1761304, 1761325, 1761387, 1761493, 1761610, 1761702, 1761748, 1761781, 1761994, 1762029, 1762192, 1762194, 1762201, 1762283, 1762295, 1762489, 1762599, 1762605, 1762617, 1762650, 1762725, 1762772, 1762823, 1762856, 1762888, 1762899, 1762928, 1762953, 1762969, 1763011, 1763062, 1763220, 1763383, 1763430, 1763518, 1763537, 1763546, 1763592, 1763607, 1763609, 1763618, 1763644, 1763727, 1763736, 1763871, 1763990, 1764018, 1764236, 1764266, 1764269, 1764328, 1764541, 1764542, 1764591, 1764621, 1764687, 1764745, 1764771, 1764783, 1764785, 1764826, 1764856, 1764858, 1764910, 1764955, 1764973, 1764976, 1765065, 1765070, 1765072, 1765136, 1765287, 1765313, 1765372, 1765521, 1765571, 1765687, 1765782, 1765795, 1765815, 1765866, 1765881, 1765902, 1765920, 1765954, 1765960, 1766019, 1766118, 1766250, 1766263, 1766266, 1766268, 1766339, 1766413, 1766414, 1766424, 1766458, 1766529, 1766553, 1766584, 1766594, 1766609, 1766622, 1766675, 1766754, 1766784, 1766944, 1766970, 1767246, 1767262, 1767293, 1767327, 1767345, 1767361, 1767461, 1767478, 1767484, 1767503, 1767530, 1767563, 1767566, 1767644, 1767654, 1767676, 1767714, 1767784, 1767819, 1767896, 1767929, 1768084, 1768089, 1768118, 1768122, 1768155, 1768187, 1768308, 1768350, 1768365, 1768385, 1768446, 1768513, 1768568, 1768576, 1768601, 1768682, 1768690, 1768718, 1768724, 1768785, 1768819, 1768855, 1768866, 1768869, 1768884, 1768935, 1768984, 1768986, 1769041, 1769094, 1769107, 1769148, 1769163, 1769183, 1769198, 1769224, 1769285, 1769350, 1769381, 1769449, 1769455, 1769510, 1769518, 1769526, 1769581, 1769652, 1769660, 1769696, 1769732, 1769776, 1769906, 1769915, 1769916, 1769932, 1770042, 1770240, 1770406, 1770408, 1770459, 1770589, 1770591, 1770619, 1770752, 1770797, 1770805, 1770895, 1770971, 1771140, 1771163, 1771171, 1771347, 1771358, 1771376, 1771508, 1771514, 1771616, 1771631, 1771635, 1771636, 1771744, 1771786, 1771818, 1771861, 1772124, 1772279, 1772288, 1772387, 1772405, 1772431, 1772434, 1772494, 1772583, 1772652, 1772691, 1772699, 1772723, 1772725, 1772756, 1772851, 1772893, 1772903, 1772919, 1772953, 1772997, 1773065, 1773086, 1773132, 1773157, 1773263, 1773276, 1773300, 1773311, 1773360, 1773372, 1773374, 1773427, 1773492, 1773525, 1773540, 1773676, 1773689, 1773699, 1773702, 1773712, 1773744, 1773745, 1773770, 1773820, 1773821, 1773829, 1773912, 1773930, 1773982, 1773989, 1774028, 1774157, 1774209, 1774234, 1774290, 1774295, 1774340, 1774421, 1774429, 1774479, 1774482, 1774508, 1774548, 1774595, 1774659, 1774672, 1774673, 1774863, 1774881, 1774891, 1774905, 1774921, 1774995, 1775123, 1775165, 1775178, 1775206, 1775208, 1775245, 1775324, 1775335, 1775397, 1775407, 1775448, 1775539, 1775637, 1775652, 1775718, 1775725, 1775785, 1775789, 1775810, 1775825, 1775833, 1775979, 1776042, 1776117, 1776152, 1776247, 1776253, 1776260, 1776274, 1776386, 1776419, 1776422, 1776439, 1776450, 1776472, 1776558, 1776591, 1776619, 1776666, 1776681, 1776704, 1776709, 1776745, 1776819, 1776878, 1776984, 1776991, 1777039, 1777045, 1777075, 1777200, 1777221, 1777264, 1777286, 1777315, 1777390, 1777398, 1777419, 1777449, 1777461, 1777474, 1777617, 1777713, 1777747, 1777756, 1777801, 1777818, 1777832, 1777852, 1777870, 1777873, 1777896, 1777945, 1777977, 1778004, 1778018, 1778050, 1778208, 1778211, 1778303, 1778316, 1778359, 1778386, 1778526, 1778531, 1778589, 1778597, 1778598, 1778642, 1778647, 1778682, 1778721, 1778749, 1778786, 1778843, 1778887, 1779085, 1779092, 1779099, 1779155, 1779174, 1779179, 1779419, 1779606, 1779622, 1779630, 1779677, 1779841, 1779873, 1779919, 1779990, 1780009, 1780010, 1780053, 1780088, 1780100, 1780156, 1780191, 1780196, 1780241, 1780254, 1780266, 1780267, 1780358, 1780406, 1780435, 1780438, 1780476, 1780502, 1780619, 1780666, 1780712, 1780739, 1780758, 1780845, 1780867, 1780952, 1781031, 1781220, 1781251, 1781270, 1781373, 1781391, 1781476, 1781500, 1781513, 1781595, 1781619, 1781698, 1781723, 1781797, 1781845, 1781959, 1782046, 1782048, 1782069, 1782099, 1782206, 1782241, 1782262, 1782295, 1782322, 1782334, 1782365, 1782368, 1782437, 1782505, 1782514, 1782580, 1782608, 1782679, 1782831, 1782849, 1782853, 1782861, 1782891, 1782902, 1782927, 1783004, 1783094, 1783115, 1783127, 1783164, 1783231, 1783247, 1783251, 1783387, 1783511, 1783601, 1783610, 1783696, 1783724, 1783810, 1783819, 1783903, 1783909, 1783946, 1784022, 1784036, 1784192, 1784336, 1784356, 1784418, 1784605, 1784638, 1784796, 1784828, 1784885, 1784958, 1785009, 1785249, 1785271, 1785284, 1785305, 1785326, 1785429, 1785442, 1785448, 1785566, 1785591, 1785633, 1785708, 1785808, 1785895, 1785983, 1786043, 1786048, 1786069, 1786105, 1786152, 1786162, 1786256, 1786264, 1786336, 1786339, 1786359, 1786428, 1786521, 1786623, 1786667, 1786740, 1786756, 1786798, 1786799, 1786848, 1786874, 1786959, 1786979, 1787141, 1787209, 1787254, 1787271, 1787436, 1787452, 1787624, 1787628, 1787635, 1787759, 1787820, 1787908, 1788135, 1788204, 1788227, 1788265, 1788271, 1788291, 1788321, 1788360, 1788417, 1788467, 1788478, 1788570, 1788615, 1788628, 1788859, 1788865, 1789123, 1789181, 1789228, 1789288, 1789312, 1789325, 1789363, 1789506, 1789672, 1789790, 1789801, 1789804, 1789866, 1789875, 1789928, 1789979, 1789989, 1790077, 1790200, 1790243, 1790259, 1790324, 1790355, 1790428, 1790433, 1790438, 1790535, 1790602, 1790606, 1790611, 1790616, 1790695, 1790816, 1790832, 1790955, 1791007, 1791034, 1791207, 1791211, 1791215, 1791295, 1791300, 1791381, 1791479, 1791485, 1791488, 1791549, 1791554, 1791568, 1791689, 1791702, 1791715, 1791722, 1791780, 1791781, 1791835, 1792004, 1792045, 1792067, 1792083, 1792207, 1792251, 1792268, 1792271, 1792461, 1792553, 1792585, 1792609, 1792613, 1792624, 1792630, 1792671, 1792777, 1792854, 1792856, 1792869, 1792949, 1793059, 1793070, 1793100, 1793190, 1793236, 1793300, 1793328, 1793330, 1793476, 1793569, 1793607, 1793666, 1793738, 1793835, 1793839, 1793976, 1794027, 1794036, 1794093, 1794244, 1794269, 1794342, 1794468, 1794497, 1794500, 1794520, 1794522, 1794527, 1794547, 1794558, 1794577, 1794616, 1794654, 1794671, 1794722, 1794751, 1794768, 1794829, 1794864, 1794883, 1794904, 1794996, 1795012, 1795042, 1795150, 1795180, 1795277, 1795319, 1795333, 1795343, 1795363, 1795468, 1795474, 1795605, 1795654, 1795660, 1795682, 1795736, 1795778, 1795805, 1795826, 1795895, 1795988, 1795995, 1796048, 1796063, 1796081, 1796103, 1796106, 1796115, 1796208, 1796250, 1796273, 1796325, 1796382, 1796489, 1796520, 1796606, 1796609, 1796753, 1796857, 1796913, 1796925, 1796971, 1796991, 1797010, 1797086, 1797147, 1797174, 1797234, 1797311, 1797399, 1797449, 1797464, 1797487, 1797565, 1797609, 1797664, 1797728, 1797774, 1797822, 1797899, 1797902, 1797929, 1797950, 1798003, 1798038, 1798053, 1798122, 1798141, 1798150, 1798214, 1798252, 1798388, 1798464, 1798473, 1798538, 1798580, 1798581, 1798588, 1798733, 1798776, 1798852, 1798864, 1798913, 1798916, 1798934, 1798974, 1799121, 1799133, 1799148, 1799158, 1799303, 1799312, 1799359, 1799471, 1799512, 1799758, 1799768, 1799801, 1799854, 1799939, 1799950, 1799955, 1799976, 1800037, 1800054, 1800072, 1800086, 1800104, 1800165, 1800293, 1800317, 1800333, 1800479, 1800640, 1800678, 1800784, 1800794, 1800795, 1800871, 1800879, 1800924, 1800933, 1800943, 1800959, 1801026, 1801037, 1801124, 1801127, 1801245, 1801301, 1801320, 1801386, 1801524, 1801598, 1801605, 1801781, 1801866, 1801911, 1801976, 1802149, 1802242, 1802284, 1802349, 1802463, 1802485, 1802490, 1802565, 1802693, 1802721, 1802747, 1802769, 1802774, 1802833, 1802834, 1802836, 1802890, 1803001, 1803026, 1803027, 1803044, 1803139, 1803232, 1803276, 1803292, 1803316, 1803348, 1803507, 1803627, 1803636, 1803646, 1803683, 1803684, 1803727, 1803829, 1803938, 1804002, 1804024, 1804116, 1804120, 1804128, 1804165, 1804192, 1804196, 1804260, 1804368, 1804421, 1804513, 1804584, 1804692, 1804788, 1804831, 1804837, 1804847, 1804960, 1804974, 1805024, 1805125, 1805182, 1805310, 1805325, 1805402, 1805466, 1805487, 1805488, 1805501, 1805566, 1805606, 1805610, 1805619, 1805645, 1805799, 1805804, 1805844, 1805845, 1805860, 1805864, 1805910, 1805951, 1805963, 1805986, 1806014, 1806020, 1806088, 1806155, 1806173, 1806178, 1806279, 1806324, 1806345, 1806363, 1806378, 1806402, 1806412, 1806506, 1806509, 1806551, 1806589, 1806668, 1806679, 1806787, 1806816, 1806823, 1806881, 1806894, 1806956, 1806981, 1807121, 1807186, 1807247, 1807507, 1807644, 1807708, 1807757, 1807776, 1807786, 1807930, 1807951, 1807958, 1807972, 1808009, 1808054, 1808057, 1808125, 1808246, 1808266, 1808291, 1808349, 1808353, 1808377, 1808463, 1808567, 1808605, 1808643, 1808701, 1808706, 1808739, 1808827, 1808914, 1808919, 1808931, 1808934, 1808942, 1808999, 1809002, 1809019, 1809080, 1809100, 1809127, 1809132, 1809144, 1809146, 1809189, 1809233, 1809309, 1809417, 1809429, 1809546, 1809559, 1809598, 1809674, 1809726, 1809864, 1809893, 1810003, 1810229, 1810294, 1810303, 1810431, 1810454, 1810463, 1810473, 1810484, 1810579, 1810630, 1810739, 1810773, 1810824, 1810895, 1810902, 1810911, 1810937, 1810983, 1811026, 1811091, 1811100, 1811141, 1811176, 1811205, 1811207, 1811226, 1811301, 1811382, 1811385, 1811410, 1811493, 1811663, 1811746, 1811761, 1811814, 1811878, 1811929, 1811984, 1812029, 1812065, 1812196, 1812227, 1812254, 1812305, 1812339, 1812430, 1812507, 1812525, 1812540, 1812565, 1812573, 1812670, 1812772, 1812932, 1812973, 1813027, 1813032, 1813044, 1813196, 1813228, 1813262, 1813273, 1813293, 1813322, 1813333, 1813401, 1813464, 1813502, 1813527, 1813567, 1813578, 1813747, 1813758, 1813890, 1813902, 1813921, 1813922, 1813928, 1814036, 1814039, 1814072, 1814105, 1814223, 1814246, 1814251, 1814258, 1814265, 1814278, 1814318, 1814357, 1814472, 1814507, 1814561, 1814569, 1814602, 1814633, 1814676, 1814701, 1814727, 1814744, 1814764, 1814811, 1814812, 1814889, 1814899, 1814945, 1814990, 1815003, 1815111, 1815191, 1815276, 1815334, 1815396, 1815403, 1815463, 1815583, 1815596, 1815658, 1815708, 1815739, 1815791, 1815817, 1815825, 1815894, 1815950, 1816060, 1816083, 1816103, 1816163, 1816222, 1816285, 1816289, 1816303, 1816312, 1816317, 1816325, 1816328, 1816331, 1816379, 1816561, 1816624, 1816643, 1816693, 1816694, 1816699, 1816744, 1816795, 1816826, 1816868, 1816872, 1816895, 1816904, 1816941, 1816951, 1816963, 1817002, 1817003, 1817076, 1817100, 1817107, 1817201, 1817206, 1817245, 1817308, 1817335, 1817359, 1817372, 1817406, 1817411, 1817491, 1817518, 1817561, 1817569, 1817620, 1817723, 1817802, 1817982, 1818025, 1818081, 1818174, 1818177, 1818187, 1818252, 1818273, 1818382, 1818457, 1818594, 1818597, 1818608, 1818629, 1818660, 1818691, 1818777, 1818798, 1818905, 1818947, 1818964, 1818979, 1818995, 1819003, 1819011, 1819075, 1819150, 1819159, 1819238, 1819329, 1819342, 1819363, 1819596, 1819608, 1819636, 1819652, 1819681, 1819697, 1819985, 1820036, 1820040, 1820168, 1820184, 1820218, 1820253, 1820294, 1820304, 1820336, 1820339, 1820360, 1820409, 1820447, 1820476, 1820521, 1820529, 1820548, 1820570, 1820668, 1820828, 1820846, 1820856, 1820872, 1820912, 1820922, 1820990, 1821153, 1821154, 1821368, 1821375, 1821378, 1821418, 1821576, 1821607, 1821680, 1821821, 1821833, 1821913, 1821957, 1821976, 1821977, 1821994, 1822028, 1822159, 1822197, 1822237, 1822284, 1822294, 1822340, 1822409, 1822433, 1822483, 1822553, 1822626, 1822633, 1822658, 1822664, 1822779, 1822880, 1822917, 1822936, 1822964, 1822967, 1822980, 1823011, 1823013, 1823093, 1823097, 1823134, 1823141, 1823148, 1823160, 1823193, 1823351, 1823400, 1823464, 1823478, 1823515, 1823537, 1823585, 1823600, 1823613, 1823623, 1823722, 1823727, 1823816, 1823838, 1823908, 1823939, 1823943, 1823971, 1823982, 1824010, 1824040, 1824064, 1824091, 1824108, 1824180, 1824311, 1824529, 1824537, 1824550, 1824597, 1824622, 1824628, 1824700, 1824710, 1824765, 1824781, 1824862, 1824869, 1824917, 1824961, 1824988, 1825007, 1825109, 1825111, 1825164, 1825205, 1825235, 1825255, 1825282, 1825292, 1825318, 1825355, 1825413, 1825453, 1825459, 1825536, 1825542, 1825553, 1825595, 1825662, 1825667, 1825701, 1825739, 1825743, 1825786, 1825802, 1825872, 1825916, 1825930, 1825938, 1826020, 1826023, 1826056, 1826099, 1826156, 1826175, 1826254, 1826259, 1826282, 1826322, 1826353, 1826394, 1826438, 1826439, 1826448, 1826452, 1826483, 1826532, 1826669, 1826781, 1826871, 1826885, 1826888, 1826905, 1826934, 1826992, 1827007, 1827084, 1827113, 1827120, 1827133, 1827143, 1827204, 1827273, 1827294, 1827359, 1827404, 1827420, 1827574, 1827602, 1827663, 1827666, 1827689, 1827690, 1827716, 1827717, 1827761, 1827762, 1827770, 1827791, 1827798, 1827820, 1827844, 1827894, 1828130, 1828137, 1828148, 1828250, 1828408, 1828496, 1828560, 1828571, 1828595, 1828616, 1828695, 1828810, 1828824, 1828890, 1828944, 1828965, 1829021, 1829036, 1829058, 1829084, 1829140, 1829206, 1829214, 1829217, 1829283, 1829320, 1829445, 1829472, 1829603, 1829621, 1829658, 1829719, 1829769, 1829824, 1829876, 1829877, 1829989, 1829991, 1829998, 1830003, 1830088, 1830135, 1830153, 1830154, 1830179, 1830208, 1830292, 1830318, 1830322, 1830324, 1830325, 1830408, 1830499, 1830561, 1830579, 1830582, 1830649, 1830654, 1830687, 1830698, 1830722, 1830730, 1830768, 1830842, 1830872, 1830900, 1830929, 1830975, 1831088, 1831175, 1831196, 1831249, 1831355, 1831406, 1831430, 1831436, 1831457, 1831496, 1831509, 1831510, 1831553, 1831585, 1831588, 1831596, 1831617, 1831713, 1831722, 1831845, 1831855, 1831874, 1831927, 1832069, 1832087, 1832092, 1832124, 1832219, 1832224, 1832263, 1832301, 1832325, 1832332, 1832339, 1832358, 1832387, 1832425, 1832572, 1832603, 1832623, 1832651, 1832665, 1832784, 1832878, 1833053, 1833074, 1833091, 1833240, 1833252, 1833264, 1833317, 1833320, 1833386, 1833571, 1833592, 1833594, 1833774, 1833804, 1833806, 1833818, 1833893, 1833953, 1833996, 1834038, 1834091, 1834098, 1834136, 1834215, 1834246, 1834311, 1834373, 1834416, 1834442, 1834474, 1834527, 1834547, 1834557, 1834572, 1834600, 1834640, 1834653, 1834686, 1834698, 1834761, 1834804, 1834819, 1834856, 1834878, 1834888, 1834932, 1834950, 1835031, 1835034, 1835122, 1835151, 1835190, 1835223, 1835306, 1835510, 1835534, 1835595, 1835630, 1835699, 1835862, 1835902, 1835907, 1835930, 1836004, 1836036, 1836089, 1836192, 1836283, 1836343, 1836366, 1836488, 1836588, 1836719, 1836720, 1836735, 1836783, 1836826, 1836841, 1836850, 1836962, 1836987, 1837008, 1837013, 1837028, 1837133, 1837139, 1837178, 1837194, 1837206, 1837275, 1837371, 1837386, 1837490, 1837614, 1837640, 1837714, 1837738, 1837787, 1837818, 1837876, 1837932, 1838020, 1838079, 1838090, 1838139, 1838158, 1838171, 1838173, 1838205, 1838221, 1838266, 1838282, 1838302, 1838309, 1838329, 1838376, 1838384, 1838439, 1838516, 1838577, 1838579, 1838617, 1838655, 1838739, 1838826, 1838935, 1839025, 1839034, 1839072, 1839082, 1839089, 1839213, 1839236, 1839247, 1839276, 1839342, 1839407, 1839449, 1839460, 1839514, 1839527, 1839543, 1839617, 1839690, 1839733, 1839747, 1839863, 1839877, 1840006, 1840089, 1840107, 1840232, 1840288, 1840358, 1840382, 1840384, 1840392, 1840418, 1840547, 1840594, 1840595, 1840615, 1840663, 1840710, 1840759, 1840767, 1840809, 1840923, 1840927, 1841011, 1841026, 1841122, 1841124, 1841144, 1841165, 1841242, 1841279, 1841297, 1841333, 1841373, 1841395, 1841403, 1841406, 1841413, 1841461, 1841482, 1841505, 1841513, 1841541, 1841566, 1841621, 1841712, 1841829, 1841912, 1841938, 1841985, 1842015, 1842074, 1842100, 1842127, 1842128, 1842168, 1842170, 1842209, 1842246, 1842272, 1842437, 1842499, 1842515, 1842571, 1842606, 1842620, 1842675, 1842748, 1842771, 1842898, 1843110, 1843227, 1843293, 1843305, 1843369, 1843528, 1843756, 1843804, 1843935, 1844075, 1844174, 1844235, 1844273, 1844301, 1844379, 1844390, 1844471, 1844498, 1844547, 1844570, 1844625, 1844650, 1844820, 1844832, 1844859, 1844893, 1844895, 1844934, 1845078, 1845084, 1845119, 1845131, 1845151, 1845159, 1845169, 1845179, 1845204, 1845233, 1845235, 1845253, 1845275, 1845284, 1845368, 1845432, 1845441, 1845461, 1845536, 1845552, 1845568, 1845776, 1845777, 1845859, 1845885, 1845894, 1846077, 1846266, 1846345, 1846375, 1846377, 1846395, 1846449, 1846468, 1846522, 1846594, 1846623, 1846643, 1846692, 1846704, 1846854, 1847025, 1847059, 1847074, 1847129, 1847161, 1847290, 1847335, 1847373, 1847392, 1847571, 1847626, 1847685, 1847686, 1847710, 1847746, 1847754, 1847801, 1847807, 1847815, 1847850, 1847871, 1847913, 1848035, 1848052, 1848061, 1848068, 1848083, 1848140, 1848149, 1848173, 1848225, 1848244, 1848253, 1848291, 1848300, 1848372, 1848468, 1848500, 1848501, 1848513, 1848588, 1848591, 1848809, 1848820, 1848934, 1848950, 1848983, 1849010, 1849066, 1849118, 1849129, 1849183, 1849199, 1849238, 1849326, 1849415, 1849436, 1849505, 1849566, 1849579, 1849590, 1849642, 1849646, 1849795, 1849816, 1849832, 1849853, 1849952, 1850045, 1850094, 1850100, 1850102, 1850158, 1850161, 1850245, 1850385, 1850437, 1850476, 1850614, 1850648, 1850654, 1850660, 1850712, 1850729, 1850780, 1850819, 1850899, 1850954, 1850969, 1851042, 1851233, 1851239, 1851286, 1851288, 1851290, 1851316, 1851339, 1851362, 1851397, 1851407, 1851419, 1851426, 1851513, 1851548, 1851567, 1851599, 1851616, 1851653, 1851680, 1851682, 1851698, 1851708, 1851758, 1851860, 1851896, 1852051, 1852066, 1852114, 1852118, 1852163, 1852201, 1852214, 1852309, 1852341, 1852413, 1852428, 1852502, 1852540, 1852627, 1852687, 1852709, 1852756, 1852760, 1852785, 1852851, 1852924, 1852972, 1852985, 1853014, 1853067, 1853098, 1853123, 1853174, 1853183, 1853185, 1853223, 1853288, 1853302, 1853305, 1853316, 1853332, 1853486, 1853605, 1853641, 1853862, 1854016, 1854028, 1854038, 1854061, 1854081, 1854087, 1854126, 1854155, 1854174, 1854208, 1854334, 1854336, 1854347, 1854356, 1854646, 1854661, 1854668, 1854762, 1854775, 1854872, 1854920, 1854975, 1855012, 1855113, 1855114, 1855162, 1855214, 1855215, 1855269, 1855293, 1855331, 1855333, 1855334, 1855339, 1855393, 1855412, 1855445, 1855464, 1855500, 1855502, 1855584]}"
      ]
     },
     "execution_count": 54,
     "metadata": {},
     "output_type": "execute_result"
    }
   ],
   "source": [
    "dls.classes"
   ]
  },
  {
   "cell_type": "code",
   "execution_count": 55,
   "metadata": {
    "pycharm": {
     "name": "#%%\n"
    }
   },
   "outputs": [
    {
     "data": {
      "text/html": [
       "\n",
       "<style>\n",
       "    /* Turns off some styling */\n",
       "    progress {\n",
       "        /* gets rid of default border in Firefox and Opera. */\n",
       "        border: none;\n",
       "        /* Needs to be in here for Safari polyfill so background images work as expected. */\n",
       "        background-size: auto;\n",
       "    }\n",
       "    progress:not([value]), progress:not([value])::-webkit-progress-bar {\n",
       "        background: repeating-linear-gradient(45deg, #7e7e7e, #7e7e7e 10px, #5c5c5c 10px, #5c5c5c 20px);\n",
       "    }\n",
       "    .progress-bar-interrupted, .progress-bar-interrupted::-webkit-progress-bar {\n",
       "        background: #F44336;\n",
       "    }\n",
       "</style>\n"
      ],
      "text/plain": [
       "<IPython.core.display.HTML object>"
      ]
     },
     "metadata": {},
     "output_type": "display_data"
    },
    {
     "data": {
      "text/html": [],
      "text/plain": [
       "<IPython.core.display.HTML object>"
      ]
     },
     "metadata": {},
     "output_type": "display_data"
    },
    {
     "name": "stdout",
     "output_type": "stream",
     "text": [
      "SuggestedLRs(slide=0.00363078061491251, valley=0.03981071710586548)\n",
      "Learning Rate:  0.021720748860388994\n"
     ]
    },
    {
     "data": {
      "image/png": "[encoded data removed]",
      "text/plain": [
       "<Figure size 640x480 with 1 Axes>"
      ]
     },
     "metadata": {},
     "output_type": "display_data"
    }
   ],
   "source": [
    "learn = collab_learner(dls, n_factors=50, y_range=(0, 3.5))\n",
    "lr_rate = learn.lr_find(suggest_funcs=[slide, valley])\n",
    "print(lr_rate)\n",
    "lr=(lr_rate[0] + lr_rate[1])/2\n",
    "print('Learning Rate: ',lr)"
   ]
  },
  {
   "cell_type": "code",
   "execution_count": 57,
   "metadata": {
    "pycharm": {
     "name": "#%%\n"
    }
   },
   "outputs": [
    {
     "data": {
      "text/html": [
       "\n",
       "<style>\n",
       "    /* Turns off some styling */\n",
       "    progress {\n",
       "        /* gets rid of default border in Firefox and Opera. */\n",
       "        border: none;\n",
       "        /* Needs to be in here for Safari polyfill so background images work as expected. */\n",
       "        background-size: auto;\n",
       "    }\n",
       "    progress:not([value]), progress:not([value])::-webkit-progress-bar {\n",
       "        background: repeating-linear-gradient(45deg, #7e7e7e, #7e7e7e 10px, #5c5c5c 10px, #5c5c5c 20px);\n",
       "    }\n",
       "    .progress-bar-interrupted, .progress-bar-interrupted::-webkit-progress-bar {\n",
       "        background: #F44336;\n",
       "    }\n",
       "</style>\n"
      ],
      "text/plain": [
       "<IPython.core.display.HTML object>"
      ]
     },
     "metadata": {},
     "output_type": "display_data"
    },
    {
     "data": {
      "text/html": [
       "<table border=\"1\" class=\"dataframe\">\n",
       "  <thead>\n",
       "    <tr style=\"text-align: left;\">\n",
       "      <th>epoch</th>\n",
       "      <th>train_loss</th>\n",
       "      <th>valid_loss</th>\n",
       "      <th>time</th>\n",
       "    </tr>\n",
       "  </thead>\n",
       "  <tbody>\n",
       "    <tr>\n",
       "      <td>0</td>\n",
       "      <td>0.150075</td>\n",
       "      <td>0.229133</td>\n",
       "      <td>00:16</td>\n",
       "    </tr>\n",
       "    <tr>\n",
       "      <td>1</td>\n",
       "      <td>0.164097</td>\n",
       "      <td>0.231323</td>\n",
       "      <td>00:17</td>\n",
       "    </tr>\n",
       "    <tr>\n",
       "      <td>2</td>\n",
       "      <td>0.141206</td>\n",
       "      <td>0.209535</td>\n",
       "      <td>00:17</td>\n",
       "    </tr>\n",
       "    <tr>\n",
       "      <td>3</td>\n",
       "      <td>0.105962</td>\n",
       "      <td>0.199641</td>\n",
       "      <td>00:16</td>\n",
       "    </tr>\n",
       "    <tr>\n",
       "      <td>4</td>\n",
       "      <td>0.089114</td>\n",
       "      <td>0.202206</td>\n",
       "      <td>00:14</td>\n",
       "    </tr>\n",
       "  </tbody>\n",
       "</table>"
      ],
      "text/plain": [
       "<IPython.core.display.HTML object>"
      ]
     },
     "metadata": {},
     "output_type": "display_data"
    }
   ],
   "source": [
    "learn.fit_one_cycle(5, lr)"
   ]
  },
  {
   "cell_type": "code",
   "execution_count": 61,
   "metadata": {
    "pycharm": {
     "name": "#%%\n"
    }
   },
   "outputs": [
    {
     "name": "stdout",
     "output_type": "stream",
     "text": [
      "tensor([-1.1173e-04, -1.0228e+00, -3.7369e-01,  ..., -5.3659e-01, -3.7458e-01, -1.9647e-01], grad_fn=<SqueezeBackward0>)\n",
      "tensor([16652, 35150, 19720, 18649, 31123, 34064, 20220, 37191,  3178, 21560])\n"
     ]
    },
    {
     "data": {
      "text/plain": [
       "[809225,\n",
       " 1702270,\n",
       " 958090,\n",
       " 904915,\n",
       " 1509738,\n",
       " 1650535,\n",
       " 980509,\n",
       " 1802836,\n",
       " 155374,\n",
       " 1044108]"
      ]
     },
     "execution_count": 61,
     "metadata": {},
     "output_type": "execute_result"
    }
   ],
   "source": [
    "product_bias = learn.model.i_bias.weight.squeeze()\n",
    "print(product_bias)\n",
    "idxs = product_bias.argsort(descending=True)[:10]\n",
    "print(idxs)\n",
    "[dls.classes['aid'][i] for i in idxs]"
   ]
  },
  {
   "cell_type": "code",
   "execution_count": 186,
   "outputs": [
    {
     "data": {
      "text/plain": "[725902,\n 1532501,\n 1194834,\n 1464063,\n 1122752,\n 1682280,\n 260425,\n 673407,\n 1626731,\n 1807644,\n 134068,\n 543862,\n 615771,\n 818844,\n 636390,\n 1232436,\n 813208,\n 806416,\n 660775,\n 109382,\n 1784036,\n 1069364,\n 866174,\n 332654,\n 307249,\n 592605,\n 1836036,\n 809225,\n 405022,\n 1475890,\n 186405,\n 402265,\n 1471029,\n 1280753,\n 1275991,\n 635464,\n 178417,\n 433327,\n 1726746,\n 1286636,\n 1077803,\n 848164,\n 690107,\n 633619,\n 1724354,\n 1694143,\n 1084758,\n 1701855,\n 1702270,\n 1083665,\n 1239831,\n 610448,\n 842908,\n 834049,\n 162064,\n 619885,\n 1689754,\n 1351523,\n 399315,\n 346199,\n 678202,\n 1167802,\n 728774,\n 1537160,\n 1211210,\n 718019,\n 716538,\n 346333,\n 1569264,\n 1482457,\n 341908,\n 708985,\n 310346,\n 1562707,\n 1561331,\n 706703,\n 329725,\n 697883,\n 359626,\n 1221484,\n 672538,\n 750993,\n 647577,\n 198496,\n 200530,\n 1650562,\n 1746048,\n 210931,\n 1127933,\n 1501332,\n 1230740,\n 1229383,\n 770581,\n 1508062,\n 1139745,\n 1140478,\n 1511908,\n 372942,\n 671142,\n 1122211]"
     },
     "execution_count": 186,
     "metadata": {},
     "output_type": "execute_result"
    }
   ],
   "source": [
    "top_products = df[df['type_cat'] == 2].drop('type_cat', axis=1).groupby('aid').count().sort_values(by='session',ascending=False).drop('session', axis=1).iloc[:100]\n",
    "top_products = list(top_products.index)\n",
    "top_products"
   ],
   "metadata": {
    "collapsed": false,
    "pycharm": {
     "name": "#%%\n"
    }
   }
  },
  {
   "cell_type": "code",
   "execution_count": 161,
   "outputs": [
    {
     "data": {
      "text/plain": "torch.Size([100])"
     },
     "execution_count": 161,
     "metadata": {},
     "output_type": "execute_result"
    }
   ],
   "source": [
    "product_bias = learn.model.bias(top_products, is_item=True)\n",
    "product_bias.shape"
   ],
   "metadata": {
    "collapsed": false,
    "pycharm": {
     "name": "#%%\n"
    }
   }
  },
  {
   "cell_type": "code",
   "execution_count": 215,
   "outputs": [
    {
     "data": {
      "text/plain": "[(tensor(-0.0628), 725902, 0.6666666666666666),\n (tensor(-0.0148), 1532501, 0.631578947368421),\n (tensor(-0.7087), 1194834, 0.3409090909090909),\n (tensor(-0.0072), 1464063, 0.7222222222222222),\n (tensor(0.2144), 1122752, 0.7222222222222222),\n (tensor(-0.0530), 1682280, 0.75),\n (tensor(-0.1031), 260425, 0.45454545454545453),\n (tensor(-0.0405), 673407, 0.3902439024390244),\n (tensor(-0.3620), 1626731, 0.5),\n (tensor(0.0403), 1807644, 0.5238095238095238),\n (tensor(0.2786), 134068, 0.75),\n (tensor(-0.0844), 543862, 0.75),\n (tensor(-0.9131), 615771, 0.23684210526315788),\n (tensor(-0.0192), 818844, 0.6666666666666666),\n (tensor(-0.7452), 636390, 0.45454545454545453),\n (tensor(0.3287), 1232436, 0.8181818181818182),\n (tensor(-0.0032), 813208, 0.6666666666666666),\n (tensor(0.0703), 806416, 0.7333333333333333),\n (tensor(-0.0768), 660775, 0.8181818181818182),\n (tensor(-0.3784), 109382, 0.4230769230769231),\n (tensor(-0.6006), 1784036, 0.4444444444444444),\n (tensor(-0.2928), 1069364, 0.47619047619047616),\n (tensor(0.6011), 866174, 1.0),\n (tensor(-0.6314), 332654, 0.19736842105263158),\n (tensor(0.0236), 307249, 0.6428571428571429),\n (tensor(-0.0508), 592605, 0.6),\n (tensor(0.0022), 1836036, 0.7692307692307693),\n (tensor(1.0632), 809225, 1.0),\n (tensor(0.1411), 405022, 0.6),\n (tensor(0.1098), 1475890, 1.0),\n (tensor(-0.1522), 186405, 0.7142857142857143),\n (tensor(0.5982), 402265, 1.5),\n (tensor(-0.0408), 1471029, 0.8571428571428571),\n (tensor(0.0961), 1280753, 0.8571428571428571),\n (tensor(-0.0843), 1275991, 0.6363636363636364),\n (tensor(0.4236), 635464, 0.7272727272727273),\n (tensor(0.0451), 178417, 1.3333333333333333),\n (tensor(0.4571), 433327, 1.0),\n (tensor(-0.1564), 1726746, 0.6363636363636364),\n (tensor(-0.5612), 1286636, 0.46153846153846156),\n (tensor(0.2913), 1077803, 1.2),\n (tensor(0.3289), 848164, 0.75),\n (tensor(-0.1622), 690107, 0.75),\n (tensor(0.2558), 633619, 0.6666666666666666),\n (tensor(0.2731), 1724354, 1.0),\n (tensor(-0.0209), 1694143, 1.0),\n (tensor(-0.9333), 1084758, 0.29411764705882354),\n (tensor(0.2164), 1701855, 0.75),\n (tensor(0.9773), 1702270, 1.3333333333333333),\n (tensor(-0.7084), 1083665, 0.24324324324324326),\n (tensor(0.2505), 1239831, 2.0),\n (tensor(0.5574), 610448, 1.0),\n (tensor(-0.6973), 842908, 0.2608695652173913),\n (tensor(-0.2209), 834049, 0.6666666666666666),\n (tensor(-0.2332), 162064, 0.75),\n (tensor(-0.6169), 619885, 0.27586206896551724),\n (tensor(-0.1857), 1689754, 0.6666666666666666),\n (tensor(0.3203), 1351523, 0.7),\n (tensor(-1.2448), 399315, 0.1875),\n (tensor(-0.2184), 346199, 0.5384615384615384),\n (tensor(0.0394), 678202, 0.6),\n (tensor(0.3945), 1167802, 0.8571428571428571),\n (tensor(-0.6404), 728774, 0.36363636363636365),\n (tensor(0.2436), 1537160, 1.0),\n (tensor(-0.4513), 1211210, 0.4375),\n (tensor(0.1543), 718019, 0.5454545454545454),\n (tensor(0.2019), 716538, 1.0),\n (tensor(-0.4553), 346333, 0.6666666666666666),\n (tensor(-0.3884), 1569264, 0.6666666666666666),\n (tensor(0.5690), 1482457, 1.2),\n (tensor(-0.5885), 341908, 0.6666666666666666),\n (tensor(0.1812), 708985, 0.75),\n (tensor(0.4261), 310346, 0.875),\n (tensor(-0.3395), 1562707, 0.46153846153846156),\n (tensor(0.2400), 1561331, 0.75),\n (tensor(-0.0014), 706703, 1.0),\n (tensor(-0.9029), 329725, 0.21739130434782608),\n (tensor(-0.7297), 697883, 0.27586206896551724),\n (tensor(0.4525), 359626, 1.2),\n (tensor(0.1456), 1221484, 1.0),\n (tensor(0.6505), 672538, 1.2),\n (tensor(0.5215), 750993, 2.0),\n (tensor(0.0375), 647577, 1.0),\n (tensor(-0.8497), 198496, 0.5454545454545454),\n (tensor(-0.2689), 200530, 0.6428571428571429),\n (tensor(0.0106), 1650562, 0.75),\n (tensor(-0.3345), 1746048, 0.3076923076923077),\n (tensor(0.1901), 210931, 1.2),\n (tensor(-0.2621), 1127933, 0.5384615384615384),\n (tensor(0.4671), 1501332, 1.0),\n (tensor(0.1569), 1230740, 0.7777777777777778),\n (tensor(-0.0723), 1229383, 0.42857142857142855),\n (tensor(-0.6709), 770581, 0.25),\n (tensor(-0.2443), 1508062, 0.4666666666666667),\n (tensor(0.2952), 1139745, 1.0),\n (tensor(-0.1054), 1140478, 0.75),\n (tensor(0.1247), 1511908, 1.2),\n (tensor(-0.5631), 372942, 0.42857142857142855),\n (tensor(0.2092), 671142, 1.2),\n (tensor(0.1765), 1122211, 0.6666666666666666)]"
     },
     "execution_count": 215,
     "metadata": {},
     "output_type": "execute_result"
    }
   ],
   "source": [
    "mean_ratings = df.groupby('aid')['type_cat'].mean()\n",
    "product_ratings = [(b, i, mean_ratings.loc[i]) for i,b in zip(top_products,product_bias)]\n",
    "product_ratings"
   ],
   "metadata": {
    "collapsed": false,
    "pycharm": {
     "name": "#%%\n"
    }
   }
  },
  {
   "cell_type": "code",
   "execution_count": 164,
   "outputs": [
    {
     "data": {
      "text/plain": "[(tensor(1.0632), 809225, 1.0),\n (tensor(0.9773), 1702270, 1.3333333333333333),\n (tensor(0.6505), 672538, 1.2),\n (tensor(0.6011), 866174, 1.0),\n (tensor(0.5982), 402265, 1.5),\n (tensor(0.5690), 1482457, 1.2),\n (tensor(0.5574), 610448, 1.0),\n (tensor(0.5215), 750993, 2.0),\n (tensor(0.4671), 1501332, 1.0),\n (tensor(0.4571), 433327, 1.0),\n (tensor(0.4525), 359626, 1.2),\n (tensor(0.4261), 310346, 0.875),\n (tensor(0.4236), 635464, 0.7272727272727273),\n (tensor(0.3945), 1167802, 0.8571428571428571),\n (tensor(0.3289), 848164, 0.75),\n (tensor(0.3287), 1232436, 0.8181818181818182),\n (tensor(0.3203), 1351523, 0.7),\n (tensor(0.2952), 1139745, 1.0),\n (tensor(0.2913), 1077803, 1.2),\n (tensor(0.2786), 134068, 0.75)]"
     },
     "execution_count": 164,
     "metadata": {},
     "output_type": "execute_result"
    }
   ],
   "source": [
    "sorted(product_ratings, key=lambda o: o[0], reverse=True)[:20]"
   ],
   "metadata": {
    "collapsed": false,
    "pycharm": {
     "name": "#%%\n"
    }
   }
  },
  {
   "cell_type": "code",
   "execution_count": 203,
   "outputs": [
    {
     "data": {
      "text/plain": "[32414,\n 76187,\n 50343,\n 32855,\n 32988,\n 10745,\n 84018,\n 69340,\n 66463,\n 137,\n 62478,\n 21058,\n 24663,\n 38220,\n 42102,\n 49308,\n 6773,\n 91785,\n 89056,\n 67574,\n 55547,\n 60068,\n 8779,\n 68047,\n 40439,\n 85000,\n 68877,\n 53172,\n 5345,\n 36982,\n 68098,\n 78603,\n 50320,\n 29811,\n 24719,\n 88599,\n 61230,\n 51607,\n 36525,\n 94265,\n 41265,\n 28088,\n 76701,\n 47496,\n 19204,\n 148,\n 43370,\n 33722,\n 80669,\n 84936,\n 72702,\n 67439,\n 93948,\n 75877,\n 71571,\n 29595,\n 22107,\n 2525,\n 43302,\n 51629,\n 36706,\n 40386,\n 38298,\n 58066,\n 48686,\n 82115,\n 29827,\n 91200,\n 91678,\n 38651,\n 15003,\n 38656,\n 29054,\n 58517,\n 86406,\n 64354,\n 44437,\n 67388,\n 85351,\n 84654,\n 4519,\n 73341,\n 90818,\n 1650,\n 69352,\n 37668,\n 66755,\n 55363,\n 92895,\n 72254,\n 4818,\n 89874,\n 49503,\n 56502,\n 38395,\n 31872,\n 1238,\n 14377,\n 57513,\n 55155]"
     },
     "execution_count": 203,
     "metadata": {},
     "output_type": "execute_result"
    }
   ],
   "source": [
    "top_users = df[df['type_cat'] == 2].drop('type_cat', axis=1).groupby('session').count().sort_values(by='aid', ascending=False).drop('aid',axis=1).iloc[:100]\n",
    "top_users = list(top_users.index)\n",
    "top_users"
   ],
   "metadata": {
    "collapsed": false,
    "pycharm": {
     "name": "#%%\n"
    }
   }
  },
  {
   "cell_type": "code",
   "execution_count": 217,
   "outputs": [
    {
     "data": {
      "text/plain": "tensor([[ 656],\n        [1550],\n        [1046],\n        [ 669],\n        [ 672],\n        [ 218],\n        [1700],\n        [1409],\n        [1346],\n        [   3],\n        [1265],\n        [ 435],\n        [ 501],\n        [ 796],\n        [ 881],\n        [1022],\n        [ 152],\n        [1848],\n        [1792],\n        [1370],\n        [1141],\n        [1228],\n        [ 186],\n        [1379],\n        [ 851],\n        [1718],\n        [1399],\n        [1096],\n        [ 130],\n        [ 763],\n        [1383],\n        [1597],\n        [1044],\n        [ 602],\n        [ 504],\n        [1785],\n        [1241],\n        [1073],\n        [ 754],\n        [1895],\n        [ 868],\n        [ 568],\n        [1561],\n        [ 987],\n        [ 391],\n        [   4],\n        [ 903],\n        [ 686],\n        [1628],\n        [1717],\n        [1468],\n        [1368],\n        [1893],\n        [1539],\n        [1447],\n        [ 597],\n        [ 454],\n        [  64],\n        [ 900],\n        [1075],\n        [ 760],\n        [ 850],\n        [ 799],\n        [1190],\n        [1010],\n        [1656],\n        [ 604],\n        [1834],\n        [1844],\n        [ 811],\n        [ 297],\n        [ 812],\n        [ 585],\n        [1198],\n        [1748],\n        [1303],\n        [ 920],\n        [1367],\n        [1728],\n        [1710],\n        [ 113],\n        [1484],\n        [1828],\n        [  44],\n        [1411],\n        [ 784],\n        [1354],\n        [1138],\n        [1867],\n        [1460],\n        [ 115],\n        [1808],\n        [1027],\n        [1159],\n        [ 801],\n        [ 646],\n        [  27],\n        [ 282],\n        [1180],\n        [1131]])"
     },
     "execution_count": 217,
     "metadata": {},
     "output_type": "execute_result"
    }
   ],
   "source": [
    "model = EmbeddingDotBias.from_classes(50, dls.classes,  y_range=(0,5))\n",
    "model._get_idx(top_users, is_item=False).unsqueeze(1)"
   ],
   "metadata": {
    "collapsed": false,
    "pycharm": {
     "name": "#%%\n"
    }
   }
  },
  {
   "cell_type": "code",
   "execution_count": 293,
   "metadata": {
    "pycharm": {
     "name": "#%%\n"
    }
   },
   "outputs": [
    {
     "data": {
      "text/html": [
       "\n",
       "<style>\n",
       "    /* Turns off some styling */\n",
       "    progress {\n",
       "        /* gets rid of default border in Firefox and Opera. */\n",
       "        border: none;\n",
       "        /* Needs to be in here for Safari polyfill so background images work as expected. */\n",
       "        background-size: auto;\n",
       "    }\n",
       "    progress:not([value]), progress:not([value])::-webkit-progress-bar {\n",
       "        background: repeating-linear-gradient(45deg, #7e7e7e, #7e7e7e 10px, #5c5c5c 10px, #5c5c5c 20px);\n",
       "    }\n",
       "    .progress-bar-interrupted, .progress-bar-interrupted::-webkit-progress-bar {\n",
       "        background: #F44336;\n",
       "    }\n",
       "</style>\n"
      ],
      "text/plain": [
       "<IPython.core.display.HTML object>"
      ]
     },
     "metadata": {},
     "output_type": "display_data"
    },
    {
     "data": {
      "text/html": [
       "\n",
       "    <div>\n",
       "      <progress value='0' class='' max='1' style='width:300px; height:20px; vertical-align: middle;'></progress>\n",
       "      \n",
       "    </div>\n",
       "    "
      ],
      "text/plain": [
       "<IPython.core.display.HTML object>"
      ]
     },
     "metadata": {},
     "output_type": "display_data"
    },
    {
     "ename": "IndexError",
     "evalue": "too many indices for array: array is 0-dimensional, but 1 were indexed",
     "output_type": "error",
     "traceback": [
      "\u001B[0;31m---------------------------------------------------------------------------\u001B[0m",
      "\u001B[0;31mIndexError\u001B[0m                                Traceback (most recent call last)",
      "Cell \u001B[0;32mIn [293], line 7\u001B[0m\n\u001B[1;32m      5\u001B[0m preds \u001B[38;5;241m=\u001B[39m learn\u001B[38;5;241m.\u001B[39mget_preds(dl\u001B[38;5;241m=\u001B[39mdl)\n\u001B[1;32m      6\u001B[0m pred_list \u001B[38;5;241m=\u001B[39m []\n\u001B[0;32m----> 7\u001B[0m \u001B[38;5;28;01mfor\u001B[39;00m i \u001B[38;5;129;01min\u001B[39;00m \u001B[38;5;28mrange\u001B[39m(\u001B[38;5;28mlen\u001B[39m(preds[\u001B[38;5;241m0\u001B[39m])): pred_list\u001B[38;5;241m.\u001B[39mappend(preds[\u001B[38;5;241m0\u001B[39m][i]\u001B[38;5;241m.\u001B[39mnumpy()[\u001B[38;5;241m0\u001B[39m])\n\u001B[1;32m      8\u001B[0m df_valid \u001B[38;5;241m=\u001B[39m pd\u001B[38;5;241m.\u001B[39mDataFrame(pred_list)\n\u001B[1;32m      9\u001B[0m \u001B[38;5;66;03m# df_valid['aid_shift'] = test_df['predict_close']\u001B[39;00m\n\u001B[1;32m     10\u001B[0m \u001B[38;5;66;03m# df_valid['real_close'] = df_valid['aid_shift']\u001B[39;00m\n",
      "\u001B[0;31mIndexError\u001B[0m: too many indices for array: array is 0-dimensional, but 1 were indexed"
     ]
    }
   ],
   "source": [
    "test_df = pd.read_csv(filepath_or_buffer=path, nrows=10)\n",
    "test_df.drop(['aid_shift'], axis=1, inplace=True)\n",
    "dl = learn.dls.test_dl(test_df)\n",
    "\n",
    "preds = learn.get_preds(dl=dl)\n",
    "pred_list = []\n",
    "for i in range(len(preds[0])): pred_list.append(preds[0][i].numpy()[0])\n",
    "df_valid = pd.DataFrame(pred_list)\n",
    "# df_valid['aid_shift'] = test_df['predict_close']\n",
    "# df_valid['real_close'] = df_valid['aid_shift']\n",
    "df_valid"
   ]
  },
  {
   "cell_type": "code",
   "execution_count": null,
   "metadata": {
    "pycharm": {
     "name": "#%%\n"
    }
   },
   "outputs": [],
   "source": [
    "df.aid"
   ]
  },
  {
   "cell_type": "code",
   "execution_count": null,
   "metadata": {
    "pycharm": {
     "name": "#%%\n"
    }
   },
   "outputs": [],
   "source": []
  },
  {
   "cell_type": "code",
   "execution_count": null,
   "metadata": {
    "pycharm": {
     "name": "#%%\n"
    }
   },
   "outputs": [],
   "source": []
  },
  {
   "cell_type": "code",
   "execution_count": null,
   "metadata": {
    "pycharm": {
     "name": "#%%\n"
    }
   },
   "outputs": [],
   "source": []
  },
  {
   "cell_type": "code",
   "execution_count": null,
   "metadata": {
    "pycharm": {
     "name": "#%%\n"
    }
   },
   "outputs": [],
   "source": []
  },
  {
   "cell_type": "code",
   "execution_count": null,
   "metadata": {
    "pycharm": {
     "name": "#%%\n"
    }
   },
   "outputs": [],
   "source": []
  },
  {
   "cell_type": "code",
   "execution_count": null,
   "metadata": {
    "pycharm": {
     "name": "#%%\n"
    }
   },
   "outputs": [],
   "source": []
  },
  {
   "cell_type": "code",
   "execution_count": null,
   "metadata": {
    "pycharm": {
     "name": "#%%\n"
    }
   },
   "outputs": [],
   "source": []
  },
  {
   "cell_type": "code",
   "execution_count": null,
   "metadata": {
    "pycharm": {
     "name": "#%%\n"
    }
   },
   "outputs": [],
   "source": []
  },
  {
   "cell_type": "code",
   "execution_count": 215,
   "metadata": {
    "colab": {
     "base_uri": "https://localhost:8080/",
     "height": 433
    },
    "id": "FSZylW01Q1eO",
    "outputId": "2e1df76d-05ef-43b0-c498-a850d36dc291"
   },
   "outputs": [
    {
     "ename": "NameError",
     "evalue": "name 'data_state' is not defined",
     "output_type": "error",
     "traceback": [
      "\u001B[0;31m---------------------------------------------------------------------------\u001B[0m",
      "\u001B[0;31mNameError\u001B[0m                                 Traceback (most recent call last)",
      "Cell \u001B[0;32mIn [215], line 1\u001B[0m\n\u001B[0;32m----> 1\u001B[0m \u001B[43mdata_state\u001B[49m(df_valid)\n",
      "\u001B[0;31mNameError\u001B[0m: name 'data_state' is not defined"
     ]
    }
   ],
   "source": [
    "data_state(df_valid)"
   ]
  },
  {
   "cell_type": "markdown",
   "metadata": {
    "id": "q9Ra_WKqf-xI"
   },
   "source": [
    "## Predição"
   ]
  },
  {
   "cell_type": "code",
   "execution_count": 23,
   "metadata": {
    "colab": {
     "base_uri": "https://localhost:8080/",
     "height": 542
    },
    "id": "WyAGL-pc_vxe",
    "outputId": "4049907a-9173-49ef-96ea-82097a733579"
   },
   "outputs": [
    {
     "data": {
      "application/vnd.plotly.v1+json": {
       "config": {
        "plotlyServerURL": "https://plot.ly"
       },
       "data": [
        {
         "hovertemplate": "variable=predict_close<br>x=%{x}<br>value=%{y}<extra></extra>",
         "legendgroup": "predict_close",
         "line": {
          "color": "#636efa",
          "dash": "solid"
         },
         "marker": {
          "symbol": "circle"
         },
         "mode": "lines",
         "name": "predict_close",
         "orientation": "v",
         "showlegend": true,
         "type": "scatter",
         "x": [
          "2022-01-03T00:00:00",
          "2022-01-04T00:00:00",
          "2022-01-05T00:00:00",
          "2022-01-06T00:00:00",
          "2022-01-07T00:00:00",
          "2022-01-10T00:00:00",
          "2022-01-11T00:00:00",
          "2022-01-12T00:00:00",
          "2022-01-13T00:00:00",
          "2022-01-14T00:00:00",
          "2022-01-17T00:00:00",
          "2022-01-18T00:00:00",
          "2022-01-19T00:00:00",
          "2022-01-20T00:00:00",
          "2022-01-21T00:00:00",
          "2022-01-24T00:00:00",
          "2022-01-25T00:00:00",
          "2022-01-26T00:00:00",
          "2022-01-27T00:00:00",
          "2022-01-28T00:00:00",
          "2022-01-31T00:00:00",
          "2022-02-01T00:00:00",
          "2022-02-02T00:00:00",
          "2022-02-03T00:00:00",
          "2022-02-04T00:00:00",
          "2022-02-07T00:00:00",
          "2022-02-08T00:00:00",
          "2022-02-09T00:00:00",
          "2022-02-10T00:00:00",
          "2022-02-11T00:00:00",
          "2022-02-14T00:00:00",
          "2022-02-15T00:00:00",
          "2022-02-16T00:00:00",
          "2022-02-17T00:00:00",
          "2022-02-18T00:00:00",
          "2022-02-21T00:00:00",
          "2022-02-22T00:00:00",
          "2022-02-23T00:00:00",
          "2022-02-24T00:00:00",
          "2022-02-25T00:00:00",
          "2022-03-02T00:00:00",
          "2022-03-03T00:00:00",
          "2022-03-04T00:00:00",
          "2022-03-07T00:00:00",
          "2022-03-08T00:00:00",
          "2022-03-09T00:00:00",
          "2022-03-10T00:00:00",
          "2022-03-11T00:00:00",
          "2022-03-14T00:00:00",
          "2022-03-15T00:00:00",
          "2022-03-16T00:00:00",
          "2022-03-17T00:00:00",
          "2022-03-18T00:00:00",
          "2022-03-21T00:00:00",
          "2022-03-22T00:00:00",
          "2022-03-23T00:00:00",
          "2022-03-24T00:00:00",
          "2022-03-25T00:00:00",
          "2022-03-28T00:00:00",
          "2022-03-29T00:00:00",
          "2022-03-30T00:00:00",
          "2022-03-31T00:00:00",
          "2022-04-01T00:00:00",
          "2022-04-04T00:00:00",
          "2022-04-05T00:00:00",
          "2022-04-06T00:00:00",
          "2022-04-07T00:00:00",
          "2022-04-08T00:00:00",
          "2022-04-11T00:00:00",
          "2022-04-12T00:00:00",
          "2022-04-13T00:00:00",
          "2022-04-14T00:00:00",
          "2022-04-18T00:00:00",
          "2022-04-19T00:00:00",
          "2022-04-20T00:00:00",
          "2022-04-22T00:00:00",
          "2022-04-25T00:00:00",
          "2022-04-26T00:00:00",
          "2022-04-27T00:00:00",
          "2022-04-28T00:00:00",
          "2022-04-29T00:00:00",
          "2022-05-02T00:00:00",
          "2022-05-03T00:00:00",
          "2022-05-04T00:00:00",
          "2022-05-05T00:00:00",
          "2022-05-06T00:00:00",
          "2022-05-09T00:00:00",
          "2022-05-10T00:00:00",
          "2022-05-11T00:00:00",
          "2022-05-12T00:00:00",
          "2022-05-13T00:00:00",
          "2022-05-16T00:00:00",
          "2022-05-17T00:00:00",
          "2022-05-18T00:00:00",
          "2022-05-19T00:00:00",
          "2022-05-20T00:00:00",
          "2022-05-23T00:00:00",
          "2022-05-24T00:00:00",
          "2022-05-25T00:00:00",
          "2022-05-26T00:00:00",
          "2022-05-27T00:00:00",
          "2022-05-30T00:00:00",
          "2022-05-31T00:00:00",
          "2022-06-01T00:00:00",
          "2022-06-02T00:00:00",
          "2022-06-03T00:00:00",
          "2022-06-06T00:00:00",
          "2022-06-07T00:00:00",
          "2022-06-08T00:00:00",
          "2022-06-09T00:00:00",
          "2022-06-10T00:00:00",
          "2022-06-13T00:00:00",
          "2022-06-14T00:00:00",
          "2022-06-15T00:00:00",
          "2022-06-17T00:00:00",
          "2022-06-20T00:00:00",
          "2022-06-21T00:00:00",
          "2022-06-22T00:00:00",
          "2022-06-23T00:00:00",
          "2022-06-24T00:00:00",
          "2022-06-27T00:00:00",
          "2022-06-28T00:00:00",
          "2022-06-29T00:00:00",
          "2022-06-30T00:00:00",
          "2022-07-01T00:00:00",
          "2022-07-04T00:00:00",
          "2022-07-05T00:00:00",
          "2022-07-06T00:00:00",
          "2022-07-07T00:00:00",
          "2022-07-08T00:00:00",
          "2022-07-11T00:00:00",
          "2022-07-12T00:00:00",
          "2022-07-13T00:00:00",
          "2022-07-14T00:00:00",
          "2022-07-15T00:00:00",
          "2022-07-18T00:00:00",
          "2022-07-19T00:00:00",
          "2022-07-20T00:00:00",
          "2022-07-21T00:00:00",
          "2022-07-22T00:00:00",
          "2022-07-25T00:00:00",
          "2022-07-26T00:00:00",
          "2022-07-27T00:00:00",
          "2022-07-28T00:00:00",
          "2022-07-29T00:00:00",
          "2022-08-01T00:00:00",
          "2022-08-02T00:00:00",
          "2022-08-03T00:00:00",
          "2022-08-04T00:00:00",
          "2022-08-05T00:00:00",
          "2022-08-08T00:00:00",
          "2022-08-09T00:00:00",
          "2022-08-10T00:00:00",
          "2022-08-11T00:00:00",
          "2022-08-12T00:00:00",
          "2022-08-15T00:00:00",
          "2022-08-16T00:00:00",
          "2022-08-17T00:00:00",
          "2022-08-18T00:00:00",
          "2022-08-19T00:00:00",
          "2022-08-22T00:00:00",
          "2022-08-23T00:00:00",
          "2022-08-24T00:00:00",
          "2022-08-25T00:00:00",
          "2022-08-26T00:00:00",
          "2022-08-29T00:00:00",
          "2022-08-30T00:00:00",
          "2022-08-31T00:00:00",
          "2022-09-01T00:00:00",
          "2022-09-02T00:00:00",
          "2022-09-05T00:00:00",
          "2022-09-06T00:00:00",
          "2022-09-08T00:00:00",
          "2022-09-09T00:00:00",
          "2022-09-12T00:00:00",
          "2022-09-13T00:00:00",
          "2022-09-14T00:00:00",
          "2022-09-15T00:00:00",
          "2022-09-16T00:00:00",
          "2022-09-19T00:00:00",
          "2022-09-20T00:00:00",
          "2022-09-21T00:00:00",
          "2022-09-22T00:00:00",
          "2022-09-23T00:00:00",
          "2022-09-26T00:00:00",
          "2022-09-27T00:00:00",
          "2022-09-28T00:00:00",
          "2022-09-29T00:00:00",
          "2022-09-30T00:00:00",
          "2022-10-03T00:00:00",
          "2022-10-04T00:00:00",
          "2022-10-05T00:00:00",
          "2022-10-06T00:00:00",
          "2022-10-07T00:00:00",
          "2022-10-10T00:00:00",
          "2022-10-11T00:00:00",
          "2022-10-13T00:00:00",
          "2022-10-14T00:00:00",
          "2022-10-17T00:00:00",
          "2022-10-18T00:00:00",
          "2022-10-19T00:00:00",
          "2022-10-20T00:00:00",
          "2022-10-21T00:00:00",
          "2022-10-24T00:00:00",
          "2022-10-25T00:00:00",
          "2022-10-26T00:00:00",
          "2022-10-27T00:00:00",
          "2022-10-28T00:00:00",
          "2022-10-31T00:00:00",
          "2022-11-01T00:00:00",
          "2022-11-03T00:00:00",
          "2022-11-04T00:00:00",
          "2022-11-07T00:00:00",
          "2022-11-08T00:00:00",
          "2022-11-09T00:00:00",
          "2022-11-10T00:00:00",
          "2022-11-11T00:00:00",
          "2022-11-14T00:00:00",
          "2022-11-16T00:00:00",
          "2022-11-17T00:00:00",
          "2022-11-18T00:00:00",
          "2022-11-21T00:00:00",
          "2022-11-22T00:00:00",
          "2022-11-23T00:00:00",
          "2022-11-24T00:00:00",
          "2022-11-25T00:00:00",
          "2022-11-28T00:00:00",
          "2022-11-29T00:00:00",
          "2022-11-30T00:00:00",
          "2022-12-01T00:00:00",
          "2022-12-02T00:00:00",
          "2022-12-05T00:00:00",
          "2022-12-06T00:00:00",
          "2022-12-07T00:00:00",
          "2022-12-08T00:00:00",
          "2022-12-09T00:00:00",
          "2022-12-12T00:00:00",
          "2022-12-13T00:00:00",
          "2022-12-14T00:00:00",
          "2022-12-15T00:00:00",
          "2022-12-16T00:00:00",
          "2022-12-19T00:00:00",
          "2022-12-20T00:00:00",
          "2022-12-21T00:00:00",
          "2022-12-22T00:00:00"
         ],
         "xaxis": "x",
         "y": [
          75.32797241210938,
          74.43780517578125,
          74.90446472167969,
          76.39916229248047,
          80.32489013671875,
          80.19703674316406,
          81.6363525390625,
          82.78436279296875,
          81.53471374511719,
          81.72261047363281,
          81.6243896484375,
          83.38719177246094,
          85.62630462646484,
          84.34677124023438,
          82.40299987792969,
          80.9598159790039,
          81.37196350097656,
          81.81015014648438,
          81.73431396484375,
          81.11323547363281,
          78.40457153320312,
          81.86652374267578,
          82.97482299804688,
          83.11613464355469,
          84.89600372314453,
          87.14346313476562,
          88.45826721191406,
          88.50836181640625,
          91.04229736328125,
          89.55913543701172,
          89.03567504882812,
          86.26663970947266,
          87.05270385742188,
          83.37627410888672,
          83.30530548095703,
          83.42118072509766,
          84.4498519897461,
          83.8079833984375,
          84.14959716796875,
          88.17684936523438,
          96.4317626953125,
          97.11749267578125,
          98.56956481933594,
          102.15776062011719,
          98.35584259033203,
          91.71139526367188,
          94.31732940673828,
          94.55901336669922,
          89.45773315429688,
          86.2076644897461,
          88.46350860595703,
          91.4244613647461,
          93.03060913085938,
          95.94100189208984,
          94.16519165039062,
          94.07443237304688,
          94.09281921386719,
          92.74752807617188,
          92.4988784790039,
          91.76063537597656,
          93.21650695800781,
          93.0127944946289,
          94.1622543334961,
          95.0246353149414,
          92.60939025878906,
          93.62332153320312,
          94.07809448242188,
          92.5147705078125,
          91.10050964355469,
          90.75468444824219,
          90.53579711914062,
          89.2425537109375,
          87.68081665039062,
          84.70556640625,
          82.25923156738281,
          77.47950744628906,
          75.87030029296875,
          75.15730285644531,
          78.35401916503906,
          80.15850830078125,
          80.14646911621094,
          79.01470947265625,
          79.10295104980469,
          77.94491577148438,
          76.84022521972656,
          76.26226043701172,
          73.77066802978516,
          72.94605255126953,
          75.28772735595703,
          74.53720092773438,
          74.80321502685547,
          76.41785430908203,
          76.30494689941406,
          74.7301254272461,
          76.07691955566406,
          77.56612396240234,
          79.23524475097656,
          79.85453796386719,
          80.63470458984375,
          80.55661010742188,
          82.0724868774414,
          83.17422485351562,
          82.67013549804688,
          84.48609161376953,
          86.44183349609375,
          85.29592895507812,
          85.42181396484375,
          86.91753387451172,
          84.41526794433594,
          81.50775909423828,
          80.91006469726562,
          78.32115173339844,
          78.31942749023438,
          78.44606018066406,
          74.48172760009766,
          72.89810180664062,
          73.41876220703125,
          72.58743286132812,
          70.80540466308594,
          71.90997314453125,
          74.65130615234375,
          75.9799575805664,
          75.47907257080078,
          73.72900390625,
          72.44192504882812,
          72.07671356201172,
          71.66622924804688,
          72.25352478027344,
          74.17044830322266,
          72.84344482421875,
          70.75102233886719,
          70.61551666259766,
          70.64057922363281,
          66.9859390258789,
          66.95391082763672,
          67.47721862792969,
          67.39767456054688,
          66.25454711914062,
          66.9715347290039,
          67.732177734375,
          68.66879272460938,
          68.54424285888672,
          68.577880859375,
          68.88270568847656,
          67.94288635253906,
          66.93923950195312,
          68.09402465820312,
          66.56800842285156,
          66.14707946777344,
          66.75444030761719,
          67.1378402709961,
          68.07374572753906,
          68.28084564208984,
          70.07957458496094,
          68.01309967041016,
          66.91325378417969,
          68.16166687011719,
          66.99263000488281,
          66.65802001953125,
          66.00312042236328,
          65.32427978515625,
          68.01724243164062,
          66.8577880859375,
          67.6563720703125,
          67.12568664550781,
          66.03573608398438,
          64.59589385986328,
          64.29490661621094,
          62.7266845703125,
          61.937835693359375,
          64.60542297363281,
          62.99232864379883,
          63.84081268310547,
          67.4736557006836,
          68.3482666015625,
          67.08678436279297,
          66.07754516601562,
          66.94046020507812,
          66.83416748046875,
          68.33724212646484,
          67.87764739990234,
          67.2838134765625,
          68.38731384277344,
          67.25457763671875,
          67.34410095214844,
          66.63282775878906,
          67.05863952636719,
          67.096923828125,
          69.5765380859375,
          71.28047943115234,
          72.9417724609375,
          74.07373046875,
          72.80280303955078,
          73.0983657836914,
          71.87354278564453,
          71.26219177246094,
          70.2613525390625,
          68.6495361328125,
          69.1614761352539,
          70.0446548461914,
          69.47931671142578,
          70.02682495117188,
          71.55548095703125,
          70.14384460449219,
          70.07925415039062,
          71.14842224121094,
          69.20679473876953,
          66.632080078125,
          66.275390625,
          67.96727752685547,
          66.32855987548828,
          70.16317749023438,
          70.04176330566406,
          71.51960754394531,
          71.09473419189453,
          71.84978485107422,
          78.5313720703125,
          80.35398864746094,
          79.89398956298828,
          80.14009094238281,
          78.64995574951172,
          77.1776123046875,
          77.67298126220703,
          78.34969329833984,
          78.96832275390625,
          78.63352966308594,
          78.65101623535156,
          81.78225708007812,
          83.2100601196289,
          83.62193298339844,
          84.23667907714844,
          84.65860748291016,
          85.61468505859375,
          82.54744720458984,
          83.66554260253906,
          86.33547973632812,
          83.92724609375,
          83.94032287597656,
          84.4172592163086,
          84.97489929199219,
          83.34243774414062,
          82.90589141845703,
          83.52241516113281,
          83.95236206054688,
          83.32548522949219
         ],
         "yaxis": "y"
        },
        {
         "hovertemplate": "variable=real_close<br>x=%{x}<br>value=%{y}<extra></extra>",
         "legendgroup": "real_close",
         "line": {
          "color": "#EF553B",
          "dash": "solid"
         },
         "marker": {
          "symbol": "circle"
         },
         "mode": "lines",
         "name": "real_close",
         "orientation": "v",
         "showlegend": true,
         "type": "scatter",
         "x": [
          "2022-01-03T00:00:00",
          "2022-01-04T00:00:00",
          "2022-01-05T00:00:00",
          "2022-01-06T00:00:00",
          "2022-01-07T00:00:00",
          "2022-01-10T00:00:00",
          "2022-01-11T00:00:00",
          "2022-01-12T00:00:00",
          "2022-01-13T00:00:00",
          "2022-01-14T00:00:00",
          "2022-01-17T00:00:00",
          "2022-01-18T00:00:00",
          "2022-01-19T00:00:00",
          "2022-01-20T00:00:00",
          "2022-01-21T00:00:00",
          "2022-01-24T00:00:00",
          "2022-01-25T00:00:00",
          "2022-01-26T00:00:00",
          "2022-01-27T00:00:00",
          "2022-01-28T00:00:00",
          "2022-01-31T00:00:00",
          "2022-02-01T00:00:00",
          "2022-02-02T00:00:00",
          "2022-02-03T00:00:00",
          "2022-02-04T00:00:00",
          "2022-02-07T00:00:00",
          "2022-02-08T00:00:00",
          "2022-02-09T00:00:00",
          "2022-02-10T00:00:00",
          "2022-02-11T00:00:00",
          "2022-02-14T00:00:00",
          "2022-02-15T00:00:00",
          "2022-02-16T00:00:00",
          "2022-02-17T00:00:00",
          "2022-02-18T00:00:00",
          "2022-02-21T00:00:00",
          "2022-02-22T00:00:00",
          "2022-02-23T00:00:00",
          "2022-02-24T00:00:00",
          "2022-02-25T00:00:00",
          "2022-03-02T00:00:00",
          "2022-03-03T00:00:00",
          "2022-03-04T00:00:00",
          "2022-03-07T00:00:00",
          "2022-03-08T00:00:00",
          "2022-03-09T00:00:00",
          "2022-03-10T00:00:00",
          "2022-03-11T00:00:00",
          "2022-03-14T00:00:00",
          "2022-03-15T00:00:00",
          "2022-03-16T00:00:00",
          "2022-03-17T00:00:00",
          "2022-03-18T00:00:00",
          "2022-03-21T00:00:00",
          "2022-03-22T00:00:00",
          "2022-03-23T00:00:00",
          "2022-03-24T00:00:00",
          "2022-03-25T00:00:00",
          "2022-03-28T00:00:00",
          "2022-03-29T00:00:00",
          "2022-03-30T00:00:00",
          "2022-03-31T00:00:00",
          "2022-04-01T00:00:00",
          "2022-04-04T00:00:00",
          "2022-04-05T00:00:00",
          "2022-04-06T00:00:00",
          "2022-04-07T00:00:00",
          "2022-04-08T00:00:00",
          "2022-04-11T00:00:00",
          "2022-04-12T00:00:00",
          "2022-04-13T00:00:00",
          "2022-04-14T00:00:00",
          "2022-04-18T00:00:00",
          "2022-04-19T00:00:00",
          "2022-04-20T00:00:00",
          "2022-04-22T00:00:00",
          "2022-04-25T00:00:00",
          "2022-04-26T00:00:00",
          "2022-04-27T00:00:00",
          "2022-04-28T00:00:00",
          "2022-04-29T00:00:00",
          "2022-05-02T00:00:00",
          "2022-05-03T00:00:00",
          "2022-05-04T00:00:00",
          "2022-05-05T00:00:00",
          "2022-05-06T00:00:00",
          "2022-05-09T00:00:00",
          "2022-05-10T00:00:00",
          "2022-05-11T00:00:00",
          "2022-05-12T00:00:00",
          "2022-05-13T00:00:00",
          "2022-05-16T00:00:00",
          "2022-05-17T00:00:00",
          "2022-05-18T00:00:00",
          "2022-05-19T00:00:00",
          "2022-05-20T00:00:00",
          "2022-05-23T00:00:00",
          "2022-05-24T00:00:00",
          "2022-05-25T00:00:00",
          "2022-05-26T00:00:00",
          "2022-05-27T00:00:00",
          "2022-05-30T00:00:00",
          "2022-05-31T00:00:00",
          "2022-06-01T00:00:00",
          "2022-06-02T00:00:00",
          "2022-06-03T00:00:00",
          "2022-06-06T00:00:00",
          "2022-06-07T00:00:00",
          "2022-06-08T00:00:00",
          "2022-06-09T00:00:00",
          "2022-06-10T00:00:00",
          "2022-06-13T00:00:00",
          "2022-06-14T00:00:00",
          "2022-06-15T00:00:00",
          "2022-06-17T00:00:00",
          "2022-06-20T00:00:00",
          "2022-06-21T00:00:00",
          "2022-06-22T00:00:00",
          "2022-06-23T00:00:00",
          "2022-06-24T00:00:00",
          "2022-06-27T00:00:00",
          "2022-06-28T00:00:00",
          "2022-06-29T00:00:00",
          "2022-06-30T00:00:00",
          "2022-07-01T00:00:00",
          "2022-07-04T00:00:00",
          "2022-07-05T00:00:00",
          "2022-07-06T00:00:00",
          "2022-07-07T00:00:00",
          "2022-07-08T00:00:00",
          "2022-07-11T00:00:00",
          "2022-07-12T00:00:00",
          "2022-07-13T00:00:00",
          "2022-07-14T00:00:00",
          "2022-07-15T00:00:00",
          "2022-07-18T00:00:00",
          "2022-07-19T00:00:00",
          "2022-07-20T00:00:00",
          "2022-07-21T00:00:00",
          "2022-07-22T00:00:00",
          "2022-07-25T00:00:00",
          "2022-07-26T00:00:00",
          "2022-07-27T00:00:00",
          "2022-07-28T00:00:00",
          "2022-07-29T00:00:00",
          "2022-08-01T00:00:00",
          "2022-08-02T00:00:00",
          "2022-08-03T00:00:00",
          "2022-08-04T00:00:00",
          "2022-08-05T00:00:00",
          "2022-08-08T00:00:00",
          "2022-08-09T00:00:00",
          "2022-08-10T00:00:00",
          "2022-08-11T00:00:00",
          "2022-08-12T00:00:00",
          "2022-08-15T00:00:00",
          "2022-08-16T00:00:00",
          "2022-08-17T00:00:00",
          "2022-08-18T00:00:00",
          "2022-08-19T00:00:00",
          "2022-08-22T00:00:00",
          "2022-08-23T00:00:00",
          "2022-08-24T00:00:00",
          "2022-08-25T00:00:00",
          "2022-08-26T00:00:00",
          "2022-08-29T00:00:00",
          "2022-08-30T00:00:00",
          "2022-08-31T00:00:00",
          "2022-09-01T00:00:00",
          "2022-09-02T00:00:00",
          "2022-09-05T00:00:00",
          "2022-09-06T00:00:00",
          "2022-09-08T00:00:00",
          "2022-09-09T00:00:00",
          "2022-09-12T00:00:00",
          "2022-09-13T00:00:00",
          "2022-09-14T00:00:00",
          "2022-09-15T00:00:00",
          "2022-09-16T00:00:00",
          "2022-09-19T00:00:00",
          "2022-09-20T00:00:00",
          "2022-09-21T00:00:00",
          "2022-09-22T00:00:00",
          "2022-09-23T00:00:00",
          "2022-09-26T00:00:00",
          "2022-09-27T00:00:00",
          "2022-09-28T00:00:00",
          "2022-09-29T00:00:00",
          "2022-09-30T00:00:00",
          "2022-10-03T00:00:00",
          "2022-10-04T00:00:00",
          "2022-10-05T00:00:00",
          "2022-10-06T00:00:00",
          "2022-10-07T00:00:00",
          "2022-10-10T00:00:00",
          "2022-10-11T00:00:00",
          "2022-10-13T00:00:00",
          "2022-10-14T00:00:00",
          "2022-10-17T00:00:00",
          "2022-10-18T00:00:00",
          "2022-10-19T00:00:00",
          "2022-10-20T00:00:00",
          "2022-10-21T00:00:00",
          "2022-10-24T00:00:00",
          "2022-10-25T00:00:00",
          "2022-10-26T00:00:00",
          "2022-10-27T00:00:00",
          "2022-10-28T00:00:00",
          "2022-10-31T00:00:00",
          "2022-11-01T00:00:00",
          "2022-11-03T00:00:00",
          "2022-11-04T00:00:00",
          "2022-11-07T00:00:00",
          "2022-11-08T00:00:00",
          "2022-11-09T00:00:00",
          "2022-11-10T00:00:00",
          "2022-11-11T00:00:00",
          "2022-11-14T00:00:00",
          "2022-11-16T00:00:00",
          "2022-11-17T00:00:00",
          "2022-11-18T00:00:00",
          "2022-11-21T00:00:00",
          "2022-11-22T00:00:00",
          "2022-11-23T00:00:00",
          "2022-11-24T00:00:00",
          "2022-11-25T00:00:00",
          "2022-11-28T00:00:00",
          "2022-11-29T00:00:00",
          "2022-11-30T00:00:00",
          "2022-12-01T00:00:00",
          "2022-12-02T00:00:00",
          "2022-12-05T00:00:00",
          "2022-12-06T00:00:00",
          "2022-12-07T00:00:00",
          "2022-12-08T00:00:00",
          "2022-12-09T00:00:00",
          "2022-12-12T00:00:00",
          "2022-12-13T00:00:00",
          "2022-12-14T00:00:00",
          "2022-12-15T00:00:00",
          "2022-12-16T00:00:00",
          "2022-12-19T00:00:00",
          "2022-12-20T00:00:00",
          "2022-12-21T00:00:00",
          "2022-12-22T00:00:00"
         ],
         "xaxis": "x",
         "y": [
          78,
          77.08000183105469,
          77.80999755859375,
          79.37999725341797,
          84,
          83,
          84.58000183105469,
          85.5,
          84.19999694824219,
          84.69000244140625,
          84.25,
          86.30999755859375,
          88.20999908447266,
          86.70999908447266,
          84.91000366210938,
          83.87000274658203,
          84.05999755859375,
          84.30000305175781,
          84.48999786376953,
          83.66000366210938,
          80.87000274658203,
          85.30999755859375,
          85.79000091552734,
          85.75,
          88,
          90.12999725341797,
          91.38999938964844,
          91.41000366210938,
          93.87000274658203,
          91.97000122070312,
          91.56999969482422,
          88.8499984741211,
          89.5,
          85.6500015258789,
          85.83000183105469,
          85.9000015258789,
          87.38999938964844,
          86.47000122070312,
          87.54000091552734,
          92.27999877929688,
          99.6500015258789,
          99.69999694824219,
          101.97000122070312,
          105.06999969482422,
          100.45999908447266,
          94.19000244140625,
          97.30000305175781,
          96.79000091552734,
          91.5999984741211,
          88.97000122070312,
          91.12999725341797,
          94.30000305175781,
          96.08999633789062,
          98.80999755859375,
          96.5999984741211,
          96.44999694824219,
          96.91000366210938,
          95.2300033569336,
          95.33999633789062,
          94.5199966430664,
          95.87000274658203,
          95.5999984741211,
          96.95999908447266,
          97.94000244140625,
          95.11000061035156,
          96.55000305175781,
          97.12999725341797,
          95.1500015258789,
          94,
          93.37000274658203,
          93.4000015258789,
          92.08999633789062,
          90.56999969482422,
          87.68000030517578,
          85.4000015258789,
          80.44999694824219,
          79.08000183105469,
          78,
          82.16999816894531,
          84.19999694824219,
          83.29000091552734,
          82.91999816894531,
          82.5,
          81.80999755859375,
          80.33000183105469,
          79.76000213623047,
          76.48999786376953,
          75.54000091552734,
          78.69000244140625,
          77.9000015258789,
          77.80999755859375,
          80.13999938964844,
          79.80000305175781,
          77.77999877929688,
          79.8499984741211,
          81.26000213623047,
          82.91999816894531,
          84.04000091552734,
          84.30000305175781,
          84.25,
          85.72000122070312,
          86.6500015258789,
          86.20999908447266,
          88.23999786376953,
          89.9000015258789,
          88.45999908447266,
          88.55000305175781,
          90.62000274658203,
          87.5,
          84.54000091552734,
          84.55999755859375,
          81.87999725341797,
          81.72000122070312,
          81.66999816894531,
          77.41000366210938,
          75.5,
          76,
          75.3499984741211,
          72.5999984741211,
          74.62000274658203,
          78.05000305175781,
          79.44999694824219,
          78.79000091552734,
          76.55999755859375,
          75.0999984741211,
          74.66999816894531,
          74.30000305175781,
          75,
          77.18000030517578,
          75.4000015258789,
          72.83000183105469,
          73.05000305175781,
          72.80000305175781,
          67.94999694824219,
          68.37000274658203,
          68.7300033569336,
          68.87999725341797,
          67.38999938964844,
          68.56999969482422,
          69.20999908447266,
          70.48999786376953,
          70.36000061035156,
          70.5199966430664,
          70.69000244140625,
          69.75,
          68.08000183105469,
          70.25,
          67.5199966430664,
          67.12999725341797,
          68,
          68.58000183105469,
          70,
          70.05000305175781,
          72.48999786376953,
          69.80000305175781,
          68.30000305175781,
          69.81999969482422,
          68.2300033569336,
          67.72000122070312,
          66.95999908447266,
          65.9800033569336,
          70.20999908447266,
          67.94999694824219,
          69.2699966430664,
          68.2300033569336,
          66.91000366210938,
          64.97000122070312,
          64.5,
          63.88999938964844,
          62.91999816894531,
          65.22000122070312,
          63.66999816894531,
          64.51000213623047,
          69.55000305175781,
          70.16000366210938,
          68.25,
          67,
          68.3499984741211,
          68.25,
          70.45999908447266,
          69.44999694824219,
          68.44999694824219,
          70.0199966430664,
          68.56999969482422,
          68.72000122070312,
          67.69999694824219,
          68.33999633789062,
          68.43000030517578,
          72.04000091552734,
          74,
          75.79000091552734,
          76.95999908447266,
          75.2300033569336,
          75.51000213623047,
          73.98999786376953,
          73.48999786376953,
          72.18000030517578,
          69.83000183105469,
          70.93000030517578,
          71.95999908447266,
          71.11000061035156,
          72.0199966430664,
          74.12999725341797,
          71.93000030517578,
          71.93000030517578,
          73.52999877929688,
          70.91000366210938,
          67.44999694824219,
          67.12999725341797,
          69.16999816894531,
          67.1500015258789,
          72.25,
          71.87000274658203,
          74.05000305175781,
          73.1500015258789,
          74.55000305175781,
          82.30000305175781,
          83.30999755859375,
          82.44000244140625,
          83.0999984741211,
          80.83000183105469,
          79.91999816894531,
          80.13999938964844,
          80.93000030517578,
          81.44999694824219,
          80.9000015258789,
          81.30000305175781,
          84.44000244140625,
          85.70999908447266,
          86.18000030517578,
          86.80000305175781,
          86.70999908447266,
          87.97000122070312,
          84.83999633789062,
          85.87999725341797,
          88.73999786376953,
          86.08999633789062,
          86.16000366210938,
          86.88999938964844,
          87.16999816894531,
          85.68000030517578,
          85.37000274658203,
          85.75,
          86.23999786376953,
          85.75
         ],
         "yaxis": "y"
        }
       ],
       "layout": {
        "legend": {
         "title": {
          "text": "variable"
         },
         "tracegroupgap": 0
        },
        "margin": {
         "t": 60
        },
        "template": {
         "data": {
          "bar": [
           {
            "error_x": {
             "color": "#2a3f5f"
            },
            "error_y": {
             "color": "#2a3f5f"
            },
            "marker": {
             "line": {
              "color": "#E5ECF6",
              "width": 0.5
             },
             "pattern": {
              "fillmode": "overlay",
              "size": 10,
              "solidity": 0.2
             }
            },
            "type": "bar"
           }
          ],
          "barpolar": [
           {
            "marker": {
             "line": {
              "color": "#E5ECF6",
              "width": 0.5
             },
             "pattern": {
              "fillmode": "overlay",
              "size": 10,
              "solidity": 0.2
             }
            },
            "type": "barpolar"
           }
          ],
          "carpet": [
           {
            "aaxis": {
             "endlinecolor": "#2a3f5f",
             "gridcolor": "white",
             "linecolor": "white",
             "minorgridcolor": "white",
             "startlinecolor": "#2a3f5f"
            },
            "baxis": {
             "endlinecolor": "#2a3f5f",
             "gridcolor": "white",
             "linecolor": "white",
             "minorgridcolor": "white",
             "startlinecolor": "#2a3f5f"
            },
            "type": "carpet"
           }
          ],
          "choropleth": [
           {
            "colorbar": {
             "outlinewidth": 0,
             "ticks": ""
            },
            "type": "choropleth"
           }
          ],
          "contour": [
           {
            "colorbar": {
             "outlinewidth": 0,
             "ticks": ""
            },
            "colorscale": [
             [
              0,
              "#0d0887"
             ],
             [
              0.1111111111111111,
              "#46039f"
             ],
             [
              0.2222222222222222,
              "#7201a8"
             ],
             [
              0.3333333333333333,
              "#9c179e"
             ],
             [
              0.4444444444444444,
              "#bd3786"
             ],
             [
              0.5555555555555556,
              "#d8576b"
             ],
             [
              0.6666666666666666,
              "#ed7953"
             ],
             [
              0.7777777777777778,
              "#fb9f3a"
             ],
             [
              0.8888888888888888,
              "#fdca26"
             ],
             [
              1,
              "#f0f921"
             ]
            ],
            "type": "contour"
           }
          ],
          "contourcarpet": [
           {
            "colorbar": {
             "outlinewidth": 0,
             "ticks": ""
            },
            "type": "contourcarpet"
           }
          ],
          "heatmap": [
           {
            "colorbar": {
             "outlinewidth": 0,
             "ticks": ""
            },
            "colorscale": [
             [
              0,
              "#0d0887"
             ],
             [
              0.1111111111111111,
              "#46039f"
             ],
             [
              0.2222222222222222,
              "#7201a8"
             ],
             [
              0.3333333333333333,
              "#9c179e"
             ],
             [
              0.4444444444444444,
              "#bd3786"
             ],
             [
              0.5555555555555556,
              "#d8576b"
             ],
             [
              0.6666666666666666,
              "#ed7953"
             ],
             [
              0.7777777777777778,
              "#fb9f3a"
             ],
             [
              0.8888888888888888,
              "#fdca26"
             ],
             [
              1,
              "#f0f921"
             ]
            ],
            "type": "heatmap"
           }
          ],
          "heatmapgl": [
           {
            "colorbar": {
             "outlinewidth": 0,
             "ticks": ""
            },
            "colorscale": [
             [
              0,
              "#0d0887"
             ],
             [
              0.1111111111111111,
              "#46039f"
             ],
             [
              0.2222222222222222,
              "#7201a8"
             ],
             [
              0.3333333333333333,
              "#9c179e"
             ],
             [
              0.4444444444444444,
              "#bd3786"
             ],
             [
              0.5555555555555556,
              "#d8576b"
             ],
             [
              0.6666666666666666,
              "#ed7953"
             ],
             [
              0.7777777777777778,
              "#fb9f3a"
             ],
             [
              0.8888888888888888,
              "#fdca26"
             ],
             [
              1,
              "#f0f921"
             ]
            ],
            "type": "heatmapgl"
           }
          ],
          "histogram": [
           {
            "marker": {
             "pattern": {
              "fillmode": "overlay",
              "size": 10,
              "solidity": 0.2
             }
            },
            "type": "histogram"
           }
          ],
          "histogram2d": [
           {
            "colorbar": {
             "outlinewidth": 0,
             "ticks": ""
            },
            "colorscale": [
             [
              0,
              "#0d0887"
             ],
             [
              0.1111111111111111,
              "#46039f"
             ],
             [
              0.2222222222222222,
              "#7201a8"
             ],
             [
              0.3333333333333333,
              "#9c179e"
             ],
             [
              0.4444444444444444,
              "#bd3786"
             ],
             [
              0.5555555555555556,
              "#d8576b"
             ],
             [
              0.6666666666666666,
              "#ed7953"
             ],
             [
              0.7777777777777778,
              "#fb9f3a"
             ],
             [
              0.8888888888888888,
              "#fdca26"
             ],
             [
              1,
              "#f0f921"
             ]
            ],
            "type": "histogram2d"
           }
          ],
          "histogram2dcontour": [
           {
            "colorbar": {
             "outlinewidth": 0,
             "ticks": ""
            },
            "colorscale": [
             [
              0,
              "#0d0887"
             ],
             [
              0.1111111111111111,
              "#46039f"
             ],
             [
              0.2222222222222222,
              "#7201a8"
             ],
             [
              0.3333333333333333,
              "#9c179e"
             ],
             [
              0.4444444444444444,
              "#bd3786"
             ],
             [
              0.5555555555555556,
              "#d8576b"
             ],
             [
              0.6666666666666666,
              "#ed7953"
             ],
             [
              0.7777777777777778,
              "#fb9f3a"
             ],
             [
              0.8888888888888888,
              "#fdca26"
             ],
             [
              1,
              "#f0f921"
             ]
            ],
            "type": "histogram2dcontour"
           }
          ],
          "mesh3d": [
           {
            "colorbar": {
             "outlinewidth": 0,
             "ticks": ""
            },
            "type": "mesh3d"
           }
          ],
          "parcoords": [
           {
            "line": {
             "colorbar": {
              "outlinewidth": 0,
              "ticks": ""
             }
            },
            "type": "parcoords"
           }
          ],
          "pie": [
           {
            "automargin": true,
            "type": "pie"
           }
          ],
          "scatter": [
           {
            "fillpattern": {
             "fillmode": "overlay",
             "size": 10,
             "solidity": 0.2
            },
            "type": "scatter"
           }
          ],
          "scatter3d": [
           {
            "line": {
             "colorbar": {
              "outlinewidth": 0,
              "ticks": ""
             }
            },
            "marker": {
             "colorbar": {
              "outlinewidth": 0,
              "ticks": ""
             }
            },
            "type": "scatter3d"
           }
          ],
          "scattercarpet": [
           {
            "marker": {
             "colorbar": {
              "outlinewidth": 0,
              "ticks": ""
             }
            },
            "type": "scattercarpet"
           }
          ],
          "scattergeo": [
           {
            "marker": {
             "colorbar": {
              "outlinewidth": 0,
              "ticks": ""
             }
            },
            "type": "scattergeo"
           }
          ],
          "scattergl": [
           {
            "marker": {
             "colorbar": {
              "outlinewidth": 0,
              "ticks": ""
             }
            },
            "type": "scattergl"
           }
          ],
          "scattermapbox": [
           {
            "marker": {
             "colorbar": {
              "outlinewidth": 0,
              "ticks": ""
             }
            },
            "type": "scattermapbox"
           }
          ],
          "scatterpolar": [
           {
            "marker": {
             "colorbar": {
              "outlinewidth": 0,
              "ticks": ""
             }
            },
            "type": "scatterpolar"
           }
          ],
          "scatterpolargl": [
           {
            "marker": {
             "colorbar": {
              "outlinewidth": 0,
              "ticks": ""
             }
            },
            "type": "scatterpolargl"
           }
          ],
          "scatterternary": [
           {
            "marker": {
             "colorbar": {
              "outlinewidth": 0,
              "ticks": ""
             }
            },
            "type": "scatterternary"
           }
          ],
          "surface": [
           {
            "colorbar": {
             "outlinewidth": 0,
             "ticks": ""
            },
            "colorscale": [
             [
              0,
              "#0d0887"
             ],
             [
              0.1111111111111111,
              "#46039f"
             ],
             [
              0.2222222222222222,
              "#7201a8"
             ],
             [
              0.3333333333333333,
              "#9c179e"
             ],
             [
              0.4444444444444444,
              "#bd3786"
             ],
             [
              0.5555555555555556,
              "#d8576b"
             ],
             [
              0.6666666666666666,
              "#ed7953"
             ],
             [
              0.7777777777777778,
              "#fb9f3a"
             ],
             [
              0.8888888888888888,
              "#fdca26"
             ],
             [
              1,
              "#f0f921"
             ]
            ],
            "type": "surface"
           }
          ],
          "table": [
           {
            "cells": {
             "fill": {
              "color": "#EBF0F8"
             },
             "line": {
              "color": "white"
             }
            },
            "header": {
             "fill": {
              "color": "#C8D4E3"
             },
             "line": {
              "color": "white"
             }
            },
            "type": "table"
           }
          ]
         },
         "layout": {
          "annotationdefaults": {
           "arrowcolor": "#2a3f5f",
           "arrowhead": 0,
           "arrowwidth": 1
          },
          "autotypenumbers": "strict",
          "coloraxis": {
           "colorbar": {
            "outlinewidth": 0,
            "ticks": ""
           }
          },
          "colorscale": {
           "diverging": [
            [
             0,
             "#8e0152"
            ],
            [
             0.1,
             "#c51b7d"
            ],
            [
             0.2,
             "#de77ae"
            ],
            [
             0.3,
             "#f1b6da"
            ],
            [
             0.4,
             "#fde0ef"
            ],
            [
             0.5,
             "#f7f7f7"
            ],
            [
             0.6,
             "#e6f5d0"
            ],
            [
             0.7,
             "#b8e186"
            ],
            [
             0.8,
             "#7fbc41"
            ],
            [
             0.9,
             "#4d9221"
            ],
            [
             1,
             "#276419"
            ]
           ],
           "sequential": [
            [
             0,
             "#0d0887"
            ],
            [
             0.1111111111111111,
             "#46039f"
            ],
            [
             0.2222222222222222,
             "#7201a8"
            ],
            [
             0.3333333333333333,
             "#9c179e"
            ],
            [
             0.4444444444444444,
             "#bd3786"
            ],
            [
             0.5555555555555556,
             "#d8576b"
            ],
            [
             0.6666666666666666,
             "#ed7953"
            ],
            [
             0.7777777777777778,
             "#fb9f3a"
            ],
            [
             0.8888888888888888,
             "#fdca26"
            ],
            [
             1,
             "#f0f921"
            ]
           ],
           "sequentialminus": [
            [
             0,
             "#0d0887"
            ],
            [
             0.1111111111111111,
             "#46039f"
            ],
            [
             0.2222222222222222,
             "#7201a8"
            ],
            [
             0.3333333333333333,
             "#9c179e"
            ],
            [
             0.4444444444444444,
             "#bd3786"
            ],
            [
             0.5555555555555556,
             "#d8576b"
            ],
            [
             0.6666666666666666,
             "#ed7953"
            ],
            [
             0.7777777777777778,
             "#fb9f3a"
            ],
            [
             0.8888888888888888,
             "#fdca26"
            ],
            [
             1,
             "#f0f921"
            ]
           ]
          },
          "colorway": [
           "#636efa",
           "#EF553B",
           "#00cc96",
           "#ab63fa",
           "#FFA15A",
           "#19d3f3",
           "#FF6692",
           "#B6E880",
           "#FF97FF",
           "#FECB52"
          ],
          "font": {
           "color": "#2a3f5f"
          },
          "geo": {
           "bgcolor": "white",
           "lakecolor": "white",
           "landcolor": "#E5ECF6",
           "showlakes": true,
           "showland": true,
           "subunitcolor": "white"
          },
          "hoverlabel": {
           "align": "left"
          },
          "hovermode": "closest",
          "mapbox": {
           "style": "light"
          },
          "paper_bgcolor": "white",
          "plot_bgcolor": "#E5ECF6",
          "polar": {
           "angularaxis": {
            "gridcolor": "white",
            "linecolor": "white",
            "ticks": ""
           },
           "bgcolor": "#E5ECF6",
           "radialaxis": {
            "gridcolor": "white",
            "linecolor": "white",
            "ticks": ""
           }
          },
          "scene": {
           "xaxis": {
            "backgroundcolor": "#E5ECF6",
            "gridcolor": "white",
            "gridwidth": 2,
            "linecolor": "white",
            "showbackground": true,
            "ticks": "",
            "zerolinecolor": "white"
           },
           "yaxis": {
            "backgroundcolor": "#E5ECF6",
            "gridcolor": "white",
            "gridwidth": 2,
            "linecolor": "white",
            "showbackground": true,
            "ticks": "",
            "zerolinecolor": "white"
           },
           "zaxis": {
            "backgroundcolor": "#E5ECF6",
            "gridcolor": "white",
            "gridwidth": 2,
            "linecolor": "white",
            "showbackground": true,
            "ticks": "",
            "zerolinecolor": "white"
           }
          },
          "shapedefaults": {
           "line": {
            "color": "#2a3f5f"
           }
          },
          "ternary": {
           "aaxis": {
            "gridcolor": "white",
            "linecolor": "white",
            "ticks": ""
           },
           "baxis": {
            "gridcolor": "white",
            "linecolor": "white",
            "ticks": ""
           },
           "bgcolor": "#E5ECF6",
           "caxis": {
            "gridcolor": "white",
            "linecolor": "white",
            "ticks": ""
           }
          },
          "title": {
           "x": 0.05
          },
          "xaxis": {
           "automargin": true,
           "gridcolor": "white",
           "linecolor": "white",
           "ticks": "",
           "title": {
            "standoff": 15
           },
           "zerolinecolor": "white",
           "zerolinewidth": 2
          },
          "yaxis": {
           "automargin": true,
           "gridcolor": "white",
           "linecolor": "white",
           "ticks": "",
           "title": {
            "standoff": 15
           },
           "zerolinecolor": "white",
           "zerolinewidth": 2
          }
         }
        },
        "xaxis": {
         "anchor": "y",
         "domain": [
          0,
          1
         ],
         "title": {
          "text": "x"
         }
        },
        "yaxis": {
         "anchor": "x",
         "domain": [
          0,
          1
         ],
         "title": {
          "text": "value"
         }
        }
       }
      },
      "text/html": [
       "<div>                            <div id=\"9464907f-633e-4954-b6bf-8ecda51b7739\" class=\"plotly-graph-div\" style=\"height:525px; width:100%;\"></div>            <script type=\"text/javascript\">                require([\"plotly\"], function(Plotly) {                    window.PLOTLYENV=window.PLOTLYENV || {};                                    if (document.getElementById(\"9464907f-633e-4954-b6bf-8ecda51b7739\")) {                    Plotly.newPlot(                        \"9464907f-633e-4954-b6bf-8ecda51b7739\",                        [{\"hovertemplate\":\"variable=predict_close<br>x=%{x}<br>value=%{y}<extra></extra>\",\"legendgroup\":\"predict_close\",\"line\":{\"color\":\"#636efa\",\"dash\":\"solid\"},\"marker\":{\"symbol\":\"circle\"},\"mode\":\"lines\",\"name\":\"predict_close\",\"orientation\":\"v\",\"showlegend\":true,\"x\":[\"2022-01-03T00:00:00\",\"2022-01-04T00:00:00\",\"2022-01-05T00:00:00\",\"2022-01-06T00:00:00\",\"2022-01-07T00:00:00\",\"2022-01-10T00:00:00\",\"2022-01-11T00:00:00\",\"2022-01-12T00:00:00\",\"2022-01-13T00:00:00\",\"2022-01-14T00:00:00\",\"2022-01-17T00:00:00\",\"2022-01-18T00:00:00\",\"2022-01-19T00:00:00\",\"2022-01-20T00:00:00\",\"2022-01-21T00:00:00\",\"2022-01-24T00:00:00\",\"2022-01-25T00:00:00\",\"2022-01-26T00:00:00\",\"2022-01-27T00:00:00\",\"2022-01-28T00:00:00\",\"2022-01-31T00:00:00\",\"2022-02-01T00:00:00\",\"2022-02-02T00:00:00\",\"2022-02-03T00:00:00\",\"2022-02-04T00:00:00\",\"2022-02-07T00:00:00\",\"2022-02-08T00:00:00\",\"2022-02-09T00:00:00\",\"2022-02-10T00:00:00\",\"2022-02-11T00:00:00\",\"2022-02-14T00:00:00\",\"2022-02-15T00:00:00\",\"2022-02-16T00:00:00\",\"2022-02-17T00:00:00\",\"2022-02-18T00:00:00\",\"2022-02-21T00:00:00\",\"2022-02-22T00:00:00\",\"2022-02-23T00:00:00\",\"2022-02-24T00:00:00\",\"2022-02-25T00:00:00\",\"2022-03-02T00:00:00\",\"2022-03-03T00:00:00\",\"2022-03-04T00:00:00\",\"2022-03-07T00:00:00\",\"2022-03-08T00:00:00\",\"2022-03-09T00:00:00\",\"2022-03-10T00:00:00\",\"2022-03-11T00:00:00\",\"2022-03-14T00:00:00\",\"2022-03-15T00:00:00\",\"2022-03-16T00:00:00\",\"2022-03-17T00:00:00\",\"2022-03-18T00:00:00\",\"2022-03-21T00:00:00\",\"2022-03-22T00:00:00\",\"2022-03-23T00:00:00\",\"2022-03-24T00:00:00\",\"2022-03-25T00:00:00\",\"2022-03-28T00:00:00\",\"2022-03-29T00:00:00\",\"2022-03-30T00:00:00\",\"2022-03-31T00:00:00\",\"2022-04-01T00:00:00\",\"2022-04-04T00:00:00\",\"2022-04-05T00:00:00\",\"2022-04-06T00:00:00\",\"2022-04-07T00:00:00\",\"2022-04-08T00:00:00\",\"2022-04-11T00:00:00\",\"2022-04-12T00:00:00\",\"2022-04-13T00:00:00\",\"2022-04-14T00:00:00\",\"2022-04-18T00:00:00\",\"2022-04-19T00:00:00\",\"2022-04-20T00:00:00\",\"2022-04-22T00:00:00\",\"2022-04-25T00:00:00\",\"2022-04-26T00:00:00\",\"2022-04-27T00:00:00\",\"2022-04-28T00:00:00\",\"2022-04-29T00:00:00\",\"2022-05-02T00:00:00\",\"2022-05-03T00:00:00\",\"2022-05-04T00:00:00\",\"2022-05-05T00:00:00\",\"2022-05-06T00:00:00\",\"2022-05-09T00:00:00\",\"2022-05-10T00:00:00\",\"2022-05-11T00:00:00\",\"2022-05-12T00:00:00\",\"2022-05-13T00:00:00\",\"2022-05-16T00:00:00\",\"2022-05-17T00:00:00\",\"2022-05-18T00:00:00\",\"2022-05-19T00:00:00\",\"2022-05-20T00:00:00\",\"2022-05-23T00:00:00\",\"2022-05-24T00:00:00\",\"2022-05-25T00:00:00\",\"2022-05-26T00:00:00\",\"2022-05-27T00:00:00\",\"2022-05-30T00:00:00\",\"2022-05-31T00:00:00\",\"2022-06-01T00:00:00\",\"2022-06-02T00:00:00\",\"2022-06-03T00:00:00\",\"2022-06-06T00:00:00\",\"2022-06-07T00:00:00\",\"2022-06-08T00:00:00\",\"2022-06-09T00:00:00\",\"2022-06-10T00:00:00\",\"2022-06-13T00:00:00\",\"2022-06-14T00:00:00\",\"2022-06-15T00:00:00\",\"2022-06-17T00:00:00\",\"2022-06-20T00:00:00\",\"2022-06-21T00:00:00\",\"2022-06-22T00:00:00\",\"2022-06-23T00:00:00\",\"2022-06-24T00:00:00\",\"2022-06-27T00:00:00\",\"2022-06-28T00:00:00\",\"2022-06-29T00:00:00\",\"2022-06-30T00:00:00\",\"2022-07-01T00:00:00\",\"2022-07-04T00:00:00\",\"2022-07-05T00:00:00\",\"2022-07-06T00:00:00\",\"2022-07-07T00:00:00\",\"2022-07-08T00:00:00\",\"2022-07-11T00:00:00\",\"2022-07-12T00:00:00\",\"2022-07-13T00:00:00\",\"2022-07-14T00:00:00\",\"2022-07-15T00:00:00\",\"2022-07-18T00:00:00\",\"2022-07-19T00:00:00\",\"2022-07-20T00:00:00\",\"2022-07-21T00:00:00\",\"2022-07-22T00:00:00\",\"2022-07-25T00:00:00\",\"2022-07-26T00:00:00\",\"2022-07-27T00:00:00\",\"2022-07-28T00:00:00\",\"2022-07-29T00:00:00\",\"2022-08-01T00:00:00\",\"2022-08-02T00:00:00\",\"2022-08-03T00:00:00\",\"2022-08-04T00:00:00\",\"2022-08-05T00:00:00\",\"2022-08-08T00:00:00\",\"2022-08-09T00:00:00\",\"2022-08-10T00:00:00\",\"2022-08-11T00:00:00\",\"2022-08-12T00:00:00\",\"2022-08-15T00:00:00\",\"2022-08-16T00:00:00\",\"2022-08-17T00:00:00\",\"2022-08-18T00:00:00\",\"2022-08-19T00:00:00\",\"2022-08-22T00:00:00\",\"2022-08-23T00:00:00\",\"2022-08-24T00:00:00\",\"2022-08-25T00:00:00\",\"2022-08-26T00:00:00\",\"2022-08-29T00:00:00\",\"2022-08-30T00:00:00\",\"2022-08-31T00:00:00\",\"2022-09-01T00:00:00\",\"2022-09-02T00:00:00\",\"2022-09-05T00:00:00\",\"2022-09-06T00:00:00\",\"2022-09-08T00:00:00\",\"2022-09-09T00:00:00\",\"2022-09-12T00:00:00\",\"2022-09-13T00:00:00\",\"2022-09-14T00:00:00\",\"2022-09-15T00:00:00\",\"2022-09-16T00:00:00\",\"2022-09-19T00:00:00\",\"2022-09-20T00:00:00\",\"2022-09-21T00:00:00\",\"2022-09-22T00:00:00\",\"2022-09-23T00:00:00\",\"2022-09-26T00:00:00\",\"2022-09-27T00:00:00\",\"2022-09-28T00:00:00\",\"2022-09-29T00:00:00\",\"2022-09-30T00:00:00\",\"2022-10-03T00:00:00\",\"2022-10-04T00:00:00\",\"2022-10-05T00:00:00\",\"2022-10-06T00:00:00\",\"2022-10-07T00:00:00\",\"2022-10-10T00:00:00\",\"2022-10-11T00:00:00\",\"2022-10-13T00:00:00\",\"2022-10-14T00:00:00\",\"2022-10-17T00:00:00\",\"2022-10-18T00:00:00\",\"2022-10-19T00:00:00\",\"2022-10-20T00:00:00\",\"2022-10-21T00:00:00\",\"2022-10-24T00:00:00\",\"2022-10-25T00:00:00\",\"2022-10-26T00:00:00\",\"2022-10-27T00:00:00\",\"2022-10-28T00:00:00\",\"2022-10-31T00:00:00\",\"2022-11-01T00:00:00\",\"2022-11-03T00:00:00\",\"2022-11-04T00:00:00\",\"2022-11-07T00:00:00\",\"2022-11-08T00:00:00\",\"2022-11-09T00:00:00\",\"2022-11-10T00:00:00\",\"2022-11-11T00:00:00\",\"2022-11-14T00:00:00\",\"2022-11-16T00:00:00\",\"2022-11-17T00:00:00\",\"2022-11-18T00:00:00\",\"2022-11-21T00:00:00\",\"2022-11-22T00:00:00\",\"2022-11-23T00:00:00\",\"2022-11-24T00:00:00\",\"2022-11-25T00:00:00\",\"2022-11-28T00:00:00\",\"2022-11-29T00:00:00\",\"2022-11-30T00:00:00\",\"2022-12-01T00:00:00\",\"2022-12-02T00:00:00\",\"2022-12-05T00:00:00\",\"2022-12-06T00:00:00\",\"2022-12-07T00:00:00\",\"2022-12-08T00:00:00\",\"2022-12-09T00:00:00\",\"2022-12-12T00:00:00\",\"2022-12-13T00:00:00\",\"2022-12-14T00:00:00\",\"2022-12-15T00:00:00\",\"2022-12-16T00:00:00\",\"2022-12-19T00:00:00\",\"2022-12-20T00:00:00\",\"2022-12-21T00:00:00\",\"2022-12-22T00:00:00\"],\"xaxis\":\"x\",\"y\":[75.32797241210938,74.43780517578125,74.90446472167969,76.39916229248047,80.32489013671875,80.19703674316406,81.6363525390625,82.78436279296875,81.53471374511719,81.72261047363281,81.6243896484375,83.38719177246094,85.62630462646484,84.34677124023438,82.40299987792969,80.9598159790039,81.37196350097656,81.81015014648438,81.73431396484375,81.11323547363281,78.40457153320312,81.86652374267578,82.97482299804688,83.11613464355469,84.89600372314453,87.14346313476562,88.45826721191406,88.50836181640625,91.04229736328125,89.55913543701172,89.03567504882812,86.26663970947266,87.05270385742188,83.37627410888672,83.30530548095703,83.42118072509766,84.4498519897461,83.8079833984375,84.14959716796875,88.17684936523438,96.4317626953125,97.11749267578125,98.56956481933594,102.15776062011719,98.35584259033203,91.71139526367188,94.31732940673828,94.55901336669922,89.45773315429688,86.2076644897461,88.46350860595703,91.4244613647461,93.03060913085938,95.94100189208984,94.16519165039062,94.07443237304688,94.09281921386719,92.74752807617188,92.4988784790039,91.76063537597656,93.21650695800781,93.0127944946289,94.1622543334961,95.0246353149414,92.60939025878906,93.62332153320312,94.07809448242188,92.5147705078125,91.10050964355469,90.75468444824219,90.53579711914062,89.2425537109375,87.68081665039062,84.70556640625,82.25923156738281,77.47950744628906,75.87030029296875,75.15730285644531,78.35401916503906,80.15850830078125,80.14646911621094,79.01470947265625,79.10295104980469,77.94491577148438,76.84022521972656,76.26226043701172,73.77066802978516,72.94605255126953,75.28772735595703,74.53720092773438,74.80321502685547,76.41785430908203,76.30494689941406,74.7301254272461,76.07691955566406,77.56612396240234,79.23524475097656,79.85453796386719,80.63470458984375,80.55661010742188,82.0724868774414,83.17422485351562,82.67013549804688,84.48609161376953,86.44183349609375,85.29592895507812,85.42181396484375,86.91753387451172,84.41526794433594,81.50775909423828,80.91006469726562,78.32115173339844,78.31942749023438,78.44606018066406,74.48172760009766,72.89810180664062,73.41876220703125,72.58743286132812,70.80540466308594,71.90997314453125,74.65130615234375,75.9799575805664,75.47907257080078,73.72900390625,72.44192504882812,72.07671356201172,71.66622924804688,72.25352478027344,74.17044830322266,72.84344482421875,70.75102233886719,70.61551666259766,70.64057922363281,66.9859390258789,66.95391082763672,67.47721862792969,67.39767456054688,66.25454711914062,66.9715347290039,67.732177734375,68.66879272460938,68.54424285888672,68.577880859375,68.88270568847656,67.94288635253906,66.93923950195312,68.09402465820312,66.56800842285156,66.14707946777344,66.75444030761719,67.1378402709961,68.07374572753906,68.28084564208984,70.07957458496094,68.01309967041016,66.91325378417969,68.16166687011719,66.99263000488281,66.65802001953125,66.00312042236328,65.32427978515625,68.01724243164062,66.8577880859375,67.6563720703125,67.12568664550781,66.03573608398438,64.59589385986328,64.29490661621094,62.7266845703125,61.937835693359375,64.60542297363281,62.99232864379883,63.84081268310547,67.4736557006836,68.3482666015625,67.08678436279297,66.07754516601562,66.94046020507812,66.83416748046875,68.33724212646484,67.87764739990234,67.2838134765625,68.38731384277344,67.25457763671875,67.34410095214844,66.63282775878906,67.05863952636719,67.096923828125,69.5765380859375,71.28047943115234,72.9417724609375,74.07373046875,72.80280303955078,73.0983657836914,71.87354278564453,71.26219177246094,70.2613525390625,68.6495361328125,69.1614761352539,70.0446548461914,69.47931671142578,70.02682495117188,71.55548095703125,70.14384460449219,70.07925415039062,71.14842224121094,69.20679473876953,66.632080078125,66.275390625,67.96727752685547,66.32855987548828,70.16317749023438,70.04176330566406,71.51960754394531,71.09473419189453,71.84978485107422,78.5313720703125,80.35398864746094,79.89398956298828,80.14009094238281,78.64995574951172,77.1776123046875,77.67298126220703,78.34969329833984,78.96832275390625,78.63352966308594,78.65101623535156,81.78225708007812,83.2100601196289,83.62193298339844,84.23667907714844,84.65860748291016,85.61468505859375,82.54744720458984,83.66554260253906,86.33547973632812,83.92724609375,83.94032287597656,84.4172592163086,84.97489929199219,83.34243774414062,82.90589141845703,83.52241516113281,83.95236206054688,83.32548522949219],\"yaxis\":\"y\",\"type\":\"scatter\"},{\"hovertemplate\":\"variable=real_close<br>x=%{x}<br>value=%{y}<extra></extra>\",\"legendgroup\":\"real_close\",\"line\":{\"color\":\"#EF553B\",\"dash\":\"solid\"},\"marker\":{\"symbol\":\"circle\"},\"mode\":\"lines\",\"name\":\"real_close\",\"orientation\":\"v\",\"showlegend\":true,\"x\":[\"2022-01-03T00:00:00\",\"2022-01-04T00:00:00\",\"2022-01-05T00:00:00\",\"2022-01-06T00:00:00\",\"2022-01-07T00:00:00\",\"2022-01-10T00:00:00\",\"2022-01-11T00:00:00\",\"2022-01-12T00:00:00\",\"2022-01-13T00:00:00\",\"2022-01-14T00:00:00\",\"2022-01-17T00:00:00\",\"2022-01-18T00:00:00\",\"2022-01-19T00:00:00\",\"2022-01-20T00:00:00\",\"2022-01-21T00:00:00\",\"2022-01-24T00:00:00\",\"2022-01-25T00:00:00\",\"2022-01-26T00:00:00\",\"2022-01-27T00:00:00\",\"2022-01-28T00:00:00\",\"2022-01-31T00:00:00\",\"2022-02-01T00:00:00\",\"2022-02-02T00:00:00\",\"2022-02-03T00:00:00\",\"2022-02-04T00:00:00\",\"2022-02-07T00:00:00\",\"2022-02-08T00:00:00\",\"2022-02-09T00:00:00\",\"2022-02-10T00:00:00\",\"2022-02-11T00:00:00\",\"2022-02-14T00:00:00\",\"2022-02-15T00:00:00\",\"2022-02-16T00:00:00\",\"2022-02-17T00:00:00\",\"2022-02-18T00:00:00\",\"2022-02-21T00:00:00\",\"2022-02-22T00:00:00\",\"2022-02-23T00:00:00\",\"2022-02-24T00:00:00\",\"2022-02-25T00:00:00\",\"2022-03-02T00:00:00\",\"2022-03-03T00:00:00\",\"2022-03-04T00:00:00\",\"2022-03-07T00:00:00\",\"2022-03-08T00:00:00\",\"2022-03-09T00:00:00\",\"2022-03-10T00:00:00\",\"2022-03-11T00:00:00\",\"2022-03-14T00:00:00\",\"2022-03-15T00:00:00\",\"2022-03-16T00:00:00\",\"2022-03-17T00:00:00\",\"2022-03-18T00:00:00\",\"2022-03-21T00:00:00\",\"2022-03-22T00:00:00\",\"2022-03-23T00:00:00\",\"2022-03-24T00:00:00\",\"2022-03-25T00:00:00\",\"2022-03-28T00:00:00\",\"2022-03-29T00:00:00\",\"2022-03-30T00:00:00\",\"2022-03-31T00:00:00\",\"2022-04-01T00:00:00\",\"2022-04-04T00:00:00\",\"2022-04-05T00:00:00\",\"2022-04-06T00:00:00\",\"2022-04-07T00:00:00\",\"2022-04-08T00:00:00\",\"2022-04-11T00:00:00\",\"2022-04-12T00:00:00\",\"2022-04-13T00:00:00\",\"2022-04-14T00:00:00\",\"2022-04-18T00:00:00\",\"2022-04-19T00:00:00\",\"2022-04-20T00:00:00\",\"2022-04-22T00:00:00\",\"2022-04-25T00:00:00\",\"2022-04-26T00:00:00\",\"2022-04-27T00:00:00\",\"2022-04-28T00:00:00\",\"2022-04-29T00:00:00\",\"2022-05-02T00:00:00\",\"2022-05-03T00:00:00\",\"2022-05-04T00:00:00\",\"2022-05-05T00:00:00\",\"2022-05-06T00:00:00\",\"2022-05-09T00:00:00\",\"2022-05-10T00:00:00\",\"2022-05-11T00:00:00\",\"2022-05-12T00:00:00\",\"2022-05-13T00:00:00\",\"2022-05-16T00:00:00\",\"2022-05-17T00:00:00\",\"2022-05-18T00:00:00\",\"2022-05-19T00:00:00\",\"2022-05-20T00:00:00\",\"2022-05-23T00:00:00\",\"2022-05-24T00:00:00\",\"2022-05-25T00:00:00\",\"2022-05-26T00:00:00\",\"2022-05-27T00:00:00\",\"2022-05-30T00:00:00\",\"2022-05-31T00:00:00\",\"2022-06-01T00:00:00\",\"2022-06-02T00:00:00\",\"2022-06-03T00:00:00\",\"2022-06-06T00:00:00\",\"2022-06-07T00:00:00\",\"2022-06-08T00:00:00\",\"2022-06-09T00:00:00\",\"2022-06-10T00:00:00\",\"2022-06-13T00:00:00\",\"2022-06-14T00:00:00\",\"2022-06-15T00:00:00\",\"2022-06-17T00:00:00\",\"2022-06-20T00:00:00\",\"2022-06-21T00:00:00\",\"2022-06-22T00:00:00\",\"2022-06-23T00:00:00\",\"2022-06-24T00:00:00\",\"2022-06-27T00:00:00\",\"2022-06-28T00:00:00\",\"2022-06-29T00:00:00\",\"2022-06-30T00:00:00\",\"2022-07-01T00:00:00\",\"2022-07-04T00:00:00\",\"2022-07-05T00:00:00\",\"2022-07-06T00:00:00\",\"2022-07-07T00:00:00\",\"2022-07-08T00:00:00\",\"2022-07-11T00:00:00\",\"2022-07-12T00:00:00\",\"2022-07-13T00:00:00\",\"2022-07-14T00:00:00\",\"2022-07-15T00:00:00\",\"2022-07-18T00:00:00\",\"2022-07-19T00:00:00\",\"2022-07-20T00:00:00\",\"2022-07-21T00:00:00\",\"2022-07-22T00:00:00\",\"2022-07-25T00:00:00\",\"2022-07-26T00:00:00\",\"2022-07-27T00:00:00\",\"2022-07-28T00:00:00\",\"2022-07-29T00:00:00\",\"2022-08-01T00:00:00\",\"2022-08-02T00:00:00\",\"2022-08-03T00:00:00\",\"2022-08-04T00:00:00\",\"2022-08-05T00:00:00\",\"2022-08-08T00:00:00\",\"2022-08-09T00:00:00\",\"2022-08-10T00:00:00\",\"2022-08-11T00:00:00\",\"2022-08-12T00:00:00\",\"2022-08-15T00:00:00\",\"2022-08-16T00:00:00\",\"2022-08-17T00:00:00\",\"2022-08-18T00:00:00\",\"2022-08-19T00:00:00\",\"2022-08-22T00:00:00\",\"2022-08-23T00:00:00\",\"2022-08-24T00:00:00\",\"2022-08-25T00:00:00\",\"2022-08-26T00:00:00\",\"2022-08-29T00:00:00\",\"2022-08-30T00:00:00\",\"2022-08-31T00:00:00\",\"2022-09-01T00:00:00\",\"2022-09-02T00:00:00\",\"2022-09-05T00:00:00\",\"2022-09-06T00:00:00\",\"2022-09-08T00:00:00\",\"2022-09-09T00:00:00\",\"2022-09-12T00:00:00\",\"2022-09-13T00:00:00\",\"2022-09-14T00:00:00\",\"2022-09-15T00:00:00\",\"2022-09-16T00:00:00\",\"2022-09-19T00:00:00\",\"2022-09-20T00:00:00\",\"2022-09-21T00:00:00\",\"2022-09-22T00:00:00\",\"2022-09-23T00:00:00\",\"2022-09-26T00:00:00\",\"2022-09-27T00:00:00\",\"2022-09-28T00:00:00\",\"2022-09-29T00:00:00\",\"2022-09-30T00:00:00\",\"2022-10-03T00:00:00\",\"2022-10-04T00:00:00\",\"2022-10-05T00:00:00\",\"2022-10-06T00:00:00\",\"2022-10-07T00:00:00\",\"2022-10-10T00:00:00\",\"2022-10-11T00:00:00\",\"2022-10-13T00:00:00\",\"2022-10-14T00:00:00\",\"2022-10-17T00:00:00\",\"2022-10-18T00:00:00\",\"2022-10-19T00:00:00\",\"2022-10-20T00:00:00\",\"2022-10-21T00:00:00\",\"2022-10-24T00:00:00\",\"2022-10-25T00:00:00\",\"2022-10-26T00:00:00\",\"2022-10-27T00:00:00\",\"2022-10-28T00:00:00\",\"2022-10-31T00:00:00\",\"2022-11-01T00:00:00\",\"2022-11-03T00:00:00\",\"2022-11-04T00:00:00\",\"2022-11-07T00:00:00\",\"2022-11-08T00:00:00\",\"2022-11-09T00:00:00\",\"2022-11-10T00:00:00\",\"2022-11-11T00:00:00\",\"2022-11-14T00:00:00\",\"2022-11-16T00:00:00\",\"2022-11-17T00:00:00\",\"2022-11-18T00:00:00\",\"2022-11-21T00:00:00\",\"2022-11-22T00:00:00\",\"2022-11-23T00:00:00\",\"2022-11-24T00:00:00\",\"2022-11-25T00:00:00\",\"2022-11-28T00:00:00\",\"2022-11-29T00:00:00\",\"2022-11-30T00:00:00\",\"2022-12-01T00:00:00\",\"2022-12-02T00:00:00\",\"2022-12-05T00:00:00\",\"2022-12-06T00:00:00\",\"2022-12-07T00:00:00\",\"2022-12-08T00:00:00\",\"2022-12-09T00:00:00\",\"2022-12-12T00:00:00\",\"2022-12-13T00:00:00\",\"2022-12-14T00:00:00\",\"2022-12-15T00:00:00\",\"2022-12-16T00:00:00\",\"2022-12-19T00:00:00\",\"2022-12-20T00:00:00\",\"2022-12-21T00:00:00\",\"2022-12-22T00:00:00\"],\"xaxis\":\"x\",\"y\":[78.0,77.08000183105469,77.80999755859375,79.37999725341797,84.0,83.0,84.58000183105469,85.5,84.19999694824219,84.69000244140625,84.25,86.30999755859375,88.20999908447266,86.70999908447266,84.91000366210938,83.87000274658203,84.05999755859375,84.30000305175781,84.48999786376953,83.66000366210938,80.87000274658203,85.30999755859375,85.79000091552734,85.75,88.0,90.12999725341797,91.38999938964844,91.41000366210938,93.87000274658203,91.97000122070312,91.56999969482422,88.8499984741211,89.5,85.6500015258789,85.83000183105469,85.9000015258789,87.38999938964844,86.47000122070312,87.54000091552734,92.27999877929688,99.6500015258789,99.69999694824219,101.97000122070312,105.06999969482422,100.45999908447266,94.19000244140625,97.30000305175781,96.79000091552734,91.5999984741211,88.97000122070312,91.12999725341797,94.30000305175781,96.08999633789062,98.80999755859375,96.5999984741211,96.44999694824219,96.91000366210938,95.2300033569336,95.33999633789062,94.5199966430664,95.87000274658203,95.5999984741211,96.95999908447266,97.94000244140625,95.11000061035156,96.55000305175781,97.12999725341797,95.1500015258789,94.0,93.37000274658203,93.4000015258789,92.08999633789062,90.56999969482422,87.68000030517578,85.4000015258789,80.44999694824219,79.08000183105469,78.0,82.16999816894531,84.19999694824219,83.29000091552734,82.91999816894531,82.5,81.80999755859375,80.33000183105469,79.76000213623047,76.48999786376953,75.54000091552734,78.69000244140625,77.9000015258789,77.80999755859375,80.13999938964844,79.80000305175781,77.77999877929688,79.8499984741211,81.26000213623047,82.91999816894531,84.04000091552734,84.30000305175781,84.25,85.72000122070312,86.6500015258789,86.20999908447266,88.23999786376953,89.9000015258789,88.45999908447266,88.55000305175781,90.62000274658203,87.5,84.54000091552734,84.55999755859375,81.87999725341797,81.72000122070312,81.66999816894531,77.41000366210938,75.5,76.0,75.3499984741211,72.5999984741211,74.62000274658203,78.05000305175781,79.44999694824219,78.79000091552734,76.55999755859375,75.0999984741211,74.66999816894531,74.30000305175781,75.0,77.18000030517578,75.4000015258789,72.83000183105469,73.05000305175781,72.80000305175781,67.94999694824219,68.37000274658203,68.7300033569336,68.87999725341797,67.38999938964844,68.56999969482422,69.20999908447266,70.48999786376953,70.36000061035156,70.5199966430664,70.69000244140625,69.75,68.08000183105469,70.25,67.5199966430664,67.12999725341797,68.0,68.58000183105469,70.0,70.05000305175781,72.48999786376953,69.80000305175781,68.30000305175781,69.81999969482422,68.2300033569336,67.72000122070312,66.95999908447266,65.9800033569336,70.20999908447266,67.94999694824219,69.2699966430664,68.2300033569336,66.91000366210938,64.97000122070312,64.5,63.88999938964844,62.91999816894531,65.22000122070312,63.66999816894531,64.51000213623047,69.55000305175781,70.16000366210938,68.25,67.0,68.3499984741211,68.25,70.45999908447266,69.44999694824219,68.44999694824219,70.0199966430664,68.56999969482422,68.72000122070312,67.69999694824219,68.33999633789062,68.43000030517578,72.04000091552734,74.0,75.79000091552734,76.95999908447266,75.2300033569336,75.51000213623047,73.98999786376953,73.48999786376953,72.18000030517578,69.83000183105469,70.93000030517578,71.95999908447266,71.11000061035156,72.0199966430664,74.12999725341797,71.93000030517578,71.93000030517578,73.52999877929688,70.91000366210938,67.44999694824219,67.12999725341797,69.16999816894531,67.1500015258789,72.25,71.87000274658203,74.05000305175781,73.1500015258789,74.55000305175781,82.30000305175781,83.30999755859375,82.44000244140625,83.0999984741211,80.83000183105469,79.91999816894531,80.13999938964844,80.93000030517578,81.44999694824219,80.9000015258789,81.30000305175781,84.44000244140625,85.70999908447266,86.18000030517578,86.80000305175781,86.70999908447266,87.97000122070312,84.83999633789062,85.87999725341797,88.73999786376953,86.08999633789062,86.16000366210938,86.88999938964844,87.16999816894531,85.68000030517578,85.37000274658203,85.75,86.23999786376953,85.75],\"yaxis\":\"y\",\"type\":\"scatter\"}],                        {\"template\":{\"data\":{\"histogram2dcontour\":[{\"type\":\"histogram2dcontour\",\"colorbar\":{\"outlinewidth\":0,\"ticks\":\"\"},\"colorscale\":[[0.0,\"#0d0887\"],[0.1111111111111111,\"#46039f\"],[0.2222222222222222,\"#7201a8\"],[0.3333333333333333,\"#9c179e\"],[0.4444444444444444,\"#bd3786\"],[0.5555555555555556,\"#d8576b\"],[0.6666666666666666,\"#ed7953\"],[0.7777777777777778,\"#fb9f3a\"],[0.8888888888888888,\"#fdca26\"],[1.0,\"#f0f921\"]]}],\"choropleth\":[{\"type\":\"choropleth\",\"colorbar\":{\"outlinewidth\":0,\"ticks\":\"\"}}],\"histogram2d\":[{\"type\":\"histogram2d\",\"colorbar\":{\"outlinewidth\":0,\"ticks\":\"\"},\"colorscale\":[[0.0,\"#0d0887\"],[0.1111111111111111,\"#46039f\"],[0.2222222222222222,\"#7201a8\"],[0.3333333333333333,\"#9c179e\"],[0.4444444444444444,\"#bd3786\"],[0.5555555555555556,\"#d8576b\"],[0.6666666666666666,\"#ed7953\"],[0.7777777777777778,\"#fb9f3a\"],[0.8888888888888888,\"#fdca26\"],[1.0,\"#f0f921\"]]}],\"heatmap\":[{\"type\":\"heatmap\",\"colorbar\":{\"outlinewidth\":0,\"ticks\":\"\"},\"colorscale\":[[0.0,\"#0d0887\"],[0.1111111111111111,\"#46039f\"],[0.2222222222222222,\"#7201a8\"],[0.3333333333333333,\"#9c179e\"],[0.4444444444444444,\"#bd3786\"],[0.5555555555555556,\"#d8576b\"],[0.6666666666666666,\"#ed7953\"],[0.7777777777777778,\"#fb9f3a\"],[0.8888888888888888,\"#fdca26\"],[1.0,\"#f0f921\"]]}],\"heatmapgl\":[{\"type\":\"heatmapgl\",\"colorbar\":{\"outlinewidth\":0,\"ticks\":\"\"},\"colorscale\":[[0.0,\"#0d0887\"],[0.1111111111111111,\"#46039f\"],[0.2222222222222222,\"#7201a8\"],[0.3333333333333333,\"#9c179e\"],[0.4444444444444444,\"#bd3786\"],[0.5555555555555556,\"#d8576b\"],[0.6666666666666666,\"#ed7953\"],[0.7777777777777778,\"#fb9f3a\"],[0.8888888888888888,\"#fdca26\"],[1.0,\"#f0f921\"]]}],\"contourcarpet\":[{\"type\":\"contourcarpet\",\"colorbar\":{\"outlinewidth\":0,\"ticks\":\"\"}}],\"contour\":[{\"type\":\"contour\",\"colorbar\":{\"outlinewidth\":0,\"ticks\":\"\"},\"colorscale\":[[0.0,\"#0d0887\"],[0.1111111111111111,\"#46039f\"],[0.2222222222222222,\"#7201a8\"],[0.3333333333333333,\"#9c179e\"],[0.4444444444444444,\"#bd3786\"],[0.5555555555555556,\"#d8576b\"],[0.6666666666666666,\"#ed7953\"],[0.7777777777777778,\"#fb9f3a\"],[0.8888888888888888,\"#fdca26\"],[1.0,\"#f0f921\"]]}],\"surface\":[{\"type\":\"surface\",\"colorbar\":{\"outlinewidth\":0,\"ticks\":\"\"},\"colorscale\":[[0.0,\"#0d0887\"],[0.1111111111111111,\"#46039f\"],[0.2222222222222222,\"#7201a8\"],[0.3333333333333333,\"#9c179e\"],[0.4444444444444444,\"#bd3786\"],[0.5555555555555556,\"#d8576b\"],[0.6666666666666666,\"#ed7953\"],[0.7777777777777778,\"#fb9f3a\"],[0.8888888888888888,\"#fdca26\"],[1.0,\"#f0f921\"]]}],\"mesh3d\":[{\"type\":\"mesh3d\",\"colorbar\":{\"outlinewidth\":0,\"ticks\":\"\"}}],\"scatter\":[{\"fillpattern\":{\"fillmode\":\"overlay\",\"size\":10,\"solidity\":0.2},\"type\":\"scatter\"}],\"parcoords\":[{\"type\":\"parcoords\",\"line\":{\"colorbar\":{\"outlinewidth\":0,\"ticks\":\"\"}}}],\"scatterpolargl\":[{\"type\":\"scatterpolargl\",\"marker\":{\"colorbar\":{\"outlinewidth\":0,\"ticks\":\"\"}}}],\"bar\":[{\"error_x\":{\"color\":\"#2a3f5f\"},\"error_y\":{\"color\":\"#2a3f5f\"},\"marker\":{\"line\":{\"color\":\"#E5ECF6\",\"width\":0.5},\"pattern\":{\"fillmode\":\"overlay\",\"size\":10,\"solidity\":0.2}},\"type\":\"bar\"}],\"scattergeo\":[{\"type\":\"scattergeo\",\"marker\":{\"colorbar\":{\"outlinewidth\":0,\"ticks\":\"\"}}}],\"scatterpolar\":[{\"type\":\"scatterpolar\",\"marker\":{\"colorbar\":{\"outlinewidth\":0,\"ticks\":\"\"}}}],\"histogram\":[{\"marker\":{\"pattern\":{\"fillmode\":\"overlay\",\"size\":10,\"solidity\":0.2}},\"type\":\"histogram\"}],\"scattergl\":[{\"type\":\"scattergl\",\"marker\":{\"colorbar\":{\"outlinewidth\":0,\"ticks\":\"\"}}}],\"scatter3d\":[{\"type\":\"scatter3d\",\"line\":{\"colorbar\":{\"outlinewidth\":0,\"ticks\":\"\"}},\"marker\":{\"colorbar\":{\"outlinewidth\":0,\"ticks\":\"\"}}}],\"scattermapbox\":[{\"type\":\"scattermapbox\",\"marker\":{\"colorbar\":{\"outlinewidth\":0,\"ticks\":\"\"}}}],\"scatterternary\":[{\"type\":\"scatterternary\",\"marker\":{\"colorbar\":{\"outlinewidth\":0,\"ticks\":\"\"}}}],\"scattercarpet\":[{\"type\":\"scattercarpet\",\"marker\":{\"colorbar\":{\"outlinewidth\":0,\"ticks\":\"\"}}}],\"carpet\":[{\"aaxis\":{\"endlinecolor\":\"#2a3f5f\",\"gridcolor\":\"white\",\"linecolor\":\"white\",\"minorgridcolor\":\"white\",\"startlinecolor\":\"#2a3f5f\"},\"baxis\":{\"endlinecolor\":\"#2a3f5f\",\"gridcolor\":\"white\",\"linecolor\":\"white\",\"minorgridcolor\":\"white\",\"startlinecolor\":\"#2a3f5f\"},\"type\":\"carpet\"}],\"table\":[{\"cells\":{\"fill\":{\"color\":\"#EBF0F8\"},\"line\":{\"color\":\"white\"}},\"header\":{\"fill\":{\"color\":\"#C8D4E3\"},\"line\":{\"color\":\"white\"}},\"type\":\"table\"}],\"barpolar\":[{\"marker\":{\"line\":{\"color\":\"#E5ECF6\",\"width\":0.5},\"pattern\":{\"fillmode\":\"overlay\",\"size\":10,\"solidity\":0.2}},\"type\":\"barpolar\"}],\"pie\":[{\"automargin\":true,\"type\":\"pie\"}]},\"layout\":{\"autotypenumbers\":\"strict\",\"colorway\":[\"#636efa\",\"#EF553B\",\"#00cc96\",\"#ab63fa\",\"#FFA15A\",\"#19d3f3\",\"#FF6692\",\"#B6E880\",\"#FF97FF\",\"#FECB52\"],\"font\":{\"color\":\"#2a3f5f\"},\"hovermode\":\"closest\",\"hoverlabel\":{\"align\":\"left\"},\"paper_bgcolor\":\"white\",\"plot_bgcolor\":\"#E5ECF6\",\"polar\":{\"bgcolor\":\"#E5ECF6\",\"angularaxis\":{\"gridcolor\":\"white\",\"linecolor\":\"white\",\"ticks\":\"\"},\"radialaxis\":{\"gridcolor\":\"white\",\"linecolor\":\"white\",\"ticks\":\"\"}},\"ternary\":{\"bgcolor\":\"#E5ECF6\",\"aaxis\":{\"gridcolor\":\"white\",\"linecolor\":\"white\",\"ticks\":\"\"},\"baxis\":{\"gridcolor\":\"white\",\"linecolor\":\"white\",\"ticks\":\"\"},\"caxis\":{\"gridcolor\":\"white\",\"linecolor\":\"white\",\"ticks\":\"\"}},\"coloraxis\":{\"colorbar\":{\"outlinewidth\":0,\"ticks\":\"\"}},\"colorscale\":{\"sequential\":[[0.0,\"#0d0887\"],[0.1111111111111111,\"#46039f\"],[0.2222222222222222,\"#7201a8\"],[0.3333333333333333,\"#9c179e\"],[0.4444444444444444,\"#bd3786\"],[0.5555555555555556,\"#d8576b\"],[0.6666666666666666,\"#ed7953\"],[0.7777777777777778,\"#fb9f3a\"],[0.8888888888888888,\"#fdca26\"],[1.0,\"#f0f921\"]],\"sequentialminus\":[[0.0,\"#0d0887\"],[0.1111111111111111,\"#46039f\"],[0.2222222222222222,\"#7201a8\"],[0.3333333333333333,\"#9c179e\"],[0.4444444444444444,\"#bd3786\"],[0.5555555555555556,\"#d8576b\"],[0.6666666666666666,\"#ed7953\"],[0.7777777777777778,\"#fb9f3a\"],[0.8888888888888888,\"#fdca26\"],[1.0,\"#f0f921\"]],\"diverging\":[[0,\"#8e0152\"],[0.1,\"#c51b7d\"],[0.2,\"#de77ae\"],[0.3,\"#f1b6da\"],[0.4,\"#fde0ef\"],[0.5,\"#f7f7f7\"],[0.6,\"#e6f5d0\"],[0.7,\"#b8e186\"],[0.8,\"#7fbc41\"],[0.9,\"#4d9221\"],[1,\"#276419\"]]},\"xaxis\":{\"gridcolor\":\"white\",\"linecolor\":\"white\",\"ticks\":\"\",\"title\":{\"standoff\":15},\"zerolinecolor\":\"white\",\"automargin\":true,\"zerolinewidth\":2},\"yaxis\":{\"gridcolor\":\"white\",\"linecolor\":\"white\",\"ticks\":\"\",\"title\":{\"standoff\":15},\"zerolinecolor\":\"white\",\"automargin\":true,\"zerolinewidth\":2},\"scene\":{\"xaxis\":{\"backgroundcolor\":\"#E5ECF6\",\"gridcolor\":\"white\",\"linecolor\":\"white\",\"showbackground\":true,\"ticks\":\"\",\"zerolinecolor\":\"white\",\"gridwidth\":2},\"yaxis\":{\"backgroundcolor\":\"#E5ECF6\",\"gridcolor\":\"white\",\"linecolor\":\"white\",\"showbackground\":true,\"ticks\":\"\",\"zerolinecolor\":\"white\",\"gridwidth\":2},\"zaxis\":{\"backgroundcolor\":\"#E5ECF6\",\"gridcolor\":\"white\",\"linecolor\":\"white\",\"showbackground\":true,\"ticks\":\"\",\"zerolinecolor\":\"white\",\"gridwidth\":2}},\"shapedefaults\":{\"line\":{\"color\":\"#2a3f5f\"}},\"annotationdefaults\":{\"arrowcolor\":\"#2a3f5f\",\"arrowhead\":0,\"arrowwidth\":1},\"geo\":{\"bgcolor\":\"white\",\"landcolor\":\"#E5ECF6\",\"subunitcolor\":\"white\",\"showland\":true,\"showlakes\":true,\"lakecolor\":\"white\"},\"title\":{\"x\":0.05},\"mapbox\":{\"style\":\"light\"}}},\"xaxis\":{\"anchor\":\"y\",\"domain\":[0.0,1.0],\"title\":{\"text\":\"x\"}},\"yaxis\":{\"anchor\":\"x\",\"domain\":[0.0,1.0],\"title\":{\"text\":\"value\"}},\"legend\":{\"title\":{\"text\":\"variable\"},\"tracegroupgap\":0},\"margin\":{\"t\":60}},                        {\"responsive\": true}                    ).then(function(){\n",
       "                            \n",
       "var gd = document.getElementById('9464907f-633e-4954-b6bf-8ecda51b7739');\n",
       "var x = new MutationObserver(function (mutations, observer) {{\n",
       "        var display = window.getComputedStyle(gd).display;\n",
       "        if (!display || display === 'none') {{\n",
       "            console.log([gd, 'removed!']);\n",
       "            Plotly.purge(gd);\n",
       "            observer.disconnect();\n",
       "        }}\n",
       "}});\n",
       "\n",
       "// Listen for the removal of the full notebook cells\n",
       "var notebookContainer = gd.closest('#notebook-container');\n",
       "if (notebookContainer) {{\n",
       "    x.observe(notebookContainer, {childList: true});\n",
       "}}\n",
       "\n",
       "// Listen for the clearing of the current output cell\n",
       "var outputEl = gd.closest('.output');\n",
       "if (outputEl) {{\n",
       "    x.observe(outputEl, {childList: true});\n",
       "}}\n",
       "\n",
       "                        })                };                });            </script>        </div>"
      ]
     },
     "metadata": {},
     "output_type": "display_data"
    }
   ],
   "source": [
    "import plotly.express as px\n",
    "fig = px.line(df_valid, x=df_valid.index.values, y=df_valid.columns)\n",
    "fig.show()"
   ]
  },
  {
   "cell_type": "markdown",
   "metadata": {
    "id": "PuRr5espBGYG"
   },
   "source": [
    "## Deploy do modelo\n",
    "O modelo foi implantado no ambiente **HuggingFace**, conforme em outras lições e pode ser acessado por este link: https://huggingface.co/spaces/paulohgontijoo/tabular-fastai-lesson-5"
   ]
  },
  {
   "cell_type": "code",
   "execution_count": 27,
   "metadata": {
    "id": "_l69KzxZzf2A"
   },
   "outputs": [],
   "source": [
    "learn.export('./model.pkl')"
   ]
  },
  {
   "cell_type": "markdown",
   "metadata": {
    "id": "jkzeqGkTzQPg"
   },
   "source": [
    "* Ao executar o comando acima, utilizando a métrica `SpearmenCorrCoef` o seguite erro foi apresentado:\n",
    "\n",
    "```shell\n",
    "AttributeError                            Traceback (most recent call last)\n",
    "\n",
    "<ipython-input-46-da3b055ac77f> in <module>\n",
    "----> 1 learn.export('/home/model.pkl')\n",
    "\n",
    "2 frames\n",
    "\n",
    "/usr/local/lib/python3.8/dist-packages/torch/serialization.py in _save(obj, zip_file, pickle_module, pickle_protocol)\n",
    "    633     pickler = pickle_module.Pickler(data_buf, protocol=pickle_protocol)\n",
    "    634     pickler.persistent_id = persistent_id\n",
    "--> 635     pickler.dump(obj)\n",
    "    636     data_value = data_buf.getvalue()\n",
    "    637     zip_file.write_record('data.pkl', data_value, len(data_value))\n",
    "\n",
    "AttributeError: Can't pickle local object 'SpearmanCorrCoef.<locals>.spearmanr' \n",
    "```"
   ]
  },
  {
   "cell_type": "markdown",
   "metadata": {
    "id": "6wIiqq51ztff"
   },
   "source": [
    "* **Solução:** Trocar a métrica para `RMSE`, a qual também performa na solução. "
   ]
  },
  {
   "cell_type": "markdown",
   "metadata": {
    "id": "CtWng1i_1GMU",
    "pycharm": {
     "name": "#%% md\n"
    }
   },
   "source": [
    "# Referências Bibliográficas\n",
    "\n",
    "> https://github.com/Kaggle/kaggle-api\n",
    "\n",
    "> https://www.youtube.com/watch?v=aBNQzWV_UmE\n",
    "\n",
    "> https://databricks-prod-cloudfront.cloud.databricks.com/public/4027ec902e239c93eaaa8714f173bcfc/968100988546031/157591980591166/8836542754149149/latest.html\n",
    "\n",
    "> https://blog.clairvoyantsoft.com/apache-spark-out-of-memory-issue-b63c7987fff\n",
    "\n",
    "> https://spark.apache.org/docs/latest/api/python/getting_started/quickstart_ps.html"
   ]
  },
  {
   "cell_type": "code",
   "execution_count": null,
   "metadata": {},
   "outputs": [],
   "source": []
  }
 ],
 "metadata": {
  "colab": {
   "provenance": [],
   "toc_visible": true
  },
  "gpuClass": "standard",
  "jupytext": {
   "split_at_heading": true
  },
  "kernelspec": {
   "display_name": "Python 3 (ipykernel)",
   "language": "python",
   "name": "python3"
  },
  "language_info": {
   "codemirror_mode": {
    "name": "ipython",
    "version": 3
   },
   "file_extension": ".py",
   "mimetype": "text/x-python",
   "name": "python",
   "nbconvert_exporter": "python",
   "pygments_lexer": "ipython3",
   "version": "3.10.6"
  }
 },
 "nbformat": 4,
 "nbformat_minor": 1
}