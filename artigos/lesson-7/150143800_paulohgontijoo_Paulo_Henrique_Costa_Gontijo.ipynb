{
 "cells": [
  {
   "cell_type": "markdown",
   "metadata": {},
   "source": [
    "# Artigo 7\n",
    "* Aluno: Paulo Henrique Costa Gontijo\n",
    "* Matrícula: 15/0143800\n",
    "* Lição: **\n",
    "* Notebooks: \n",
    "  * **\n",
    "  * **\n",
    "\n",
    "| Hitórico de versão | Data |\n",
    "|:--------------------:|:------:|\n",
    "| v1 | 24/01/2023 |\n",
    "\n",
    "## Propósito\n",
    "Este artigo tem a intenção de documentar o passo a passo da quarta lição do curso, mostrando os blocos de códigos, o resultado das execuções, eventuais problemas encontrados e, se houver, as possíveis soluções para os problemas.\n",
    "\n",
    "## Tema\n",
    "A lição 7 do curso FastAi contempla conceitos como Filtro Colaborativo, viés de usuário e produto. Dentre estes tópicos, são apresentadas técnicas de análise e treinamento de modelos específico para o tema."
   ]
  },
  {
   "cell_type": "code",
   "execution_count": 1,
   "metadata": {
    "pycharm": {
     "name": "#%%\n"
    }
   },
   "outputs": [],
   "source": [
    "import fastbook\n",
    "fastbook.setup_book()"
   ]
  },
  {
   "cell_type": "markdown",
   "metadata": {},
   "source": [
    "## Importação das Bibliotecas"
   ]
  },
  {
   "cell_type": "code",
   "execution_count": 2,
   "metadata": {
    "pycharm": {
     "name": "#%%\n"
    }
   },
   "outputs": [],
   "source": [
    "import os\n",
    "import pandas as pd\n",
    "\n",
    "file_name = 'train.jsonl'\n",
    "file_path = '/'.join([os.getcwd(), file_name])"
   ]
  },
  {
   "cell_type": "markdown",
   "metadata": {},
   "source": [
    "## Criando Cluster Spark"
   ]
  },
  {
   "cell_type": "code",
   "execution_count": 3,
   "metadata": {
    "pycharm": {
     "name": "#%%\n"
    }
   },
   "outputs": [
    {
     "name": "stdout",
     "output_type": "stream",
     "text": [
      "23/02/01 17:41:55 WARN Utils: Your hostname, gobellek-B660M-DS3H-DDR4 resolves to a loopback address: 127.0.1.1; using 192.168.0.37 instead (on interface enp3s0)\n",
      "23/02/01 17:41:55 WARN Utils: Set SPARK_LOCAL_IP if you need to bind to another address\n"
     ]
    },
    {
     "name": "stderr",
     "output_type": "stream",
     "text": [
      "Setting default log level to \"WARN\".\n",
      "To adjust logging level use sc.setLogLevel(newLevel). For SparkR, use setLogLevel(newLevel).\n"
     ]
    },
    {
     "name": "stdout",
     "output_type": "stream",
     "text": [
      "23/02/01 17:41:56 WARN NativeCodeLoader: Unable to load native-hadoop library for your platform... using builtin-java classes where applicable\n",
      "[('spark.app.name', 'otto-reccomender-competition-kaggle'), ('spark.app.submitTime', '1675284115898'), ('spark.sql.execution.arrow.pyspark.fallback.enabled', 'true'), ('spark.sql.catalogImplementation', 'hive'), ('spark.driver.maxResultSize', '20g'), ('spark.master', 'local[*]'), ('spark.submit.pyFiles', ''), ('spark.submit.deployMode', 'client'), ('spark.sql.warehouse.dir', '/home/gobellek/Documents/UnB/mlops/fastaiOnCampus/artigos/lesson-7/spark-warehouse'), ('spark.ui.showConsoleProgress', 'true'), ('spark.sql.execution.arrow.pyspark.enabled', 'true')]\n"
     ]
    }
   ],
   "source": [
    "from pyspark.sql import SparkSession\n",
    "from pyspark import SparkConf\n",
    "from os.path import abspath\n",
    "\n",
    "warehouse_location = abspath('spark-warehouse')\n",
    "\n",
    "    # init session\n",
    "spark = SparkSession \\\n",
    "        .builder \\\n",
    "        .appName(\"otto-reccomender-competition-kaggle\") \\\n",
    "        .config(\"spark.sql.warehouse.dir\", abspath('spark-warehouse')) \\\n",
    "        .config(\"spark.sql.execution.arrow.pyspark.enabled\", \"true\")\\\n",
    "        .config(\"spark.sql.execution.arrow.pyspark.fallback.enabled\", \"true\")\\\n",
    "        .config(\"spark.driver.maxResultSize\", \"20g\")\\\n",
    "        .enableHiveSupport() \\\n",
    "        .getOrCreate()\n",
    "\n",
    "# show configured parameters\n",
    "print(SparkConf().getAll())\n",
    "\n",
    "# set log level\n",
    "spark.sparkContext.setLogLevel(\"FATAL\")"
   ]
  },
  {
   "cell_type": "markdown",
   "metadata": {},
   "source": [
    "* Conferindo o instanciamento"
   ]
  },
  {
   "cell_type": "code",
   "execution_count": 4,
   "metadata": {
    "pycharm": {
     "name": "#%%\n"
    }
   },
   "outputs": [
    {
     "data": {
      "text/html": [
       "\n",
       "            <div>\n",
       "                <p><b>SparkSession - hive</b></p>\n",
       "                \n",
       "        <div>\n",
       "            <p><b>SparkContext</b></p>\n",
       "\n",
       "            <p><a href=\"http://192.168.0.37:4040\">Spark UI</a></p>\n",
       "\n",
       "            <dl>\n",
       "              <dt>Version</dt>\n",
       "                <dd><code>v3.3.1</code></dd>\n",
       "              <dt>Master</dt>\n",
       "                <dd><code>local[*]</code></dd>\n",
       "              <dt>AppName</dt>\n",
       "                <dd><code>otto-reccomender-competition-kaggle</code></dd>\n",
       "            </dl>\n",
       "        </div>\n",
       "        \n",
       "            </div>\n",
       "        "
      ],
      "text/plain": [
       "<pyspark.sql.session.SparkSession at 0x7ff38bf568f0>"
      ]
     },
     "execution_count": 4,
     "metadata": {},
     "output_type": "execute_result"
    }
   ],
   "source": [
    "spark"
   ]
  },
  {
   "cell_type": "code",
   "execution_count": 5,
   "metadata": {
    "pycharm": {
     "name": "#%%\n"
    }
   },
   "outputs": [
    {
     "name": "stderr",
     "output_type": "stream",
     "text": [
      "WARNING:root:'PYARROW_IGNORE_TIMEZONE' environment variable was not set. It is required to set this environment variable to '1' in both driver and executor sides if you use pyarrow>=2.0.0. pandas-on-Spark will set it for you but it does not work if there is a Spark context already launched.\n"
     ]
    }
   ],
   "source": [
    "import pyspark.pandas as ps\n",
    "ps.set_option('compute.ops_on_diff_frames', True)"
   ]
  },
  {
   "cell_type": "markdown",
   "metadata": {},
   "source": [
    "* Leitura do arquivo disponibilizado na competição kaggle: [link.](https://www.kaggle.com/competitions/otto-recommender-system/overview/)"
   ]
  },
  {
   "cell_type": "code",
   "execution_count": 6,
   "metadata": {
    "pycharm": {
     "name": "#%%\n"
    }
   },
   "outputs": [
    {
     "name": "stderr",
     "output_type": "stream",
     "text": [
      "                                                                                \r"
     ]
    },
    {
     "data": {
      "text/plain": [
       "['events', 'session']"
      ]
     },
     "execution_count": 6,
     "metadata": {},
     "output_type": "execute_result"
    }
   ],
   "source": [
    "df_raw = spark.read \\\n",
    "    .format(\"json\") \\\n",
    "    .option(\"inferSchema\", \"true\") \\\n",
    "    .option(\"header\", \"true\") \\\n",
    "    .json(file_path)\n",
    "df_raw.columns"
   ]
  },
  {
   "cell_type": "markdown",
   "metadata": {},
   "source": [
    "* Conferindo número de partições e conteúdo"
   ]
  },
  {
   "cell_type": "code",
   "execution_count": 7,
   "metadata": {
    "pycharm": {
     "name": "#%%\n"
    }
   },
   "outputs": [
    {
     "name": "stdout",
     "output_type": "stream",
     "text": [
      "85\n"
     ]
    }
   ],
   "source": [
    "print(df_raw.rdd.getNumPartitions())"
   ]
  },
  {
   "cell_type": "code",
   "execution_count": 8,
   "metadata": {
    "pycharm": {
     "name": "#%%\n"
    }
   },
   "outputs": [
    {
     "name": "stdout",
     "output_type": "stream",
     "text": [
      "+--------------------+-------+\n",
      "|              events|session|\n",
      "+--------------------+-------+\n",
      "|[{1517085, 165930...|      0|\n",
      "|[{424964, 1659304...|      1|\n",
      "|[{763743, 1659304...|      2|\n",
      "|[{1425967, 165930...|      3|\n",
      "|[{613619, 1659304...|      4|\n",
      "|[{1098089, 165930...|      5|\n",
      "|[{137164, 1659304...|      6|\n",
      "|[{87774, 16593048...|      7|\n",
      "|[{1814223, 165930...|      8|\n",
      "|[{847707, 1659304...|      9|\n",
      "+--------------------+-------+\n",
      "only showing top 10 rows\n",
      "\n"
     ]
    }
   ],
   "source": [
    "df_raw.show(10)"
   ]
  },
  {
   "cell_type": "markdown",
   "metadata": {},
   "source": [
    "* Contagem de linhas em arquivo bruto"
   ]
  },
  {
   "cell_type": "code",
   "execution_count": 9,
   "metadata": {
    "pycharm": {
     "name": "#%%\n"
    }
   },
   "outputs": [
    {
     "name": "stderr",
     "output_type": "stream",
     "text": [
      "                                                                                \r"
     ]
    },
    {
     "data": {
      "text/plain": [
       "12899779"
      ]
     },
     "execution_count": 9,
     "metadata": {},
     "output_type": "execute_result"
    }
   ],
   "source": [
    "df_raw.count()"
   ]
  },
  {
   "cell_type": "code",
   "execution_count": 10,
   "metadata": {
    "pycharm": {
     "name": "#%%\n"
    }
   },
   "outputs": [
    {
     "name": "stdout",
     "output_type": "stream",
     "text": [
      "root\n",
      " |-- events: array (nullable = true)\n",
      " |    |-- element: struct (containsNull = true)\n",
      " |    |    |-- aid: long (nullable = true)\n",
      " |    |    |-- ts: long (nullable = true)\n",
      " |    |    |-- type: string (nullable = true)\n",
      " |-- session: long (nullable = true)\n",
      "\n"
     ]
    }
   ],
   "source": [
    "df_raw.printSchema()"
   ]
  },
  {
   "cell_type": "markdown",
   "metadata": {},
   "source": [
    "* Processamento de Json para formato tabular"
   ]
  },
  {
   "cell_type": "code",
   "execution_count": 11,
   "metadata": {
    "pycharm": {
     "name": "#%%\n"
    }
   },
   "outputs": [
    {
     "name": "stdout",
     "output_type": "stream",
     "text": [
      "+-------+-------+-------------+------+\n",
      "|session|    aid|           ts|  type|\n",
      "+-------+-------+-------------+------+\n",
      "|      0|1517085|1659304800025|clicks|\n",
      "|      0|1563459|1659304904511|clicks|\n",
      "|      0|1309446|1659367439426|clicks|\n",
      "|      0|  16246|1659367719997|clicks|\n",
      "|      0|1781822|1659367871344|clicks|\n",
      "|      0|1152674|1659367885796|clicks|\n",
      "|      0|1649869|1659369893840| carts|\n",
      "|      0| 461689|1659369898050| carts|\n",
      "|      0| 305831|1659370027105|orders|\n",
      "|      0| 461689|1659370027105|orders|\n",
      "+-------+-------+-------------+------+\n",
      "only showing top 10 rows\n",
      "\n"
     ]
    }
   ],
   "source": [
    "from pyspark.sql import functions as F\n",
    "from pyspark.sql import types as T\n",
    "df_explode = df_raw.withColumn('events_explode', F.explode('events'))\\\n",
    "                    .withColumn('session', F.col('session').cast(T.IntegerType()))\\\n",
    "                    .withColumn('aid', F.col('events_explode.aid').cast(T.IntegerType()))\\\n",
    "                    .withColumn('ts', F.col('events_explode.ts'))\\\n",
    "                    .withColumn('type', F.col('events_explode.type'))\\\n",
    "                    .drop('events', 'events_explode')\n",
    "df_explode.show(10)"
   ]
  },
  {
   "cell_type": "markdown",
   "metadata": {},
   "source": [
    "* Contagem de linhas após o tratamento"
   ]
  },
  {
   "cell_type": "code",
   "execution_count": 12,
   "metadata": {
    "pycharm": {
     "name": "#%%\n"
    }
   },
   "outputs": [
    {
     "name": "stderr",
     "output_type": "stream",
     "text": [
      "                                                                                \r"
     ]
    },
    {
     "data": {
      "text/plain": [
       "216716096"
      ]
     },
     "execution_count": 12,
     "metadata": {},
     "output_type": "execute_result"
    }
   ],
   "source": [
    "df_explode.count()"
   ]
  },
  {
   "cell_type": "markdown",
   "metadata": {},
   "source": [
    "* Schema pós tratamento"
   ]
  },
  {
   "cell_type": "code",
   "execution_count": 13,
   "metadata": {
    "pycharm": {
     "name": "#%%\n"
    }
   },
   "outputs": [
    {
     "name": "stdout",
     "output_type": "stream",
     "text": [
      "root\n",
      " |-- session: integer (nullable = true)\n",
      " |-- aid: integer (nullable = true)\n",
      " |-- ts: long (nullable = true)\n",
      " |-- type: string (nullable = true)\n",
      "\n"
     ]
    }
   ],
   "source": [
    "df_explode.printSchema()"
   ]
  },
  {
   "cell_type": "markdown",
   "metadata": {},
   "source": [
    "* Categorização de coluna alvo string"
   ]
  },
  {
   "cell_type": "code",
   "execution_count": 14,
   "metadata": {
    "pycharm": {
     "name": "#%%\n"
    }
   },
   "outputs": [
    {
     "name": "stderr",
     "output_type": "stream",
     "text": [
      "[Stage 9:======================================================>  (81 + 4) / 85]\r"
     ]
    },
    {
     "name": "stdout",
     "output_type": "stream",
     "text": [
      "+-------+-------+--------+\n",
      "|session|    aid|type_cat|\n",
      "+-------+-------+--------+\n",
      "|      0|1517085|       0|\n",
      "|      0|1563459|       0|\n",
      "|      0|1309446|       0|\n",
      "|      0|  16246|       0|\n",
      "|      0|1781822|       0|\n",
      "|      0|1152674|       0|\n",
      "|      0|1649869|       1|\n",
      "|      0| 461689|       1|\n",
      "|      0| 305831|       2|\n",
      "|      0| 461689|       2|\n",
      "+-------+-------+--------+\n",
      "only showing top 10 rows\n",
      "\n"
     ]
    },
    {
     "name": "stderr",
     "output_type": "stream",
     "text": [
      "\r",
      "                                                                                \r"
     ]
    }
   ],
   "source": [
    "from pyspark.ml.feature import StringIndexer\n",
    "indexer = StringIndexer(inputCol='type', outputCol='type_cat')\n",
    "indexer_fitted = indexer.fit(df_explode)\n",
    "df_indexed = indexer_fitted.transform(df_explode)\n",
    "df_indexed = df_indexed.withColumn('type_cat', F.col('type_cat').cast(T.IntegerType())).drop('type')\n",
    "df_indexed = df_indexed.drop('ts')\n",
    "df_indexed.show(10)"
   ]
  },
  {
   "cell_type": "markdown",
   "metadata": {},
   "source": [
    "* Conferência de schema pós tratativas"
   ]
  },
  {
   "cell_type": "code",
   "execution_count": 15,
   "metadata": {
    "pycharm": {
     "name": "#%%\n"
    }
   },
   "outputs": [
    {
     "name": "stdout",
     "output_type": "stream",
     "text": [
      "root\n",
      " |-- session: integer (nullable = true)\n",
      " |-- aid: integer (nullable = true)\n",
      " |-- type_cat: integer (nullable = true)\n",
      "\n"
     ]
    }
   ],
   "source": [
    "df_indexed.printSchema()"
   ]
  },
  {
   "cell_type": "markdown",
   "metadata": {},
   "source": [
    "* Estatísticas em amostra"
   ]
  },
  {
   "cell_type": "code",
   "execution_count": 16,
   "metadata": {
    "pycharm": {
     "name": "#%%\n"
    }
   },
   "outputs": [
    {
     "name": "stderr",
     "output_type": "stream",
     "text": [
      "[Stage 13:=====================================================>  (81 + 4) / 85]\r"
     ]
    },
    {
     "name": "stdout",
     "output_type": "stream",
     "text": [
      "+-------+-----------------+-----------------+-------------------+\n",
      "|summary|          session|              aid|           type_cat|\n",
      "+-------+-----------------+-----------------+-------------------+\n",
      "|  count|        216716096|        216716096|          216716096|\n",
      "|   mean|4702787.036247751|928805.2291050315|0.12502113825453925|\n",
      "| stddev|3664999.505174937|536691.7477821864|0.39553426995921603|\n",
      "|    min|                0|                0|                  0|\n",
      "|    max|         12899778|          1855602|                  2|\n",
      "+-------+-----------------+-----------------+-------------------+\n",
      "\n"
     ]
    },
    {
     "name": "stderr",
     "output_type": "stream",
     "text": [
      "\r",
      "                                                                                \r"
     ]
    }
   ],
   "source": [
    "df_indexed.describe().show()"
   ]
  },
  {
   "cell_type": "markdown",
   "metadata": {},
   "source": [
    "## Análise de Clientes"
   ]
  },
  {
   "cell_type": "markdown",
   "metadata": {},
   "source": [
    "* Quantidade de clientes únicos"
   ]
  },
  {
   "cell_type": "code",
   "execution_count": 17,
   "metadata": {
    "pycharm": {
     "name": "#%%\n"
    }
   },
   "outputs": [
    {
     "name": "stderr",
     "output_type": "stream",
     "text": [
      "                                                                                \r"
     ]
    },
    {
     "data": {
      "text/plain": [
       "12899779"
      ]
     },
     "execution_count": 17,
     "metadata": {},
     "output_type": "execute_result"
    }
   ],
   "source": [
    "df_indexed.select('session').distinct().count()"
   ]
  },
  {
   "cell_type": "markdown",
   "metadata": {},
   "source": [
    "* Clientes que mais interagiram"
   ]
  },
  {
   "cell_type": "code",
   "execution_count": 18,
   "metadata": {
    "pycharm": {
     "name": "#%%\n"
    }
   },
   "outputs": [
    {
     "name": "stderr",
     "output_type": "stream",
     "text": [
      "[Stage 24:>                                                       (0 + 20) / 22]\r"
     ]
    },
    {
     "name": "stdout",
     "output_type": "stream",
     "text": [
      "+--------+-----+\n",
      "| session|count|\n",
      "+--------+-----+\n",
      "| 6265682|  500|\n",
      "| 4110619|  500|\n",
      "|10776795|  499|\n",
      "| 1870739|  499|\n",
      "|  352795|  498|\n",
      "|11361393|  498|\n",
      "| 2473055|  498|\n",
      "|  715022|  498|\n",
      "| 3043807|  497|\n",
      "| 1166020|  497|\n",
      "| 5611645|  497|\n",
      "|  584209|  497|\n",
      "| 1637995|  497|\n",
      "| 1005706|  496|\n",
      "| 1181850|  495|\n",
      "|    7905|  495|\n",
      "|  767281|  495|\n",
      "| 5194281|  495|\n",
      "| 1605395|  495|\n",
      "| 2310563|  495|\n",
      "+--------+-----+\n",
      "only showing top 20 rows\n",
      "\n"
     ]
    },
    {
     "name": "stderr",
     "output_type": "stream",
     "text": [
      "\r",
      "[Stage 24:=====================================================>  (21 + 1) / 22]\r",
      "\r",
      "                                                                                \r"
     ]
    }
   ],
   "source": [
    "df_indexed.groupby(df_indexed.session).agg(F.count(\"*\").alias('count')).orderBy(F.col(\"count\").desc()).show()"
   ]
  },
  {
   "cell_type": "markdown",
   "metadata": {},
   "source": [
    "* Clientes que mais compraram"
   ]
  },
  {
   "cell_type": "code",
   "execution_count": 19,
   "metadata": {
    "pycharm": {
     "name": "#%%\n"
    }
   },
   "outputs": [
    {
     "name": "stderr",
     "output_type": "stream",
     "text": [
      "[Stage 25:=====================================================>  (81 + 4) / 85]\r"
     ]
    },
    {
     "name": "stdout",
     "output_type": "stream",
     "text": [
      "+-------+-----+\n",
      "|session|count|\n",
      "+-------+-----+\n",
      "| 632727|  117|\n",
      "|6247320|  103|\n",
      "| 473286|  100|\n",
      "| 537589|   98|\n",
      "|5408461|   94|\n",
      "| 270870|   91|\n",
      "| 928030|   91|\n",
      "|6118385|   90|\n",
      "|  29693|   89|\n",
      "| 125743|   88|\n",
      "| 229448|   88|\n",
      "|2077637|   87|\n",
      "| 521545|   86|\n",
      "|8643943|   86|\n",
      "|2845568|   85|\n",
      "|6691353|   85|\n",
      "|1471672|   85|\n",
      "|5530900|   83|\n",
      "|1401588|   81|\n",
      "|1572771|   81|\n",
      "+-------+-----+\n",
      "only showing top 20 rows\n",
      "\n"
     ]
    },
    {
     "name": "stderr",
     "output_type": "stream",
     "text": [
      "\r",
      "                                                                                \r"
     ]
    }
   ],
   "source": [
    "df_indexed.filter(\"type_cat==2\").groupBy('session').agg(F.count('type_cat').alias('count')).orderBy(F.col('count').desc()).show()"
   ]
  },
  {
   "cell_type": "markdown",
   "metadata": {},
   "source": [
    "## Análise de Produtos"
   ]
  },
  {
   "cell_type": "markdown",
   "metadata": {},
   "source": [
    "* Quantidade de produtos únicos"
   ]
  },
  {
   "cell_type": "code",
   "execution_count": 20,
   "metadata": {
    "pycharm": {
     "name": "#%%\n"
    }
   },
   "outputs": [
    {
     "name": "stderr",
     "output_type": "stream",
     "text": [
      "                                                                                \r"
     ]
    },
    {
     "data": {
      "text/plain": [
       "1855603"
      ]
     },
     "execution_count": 20,
     "metadata": {},
     "output_type": "execute_result"
    }
   ],
   "source": [
    "df_indexed.select('aid').distinct().count()"
   ]
  },
  {
   "cell_type": "markdown",
   "metadata": {},
   "source": [
    "* Produtos mais comprados"
   ]
  },
  {
   "cell_type": "code",
   "execution_count": 21,
   "metadata": {
    "pycharm": {
     "name": "#%%\n"
    }
   },
   "outputs": [
    {
     "name": "stderr",
     "output_type": "stream",
     "text": [
      "[Stage 34:=======================================================>(84 + 1) / 85]\r"
     ]
    },
    {
     "name": "stdout",
     "output_type": "stream",
     "text": [
      "+-------+-----+\n",
      "|    aid|count|\n",
      "+-------+-----+\n",
      "| 231487| 4485|\n",
      "| 166037| 3824|\n",
      "|1733943| 3042|\n",
      "|1445562| 2998|\n",
      "|1022566| 2788|\n",
      "| 801774| 2710|\n",
      "|1629608| 2628|\n",
      "| 756588| 2593|\n",
      "| 332654| 2436|\n",
      "|1603001| 2353|\n",
      "| 409620| 2329|\n",
      "|1257293| 2273|\n",
      "|1125638| 2203|\n",
      "| 986164| 2192|\n",
      "|1083665| 2174|\n",
      "| 450505| 2137|\n",
      "| 544144| 2096|\n",
      "|1025795| 2071|\n",
      "| 125278| 2047|\n",
      "|  29735| 2007|\n",
      "+-------+-----+\n",
      "only showing top 20 rows\n",
      "\n"
     ]
    },
    {
     "name": "stderr",
     "output_type": "stream",
     "text": [
      "\r",
      "                                                                                \r"
     ]
    }
   ],
   "source": [
    "df_indexed.filter(\"type_cat==2\").groupBy('aid').agg(F.count('*').alias('count')).orderBy(F.col('count').desc()).show()"
   ]
  },
  {
   "cell_type": "markdown",
   "metadata": {},
   "source": [
    "* Produtos mais colocados em carrinho"
   ]
  },
  {
   "cell_type": "code",
   "execution_count": 22,
   "metadata": {
    "pycharm": {
     "name": "#%%\n"
    }
   },
   "outputs": [
    {
     "name": "stderr",
     "output_type": "stream",
     "text": [
      "[Stage 37:=====================================================>  (81 + 4) / 85]\r"
     ]
    },
    {
     "name": "stdout",
     "output_type": "stream",
     "text": [
      "+-------+-----+\n",
      "|    aid|count|\n",
      "+-------+-----+\n",
      "| 485256|29682|\n",
      "| 152547|18536|\n",
      "|  33343|14726|\n",
      "| 166037|13476|\n",
      "|1733943|10654|\n",
      "| 231487|10393|\n",
      "|  29735|10124|\n",
      "|1022566| 9338|\n",
      "| 832192| 8626|\n",
      "| 544144| 7407|\n",
      "| 554660| 7336|\n",
      "| 322370| 7298|\n",
      "|1562705| 7128|\n",
      "| 986164| 7005|\n",
      "|1083665| 6734|\n",
      "| 332654| 6679|\n",
      "|1629608| 6659|\n",
      "|1236775| 6224|\n",
      "| 756588| 6166|\n",
      "| 613493| 6111|\n",
      "+-------+-----+\n",
      "only showing top 20 rows\n",
      "\n"
     ]
    },
    {
     "name": "stderr",
     "output_type": "stream",
     "text": [
      "\r",
      "                                                                                \r"
     ]
    }
   ],
   "source": [
    "df_indexed.filter(\"type_cat==1\").groupBy('aid').agg(F.count('*').alias('count')).orderBy(F.col('count').desc()).show()"
   ]
  },
  {
   "cell_type": "markdown",
   "metadata": {},
   "source": [
    "* Produtos mais clicados"
   ]
  },
  {
   "cell_type": "code",
   "execution_count": 23,
   "metadata": {
    "pycharm": {
     "name": "#%%\n"
    }
   },
   "outputs": [
    {
     "name": "stderr",
     "output_type": "stream",
     "text": [
      "[Stage 42:=====================================>                  (14 + 7) / 21]\r"
     ]
    },
    {
     "name": "stdout",
     "output_type": "stream",
     "text": [
      "+-------+------+\n",
      "|    aid| count|\n",
      "+-------+------+\n",
      "|1460571|121287|\n",
      "| 108125|114456|\n",
      "|  29735|101148|\n",
      "| 485256| 97154|\n",
      "|1733943| 91395|\n",
      "| 184976| 85122|\n",
      "| 832192| 81127|\n",
      "|1502122| 73805|\n",
      "| 554660| 72161|\n",
      "|1603001| 68519|\n",
      "| 986164| 67791|\n",
      "| 166037| 67357|\n",
      "| 322370| 66729|\n",
      "|1236775| 66076|\n",
      "| 231487| 64994|\n",
      "| 959208| 63034|\n",
      "| 332654| 62617|\n",
      "|1196256| 62221|\n",
      "|  95488| 62023|\n",
      "| 620545| 60816|\n",
      "+-------+------+\n",
      "only showing top 20 rows\n",
      "\n"
     ]
    },
    {
     "name": "stderr",
     "output_type": "stream",
     "text": [
      "\r",
      "                                                                                \r"
     ]
    }
   ],
   "source": [
    "df_indexed.filter(\"type_cat==0\").groupBy('aid').agg(F.count('*').alias('count')).orderBy(F.col('count').desc()).show()"
   ]
  },
  {
   "cell_type": "markdown",
   "metadata": {},
   "source": [
    "* Escrita do dataset, em formato CSV, em única partição"
   ]
  },
  {
   "cell_type": "code",
   "execution_count": 24,
   "metadata": {
    "pycharm": {
     "name": "#%%\n"
    }
   },
   "outputs": [],
   "source": [
    "# df_indexed.coalesce(1)\\\n",
    "#         .write.format('csv')\\\n",
    "#         .option(\"header\", \"True\")\\\n",
    "#         .mode(\"overwrite\")\\\n",
    "#         .save('/'.join([os.getcwd(), 'test.csv']))\n",
    "\n",
    "spark.stop()"
   ]
  },
  {
   "cell_type": "markdown",
   "metadata": {},
   "source": [
    "## Colaborative Filtering\n"
   ]
  },
  {
   "cell_type": "markdown",
   "metadata": {},
   "source": [
    "* Função para listar arquivos em pasta com prefixo .csv"
   ]
  },
  {
   "cell_type": "code",
   "execution_count": 25,
   "metadata": {
    "pycharm": {
     "name": "#%%\n"
    }
   },
   "outputs": [
    {
     "data": {
      "text/plain": [
       "['part-00001-e6bfdd99-73da-4ebc-a420-d71150c63f00-c000.csv',\n",
       " 'part-00000-e6bfdd99-73da-4ebc-a420-d71150c63f00-c000.csv']"
      ]
     },
     "execution_count": 25,
     "metadata": {},
     "output_type": "execute_result"
    }
   ],
   "source": [
    "def list_csv_in_dir(path):\n",
    "    dir_path = '/'.join([os.getcwd(), path])\n",
    "    list_files = []\n",
    "    for path in os.scandir(dir_path):\n",
    "        if path.is_file():\n",
    "            if path.name.endswith('.csv'):\n",
    "                list_files.append(path.name)\n",
    "    return list_files\n",
    "list_files = list_csv_in_dir('data.csv')\n",
    "list_files"
   ]
  },
  {
   "cell_type": "markdown",
   "metadata": {},
   "source": [
    "* Leitura dos dados em um DataFrame"
   ]
  },
  {
   "cell_type": "code",
   "execution_count": 27,
   "metadata": {
    "pycharm": {
     "name": "#%%\n"
    }
   },
   "outputs": [
    {
     "data": {
      "text/html": [
       "<div>\n",
       "<style scoped>\n",
       "    .dataframe tbody tr th:only-of-type {\n",
       "        vertical-align: middle;\n",
       "    }\n",
       "\n",
       "    .dataframe tbody tr th {\n",
       "        vertical-align: top;\n",
       "    }\n",
       "\n",
       "    .dataframe thead th {\n",
       "        text-align: right;\n",
       "    }\n",
       "</style>\n",
       "<table border=\"1\" class=\"dataframe\">\n",
       "  <thead>\n",
       "    <tr style=\"text-align: right;\">\n",
       "      <th></th>\n",
       "      <th>session</th>\n",
       "      <th>aid</th>\n",
       "      <th>type_cat</th>\n",
       "    </tr>\n",
       "  </thead>\n",
       "  <tbody>\n",
       "    <tr>\n",
       "      <th>0</th>\n",
       "      <td>3983334</td>\n",
       "      <td>1668263</td>\n",
       "      <td>0</td>\n",
       "    </tr>\n",
       "    <tr>\n",
       "      <th>1</th>\n",
       "      <td>3983334</td>\n",
       "      <td>198635</td>\n",
       "      <td>0</td>\n",
       "    </tr>\n",
       "    <tr>\n",
       "      <th>2</th>\n",
       "      <td>3983334</td>\n",
       "      <td>75856</td>\n",
       "      <td>0</td>\n",
       "    </tr>\n",
       "    <tr>\n",
       "      <th>3</th>\n",
       "      <td>3983334</td>\n",
       "      <td>559635</td>\n",
       "      <td>0</td>\n",
       "    </tr>\n",
       "    <tr>\n",
       "      <th>4</th>\n",
       "      <td>3983335</td>\n",
       "      <td>1019238</td>\n",
       "      <td>0</td>\n",
       "    </tr>\n",
       "    <tr>\n",
       "      <th>5</th>\n",
       "      <td>3983335</td>\n",
       "      <td>1672025</td>\n",
       "      <td>0</td>\n",
       "    </tr>\n",
       "    <tr>\n",
       "      <th>6</th>\n",
       "      <td>3983335</td>\n",
       "      <td>1500899</td>\n",
       "      <td>0</td>\n",
       "    </tr>\n",
       "    <tr>\n",
       "      <th>7</th>\n",
       "      <td>3983335</td>\n",
       "      <td>1628617</td>\n",
       "      <td>0</td>\n",
       "    </tr>\n",
       "    <tr>\n",
       "      <th>8</th>\n",
       "      <td>3983335</td>\n",
       "      <td>246358</td>\n",
       "      <td>0</td>\n",
       "    </tr>\n",
       "    <tr>\n",
       "      <th>9</th>\n",
       "      <td>3983335</td>\n",
       "      <td>1628617</td>\n",
       "      <td>0</td>\n",
       "    </tr>\n",
       "    <tr>\n",
       "      <th>10</th>\n",
       "      <td>3983335</td>\n",
       "      <td>246358</td>\n",
       "      <td>0</td>\n",
       "    </tr>\n",
       "    <tr>\n",
       "      <th>11</th>\n",
       "      <td>3983335</td>\n",
       "      <td>1628617</td>\n",
       "      <td>0</td>\n",
       "    </tr>\n",
       "    <tr>\n",
       "      <th>12</th>\n",
       "      <td>3983335</td>\n",
       "      <td>711099</td>\n",
       "      <td>0</td>\n",
       "    </tr>\n",
       "    <tr>\n",
       "      <th>13</th>\n",
       "      <td>3983335</td>\n",
       "      <td>378827</td>\n",
       "      <td>0</td>\n",
       "    </tr>\n",
       "    <tr>\n",
       "      <th>14</th>\n",
       "      <td>3983335</td>\n",
       "      <td>493740</td>\n",
       "      <td>0</td>\n",
       "    </tr>\n",
       "    <tr>\n",
       "      <th>15</th>\n",
       "      <td>3983335</td>\n",
       "      <td>1611032</td>\n",
       "      <td>0</td>\n",
       "    </tr>\n",
       "    <tr>\n",
       "      <th>16</th>\n",
       "      <td>3983335</td>\n",
       "      <td>178829</td>\n",
       "      <td>1</td>\n",
       "    </tr>\n",
       "    <tr>\n",
       "      <th>17</th>\n",
       "      <td>3983335</td>\n",
       "      <td>1454889</td>\n",
       "      <td>1</td>\n",
       "    </tr>\n",
       "    <tr>\n",
       "      <th>18</th>\n",
       "      <td>3983335</td>\n",
       "      <td>178829</td>\n",
       "      <td>0</td>\n",
       "    </tr>\n",
       "    <tr>\n",
       "      <th>19</th>\n",
       "      <td>3983335</td>\n",
       "      <td>881286</td>\n",
       "      <td>0</td>\n",
       "    </tr>\n",
       "  </tbody>\n",
       "</table>\n",
       "</div>"
      ],
      "text/plain": [
       "    session      aid  type_cat\n",
       "0   3983334  1668263         0\n",
       "1   3983334   198635         0\n",
       "2   3983334    75856         0\n",
       "3   3983334   559635         0\n",
       "4   3983335  1019238         0\n",
       "5   3983335  1672025         0\n",
       "6   3983335  1500899         0\n",
       "7   3983335  1628617         0\n",
       "8   3983335   246358         0\n",
       "9   3983335  1628617         0\n",
       "10  3983335   246358         0\n",
       "11  3983335  1628617         0\n",
       "12  3983335   711099         0\n",
       "13  3983335   378827         0\n",
       "14  3983335   493740         0\n",
       "15  3983335  1611032         0\n",
       "16  3983335   178829         1\n",
       "17  3983335  1454889         1\n",
       "18  3983335   178829         0\n",
       "19  3983335   881286         0"
      ]
     },
     "execution_count": 27,
     "metadata": {},
     "output_type": "execute_result"
    }
   ],
   "source": [
    "path = '/'.join([os.getcwd(),'data.csv',list_files[0]])\n",
    "df = pd.read_csv(filepath_or_buffer=path, nrows=2000000)\n",
    "df = df.fillna(df.mode().iloc[0])\n",
    "df.head(20)"
   ]
  },
  {
   "cell_type": "markdown",
   "metadata": {},
   "source": [
    "* Reposicionando colunas para se adequar ao padrão do framework Fastai"
   ]
  },
  {
   "cell_type": "code",
   "execution_count": 28,
   "metadata": {
    "pycharm": {
     "name": "#%%\n"
    }
   },
   "outputs": [],
   "source": [
    "df = df[['session', 'aid', 'type_cat']]"
   ]
  },
  {
   "cell_type": "markdown",
   "metadata": {},
   "source": [
    "* Dividindo o Dataset em treino e teste"
   ]
  },
  {
   "cell_type": "code",
   "execution_count": 29,
   "metadata": {
    "pycharm": {
     "name": "#%%\n"
    }
   },
   "outputs": [],
   "source": [
    "from sklearn.model_selection import train_test_split\n",
    "train_df, test_df = train_test_split(df, test_size=0.3, shuffle=True, random_state=104)\n",
    "del df"
   ]
  },
  {
   "cell_type": "code",
   "execution_count": 30,
   "metadata": {
    "pycharm": {
     "name": "#%%\n"
    }
   },
   "outputs": [
    {
     "data": {
      "text/html": [
       "<div>\n",
       "<style scoped>\n",
       "    .dataframe tbody tr th:only-of-type {\n",
       "        vertical-align: middle;\n",
       "    }\n",
       "\n",
       "    .dataframe tbody tr th {\n",
       "        vertical-align: top;\n",
       "    }\n",
       "\n",
       "    .dataframe thead th {\n",
       "        text-align: right;\n",
       "    }\n",
       "</style>\n",
       "<table border=\"1\" class=\"dataframe\">\n",
       "  <thead>\n",
       "    <tr style=\"text-align: right;\">\n",
       "      <th></th>\n",
       "      <th>session</th>\n",
       "      <th>aid</th>\n",
       "      <th>type_cat</th>\n",
       "    </tr>\n",
       "  </thead>\n",
       "  <tbody>\n",
       "    <tr>\n",
       "      <th>371119</th>\n",
       "      <td>4002966</td>\n",
       "      <td>933530</td>\n",
       "      <td>0</td>\n",
       "    </tr>\n",
       "    <tr>\n",
       "      <th>1859605</th>\n",
       "      <td>4084066</td>\n",
       "      <td>1737348</td>\n",
       "      <td>0</td>\n",
       "    </tr>\n",
       "    <tr>\n",
       "      <th>218841</th>\n",
       "      <td>3995283</td>\n",
       "      <td>688602</td>\n",
       "      <td>0</td>\n",
       "    </tr>\n",
       "    <tr>\n",
       "      <th>606372</th>\n",
       "      <td>4015536</td>\n",
       "      <td>285096</td>\n",
       "      <td>0</td>\n",
       "    </tr>\n",
       "    <tr>\n",
       "      <th>1538856</th>\n",
       "      <td>4066733</td>\n",
       "      <td>206561</td>\n",
       "      <td>0</td>\n",
       "    </tr>\n",
       "  </tbody>\n",
       "</table>\n",
       "</div>"
      ],
      "text/plain": [
       "         session      aid  type_cat\n",
       "371119   4002966   933530         0\n",
       "1859605  4084066  1737348         0\n",
       "218841   3995283   688602         0\n",
       "606372   4015536   285096         0\n",
       "1538856  4066733   206561         0"
      ]
     },
     "execution_count": 30,
     "metadata": {},
     "output_type": "execute_result"
    }
   ],
   "source": [
    "train_df.head()"
   ]
  },
  {
   "cell_type": "code",
   "execution_count": 31,
   "metadata": {
    "pycharm": {
     "name": "#%%\n"
    }
   },
   "outputs": [
    {
     "data": {
      "text/html": [
       "<div>\n",
       "<style scoped>\n",
       "    .dataframe tbody tr th:only-of-type {\n",
       "        vertical-align: middle;\n",
       "    }\n",
       "\n",
       "    .dataframe tbody tr th {\n",
       "        vertical-align: top;\n",
       "    }\n",
       "\n",
       "    .dataframe thead th {\n",
       "        text-align: right;\n",
       "    }\n",
       "</style>\n",
       "<table border=\"1\" class=\"dataframe\">\n",
       "  <thead>\n",
       "    <tr style=\"text-align: right;\">\n",
       "      <th></th>\n",
       "      <th>session</th>\n",
       "      <th>aid</th>\n",
       "      <th>type_cat</th>\n",
       "    </tr>\n",
       "  </thead>\n",
       "  <tbody>\n",
       "    <tr>\n",
       "      <th>68860</th>\n",
       "      <td>3987145</td>\n",
       "      <td>1224794</td>\n",
       "      <td>1</td>\n",
       "    </tr>\n",
       "    <tr>\n",
       "      <th>962017</th>\n",
       "      <td>4034883</td>\n",
       "      <td>419628</td>\n",
       "      <td>0</td>\n",
       "    </tr>\n",
       "    <tr>\n",
       "      <th>1186264</th>\n",
       "      <td>4047485</td>\n",
       "      <td>416172</td>\n",
       "      <td>0</td>\n",
       "    </tr>\n",
       "    <tr>\n",
       "      <th>302814</th>\n",
       "      <td>3999536</td>\n",
       "      <td>231487</td>\n",
       "      <td>0</td>\n",
       "    </tr>\n",
       "    <tr>\n",
       "      <th>803153</th>\n",
       "      <td>4026200</td>\n",
       "      <td>1685214</td>\n",
       "      <td>0</td>\n",
       "    </tr>\n",
       "  </tbody>\n",
       "</table>\n",
       "</div>"
      ],
      "text/plain": [
       "         session      aid  type_cat\n",
       "68860    3987145  1224794         1\n",
       "962017   4034883   419628         0\n",
       "1186264  4047485   416172         0\n",
       "302814   3999536   231487         0\n",
       "803153   4026200  1685214         0"
      ]
     },
     "execution_count": 31,
     "metadata": {},
     "output_type": "execute_result"
    }
   ],
   "source": [
    "test_df.head()"
   ]
  },
  {
   "cell_type": "markdown",
   "metadata": {},
   "source": [
    "* Carga em CollabDLS"
   ]
  },
  {
   "cell_type": "code",
   "execution_count": 32,
   "metadata": {
    "pycharm": {
     "is_executing": true,
     "name": "#%%\n"
    }
   },
   "outputs": [
    {
     "data": {
      "text/html": [
       "<table border=\"1\" class=\"dataframe\">\n",
       "  <thead>\n",
       "    <tr style=\"text-align: right;\">\n",
       "      <th></th>\n",
       "      <th>session</th>\n",
       "      <th>aid</th>\n",
       "      <th>type_cat</th>\n",
       "    </tr>\n",
       "  </thead>\n",
       "  <tbody>\n",
       "    <tr>\n",
       "      <th>0</th>\n",
       "      <td>4029609</td>\n",
       "      <td>46400</td>\n",
       "      <td>2</td>\n",
       "    </tr>\n",
       "    <tr>\n",
       "      <th>1</th>\n",
       "      <td>4026130</td>\n",
       "      <td>1537866</td>\n",
       "      <td>0</td>\n",
       "    </tr>\n",
       "    <tr>\n",
       "      <th>2</th>\n",
       "      <td>4004682</td>\n",
       "      <td>1560585</td>\n",
       "      <td>0</td>\n",
       "    </tr>\n",
       "    <tr>\n",
       "      <th>3</th>\n",
       "      <td>4062727</td>\n",
       "      <td>967233</td>\n",
       "      <td>1</td>\n",
       "    </tr>\n",
       "    <tr>\n",
       "      <th>4</th>\n",
       "      <td>4086185</td>\n",
       "      <td>194308</td>\n",
       "      <td>0</td>\n",
       "    </tr>\n",
       "    <tr>\n",
       "      <th>5</th>\n",
       "      <td>3985752</td>\n",
       "      <td>1573047</td>\n",
       "      <td>0</td>\n",
       "    </tr>\n",
       "    <tr>\n",
       "      <th>6</th>\n",
       "      <td>4043501</td>\n",
       "      <td>221265</td>\n",
       "      <td>1</td>\n",
       "    </tr>\n",
       "    <tr>\n",
       "      <th>7</th>\n",
       "      <td>4074386</td>\n",
       "      <td>385065</td>\n",
       "      <td>0</td>\n",
       "    </tr>\n",
       "    <tr>\n",
       "      <th>8</th>\n",
       "      <td>4009100</td>\n",
       "      <td>1604220</td>\n",
       "      <td>0</td>\n",
       "    </tr>\n",
       "    <tr>\n",
       "      <th>9</th>\n",
       "      <td>4011536</td>\n",
       "      <td>1164435</td>\n",
       "      <td>0</td>\n",
       "    </tr>\n",
       "  </tbody>\n",
       "</table>"
      ],
      "text/plain": [
       "<IPython.core.display.HTML object>"
      ]
     },
     "metadata": {},
     "output_type": "display_data"
    }
   ],
   "source": [
    "from fastai.collab import *\n",
    "dls = CollabDataLoaders.from_df(train_df, item_name='aid', bs=1024)\n",
    "dls.train.show_batch()"
   ]
  },
  {
   "cell_type": "code",
   "execution_count": 33,
   "metadata": {
    "pycharm": {
     "name": "#%%\n"
    }
   },
   "outputs": [
    {
     "data": {
      "text/plain": [
       "\"{'session': ['#na#', 3983334, 3983335, 3983336, 3983337, 3983338, 3983339, 3983340, 3983341, 3983342, 3983343, 3983344, 3983345, 3983346, 3983347, 3983348, 3983349, 3983350, 3983351, 3983352, 3983353,\""
      ]
     },
     "execution_count": 33,
     "metadata": {},
     "output_type": "execute_result"
    }
   ],
   "source": [
    "str(dls.classes)[:200]"
   ]
  },
  {
   "cell_type": "markdown",
   "metadata": {},
   "source": [
    "* Sugestão de taxa de aprendizado"
   ]
  },
  {
   "cell_type": "code",
   "execution_count": 35,
   "metadata": {
    "pycharm": {
     "name": "#%%\n"
    }
   },
   "outputs": [
    {
     "data": {
      "text/html": [
       "\n",
       "<style>\n",
       "    /* Turns off some styling */\n",
       "    progress {\n",
       "        /* gets rid of default border in Firefox and Opera. */\n",
       "        border: none;\n",
       "        /* Needs to be in here for Safari polyfill so background images work as expected. */\n",
       "        background-size: auto;\n",
       "    }\n",
       "    progress:not([value]), progress:not([value])::-webkit-progress-bar {\n",
       "        background: repeating-linear-gradient(45deg, #7e7e7e, #7e7e7e 10px, #5c5c5c 10px, #5c5c5c 20px);\n",
       "    }\n",
       "    .progress-bar-interrupted, .progress-bar-interrupted::-webkit-progress-bar {\n",
       "        background: #F44336;\n",
       "    }\n",
       "</style>\n"
      ],
      "text/plain": [
       "<IPython.core.display.HTML object>"
      ]
     },
     "metadata": {},
     "output_type": "display_data"
    },
    {
     "data": {
      "text/html": [],
      "text/plain": [
       "<IPython.core.display.HTML object>"
      ]
     },
     "metadata": {},
     "output_type": "display_data"
    },
    {
     "name": "stdout",
     "output_type": "stream",
     "text": [
      "SuggestedLRs(valley=0.02290867641568184)\n",
      "Learning Rate:  0.02290867641568184\n"
     ]
    },
    {
     "data": {
      "image/png": "[encoded data removed]",
      "text/plain": [
       "<Figure size 640x480 with 1 Axes>"
      ]
     },
     "metadata": {},
     "output_type": "display_data"
    }
   ],
   "source": [
    "learn = collab_learner(dls, n_factors=5, y_range=(0, 3.5))\n",
    "lr_rate = learn.lr_find()\n",
    "print(lr_rate)\n",
    "lr=(lr_rate[0])\n",
    "print('Learning Rate: ',lr)"
   ]
  },
  {
   "cell_type": "markdown",
   "metadata": {},
   "source": [
    "* Treinamento do modelo"
   ]
  },
  {
   "cell_type": "code",
   "execution_count": 37,
   "metadata": {
    "pycharm": {
     "name": "#%%\n"
    }
   },
   "outputs": [
    {
     "data": {
      "text/html": [
       "\n",
       "<style>\n",
       "    /* Turns off some styling */\n",
       "    progress {\n",
       "        /* gets rid of default border in Firefox and Opera. */\n",
       "        border: none;\n",
       "        /* Needs to be in here for Safari polyfill so background images work as expected. */\n",
       "        background-size: auto;\n",
       "    }\n",
       "    progress:not([value]), progress:not([value])::-webkit-progress-bar {\n",
       "        background: repeating-linear-gradient(45deg, #7e7e7e, #7e7e7e 10px, #5c5c5c 10px, #5c5c5c 20px);\n",
       "    }\n",
       "    .progress-bar-interrupted, .progress-bar-interrupted::-webkit-progress-bar {\n",
       "        background: #F44336;\n",
       "    }\n",
       "</style>\n"
      ],
      "text/plain": [
       "<IPython.core.display.HTML object>"
      ]
     },
     "metadata": {},
     "output_type": "display_data"
    },
    {
     "data": {
      "text/html": [
       "<table border=\"1\" class=\"dataframe\">\n",
       "  <thead>\n",
       "    <tr style=\"text-align: left;\">\n",
       "      <th>epoch</th>\n",
       "      <th>train_loss</th>\n",
       "      <th>valid_loss</th>\n",
       "      <th>time</th>\n",
       "    </tr>\n",
       "  </thead>\n",
       "  <tbody>\n",
       "    <tr>\n",
       "      <td>0</td>\n",
       "      <td>0.363568</td>\n",
       "      <td>0.443931</td>\n",
       "      <td>00:13</td>\n",
       "    </tr>\n",
       "    <tr>\n",
       "      <td>1</td>\n",
       "      <td>0.250039</td>\n",
       "      <td>0.305049</td>\n",
       "      <td>00:15</td>\n",
       "    </tr>\n",
       "    <tr>\n",
       "      <td>2</td>\n",
       "      <td>0.187528</td>\n",
       "      <td>0.270822</td>\n",
       "      <td>00:19</td>\n",
       "    </tr>\n",
       "    <tr>\n",
       "      <td>3</td>\n",
       "      <td>0.156639</td>\n",
       "      <td>0.266532</td>\n",
       "      <td>00:18</td>\n",
       "    </tr>\n",
       "    <tr>\n",
       "      <td>4</td>\n",
       "      <td>0.140322</td>\n",
       "      <td>0.266607</td>\n",
       "      <td>00:19</td>\n",
       "    </tr>\n",
       "    <tr>\n",
       "      <td>5</td>\n",
       "      <td>0.128551</td>\n",
       "      <td>0.266973</td>\n",
       "      <td>00:18</td>\n",
       "    </tr>\n",
       "    <tr>\n",
       "      <td>6</td>\n",
       "      <td>0.118113</td>\n",
       "      <td>0.269231</td>\n",
       "      <td>00:16</td>\n",
       "    </tr>\n",
       "    <tr>\n",
       "      <td>7</td>\n",
       "      <td>0.108440</td>\n",
       "      <td>0.271916</td>\n",
       "      <td>00:14</td>\n",
       "    </tr>\n",
       "    <tr>\n",
       "      <td>8</td>\n",
       "      <td>0.096966</td>\n",
       "      <td>0.273762</td>\n",
       "      <td>00:13</td>\n",
       "    </tr>\n",
       "    <tr>\n",
       "      <td>9</td>\n",
       "      <td>0.091332</td>\n",
       "      <td>0.274051</td>\n",
       "      <td>00:11</td>\n",
       "    </tr>\n",
       "  </tbody>\n",
       "</table>"
      ],
      "text/plain": [
       "<IPython.core.display.HTML object>"
      ]
     },
     "metadata": {},
     "output_type": "display_data"
    }
   ],
   "source": [
    "learn.fit_one_cycle(10, lr)"
   ]
  },
  {
   "cell_type": "markdown",
   "metadata": {},
   "source": [
    "* Resultado do treinamento"
   ]
  },
  {
   "cell_type": "code",
   "execution_count": 41,
   "metadata": {
    "pycharm": {
     "name": "#%%\n"
    }
   },
   "outputs": [
    {
     "data": {
      "text/html": [
       "\n",
       "<style>\n",
       "    /* Turns off some styling */\n",
       "    progress {\n",
       "        /* gets rid of default border in Firefox and Opera. */\n",
       "        border: none;\n",
       "        /* Needs to be in here for Safari polyfill so background images work as expected. */\n",
       "        background-size: auto;\n",
       "    }\n",
       "    progress:not([value]), progress:not([value])::-webkit-progress-bar {\n",
       "        background: repeating-linear-gradient(45deg, #7e7e7e, #7e7e7e 10px, #5c5c5c 10px, #5c5c5c 20px);\n",
       "    }\n",
       "    .progress-bar-interrupted, .progress-bar-interrupted::-webkit-progress-bar {\n",
       "        background: #F44336;\n",
       "    }\n",
       "</style>\n"
      ],
      "text/plain": [
       "<IPython.core.display.HTML object>"
      ]
     },
     "metadata": {},
     "output_type": "display_data"
    },
    {
     "data": {
      "text/html": [],
      "text/plain": [
       "<IPython.core.display.HTML object>"
      ]
     },
     "metadata": {},
     "output_type": "display_data"
    },
    {
     "data": {
      "text/html": [
       "<table border=\"1\" class=\"dataframe\">\n",
       "  <thead>\n",
       "    <tr style=\"text-align: right;\">\n",
       "      <th></th>\n",
       "      <th>session</th>\n",
       "      <th>aid</th>\n",
       "      <th>type_cat</th>\n",
       "      <th>type_cat_pred</th>\n",
       "    </tr>\n",
       "  </thead>\n",
       "  <tbody>\n",
       "    <tr>\n",
       "      <th>0</th>\n",
       "      <td>85856</td>\n",
       "      <td>108414</td>\n",
       "      <td>0</td>\n",
       "      <td>0.070616</td>\n",
       "    </tr>\n",
       "    <tr>\n",
       "      <th>1</th>\n",
       "      <td>37517</td>\n",
       "      <td>24049</td>\n",
       "      <td>2</td>\n",
       "      <td>0.542122</td>\n",
       "    </tr>\n",
       "    <tr>\n",
       "      <th>2</th>\n",
       "      <td>90298</td>\n",
       "      <td>57821</td>\n",
       "      <td>0</td>\n",
       "      <td>0.237704</td>\n",
       "    </tr>\n",
       "    <tr>\n",
       "      <th>3</th>\n",
       "      <td>84249</td>\n",
       "      <td>307828</td>\n",
       "      <td>0</td>\n",
       "      <td>0.198043</td>\n",
       "    </tr>\n",
       "    <tr>\n",
       "      <th>4</th>\n",
       "      <td>38553</td>\n",
       "      <td>176831</td>\n",
       "      <td>0</td>\n",
       "      <td>0.374463</td>\n",
       "    </tr>\n",
       "    <tr>\n",
       "      <th>5</th>\n",
       "      <td>16237</td>\n",
       "      <td>109055</td>\n",
       "      <td>0</td>\n",
       "      <td>0.270299</td>\n",
       "    </tr>\n",
       "    <tr>\n",
       "      <th>6</th>\n",
       "      <td>34152</td>\n",
       "      <td>105465</td>\n",
       "      <td>0</td>\n",
       "      <td>0.886329</td>\n",
       "    </tr>\n",
       "    <tr>\n",
       "      <th>7</th>\n",
       "      <td>87608</td>\n",
       "      <td>182628</td>\n",
       "      <td>0</td>\n",
       "      <td>0.107478</td>\n",
       "    </tr>\n",
       "    <tr>\n",
       "      <th>8</th>\n",
       "      <td>61814</td>\n",
       "      <td>219944</td>\n",
       "      <td>0</td>\n",
       "      <td>0.073866</td>\n",
       "    </tr>\n",
       "  </tbody>\n",
       "</table>"
      ],
      "text/plain": [
       "<IPython.core.display.HTML object>"
      ]
     },
     "metadata": {},
     "output_type": "display_data"
    }
   ],
   "source": [
    "learn.show_results()"
   ]
  },
  {
   "cell_type": "markdown",
   "metadata": {},
   "source": [
    "* Análise de argumentos utilizados pelo CollaborativeFiltering"
   ]
  },
  {
   "cell_type": "code",
   "execution_count": 42,
   "metadata": {
    "pycharm": {
     "name": "#%%\n"
    }
   },
   "outputs": [
    {
     "name": "stdout",
     "output_type": "stream",
     "text": [
      "User_bias:  tensor([-4.0833e-04, -9.7270e-01, -2.7936e+00,  ..., -1.5469e+00, -8.6124e-01, -1.3168e+00], grad_fn \n",
      "Lenght:  103632\n",
      "\n",
      "Users_biases_idxs:  tensor([26547, 79280, 39877,  ..., 23506, 18188, 42222]) \n",
      "Lenght:  103632\n",
      "\n",
      "Value in Users_biases_idxs:  [4011077, 4066328, 4025051, 4017320, 4036811, 4036988, 4005960, 3989463, 4006567, 4030996, 4010000,  \n",
      "Lenght:  103632\n",
      "\n",
      "Item_bias:  tensor([-9.5174e-04, -2.5355e-01, -1.3728e+00,  ..., -4.7397e-01, -1.0598e+00, -5.8486e-01], grad_fn \n",
      "Lenght:  323710\n",
      "\n",
      "Item_biases_idxs:  tensor([208876,   2829, 308858,  ..., 252262, 185646,  16665]) \n",
      "Lenght:  323710\n",
      "\n",
      "Value in Item_biases_idxs:  [1200182, 15972, 1770937, 752064, 826931, 120593, 334639, 1592578, 901576, 353918, 108631, 577850, 9 \n",
      "Lenght:  323710\n",
      "\n"
     ]
    }
   ],
   "source": [
    "users_bias = learn.model.u_bias.weight.squeeze()\n",
    "print('User_bias: ', str(users_bias)[:100], '\\nLenght: ', len(users_bias))\n",
    "print()\n",
    "\n",
    "user_idxs = users_bias.argsort(descending=True)[:]\n",
    "print('Users_biases_idxs: ', str(user_idxs)[:100], '\\nLenght: ', len(user_idxs))\n",
    "print()\n",
    "\n",
    "users_values = [dls.classes['session'][i] for i in user_idxs]\n",
    "print('Value in Users_biases_idxs: ', str(users_values)[:100], '\\nLenght: ',len(users_values))\n",
    "print()\n",
    "\n",
    "item_bias = learn.model.i_bias.weight.squeeze()\n",
    "print('Item_bias: ', str(item_bias)[:100],'\\nLenght: ', len(item_bias))\n",
    "print()\n",
    "\n",
    "item_idxs = item_bias.argsort(descending=True)[:]\n",
    "print('Item_biases_idxs: ', str(item_idxs)[:100],'\\nLenght: ', len(item_idxs))\n",
    "print()\n",
    "\n",
    "item_values = [dls.classes['aid'][i] for i in item_idxs]\n",
    "print('Value in Item_biases_idxs: ', str(item_values)[:100], '\\nLenght: ', len(item_values))\n",
    "print()"
   ]
  },
  {
   "cell_type": "markdown",
   "metadata": {},
   "source": [
    "* Exportação do modelo treinado"
   ]
  },
  {
   "cell_type": "code",
   "execution_count": 43,
   "metadata": {
    "pycharm": {
     "name": "#%%\n"
    }
   },
   "outputs": [
    {
     "data": {
      "text/plain": [
       "Path('models/collab_model_light.pth')"
      ]
     },
     "execution_count": 43,
     "metadata": {},
     "output_type": "execute_result"
    }
   ],
   "source": [
    "learn.save(\"collab_model_light\")"
   ]
  },
  {
   "cell_type": "markdown",
   "metadata": {},
   "source": [
    "## Predição"
   ]
  },
  {
   "cell_type": "markdown",
   "metadata": {},
   "source": [
    "* Caputura de path"
   ]
  },
  {
   "cell_type": "code",
   "execution_count": 44,
   "metadata": {
    "pycharm": {
     "is_executing": true,
     "name": "#%%\n"
    }
   },
   "outputs": [
    {
     "data": {
      "text/plain": [
       "['part-00000-984d7694-fcfb-4478-9d92-365147c91c54-c000.csv']"
      ]
     },
     "execution_count": 44,
     "metadata": {},
     "output_type": "execute_result"
    }
   ],
   "source": [
    "list_files = list_csv_in_dir('test.csv')\n",
    "list_files"
   ]
  },
  {
   "cell_type": "markdown",
   "metadata": {},
   "source": [
    "* Carga em DataFrame de validação"
   ]
  },
  {
   "cell_type": "code",
   "execution_count": 45,
   "metadata": {
    "pycharm": {
     "name": "#%%\n"
    }
   },
   "outputs": [
    {
     "data": {
      "text/html": [
       "<div>\n",
       "<style scoped>\n",
       "    .dataframe tbody tr th:only-of-type {\n",
       "        vertical-align: middle;\n",
       "    }\n",
       "\n",
       "    .dataframe tbody tr th {\n",
       "        vertical-align: top;\n",
       "    }\n",
       "\n",
       "    .dataframe thead th {\n",
       "        text-align: right;\n",
       "    }\n",
       "</style>\n",
       "<table border=\"1\" class=\"dataframe\">\n",
       "  <thead>\n",
       "    <tr style=\"text-align: right;\">\n",
       "      <th></th>\n",
       "      <th>session</th>\n",
       "      <th>aid</th>\n",
       "      <th>type_cat</th>\n",
       "    </tr>\n",
       "  </thead>\n",
       "  <tbody>\n",
       "    <tr>\n",
       "      <th>0</th>\n",
       "      <td>12899779</td>\n",
       "      <td>59625</td>\n",
       "      <td>0</td>\n",
       "    </tr>\n",
       "    <tr>\n",
       "      <th>1</th>\n",
       "      <td>12899780</td>\n",
       "      <td>1142000</td>\n",
       "      <td>0</td>\n",
       "    </tr>\n",
       "    <tr>\n",
       "      <th>2</th>\n",
       "      <td>12899780</td>\n",
       "      <td>582732</td>\n",
       "      <td>0</td>\n",
       "    </tr>\n",
       "    <tr>\n",
       "      <th>3</th>\n",
       "      <td>12899780</td>\n",
       "      <td>973453</td>\n",
       "      <td>0</td>\n",
       "    </tr>\n",
       "    <tr>\n",
       "      <th>4</th>\n",
       "      <td>12899780</td>\n",
       "      <td>736515</td>\n",
       "      <td>0</td>\n",
       "    </tr>\n",
       "    <tr>\n",
       "      <th>5</th>\n",
       "      <td>12899780</td>\n",
       "      <td>1142000</td>\n",
       "      <td>0</td>\n",
       "    </tr>\n",
       "    <tr>\n",
       "      <th>6</th>\n",
       "      <td>12899781</td>\n",
       "      <td>141736</td>\n",
       "      <td>0</td>\n",
       "    </tr>\n",
       "    <tr>\n",
       "      <th>7</th>\n",
       "      <td>12899781</td>\n",
       "      <td>199008</td>\n",
       "      <td>0</td>\n",
       "    </tr>\n",
       "    <tr>\n",
       "      <th>8</th>\n",
       "      <td>12899781</td>\n",
       "      <td>57315</td>\n",
       "      <td>0</td>\n",
       "    </tr>\n",
       "    <tr>\n",
       "      <th>9</th>\n",
       "      <td>12899781</td>\n",
       "      <td>194067</td>\n",
       "      <td>0</td>\n",
       "    </tr>\n",
       "    <tr>\n",
       "      <th>10</th>\n",
       "      <td>12899781</td>\n",
       "      <td>199008</td>\n",
       "      <td>0</td>\n",
       "    </tr>\n",
       "    <tr>\n",
       "      <th>11</th>\n",
       "      <td>12899781</td>\n",
       "      <td>199008</td>\n",
       "      <td>0</td>\n",
       "    </tr>\n",
       "    <tr>\n",
       "      <th>12</th>\n",
       "      <td>12899781</td>\n",
       "      <td>199008</td>\n",
       "      <td>1</td>\n",
       "    </tr>\n",
       "    <tr>\n",
       "      <th>13</th>\n",
       "      <td>12899781</td>\n",
       "      <td>199008</td>\n",
       "      <td>0</td>\n",
       "    </tr>\n",
       "    <tr>\n",
       "      <th>14</th>\n",
       "      <td>12899781</td>\n",
       "      <td>199008</td>\n",
       "      <td>0</td>\n",
       "    </tr>\n",
       "    <tr>\n",
       "      <th>15</th>\n",
       "      <td>12899781</td>\n",
       "      <td>199008</td>\n",
       "      <td>0</td>\n",
       "    </tr>\n",
       "    <tr>\n",
       "      <th>16</th>\n",
       "      <td>12899781</td>\n",
       "      <td>918667</td>\n",
       "      <td>0</td>\n",
       "    </tr>\n",
       "    <tr>\n",
       "      <th>17</th>\n",
       "      <td>12899782</td>\n",
       "      <td>1669402</td>\n",
       "      <td>0</td>\n",
       "    </tr>\n",
       "    <tr>\n",
       "      <th>18</th>\n",
       "      <td>12899782</td>\n",
       "      <td>1494780</td>\n",
       "      <td>0</td>\n",
       "    </tr>\n",
       "    <tr>\n",
       "      <th>19</th>\n",
       "      <td>12899782</td>\n",
       "      <td>1494780</td>\n",
       "      <td>0</td>\n",
       "    </tr>\n",
       "  </tbody>\n",
       "</table>\n",
       "</div>"
      ],
      "text/plain": [
       "     session      aid  type_cat\n",
       "0   12899779    59625         0\n",
       "1   12899780  1142000         0\n",
       "2   12899780   582732         0\n",
       "3   12899780   973453         0\n",
       "4   12899780   736515         0\n",
       "5   12899780  1142000         0\n",
       "6   12899781   141736         0\n",
       "7   12899781   199008         0\n",
       "8   12899781    57315         0\n",
       "9   12899781   194067         0\n",
       "10  12899781   199008         0\n",
       "11  12899781   199008         0\n",
       "12  12899781   199008         1\n",
       "13  12899781   199008         0\n",
       "14  12899781   199008         0\n",
       "15  12899781   199008         0\n",
       "16  12899781   918667         0\n",
       "17  12899782  1669402         0\n",
       "18  12899782  1494780         0\n",
       "19  12899782  1494780         0"
      ]
     },
     "execution_count": 45,
     "metadata": {},
     "output_type": "execute_result"
    }
   ],
   "source": [
    "path = '/'.join([os.getcwd(),'test.csv',list_files[0]])\n",
    "df_test = pd.read_csv(filepath_or_buffer=path)\n",
    "df_test = df_test.fillna(df_test.mode().iloc[0])\n",
    "df_test.head(20)"
   ]
  },
  {
   "cell_type": "markdown",
   "metadata": {},
   "source": [
    "* Carga em DataLoader de validação"
   ]
  },
  {
   "cell_type": "code",
   "execution_count": 29,
   "metadata": {
    "pycharm": {
     "name": "#%%\n"
    }
   },
   "outputs": [],
   "source": [
    "from fastai.collab import *\n",
    "dls_test = CollabDataLoaders.from_df(df_test , item_name='aid', bs=1024)"
   ]
  },
  {
   "cell_type": "markdown",
   "metadata": {},
   "source": [
    "* Carga de modelo treinado"
   ]
  },
  {
   "cell_type": "code",
   "execution_count": 30,
   "metadata": {},
   "outputs": [],
   "source": [
    "learn = collab_learner(dls_test, y_range=(0, 3.5))"
   ]
  },
  {
   "cell_type": "code",
   "execution_count": 37,
   "metadata": {
    "pycharm": {
     "name": "#%%\n"
    }
   },
   "outputs": [
    {
     "ename": "RuntimeError",
     "evalue": "Error(s) in loading state_dict for EmbeddingDotBias:\n\tsize mismatch for u_weight.weight: copying a param with shape torch.Size([8383060, 2]) from checkpoint, the shape in current model is torch.Size([1508744, 50]).\n\tsize mismatch for i_weight.weight: copying a param with shape torch.Size([1746848, 2]) from checkpoint, the shape in current model is torch.Size([722381, 50]).\n\tsize mismatch for u_bias.weight: copying a param with shape torch.Size([8383060, 1]) from checkpoint, the shape in current model is torch.Size([1508744, 1]).\n\tsize mismatch for i_bias.weight: copying a param with shape torch.Size([1746848, 1]) from checkpoint, the shape in current model is torch.Size([722381, 1]).",
     "output_type": "error",
     "traceback": [
      "\u001B[0;31m---------------------------------------------------------------------------\u001B[0m",
      "\u001B[0;31mRuntimeError\u001B[0m                              Traceback (most recent call last)",
      "Cell \u001B[0;32mIn [37], line 1\u001B[0m\n\u001B[0;32m----> 1\u001B[0m learn_load \u001B[38;5;241m=\u001B[39m \u001B[43mlearn\u001B[49m\u001B[38;5;241;43m.\u001B[39;49m\u001B[43mload\u001B[49m\u001B[43m(\u001B[49m\u001B[38;5;124;43m'\u001B[39;49m\u001B[38;5;124;43mcollab_model\u001B[39;49m\u001B[38;5;124;43m'\u001B[39;49m\u001B[43m)\u001B[49m\n",
      "File \u001B[0;32m~/Documents/UnB/mlops/venv/lib/python3.10/site-packages/fastai/learner.py:411\u001B[0m, in \u001B[0;36mload\u001B[0;34m(self, file, device, **kwargs)\u001B[0m\n\u001B[1;32m    409\u001B[0m \u001B[38;5;28;01mif\u001B[39;00m \u001B[38;5;28mself\u001B[39m\u001B[38;5;241m.\u001B[39mopt \u001B[38;5;129;01mis\u001B[39;00m \u001B[38;5;28;01mNone\u001B[39;00m: \u001B[38;5;28mself\u001B[39m\u001B[38;5;241m.\u001B[39mcreate_opt()\n\u001B[1;32m    410\u001B[0m file \u001B[38;5;241m=\u001B[39m join_path_file(file, \u001B[38;5;28mself\u001B[39m\u001B[38;5;241m.\u001B[39mpath\u001B[38;5;241m/\u001B[39m\u001B[38;5;28mself\u001B[39m\u001B[38;5;241m.\u001B[39mmodel_dir, ext\u001B[38;5;241m=\u001B[39m\u001B[38;5;124m'\u001B[39m\u001B[38;5;124m.pth\u001B[39m\u001B[38;5;124m'\u001B[39m)\n\u001B[0;32m--> 411\u001B[0m \u001B[43mload_model\u001B[49m\u001B[43m(\u001B[49m\u001B[43mfile\u001B[49m\u001B[43m,\u001B[49m\u001B[43m \u001B[49m\u001B[38;5;28;43mself\u001B[39;49m\u001B[38;5;241;43m.\u001B[39;49m\u001B[43mmodel\u001B[49m\u001B[43m,\u001B[49m\u001B[43m \u001B[49m\u001B[38;5;28;43mself\u001B[39;49m\u001B[38;5;241;43m.\u001B[39;49m\u001B[43mopt\u001B[49m\u001B[43m,\u001B[49m\u001B[43m \u001B[49m\u001B[43mdevice\u001B[49m\u001B[38;5;241;43m=\u001B[39;49m\u001B[43mdevice\u001B[49m\u001B[43m,\u001B[49m\u001B[43m \u001B[49m\u001B[38;5;241;43m*\u001B[39;49m\u001B[38;5;241;43m*\u001B[39;49m\u001B[43mkwargs\u001B[49m\u001B[43m)\u001B[49m\n\u001B[1;32m    412\u001B[0m nested_attr(\u001B[38;5;28mself\u001B[39m, \u001B[38;5;124m\"\u001B[39m\u001B[38;5;124maccelerator.wait_for_everyone\u001B[39m\u001B[38;5;124m\"\u001B[39m, noop)()\n\u001B[1;32m    413\u001B[0m \u001B[38;5;28;01mreturn\u001B[39;00m \u001B[38;5;28mself\u001B[39m\n",
      "File \u001B[0;32m~/Documents/UnB/mlops/venv/lib/python3.10/site-packages/fastai/learner.py:53\u001B[0m, in \u001B[0;36mload_model\u001B[0;34m(file, model, opt, with_opt, device, strict, **torch_load_kwargs)\u001B[0m\n\u001B[1;32m     51\u001B[0m hasopt \u001B[38;5;241m=\u001B[39m \u001B[38;5;28mset\u001B[39m(state)\u001B[38;5;241m==\u001B[39m{\u001B[38;5;124m'\u001B[39m\u001B[38;5;124mmodel\u001B[39m\u001B[38;5;124m'\u001B[39m, \u001B[38;5;124m'\u001B[39m\u001B[38;5;124mopt\u001B[39m\u001B[38;5;124m'\u001B[39m}\n\u001B[1;32m     52\u001B[0m model_state \u001B[38;5;241m=\u001B[39m state[\u001B[38;5;124m'\u001B[39m\u001B[38;5;124mmodel\u001B[39m\u001B[38;5;124m'\u001B[39m] \u001B[38;5;28;01mif\u001B[39;00m hasopt \u001B[38;5;28;01melse\u001B[39;00m state\n\u001B[0;32m---> 53\u001B[0m \u001B[43mget_model\u001B[49m\u001B[43m(\u001B[49m\u001B[43mmodel\u001B[49m\u001B[43m)\u001B[49m\u001B[38;5;241;43m.\u001B[39;49m\u001B[43mload_state_dict\u001B[49m\u001B[43m(\u001B[49m\u001B[43mmodel_state\u001B[49m\u001B[43m,\u001B[49m\u001B[43m \u001B[49m\u001B[43mstrict\u001B[49m\u001B[38;5;241;43m=\u001B[39;49m\u001B[43mstrict\u001B[49m\u001B[43m)\u001B[49m\n\u001B[1;32m     54\u001B[0m \u001B[38;5;28;01mif\u001B[39;00m hasopt \u001B[38;5;129;01mand\u001B[39;00m with_opt:\n\u001B[1;32m     55\u001B[0m     \u001B[38;5;28;01mtry\u001B[39;00m: opt\u001B[38;5;241m.\u001B[39mload_state_dict(state[\u001B[38;5;124m'\u001B[39m\u001B[38;5;124mopt\u001B[39m\u001B[38;5;124m'\u001B[39m])\n",
      "File \u001B[0;32m~/Documents/UnB/mlops/venv/lib/python3.10/site-packages/torch/nn/modules/module.py:1667\u001B[0m, in \u001B[0;36mModule.load_state_dict\u001B[0;34m(self, state_dict, strict)\u001B[0m\n\u001B[1;32m   1662\u001B[0m         error_msgs\u001B[38;5;241m.\u001B[39minsert(\n\u001B[1;32m   1663\u001B[0m             \u001B[38;5;241m0\u001B[39m, \u001B[38;5;124m'\u001B[39m\u001B[38;5;124mMissing key(s) in state_dict: \u001B[39m\u001B[38;5;132;01m{}\u001B[39;00m\u001B[38;5;124m. \u001B[39m\u001B[38;5;124m'\u001B[39m\u001B[38;5;241m.\u001B[39mformat(\n\u001B[1;32m   1664\u001B[0m                 \u001B[38;5;124m'\u001B[39m\u001B[38;5;124m, \u001B[39m\u001B[38;5;124m'\u001B[39m\u001B[38;5;241m.\u001B[39mjoin(\u001B[38;5;124m'\u001B[39m\u001B[38;5;124m\"\u001B[39m\u001B[38;5;132;01m{}\u001B[39;00m\u001B[38;5;124m\"\u001B[39m\u001B[38;5;124m'\u001B[39m\u001B[38;5;241m.\u001B[39mformat(k) \u001B[38;5;28;01mfor\u001B[39;00m k \u001B[38;5;129;01min\u001B[39;00m missing_keys)))\n\u001B[1;32m   1666\u001B[0m \u001B[38;5;28;01mif\u001B[39;00m \u001B[38;5;28mlen\u001B[39m(error_msgs) \u001B[38;5;241m>\u001B[39m \u001B[38;5;241m0\u001B[39m:\n\u001B[0;32m-> 1667\u001B[0m     \u001B[38;5;28;01mraise\u001B[39;00m \u001B[38;5;167;01mRuntimeError\u001B[39;00m(\u001B[38;5;124m'\u001B[39m\u001B[38;5;124mError(s) in loading state_dict for \u001B[39m\u001B[38;5;132;01m{}\u001B[39;00m\u001B[38;5;124m:\u001B[39m\u001B[38;5;130;01m\\n\u001B[39;00m\u001B[38;5;130;01m\\t\u001B[39;00m\u001B[38;5;132;01m{}\u001B[39;00m\u001B[38;5;124m'\u001B[39m\u001B[38;5;241m.\u001B[39mformat(\n\u001B[1;32m   1668\u001B[0m                        \u001B[38;5;28mself\u001B[39m\u001B[38;5;241m.\u001B[39m\u001B[38;5;18m__class__\u001B[39m\u001B[38;5;241m.\u001B[39m\u001B[38;5;18m__name__\u001B[39m, \u001B[38;5;124m\"\u001B[39m\u001B[38;5;130;01m\\n\u001B[39;00m\u001B[38;5;130;01m\\t\u001B[39;00m\u001B[38;5;124m\"\u001B[39m\u001B[38;5;241m.\u001B[39mjoin(error_msgs)))\n\u001B[1;32m   1669\u001B[0m \u001B[38;5;28;01mreturn\u001B[39;00m _IncompatibleKeys(missing_keys, unexpected_keys)\n",
      "\u001B[0;31mRuntimeError\u001B[0m: Error(s) in loading state_dict for EmbeddingDotBias:\n\tsize mismatch for u_weight.weight: copying a param with shape torch.Size([8383060, 2]) from checkpoint, the shape in current model is torch.Size([1508744, 50]).\n\tsize mismatch for i_weight.weight: copying a param with shape torch.Size([1746848, 2]) from checkpoint, the shape in current model is torch.Size([722381, 50]).\n\tsize mismatch for u_bias.weight: copying a param with shape torch.Size([8383060, 1]) from checkpoint, the shape in current model is torch.Size([1508744, 1]).\n\tsize mismatch for i_bias.weight: copying a param with shape torch.Size([1746848, 1]) from checkpoint, the shape in current model is torch.Size([722381, 1])."
     ]
    }
   ],
   "source": [
    "learn_load = learn.load('collab_model')"
   ]
  },
  {
   "cell_type": "markdown",
   "metadata": {},
   "source": [
    "* Classe para obtenção de predições para um usuário específico"
   ]
  },
  {
   "cell_type": "code",
   "execution_count": null,
   "metadata": {
    "pycharm": {
     "name": "#%%\n"
    }
   },
   "outputs": [],
   "source": [
    "import numpy as np\n",
    "class UserRatings:\n",
    "    def __init__(self, user_id=None, all_items=None):\n",
    "        self.user_id = user_id\n",
    "        self.all_items = all_items\n",
    "\n",
    "    def create_dict(self):\n",
    "        array = np.arange(0, len((self.all_items)), 1)\n",
    "        return dict(zip(self.all_items, array))\n",
    "\n",
    "    def create_df(self, learner):\n",
    "        new_df = pd.DataFrame()\n",
    "        # include all items\n",
    "        new_df[\"aid\"] = self.all_items\n",
    "        # define a user\n",
    "        new_df[\"session\"] = self.user_id\n",
    "        # create the fastai test object\n",
    "        dl = learner.dls.test_dl(new_df)\n",
    "        # safe the predictions in a new column\n",
    "        print(learner.get_preds(dl=dl)[0])\n",
    "        new_df[\"rating\"] = learner.get_preds(dl=dl)[0]\n",
    "        print(new_df.sort_values(by='rating', ascending=False))\n",
    "        # reduce the dataframe to the 100 top rated movie predictions\n",
    "        return new_df.nlargest(20, \"rating\")\n",
    "\n",
    "def exec_write_submission_file(user_id, list_aid, learn):\n",
    "    ur = UserRatings(user_id, list_aid)\n",
    "    user_pred_df = ur.create_df(learn)\n",
    "    aid_values = str(' '.join(list(user_pred_df.aid.astype(str).values)))\n",
    "    file.write(f\"{user_id}_clicks,{aid_values}\\n\")\n",
    "    file.write(f\"{user_id}_carts,{aid_values}\\n\")\n",
    "    file.write(f\"{user_id}_orders,{aid_values}\\n\")"
   ]
  },
  {
   "cell_type": "markdown",
   "metadata": {},
   "source": [
    "* Paralelização de escrita de resultado para submissão em competição Kaggle"
   ]
  },
  {
   "cell_type": "code",
   "execution_count": null,
   "metadata": {
    "pycharm": {
     "name": "#%%\n"
    }
   },
   "outputs": [],
   "source": [
    "import multiprocessing as mp\n",
    "from joblib import Parallel, delayed\n",
    "from tqdm import tqdm\n",
    "\n",
    "list_aid = df_test.aid.unique()\n",
    "num_cores = mp.cpu_count()\n",
    "pool = mp.Pool(num_cores)\n",
    "inputs = tqdm(df_test.session.unique())\n",
    "file = open(\"submit.csv\", \"a\")\n",
    "Parallel(n_jobs=num_cores, backend='threading')(delayed(exec_write_submission_file)(user_id, list_aid, learn, file) for user_id in inputs)\n",
    "file.close()\n"
   ]
  },
  {
   "cell_type": "markdown",
   "metadata": {
    "pycharm": {
     "name": "#%% md\n"
    }
   },
   "source": [
    "# Referências Bibliográficas\n",
    "\n",
    "> https://github.com/Kaggle/kaggle-api, acessado em 24/01/2023.\n",
    "\n",
    "> https://www.youtube.com/watch?v=aBNQzWV_UmE, acessado em 24/01/2023.\n",
    "\n",
    "> https://databricks-prod-cloudfront.cloud.databricks.com/public/4027ec902e239c93eaaa8714f173bcfc/968100988546031/157591980591166/8836542754149149/latest.html, acessado em 25/01/2023.\n",
    "\n",
    "> https://blog.clairvoyantsoft.com/apache-spark-out-of-memory-issue-b63c7987fff, acessado em 25/01/2023.\n",
    "\n",
    "> https://spark.apache.org/docs/latest/api/python/getting_started/quickstart_ps.html, acessado em 26/01/2023.\n",
    "\n",
    "> https://docs.fast.ai/collab.html, acessado em 24/01/2023.\n",
    "\n",
    "> https://course.fast.ai/Lessons/lesson7.html, acessado em 24/01/2023.\n",
    "\n",
    "> https://github.com/fastai/fastbook/blob/master/08_collab.ipynb, acessado em 24/01/2023."
   ]
  }
 ],
 "metadata": {
  "colab": {
   "provenance": [],
   "toc_visible": true
  },
  "gpuClass": "standard",
  "jupytext": {
   "split_at_heading": true
  },
  "kernelspec": {
   "display_name": "Python 3 (ipykernel)",
   "language": "python",
   "name": "python3"
  },
  "language_info": {
   "codemirror_mode": {
    "name": "ipython",
    "version": 3
   },
   "file_extension": ".py",
   "mimetype": "text/x-python",
   "name": "python",
   "nbconvert_exporter": "python",
   "pygments_lexer": "ipython3",
   "version": "3.10.6"
  }
 },
 "nbformat": 4,
 "nbformat_minor": 1
}